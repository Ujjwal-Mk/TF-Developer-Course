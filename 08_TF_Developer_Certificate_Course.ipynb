{
 "cells": [
  {
   "cell_type": "code",
   "execution_count": 1,
   "metadata": {
    "colab": {
     "base_uri": "https://localhost:8080/"
    },
    "id": "-Rj7sBkxRK6G",
    "outputId": "1f3a17ef-f667-43a2-f5ba-2605f6f6b1f6",
    "ExecuteTime": {
     "end_time": "2024-01-02T18:13:06.673513956Z",
     "start_time": "2024-01-02T18:13:04.220018518Z"
    }
   },
   "outputs": [],
   "source": [
    "import os\n",
    "os.environ['TF_CPP_MIN_LOG_LEVEL'] = '3'\n",
    "import tensorflow as tf"
   ]
  },
  {
   "cell_type": "code",
   "execution_count": 2,
   "metadata": {
    "colab": {
     "base_uri": "https://localhost:8080/"
    },
    "id": "W67y0phrRQnz",
    "outputId": "42ed52f4-ad7a-4358-be20-5d6bd952469d",
    "ExecuteTime": {
     "end_time": "2024-01-02T18:13:07.176602899Z",
     "start_time": "2024-01-02T18:13:06.672889063Z"
    }
   },
   "outputs": [
    {
     "name": "stdout",
     "output_type": "stream",
     "text": [
      "[INFO] 'helper_functions.py' already exists, skipping download.\n"
     ]
    }
   ],
   "source": [
    "import os\n",
    "\n",
    "if not os.path.exists(\"helper_functions.py\"):\n",
    "  !wget https://raw.githubusercontent.com/mrdbourke/tensorflow-deep-learning/main/extras/helper_functions.py\n",
    "else:\n",
    "  print(\"[INFO] 'helper_functions.py' already exists, skipping download.\")\n",
    "\n",
    "# Import series of helper functions for the notebook (we've created/used these in previous notebooks)\n",
    "from helper_functions import importTensorflow, unzip_data, create_tensorboard_callback, plot_loss_curves, compare_historys, calculate_results"
   ]
  },
  {
   "cell_type": "code",
   "execution_count": 3,
   "metadata": {
    "ExecuteTime": {
     "end_time": "2024-01-02T18:13:08.132007380Z",
     "start_time": "2024-01-02T18:13:07.915793845Z"
    }
   },
   "outputs": [
    {
     "name": "stdout",
     "output_type": "stream",
     "text": [
      "2.13.0\n",
      "1 Physical GPUs, 1 Logical GPUs\n",
      "INFO:tensorflow:Mixed precision compatibility check (mixed_float16): OK\n",
      "Your GPU will likely run quickly with dtype policy mixed_float16 as it has compute capability of at least 7.0. Your GPU: NVIDIA GeForce RTX 3050 Laptop GPU, compute capability 8.6\n",
      "<Policy \"mixed_float16\">\n"
     ]
    }
   ],
   "source": [
    "importTensorflow(memory=4090, precision=True)"
   ]
  },
  {
   "cell_type": "markdown",
   "metadata": {
    "id": "V5L-H4otpgvS"
   },
   "source": [
    "We will be using RNN to train textual information\n",
    "\n",
    "**Basic Structure of RNN**\n",
    "* Input layer\n",
    "* text_vectorizer(input)\n",
    "* embedding(x)\n",
    "* LSTM -> activation = tanh\n",
    "* output_Dense -> activation = sigmoid"
   ]
  },
  {
   "cell_type": "markdown",
   "metadata": {
    "id": "h0eqNb9Nsyzi"
   },
   "source": [
    "### Get the text dataset"
   ]
  },
  {
   "cell_type": "code",
   "execution_count": 4,
   "metadata": {
    "colab": {
     "base_uri": "https://localhost:8080/"
    },
    "id": "t2Fp9BY2pkCZ",
    "outputId": "9e45db91-9899-42d4-e2ce-e20a3b3f6ec4",
    "ExecuteTime": {
     "end_time": "2024-01-02T18:13:18.613217282Z",
     "start_time": "2024-01-02T18:13:16.775034252Z"
    }
   },
   "outputs": [
    {
     "name": "stdout",
     "output_type": "stream",
     "text": [
      "--2024-01-02 23:43:16--  https://storage.googleapis.com/ztm_tf_course/nlp_getting_started.zip\r\n",
      "Resolving storage.googleapis.com (storage.googleapis.com)... 2404:6800:4007:82b::201b, 2404:6800:4007:828::201b, 2404:6800:4007:829::201b, ...\r\n",
      "Connecting to storage.googleapis.com (storage.googleapis.com)|2404:6800:4007:82b::201b|:443... connected.\r\n",
      "HTTP request sent, awaiting response... 200 OK\r\n",
      "Length: 607343 (593K) [application/zip]\r\n",
      "Saving to: ‘nlp_getting_started.zip’\r\n",
      "\r\n",
      "nlp_getting_started 100%[===================>] 593.11K   554KB/s    in 1.1s    \r\n",
      "\r\n",
      "2024-01-02 23:43:18 (554 KB/s) - ‘nlp_getting_started.zip’ saved [607343/607343]\r\n",
      "\r\n"
     ]
    }
   ],
   "source": [
    "if not os.path.exists(\"nlp_getting_started.zip\"):\n",
    "    !wget https://storage.googleapis.com/ztm_tf_course/nlp_getting_started.zip\n",
    "    unzip_data(\"nlp_getting_started.zip\")\n",
    "else:\n",
    "  print(\"[INFO] already exists, skipping download.\")"
   ]
  },
  {
   "cell_type": "markdown",
   "metadata": {
    "id": "_rzD1DRKtRlJ"
   },
   "source": [
    "### Visualizing a text dataset"
   ]
  },
  {
   "cell_type": "code",
   "execution_count": 5,
   "metadata": {
    "id": "qyWmNLXTtC_x",
    "ExecuteTime": {
     "end_time": "2024-01-02T18:13:20.374146949Z",
     "start_time": "2024-01-02T18:13:20.298928146Z"
    }
   },
   "outputs": [],
   "source": [
    "import pandas as pd\n",
    "train_df = pd.read_csv(\"train.csv\")\n",
    "test_df = pd.read_csv(\"test.csv\")"
   ]
  },
  {
   "cell_type": "code",
   "execution_count": 6,
   "metadata": {
    "colab": {
     "base_uri": "https://localhost:8080/",
     "height": 359
    },
    "id": "BoTo82yJt4no",
    "outputId": "42f9155e-4b7b-4493-d674-529bf9b33799",
    "ExecuteTime": {
     "end_time": "2024-01-02T18:13:21.231608506Z",
     "start_time": "2024-01-02T18:13:21.178022192Z"
    }
   },
   "outputs": [
    {
     "data": {
      "text/plain": "   id keyword location                                               text  \\\n0   1     NaN      NaN  Our Deeds are the Reason of this #earthquake M...   \n1   4     NaN      NaN             Forest fire near La Ronge Sask. Canada   \n2   5     NaN      NaN  All residents asked to 'shelter in place' are ...   \n3   6     NaN      NaN  13,000 people receive #wildfires evacuation or...   \n4   7     NaN      NaN  Just got sent this photo from Ruby #Alaska as ...   \n5   8     NaN      NaN  #RockyFire Update => California Hwy. 20 closed...   \n6  10     NaN      NaN  #flood #disaster Heavy rain causes flash flood...   \n7  13     NaN      NaN  I'm on top of the hill and I can see a fire in...   \n8  14     NaN      NaN  There's an emergency evacuation happening now ...   \n9  15     NaN      NaN  I'm afraid that the tornado is coming to our a...   \n\n   target  \n0       1  \n1       1  \n2       1  \n3       1  \n4       1  \n5       1  \n6       1  \n7       1  \n8       1  \n9       1  ",
      "text/html": "<div>\n<style scoped>\n    .dataframe tbody tr th:only-of-type {\n        vertical-align: middle;\n    }\n\n    .dataframe tbody tr th {\n        vertical-align: top;\n    }\n\n    .dataframe thead th {\n        text-align: right;\n    }\n</style>\n<table border=\"1\" class=\"dataframe\">\n  <thead>\n    <tr style=\"text-align: right;\">\n      <th></th>\n      <th>id</th>\n      <th>keyword</th>\n      <th>location</th>\n      <th>text</th>\n      <th>target</th>\n    </tr>\n  </thead>\n  <tbody>\n    <tr>\n      <th>0</th>\n      <td>1</td>\n      <td>NaN</td>\n      <td>NaN</td>\n      <td>Our Deeds are the Reason of this #earthquake M...</td>\n      <td>1</td>\n    </tr>\n    <tr>\n      <th>1</th>\n      <td>4</td>\n      <td>NaN</td>\n      <td>NaN</td>\n      <td>Forest fire near La Ronge Sask. Canada</td>\n      <td>1</td>\n    </tr>\n    <tr>\n      <th>2</th>\n      <td>5</td>\n      <td>NaN</td>\n      <td>NaN</td>\n      <td>All residents asked to 'shelter in place' are ...</td>\n      <td>1</td>\n    </tr>\n    <tr>\n      <th>3</th>\n      <td>6</td>\n      <td>NaN</td>\n      <td>NaN</td>\n      <td>13,000 people receive #wildfires evacuation or...</td>\n      <td>1</td>\n    </tr>\n    <tr>\n      <th>4</th>\n      <td>7</td>\n      <td>NaN</td>\n      <td>NaN</td>\n      <td>Just got sent this photo from Ruby #Alaska as ...</td>\n      <td>1</td>\n    </tr>\n    <tr>\n      <th>5</th>\n      <td>8</td>\n      <td>NaN</td>\n      <td>NaN</td>\n      <td>#RockyFire Update =&gt; California Hwy. 20 closed...</td>\n      <td>1</td>\n    </tr>\n    <tr>\n      <th>6</th>\n      <td>10</td>\n      <td>NaN</td>\n      <td>NaN</td>\n      <td>#flood #disaster Heavy rain causes flash flood...</td>\n      <td>1</td>\n    </tr>\n    <tr>\n      <th>7</th>\n      <td>13</td>\n      <td>NaN</td>\n      <td>NaN</td>\n      <td>I'm on top of the hill and I can see a fire in...</td>\n      <td>1</td>\n    </tr>\n    <tr>\n      <th>8</th>\n      <td>14</td>\n      <td>NaN</td>\n      <td>NaN</td>\n      <td>There's an emergency evacuation happening now ...</td>\n      <td>1</td>\n    </tr>\n    <tr>\n      <th>9</th>\n      <td>15</td>\n      <td>NaN</td>\n      <td>NaN</td>\n      <td>I'm afraid that the tornado is coming to our a...</td>\n      <td>1</td>\n    </tr>\n  </tbody>\n</table>\n</div>"
     },
     "execution_count": 6,
     "metadata": {},
     "output_type": "execute_result"
    }
   ],
   "source": [
    "train_df.head(10)"
   ]
  },
  {
   "cell_type": "code",
   "execution_count": 7,
   "metadata": {
    "colab": {
     "base_uri": "https://localhost:8080/",
     "height": 359
    },
    "id": "5ImBTHVft6K2",
    "outputId": "03de4f67-1175-471c-a854-9fae6608be73",
    "ExecuteTime": {
     "end_time": "2024-01-02T18:13:22.350959468Z",
     "start_time": "2024-01-02T18:13:22.278138852Z"
    }
   },
   "outputs": [
    {
     "data": {
      "text/plain": "        id      keyword               location  \\\n2644  3796  destruction                    NaN   \n2227  3185       deluge                    NaN   \n5448  7769       police                     UK   \n132    191   aftershock                    NaN   \n6845  9810       trauma  Montgomery County, MD   \n5559  7934    rainstorm                    NaN   \n1765  2538    collision                    NaN   \n1817  2611      crashed                    NaN   \n6810  9756      tragedy        Los Angeles, CA   \n4398  6254    hijacking          Athens,Greece   \n\n                                                   text  target  \n2644  So you have a new weapon that can cause un-ima...       1  \n2227  The f$&amp;@ing things I do for #GISHWHES Just...       0  \n5448  DT @georgegalloway: RT @Galloway4Mayor: ÛÏThe...       1  \n132   Aftershock back to school kick off was great. ...       0  \n6845  in response to trauma Children of Addicts deve...       0  \n5559  @Calum5SOS you look like you got caught in a r...       0  \n1765  my favorite lady came to our volunteer meeting...       1  \n1817  @brianroemmele UX fail of EMV - people want to...       1  \n6810  Can't find my ariana grande shirt  this is a f...       0  \n4398  The Murderous Story Of AmericaÛªs First Hijac...       1  ",
      "text/html": "<div>\n<style scoped>\n    .dataframe tbody tr th:only-of-type {\n        vertical-align: middle;\n    }\n\n    .dataframe tbody tr th {\n        vertical-align: top;\n    }\n\n    .dataframe thead th {\n        text-align: right;\n    }\n</style>\n<table border=\"1\" class=\"dataframe\">\n  <thead>\n    <tr style=\"text-align: right;\">\n      <th></th>\n      <th>id</th>\n      <th>keyword</th>\n      <th>location</th>\n      <th>text</th>\n      <th>target</th>\n    </tr>\n  </thead>\n  <tbody>\n    <tr>\n      <th>2644</th>\n      <td>3796</td>\n      <td>destruction</td>\n      <td>NaN</td>\n      <td>So you have a new weapon that can cause un-ima...</td>\n      <td>1</td>\n    </tr>\n    <tr>\n      <th>2227</th>\n      <td>3185</td>\n      <td>deluge</td>\n      <td>NaN</td>\n      <td>The f$&amp;amp;@ing things I do for #GISHWHES Just...</td>\n      <td>0</td>\n    </tr>\n    <tr>\n      <th>5448</th>\n      <td>7769</td>\n      <td>police</td>\n      <td>UK</td>\n      <td>DT @georgegalloway: RT @Galloway4Mayor: ÛÏThe...</td>\n      <td>1</td>\n    </tr>\n    <tr>\n      <th>132</th>\n      <td>191</td>\n      <td>aftershock</td>\n      <td>NaN</td>\n      <td>Aftershock back to school kick off was great. ...</td>\n      <td>0</td>\n    </tr>\n    <tr>\n      <th>6845</th>\n      <td>9810</td>\n      <td>trauma</td>\n      <td>Montgomery County, MD</td>\n      <td>in response to trauma Children of Addicts deve...</td>\n      <td>0</td>\n    </tr>\n    <tr>\n      <th>5559</th>\n      <td>7934</td>\n      <td>rainstorm</td>\n      <td>NaN</td>\n      <td>@Calum5SOS you look like you got caught in a r...</td>\n      <td>0</td>\n    </tr>\n    <tr>\n      <th>1765</th>\n      <td>2538</td>\n      <td>collision</td>\n      <td>NaN</td>\n      <td>my favorite lady came to our volunteer meeting...</td>\n      <td>1</td>\n    </tr>\n    <tr>\n      <th>1817</th>\n      <td>2611</td>\n      <td>crashed</td>\n      <td>NaN</td>\n      <td>@brianroemmele UX fail of EMV - people want to...</td>\n      <td>1</td>\n    </tr>\n    <tr>\n      <th>6810</th>\n      <td>9756</td>\n      <td>tragedy</td>\n      <td>Los Angeles, CA</td>\n      <td>Can't find my ariana grande shirt  this is a f...</td>\n      <td>0</td>\n    </tr>\n    <tr>\n      <th>4398</th>\n      <td>6254</td>\n      <td>hijacking</td>\n      <td>Athens,Greece</td>\n      <td>The Murderous Story Of AmericaÛªs First Hijac...</td>\n      <td>1</td>\n    </tr>\n  </tbody>\n</table>\n</div>"
     },
     "execution_count": 7,
     "metadata": {},
     "output_type": "execute_result"
    }
   ],
   "source": [
    "#Shuffle to train data\n",
    "train_df_shuffled = train_df.sample(frac=1, random_state=42)\n",
    "train_df_shuffled.head(10)"
   ]
  },
  {
   "cell_type": "code",
   "execution_count": 8,
   "metadata": {
    "colab": {
     "base_uri": "https://localhost:8080/",
     "height": 359
    },
    "id": "2wbB2XBBuUsd",
    "outputId": "0c9bade6-2760-4830-b9b1-3f4e1cdeef42",
    "ExecuteTime": {
     "end_time": "2024-01-02T18:13:24.515514983Z",
     "start_time": "2024-01-02T18:13:24.465066058Z"
    }
   },
   "outputs": [
    {
     "data": {
      "text/plain": "   id keyword location                                               text\n0   0     NaN      NaN                 Just happened a terrible car crash\n1   2     NaN      NaN  Heard about #earthquake is different cities, s...\n2   3     NaN      NaN  there is a forest fire at spot pond, geese are...\n3   9     NaN      NaN           Apocalypse lighting. #Spokane #wildfires\n4  11     NaN      NaN      Typhoon Soudelor kills 28 in China and Taiwan\n5  12     NaN      NaN                 We're shaking...It's an earthquake\n6  21     NaN      NaN  They'd probably still show more life than Arse...\n7  22     NaN      NaN                                  Hey! How are you?\n8  27     NaN      NaN                                   What a nice hat?\n9  29     NaN      NaN                                          Fuck off!",
      "text/html": "<div>\n<style scoped>\n    .dataframe tbody tr th:only-of-type {\n        vertical-align: middle;\n    }\n\n    .dataframe tbody tr th {\n        vertical-align: top;\n    }\n\n    .dataframe thead th {\n        text-align: right;\n    }\n</style>\n<table border=\"1\" class=\"dataframe\">\n  <thead>\n    <tr style=\"text-align: right;\">\n      <th></th>\n      <th>id</th>\n      <th>keyword</th>\n      <th>location</th>\n      <th>text</th>\n    </tr>\n  </thead>\n  <tbody>\n    <tr>\n      <th>0</th>\n      <td>0</td>\n      <td>NaN</td>\n      <td>NaN</td>\n      <td>Just happened a terrible car crash</td>\n    </tr>\n    <tr>\n      <th>1</th>\n      <td>2</td>\n      <td>NaN</td>\n      <td>NaN</td>\n      <td>Heard about #earthquake is different cities, s...</td>\n    </tr>\n    <tr>\n      <th>2</th>\n      <td>3</td>\n      <td>NaN</td>\n      <td>NaN</td>\n      <td>there is a forest fire at spot pond, geese are...</td>\n    </tr>\n    <tr>\n      <th>3</th>\n      <td>9</td>\n      <td>NaN</td>\n      <td>NaN</td>\n      <td>Apocalypse lighting. #Spokane #wildfires</td>\n    </tr>\n    <tr>\n      <th>4</th>\n      <td>11</td>\n      <td>NaN</td>\n      <td>NaN</td>\n      <td>Typhoon Soudelor kills 28 in China and Taiwan</td>\n    </tr>\n    <tr>\n      <th>5</th>\n      <td>12</td>\n      <td>NaN</td>\n      <td>NaN</td>\n      <td>We're shaking...It's an earthquake</td>\n    </tr>\n    <tr>\n      <th>6</th>\n      <td>21</td>\n      <td>NaN</td>\n      <td>NaN</td>\n      <td>They'd probably still show more life than Arse...</td>\n    </tr>\n    <tr>\n      <th>7</th>\n      <td>22</td>\n      <td>NaN</td>\n      <td>NaN</td>\n      <td>Hey! How are you?</td>\n    </tr>\n    <tr>\n      <th>8</th>\n      <td>27</td>\n      <td>NaN</td>\n      <td>NaN</td>\n      <td>What a nice hat?</td>\n    </tr>\n    <tr>\n      <th>9</th>\n      <td>29</td>\n      <td>NaN</td>\n      <td>NaN</td>\n      <td>Fuck off!</td>\n    </tr>\n  </tbody>\n</table>\n</div>"
     },
     "execution_count": 8,
     "metadata": {},
     "output_type": "execute_result"
    }
   ],
   "source": [
    "# test_data\n",
    "test_df.head(10)"
   ]
  },
  {
   "cell_type": "code",
   "execution_count": 9,
   "metadata": {
    "colab": {
     "base_uri": "https://localhost:8080/"
    },
    "id": "VFNWm50cubJ8",
    "outputId": "aa2581ec-ec4e-447d-bcfd-d9beb8717732",
    "ExecuteTime": {
     "end_time": "2024-01-02T18:13:25.102601309Z",
     "start_time": "2024-01-02T18:13:24.970725775Z"
    }
   },
   "outputs": [
    {
     "data": {
      "text/plain": "target\n0    4342\n1    3271\nName: count, dtype: int64"
     },
     "execution_count": 9,
     "metadata": {},
     "output_type": "execute_result"
    }
   ],
   "source": [
    "#How many examples in each class\n",
    "train_df.target.value_counts()"
   ]
  },
  {
   "cell_type": "code",
   "execution_count": 10,
   "metadata": {
    "colab": {
     "base_uri": "https://localhost:8080/"
    },
    "id": "DA79OdN4umTy",
    "outputId": "507f1634-dd9b-4c98-8d57-2a00d0decde7",
    "ExecuteTime": {
     "end_time": "2024-01-02T18:13:25.984230968Z",
     "start_time": "2024-01-02T18:13:25.923015393Z"
    }
   },
   "outputs": [
    {
     "name": "stdout",
     "output_type": "stream",
     "text": [
      "6886\n",
      "Target: 1, (real disaster)\n",
      "Text:\n",
      "Horrible Accident  Man Died In Wings of Airplane (29-07-2015) http://t.co/i7kZtevb2v\n",
      "\n",
      "---\n",
      "Target: 1, (real disaster)\n",
      "Text:\n",
      "Wreckage 'Conclusively Confirmed' as From MH370: Malaysia PM: Investigators and the families of those who were... http://t.co/MSsq0sVnBM\n",
      "\n",
      "---\n",
      "Target: 1, (real disaster)\n",
      "Text:\n",
      "Russian 'food crematoria' provoke outrage amid crisis famine memories - Yahoo News http://t.co/6siiRlnV6z\n",
      "\n",
      "---\n",
      "Target: 1, (real disaster)\n",
      "Text:\n",
      "The ol' meltdown victory for the Mets.\n",
      "\n",
      "---\n",
      "Target: 1, (real disaster)\n",
      "Text:\n",
      "More Natural Disaster Research Urgent http://t.co/5Cm0LfZhxn via #JakartaPost\n",
      "\n",
      "---\n"
     ]
    }
   ],
   "source": [
    "# visualise some random training examples\n",
    "import random\n",
    "random_index = random.randint(0,len(train_df)-5)\n",
    "print(random_index)\n",
    "for row in train_df_shuffled[['text','target']][random_index:random_index+5].itertuples():\n",
    "  index,text,target = row\n",
    "  print(f\"Target: {target}, {'(real disaster)' if target > 0 else '(not a real disaster)'}\")\n",
    "  print(f\"Text:\\n{text}\\n\")\n",
    "  print(\"---\")"
   ]
  },
  {
   "cell_type": "code",
   "execution_count": 11,
   "metadata": {
    "colab": {
     "base_uri": "https://localhost:8080/"
    },
    "id": "MSRuczOy1Hze",
    "outputId": "be2ce9c4-1f4f-40a5-f885-a15dcb36971c",
    "ExecuteTime": {
     "end_time": "2024-01-02T18:13:28.438872828Z",
     "start_time": "2024-01-02T18:13:28.389782730Z"
    }
   },
   "outputs": [
    {
     "data": {
      "text/plain": "7613"
     },
     "execution_count": 11,
     "metadata": {},
     "output_type": "execute_result"
    }
   ],
   "source": [
    "len(train_df_shuffled)"
   ]
  },
  {
   "cell_type": "code",
   "execution_count": 12,
   "metadata": {
    "id": "5ilKeV5jwa0E",
    "ExecuteTime": {
     "end_time": "2024-01-02T18:13:29.388403204Z",
     "start_time": "2024-01-02T18:13:29.325338061Z"
    }
   },
   "outputs": [],
   "source": [
    "#Splitting the data to create validation -> (train + validation)\n",
    "from sklearn.model_selection import train_test_split\n",
    "train_sentences, val_sentences, train_labels, val_labels = train_test_split(train_df_shuffled[\"text\"].to_numpy(),\n",
    "                                                                            train_df_shuffled[\"target\"].to_numpy(),\n",
    "                                                                            test_size=0.1,\n",
    "                                                                            random_state=42)"
   ]
  },
  {
   "cell_type": "code",
   "execution_count": 13,
   "metadata": {
    "colab": {
     "base_uri": "https://localhost:8080/"
    },
    "id": "4b2LtkKK08Rd",
    "outputId": "e485da7f-324c-432d-f666-fbb8abb214a9",
    "ExecuteTime": {
     "end_time": "2024-01-02T18:13:30.303716331Z",
     "start_time": "2024-01-02T18:13:30.232061684Z"
    }
   },
   "outputs": [
    {
     "data": {
      "text/plain": "(6851, 6851, 762, 762)"
     },
     "execution_count": 13,
     "metadata": {},
     "output_type": "execute_result"
    }
   ],
   "source": [
    "#Check length\n",
    "len(train_sentences),len(train_labels),len(val_sentences),len(val_labels)"
   ]
  },
  {
   "cell_type": "code",
   "execution_count": 14,
   "metadata": {
    "colab": {
     "base_uri": "https://localhost:8080/"
    },
    "id": "NqZ7B-jT1EHj",
    "outputId": "7601f438-27da-4eb1-b30a-0cdfa30f5378",
    "ExecuteTime": {
     "end_time": "2024-01-02T18:13:31.341626318Z",
     "start_time": "2024-01-02T18:13:31.247998317Z"
    }
   },
   "outputs": [
    {
     "data": {
      "text/plain": "(array(['@mogacola @zamtriossu i screamed after hitting tweet',\n        'Imagine getting flattened by Kurt Zouma',\n        '@Gurmeetramrahim #MSGDoing111WelfareWorks Green S welfare force ke appx 65000 members har time disaster victim ki help ke liye tyar hai....',\n        \"@shakjn @C7 @Magnums im shaking in fear he's gonna hack the planet\",\n        'Somehow find you and I collide http://t.co/Ee8RpOahPk',\n        '@EvaHanderek @MarleyKnysh great times until the bus driver held us hostage in the mall parking lot lmfao',\n        'destroy the free fandom honestly',\n        'Weapons stolen from National Guard Armory in New Albany still missing #Gunsense http://t.co/lKNU8902JE',\n        '@wfaaweather Pete when will the heat wave pass? Is it really going to be mid month? Frisco Boy Scouts have a canoe trip in Okla.',\n        'Patient-reported outcomes in long-term survivors of metastatic colorectal cancer - British Journal of Surgery http://t.co/5Yl4DC1Tqt'],\n       dtype=object),\n array([0, 0, 1, 0, 0, 1, 1, 0, 1, 1]))"
     },
     "execution_count": 14,
     "metadata": {},
     "output_type": "execute_result"
    }
   ],
   "source": [
    "# Check few sample\n",
    "train_sentences[:10],train_labels[:10]"
   ]
  },
  {
   "cell_type": "markdown",
   "metadata": {
    "id": "oHfc38t53GjO"
   },
   "source": [
    "## Converting text into numbers\n",
    "\n",
    "1. tokenization -> can get too big as the number of text sample increases\n",
    "2. Embedding -> richer representation of relationship be between tokens, deeper the realtion between words, more the number/embedding for that token"
   ]
  },
  {
   "cell_type": "code",
   "execution_count": 15,
   "metadata": {
    "id": "yru6-5TJ1U17",
    "ExecuteTime": {
     "end_time": "2024-01-02T18:13:35.277700752Z",
     "start_time": "2024-01-02T18:13:35.183617644Z"
    }
   },
   "outputs": [],
   "source": [
    "# Use the default TextVectorization variables\n",
    "text_vectorizer = tf.keras.layers.experimental.preprocessing.TextVectorization(max_tokens=None, # how many words in the vocabulary (all of the different words in your text)\n",
    "                                                    standardize=\"lower_and_strip_punctuation\", # how to process text\n",
    "                                                    split=\"whitespace\", # how to split tokens\n",
    "                                                    ngrams=None, # create groups of n-words?\n",
    "                                                    output_mode=\"int\", # how to map tokens to numbers\n",
    "                                                    output_sequence_length=None) # how long should the output sequence of tokens be?\n",
    "                                                    # pad_to_max_tokens=True) # Not valid if using max_tokens=None"
   ]
  },
  {
   "cell_type": "code",
   "execution_count": 16,
   "metadata": {
    "colab": {
     "base_uri": "https://localhost:8080/"
    },
    "id": "3SQN6iwGtjGC",
    "outputId": "ca38bcb6-72ce-483b-c1fb-5091e5248bfb",
    "ExecuteTime": {
     "end_time": "2024-01-02T18:13:37.254391106Z",
     "start_time": "2024-01-02T18:13:37.197770047Z"
    }
   },
   "outputs": [
    {
     "data": {
      "text/plain": "15"
     },
     "execution_count": 16,
     "metadata": {},
     "output_type": "execute_result"
    }
   ],
   "source": [
    "round(sum([len(i.split()) for i in train_sentences])/len(train_sentences))"
   ]
  },
  {
   "cell_type": "code",
   "execution_count": 17,
   "metadata": {
    "id": "w51rxf5MtjGD",
    "ExecuteTime": {
     "end_time": "2024-01-02T18:13:38.092272843Z",
     "start_time": "2024-01-02T18:13:38.037068546Z"
    }
   },
   "outputs": [],
   "source": [
    "max_vocab_length = 10000 # max number of words to have in our vocabulary\n",
    "max_length = round(sum([len(i.split()) for i in train_sentences])/len(train_sentences)) # max length our sequences will be (e.g. how many words from a Tweet does our model see?)\n",
    "\n",
    "text_vectorizer = tf.keras.layers.experimental.preprocessing.TextVectorization(max_tokens=max_vocab_length,\n",
    "                                                    output_mode=\"int\",\n",
    "                                                    output_sequence_length=max_length)"
   ]
  },
  {
   "cell_type": "code",
   "execution_count": 18,
   "metadata": {
    "id": "gaJKk7dOtjGD",
    "ExecuteTime": {
     "end_time": "2024-01-02T18:13:38.912674765Z",
     "start_time": "2024-01-02T18:13:38.593003678Z"
    }
   },
   "outputs": [],
   "source": [
    "# Fit the text vectorizer to the training text\n",
    "text_vectorizer.adapt(train_sentences)"
   ]
  },
  {
   "cell_type": "code",
   "execution_count": 19,
   "metadata": {
    "colab": {
     "base_uri": "https://localhost:8080/"
    },
    "id": "B4aF2tYAtjGD",
    "outputId": "0a16e093-c8af-4310-88dd-54cc0a863cb5",
    "ExecuteTime": {
     "end_time": "2024-01-02T18:13:39.206840215Z",
     "start_time": "2024-01-02T18:13:39.103515177Z"
    }
   },
   "outputs": [
    {
     "data": {
      "text/plain": "<tf.Tensor: shape=(1, 15), dtype=int64, numpy=\narray([[264,   3, 232,   4,  13, 698,   0,   0,   0,   0,   0,   0,   0,\n          0,   0]])>"
     },
     "execution_count": 19,
     "metadata": {},
     "output_type": "execute_result"
    }
   ],
   "source": [
    "sample_sentence = \"There's a flood in my street!\"\n",
    "text_vectorizer([sample_sentence])"
   ]
  },
  {
   "cell_type": "code",
   "execution_count": 20,
   "metadata": {
    "colab": {
     "base_uri": "https://localhost:8080/"
    },
    "id": "ZKeTD6GutjGE",
    "outputId": "4f372239-d74d-42f5-932e-a5ebe156c027",
    "ExecuteTime": {
     "end_time": "2024-01-02T18:13:40.871573201Z",
     "start_time": "2024-01-02T18:13:40.821396838Z"
    }
   },
   "outputs": [
    {
     "name": "stdout",
     "output_type": "stream",
     "text": [
      "Original text:\n",
      "sorry-I built a fire by my desk already. RT@irishirr\n",
      "@MChapmanWSAZ @WSAZ_Brittany @kellyannwx ..please maintain that snowstorm til I arrive.      \n",
      "\n",
      "Vectorized version:\n"
     ]
    },
    {
     "data": {
      "text/plain": "<tf.Tensor: shape=(1, 15), dtype=int64, numpy=\narray([[8282, 2532,    3,   42,   18,   13, 5829,  659, 8938,    1, 6650,\n           1,  170, 5176,   16]])>"
     },
     "execution_count": 20,
     "metadata": {},
     "output_type": "execute_result"
    }
   ],
   "source": [
    "# Choose a random sentence from the training dataset and tokenize it\n",
    "random_sentence = random.choice(train_sentences)\n",
    "print(f\"Original text:\\n{random_sentence}\\\n",
    "      \\n\\nVectorized version:\")\n",
    "text_vectorizer([random_sentence])"
   ]
  },
  {
   "cell_type": "code",
   "execution_count": 21,
   "metadata": {
    "colab": {
     "base_uri": "https://localhost:8080/"
    },
    "id": "GtsN3urvtjGE",
    "outputId": "97ebf691-bb6a-458a-cda1-3cc06cb44824",
    "ExecuteTime": {
     "end_time": "2024-01-02T18:13:41.628349985Z",
     "start_time": "2024-01-02T18:13:41.557369077Z"
    }
   },
   "outputs": [
    {
     "name": "stdout",
     "output_type": "stream",
     "text": [
      "Number of words in vocab: 10000\n",
      "Top 5 most common words: ['', '[UNK]', 'the', 'a', 'in']\n",
      "Bottom 5 least common words: ['pages', 'paeds', 'pads', 'padres', 'paddytomlinson1']\n"
     ]
    }
   ],
   "source": [
    "# Get the unique words in the vocabulary\n",
    "words_in_vocab = text_vectorizer.get_vocabulary()\n",
    "top_5_words = words_in_vocab[:5] # most common tokens (notice the [UNK] token for \"unknown\" words)\n",
    "bottom_5_words = words_in_vocab[-5:] # least common tokens\n",
    "print(f\"Number of words in vocab: {len(words_in_vocab)}\")\n",
    "print(f\"Top 5 most common words: {top_5_words}\")\n",
    "print(f\"Bottom 5 least common words: {bottom_5_words}\")"
   ]
  },
  {
   "cell_type": "code",
   "execution_count": 22,
   "metadata": {
    "colab": {
     "base_uri": "https://localhost:8080/"
    },
    "id": "6RGDYiyvtjGE",
    "outputId": "84f988c4-612b-4eac-94e1-64d8708c1af8",
    "ExecuteTime": {
     "end_time": "2024-01-02T18:13:44.789410132Z",
     "start_time": "2024-01-02T18:13:44.709569535Z"
    }
   },
   "outputs": [
    {
     "data": {
      "text/plain": "<keras.src.layers.core.embedding.Embedding at 0x7fbd91375b20>"
     },
     "execution_count": 22,
     "metadata": {},
     "output_type": "execute_result"
    }
   ],
   "source": [
    "tf.random.set_seed(42)\n",
    "\n",
    "embedding = tf.keras.layers.Embedding(input_dim=max_vocab_length, # set input shape\n",
    "                             output_dim=128, # set size of embedding vector\n",
    "                             embeddings_initializer=\"uniform\", # default, intialize randomly\n",
    "                             input_length=max_length, # how long is each input\n",
    "                             name=\"embedding_1\")\n",
    "\n",
    "embedding"
   ]
  },
  {
   "cell_type": "code",
   "execution_count": 23,
   "metadata": {
    "colab": {
     "base_uri": "https://localhost:8080/"
    },
    "id": "uzFIn5iltjGF",
    "outputId": "aa2584c6-00c4-41eb-ebf4-4c123d8b4190",
    "ExecuteTime": {
     "end_time": "2024-01-02T18:13:47.832646979Z",
     "start_time": "2024-01-02T18:13:47.749726270Z"
    }
   },
   "outputs": [
    {
     "name": "stdout",
     "output_type": "stream",
     "text": [
      "Original text:\n",
      "Men escape car engulfed in flames in Parley's Canyon crews investigating cause - http://t.co/P6cyLz5lpt http://t.co/Jpu9gIps9f\n",
      "\n",
      "Embedded version:\n"
     ]
    },
    {
     "data": {
      "text/plain": "<tf.Tensor: shape=(1, 15, 128), dtype=float16, numpy=\narray([[[ 0.0132  ,  0.02333 , -0.02858 , ..., -0.000325,  0.003576,\n          0.02396 ],\n        [ 0.02167 ,  0.0347  ,  0.004395, ..., -0.01881 ,  0.00251 ,\n         -0.04385 ],\n        [ 0.03732 ,  0.004936, -0.043   , ...,  0.03043 , -0.01987 ,\n          0.00462 ],\n        ...,\n        [-0.02518 , -0.0315  ,  0.005375, ...,  0.02472 ,  0.0458  ,\n          0.03207 ],\n        [-0.02518 , -0.0315  ,  0.005375, ...,  0.02472 ,  0.0458  ,\n          0.03207 ],\n        [ 0.04428 , -0.01811 , -0.03677 , ..., -0.00434 , -0.03442 ,\n          0.03038 ]]], dtype=float16)>"
     },
     "execution_count": 23,
     "metadata": {},
     "output_type": "execute_result"
    }
   ],
   "source": [
    "# Get a random sentence from training set\n",
    "random_sentence = random.choice(train_sentences)\n",
    "print(f\"Original text:\\n{random_sentence}\\n\\nEmbedded version:\")\n",
    "\n",
    "# Embed the random sentence (turn it into numerical representation)\n",
    "sample_embed = embedding(text_vectorizer([random_sentence]))\n",
    "sample_embed"
   ]
  },
  {
   "cell_type": "code",
   "execution_count": 24,
   "metadata": {
    "colab": {
     "base_uri": "https://localhost:8080/"
    },
    "id": "1AqUrY6BtjGF",
    "outputId": "e15679cf-4c74-43bb-f30e-6c6b504bd56a",
    "ExecuteTime": {
     "end_time": "2024-01-02T18:13:49.535794081Z",
     "start_time": "2024-01-02T18:13:49.467089350Z"
    }
   },
   "outputs": [
    {
     "data": {
      "text/plain": "<tf.Tensor: shape=(128,), dtype=float16, numpy=\narray([ 0.0132   ,  0.02333  , -0.02858  ,  0.013405 , -0.00931  ,\n        0.006397 , -0.007275 ,  0.04892  ,  0.01605  , -0.04016  ,\n        0.01293  ,  0.04242  ,  0.006145 ,  0.02667  ,  0.04367  ,\n       -0.03848  ,  0.04385  ,  0.0476   ,  0.01104  , -0.03287  ,\n       -0.0472   , -0.01473  , -0.0411   , -0.016    ,  0.0264   ,\n        0.003788 , -0.004604 ,  0.0425   , -0.03943  , -0.001997 ,\n       -0.004074 ,  0.04352  ,  0.00971  ,  0.02527  , -0.001353 ,\n        0.00958  ,  0.01845  ,  0.01639  , -0.01271  ,  0.04788  ,\n        0.02959  ,  0.009926 , -0.003658 ,  0.02151  , -0.02345  ,\n       -0.03302  , -0.04047  , -0.02643  , -0.01863  , -0.008965 ,\n        0.023    ,  0.0007024, -0.04236  ,  0.0329   ,  0.01283  ,\n       -0.02919  ,  0.0095   ,  0.00873  ,  0.04532  , -0.01164  ,\n        0.01819  ,  0.02547  ,  0.004017 ,  0.001263 , -0.0001249,\n       -0.002775 ,  0.0367   , -0.0378   ,  0.04968  , -0.03796  ,\n       -0.003475 ,  0.02608  , -0.0372   ,  0.04666  , -0.0174   ,\n        0.002422 ,  0.0273   ,  0.02051  ,  0.03705  ,  0.0415   ,\n        0.03745  , -0.01863  , -0.03647  , -0.00171  ,  0.02754  ,\n        0.01578  ,  0.01534  , -0.0486   ,  0.0378   ,  0.04987  ,\n        0.007793 ,  0.04205  ,  0.02496  ,  0.01215  ,  0.02634  ,\n       -0.02583  , -0.02142  , -0.0451   ,  0.0093   , -0.007793 ,\n        0.03677  ,  0.007317 ,  0.000469 ,  0.0451   ,  0.02003  ,\n        0.04117  ,  0.0306   ,  0.012955 ,  0.000395 ,  0.02356  ,\n        0.01593  ,  0.005413 , -0.02724  , -0.00583  , -0.004383 ,\n        0.0377   , -0.01727  , -0.04056  , -0.004417 ,  0.04095  ,\n        0.02643  ,  0.0194   ,  0.00849  , -0.03647  , -0.04956  ,\n       -0.000325 ,  0.003576 ,  0.02396  ], dtype=float16)>"
     },
     "execution_count": 24,
     "metadata": {},
     "output_type": "execute_result"
    }
   ],
   "source": [
    "# Check out a single token's embedding\n",
    "sample_embed[0][0]"
   ]
  },
  {
   "cell_type": "markdown",
   "metadata": {
    "id": "Aj6lDiuttjGG"
   },
   "source": [
    "### Modelling a text dataset\n",
    "More specifically, we'll be building the following:\n",
    "\n",
    "* Model 0: Naive Bayes (baseline)\n",
    "* Model 1: Feed-forward neural network (dense model)\n",
    "* Model 2: LSTM model\n",
    "* Model 3: GRU model\n",
    "* Model 4: Bidirectional-LSTM model\n",
    "* Model 5: 1D Convolutional Neural Network\n",
    "* Model 6: TensorFlow Hub Pretrained Feature Extractor\n",
    "* Model 7: Same as model 6 with 10% of training data\n",
    "\n"
   ]
  },
  {
   "cell_type": "code",
   "execution_count": 25,
   "metadata": {
    "colab": {
     "base_uri": "https://localhost:8080/",
     "height": 124
    },
    "id": "DyFjLFNHtjGG",
    "outputId": "e013b740-42f3-4168-c5ed-7b799a13d049",
    "ExecuteTime": {
     "end_time": "2024-01-02T18:13:51.234612425Z",
     "start_time": "2024-01-02T18:13:51.112800506Z"
    }
   },
   "outputs": [
    {
     "data": {
      "text/plain": "Pipeline(steps=[('tfidf', TfidfVectorizer()), ('clf', MultinomialNB())])",
      "text/html": "<style>#sk-container-id-1 {color: black;background-color: white;}#sk-container-id-1 pre{padding: 0;}#sk-container-id-1 div.sk-toggleable {background-color: white;}#sk-container-id-1 label.sk-toggleable__label {cursor: pointer;display: block;width: 100%;margin-bottom: 0;padding: 0.3em;box-sizing: border-box;text-align: center;}#sk-container-id-1 label.sk-toggleable__label-arrow:before {content: \"▸\";float: left;margin-right: 0.25em;color: #696969;}#sk-container-id-1 label.sk-toggleable__label-arrow:hover:before {color: black;}#sk-container-id-1 div.sk-estimator:hover label.sk-toggleable__label-arrow:before {color: black;}#sk-container-id-1 div.sk-toggleable__content {max-height: 0;max-width: 0;overflow: hidden;text-align: left;background-color: #f0f8ff;}#sk-container-id-1 div.sk-toggleable__content pre {margin: 0.2em;color: black;border-radius: 0.25em;background-color: #f0f8ff;}#sk-container-id-1 input.sk-toggleable__control:checked~div.sk-toggleable__content {max-height: 200px;max-width: 100%;overflow: auto;}#sk-container-id-1 input.sk-toggleable__control:checked~label.sk-toggleable__label-arrow:before {content: \"▾\";}#sk-container-id-1 div.sk-estimator input.sk-toggleable__control:checked~label.sk-toggleable__label {background-color: #d4ebff;}#sk-container-id-1 div.sk-label input.sk-toggleable__control:checked~label.sk-toggleable__label {background-color: #d4ebff;}#sk-container-id-1 input.sk-hidden--visually {border: 0;clip: rect(1px 1px 1px 1px);clip: rect(1px, 1px, 1px, 1px);height: 1px;margin: -1px;overflow: hidden;padding: 0;position: absolute;width: 1px;}#sk-container-id-1 div.sk-estimator {font-family: monospace;background-color: #f0f8ff;border: 1px dotted black;border-radius: 0.25em;box-sizing: border-box;margin-bottom: 0.5em;}#sk-container-id-1 div.sk-estimator:hover {background-color: #d4ebff;}#sk-container-id-1 div.sk-parallel-item::after {content: \"\";width: 100%;border-bottom: 1px solid gray;flex-grow: 1;}#sk-container-id-1 div.sk-label:hover label.sk-toggleable__label {background-color: #d4ebff;}#sk-container-id-1 div.sk-serial::before {content: \"\";position: absolute;border-left: 1px solid gray;box-sizing: border-box;top: 0;bottom: 0;left: 50%;z-index: 0;}#sk-container-id-1 div.sk-serial {display: flex;flex-direction: column;align-items: center;background-color: white;padding-right: 0.2em;padding-left: 0.2em;position: relative;}#sk-container-id-1 div.sk-item {position: relative;z-index: 1;}#sk-container-id-1 div.sk-parallel {display: flex;align-items: stretch;justify-content: center;background-color: white;position: relative;}#sk-container-id-1 div.sk-item::before, #sk-container-id-1 div.sk-parallel-item::before {content: \"\";position: absolute;border-left: 1px solid gray;box-sizing: border-box;top: 0;bottom: 0;left: 50%;z-index: -1;}#sk-container-id-1 div.sk-parallel-item {display: flex;flex-direction: column;z-index: 1;position: relative;background-color: white;}#sk-container-id-1 div.sk-parallel-item:first-child::after {align-self: flex-end;width: 50%;}#sk-container-id-1 div.sk-parallel-item:last-child::after {align-self: flex-start;width: 50%;}#sk-container-id-1 div.sk-parallel-item:only-child::after {width: 0;}#sk-container-id-1 div.sk-dashed-wrapped {border: 1px dashed gray;margin: 0 0.4em 0.5em 0.4em;box-sizing: border-box;padding-bottom: 0.4em;background-color: white;}#sk-container-id-1 div.sk-label label {font-family: monospace;font-weight: bold;display: inline-block;line-height: 1.2em;}#sk-container-id-1 div.sk-label-container {text-align: center;}#sk-container-id-1 div.sk-container {/* jupyter's `normalize.less` sets `[hidden] { display: none; }` but bootstrap.min.css set `[hidden] { display: none !important; }` so we also need the `!important` here to be able to override the default hidden behavior on the sphinx rendered scikit-learn.org. See: https://github.com/scikit-learn/scikit-learn/issues/21755 */display: inline-block !important;position: relative;}#sk-container-id-1 div.sk-text-repr-fallback {display: none;}</style><div id=\"sk-container-id-1\" class=\"sk-top-container\"><div class=\"sk-text-repr-fallback\"><pre>Pipeline(steps=[(&#x27;tfidf&#x27;, TfidfVectorizer()), (&#x27;clf&#x27;, MultinomialNB())])</pre><b>In a Jupyter environment, please rerun this cell to show the HTML representation or trust the notebook. <br />On GitHub, the HTML representation is unable to render, please try loading this page with nbviewer.org.</b></div><div class=\"sk-container\" hidden><div class=\"sk-item sk-dashed-wrapped\"><div class=\"sk-label-container\"><div class=\"sk-label sk-toggleable\"><input class=\"sk-toggleable__control sk-hidden--visually\" id=\"sk-estimator-id-1\" type=\"checkbox\" ><label for=\"sk-estimator-id-1\" class=\"sk-toggleable__label sk-toggleable__label-arrow\">Pipeline</label><div class=\"sk-toggleable__content\"><pre>Pipeline(steps=[(&#x27;tfidf&#x27;, TfidfVectorizer()), (&#x27;clf&#x27;, MultinomialNB())])</pre></div></div></div><div class=\"sk-serial\"><div class=\"sk-item\"><div class=\"sk-estimator sk-toggleable\"><input class=\"sk-toggleable__control sk-hidden--visually\" id=\"sk-estimator-id-2\" type=\"checkbox\" ><label for=\"sk-estimator-id-2\" class=\"sk-toggleable__label sk-toggleable__label-arrow\">TfidfVectorizer</label><div class=\"sk-toggleable__content\"><pre>TfidfVectorizer()</pre></div></div></div><div class=\"sk-item\"><div class=\"sk-estimator sk-toggleable\"><input class=\"sk-toggleable__control sk-hidden--visually\" id=\"sk-estimator-id-3\" type=\"checkbox\" ><label for=\"sk-estimator-id-3\" class=\"sk-toggleable__label sk-toggleable__label-arrow\">MultinomialNB</label><div class=\"sk-toggleable__content\"><pre>MultinomialNB()</pre></div></div></div></div></div></div></div>"
     },
     "execution_count": 25,
     "metadata": {},
     "output_type": "execute_result"
    }
   ],
   "source": [
    "#model 0\n",
    "from sklearn.feature_extraction.text import TfidfVectorizer\n",
    "from sklearn.naive_bayes import MultinomialNB\n",
    "from sklearn.pipeline import Pipeline\n",
    "\n",
    "# Create tokenization and modelling pipeline\n",
    "model_0 = Pipeline([\n",
    "                    (\"tfidf\", TfidfVectorizer()), # convert words to numbers using tfidf\n",
    "                    (\"clf\", MultinomialNB()) # model the text\n",
    "])\n",
    "\n",
    "# Fit the pipeline to the training data\n",
    "model_0.fit(train_sentences, train_labels)"
   ]
  },
  {
   "cell_type": "code",
   "execution_count": 26,
   "metadata": {
    "colab": {
     "base_uri": "https://localhost:8080/"
    },
    "id": "h9FerVWktjGG",
    "outputId": "f0932376-c838-485e-9bd3-0aba314f39e8",
    "ExecuteTime": {
     "end_time": "2024-01-02T18:13:53.122185022Z",
     "start_time": "2024-01-02T18:13:53.082266623Z"
    }
   },
   "outputs": [
    {
     "name": "stdout",
     "output_type": "stream",
     "text": [
      "Our baseline model achieves an accuracy of: 79.27%\n"
     ]
    }
   ],
   "source": [
    "baseline_score = model_0.score(val_sentences, val_labels)\n",
    "print(f\"Our baseline model achieves an accuracy of: {baseline_score*100:.2f}%\")"
   ]
  },
  {
   "cell_type": "code",
   "execution_count": 27,
   "metadata": {
    "colab": {
     "base_uri": "https://localhost:8080/"
    },
    "id": "2kqWtkC7tjGH",
    "outputId": "3bacea1b-a6c5-46ae-b364-008f4d9d3182",
    "ExecuteTime": {
     "end_time": "2024-01-02T18:13:53.714843511Z",
     "start_time": "2024-01-02T18:13:53.672150949Z"
    }
   },
   "outputs": [
    {
     "data": {
      "text/plain": "array([1, 1, 1, 0, 0, 1, 1, 1, 1, 0, 0, 1, 0, 0, 0, 0, 0, 0, 0, 1])"
     },
     "execution_count": 27,
     "metadata": {},
     "output_type": "execute_result"
    }
   ],
   "source": [
    "# Make predictions\n",
    "baseline_preds = model_0.predict(val_sentences)\n",
    "baseline_preds[:20]"
   ]
  },
  {
   "cell_type": "code",
   "execution_count": 28,
   "metadata": {
    "colab": {
     "base_uri": "https://localhost:8080/"
    },
    "id": "QdZ2KDfNtjGH",
    "outputId": "2d0fd280-e66a-459f-ce80-d26b14915ddf",
    "ExecuteTime": {
     "end_time": "2024-01-02T18:13:54.719092714Z",
     "start_time": "2024-01-02T18:13:54.616348388Z"
    }
   },
   "outputs": [
    {
     "data": {
      "text/plain": "{'accuracy': 79.26509186351706,\n 'precision': 0.8111390004213173,\n 'recall': 0.7926509186351706,\n 'f1': 0.7862189758049549}"
     },
     "execution_count": 28,
     "metadata": {},
     "output_type": "execute_result"
    }
   ],
   "source": [
    "baseline_results = calculate_results(y_true=val_labels,\n",
    "                                     y_pred=baseline_preds)\n",
    "baseline_results"
   ]
  },
  {
   "cell_type": "markdown",
   "metadata": {
    "id": "6awk4LietjGH"
   },
   "source": [
    "#### Model 1: A simple dense model"
   ]
  },
  {
   "cell_type": "code",
   "execution_count": 29,
   "metadata": {
    "colab": {
     "base_uri": "https://localhost:8080/"
    },
    "id": "5f0zTX6btjGH",
    "outputId": "417c4318-8301-4dcf-d837-d3c66339868d",
    "ExecuteTime": {
     "end_time": "2024-01-02T18:13:58.843856545Z",
     "start_time": "2024-01-02T18:13:58.744979418Z"
    }
   },
   "outputs": [
    {
     "name": "stdout",
     "output_type": "stream",
     "text": [
      "Model: \"model_1_dense\"\n",
      "_________________________________________________________________\n",
      " Layer (type)                Output Shape              Param #   \n",
      "=================================================================\n",
      " input_1 (InputLayer)        [(None, 1)]               0         \n",
      "                                                                 \n",
      " text_vectorization_1 (Text  (None, 15)                0         \n",
      " Vectorization)                                                  \n",
      "                                                                 \n",
      " embedding_1 (Embedding)     (None, 15, 128)           1280000   \n",
      "                                                                 \n",
      " global_average_pooling1d (  (None, 128)               0         \n",
      " GlobalAveragePooling1D)                                         \n",
      "                                                                 \n",
      " dense (Dense)               (None, 1)                 129       \n",
      "                                                                 \n",
      "=================================================================\n",
      "Total params: 1280129 (4.88 MB)\n",
      "Trainable params: 1280129 (4.88 MB)\n",
      "Non-trainable params: 0 (0.00 Byte)\n",
      "_________________________________________________________________\n"
     ]
    }
   ],
   "source": [
    "from helper_functions import create_tensorboard_callback\n",
    "\n",
    "# Create directory to save TensorBoard logs\n",
    "SAVE_DIR = \"model_logs\"\n",
    "\n",
    "# Build model with the Functional API\n",
    "inputs = tf.keras.layers.Input(shape=(1,), dtype=\"string\") # inputs are 1-dimensional strings\n",
    "x = text_vectorizer(inputs) # turn the input text into numbers\n",
    "x = embedding(x) # create an embedding of the numerized numbers\n",
    "x = tf.keras.layers.GlobalAveragePooling1D()(x) # lower the dimensionality of the embedding\n",
    "outputs = tf.keras.layers.Dense(1, activation=\"sigmoid\")(x) # create the output layer, want binary outputs so use sigmoid activation\n",
    "\n",
    "model_1 = tf.keras.Model(inputs, outputs, name=\"model_1_dense\") # construct the model\n",
    "# Compile model\n",
    "model_1.compile(loss=\"binary_crossentropy\",\n",
    "                optimizer=tf.keras.optimizers.Adam(),\n",
    "                metrics=[\"accuracy\"])\n",
    "model_1.summary()"
   ]
  },
  {
   "cell_type": "code",
   "execution_count": 30,
   "metadata": {
    "colab": {
     "base_uri": "https://localhost:8080/"
    },
    "id": "mv1YWc1otjGI",
    "outputId": "fed8ba4c-a19a-4be3-e2b8-668c20860eb6",
    "ExecuteTime": {
     "end_time": "2024-01-02T18:14:17.080036127Z",
     "start_time": "2024-01-02T18:14:02.541308270Z"
    }
   },
   "outputs": [
    {
     "name": "stdout",
     "output_type": "stream",
     "text": [
      "Saving TensorBoard log files to: model_logs/simple_dense_model/20240102-234402\n",
      "Epoch 1/5\n",
      "215/215 [==============================] - 9s 35ms/step - loss: 0.6101 - accuracy: 0.6925 - val_loss: 0.5373 - val_accuracy: 0.7546\n",
      "Epoch 2/5\n",
      "215/215 [==============================] - 2s 7ms/step - loss: 0.4423 - accuracy: 0.8197 - val_loss: 0.4697 - val_accuracy: 0.7848\n",
      "Epoch 3/5\n",
      "215/215 [==============================] - 1s 6ms/step - loss: 0.3474 - accuracy: 0.8600 - val_loss: 0.4595 - val_accuracy: 0.7887\n",
      "Epoch 4/5\n",
      "215/215 [==============================] - 1s 5ms/step - loss: 0.2858 - accuracy: 0.8908 - val_loss: 0.4644 - val_accuracy: 0.7887\n",
      "Epoch 5/5\n",
      "215/215 [==============================] - 1s 5ms/step - loss: 0.2389 - accuracy: 0.9124 - val_loss: 0.4767 - val_accuracy: 0.7874\n"
     ]
    }
   ],
   "source": [
    "# Fit the model\n",
    "model_1_history = model_1.fit(train_sentences, # input sentences can be a list of strings due to text preprocessing layer built-in model\n",
    "                              train_labels,\n",
    "                              epochs=5,\n",
    "                              validation_data=(val_sentences, val_labels),\n",
    "                              callbacks=[create_tensorboard_callback(dir_name=SAVE_DIR,\n",
    "                                                                     experiment_name=\"simple_dense_model\")])"
   ]
  },
  {
   "cell_type": "code",
   "execution_count": 31,
   "metadata": {
    "colab": {
     "base_uri": "https://localhost:8080/"
    },
    "id": "ivJJWB79tjGI",
    "outputId": "dcdec048-9c02-4cf7-b0da-3ead736a8224",
    "ExecuteTime": {
     "end_time": "2024-01-02T18:14:20.055070928Z",
     "start_time": "2024-01-02T18:14:19.946131098Z"
    }
   },
   "outputs": [
    {
     "name": "stdout",
     "output_type": "stream",
     "text": [
      "24/24 [==============================] - 0s 2ms/step - loss: 0.4767 - accuracy: 0.7874\n"
     ]
    },
    {
     "data": {
      "text/plain": "[0.47666311264038086, 0.787401556968689]"
     },
     "execution_count": 31,
     "metadata": {},
     "output_type": "execute_result"
    }
   ],
   "source": [
    "# Check the results\n",
    "model_1.evaluate(val_sentences, val_labels)"
   ]
  },
  {
   "cell_type": "code",
   "execution_count": 32,
   "metadata": {
    "colab": {
     "base_uri": "https://localhost:8080/"
    },
    "id": "Qfc_N0-VtjGI",
    "outputId": "75c214a4-fa18-4045-f898-4b62cbe5cdaa",
    "ExecuteTime": {
     "end_time": "2024-01-02T18:14:20.909258434Z",
     "start_time": "2024-01-02T18:14:20.737954859Z"
    }
   },
   "outputs": [
    {
     "name": "stdout",
     "output_type": "stream",
     "text": [
      "24/24 [==============================] - 0s 935us/step\n"
     ]
    },
    {
     "data": {
      "text/plain": "array([[0.408  ],\n       [0.7456 ],\n       [0.998  ],\n       [0.10876],\n       [0.1069 ],\n       [0.936  ],\n       [0.911  ],\n       [0.993  ],\n       [0.9697 ],\n       [0.262  ]], dtype=float16)"
     },
     "execution_count": 32,
     "metadata": {},
     "output_type": "execute_result"
    }
   ],
   "source": [
    "model_1_pred_probs = model_1.predict(val_sentences)\n",
    "model_1_pred_probs[:10]"
   ]
  },
  {
   "cell_type": "code",
   "execution_count": 33,
   "metadata": {
    "colab": {
     "base_uri": "https://localhost:8080/"
    },
    "id": "s29LU2c0tjGI",
    "outputId": "d1352bd9-ba40-4a1f-86f8-2efa4a5fdda8",
    "ExecuteTime": {
     "end_time": "2024-01-02T18:14:22.948934603Z",
     "start_time": "2024-01-02T18:14:22.878411163Z"
    }
   },
   "outputs": [
    {
     "data": {
      "text/plain": "<tf.Tensor: shape=(10,), dtype=float16, numpy=array([0., 1., 1., 0., 0., 1., 1., 1., 1., 0.], dtype=float16)>"
     },
     "execution_count": 33,
     "metadata": {},
     "output_type": "execute_result"
    }
   ],
   "source": [
    "model_1_preds=tf.squeeze(tf.round(model_1_pred_probs))\n",
    "model_1_preds[:10]"
   ]
  },
  {
   "cell_type": "code",
   "execution_count": 34,
   "metadata": {
    "colab": {
     "base_uri": "https://localhost:8080/"
    },
    "id": "8AgR4I2-tjGI",
    "outputId": "c4c9a85d-2909-43e8-f18b-470a68543587",
    "ExecuteTime": {
     "end_time": "2024-01-02T18:14:23.364993867Z",
     "start_time": "2024-01-02T18:14:23.301790235Z"
    }
   },
   "outputs": [
    {
     "data": {
      "text/plain": "{'accuracy': 78.74015748031496,\n 'precision': 0.7914920592553047,\n 'recall': 0.7874015748031497,\n 'f1': 0.7846966492209201}"
     },
     "execution_count": 34,
     "metadata": {},
     "output_type": "execute_result"
    }
   ],
   "source": [
    "model_1_results=calculate_results(val_labels,model_1_preds)\n",
    "model_1_results"
   ]
  },
  {
   "cell_type": "markdown",
   "metadata": {
    "id": "1RJQLxUytjGJ"
   },
   "source": [
    "#### Recurrent Neural Network\n",
    "* RNN's are useful for sequence data\n",
    "* The premise of a recurrent neural network is to use the representation of previous input to aid the representation of a later input"
   ]
  },
  {
   "cell_type": "markdown",
   "metadata": {
    "id": "SWPZ8qtXtjGJ"
   },
   "source": [
    "### Model 2 : LSTM -> Long short term memory\n",
    "\n",
    "Input(text) -> Toeknize -> Embedding -> Layers(RNN/Dense) -> Output(label probability)"
   ]
  },
  {
   "cell_type": "code",
   "execution_count": 35,
   "metadata": {
    "colab": {
     "base_uri": "https://localhost:8080/"
    },
    "id": "2t8nHBbCtjGJ",
    "outputId": "906024b7-40ce-4bb2-ce64-70489e5126bf"
   },
   "outputs": [
    {
     "name": "stdout",
     "output_type": "stream",
     "text": [
      "(None, 15, 128)\n",
      "(None, 64)\n",
      "Model: \"model\"\n",
      "_________________________________________________________________\n",
      " Layer (type)                Output Shape              Param #   \n",
      "=================================================================\n",
      " input_2 (InputLayer)        [(None, 1)]               0         \n",
      "                                                                 \n",
      " text_vectorization_1 (Text  (None, 15)                0         \n",
      " Vectorization)                                                  \n",
      "                                                                 \n",
      " embedding_2 (Embedding)     (None, 15, 128)           1280000   \n",
      "                                                                 \n",
      " lstm (LSTM)                 (None, 15, 64)            49408     \n",
      "                                                                 \n",
      " lstm_1 (LSTM)               (None, 15, 64)            33024     \n",
      "                                                                 \n",
      " lstm_2 (LSTM)               (None, 64)                33024     \n",
      "                                                                 \n",
      " dense_1 (Dense)             (None, 1)                 65        \n",
      "                                                                 \n",
      "=================================================================\n",
      "Total params: 1395521 (5.32 MB)\n",
      "Trainable params: 1395521 (5.32 MB)\n",
      "Non-trainable params: 0 (0.00 Byte)\n",
      "_________________________________________________________________\n"
     ]
    }
   ],
   "source": [
    "# Set random seed and create embedding layer (new embedding layer for each model)\n",
    "tf.random.set_seed(42)\n",
    "\n",
    "model_2_embedding = tf.keras.layers.Embedding(input_dim=max_vocab_length,\n",
    "                                     output_dim=128,\n",
    "                                     embeddings_initializer=\"uniform\",\n",
    "                                     input_length=max_length,\n",
    "                                     name=\"embedding_2\")\n",
    "\n",
    "\n",
    "# Create LSTM model\n",
    "inputs = tf.keras.layers.Input(shape=(1,), dtype=\"string\")\n",
    "x = text_vectorizer(inputs)\n",
    "x = model_2_embedding(x)\n",
    "\n",
    "print(x.shape)\n",
    "\n",
    "x = tf.keras.layers.LSTM(64, return_sequences=True)(x) # return vector for each word in the Tweet (you can stack RNN cells as long as return_sequences=True)\n",
    "x = tf.keras.layers.LSTM(64, return_sequences=True)(x)\n",
    "x = tf.keras.layers.LSTM(64)(x) # return vector for whole sequence\n",
    "\n",
    "print(x.shape)\n",
    "\n",
    "outputs = tf.keras.layers.Dense(1, activation=\"sigmoid\")(x)\n",
    "\n",
    "model_2 = tf.keras.Model(inputs, outputs)\n",
    "model_2.compile(loss=tf.keras.losses.BinaryCrossentropy(),\n",
    "                optimizer=tf.keras.optimizers.Adam(),\n",
    "                metrics=[\"accuracy\"])\n",
    "model_2.summary()"
   ]
  },
  {
   "cell_type": "code",
   "execution_count": 36,
   "metadata": {
    "colab": {
     "base_uri": "https://localhost:8080/"
    },
    "id": "Azw9jRxStjGK",
    "outputId": "6460d488-c6b6-4090-e84e-c6a50b79bd33"
   },
   "outputs": [
    {
     "name": "stdout",
     "output_type": "stream",
     "text": [
      "Saving TensorBoard log files to: model_logs/LSTM/20231226-124100\n",
      "Epoch 1/5\n",
      "215/215 [==============================] - 13s 42ms/step - loss: 0.5084 - accuracy: 0.7470 - val_loss: 0.4583 - val_accuracy: 0.7900\n",
      "Epoch 2/5\n",
      "215/215 [==============================] - 4s 21ms/step - loss: 0.3263 - accuracy: 0.8705 - val_loss: 0.5141 - val_accuracy: 0.7835\n",
      "Epoch 3/5\n",
      "215/215 [==============================] - 4s 21ms/step - loss: 0.2300 - accuracy: 0.9140 - val_loss: 0.5503 - val_accuracy: 0.7664\n",
      "Epoch 4/5\n",
      "215/215 [==============================] - 4s 19ms/step - loss: 0.1713 - accuracy: 0.9385 - val_loss: 0.6243 - val_accuracy: 0.7822\n",
      "Epoch 5/5\n",
      "215/215 [==============================] - 4s 19ms/step - loss: 0.1210 - accuracy: 0.9512 - val_loss: 0.8839 - val_accuracy: 0.7520\n"
     ]
    }
   ],
   "source": [
    "# Fit model\n",
    "model_2_history = model_2.fit(train_sentences, train_labels,\n",
    "                              epochs=5,\n",
    "                              validation_data=(val_sentences, val_labels),\n",
    "                              callbacks=[create_tensorboard_callback(SAVE_DIR,\n",
    "                                                                     \"LSTM\")])"
   ]
  },
  {
   "cell_type": "code",
   "execution_count": 37,
   "metadata": {
    "colab": {
     "base_uri": "https://localhost:8080/"
    },
    "id": "r_MP0RjUtjGK",
    "outputId": "ae5f5e48-10b5-4cb8-e1ec-f7595753522d"
   },
   "outputs": [
    {
     "name": "stdout",
     "output_type": "stream",
     "text": [
      "24/24 [==============================] - 1s 9ms/step\n"
     ]
    },
    {
     "data": {
      "text/plain": [
       "array([[0.004738],\n",
       "       [0.7188  ],\n",
       "       [1.      ],\n",
       "       [0.096   ],\n",
       "       [0.002165],\n",
       "       [1.      ],\n",
       "       [0.63    ],\n",
       "       [1.      ],\n",
       "       [1.      ],\n",
       "       [0.1917  ]], dtype=float16)"
      ]
     },
     "execution_count": 37,
     "metadata": {},
     "output_type": "execute_result"
    }
   ],
   "source": [
    "model_2_pred_probs = model_2.predict(val_sentences)\n",
    "model_2_pred_probs[:10]"
   ]
  },
  {
   "cell_type": "code",
   "execution_count": 38,
   "metadata": {
    "colab": {
     "base_uri": "https://localhost:8080/"
    },
    "id": "fTqfqUvwtjGK",
    "outputId": "c5d9227c-d370-4974-92ce-4baf074a2e5f"
   },
   "outputs": [
    {
     "data": {
      "text/plain": [
       "<tf.Tensor: shape=(10,), dtype=float16, numpy=array([0., 1., 1., 0., 0., 1., 1., 1., 1., 0.], dtype=float16)>"
      ]
     },
     "execution_count": 38,
     "metadata": {},
     "output_type": "execute_result"
    }
   ],
   "source": [
    "# Convert preds to laels\n",
    "model_2_preds = tf.squeeze(tf.round(model_2_pred_probs))\n",
    "model_2_preds[:10]"
   ]
  },
  {
   "cell_type": "code",
   "execution_count": 39,
   "metadata": {
    "colab": {
     "base_uri": "https://localhost:8080/"
    },
    "id": "YIrv9t95tjGL",
    "outputId": "0a62bce6-9174-4c22-cdd4-27d13b58fec2"
   },
   "outputs": [
    {
     "data": {
      "text/plain": [
       "array([0, 0, 1, 1, 1, 1, 1, 1, 1, 0])"
      ]
     },
     "execution_count": 39,
     "metadata": {},
     "output_type": "execute_result"
    }
   ],
   "source": [
    "val_labels[:10]"
   ]
  },
  {
   "cell_type": "code",
   "execution_count": 40,
   "metadata": {
    "colab": {
     "base_uri": "https://localhost:8080/"
    },
    "id": "nminkRFZtjGL",
    "outputId": "e5750290-bc85-46cd-e3d3-e10c0ba344a7"
   },
   "outputs": [
    {
     "data": {
      "text/plain": [
       "{'accuracy': 75.19685039370079,\n",
       " 'precision': 0.753957198024366,\n",
       " 'recall': 0.7519685039370079,\n",
       " 'f1': 0.7492070183396126}"
      ]
     },
     "execution_count": 40,
     "metadata": {},
     "output_type": "execute_result"
    }
   ],
   "source": [
    "model_2_results = calculate_results(val_labels, model_2_preds)\n",
    "model_2_results"
   ]
  },
  {
   "cell_type": "markdown",
   "metadata": {
    "id": "BxUSQAa6tjGL"
   },
   "source": [
    "#### Model 3: GRU\n",
    "\n",
    "1. Gated recurrent unit is effective and popular\n",
    "2. GRU cell has similar features to LSTM cell but has less paramenter"
   ]
  },
  {
   "cell_type": "code",
   "execution_count": 41,
   "metadata": {
    "colab": {
     "base_uri": "https://localhost:8080/"
    },
    "id": "2DY0h3NStjGL",
    "outputId": "d4304ded-f0d9-48dc-9a7f-cb60d40d821e"
   },
   "outputs": [
    {
     "name": "stdout",
     "output_type": "stream",
     "text": [
      "Epoch 1/5\n",
      "215/215 [==============================] - 9s 35ms/step - loss: 0.2314 - accuracy: 0.9054 - val_loss: 0.5323 - val_accuracy: 0.7730\n",
      "Epoch 2/5\n",
      "215/215 [==============================] - 3s 13ms/step - loss: 0.1601 - accuracy: 0.9419 - val_loss: 0.5948 - val_accuracy: 0.7808\n",
      "Epoch 3/5\n",
      "215/215 [==============================] - 3s 13ms/step - loss: 0.1283 - accuracy: 0.9537 - val_loss: 0.7481 - val_accuracy: 0.7848\n",
      "Epoch 4/5\n",
      "215/215 [==============================] - 3s 12ms/step - loss: 0.1096 - accuracy: 0.9600 - val_loss: 0.7634 - val_accuracy: 0.7861\n",
      "Epoch 5/5\n",
      "215/215 [==============================] - 3s 13ms/step - loss: 0.0921 - accuracy: 0.9663 - val_loss: 0.7307 - val_accuracy: 0.7887\n"
     ]
    }
   ],
   "source": [
    "# Build GRU RNN\n",
    "inputs = tf.keras.layers.Input(shape=(1,),dtype=tf.string)\n",
    "x = text_vectorizer(inputs)\n",
    "x = embedding(x)\n",
    "# x = tf.keras.layers.GRU(64, return_sequences=True)(x)\n",
    "# x = tf.keras.layers.LSTM(64, return_sequences=True)(x)\n",
    "x = tf.keras.layers.GRU(64)(x)\n",
    "# x = tf.keras.layers.Dense(64,activation=\"relu\")(x)\n",
    "outputs = tf.keras.layers.Dense(1,activation=\"sigmoid\")(x)\n",
    "\n",
    "model_3 = tf.keras.Model(inputs,outputs)\n",
    "\n",
    "model_3.compile(loss=tf.keras.losses.BinaryCrossentropy(),\n",
    "                optimizer=tf.keras.optimizers.Adam(),\n",
    "                metrics=['accuracy'])\n",
    "model_3_history = model_3.fit(train_sentences,\n",
    "                        train_labels,\n",
    "                        epochs=5,\n",
    "                        validation_data=(val_sentences,val_labels))"
   ]
  },
  {
   "cell_type": "code",
   "execution_count": 42,
   "metadata": {
    "colab": {
     "base_uri": "https://localhost:8080/"
    },
    "id": "IWN8EFWPtjGL",
    "outputId": "a9de7c8d-8700-456e-cf5b-67bd403133da"
   },
   "outputs": [
    {
     "name": "stdout",
     "output_type": "stream",
     "text": [
      "24/24 [==============================] - 0s 4ms/step\n"
     ]
    },
    {
     "data": {
      "text/plain": [
       "array([[6.268e-02],\n",
       "       [8.330e-01],\n",
       "       [1.000e+00],\n",
       "       [4.922e-02],\n",
       "       [8.326e-04],\n",
       "       [9.922e-01],\n",
       "       [6.738e-01],\n",
       "       [1.000e+00],\n",
       "       [9.990e-01],\n",
       "       [6.558e-01]], dtype=float16)"
      ]
     },
     "execution_count": 42,
     "metadata": {},
     "output_type": "execute_result"
    }
   ],
   "source": [
    "model_3_pred_probs = model_3.predict(val_sentences)\n",
    "model_3_pred_probs[:10]"
   ]
  },
  {
   "cell_type": "code",
   "execution_count": 43,
   "metadata": {
    "colab": {
     "base_uri": "https://localhost:8080/"
    },
    "id": "zLjHzeiotjGM",
    "outputId": "58557341-5730-45a9-a00b-c2d427cea740"
   },
   "outputs": [
    {
     "data": {
      "text/plain": [
       "<tf.Tensor: shape=(10,), dtype=float16, numpy=array([0., 1., 1., 0., 0., 1., 1., 1., 1., 1.], dtype=float16)>"
      ]
     },
     "execution_count": 43,
     "metadata": {},
     "output_type": "execute_result"
    }
   ],
   "source": [
    "# Convert model 3 pred_probs to labels\n",
    "model_3_preds = tf.squeeze(tf.round(model_3_pred_probs))\n",
    "model_3_preds[:10]"
   ]
  },
  {
   "cell_type": "code",
   "execution_count": 44,
   "metadata": {
    "colab": {
     "base_uri": "https://localhost:8080/"
    },
    "id": "sDGf2ItXtjGM",
    "outputId": "a0c89d2e-4790-4e43-817c-97594b154128"
   },
   "outputs": [
    {
     "data": {
      "text/plain": [
       "{'accuracy': 78.87139107611549,\n",
       " 'precision': 0.7912533510367916,\n",
       " 'recall': 0.7887139107611548,\n",
       " 'f1': 0.7866156427918749}"
      ]
     },
     "execution_count": 44,
     "metadata": {},
     "output_type": "execute_result"
    }
   ],
   "source": [
    "model_3_results = calculate_results(val_labels,model_3_preds)\n",
    "model_3_results"
   ]
  },
  {
   "cell_type": "markdown",
   "metadata": {
    "id": "iiei4KEUtjGM"
   },
   "source": [
    "#### Model4 - Bidirectional RNN"
   ]
  },
  {
   "cell_type": "code",
   "execution_count": 45,
   "metadata": {
    "colab": {
     "base_uri": "https://localhost:8080/"
    },
    "id": "UkpwO2rMtjGM",
    "outputId": "fe6469f5-707e-4296-a1f2-9026e1c08aa8"
   },
   "outputs": [
    {
     "name": "stdout",
     "output_type": "stream",
     "text": [
      "Epoch 1/5\n",
      "215/215 [==============================] - 17s 57ms/step - loss: 0.5037 - accuracy: 0.7530 - val_loss: 0.4538 - val_accuracy: 0.7822\n",
      "Epoch 2/5\n",
      "215/215 [==============================] - 6s 27ms/step - loss: 0.3089 - accuracy: 0.8755 - val_loss: 0.5242 - val_accuracy: 0.7664\n",
      "Epoch 3/5\n",
      "215/215 [==============================] - 6s 26ms/step - loss: 0.2015 - accuracy: 0.9216 - val_loss: 0.5727 - val_accuracy: 0.7546\n",
      "Epoch 4/5\n",
      "215/215 [==============================] - 5s 24ms/step - loss: 0.1363 - accuracy: 0.9566 - val_loss: 0.6746 - val_accuracy: 0.7651\n",
      "Epoch 5/5\n",
      "215/215 [==============================] - 5s 24ms/step - loss: 0.1030 - accuracy: 0.9666 - val_loss: 0.6702 - val_accuracy: 0.7559\n"
     ]
    }
   ],
   "source": [
    "# Trying out on my own\n",
    "text_vectorizer_exp = tf.keras.layers.experimental.preprocessing.TextVectorization(max_tokens=10000,\n",
    "                                      output_sequence_length=15)\n",
    "text_vectorizer_exp.adapt(train_sentences)\n",
    "\n",
    "inputs = tf.keras.layers.Input(shape=(1,), dtype=tf.string)\n",
    "x = text_vectorizer_exp(inputs)\n",
    "x = tf.keras.layers.Embedding(input_dim=10000,\n",
    "                              output_dim=128,\n",
    "                              input_length=15)(x)\n",
    "x = tf.keras.layers.Bidirectional(tf.keras.layers.LSTM(64, return_sequences=True))(x)\n",
    "x = tf.keras.layers.Bidirectional(tf.keras.layers.LSTM(64))(x)\n",
    "outputs = tf.keras.layers.Dense(1,activation=tf.keras.activations.sigmoid)(x)\n",
    "\n",
    "model_4_exp = tf.keras.Model(inputs,outputs)\n",
    "model_4_exp.compile(loss=tf.keras.losses.BinaryCrossentropy(),\n",
    "                    optimizer=tf.keras.optimizers.Adam(),\n",
    "                    metrics=['accuracy'])\n",
    "model_4_history_exp = model_4_exp.fit(train_sentences,\n",
    "                                      train_labels,\n",
    "                                      validation_data=(val_sentences,val_labels),\n",
    "                                      epochs=5)"
   ]
  },
  {
   "cell_type": "markdown",
   "metadata": {
    "id": "vlTNW7tZtjGN"
   },
   "source": [
    "Normal RNN's go from left to right\n",
    "\n",
    "Bi-directional go from right to left as well as left to right"
   ]
  },
  {
   "cell_type": "code",
   "execution_count": 46,
   "metadata": {
    "colab": {
     "base_uri": "https://localhost:8080/"
    },
    "id": "uUJANmC_tjGN",
    "outputId": "4a36d2a6-be80-42ce-8139-14fb6c34468c"
   },
   "outputs": [
    {
     "name": "stdout",
     "output_type": "stream",
     "text": [
      "Epoch 1/5\n",
      "215/215 [==============================] - 11s 39ms/step - loss: 0.5115 - accuracy: 0.7463 - val_loss: 0.4585 - val_accuracy: 0.7795\n",
      "Epoch 2/5\n",
      "215/215 [==============================] - 4s 17ms/step - loss: 0.3158 - accuracy: 0.8708 - val_loss: 0.5092 - val_accuracy: 0.7717\n",
      "Epoch 3/5\n",
      "215/215 [==============================] - 4s 17ms/step - loss: 0.2146 - accuracy: 0.9169 - val_loss: 0.5608 - val_accuracy: 0.7756\n",
      "Epoch 4/5\n",
      "215/215 [==============================] - 3s 16ms/step - loss: 0.1481 - accuracy: 0.9502 - val_loss: 0.6473 - val_accuracy: 0.7769\n",
      "Epoch 5/5\n",
      "215/215 [==============================] - 3s 16ms/step - loss: 0.1048 - accuracy: 0.9653 - val_loss: 0.6983 - val_accuracy: 0.7572\n"
     ]
    }
   ],
   "source": [
    "# model 4\n",
    "text_vectorizer = tf.keras.layers.experimental.preprocessing.TextVectorization(max_tokens=10000,\n",
    "                                                    output_sequence_length=15)\n",
    "text_vectorizer.adapt(train_sentences)\n",
    "\n",
    "inputs = tf.keras.layers.Input(shape=(1,),dtype=tf.string)\n",
    "x = text_vectorizer(inputs)\n",
    "x = tf.keras.layers.Embedding(input_dim=10000,\n",
    "                              output_dim=128,\n",
    "                              input_length=15)(x)\n",
    "# x = tf.keras.layers.Bidirectional(tf.keras.layers.LSTM(64,return_sequences=True))(x)\n",
    "x = tf.keras.layers.Bidirectional(tf.keras.layers.LSTM(64))(x)\n",
    "outputs = tf.keras.layers.Dense(1,activation=tf.keras.activations.sigmoid)(x)\n",
    "\n",
    "model_4 = tf.keras.Model(inputs,outputs)\n",
    "\n",
    "model_4.compile(loss=tf.keras.losses.BinaryCrossentropy(),\n",
    "                optimizer=tf.keras.optimizers.Adam(),\n",
    "                metrics=['accuracy'])\n",
    "model_4_history = model_4.fit(train_sentences,train_labels,\n",
    "                              epochs=5,\n",
    "                              validation_data=(val_sentences,val_labels))"
   ]
  },
  {
   "cell_type": "code",
   "execution_count": 47,
   "metadata": {
    "colab": {
     "base_uri": "https://localhost:8080/"
    },
    "id": "OwhOpMaftjGN",
    "outputId": "86d6e774-6814-4414-d2e6-c6a7957a234e"
   },
   "outputs": [
    {
     "name": "stdout",
     "output_type": "stream",
     "text": [
      "24/24 [==============================] - 1s 7ms/step\n"
     ]
    },
    {
     "data": {
      "text/plain": [
       "array([[0.05728],\n",
       "       [0.93   ],\n",
       "       [1.     ],\n",
       "       [0.1604 ],\n",
       "       [0.00715],\n",
       "       [0.999  ],\n",
       "       [0.994  ],\n",
       "       [1.     ],\n",
       "       [1.     ],\n",
       "       [0.2161 ]], dtype=float16)"
      ]
     },
     "execution_count": 47,
     "metadata": {},
     "output_type": "execute_result"
    }
   ],
   "source": [
    "model_4_pred_probs = model_4.predict(val_sentences)\n",
    "model_4_pred_probs[:10]"
   ]
  },
  {
   "cell_type": "code",
   "execution_count": 48,
   "metadata": {
    "colab": {
     "base_uri": "https://localhost:8080/"
    },
    "id": "v5phUteQtjGN",
    "outputId": "5a05ce56-5454-412c-bf94-5d0f39204490"
   },
   "outputs": [
    {
     "data": {
      "text/plain": [
       "<tf.Tensor: shape=(10,), dtype=float16, numpy=array([0., 1., 1., 0., 0., 1., 1., 1., 1., 0.], dtype=float16)>"
      ]
     },
     "execution_count": 48,
     "metadata": {},
     "output_type": "execute_result"
    }
   ],
   "source": [
    "model_4_preds = tf.squeeze(tf.round(model_4_pred_probs))\n",
    "model_4_preds[:10]"
   ]
  },
  {
   "cell_type": "code",
   "execution_count": 49,
   "metadata": {
    "colab": {
     "base_uri": "https://localhost:8080/"
    },
    "id": "Ko8xUiUjtjGN",
    "outputId": "0ce32483-0eee-49e8-ad65-22dfc5b730c4"
   },
   "outputs": [
    {
     "data": {
      "text/plain": [
       "{'accuracy': 75.7217847769029,\n",
       " 'precision': 0.7567936195399113,\n",
       " 'recall': 0.7572178477690289,\n",
       " 'f1': 0.7567837670446225}"
      ]
     },
     "execution_count": 49,
     "metadata": {},
     "output_type": "execute_result"
    }
   ],
   "source": [
    "model_4_results = calculate_results(val_labels,model_4_preds)\n",
    "model_4_results"
   ]
  },
  {
   "cell_type": "markdown",
   "metadata": {
    "id": "YdMFRt5xtjGO"
   },
   "source": [
    "#### 1D CNN"
   ]
  },
  {
   "cell_type": "code",
   "execution_count": 50,
   "metadata": {
    "colab": {
     "base_uri": "https://localhost:8080/"
    },
    "id": "MSfwD4FEtjGO",
    "outputId": "6f5bc81d-7630-4960-cca2-2152ddcda99d"
   },
   "outputs": [
    {
     "data": {
      "text/plain": [
       "(TensorShape([1, 15, 128]), TensorShape([1, 11, 32]), TensorShape([1, 32]))"
      ]
     },
     "execution_count": 50,
     "metadata": {},
     "output_type": "execute_result"
    }
   ],
   "source": [
    "embedding_test = embedding(text_vectorizer([\"this is a test sentence\"]))\n",
    "conv_1d = tf.keras.layers.Conv1D(32,\n",
    "                                 5,\n",
    "                                 activation=\"relu\",\n",
    "                                 padding=\"valid\")\n",
    "conv_1d_output = conv_1d(embedding_test)\n",
    "\n",
    "max_pool = tf.keras.layers.GlobalMaxPool1D()\n",
    "max_pool_output = max_pool(conv_1d_output)\n",
    "\n",
    "embedding_test.shape, conv_1d_output.shape, max_pool_output.shape"
   ]
  },
  {
   "cell_type": "code",
   "execution_count": 51,
   "metadata": {
    "colab": {
     "base_uri": "https://localhost:8080/"
    },
    "id": "4wNjIjfptjGO",
    "outputId": "dea458b8-91d8-4b9d-96c1-11ff2b0a5ef6"
   },
   "outputs": [
    {
     "data": {
      "text/plain": [
       "<tf.Tensor: shape=(1, 15, 128), dtype=float16, numpy=\n",
       "array([[[-0.0741   ,  0.005177 , -0.000992 , ..., -0.0313   ,\n",
       "         -0.02364  , -0.003284 ],\n",
       "        [-0.01328  ,  0.0468   ,  0.03372  , ...,  0.004246 ,\n",
       "         -0.0791   ,  0.0451   ],\n",
       "        [-0.05307  ,  0.0008225, -0.0288   , ..., -0.01764  ,\n",
       "         -0.052    , -0.04272  ],\n",
       "        ...,\n",
       "        [-0.04318  , -0.01334  ,  0.01537  , ..., -0.0363   ,\n",
       "          0.003754 ,  0.03366  ],\n",
       "        [-0.04318  , -0.01334  ,  0.01537  , ..., -0.0363   ,\n",
       "          0.003754 ,  0.03366  ],\n",
       "        [-0.04318  , -0.01334  ,  0.01537  , ..., -0.0363   ,\n",
       "          0.003754 ,  0.03366  ]]], dtype=float16)>"
      ]
     },
     "execution_count": 51,
     "metadata": {},
     "output_type": "execute_result"
    }
   ],
   "source": [
    "embedding_test"
   ]
  },
  {
   "cell_type": "code",
   "execution_count": 52,
   "metadata": {
    "colab": {
     "base_uri": "https://localhost:8080/"
    },
    "id": "v4-9Q5oltjGO",
    "outputId": "3edd2277-0503-4274-90e2-ead0fd201bc2"
   },
   "outputs": [
    {
     "data": {
      "text/plain": [
       "<tf.Tensor: shape=(1, 11, 32), dtype=float16, numpy=\n",
       "array([[[0.04773  , 0.       , 0.       , 0.01585  , 0.01717  ,\n",
       "         0.       , 0.       , 0.       , 0.       , 0.04947  ,\n",
       "         0.0343   , 0.02242  , 0.0529   , 0.03488  , 0.       ,\n",
       "         0.       , 0.0937   , 0.       , 0.0464   , 0.       ,\n",
       "         0.0418   , 0.0121   , 0.       , 0.       , 0.       ,\n",
       "         0.       , 0.03014  , 0.0467   , 0.01233  , 0.05942  ,\n",
       "         0.05054  , 0.       ],\n",
       "        [0.06903  , 0.07794  , 0.       , 0.       , 0.       ,\n",
       "         0.       , 0.02995  , 0.       , 0.       , 0.       ,\n",
       "         0.02446  , 0.03668  , 0.02255  , 0.01805  , 0.       ,\n",
       "         0.       , 0.08594  , 0.005306 , 0.06604  , 0.02658  ,\n",
       "         0.04605  , 0.0326   , 0.       , 0.       , 0.       ,\n",
       "         0.       , 0.       , 0.01444  , 0.       , 0.06137  ,\n",
       "         0.       , 0.000513 ],\n",
       "        [0.       , 0.       , 0.       , 0.       , 0.       ,\n",
       "         0.01653  , 0.01924  , 0.       , 0.       , 0.0754   ,\n",
       "         0.       , 0.01558  , 0.02017  , 0.       , 0.       ,\n",
       "         0.       , 0.       , 0.0829   , 0.0536   , 0.       ,\n",
       "         0.02849  , 0.       , 0.       , 0.0852   , 0.       ,\n",
       "         0.001479 , 0.       , 0.0682   , 0.       , 0.       ,\n",
       "         0.0342   , 0.       ],\n",
       "        [0.       , 0.04916  , 0.       , 0.013054 , 0.       ,\n",
       "         0.01003  , 0.005295 , 0.       , 0.       , 0.05112  ,\n",
       "         0.02557  , 0.0431   , 0.       , 0.       , 0.02309  ,\n",
       "         0.0332   , 0.002678 , 0.07916  , 0.03488  , 0.       ,\n",
       "         0.10034  , 0.02223  , 0.       , 0.       , 0.       ,\n",
       "         0.02728  , 0.       , 0.0512   , 0.03336  , 0.0356   ,\n",
       "         0.       , 0.       ],\n",
       "        [0.       , 0.002888 , 0.00931  , 0.01616  , 0.       ,\n",
       "         0.       , 0.0003934, 0.02446  , 0.03137  , 0.02534  ,\n",
       "         0.       , 0.01682  , 0.03915  , 0.       , 0.       ,\n",
       "         0.       , 0.       , 0.01862  , 0.0676   , 0.       ,\n",
       "         0.05722  , 0.01216  , 0.       , 0.00977  , 0.       ,\n",
       "         0.       , 0.       , 0.062    , 0.       , 0.       ,\n",
       "         0.       , 0.       ],\n",
       "        [0.       , 0.002754 , 0.       , 0.01297  , 0.       ,\n",
       "         0.       , 0.0288   , 0.       , 0.00359  , 0.03244  ,\n",
       "         0.       , 0.       , 0.03534  , 0.       , 0.01302  ,\n",
       "         0.       , 0.       , 0.01262  , 0.03464  , 0.       ,\n",
       "         0.04715  , 0.       , 0.       , 0.0407   , 0.01263  ,\n",
       "         0.       , 0.01881  , 0.03992  , 0.       , 0.       ,\n",
       "         0.       , 0.       ],\n",
       "        [0.       , 0.002754 , 0.       , 0.01297  , 0.       ,\n",
       "         0.       , 0.0288   , 0.       , 0.00359  , 0.03244  ,\n",
       "         0.       , 0.       , 0.03534  , 0.       , 0.01302  ,\n",
       "         0.       , 0.       , 0.01262  , 0.03464  , 0.       ,\n",
       "         0.04715  , 0.       , 0.       , 0.0407   , 0.01263  ,\n",
       "         0.       , 0.01881  , 0.03992  , 0.       , 0.       ,\n",
       "         0.       , 0.       ],\n",
       "        [0.       , 0.002754 , 0.       , 0.01297  , 0.       ,\n",
       "         0.       , 0.0288   , 0.       , 0.00359  , 0.03244  ,\n",
       "         0.       , 0.       , 0.03534  , 0.       , 0.01302  ,\n",
       "         0.       , 0.       , 0.01262  , 0.03464  , 0.       ,\n",
       "         0.04715  , 0.       , 0.       , 0.0407   , 0.01263  ,\n",
       "         0.       , 0.01881  , 0.03992  , 0.       , 0.       ,\n",
       "         0.       , 0.       ],\n",
       "        [0.       , 0.002754 , 0.       , 0.01297  , 0.       ,\n",
       "         0.       , 0.0288   , 0.       , 0.00359  , 0.03244  ,\n",
       "         0.       , 0.       , 0.03534  , 0.       , 0.01302  ,\n",
       "         0.       , 0.       , 0.01262  , 0.03464  , 0.       ,\n",
       "         0.04715  , 0.       , 0.       , 0.0407   , 0.01263  ,\n",
       "         0.       , 0.01881  , 0.03992  , 0.       , 0.       ,\n",
       "         0.       , 0.       ],\n",
       "        [0.       , 0.002754 , 0.       , 0.01297  , 0.       ,\n",
       "         0.       , 0.0288   , 0.       , 0.00359  , 0.03244  ,\n",
       "         0.       , 0.       , 0.03534  , 0.       , 0.01302  ,\n",
       "         0.       , 0.       , 0.01262  , 0.03464  , 0.       ,\n",
       "         0.04715  , 0.       , 0.       , 0.0407   , 0.01263  ,\n",
       "         0.       , 0.01881  , 0.03992  , 0.       , 0.       ,\n",
       "         0.       , 0.       ],\n",
       "        [0.       , 0.002754 , 0.       , 0.01297  , 0.       ,\n",
       "         0.       , 0.0288   , 0.       , 0.00359  , 0.03244  ,\n",
       "         0.       , 0.       , 0.03534  , 0.       , 0.01302  ,\n",
       "         0.       , 0.       , 0.01262  , 0.03464  , 0.       ,\n",
       "         0.04715  , 0.       , 0.       , 0.0407   , 0.01263  ,\n",
       "         0.       , 0.01881  , 0.03992  , 0.       , 0.       ,\n",
       "         0.       , 0.       ]]], dtype=float16)>"
      ]
     },
     "execution_count": 52,
     "metadata": {},
     "output_type": "execute_result"
    }
   ],
   "source": [
    "conv_1d_output"
   ]
  },
  {
   "cell_type": "code",
   "execution_count": 53,
   "metadata": {
    "colab": {
     "base_uri": "https://localhost:8080/"
    },
    "id": "V5Q9sl3LtjGO",
    "outputId": "f20dc0a6-2ae9-4213-f96a-17c2773812e8"
   },
   "outputs": [
    {
     "data": {
      "text/plain": [
       "<tf.Tensor: shape=(1, 32), dtype=float16, numpy=\n",
       "array([[0.06903 , 0.07794 , 0.00931 , 0.01616 , 0.01717 , 0.01653 ,\n",
       "        0.02995 , 0.02446 , 0.03137 , 0.0754  , 0.0343  , 0.0431  ,\n",
       "        0.0529  , 0.03488 , 0.02309 , 0.0332  , 0.0937  , 0.0829  ,\n",
       "        0.0676  , 0.02658 , 0.10034 , 0.0326  , 0.      , 0.0852  ,\n",
       "        0.01263 , 0.02728 , 0.03014 , 0.0682  , 0.03336 , 0.06137 ,\n",
       "        0.05054 , 0.000513]], dtype=float16)>"
      ]
     },
     "execution_count": 53,
     "metadata": {},
     "output_type": "execute_result"
    }
   ],
   "source": [
    "max_pool_output"
   ]
  },
  {
   "cell_type": "code",
   "execution_count": 54,
   "metadata": {
    "colab": {
     "base_uri": "https://localhost:8080/"
    },
    "id": "58U70HiRtjGO",
    "outputId": "32e28f7a-700b-4813-8366-981cf4f2d7da"
   },
   "outputs": [
    {
     "name": "stdout",
     "output_type": "stream",
     "text": [
      "Epoch 1/5\n"
     ]
    },
    {
     "name": "stdout",
     "output_type": "stream",
     "text": [
      "215/215 [==============================] - 10s 37ms/step - loss: 0.1587 - accuracy: 0.9461 - val_loss: 0.7339 - val_accuracy: 0.7900\n",
      "Epoch 2/5\n",
      "215/215 [==============================] - 2s 11ms/step - loss: 0.1035 - accuracy: 0.9618 - val_loss: 0.8726 - val_accuracy: 0.7782\n",
      "Epoch 3/5\n",
      "215/215 [==============================] - 3s 12ms/step - loss: 0.0810 - accuracy: 0.9691 - val_loss: 0.9544 - val_accuracy: 0.7782\n",
      "Epoch 4/5\n",
      "215/215 [==============================] - 3s 14ms/step - loss: 0.0699 - accuracy: 0.9734 - val_loss: 1.0347 - val_accuracy: 0.7730\n",
      "Epoch 5/5\n",
      "215/215 [==============================] - 2s 11ms/step - loss: 0.0608 - accuracy: 0.9752 - val_loss: 1.1027 - val_accuracy: 0.7743\n"
     ]
    }
   ],
   "source": [
    "# Create 1D CNN layer to model sequences\n",
    "inputs = tf.keras.layers.Input(shape=(1,),dtype=tf.string)\n",
    "x = text_vectorizer(inputs)\n",
    "x = embedding(x)\n",
    "x = tf.keras.layers.Conv1D(filters=64,\n",
    "                           kernel_size=5,\n",
    "                           padding=\"valid\",\n",
    "                           activation=\"relu\")(x)\n",
    "x = tf.keras.layers.GlobalMaxPool1D()(x)\n",
    "outputs = tf.keras.layers.Dense(1,activation=tf.keras.activations.sigmoid)(x)\n",
    "\n",
    "model_5 = tf.keras.Model(inputs,outputs)\n",
    "\n",
    "model_5.compile(loss=tf.keras.losses.BinaryCrossentropy(),\n",
    "                optimizer=tf.keras.optimizers.Adam(),\n",
    "                metrics=[\"accuracy\"])\n",
    "model_5_history = model_5.fit(train_sentences,train_labels,\n",
    "                              validation_data=(val_sentences,val_labels),\n",
    "                              epochs=5)"
   ]
  },
  {
   "cell_type": "code",
   "execution_count": 55,
   "metadata": {
    "colab": {
     "base_uri": "https://localhost:8080/"
    },
    "id": "3M13vl1ltjGP",
    "outputId": "23b5a4d4-d03c-415a-ba13-70082ea14fcc"
   },
   "outputs": [
    {
     "name": "stdout",
     "output_type": "stream",
     "text": [
      "24/24 [==============================] - 0s 3ms/step\n"
     ]
    },
    {
     "data": {
      "text/plain": [
       "array([[0.2205 ],\n",
       "       [0.611  ],\n",
       "       [1.     ],\n",
       "       [0.05115],\n",
       "       [0.     ],\n",
       "       [0.998  ],\n",
       "       [0.992  ],\n",
       "       [1.     ],\n",
       "       [1.     ],\n",
       "       [0.683  ]], dtype=float16)"
      ]
     },
     "execution_count": 55,
     "metadata": {},
     "output_type": "execute_result"
    }
   ],
   "source": [
    "model_5_pred_probs = model_5.predict(val_sentences)\n",
    "model_5_pred_probs[:10]"
   ]
  },
  {
   "cell_type": "code",
   "execution_count": 56,
   "metadata": {
    "colab": {
     "base_uri": "https://localhost:8080/"
    },
    "id": "Xpfg5D_xtjGP",
    "outputId": "88ae1738-5382-4107-bcd7-4d21a4d52988"
   },
   "outputs": [
    {
     "data": {
      "text/plain": [
       "<tf.Tensor: shape=(10,), dtype=float16, numpy=array([0., 1., 1., 0., 0., 1., 1., 1., 1., 1.], dtype=float16)>"
      ]
     },
     "execution_count": 56,
     "metadata": {},
     "output_type": "execute_result"
    }
   ],
   "source": [
    "model_5_preds = tf.squeeze(tf.round(model_5_pred_probs))\n",
    "model_5_preds[:10]"
   ]
  },
  {
   "cell_type": "code",
   "execution_count": 57,
   "metadata": {
    "colab": {
     "base_uri": "https://localhost:8080/"
    },
    "id": "Rbf3XnmItjGP",
    "outputId": "98521aad-97a4-4672-ea2a-1ee7ba237747"
   },
   "outputs": [
    {
     "data": {
      "text/plain": [
       "{'accuracy': 77.42782152230971,\n",
       " 'precision': 0.7752857985262857,\n",
       " 'recall': 0.7742782152230971,\n",
       " 'f1': 0.7725974162749719}"
      ]
     },
     "execution_count": 57,
     "metadata": {},
     "output_type": "execute_result"
    }
   ],
   "source": [
    "model_5_results = calculate_results(val_labels,model_5_preds)\n",
    "model_5_results"
   ]
  },
  {
   "cell_type": "code",
   "execution_count": 58,
   "metadata": {
    "colab": {
     "base_uri": "https://localhost:8080/"
    },
    "id": "EIi9WX7VtjGP",
    "outputId": "2aa8205c-7211-46e4-d2a7-d968827af8e3"
   },
   "outputs": [
    {
     "data": {
      "text/plain": [
       "{'accuracy': 79.26509186351706,\n",
       " 'precision': 0.8111390004213173,\n",
       " 'recall': 0.7926509186351706,\n",
       " 'f1': 0.7862189758049549}"
      ]
     },
     "execution_count": 58,
     "metadata": {},
     "output_type": "execute_result"
    }
   ],
   "source": [
    "baseline_results"
   ]
  },
  {
   "cell_type": "markdown",
   "metadata": {
    "id": "Nw5JS3dNtjGP"
   },
   "source": [
    "#### Model 6 - Tensorflow Hub pretrained models\n",
    "USE-extractor - universal sentence encoder (USE)"
   ]
  },
  {
   "cell_type": "code",
   "execution_count": 59,
   "metadata": {
    "colab": {
     "base_uri": "https://localhost:8080/"
    },
    "id": "RY_WYxmotjGQ",
    "outputId": "aec40bef-df08-4c36-e0f1-fe334179c1d5"
   },
   "outputs": [
    {
     "ename": "",
     "evalue": "",
     "output_type": "error",
     "traceback": [
      "\u001B[1;31mThe Kernel crashed while executing code in the the current cell or a previous cell. Please review the code in the cell(s) to identify a possible cause of the failure. Click <a href='https://aka.ms/vscodeJupyterKernelCrash'>here</a> for more info. View Jupyter <a href='command:jupyter.viewOutput'>log</a> for further details."
     ]
    }
   ],
   "source": [
    "import tensorflow_hub as hub\n",
    "embed = hub.load(\"https://tfhub.dev/google/universal-sentence-encoder/4\")\n",
    "embed_sample = embed([sample_sentence,\n",
    "                      \"When you can the unviersal sentence encider on a sentence, it turns into into numbers\"])\n",
    "print(embed_sample[0][:50])"
   ]
  },
  {
   "cell_type": "code",
   "execution_count": null,
   "metadata": {
    "colab": {
     "base_uri": "https://localhost:8080/"
    },
    "id": "KFo46Hy2tjGQ",
    "outputId": "ad64f62e-5f4e-4eec-9d4b-8d9156390a20"
   },
   "outputs": [
    {
     "data": {
      "text/plain": [
       "<tf.Tensor: shape=(2, 512), dtype=float32, numpy=\n",
       "array([[-0.01157027,  0.0248591 ,  0.02878048, ..., -0.00186125,\n",
       "         0.02315824, -0.01485021],\n",
       "       [ 0.06832423, -0.08312771, -0.00292901, ..., -0.01492013,\n",
       "         0.01456988,  0.03475707]], dtype=float32)>"
      ]
     },
     "execution_count": 60,
     "metadata": {},
     "output_type": "execute_result"
    }
   ],
   "source": [
    "embed_sample"
   ]
  },
  {
   "cell_type": "markdown",
   "metadata": {
    "id": "cLySGe8ctjGQ"
   },
   "source": [
    "Use the above USE\"\" embedding layer for a normal type of model"
   ]
  },
  {
   "cell_type": "code",
   "execution_count": null,
   "metadata": {
    "id": "O6FvIAsOtjGQ"
   },
   "outputs": [],
   "source": [
    "# Create a keras layer using the USE\"\" pretrained layer from tensorflow hub\n",
    "sentence_encoder_layer = hub.KerasLayer(embed,\n",
    "                                        input_shape=[],\n",
    "                                        dtype=tf.string,\n",
    "                                        trainable=False,\n",
    "                                        name=\"USE\")"
   ]
  },
  {
   "cell_type": "code",
   "execution_count": null,
   "metadata": {
    "colab": {
     "base_uri": "https://localhost:8080/"
    },
    "id": "JAedK16ztjGQ",
    "outputId": "c103f610-6993-42d9-f460-edfe236e6873"
   },
   "outputs": [
    {
     "data": {
      "text/plain": [
       "<tensorflow_hub.keras_layer.KerasLayer at 0x7f485ad76c10>"
      ]
     },
     "execution_count": 62,
     "metadata": {},
     "output_type": "execute_result"
    }
   ],
   "source": [
    "sentence_encoder_layer"
   ]
  },
  {
   "cell_type": "code",
   "execution_count": null,
   "metadata": {
    "colab": {
     "base_uri": "https://localhost:8080/"
    },
    "id": "OASRLNAatjGQ",
    "outputId": "25116497-54c1-4174-d5b3-f493a4abce65"
   },
   "outputs": [
    {
     "name": "stdout",
     "output_type": "stream",
     "text": [
      "Epoch 1/5\n",
      "215/215 [==============================] - 8s 26ms/step - loss: 0.6515 - accuracy: 0.7273 - val_loss: 0.6173 - val_accuracy: 0.7782\n",
      "Epoch 2/5\n",
      "215/215 [==============================] - 5s 23ms/step - loss: 0.5834 - accuracy: 0.7902 - val_loss: 0.5668 - val_accuracy: 0.7861\n",
      "Epoch 3/5\n",
      "215/215 [==============================] - 5s 22ms/step - loss: 0.5398 - accuracy: 0.7938 - val_loss: 0.5343 - val_accuracy: 0.7874\n",
      "Epoch 4/5\n",
      "215/215 [==============================] - 5s 22ms/step - loss: 0.5107 - accuracy: 0.7981 - val_loss: 0.5125 - val_accuracy: 0.7887\n",
      "Epoch 5/5\n",
      "215/215 [==============================] - 5s 23ms/step - loss: 0.4904 - accuracy: 0.8006 - val_loss: 0.4977 - val_accuracy: 0.7927\n"
     ]
    }
   ],
   "source": [
    "# Create  sequential layer\n",
    "model_6 = tf.keras.models.Sequential([\n",
    "    sentence_encoder_layer,\n",
    "    tf.keras.layers.Dense(1,activation=\"sigmoid\")\n",
    "])\n",
    "\n",
    "model_6.compile(loss=tf.keras.losses.BinaryCrossentropy(),\n",
    "                optimizer=tf.keras.optimizers.Adam(),\n",
    "                metrics=['accuracy'])\n",
    "model_6_history = model_6.fit(train_sentences,train_labels,\n",
    "                               validation_data=(val_sentences,val_labels),\n",
    "                               epochs=5)"
   ]
  },
  {
   "cell_type": "code",
   "execution_count": null,
   "metadata": {
    "colab": {
     "base_uri": "https://localhost:8080/"
    },
    "id": "BjeiQMmltjGR",
    "outputId": "cf152ceb-f11a-4104-c626-c4bf5079e6b9"
   },
   "outputs": [
    {
     "name": "stdout",
     "output_type": "stream",
     "text": [
      "24/24 [==============================] - 1s 16ms/step\n"
     ]
    },
    {
     "data": {
      "text/plain": [
       "array([[0.3652],\n",
       "       [0.678 ],\n",
       "       [0.851 ],\n",
       "       [0.3484],\n",
       "       [0.64  ],\n",
       "       [0.726 ],\n",
       "       [0.8286],\n",
       "       [0.8306],\n",
       "       [0.744 ],\n",
       "       [0.2063]], dtype=float16)"
      ]
     },
     "execution_count": 64,
     "metadata": {},
     "output_type": "execute_result"
    }
   ],
   "source": [
    "model_6_pred_probs=model_6.predict(val_sentences)\n",
    "model_6_pred_probs[:10]"
   ]
  },
  {
   "cell_type": "code",
   "execution_count": null,
   "metadata": {
    "colab": {
     "base_uri": "https://localhost:8080/"
    },
    "id": "d-G9SxEMtjGR",
    "outputId": "01a34024-b608-4ecc-a0a0-6432518f9a61"
   },
   "outputs": [
    {
     "data": {
      "text/plain": [
       "<tf.Tensor: shape=(10,), dtype=float16, numpy=array([0., 1., 1., 0., 1., 1., 1., 1., 1., 0.], dtype=float16)>"
      ]
     },
     "execution_count": 65,
     "metadata": {},
     "output_type": "execute_result"
    }
   ],
   "source": [
    "model_6_preds=tf.squeeze(tf.round(model_6_pred_probs))\n",
    "model_6_preds[:10]"
   ]
  },
  {
   "cell_type": "code",
   "execution_count": null,
   "metadata": {
    "colab": {
     "base_uri": "https://localhost:8080/"
    },
    "id": "ESiAF9QWtjGR",
    "outputId": "0ee32816-b196-40e7-d513-c6d990af24b1"
   },
   "outputs": [
    {
     "data": {
      "text/plain": [
       "{'accuracy': 79.26509186351706,\n",
       " 'precision': 0.7935978195033314,\n",
       " 'recall': 0.7926509186351706,\n",
       " 'f1': 0.791315716217291}"
      ]
     },
     "execution_count": 66,
     "metadata": {},
     "output_type": "execute_result"
    }
   ],
   "source": [
    "model_6_results = calculate_results(val_labels,model_6_preds)\n",
    "model_6_results"
   ]
  },
  {
   "cell_type": "code",
   "execution_count": null,
   "metadata": {
    "colab": {
     "base_uri": "https://localhost:8080/"
    },
    "id": "LV51qBK-tjGR",
    "outputId": "af79e6fc-1435-486c-9d48-5401c2fd9847"
   },
   "outputs": [
    {
     "data": {
      "text/plain": [
       "{'accuracy': 79.26509186351706,\n",
       " 'precision': 0.8111390004213173,\n",
       " 'recall': 0.7926509186351706,\n",
       " 'f1': 0.7862189758049549}"
      ]
     },
     "execution_count": 67,
     "metadata": {},
     "output_type": "execute_result"
    }
   ],
   "source": [
    "baseline_results"
   ]
  },
  {
   "cell_type": "code",
   "execution_count": null,
   "metadata": {
    "colab": {
     "base_uri": "https://localhost:8080/"
    },
    "id": "SuxGYt3YtjGR",
    "outputId": "554e196d-669e-49a3-b35e-cef94d718d4a"
   },
   "outputs": [
    {
     "name": "stdout",
     "output_type": "stream",
     "text": [
      "Epoch 1/5\n",
      "215/215 [==============================] - 7s 27ms/step - loss: 0.4870 - accuracy: 0.7894 - val_loss: 0.4344 - val_accuracy: 0.8045\n",
      "Epoch 2/5\n",
      "215/215 [==============================] - 5s 25ms/step - loss: 0.4017 - accuracy: 0.8209 - val_loss: 0.4213 - val_accuracy: 0.8176\n",
      "Epoch 3/5\n",
      "215/215 [==============================] - 5s 24ms/step - loss: 0.3812 - accuracy: 0.8335 - val_loss: 0.4217 - val_accuracy: 0.8215\n",
      "Epoch 4/5\n",
      "215/215 [==============================] - 5s 23ms/step - loss: 0.3614 - accuracy: 0.8460 - val_loss: 0.4194 - val_accuracy: 0.8176\n",
      "Epoch 5/5\n",
      "215/215 [==============================] - 5s 23ms/step - loss: 0.3374 - accuracy: 0.8551 - val_loss: 0.4238 - val_accuracy: 0.8228\n",
      "24/24 [==============================] - 1s 18ms/step\n",
      "[[0.1592 ]\n",
      " [0.7734 ]\n",
      " [0.997  ]\n",
      " [0.255  ]\n",
      " [0.7285 ]\n",
      " [0.866  ]\n",
      " [0.993  ]\n",
      " [0.993  ]\n",
      " [0.968  ]\n",
      " [0.05634]]\n",
      "tf.Tensor([0. 1. 1. 0. 1. 1. 1. 1. 1. 0.], shape=(10,), dtype=float16)\n",
      "{'accuracy': 82.28346456692913, 'precision': 0.8253135610622478, 'recall': 0.8228346456692913, 'f1': 0.8213746807704705}\n"
     ]
    }
   ],
   "source": [
    "# Challenge, beat the baseline\n",
    "model_6_exp = tf.keras.models.Sequential([\n",
    "    sentence_encoder_layer,\n",
    "    tf.keras.layers.Dense(64,activation=tf.keras.activations.relu),\n",
    "    tf.keras.layers.Dense(64,activation=tf.keras.activations.relu),\n",
    "    tf.keras.layers.Dense(1,activation=tf.keras.activations.sigmoid)\n",
    "])\n",
    "model_6_exp.compile(loss=tf.keras.losses.BinaryCrossentropy(),\n",
    "                    optimizer=tf.keras.optimizers.Adam(),\n",
    "                    metrics=['accuracy'])\n",
    "model_6_exp_history = model_6_exp.fit(train_sentences,train_labels,\n",
    "                                      epochs=5,\n",
    "                                      validation_data=(val_sentences,val_labels))\n",
    "\n",
    "model_6_exp_pred_probs = model_6_exp.predict(val_sentences)\n",
    "print(model_6_exp_pred_probs[:10])\n",
    "\n",
    "model_6_exp_preds = tf.squeeze(tf.round(model_6_exp_pred_probs))\n",
    "print(model_6_exp_preds[:10])\n",
    "\n",
    "model_6_exp_results = calculate_results(val_labels, model_6_exp_preds)\n",
    "print(model_6_exp_results)"
   ]
  },
  {
   "cell_type": "markdown",
   "metadata": {
    "id": "8qAovHDDtjGR"
   },
   "source": [
    "### Model 7 : TF Hub Pretrained USE but with 10% of training data"
   ]
  },
  {
   "cell_type": "code",
   "execution_count": null,
   "metadata": {
    "colab": {
     "base_uri": "https://localhost:8080/"
    },
    "id": "necgC53RtjGR",
    "outputId": "33c8a400-fb3c-4d29-eec7-52d2704f64c6"
   },
   "outputs": [
    {
     "data": {
      "text/plain": [
       "(761, 761)"
      ]
     },
     "execution_count": 69,
     "metadata": {},
     "output_type": "execute_result"
    }
   ],
   "source": [
    "train_10_percent = train_df_shuffled[[\"text\", \"target\"]].sample(frac=0.1, random_state=42)\n",
    "train_sentences_10_percent = train_10_percent[\"text\"].to_list()\n",
    "train_labels_10_percent = train_10_percent[\"target\"].to_list()\n",
    "len(train_sentences_10_percent), len(train_labels_10_percent)"
   ]
  },
  {
   "cell_type": "code",
   "execution_count": null,
   "metadata": {
    "colab": {
     "base_uri": "https://localhost:8080/"
    },
    "id": "CXPVFKZ_tjGS",
    "outputId": "a730ee4e-4a31-407e-c7e9-9a4f7f097001"
   },
   "outputs": [
    {
     "data": {
      "text/plain": [
       "target\n",
       "0    413\n",
       "1    348\n",
       "Name: count, dtype: int64"
      ]
     },
     "execution_count": 70,
     "metadata": {},
     "output_type": "execute_result"
    }
   ],
   "source": [
    "# Check the number of targets in the dataset\n",
    "train_10_percent[\"target\"].value_counts()"
   ]
  },
  {
   "cell_type": "code",
   "execution_count": null,
   "metadata": {
    "colab": {
     "base_uri": "https://localhost:8080/"
    },
    "id": "ZuqFlmmstjGS",
    "outputId": "33f7a1f9-50ca-434d-e074-7e7191698052"
   },
   "outputs": [
    {
     "data": {
      "text/plain": [
       "target\n",
       "0    4342\n",
       "1    3271\n",
       "Name: count, dtype: int64"
      ]
     },
     "execution_count": 71,
     "metadata": {},
     "output_type": "execute_result"
    }
   ],
   "source": [
    "train_df_shuffled[\"target\"].value_counts()"
   ]
  },
  {
   "cell_type": "code",
   "execution_count": null,
   "metadata": {
    "colab": {
     "base_uri": "https://localhost:8080/"
    },
    "id": "VnvNm0cVtjGS",
    "outputId": "496c2744-282f-495a-ff86-cc5017408758"
   },
   "outputs": [
    {
     "name": "stdout",
     "output_type": "stream",
     "text": [
      "Epoch 1/5\n",
      "24/24 [==============================] - 3s 59ms/step - loss: 0.6709 - accuracy: 0.6321 - val_loss: 0.6266 - val_accuracy: 0.7795\n",
      "Epoch 2/5\n",
      "24/24 [==============================] - 1s 43ms/step - loss: 0.5695 - accuracy: 0.8095 - val_loss: 0.4916 - val_accuracy: 0.8320\n",
      "Epoch 3/5\n",
      "24/24 [==============================] - 1s 43ms/step - loss: 0.4493 - accuracy: 0.8252 - val_loss: 0.3955 - val_accuracy: 0.8386\n",
      "Epoch 4/5\n",
      "24/24 [==============================] - 1s 42ms/step - loss: 0.3795 - accuracy: 0.8436 - val_loss: 0.3376 - val_accuracy: 0.8570\n",
      "Epoch 5/5\n",
      "24/24 [==============================] - 1s 38ms/step - loss: 0.3296 - accuracy: 0.8647 - val_loss: 0.2903 - val_accuracy: 0.8832\n"
     ]
    }
   ],
   "source": [
    "# model 7\n",
    "model_7 = tf.keras.models.Sequential([\n",
    "    sentence_encoder_layer,\n",
    "    tf.keras.layers.Dense(64,activation=tf.keras.activations.relu),\n",
    "    tf.keras.layers.Dense(64,activation=tf.keras.activations.relu),\n",
    "    tf.keras.layers.Dense(1,activation=tf.keras.activations.sigmoid)\n",
    "])\n",
    "\n",
    "model_7.compile(loss=tf.keras.losses.BinaryCrossentropy(),\n",
    "                optimizer=tf.keras.optimizers.Adam(),\n",
    "                metrics=[\"accuracy\"])\n",
    "model_7_history = model_7.fit(train_sentences_10_percent, train_labels_10_percent,\n",
    "                              epochs=5,\n",
    "                              validation_data=(val_sentences,val_labels))\n"
   ]
  },
  {
   "cell_type": "code",
   "execution_count": null,
   "metadata": {
    "colab": {
     "base_uri": "https://localhost:8080/"
    },
    "id": "PxCRfzkctjGS",
    "outputId": "83720290-d2dc-4459-c85e-37dc794e869f"
   },
   "outputs": [
    {
     "name": "stdout",
     "output_type": "stream",
     "text": [
      "24/24 [==============================] - 1s 16ms/step\n"
     ]
    },
    {
     "data": {
      "text/plain": [
       "array([[0.12305],\n",
       "       [0.8613 ],\n",
       "       [0.9604 ],\n",
       "       [0.2306 ],\n",
       "       [0.8906 ],\n",
       "       [0.869  ],\n",
       "       [0.957  ],\n",
       "       [0.9727 ],\n",
       "       [0.9233 ],\n",
       "       [0.00986]], dtype=float16)"
      ]
     },
     "execution_count": 73,
     "metadata": {},
     "output_type": "execute_result"
    }
   ],
   "source": [
    "model_7_pred_probs = model_7.predict(val_sentences)\n",
    "model_7_pred_probs[:10]"
   ]
  },
  {
   "cell_type": "code",
   "execution_count": null,
   "metadata": {
    "colab": {
     "base_uri": "https://localhost:8080/"
    },
    "id": "N_OxLFYRtjGS",
    "outputId": "fb4a2a86-a84a-45de-bdff-57941b0be5c9"
   },
   "outputs": [
    {
     "data": {
      "text/plain": [
       "<tf.Tensor: shape=(10,), dtype=float16, numpy=array([0., 1., 1., 0., 1., 1., 1., 1., 1., 0.], dtype=float16)>"
      ]
     },
     "execution_count": 74,
     "metadata": {},
     "output_type": "execute_result"
    }
   ],
   "source": [
    "model_7_preds = tf.squeeze(tf.round(model_7_pred_probs))\n",
    "model_7_preds[:10]"
   ]
  },
  {
   "cell_type": "code",
   "execution_count": null,
   "metadata": {
    "colab": {
     "base_uri": "https://localhost:8080/"
    },
    "id": "Hy-jIXjdtjGS",
    "outputId": "544b5f5f-7d58-4911-db1d-bedfc27d60c5"
   },
   "outputs": [
    {
     "data": {
      "text/plain": [
       "{'accuracy': 88.32020997375328,\n",
       " 'precision': 0.8836591055325493,\n",
       " 'recall': 0.8832020997375328,\n",
       " 'f1': 0.8828731455017578}"
      ]
     },
     "execution_count": 75,
     "metadata": {},
     "output_type": "execute_result"
    }
   ],
   "source": [
    "model_7_results = calculate_results(val_labels,model_7_preds)\n",
    "model_7_results"
   ]
  },
  {
   "cell_type": "markdown",
   "metadata": {
    "id": "xhrRtbvptjGT"
   },
   "source": [
    "model 7 did very good compared to model 6, model is same, but only 10% data, why?\n",
    "what could the reason be:\n",
    "1. maybe the way we created 10% data\n",
    "\n",
    "ANS : train_sentences_10_percent has little amount of val_sentences, becuase we took 10% from whole train_df_shuffled variable\n",
    "\n",
    "So, it is already seeing what it will be validating on.\n",
    "\n",
    "This is called data leak problem, some part of validation/testing data leaks into training data"
   ]
  },
  {
   "cell_type": "code",
   "execution_count": null,
   "metadata": {
    "colab": {
     "base_uri": "https://localhost:8080/"
    },
    "id": "r9kD3j83tjGT",
    "outputId": "d1e7f5f8-e12e-431c-ab60-193fb68cc3e2"
   },
   "outputs": [
    {
     "data": {
      "text/plain": [
       "(685, 685)"
      ]
     },
     "execution_count": 69,
     "metadata": {},
     "output_type": "execute_result"
    }
   ],
   "source": [
    "# Making correct data allocation - without data leakage\n",
    "train_10_percent_split = int(0.1 * len(train_sentences))    # train_sentences are already in random order, no need to shuffle\n",
    "train_sentence_10_percent = train_sentences[:train_10_percent_split]\n",
    "train_labels_10_percent = train_labels[:train_10_percent_split]\n",
    "len(train_sentence_10_percent), len(train_labels_10_percent)"
   ]
  },
  {
   "cell_type": "code",
   "execution_count": null,
   "metadata": {
    "colab": {
     "base_uri": "https://localhost:8080/"
    },
    "id": "sGZURzCxtjGT",
    "outputId": "be1bf559-735d-45bf-cd5c-756489718cc1"
   },
   "outputs": [
    {
     "name": "stdout",
     "output_type": "stream",
     "text": [
      "Epoch 1/5\n",
      "22/22 [==============================] - 3s 63ms/step - loss: 0.6722 - accuracy: 0.6409 - val_loss: 0.6491 - val_accuracy: 0.6640\n",
      "Epoch 2/5\n",
      "22/22 [==============================] - 1s 45ms/step - loss: 0.5754 - accuracy: 0.7883 - val_loss: 0.5460 - val_accuracy: 0.7703\n",
      "Epoch 3/5\n",
      "22/22 [==============================] - 1s 46ms/step - loss: 0.4454 - accuracy: 0.8219 - val_loss: 0.4890 - val_accuracy: 0.7795\n",
      "Epoch 4/5\n",
      "22/22 [==============================] - 1s 44ms/step - loss: 0.3749 - accuracy: 0.8409 - val_loss: 0.4983 - val_accuracy: 0.7887\n",
      "Epoch 5/5\n",
      "22/22 [==============================] - 1s 38ms/step - loss: 0.3309 - accuracy: 0.8642 - val_loss: 0.5071 - val_accuracy: 0.7703\n"
     ]
    }
   ],
   "source": [
    "model_7 = tf.keras.models.Sequential([\n",
    "    sentence_encoder_layer,\n",
    "    tf.keras.layers.Dense(64,activation=tf.keras.activations.relu),\n",
    "    tf.keras.layers.Dense(64,activation=tf.keras.activations.relu),\n",
    "    tf.keras.layers.Dense(1,activation=tf.keras.activations.sigmoid)\n",
    "])\n",
    "model_7.compile(loss=tf.keras.losses.BinaryCrossentropy(),\n",
    "                optimizer=tf.keras.optimizers.Adam(),\n",
    "                metrics=['accuracy'])\n",
    "mdoel_7_history_split = model_7.fit(train_sentence_10_percent, train_labels_10_percent,\n",
    "                                    epochs=5,\n",
    "                                    validation_data=(val_sentences,val_labels))"
   ]
  },
  {
   "cell_type": "code",
   "execution_count": null,
   "metadata": {
    "colab": {
     "base_uri": "https://localhost:8080/"
    },
    "id": "vEIWq9ZotjGT",
    "outputId": "bd3c9f81-1bc4-4e3a-d6d2-6e922e5b1b24"
   },
   "outputs": [
    {
     "name": "stdout",
     "output_type": "stream",
     "text": [
      "24/24 [==============================] - 1s 15ms/step\n",
      "[[0.05908]\n",
      " [0.5107 ]\n",
      " [0.974  ]\n",
      " [0.396  ]\n",
      " [0.619  ]\n",
      " [0.602  ]\n",
      " [0.9717 ]\n",
      " [0.915  ]\n",
      " [0.955  ]\n",
      " [0.0883 ]]\n",
      "tf.Tensor([0. 1. 1. 0. 1. 1. 1. 1. 1. 0.], shape=(10,), dtype=float16)\n",
      "{'accuracy': 77.03412073490814, 'precision': 0.7711671866902318, 'recall': 0.7703412073490814, 'f1': 0.7686901866564684}\n"
     ]
    }
   ],
   "source": [
    "model_7_pred_probs = model_7.predict(val_sentences)\n",
    "print(model_7_pred_probs[:10])\n",
    "\n",
    "model_7_preds = tf.squeeze(tf.round(model_7_pred_probs))\n",
    "print(model_7_preds[:10])\n",
    "\n",
    "model_7_results = calculate_results(val_labels, model_7_preds)\n",
    "print(model_7_results)"
   ]
  },
  {
   "cell_type": "markdown",
   "metadata": {
    "id": "hAcSwZ5ytjGT"
   },
   "source": [
    "### Compare the performance of each of our model"
   ]
  },
  {
   "cell_type": "code",
   "execution_count": null,
   "metadata": {
    "colab": {
     "base_uri": "https://localhost:8080/",
     "height": 297
    },
    "id": "_ozHVAwqtjGT",
    "outputId": "41644536-f31d-4858-84c7-3b44d7461f18"
   },
   "outputs": [
    {
     "data": {
      "text/html": [
       "<div>\n",
       "<style scoped>\n",
       "    .dataframe tbody tr th:only-of-type {\n",
       "        vertical-align: middle;\n",
       "    }\n",
       "\n",
       "    .dataframe tbody tr th {\n",
       "        vertical-align: top;\n",
       "    }\n",
       "\n",
       "    .dataframe thead th {\n",
       "        text-align: right;\n",
       "    }\n",
       "</style>\n",
       "<table border=\"1\" class=\"dataframe\">\n",
       "  <thead>\n",
       "    <tr style=\"text-align: right;\">\n",
       "      <th></th>\n",
       "      <th>accuracy</th>\n",
       "      <th>precision</th>\n",
       "      <th>recall</th>\n",
       "      <th>f1</th>\n",
       "    </tr>\n",
       "  </thead>\n",
       "  <tbody>\n",
       "    <tr>\n",
       "      <th>baseline</th>\n",
       "      <td>79.265092</td>\n",
       "      <td>0.811139</td>\n",
       "      <td>0.792651</td>\n",
       "      <td>0.786219</td>\n",
       "    </tr>\n",
       "    <tr>\n",
       "      <th>simple_dense</th>\n",
       "      <td>78.608924</td>\n",
       "      <td>0.790328</td>\n",
       "      <td>0.786089</td>\n",
       "      <td>0.783297</td>\n",
       "    </tr>\n",
       "    <tr>\n",
       "      <th>lstm</th>\n",
       "      <td>76.115486</td>\n",
       "      <td>0.764233</td>\n",
       "      <td>0.761155</td>\n",
       "      <td>0.758116</td>\n",
       "    </tr>\n",
       "    <tr>\n",
       "      <th>gru</th>\n",
       "      <td>79.133858</td>\n",
       "      <td>0.793954</td>\n",
       "      <td>0.791339</td>\n",
       "      <td>0.789266</td>\n",
       "    </tr>\n",
       "    <tr>\n",
       "      <th>bidirectional</th>\n",
       "      <td>77.952756</td>\n",
       "      <td>0.779526</td>\n",
       "      <td>0.779528</td>\n",
       "      <td>0.778606</td>\n",
       "    </tr>\n",
       "    <tr>\n",
       "      <th>conv1d</th>\n",
       "      <td>77.165354</td>\n",
       "      <td>0.772820</td>\n",
       "      <td>0.771654</td>\n",
       "      <td>0.769833</td>\n",
       "    </tr>\n",
       "    <tr>\n",
       "      <th>tf_hub_sentence_encoder</th>\n",
       "      <td>78.608924</td>\n",
       "      <td>0.786647</td>\n",
       "      <td>0.786089</td>\n",
       "      <td>0.784865</td>\n",
       "    </tr>\n",
       "    <tr>\n",
       "      <th>tf_hub_10_percent_data</th>\n",
       "      <td>77.952756</td>\n",
       "      <td>0.780871</td>\n",
       "      <td>0.779528</td>\n",
       "      <td>0.777770</td>\n",
       "    </tr>\n",
       "  </tbody>\n",
       "</table>\n",
       "</div>"
      ],
      "text/plain": [
       "                          accuracy  precision    recall        f1\n",
       "baseline                 79.265092   0.811139  0.792651  0.786219\n",
       "simple_dense             78.608924   0.790328  0.786089  0.783297\n",
       "lstm                     76.115486   0.764233  0.761155  0.758116\n",
       "gru                      79.133858   0.793954  0.791339  0.789266\n",
       "bidirectional            77.952756   0.779526  0.779528  0.778606\n",
       "conv1d                   77.165354   0.772820  0.771654  0.769833\n",
       "tf_hub_sentence_encoder  78.608924   0.786647  0.786089  0.784865\n",
       "tf_hub_10_percent_data   77.952756   0.780871  0.779528  0.777770"
      ]
     },
     "execution_count": 79,
     "metadata": {},
     "output_type": "execute_result"
    }
   ],
   "source": [
    "all_model_results = pd.DataFrame({\"baseline\":baseline_results,\n",
    "                                  \"simple_dense\":model_1_results,\n",
    "                                  \"lstm\":model_2_results,\n",
    "                                  \"gru\":model_3_results,\n",
    "                                  \"bidirectional\":model_4_results,\n",
    "                                  \"conv1d\":model_5_results,\n",
    "                                  \"tf_hub_sentence_encoder\":model_6_results,\n",
    "                                  \"tf_hub_10_percent_data\":model_7_results})\n",
    "all_model_results = all_model_results.transpose()\n",
    "all_model_results"
   ]
  },
  {
   "cell_type": "code",
   "execution_count": null,
   "metadata": {
    "id": "fzCEvY1mtjGT"
   },
   "outputs": [],
   "source": [
    "# Reduce the accuracy to same scale as other metrics\n",
    "all_model_results[\"accuracy\"] = all_model_results[\"accuracy\"]/100"
   ]
  },
  {
   "cell_type": "code",
   "execution_count": null,
   "metadata": {
    "colab": {
     "base_uri": "https://localhost:8080/",
     "height": 763
    },
    "id": "n0YXHTZT2KoM",
    "outputId": "fe4c6c63-c48b-4df8-96ee-cb4fe5bddd00"
   },
   "outputs": [
    {
     "data": {
      "image/png": "[encoded data removed]",
      "text/plain": [
       "<Figure size 1000x700 with 1 Axes>"
      ]
     },
     "metadata": {},
     "output_type": "display_data"
    }
   ],
   "source": [
    "# Plot and compare all of the model results\n",
    "all_model_results.plot(kind=\"bar\", figsize=(10, 7)).legend(bbox_to_anchor=(1.0, 1.0));"
   ]
  },
  {
   "cell_type": "code",
   "execution_count": null,
   "metadata": {
    "colab": {
     "base_uri": "https://localhost:8080/",
     "height": 763
    },
    "id": "4toZoopG2NGo",
    "outputId": "817936c5-bc5e-4adb-aed2-5085501bfafe"
   },
   "outputs": [
    {
     "data": {
      "text/plain": [
       "<Axes: >"
      ]
     },
     "execution_count": 82,
     "metadata": {},
     "output_type": "execute_result"
    },
    {
     "data": {
      "image/png": "[encoded data removed]",
      "text/plain": [
       "<Figure size 1000x700 with 1 Axes>"
      ]
     },
     "metadata": {},
     "output_type": "display_data"
    }
   ],
   "source": [
    "# Sort model results by f1-score\n",
    "all_model_results.sort_values(\"f1\", ascending=False)[\"f1\"].plot(kind=\"bar\", figsize=(10, 7))"
   ]
  },
  {
   "cell_type": "markdown",
   "metadata": {},
   "source": [
    "### Find the most wrong examples\n",
    "\n",
    "* If our best model still isnt perfect, then what examples is it getting wrong?\n",
    "* And of these wrong examples which ones is it getting most wrong"
   ]
  },
  {
   "cell_type": "code",
   "execution_count": null,
   "metadata": {
    "id": "K0ZIzs402ZBG"
   },
   "outputs": [],
   "source": [
    "# Create DataFrame with validation sentences and best performing model predictions\n",
    "if \"08_model_6_USE_feature_extractor.zip\" not in os.listdir(\".\"):\n",
    "    ! wget https://storage.googleapis.com/ztm_tf_course/08_model_6_USE_feature_extractor.zip\n",
    "    unzip_data(\"08_model_6_USE_feature_extractor.zip\")"
   ]
  },
  {
   "cell_type": "code",
   "execution_count": null,
   "metadata": {},
   "outputs": [],
   "source": [
    "# IMport previously trained model\n",
    "# model_6_pretrained = tf.keras.models.load_model(\"08_model_6_USE_feature_extractor\")"
   ]
  },
  {
   "cell_type": "code",
   "execution_count": null,
   "metadata": {},
   "outputs": [
    {
     "name": "stdout",
     "output_type": "stream",
     "text": [
      "24/24 [==============================] - 1s 30ms/step - loss: 0.4952 - accuracy: 0.7861\n"
     ]
    },
    {
     "data": {
      "text/plain": [
       "[0.49517935514450073, 0.7860892415046692]"
      ]
     },
     "execution_count": 85,
     "metadata": {},
     "output_type": "execute_result"
    }
   ],
   "source": [
    "model_6.evaluate(val_sentences,val_labels)"
   ]
  },
  {
   "cell_type": "code",
   "execution_count": null,
   "metadata": {},
   "outputs": [
    {
     "name": "stdout",
     "output_type": "stream",
     "text": [
      "24/24 [==============================] - 1s 20ms/step\n"
     ]
    },
    {
     "data": {
      "text/plain": [
       "{'accuracy': 78.60892388451444,\n",
       " 'precision': 0.7866474744348231,\n",
       " 'recall': 0.7860892388451444,\n",
       " 'f1': 0.78486500301026}"
      ]
     },
     "execution_count": 86,
     "metadata": {},
     "output_type": "execute_result"
    }
   ],
   "source": [
    "model_6_pretrained_pred_probs = model_6.predict(val_sentences)\n",
    "model_6_pretrained_preds = tf.squeeze(tf.round(model_6_pretrained_pred_probs))\n",
    "model_6_pretrained_results = calculate_results(val_labels,model_6_pretrained_preds)\n",
    "model_6_pretrained_results"
   ]
  },
  {
   "cell_type": "code",
   "execution_count": null,
   "metadata": {},
   "outputs": [
    {
     "data": {
      "text/html": [
       "<div>\n",
       "<style scoped>\n",
       "    .dataframe tbody tr th:only-of-type {\n",
       "        vertical-align: middle;\n",
       "    }\n",
       "\n",
       "    .dataframe tbody tr th {\n",
       "        vertical-align: top;\n",
       "    }\n",
       "\n",
       "    .dataframe thead th {\n",
       "        text-align: right;\n",
       "    }\n",
       "</style>\n",
       "<table border=\"1\" class=\"dataframe\">\n",
       "  <thead>\n",
       "    <tr style=\"text-align: right;\">\n",
       "      <th></th>\n",
       "      <th>test</th>\n",
       "      <th>target</th>\n",
       "      <th>prediction</th>\n",
       "      <th>pred_probs</th>\n",
       "    </tr>\n",
       "  </thead>\n",
       "  <tbody>\n",
       "    <tr>\n",
       "      <th>0</th>\n",
       "      <td>DFR EP016 Monthly Meltdown - On Dnbheaven 2015...</td>\n",
       "      <td>0</td>\n",
       "      <td>0.0</td>\n",
       "      <td>0.349365</td>\n",
       "    </tr>\n",
       "    <tr>\n",
       "      <th>1</th>\n",
       "      <td>FedEx no longer to transport bioterror germs i...</td>\n",
       "      <td>0</td>\n",
       "      <td>1.0</td>\n",
       "      <td>0.669922</td>\n",
       "    </tr>\n",
       "    <tr>\n",
       "      <th>2</th>\n",
       "      <td>Gunmen kill four in El Salvador bus attack: Su...</td>\n",
       "      <td>1</td>\n",
       "      <td>1.0</td>\n",
       "      <td>0.854980</td>\n",
       "    </tr>\n",
       "    <tr>\n",
       "      <th>3</th>\n",
       "      <td>@camilacabello97 Internally and externally scr...</td>\n",
       "      <td>1</td>\n",
       "      <td>0.0</td>\n",
       "      <td>0.340332</td>\n",
       "    </tr>\n",
       "    <tr>\n",
       "      <th>4</th>\n",
       "      <td>Radiation emergency #preparedness starts with ...</td>\n",
       "      <td>1</td>\n",
       "      <td>1.0</td>\n",
       "      <td>0.648926</td>\n",
       "    </tr>\n",
       "    <tr>\n",
       "      <th>...</th>\n",
       "      <td>...</td>\n",
       "      <td>...</td>\n",
       "      <td>...</td>\n",
       "      <td>...</td>\n",
       "    </tr>\n",
       "    <tr>\n",
       "      <th>757</th>\n",
       "      <td>That's the ultimate road to destruction</td>\n",
       "      <td>0</td>\n",
       "      <td>0.0</td>\n",
       "      <td>0.274658</td>\n",
       "    </tr>\n",
       "    <tr>\n",
       "      <th>758</th>\n",
       "      <td>@SetZorah dad why dont you claim me that mean ...</td>\n",
       "      <td>0</td>\n",
       "      <td>0.0</td>\n",
       "      <td>0.201904</td>\n",
       "    </tr>\n",
       "    <tr>\n",
       "      <th>759</th>\n",
       "      <td>FedEx will no longer transport bioterror patho...</td>\n",
       "      <td>0</td>\n",
       "      <td>1.0</td>\n",
       "      <td>0.702148</td>\n",
       "    </tr>\n",
       "    <tr>\n",
       "      <th>760</th>\n",
       "      <td>Crack in the path where I wiped out this morni...</td>\n",
       "      <td>0</td>\n",
       "      <td>1.0</td>\n",
       "      <td>0.545898</td>\n",
       "    </tr>\n",
       "    <tr>\n",
       "      <th>761</th>\n",
       "      <td>I liked a @YouTube video from @dannyonpc http:...</td>\n",
       "      <td>0</td>\n",
       "      <td>0.0</td>\n",
       "      <td>0.375732</td>\n",
       "    </tr>\n",
       "  </tbody>\n",
       "</table>\n",
       "<p>762 rows × 4 columns</p>\n",
       "</div>"
      ],
      "text/plain": [
       "                                                  test  target  prediction  \\\n",
       "0    DFR EP016 Monthly Meltdown - On Dnbheaven 2015...       0         0.0   \n",
       "1    FedEx no longer to transport bioterror germs i...       0         1.0   \n",
       "2    Gunmen kill four in El Salvador bus attack: Su...       1         1.0   \n",
       "3    @camilacabello97 Internally and externally scr...       1         0.0   \n",
       "4    Radiation emergency #preparedness starts with ...       1         1.0   \n",
       "..                                                 ...     ...         ...   \n",
       "757            That's the ultimate road to destruction       0         0.0   \n",
       "758  @SetZorah dad why dont you claim me that mean ...       0         0.0   \n",
       "759  FedEx will no longer transport bioterror patho...       0         1.0   \n",
       "760  Crack in the path where I wiped out this morni...       0         1.0   \n",
       "761  I liked a @YouTube video from @dannyonpc http:...       0         0.0   \n",
       "\n",
       "     pred_probs  \n",
       "0      0.349365  \n",
       "1      0.669922  \n",
       "2      0.854980  \n",
       "3      0.340332  \n",
       "4      0.648926  \n",
       "..          ...  \n",
       "757    0.274658  \n",
       "758    0.201904  \n",
       "759    0.702148  \n",
       "760    0.545898  \n",
       "761    0.375732  \n",
       "\n",
       "[762 rows x 4 columns]"
      ]
     },
     "execution_count": 87,
     "metadata": {},
     "output_type": "execute_result"
    }
   ],
   "source": [
    "val_df = pd.DataFrame({\"test\": val_sentences,\n",
    "                        \"target\":val_labels,\n",
    "                        \"prediction\":model_6_pretrained_preds,\n",
    "                        \"pred_probs\":tf.squeeze(model_6_pretrained_pred_probs)})\n",
    "val_df"
   ]
  },
  {
   "cell_type": "code",
   "execution_count": null,
   "metadata": {},
   "outputs": [],
   "source": [
    "# Find the wrong predictions and sort by prediction probability\n",
    "most_wrong = val_df[val_df[\"target\"]!=val_df[\"prediction\"]].sort_values(by=\"pred_probs\",ascending=False)"
   ]
  },
  {
   "cell_type": "code",
   "execution_count": null,
   "metadata": {},
   "outputs": [
    {
     "data": {
      "text/html": [
       "<div>\n",
       "<style scoped>\n",
       "    .dataframe tbody tr th:only-of-type {\n",
       "        vertical-align: middle;\n",
       "    }\n",
       "\n",
       "    .dataframe tbody tr th {\n",
       "        vertical-align: top;\n",
       "    }\n",
       "\n",
       "    .dataframe thead th {\n",
       "        text-align: right;\n",
       "    }\n",
       "</style>\n",
       "<table border=\"1\" class=\"dataframe\">\n",
       "  <thead>\n",
       "    <tr style=\"text-align: right;\">\n",
       "      <th></th>\n",
       "      <th>test</th>\n",
       "      <th>target</th>\n",
       "      <th>prediction</th>\n",
       "      <th>pred_probs</th>\n",
       "    </tr>\n",
       "  </thead>\n",
       "  <tbody>\n",
       "    <tr>\n",
       "      <th>49</th>\n",
       "      <td>@madonnamking RSPCA site multiple 7 story high...</td>\n",
       "      <td>0</td>\n",
       "      <td>1.0</td>\n",
       "      <td>0.803711</td>\n",
       "    </tr>\n",
       "    <tr>\n",
       "      <th>31</th>\n",
       "      <td>? High Skies - Burning Buildings ? http://t.co...</td>\n",
       "      <td>0</td>\n",
       "      <td>1.0</td>\n",
       "      <td>0.760742</td>\n",
       "    </tr>\n",
       "    <tr>\n",
       "      <th>393</th>\n",
       "      <td>@SonofLiberty357 all illuminated by the bright...</td>\n",
       "      <td>0</td>\n",
       "      <td>1.0</td>\n",
       "      <td>0.757812</td>\n",
       "    </tr>\n",
       "    <tr>\n",
       "      <th>181</th>\n",
       "      <td>Article by Michael Jackman at Metro Times Detr...</td>\n",
       "      <td>0</td>\n",
       "      <td>1.0</td>\n",
       "      <td>0.707031</td>\n",
       "    </tr>\n",
       "    <tr>\n",
       "      <th>759</th>\n",
       "      <td>FedEx will no longer transport bioterror patho...</td>\n",
       "      <td>0</td>\n",
       "      <td>1.0</td>\n",
       "      <td>0.702148</td>\n",
       "    </tr>\n",
       "    <tr>\n",
       "      <th>80</th>\n",
       "      <td>GENERAL AUDIENCE: On Wounded Families | ZENIT ...</td>\n",
       "      <td>0</td>\n",
       "      <td>1.0</td>\n",
       "      <td>0.686523</td>\n",
       "    </tr>\n",
       "    <tr>\n",
       "      <th>209</th>\n",
       "      <td>Ashes 2015: AustraliaÛªs collapse at Trent Br...</td>\n",
       "      <td>0</td>\n",
       "      <td>1.0</td>\n",
       "      <td>0.673828</td>\n",
       "    </tr>\n",
       "    <tr>\n",
       "      <th>109</th>\n",
       "      <td>[55436] 1950 LIONEL TRAINS SMOKE LOCOMOTIVES W...</td>\n",
       "      <td>0</td>\n",
       "      <td>1.0</td>\n",
       "      <td>0.671875</td>\n",
       "    </tr>\n",
       "    <tr>\n",
       "      <th>1</th>\n",
       "      <td>FedEx no longer to transport bioterror germs i...</td>\n",
       "      <td>0</td>\n",
       "      <td>1.0</td>\n",
       "      <td>0.669922</td>\n",
       "    </tr>\n",
       "    <tr>\n",
       "      <th>630</th>\n",
       "      <td>Hollywood movie about trapped miners released ...</td>\n",
       "      <td>0</td>\n",
       "      <td>1.0</td>\n",
       "      <td>0.665039</td>\n",
       "    </tr>\n",
       "  </tbody>\n",
       "</table>\n",
       "</div>"
      ],
      "text/plain": [
       "                                                  test  target  prediction  \\\n",
       "49   @madonnamking RSPCA site multiple 7 story high...       0         1.0   \n",
       "31   ? High Skies - Burning Buildings ? http://t.co...       0         1.0   \n",
       "393  @SonofLiberty357 all illuminated by the bright...       0         1.0   \n",
       "181  Article by Michael Jackman at Metro Times Detr...       0         1.0   \n",
       "759  FedEx will no longer transport bioterror patho...       0         1.0   \n",
       "80   GENERAL AUDIENCE: On Wounded Families | ZENIT ...       0         1.0   \n",
       "209  Ashes 2015: AustraliaÛªs collapse at Trent Br...       0         1.0   \n",
       "109  [55436] 1950 LIONEL TRAINS SMOKE LOCOMOTIVES W...       0         1.0   \n",
       "1    FedEx no longer to transport bioterror germs i...       0         1.0   \n",
       "630  Hollywood movie about trapped miners released ...       0         1.0   \n",
       "\n",
       "     pred_probs  \n",
       "49     0.803711  \n",
       "31     0.760742  \n",
       "393    0.757812  \n",
       "181    0.707031  \n",
       "759    0.702148  \n",
       "80     0.686523  \n",
       "209    0.673828  \n",
       "109    0.671875  \n",
       "1      0.669922  \n",
       "630    0.665039  "
      ]
     },
     "execution_count": 89,
     "metadata": {},
     "output_type": "execute_result"
    }
   ],
   "source": [
    "most_wrong.head(10)"
   ]
  },
  {
   "cell_type": "code",
   "execution_count": null,
   "metadata": {},
   "outputs": [
    {
     "data": {
      "text/html": [
       "<div>\n",
       "<style scoped>\n",
       "    .dataframe tbody tr th:only-of-type {\n",
       "        vertical-align: middle;\n",
       "    }\n",
       "\n",
       "    .dataframe tbody tr th {\n",
       "        vertical-align: top;\n",
       "    }\n",
       "\n",
       "    .dataframe thead th {\n",
       "        text-align: right;\n",
       "    }\n",
       "</style>\n",
       "<table border=\"1\" class=\"dataframe\">\n",
       "  <thead>\n",
       "    <tr style=\"text-align: right;\">\n",
       "      <th></th>\n",
       "      <th>test</th>\n",
       "      <th>target</th>\n",
       "      <th>prediction</th>\n",
       "      <th>pred_probs</th>\n",
       "    </tr>\n",
       "  </thead>\n",
       "  <tbody>\n",
       "    <tr>\n",
       "      <th>408</th>\n",
       "      <td>@willienelson We need help! Horses will die!Pl...</td>\n",
       "      <td>1</td>\n",
       "      <td>0.0</td>\n",
       "      <td>0.182495</td>\n",
       "    </tr>\n",
       "    <tr>\n",
       "      <th>382</th>\n",
       "      <td>I wanna set some shit on fire.</td>\n",
       "      <td>1</td>\n",
       "      <td>0.0</td>\n",
       "      <td>0.176025</td>\n",
       "    </tr>\n",
       "    <tr>\n",
       "      <th>536</th>\n",
       "      <td>@DavidVonderhaar At least you were sincere ??</td>\n",
       "      <td>1</td>\n",
       "      <td>0.0</td>\n",
       "      <td>0.169434</td>\n",
       "    </tr>\n",
       "    <tr>\n",
       "      <th>722</th>\n",
       "      <td>Indeed!! I am fully aware of that battle! I su...</td>\n",
       "      <td>1</td>\n",
       "      <td>0.0</td>\n",
       "      <td>0.166138</td>\n",
       "    </tr>\n",
       "    <tr>\n",
       "      <th>23</th>\n",
       "      <td>Ron &amp;amp; Fez - Dave's High School Crush https...</td>\n",
       "      <td>1</td>\n",
       "      <td>0.0</td>\n",
       "      <td>0.152710</td>\n",
       "    </tr>\n",
       "    <tr>\n",
       "      <th>352</th>\n",
       "      <td>@reriellechan HE WAS THE LICH KING'S FIRST CAS...</td>\n",
       "      <td>1</td>\n",
       "      <td>0.0</td>\n",
       "      <td>0.151733</td>\n",
       "    </tr>\n",
       "    <tr>\n",
       "      <th>244</th>\n",
       "      <td>Reddit Will Now QuarantineÛ_ http://t.co/pkUA...</td>\n",
       "      <td>1</td>\n",
       "      <td>0.0</td>\n",
       "      <td>0.150269</td>\n",
       "    </tr>\n",
       "    <tr>\n",
       "      <th>681</th>\n",
       "      <td>'The way you move is like a full on rainstorm ...</td>\n",
       "      <td>1</td>\n",
       "      <td>0.0</td>\n",
       "      <td>0.148804</td>\n",
       "    </tr>\n",
       "    <tr>\n",
       "      <th>411</th>\n",
       "      <td>@SoonerMagic_ I mean I'm a fan but I don't nee...</td>\n",
       "      <td>1</td>\n",
       "      <td>0.0</td>\n",
       "      <td>0.117004</td>\n",
       "    </tr>\n",
       "    <tr>\n",
       "      <th>233</th>\n",
       "      <td>I get to smoke my shit in peace</td>\n",
       "      <td>1</td>\n",
       "      <td>0.0</td>\n",
       "      <td>0.115112</td>\n",
       "    </tr>\n",
       "  </tbody>\n",
       "</table>\n",
       "</div>"
      ],
      "text/plain": [
       "                                                  test  target  prediction  \\\n",
       "408  @willienelson We need help! Horses will die!Pl...       1         0.0   \n",
       "382                     I wanna set some shit on fire.       1         0.0   \n",
       "536      @DavidVonderhaar At least you were sincere ??       1         0.0   \n",
       "722  Indeed!! I am fully aware of that battle! I su...       1         0.0   \n",
       "23   Ron &amp; Fez - Dave's High School Crush https...       1         0.0   \n",
       "352  @reriellechan HE WAS THE LICH KING'S FIRST CAS...       1         0.0   \n",
       "244  Reddit Will Now QuarantineÛ_ http://t.co/pkUA...       1         0.0   \n",
       "681  'The way you move is like a full on rainstorm ...       1         0.0   \n",
       "411  @SoonerMagic_ I mean I'm a fan but I don't nee...       1         0.0   \n",
       "233                    I get to smoke my shit in peace       1         0.0   \n",
       "\n",
       "     pred_probs  \n",
       "408    0.182495  \n",
       "382    0.176025  \n",
       "536    0.169434  \n",
       "722    0.166138  \n",
       "23     0.152710  \n",
       "352    0.151733  \n",
       "244    0.150269  \n",
       "681    0.148804  \n",
       "411    0.117004  \n",
       "233    0.115112  "
      ]
     },
     "execution_count": 90,
     "metadata": {},
     "output_type": "execute_result"
    }
   ],
   "source": [
    "most_wrong.tail(10)"
   ]
  },
  {
   "cell_type": "code",
   "execution_count": null,
   "metadata": {},
   "outputs": [
    {
     "name": "stdout",
     "output_type": "stream",
     "text": [
      "Target: 0, Pred: 1.0, Prob: 0.8037109375\n",
      "Text :\n",
      " @madonnamking RSPCA site multiple 7 story high rise buildings next to low density character residential in an area that floods\n",
      "\n",
      "-------------------\n",
      "\n",
      "Target: 0, Pred: 1.0, Prob: 0.7607421875\n",
      "Text :\n",
      " ? High Skies - Burning Buildings ? http://t.co/uVq41i3Kx2 #nowplaying\n",
      "\n",
      "-------------------\n",
      "\n",
      "Target: 0, Pred: 1.0, Prob: 0.7578125\n",
      "Text :\n",
      " @SonofLiberty357 all illuminated by the brightly burning buildings all around the town!\n",
      "\n",
      "-------------------\n",
      "\n",
      "Target: 0, Pred: 1.0, Prob: 0.70703125\n",
      "Text :\n",
      " Article by Michael Jackman at Metro Times Detroit:\n",
      "The group later downgraded the estimate to 37 square miles of... http://t.co/h31mmuduqt\n",
      "\n",
      "-------------------\n",
      "\n",
      "Target: 0, Pred: 1.0, Prob: 0.7021484375\n",
      "Text :\n",
      " FedEx will no longer transport bioterror pathogens in wake of anthrax lab mishaps http://t.co/lHpgxc4b8J\n",
      "\n",
      "-------------------\n"
     ]
    }
   ],
   "source": [
    "# Check the false poitives (predicted true but actually it is false)\n",
    "for row in most_wrong[:5].itertuples():\n",
    "    _, text,target,pred,pred_prob = row\n",
    "    print(f\"Target: {target}, Pred: {pred}, Prob: {pred_prob}\")\n",
    "    print(f\"Text :\\n {text}\\n\")\n",
    "    print(\"-------------------\\n\")"
   ]
  },
  {
   "cell_type": "code",
   "execution_count": null,
   "metadata": {},
   "outputs": [
    {
     "name": "stdout",
     "output_type": "stream",
     "text": [
      "Target: 1, Pred: 0.0, Prob: 0.1517333984375\n",
      "Text :\n",
      " @reriellechan HE WAS THE LICH KING'S FIRST CASUALTY BLOCK ME BACK I HATE YOU! http://t.co/0Gidg9U45J\n",
      "\n",
      "-------------------\n",
      "\n",
      "Target: 1, Pred: 0.0, Prob: 0.1502685546875\n",
      "Text :\n",
      " Reddit Will Now QuarantineÛ_ http://t.co/pkUAMXw6pm #onlinecommunities #reddit #amageddon #freespeech #Business http://t.co/PAWvNJ4sAP\n",
      "\n",
      "-------------------\n",
      "\n",
      "Target: 1, Pred: 0.0, Prob: 0.1488037109375\n",
      "Text :\n",
      " 'The way you move is like a full on rainstorm and I'm a house of cards'\n",
      "\n",
      "-------------------\n",
      "\n",
      "Target: 1, Pred: 0.0, Prob: 0.11700439453125\n",
      "Text :\n",
      " @SoonerMagic_ I mean I'm a fan but I don't need a girl sounding off like a damn siren\n",
      "\n",
      "-------------------\n",
      "\n",
      "Target: 1, Pred: 0.0, Prob: 0.1151123046875\n",
      "Text :\n",
      " I get to smoke my shit in peace\n",
      "\n",
      "-------------------\n"
     ]
    }
   ],
   "source": [
    "# Check the false negatives (predicted false but actually it is true)\n",
    "for row in most_wrong[-5:].itertuples():\n",
    "    _, text,target,pred,pred_prob = row\n",
    "    print(f\"Target: {target}, Pred: {pred}, Prob: {pred_prob}\")\n",
    "    print(f\"Text :\\n {text}\\n\")\n",
    "    print(\"-------------------\\n\")"
   ]
  },
  {
   "cell_type": "code",
   "execution_count": null,
   "metadata": {},
   "outputs": [
    {
     "data": {
      "text/html": [
       "<div>\n",
       "<style scoped>\n",
       "    .dataframe tbody tr th:only-of-type {\n",
       "        vertical-align: middle;\n",
       "    }\n",
       "\n",
       "    .dataframe tbody tr th {\n",
       "        vertical-align: top;\n",
       "    }\n",
       "\n",
       "    .dataframe thead th {\n",
       "        text-align: right;\n",
       "    }\n",
       "</style>\n",
       "<table border=\"1\" class=\"dataframe\">\n",
       "  <thead>\n",
       "    <tr style=\"text-align: right;\">\n",
       "      <th></th>\n",
       "      <th>id</th>\n",
       "      <th>keyword</th>\n",
       "      <th>location</th>\n",
       "      <th>text</th>\n",
       "    </tr>\n",
       "  </thead>\n",
       "  <tbody>\n",
       "    <tr>\n",
       "      <th>0</th>\n",
       "      <td>0</td>\n",
       "      <td>NaN</td>\n",
       "      <td>NaN</td>\n",
       "      <td>Just happened a terrible car crash</td>\n",
       "    </tr>\n",
       "    <tr>\n",
       "      <th>1</th>\n",
       "      <td>2</td>\n",
       "      <td>NaN</td>\n",
       "      <td>NaN</td>\n",
       "      <td>Heard about #earthquake is different cities, s...</td>\n",
       "    </tr>\n",
       "    <tr>\n",
       "      <th>2</th>\n",
       "      <td>3</td>\n",
       "      <td>NaN</td>\n",
       "      <td>NaN</td>\n",
       "      <td>there is a forest fire at spot pond, geese are...</td>\n",
       "    </tr>\n",
       "    <tr>\n",
       "      <th>3</th>\n",
       "      <td>9</td>\n",
       "      <td>NaN</td>\n",
       "      <td>NaN</td>\n",
       "      <td>Apocalypse lighting. #Spokane #wildfires</td>\n",
       "    </tr>\n",
       "    <tr>\n",
       "      <th>4</th>\n",
       "      <td>11</td>\n",
       "      <td>NaN</td>\n",
       "      <td>NaN</td>\n",
       "      <td>Typhoon Soudelor kills 28 in China and Taiwan</td>\n",
       "    </tr>\n",
       "    <tr>\n",
       "      <th>...</th>\n",
       "      <td>...</td>\n",
       "      <td>...</td>\n",
       "      <td>...</td>\n",
       "      <td>...</td>\n",
       "    </tr>\n",
       "    <tr>\n",
       "      <th>3258</th>\n",
       "      <td>10861</td>\n",
       "      <td>NaN</td>\n",
       "      <td>NaN</td>\n",
       "      <td>EARTHQUAKE SAFETY LOS ANGELES ÛÒ SAFETY FASTE...</td>\n",
       "    </tr>\n",
       "    <tr>\n",
       "      <th>3259</th>\n",
       "      <td>10865</td>\n",
       "      <td>NaN</td>\n",
       "      <td>NaN</td>\n",
       "      <td>Storm in RI worse than last hurricane. My city...</td>\n",
       "    </tr>\n",
       "    <tr>\n",
       "      <th>3260</th>\n",
       "      <td>10868</td>\n",
       "      <td>NaN</td>\n",
       "      <td>NaN</td>\n",
       "      <td>Green Line derailment in Chicago http://t.co/U...</td>\n",
       "    </tr>\n",
       "    <tr>\n",
       "      <th>3261</th>\n",
       "      <td>10874</td>\n",
       "      <td>NaN</td>\n",
       "      <td>NaN</td>\n",
       "      <td>MEG issues Hazardous Weather Outlook (HWO) htt...</td>\n",
       "    </tr>\n",
       "    <tr>\n",
       "      <th>3262</th>\n",
       "      <td>10875</td>\n",
       "      <td>NaN</td>\n",
       "      <td>NaN</td>\n",
       "      <td>#CityofCalgary has activated its Municipal Eme...</td>\n",
       "    </tr>\n",
       "  </tbody>\n",
       "</table>\n",
       "<p>3263 rows × 4 columns</p>\n",
       "</div>"
      ],
      "text/plain": [
       "         id keyword location  \\\n",
       "0         0     NaN      NaN   \n",
       "1         2     NaN      NaN   \n",
       "2         3     NaN      NaN   \n",
       "3         9     NaN      NaN   \n",
       "4        11     NaN      NaN   \n",
       "...     ...     ...      ...   \n",
       "3258  10861     NaN      NaN   \n",
       "3259  10865     NaN      NaN   \n",
       "3260  10868     NaN      NaN   \n",
       "3261  10874     NaN      NaN   \n",
       "3262  10875     NaN      NaN   \n",
       "\n",
       "                                                   text  \n",
       "0                    Just happened a terrible car crash  \n",
       "1     Heard about #earthquake is different cities, s...  \n",
       "2     there is a forest fire at spot pond, geese are...  \n",
       "3              Apocalypse lighting. #Spokane #wildfires  \n",
       "4         Typhoon Soudelor kills 28 in China and Taiwan  \n",
       "...                                                 ...  \n",
       "3258  EARTHQUAKE SAFETY LOS ANGELES ÛÒ SAFETY FASTE...  \n",
       "3259  Storm in RI worse than last hurricane. My city...  \n",
       "3260  Green Line derailment in Chicago http://t.co/U...  \n",
       "3261  MEG issues Hazardous Weather Outlook (HWO) htt...  \n",
       "3262  #CityofCalgary has activated its Municipal Eme...  \n",
       "\n",
       "[3263 rows x 4 columns]"
      ]
     },
     "execution_count": 93,
     "metadata": {},
     "output_type": "execute_result"
    }
   ],
   "source": [
    "test_df"
   ]
  },
  {
   "cell_type": "markdown",
   "metadata": {},
   "source": [
    "### Making predictions of test dataset"
   ]
  },
  {
   "cell_type": "code",
   "execution_count": null,
   "metadata": {},
   "outputs": [
    {
     "name": "stdout",
     "output_type": "stream",
     "text": [
      "1/1 [==============================] - 0s 228ms/step\n",
      "Pred: 0, Prob: 0.315185546875\n",
      "Text: \n",
      "Photo: bonesymcbones: Beartooth - Body Bag (x) http://t.co/kNH4HLFuMa\n",
      "\n",
      "--------------------------\n",
      "\n",
      "1/1 [==============================] - 0s 202ms/step\n",
      "Pred: 1, Prob: 0.51806640625\n",
      "Text: \n",
      "Job now are only in case of emergency.\n",
      "\n",
      "--------------------------\n",
      "\n",
      "1/1 [==============================] - 0s 211ms/step\n",
      "Pred: 0, Prob: 0.412353515625\n",
      "Text: \n",
      "#hot  Funtenna: hijacking computers to send data as sound waves [Black Hat 2015] http://t.co/a0zgzd1fYa #prebreak #best\n",
      "\n",
      "--------------------------\n",
      "\n",
      "1/1 [==============================] - 0s 244ms/step\n",
      "Pred: 0, Prob: 0.306396484375\n",
      "Text: \n",
      "@CatholicMomVA Or take away his ring &amp; throw it in a volcano...\n",
      "\n",
      "--------------------------\n",
      "\n",
      "1/1 [==============================] - 0s 248ms/step\n",
      "Pred: 0, Prob: 0.403076171875\n",
      "Text: \n",
      "Bat four reasons en route to upheaval versus internet buzz value: pVDRDLJvc\n",
      "\n",
      "--------------------------\n"
     ]
    }
   ],
   "source": [
    "test_sentences = test_df[\"text\"].to_list()\n",
    "test_samples = random.sample(test_sentences,5)\n",
    "for x in test_samples:\n",
    "    pred_probs = tf.squeeze(model_6.predict([x]))\n",
    "    pred = (tf.round(pred_probs))\n",
    "    print(f\"Pred: {int(pred)}, Prob: {pred_probs}\")\n",
    "    print(f\"Text: \\n{x}\\n\")\n",
    "    print(\"--------------------------\\n\")"
   ]
  },
  {
   "cell_type": "markdown",
   "metadata": {},
   "source": [
    "## The speed/score tradeoff"
   ]
  },
  {
   "cell_type": "code",
   "execution_count": null,
   "metadata": {},
   "outputs": [
    {
     "data": {
      "text/plain": [
       "{'accuracy': 79.26509186351706,\n",
       " 'precision': 0.8111390004213173,\n",
       " 'recall': 0.7926509186351706,\n",
       " 'f1': 0.7862189758049549}"
      ]
     },
     "execution_count": 95,
     "metadata": {},
     "output_type": "execute_result"
    }
   ],
   "source": [
    "baseline_results"
   ]
  },
  {
   "cell_type": "code",
   "execution_count": null,
   "metadata": {},
   "outputs": [
    {
     "data": {
      "text/plain": [
       "{'accuracy': 78.60892388451444,\n",
       " 'precision': 0.7866474744348231,\n",
       " 'recall': 0.7860892388451444,\n",
       " 'f1': 0.78486500301026}"
      ]
     },
     "execution_count": 96,
     "metadata": {},
     "output_type": "execute_result"
    }
   ],
   "source": [
    "model_6_pretrained_results"
   ]
  },
  {
   "cell_type": "code",
   "execution_count": null,
   "metadata": {},
   "outputs": [],
   "source": [
    "# Create a function to measure time of prediction\n",
    "import time\n",
    "def pred_time(model,samples):\n",
    "    start = time.perf_counter()\n",
    "    model.predict(samples)\n",
    "    stop = time.perf_counter()\n",
    "    total_time = stop-start\n",
    "    time_per_pred = total_time/len(samples)\n",
    "    return total_time,time_per_pred"
   ]
  },
  {
   "cell_type": "code",
   "execution_count": null,
   "metadata": {},
   "outputs": [
    {
     "name": "stdout",
     "output_type": "stream",
     "text": [
      "24/24 [==============================] - 4s 160ms/step\n"
     ]
    },
    {
     "data": {
      "text/plain": [
       "(4.06398299400098, 0.005333311015749318)"
      ]
     },
     "execution_count": 98,
     "metadata": {},
     "output_type": "execute_result"
    }
   ],
   "source": [
    "model_6_pretrained_time = pred_time(model_6,val_sentences)\n",
    "model_6_pretrained_time"
   ]
  },
  {
   "cell_type": "code",
   "execution_count": null,
   "metadata": {},
   "outputs": [
    {
     "data": {
      "text/plain": [
       "(0.07959060900066106, 0.00010444961811110375)"
      ]
     },
     "execution_count": 99,
     "metadata": {},
     "output_type": "execute_result"
    }
   ],
   "source": [
    "baseline_time = pred_time(model_0,val_sentences)\n",
    "baseline_time"
   ]
  },
  {
   "cell_type": "code",
   "execution_count": null,
   "metadata": {},
   "outputs": [
    {
     "data": {
      "text/plain": [
       "{'accuracy': 78.60892388451444,\n",
       " 'precision': 0.7866474744348231,\n",
       " 'recall': 0.7860892388451444,\n",
       " 'f1': 0.78486500301026}"
      ]
     },
     "execution_count": 100,
     "metadata": {},
     "output_type": "execute_result"
    }
   ],
   "source": [
    "model_6_pretrained_results"
   ]
  },
  {
   "cell_type": "code",
   "execution_count": null,
   "metadata": {},
   "outputs": [
    {
     "data": {
      "text/plain": [
       "Text(0.5, 1.0, 'F1-Score versus time per prediction')"
      ]
     },
     "execution_count": 101,
     "metadata": {},
     "output_type": "execute_result"
    },
    {
     "data": {
      "image/png": "[encoded data removed]",
      "text/plain": [
       "<Figure size 700x400 with 1 Axes>"
      ]
     },
     "metadata": {},
     "output_type": "display_data"
    }
   ],
   "source": [
    "import matplotlib.pyplot as plt\n",
    "plt.figure(figsize=(7,4))\n",
    "plt.scatter(baseline_time[1],baseline_results[\"f1\"],label=\"baseline\")\n",
    "plt.scatter(model_6_pretrained_time[1], model_6_pretrained_results[\"f1\"],label=\"TfHubSentenceEncoder\")\n",
    "plt.legend()\n",
    "plt.ylabel(\"F1 score\")\n",
    "plt.xlabel(\"Time per prediction\")\n",
    "plt.title(\"F1-Score versus time per prediction\")"
   ]
  },
  {
   "cell_type": "markdown",
   "metadata": {},
   "source": [
    "# Exercise"
   ]
  },
  {
   "cell_type": "code",
   "execution_count": null,
   "metadata": {},
   "outputs": [
    {
     "name": "stdout",
     "output_type": "stream",
     "text": [
      "Epoch 1/5\n",
      "  3/215 [..............................] - ETA: 16s - loss: 0.6927 - accuracy: 0.5000"
     ]
    },
    {
     "name": "stderr",
     "output_type": "stream",
     "text": [
      "WARNING: All log messages before absl::InitializeLog() is called are written to STDERR\n",
      "I0000 00:00:1703430154.149104   67365 device_compiler.h:186] Compiled cluster using XLA!  This line is logged at most once for the lifetime of the process.\n"
     ]
    },
    {
     "name": "stdout",
     "output_type": "stream",
     "text": [
      "215/215 [==============================] - 8s 30ms/step - loss: 0.6099 - accuracy: 0.6922 - val_loss: 0.5360 - val_accuracy: 0.7559\n",
      "Epoch 2/5\n",
      "215/215 [==============================] - 2s 10ms/step - loss: 0.4413 - accuracy: 0.8193 - val_loss: 0.4690 - val_accuracy: 0.7835\n",
      "Epoch 3/5\n",
      "215/215 [==============================] - 2s 11ms/step - loss: 0.3466 - accuracy: 0.8608 - val_loss: 0.4587 - val_accuracy: 0.7887\n",
      "Epoch 4/5\n",
      "215/215 [==============================] - 2s 9ms/step - loss: 0.2851 - accuracy: 0.8914 - val_loss: 0.4637 - val_accuracy: 0.7900\n",
      "Epoch 5/5\n",
      "215/215 [==============================] - 2s 8ms/step - loss: 0.2382 - accuracy: 0.9121 - val_loss: 0.4762 - val_accuracy: 0.7861\n",
      "24/24 [==============================] - 0s 2ms/step\n"
     ]
    },
    {
     "data": {
      "text/plain": [
       "{'accuracy': 78.60892388451444,\n",
       " 'precision': 0.7903277546022673,\n",
       " 'recall': 0.7860892388451444,\n",
       " 'f1': 0.7832971347503846}"
      ]
     },
     "execution_count": 31,
     "metadata": {},
     "output_type": "execute_result"
    }
   ],
   "source": [
    "#1. Rebuild, compile and train model_1, model_2 and model_5 using the Keras Sequential API instead of the Functional API.\n",
    "#1.a\n",
    "model_1_exercise = tf.keras.models.Sequential([\n",
    "    tf.keras.layers.Input(shape=(1,), dtype=tf.string),\n",
    "    text_vectorizer,\n",
    "    embedding,\n",
    "    tf.keras.layers.GlobalAveragePooling1D(),\n",
    "    tf.keras.layers.Dense(1, activation=tf.keras.activations.sigmoid)\n",
    "])\n",
    "model_1_exercise.compile(loss=tf.keras.losses.BinaryCrossentropy(),\n",
    "                        optimizer=tf.keras.optimizers.Adam(),\n",
    "                        metrics=['accuracy'])\n",
    "history_1_exercise = model_1_exercise.fit(train_sentences, train_labels,\n",
    "                                     epochs=5,\n",
    "                                     validation_data=(val_sentences, val_labels))\n",
    "model_1_preds_exercise = model_1_exercise.predict(val_sentences)\n",
    "calculate_results(val_labels, tf.squeeze(tf.round(model_1_preds_exercise)))"
   ]
  },
  {
   "cell_type": "code",
   "execution_count": null,
   "metadata": {},
   "outputs": [
    {
     "name": "stdout",
     "output_type": "stream",
     "text": [
      "Epoch 1/5\n",
      "215/215 [==============================] - 15s 54ms/step - loss: 0.2238 - accuracy: 0.9165 - val_loss: 0.5366 - val_accuracy: 0.7795\n",
      "Epoch 2/5\n",
      "215/215 [==============================] - 5s 21ms/step - loss: 0.1668 - accuracy: 0.9381 - val_loss: 0.5980 - val_accuracy: 0.7769\n",
      "Epoch 3/5\n",
      "215/215 [==============================] - 4s 20ms/step - loss: 0.1317 - accuracy: 0.9515 - val_loss: 0.7259 - val_accuracy: 0.7677\n",
      "Epoch 4/5\n",
      "215/215 [==============================] - 4s 19ms/step - loss: 0.1102 - accuracy: 0.9590 - val_loss: 0.8589 - val_accuracy: 0.7848\n",
      "Epoch 5/5\n",
      "215/215 [==============================] - 4s 19ms/step - loss: 0.0821 - accuracy: 0.9651 - val_loss: 0.9306 - val_accuracy: 0.7808\n",
      "24/24 [==============================] - 1s 7ms/step\n"
     ]
    },
    {
     "data": {
      "text/plain": [
       "{'accuracy': 78.08398950131233,\n",
       " 'precision': 0.7828610537338687,\n",
       " 'recall': 0.7808398950131233,\n",
       " 'f1': 0.7787902197895524}"
      ]
     },
     "execution_count": 32,
     "metadata": {},
     "output_type": "execute_result"
    }
   ],
   "source": [
    "#1.b\n",
    "model_2_exercise = tf.keras.models.Sequential([\n",
    "    tf.keras.layers.Input(shape=(1,), dtype=tf.string),\n",
    "    text_vectorizer,\n",
    "    embedding,\n",
    "    tf.keras.layers.LSTM(64, return_sequences=True),\n",
    "    tf.keras.layers.LSTM(64, return_sequences=True),\n",
    "    tf.keras.layers.LSTM(64),\n",
    "    tf.keras.layers.Dense(1, activation=tf.keras.activations.sigmoid)\n",
    "])\n",
    "model_2_exercise.compile(loss=tf.keras.losses.BinaryCrossentropy(),\n",
    "                        optimizer=tf.keras.optimizers.Adam(),\n",
    "                        metrics=['accuracy'])\n",
    "history_2_exercise = model_2_exercise.fit(train_sentences, train_labels,\n",
    "                                     epochs=5,\n",
    "                                     validation_data=(val_sentences, val_labels))\n",
    "model_2_preds_exercise = model_2_exercise.predict(val_sentences)\n",
    "calculate_results(val_labels, tf.squeeze(tf.round(model_2_preds_exercise)))"
   ]
  },
  {
   "cell_type": "code",
   "execution_count": null,
   "metadata": {},
   "outputs": [
    {
     "name": "stdout",
     "output_type": "stream",
     "text": [
      "Epoch 1/5\n",
      "215/215 [==============================] - 13s 44ms/step - loss: 0.0741 - accuracy: 0.9707 - val_loss: 0.8903 - val_accuracy: 0.7730\n",
      "Epoch 2/5\n",
      "215/215 [==============================] - 4s 20ms/step - loss: 0.0577 - accuracy: 0.9746 - val_loss: 1.3991 - val_accuracy: 0.7769\n",
      "Epoch 3/5\n",
      "215/215 [==============================] - 4s 20ms/step - loss: 0.0491 - accuracy: 0.9768 - val_loss: 1.6260 - val_accuracy: 0.7638\n",
      "Epoch 4/5\n",
      "215/215 [==============================] - 4s 19ms/step - loss: 0.0464 - accuracy: 0.9781 - val_loss: 1.3402 - val_accuracy: 0.7756\n",
      "Epoch 5/5\n",
      "215/215 [==============================] - 4s 19ms/step - loss: 0.0411 - accuracy: 0.9806 - val_loss: 1.5429 - val_accuracy: 0.7677\n",
      "24/24 [==============================] - 1s 8ms/step\n"
     ]
    },
    {
     "data": {
      "text/plain": [
       "{'accuracy': 76.77165354330708,\n",
       " 'precision': 0.7681410880728078,\n",
       " 'recall': 0.7677165354330708,\n",
       " 'f1': 0.7662770891654436}"
      ]
     },
     "execution_count": 33,
     "metadata": {},
     "output_type": "execute_result"
    }
   ],
   "source": [
    "#1.c\n",
    "model_5_exercise = tf.keras.models.Sequential([\n",
    "    tf.keras.layers.Input(shape=(1,), dtype=tf.string),\n",
    "    text_vectorizer,\n",
    "    embedding,\n",
    "    tf.keras.layers.Conv1D(filters=64, kernel_size=5, padding='same'),\n",
    "    tf.keras.layers.GlobalAveragePooling1D(),\n",
    "    tf.keras.layers.Dense(1, activation=tf.keras.activations.sigmoid)\n",
    "])\n",
    "model_2_exercise.compile(loss=tf.keras.losses.BinaryCrossentropy(),\n",
    "                        optimizer=tf.keras.optimizers.Adam(),\n",
    "                        metrics=['accuracy'])\n",
    "history_2_exercise = model_2_exercise.fit(train_sentences, train_labels,\n",
    "                                     epochs=5,\n",
    "                                     validation_data=(val_sentences, val_labels))\n",
    "model_2_preds_exercise = model_2_exercise.predict(val_sentences)\n",
    "calculate_results(val_labels, tf.squeeze(tf.round(model_2_preds_exercise)))"
   ]
  },
  {
   "cell_type": "code",
   "execution_count": null,
   "metadata": {},
   "outputs": [
    {
     "data": {
      "text/plain": [
       "70.20997375328083"
      ]
     },
     "execution_count": 34,
     "metadata": {},
     "output_type": "execute_result"
    }
   ],
   "source": [
    "#2. Retrain the baseline model with 10% of the training data. How does perform \n",
    "# compared to the Universal Sentence Encoder model with 10% of the training data?\n",
    "train_sentences_10_percent = train_sentences[:int(0.1*len(train_sentences))]\n",
    "train_labels_10_percent = train_labels[:int(0.1*len(train_labels))]\n",
    "from sklearn.feature_extraction.text import TfidfVectorizer\n",
    "from sklearn.naive_bayes import MultinomialNB\n",
    "from sklearn.pipeline import Pipeline\n",
    "\n",
    "# Create tokenization and modelling pipeline\n",
    "model_0 = Pipeline([\n",
    "                    (\"tfidf\", TfidfVectorizer()), # convert words to numbers using tfidf\n",
    "                    (\"clf\", MultinomialNB()) # model the text\n",
    "])\n",
    "\n",
    "# Fit the pipeline to the training data\n",
    "model_0.fit(train_sentences_10_percent, train_labels_10_percent)\n",
    "model_0.score(val_sentences, val_labels)*100"
   ]
  },
  {
   "cell_type": "code",
   "execution_count": null,
   "metadata": {},
   "outputs": [
    {
     "name": "stderr",
     "output_type": "stream",
     "text": [
      "WARNING: All log messages before absl::InitializeLog() is called are written to STDERR\n",
      "I0000 00:00:1703425067.700393   40160 device_compiler.h:186] Compiled cluster using XLA!  This line is logged at most once for the lifetime of the process.\n"
     ]
    },
    {
     "name": "stdout",
     "output_type": "stream",
     "text": [
      "215/215 [==============================] - 103s 396ms/step - loss: 0.4555 - accuracy: 0.7986 - val_loss: 0.4411 - val_accuracy: 0.8150\n",
      "24/24 [==============================] - 1s 22ms/step\n"
     ]
    },
    {
     "data": {
      "text/plain": [
       "{'accuracy': 81.49606299212599,\n",
       " 'precision': 0.8153632818598993,\n",
       " 'recall': 0.8149606299212598,\n",
       " 'f1': 0.8150930383740584}"
      ]
     },
     "execution_count": 14,
     "metadata": {},
     "output_type": "execute_result"
    }
   ],
   "source": [
    "#3. Try fine-tuning the TF Hub Universal Sentence Encoder model by setting training=True when instantiating it as a Keras layer.\n",
    "sentence_encoder_layer = hub.KerasLayer(embed,\n",
    "                                        input_shape=[],\n",
    "                                        dtype=tf.string,\n",
    "                                        trainable=True) #model is trainable now\n",
    "model_fine_tune_exercise = tf.keras.models.Sequential([\n",
    "    sentence_encoder_layer,\n",
    "    tf.keras.layers.Dense(64, activation=tf.keras.activations.relu),\n",
    "    tf.keras.layers.Dense(64, activation=tf.keras.activations.relu),\n",
    "    tf.keras.layers.Dense(1, activation=tf.keras.activations.sigmoid)\n",
    "])\n",
    "model_fine_tune_exercise.compile(loss=tf.keras.losses.BinaryCrossentropy(),\n",
    "                        optimizer=tf.keras.optimizers.Adam(),\n",
    "                        metrics=['accuracy'])\n",
    "history_fine_tune_exercise = model_fine_tune_exercise.fit(train_sentences, train_labels,\n",
    "                                     epochs=1,\n",
    "                                     validation_data=(val_sentences, val_labels))\n",
    "model_fine_tune_preds_exercise = model_fine_tune_exercise.predict(val_sentences)\n",
    "calculate_results(val_labels, tf.squeeze(tf.round(model_fine_tune_preds_exercise)))"
   ]
  },
  {
   "cell_type": "code",
   "execution_count": null,
   "metadata": {},
   "outputs": [
    {
     "name": "stdout",
     "output_type": "stream",
     "text": [
      "Epoch 1/10\n",
      "238/238 [==============================] - 6s 20ms/step - loss: 0.4717 - accuracy: 0.7908\n",
      "Epoch 2/10\n",
      "238/238 [==============================] - 5s 19ms/step - loss: 0.3938 - accuracy: 0.8291\n",
      "Epoch 3/10\n",
      "238/238 [==============================] - 4s 19ms/step - loss: 0.3661 - accuracy: 0.8428\n",
      "Epoch 4/10\n",
      "238/238 [==============================] - 4s 19ms/step - loss: 0.3336 - accuracy: 0.8614\n",
      "Epoch 5/10\n",
      "238/238 [==============================] - 4s 19ms/step - loss: 0.2943 - accuracy: 0.8824\n",
      "Epoch 6/10\n",
      "238/238 [==============================] - 5s 19ms/step - loss: 0.2502 - accuracy: 0.9033\n",
      "Epoch 7/10\n",
      "238/238 [==============================] - 5s 19ms/step - loss: 0.2054 - accuracy: 0.9243\n",
      "Epoch 8/10\n",
      "238/238 [==============================] - 5s 19ms/step - loss: 0.1591 - accuracy: 0.9460\n",
      "Epoch 9/10\n",
      "238/238 [==============================] - 5s 19ms/step - loss: 0.1255 - accuracy: 0.9594\n",
      "Epoch 10/10\n",
      "238/238 [==============================] - 4s 19ms/step - loss: 0.1050 - accuracy: 0.9647\n",
      "102/102 [==============================] - 2s 16ms/step\n"
     ]
    }
   ],
   "source": [
    "#4 Retrain the best model you've got so far on the whole training set (no validation split). Then use this trained model to make predictions on the test dataset and format the predictions into the same format as the sample_submission.csv\n",
    "# Challenge, beat the baseline\n",
    "model_best_exercise = tf.keras.models.Sequential([\n",
    "    sentence_encoder_layer,\n",
    "    tf.keras.layers.Dense(128,activation=tf.keras.activations.relu),\n",
    "    tf.keras.layers.Dense(64,activation=tf.keras.activations.relu),\n",
    "    tf.keras.layers.Dense(1,activation=tf.keras.activations.sigmoid)\n",
    "])\n",
    "model_best_exercise.compile(loss=tf.keras.losses.BinaryCrossentropy(),\n",
    "                    optimizer=tf.keras.optimizers.Adam(),\n",
    "                    metrics=['accuracy'])\n",
    "model_best_exercise_history = model_best_exercise.fit(train_df_shuffled.text, train_df_shuffled.target,\n",
    "                                      epochs=10)\n",
    "\n",
    "model_best_exercise_pred_probs = model_best_exercise.predict(test_df.text)\n",
    "model_best_exercise_preds = tf.squeeze(tf.round(model_best_exercise_pred_probs))\n",
    "model_best_exercise_preds = [int(pred) for pred in model_best_exercise_preds.numpy()]\n",
    "test_df[\"target\"] = model_best_exercise_preds\n",
    "submission = test_df[[\"id\", \"target\"]]\n",
    "submission.to_csv(\"submission.csv\", index=False)"
   ]
  },
  {
   "cell_type": "code",
   "execution_count": null,
   "metadata": {},
   "outputs": [
    {
     "data": {
      "text/plain": [
       "{'accuracy': 79.79002624671917,\n",
       " 'precision': 0.798940036341611,\n",
       " 'recall': 0.7979002624671916,\n",
       " 'f1': 0.7965988626421697}"
      ]
     },
     "execution_count": 89,
     "metadata": {},
     "output_type": "execute_result"
    }
   ],
   "source": [
    "#5. Combine the ensemble predictions using the majority vote (mode), how does this perform compare \n",
    "# to averaging the prediction probabilities of each model?\n",
    "#ensemble majority voting - take the preds which has max support\n",
    "models=[model_1_preds, model_2_preds, model_3_preds, model_4_preds, model_5_preds, model_6_preds]\n",
    "ensemble_preds_exercise=[]\n",
    "for i in range(len(model_1_preds)):\n",
    "    class0Count, class1Count = 0, 0\n",
    "    for model in models:\n",
    "        if model[i]==0:\n",
    "            class0Count+=1\n",
    "        elif model[i]==1:\n",
    "            class1Count+=1\n",
    "    if class0Count>class1Count:\n",
    "        ensemble_preds_exercise.append(0)\n",
    "    else:\n",
    "        ensemble_preds_exercise.append(1)\n",
    "calculate_results(val_labels, ensemble_preds_exercise)"
   ]
  },
  {
   "cell_type": "code",
   "execution_count": null,
   "metadata": {},
   "outputs": [
    {
     "data": {
      "image/png": "[encoded data removed]",
      "text/plain": [
       "<Figure size 1000x1000 with 2 Axes>"
      ]
     },
     "metadata": {},
     "output_type": "display_data"
    }
   ],
   "source": [
    "#6. Make a confusion matrix with the best performing model's\n",
    "#predictions on the validation set and the validation ground truth labels.\n",
    "from helper_functions import make_confusion_matrix\n",
    "make_confusion_matrix(val_labels, ensemble_preds_exercise)"
   ]
  }
 ],
 "metadata": {
  "accelerator": "GPU",
  "colab": {
   "gpuType": "T4",
   "provenance": []
  },
  "kernelspec": {
   "display_name": "Python 3 (ipykernel)",
   "language": "python",
   "name": "python3"
  },
  "language_info": {
   "codemirror_mode": {
    "name": "ipython",
    "version": 3
   },
   "file_extension": ".py",
   "mimetype": "text/x-python",
   "name": "python",
   "nbconvert_exporter": "python",
   "pygments_lexer": "ipython3",
   "version": "3.9.18"
  }
 },
 "nbformat": 4,
 "nbformat_minor": 4
}
