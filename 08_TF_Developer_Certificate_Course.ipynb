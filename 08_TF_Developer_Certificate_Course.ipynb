{
 "cells": [
  {
   "cell_type": "code",
   "execution_count": 1,
   "metadata": {
    "colab": {
     "base_uri": "https://localhost:8080/"
    },
    "id": "-Rj7sBkxRK6G",
    "outputId": "1f3a17ef-f667-43a2-f5ba-2605f6f6b1f6"
   },
   "outputs": [
    {
     "name": "stdout",
     "output_type": "stream",
     "text": [
      "INFO:tensorflow:Mixed precision compatibility check (mixed_float16): OK\n",
      "Your GPU will likely run quickly with dtype policy mixed_float16 as it has compute capability of at least 7.0. Your GPU: NVIDIA GeForce RTX 3050 Laptop GPU, compute capability 8.6\n",
      "2.4.4\n"
     ]
    }
   ],
   "source": [
    "import os\n",
    "os.environ['TF_CPP_MIN_LOG_LEVEL'] = '3'\n",
    "import tensorflow as tf\n",
    "from tensorflow.keras import mixed_precision\n",
    "physical_devices = tf.config.list_physical_devices('GPU')\n",
    "tf.config.experimental.set_memory_growth(physical_devices[0], True)\n",
    "mixed_precision.set_global_policy('mixed_float16')\n",
    "print(tf.__version__)"
   ]
  },
  {
   "cell_type": "code",
   "execution_count": 2,
   "metadata": {
    "colab": {
     "base_uri": "https://localhost:8080/"
    },
    "id": "W67y0phrRQnz",
    "outputId": "42ed52f4-ad7a-4358-be20-5d6bd952469d"
   },
   "outputs": [
    {
     "name": "stdout",
     "output_type": "stream",
     "text": [
      "[INFO] 'helper_functions.py' already exists, skipping download.\n"
     ]
    }
   ],
   "source": [
    "import os\n",
    "\n",
    "if not os.path.exists(\"helper_functions.py\"):\n",
    "  !wget https://raw.githubusercontent.com/mrdbourke/tensorflow-deep-learning/main/extras/helper_functions.py\n",
    "else:\n",
    "  print(\"[INFO] 'helper_functions.py' already exists, skipping download.\")\n",
    "\n",
    "# Import series of helper functions for the notebook (we've created/used these in previous notebooks)\n",
    "from helper_functions import unzip_data, create_tensorboard_callback, plot_loss_curves, compare_historys"
   ]
  },
  {
   "cell_type": "markdown",
   "metadata": {
    "id": "V5L-H4otpgvS"
   },
   "source": [
    "We will be using RNN to train textual information\n",
    "\n",
    "**Basic Structure of RNN**\n",
    "* Input layer\n",
    "* text_vectorizer(input)\n",
    "* embedding(x)\n",
    "* LSTM -> activation = tanh\n",
    "* output_Dense -> activation = sigmoid"
   ]
  },
  {
   "cell_type": "markdown",
   "metadata": {
    "id": "h0eqNb9Nsyzi"
   },
   "source": [
    "### Get the text dataset"
   ]
  },
  {
   "cell_type": "code",
   "execution_count": 3,
   "metadata": {
    "colab": {
     "base_uri": "https://localhost:8080/"
    },
    "id": "t2Fp9BY2pkCZ",
    "outputId": "9e45db91-9899-42d4-e2ce-e20a3b3f6ec4"
   },
   "outputs": [
    {
     "name": "stdout",
     "output_type": "stream",
     "text": [
      "[INFO] already exists, skipping download.\n"
     ]
    }
   ],
   "source": [
    "if not os.path.exists(\"nlp_getting_started.zip\"):\n",
    "    !wget https://storage.googleapis.com/ztm_tf_course/nlp_getting_started.zip\n",
    "    unzip_data(\"nlp_getting_started.zip\")\n",
    "else:\n",
    "  print(\"[INFO] already exists, skipping download.\")"
   ]
  },
  {
   "cell_type": "markdown",
   "metadata": {
    "id": "_rzD1DRKtRlJ"
   },
   "source": [
    "### Visualizing a text dataset"
   ]
  },
  {
   "cell_type": "code",
   "execution_count": 4,
   "metadata": {
    "id": "qyWmNLXTtC_x"
   },
   "outputs": [],
   "source": [
    "import pandas as pd\n",
    "train_df = pd.read_csv(\"train.csv\")\n",
    "test_df = pd.read_csv(\"test.csv\")"
   ]
  },
  {
   "cell_type": "code",
   "execution_count": 5,
   "metadata": {
    "colab": {
     "base_uri": "https://localhost:8080/",
     "height": 359
    },
    "id": "BoTo82yJt4no",
    "outputId": "42f9155e-4b7b-4493-d674-529bf9b33799"
   },
   "outputs": [
    {
     "data": {
      "text/html": [
       "<div>\n",
       "<style scoped>\n",
       "    .dataframe tbody tr th:only-of-type {\n",
       "        vertical-align: middle;\n",
       "    }\n",
       "\n",
       "    .dataframe tbody tr th {\n",
       "        vertical-align: top;\n",
       "    }\n",
       "\n",
       "    .dataframe thead th {\n",
       "        text-align: right;\n",
       "    }\n",
       "</style>\n",
       "<table border=\"1\" class=\"dataframe\">\n",
       "  <thead>\n",
       "    <tr style=\"text-align: right;\">\n",
       "      <th></th>\n",
       "      <th>id</th>\n",
       "      <th>keyword</th>\n",
       "      <th>location</th>\n",
       "      <th>text</th>\n",
       "      <th>target</th>\n",
       "    </tr>\n",
       "  </thead>\n",
       "  <tbody>\n",
       "    <tr>\n",
       "      <th>0</th>\n",
       "      <td>1</td>\n",
       "      <td>NaN</td>\n",
       "      <td>NaN</td>\n",
       "      <td>Our Deeds are the Reason of this #earthquake M...</td>\n",
       "      <td>1</td>\n",
       "    </tr>\n",
       "    <tr>\n",
       "      <th>1</th>\n",
       "      <td>4</td>\n",
       "      <td>NaN</td>\n",
       "      <td>NaN</td>\n",
       "      <td>Forest fire near La Ronge Sask. Canada</td>\n",
       "      <td>1</td>\n",
       "    </tr>\n",
       "    <tr>\n",
       "      <th>2</th>\n",
       "      <td>5</td>\n",
       "      <td>NaN</td>\n",
       "      <td>NaN</td>\n",
       "      <td>All residents asked to 'shelter in place' are ...</td>\n",
       "      <td>1</td>\n",
       "    </tr>\n",
       "    <tr>\n",
       "      <th>3</th>\n",
       "      <td>6</td>\n",
       "      <td>NaN</td>\n",
       "      <td>NaN</td>\n",
       "      <td>13,000 people receive #wildfires evacuation or...</td>\n",
       "      <td>1</td>\n",
       "    </tr>\n",
       "    <tr>\n",
       "      <th>4</th>\n",
       "      <td>7</td>\n",
       "      <td>NaN</td>\n",
       "      <td>NaN</td>\n",
       "      <td>Just got sent this photo from Ruby #Alaska as ...</td>\n",
       "      <td>1</td>\n",
       "    </tr>\n",
       "    <tr>\n",
       "      <th>5</th>\n",
       "      <td>8</td>\n",
       "      <td>NaN</td>\n",
       "      <td>NaN</td>\n",
       "      <td>#RockyFire Update =&gt; California Hwy. 20 closed...</td>\n",
       "      <td>1</td>\n",
       "    </tr>\n",
       "    <tr>\n",
       "      <th>6</th>\n",
       "      <td>10</td>\n",
       "      <td>NaN</td>\n",
       "      <td>NaN</td>\n",
       "      <td>#flood #disaster Heavy rain causes flash flood...</td>\n",
       "      <td>1</td>\n",
       "    </tr>\n",
       "    <tr>\n",
       "      <th>7</th>\n",
       "      <td>13</td>\n",
       "      <td>NaN</td>\n",
       "      <td>NaN</td>\n",
       "      <td>I'm on top of the hill and I can see a fire in...</td>\n",
       "      <td>1</td>\n",
       "    </tr>\n",
       "    <tr>\n",
       "      <th>8</th>\n",
       "      <td>14</td>\n",
       "      <td>NaN</td>\n",
       "      <td>NaN</td>\n",
       "      <td>There's an emergency evacuation happening now ...</td>\n",
       "      <td>1</td>\n",
       "    </tr>\n",
       "    <tr>\n",
       "      <th>9</th>\n",
       "      <td>15</td>\n",
       "      <td>NaN</td>\n",
       "      <td>NaN</td>\n",
       "      <td>I'm afraid that the tornado is coming to our a...</td>\n",
       "      <td>1</td>\n",
       "    </tr>\n",
       "  </tbody>\n",
       "</table>\n",
       "</div>"
      ],
      "text/plain": [
       "   id keyword location                                               text  \\\n",
       "0   1     NaN      NaN  Our Deeds are the Reason of this #earthquake M...   \n",
       "1   4     NaN      NaN             Forest fire near La Ronge Sask. Canada   \n",
       "2   5     NaN      NaN  All residents asked to 'shelter in place' are ...   \n",
       "3   6     NaN      NaN  13,000 people receive #wildfires evacuation or...   \n",
       "4   7     NaN      NaN  Just got sent this photo from Ruby #Alaska as ...   \n",
       "5   8     NaN      NaN  #RockyFire Update => California Hwy. 20 closed...   \n",
       "6  10     NaN      NaN  #flood #disaster Heavy rain causes flash flood...   \n",
       "7  13     NaN      NaN  I'm on top of the hill and I can see a fire in...   \n",
       "8  14     NaN      NaN  There's an emergency evacuation happening now ...   \n",
       "9  15     NaN      NaN  I'm afraid that the tornado is coming to our a...   \n",
       "\n",
       "   target  \n",
       "0       1  \n",
       "1       1  \n",
       "2       1  \n",
       "3       1  \n",
       "4       1  \n",
       "5       1  \n",
       "6       1  \n",
       "7       1  \n",
       "8       1  \n",
       "9       1  "
      ]
     },
     "execution_count": 5,
     "metadata": {},
     "output_type": "execute_result"
    }
   ],
   "source": [
    "train_df.head(10)"
   ]
  },
  {
   "cell_type": "code",
   "execution_count": 6,
   "metadata": {
    "colab": {
     "base_uri": "https://localhost:8080/",
     "height": 359
    },
    "id": "5ImBTHVft6K2",
    "outputId": "03de4f67-1175-471c-a854-9fae6608be73"
   },
   "outputs": [
    {
     "data": {
      "text/html": [
       "<div>\n",
       "<style scoped>\n",
       "    .dataframe tbody tr th:only-of-type {\n",
       "        vertical-align: middle;\n",
       "    }\n",
       "\n",
       "    .dataframe tbody tr th {\n",
       "        vertical-align: top;\n",
       "    }\n",
       "\n",
       "    .dataframe thead th {\n",
       "        text-align: right;\n",
       "    }\n",
       "</style>\n",
       "<table border=\"1\" class=\"dataframe\">\n",
       "  <thead>\n",
       "    <tr style=\"text-align: right;\">\n",
       "      <th></th>\n",
       "      <th>id</th>\n",
       "      <th>keyword</th>\n",
       "      <th>location</th>\n",
       "      <th>text</th>\n",
       "      <th>target</th>\n",
       "    </tr>\n",
       "  </thead>\n",
       "  <tbody>\n",
       "    <tr>\n",
       "      <th>2644</th>\n",
       "      <td>3796</td>\n",
       "      <td>destruction</td>\n",
       "      <td>NaN</td>\n",
       "      <td>So you have a new weapon that can cause un-ima...</td>\n",
       "      <td>1</td>\n",
       "    </tr>\n",
       "    <tr>\n",
       "      <th>2227</th>\n",
       "      <td>3185</td>\n",
       "      <td>deluge</td>\n",
       "      <td>NaN</td>\n",
       "      <td>The f$&amp;amp;@ing things I do for #GISHWHES Just...</td>\n",
       "      <td>0</td>\n",
       "    </tr>\n",
       "    <tr>\n",
       "      <th>5448</th>\n",
       "      <td>7769</td>\n",
       "      <td>police</td>\n",
       "      <td>UK</td>\n",
       "      <td>DT @georgegalloway: RT @Galloway4Mayor: ÛÏThe...</td>\n",
       "      <td>1</td>\n",
       "    </tr>\n",
       "    <tr>\n",
       "      <th>132</th>\n",
       "      <td>191</td>\n",
       "      <td>aftershock</td>\n",
       "      <td>NaN</td>\n",
       "      <td>Aftershock back to school kick off was great. ...</td>\n",
       "      <td>0</td>\n",
       "    </tr>\n",
       "    <tr>\n",
       "      <th>6845</th>\n",
       "      <td>9810</td>\n",
       "      <td>trauma</td>\n",
       "      <td>Montgomery County, MD</td>\n",
       "      <td>in response to trauma Children of Addicts deve...</td>\n",
       "      <td>0</td>\n",
       "    </tr>\n",
       "    <tr>\n",
       "      <th>5559</th>\n",
       "      <td>7934</td>\n",
       "      <td>rainstorm</td>\n",
       "      <td>NaN</td>\n",
       "      <td>@Calum5SOS you look like you got caught in a r...</td>\n",
       "      <td>0</td>\n",
       "    </tr>\n",
       "    <tr>\n",
       "      <th>1765</th>\n",
       "      <td>2538</td>\n",
       "      <td>collision</td>\n",
       "      <td>NaN</td>\n",
       "      <td>my favorite lady came to our volunteer meeting...</td>\n",
       "      <td>1</td>\n",
       "    </tr>\n",
       "    <tr>\n",
       "      <th>1817</th>\n",
       "      <td>2611</td>\n",
       "      <td>crashed</td>\n",
       "      <td>NaN</td>\n",
       "      <td>@brianroemmele UX fail of EMV - people want to...</td>\n",
       "      <td>1</td>\n",
       "    </tr>\n",
       "    <tr>\n",
       "      <th>6810</th>\n",
       "      <td>9756</td>\n",
       "      <td>tragedy</td>\n",
       "      <td>Los Angeles, CA</td>\n",
       "      <td>Can't find my ariana grande shirt  this is a f...</td>\n",
       "      <td>0</td>\n",
       "    </tr>\n",
       "    <tr>\n",
       "      <th>4398</th>\n",
       "      <td>6254</td>\n",
       "      <td>hijacking</td>\n",
       "      <td>Athens,Greece</td>\n",
       "      <td>The Murderous Story Of AmericaÛªs First Hijac...</td>\n",
       "      <td>1</td>\n",
       "    </tr>\n",
       "  </tbody>\n",
       "</table>\n",
       "</div>"
      ],
      "text/plain": [
       "        id      keyword               location  \\\n",
       "2644  3796  destruction                    NaN   \n",
       "2227  3185       deluge                    NaN   \n",
       "5448  7769       police                     UK   \n",
       "132    191   aftershock                    NaN   \n",
       "6845  9810       trauma  Montgomery County, MD   \n",
       "5559  7934    rainstorm                    NaN   \n",
       "1765  2538    collision                    NaN   \n",
       "1817  2611      crashed                    NaN   \n",
       "6810  9756      tragedy        Los Angeles, CA   \n",
       "4398  6254    hijacking          Athens,Greece   \n",
       "\n",
       "                                                   text  target  \n",
       "2644  So you have a new weapon that can cause un-ima...       1  \n",
       "2227  The f$&amp;@ing things I do for #GISHWHES Just...       0  \n",
       "5448  DT @georgegalloway: RT @Galloway4Mayor: ÛÏThe...       1  \n",
       "132   Aftershock back to school kick off was great. ...       0  \n",
       "6845  in response to trauma Children of Addicts deve...       0  \n",
       "5559  @Calum5SOS you look like you got caught in a r...       0  \n",
       "1765  my favorite lady came to our volunteer meeting...       1  \n",
       "1817  @brianroemmele UX fail of EMV - people want to...       1  \n",
       "6810  Can't find my ariana grande shirt  this is a f...       0  \n",
       "4398  The Murderous Story Of AmericaÛªs First Hijac...       1  "
      ]
     },
     "execution_count": 6,
     "metadata": {},
     "output_type": "execute_result"
    }
   ],
   "source": [
    "#Shuffle to train data\n",
    "train_df_shuffled = train_df.sample(frac=1, random_state=42)\n",
    "train_df_shuffled.head(10)"
   ]
  },
  {
   "cell_type": "code",
   "execution_count": 7,
   "metadata": {
    "colab": {
     "base_uri": "https://localhost:8080/",
     "height": 359
    },
    "id": "2wbB2XBBuUsd",
    "outputId": "0c9bade6-2760-4830-b9b1-3f4e1cdeef42"
   },
   "outputs": [
    {
     "data": {
      "text/html": [
       "<div>\n",
       "<style scoped>\n",
       "    .dataframe tbody tr th:only-of-type {\n",
       "        vertical-align: middle;\n",
       "    }\n",
       "\n",
       "    .dataframe tbody tr th {\n",
       "        vertical-align: top;\n",
       "    }\n",
       "\n",
       "    .dataframe thead th {\n",
       "        text-align: right;\n",
       "    }\n",
       "</style>\n",
       "<table border=\"1\" class=\"dataframe\">\n",
       "  <thead>\n",
       "    <tr style=\"text-align: right;\">\n",
       "      <th></th>\n",
       "      <th>id</th>\n",
       "      <th>keyword</th>\n",
       "      <th>location</th>\n",
       "      <th>text</th>\n",
       "    </tr>\n",
       "  </thead>\n",
       "  <tbody>\n",
       "    <tr>\n",
       "      <th>0</th>\n",
       "      <td>0</td>\n",
       "      <td>NaN</td>\n",
       "      <td>NaN</td>\n",
       "      <td>Just happened a terrible car crash</td>\n",
       "    </tr>\n",
       "    <tr>\n",
       "      <th>1</th>\n",
       "      <td>2</td>\n",
       "      <td>NaN</td>\n",
       "      <td>NaN</td>\n",
       "      <td>Heard about #earthquake is different cities, s...</td>\n",
       "    </tr>\n",
       "    <tr>\n",
       "      <th>2</th>\n",
       "      <td>3</td>\n",
       "      <td>NaN</td>\n",
       "      <td>NaN</td>\n",
       "      <td>there is a forest fire at spot pond, geese are...</td>\n",
       "    </tr>\n",
       "    <tr>\n",
       "      <th>3</th>\n",
       "      <td>9</td>\n",
       "      <td>NaN</td>\n",
       "      <td>NaN</td>\n",
       "      <td>Apocalypse lighting. #Spokane #wildfires</td>\n",
       "    </tr>\n",
       "    <tr>\n",
       "      <th>4</th>\n",
       "      <td>11</td>\n",
       "      <td>NaN</td>\n",
       "      <td>NaN</td>\n",
       "      <td>Typhoon Soudelor kills 28 in China and Taiwan</td>\n",
       "    </tr>\n",
       "    <tr>\n",
       "      <th>5</th>\n",
       "      <td>12</td>\n",
       "      <td>NaN</td>\n",
       "      <td>NaN</td>\n",
       "      <td>We're shaking...It's an earthquake</td>\n",
       "    </tr>\n",
       "    <tr>\n",
       "      <th>6</th>\n",
       "      <td>21</td>\n",
       "      <td>NaN</td>\n",
       "      <td>NaN</td>\n",
       "      <td>They'd probably still show more life than Arse...</td>\n",
       "    </tr>\n",
       "    <tr>\n",
       "      <th>7</th>\n",
       "      <td>22</td>\n",
       "      <td>NaN</td>\n",
       "      <td>NaN</td>\n",
       "      <td>Hey! How are you?</td>\n",
       "    </tr>\n",
       "    <tr>\n",
       "      <th>8</th>\n",
       "      <td>27</td>\n",
       "      <td>NaN</td>\n",
       "      <td>NaN</td>\n",
       "      <td>What a nice hat?</td>\n",
       "    </tr>\n",
       "    <tr>\n",
       "      <th>9</th>\n",
       "      <td>29</td>\n",
       "      <td>NaN</td>\n",
       "      <td>NaN</td>\n",
       "      <td>Fuck off!</td>\n",
       "    </tr>\n",
       "  </tbody>\n",
       "</table>\n",
       "</div>"
      ],
      "text/plain": [
       "   id keyword location                                               text\n",
       "0   0     NaN      NaN                 Just happened a terrible car crash\n",
       "1   2     NaN      NaN  Heard about #earthquake is different cities, s...\n",
       "2   3     NaN      NaN  there is a forest fire at spot pond, geese are...\n",
       "3   9     NaN      NaN           Apocalypse lighting. #Spokane #wildfires\n",
       "4  11     NaN      NaN      Typhoon Soudelor kills 28 in China and Taiwan\n",
       "5  12     NaN      NaN                 We're shaking...It's an earthquake\n",
       "6  21     NaN      NaN  They'd probably still show more life than Arse...\n",
       "7  22     NaN      NaN                                  Hey! How are you?\n",
       "8  27     NaN      NaN                                   What a nice hat?\n",
       "9  29     NaN      NaN                                          Fuck off!"
      ]
     },
     "execution_count": 7,
     "metadata": {},
     "output_type": "execute_result"
    }
   ],
   "source": [
    "# test_data\n",
    "test_df.head(10)"
   ]
  },
  {
   "cell_type": "code",
   "execution_count": 8,
   "metadata": {
    "colab": {
     "base_uri": "https://localhost:8080/"
    },
    "id": "VFNWm50cubJ8",
    "outputId": "aa2581ec-ec4e-447d-bcfd-d9beb8717732"
   },
   "outputs": [
    {
     "data": {
      "text/plain": [
       "0    4342\n",
       "1    3271\n",
       "Name: target, dtype: int64"
      ]
     },
     "execution_count": 8,
     "metadata": {},
     "output_type": "execute_result"
    }
   ],
   "source": [
    "#How many examples in each class\n",
    "train_df.target.value_counts()"
   ]
  },
  {
   "cell_type": "code",
   "execution_count": 9,
   "metadata": {
    "colab": {
     "base_uri": "https://localhost:8080/"
    },
    "id": "DA79OdN4umTy",
    "outputId": "507f1634-dd9b-4c98-8d57-2a00d0decde7"
   },
   "outputs": [
    {
     "name": "stdout",
     "output_type": "stream",
     "text": [
      "4051\n",
      "Target: 0, (not a real disaster)\n",
      "Text:\n",
      "Downtown Emergency Service Center is hiring! #Chemical #Dependency Counselor or Intern in #Seattle apply now! #jobs http://t.co/HhTwAyT4yo\n",
      "\n",
      "---\n",
      "Target: 0, (not a real disaster)\n",
      "Text:\n",
      "Having your wounds kissed by Someone who doesn't see them as disasters in your soul but rather cracks to pour their love into is amazing.\n",
      "\n",
      "---\n",
      "Target: 1, (real disaster)\n",
      "Text:\n",
      "Japan Marks 70th Anniversary of Hiroshima Atomic Bombing http://t.co/3EV07PPaPn\n",
      "\n",
      "---\n",
      "Target: 0, (not a real disaster)\n",
      "Text:\n",
      "i strongly support our military &amp; their families just not the cock suckers in DC they work for\n",
      "\n",
      "---\n",
      "Target: 0, (not a real disaster)\n",
      "Text:\n",
      "There are people who plotted against me that are still wondering how I survived\n",
      "\n",
      "---\n"
     ]
    }
   ],
   "source": [
    "# visualise some random training examples\n",
    "import random\n",
    "random_index = random.randint(0,len(train_df)-5)\n",
    "print(random_index)\n",
    "for row in train_df_shuffled[['text','target']][random_index:random_index+5].itertuples():\n",
    "  index,text,target = row\n",
    "  print(f\"Target: {target}, {'(real disaster)' if target > 0 else '(not a real disaster)'}\")\n",
    "  print(f\"Text:\\n{text}\\n\")\n",
    "  print(\"---\")"
   ]
  },
  {
   "cell_type": "code",
   "execution_count": 10,
   "metadata": {
    "colab": {
     "base_uri": "https://localhost:8080/"
    },
    "id": "MSRuczOy1Hze",
    "outputId": "be2ce9c4-1f4f-40a5-f885-a15dcb36971c"
   },
   "outputs": [
    {
     "data": {
      "text/plain": [
       "7613"
      ]
     },
     "execution_count": 10,
     "metadata": {},
     "output_type": "execute_result"
    }
   ],
   "source": [
    "len(train_df_shuffled)"
   ]
  },
  {
   "cell_type": "code",
   "execution_count": 11,
   "metadata": {
    "id": "5ilKeV5jwa0E"
   },
   "outputs": [],
   "source": [
    "#Splitting the data to create validation -> (train + validation)\n",
    "from sklearn.model_selection import train_test_split\n",
    "train_sentences, val_sentences, train_labels, val_labels = train_test_split(train_df_shuffled[\"text\"].to_numpy(),\n",
    "                                                                            train_df_shuffled[\"target\"].to_numpy(),\n",
    "                                                                            test_size=0.1,\n",
    "                                                                            random_state=42)"
   ]
  },
  {
   "cell_type": "code",
   "execution_count": 12,
   "metadata": {
    "colab": {
     "base_uri": "https://localhost:8080/"
    },
    "id": "4b2LtkKK08Rd",
    "outputId": "e485da7f-324c-432d-f666-fbb8abb214a9"
   },
   "outputs": [
    {
     "data": {
      "text/plain": [
       "(6851, 6851, 762, 762)"
      ]
     },
     "execution_count": 12,
     "metadata": {},
     "output_type": "execute_result"
    }
   ],
   "source": [
    "#Check length\n",
    "len(train_sentences),len(train_labels),len(val_sentences),len(val_labels)"
   ]
  },
  {
   "cell_type": "code",
   "execution_count": 13,
   "metadata": {
    "colab": {
     "base_uri": "https://localhost:8080/"
    },
    "id": "NqZ7B-jT1EHj",
    "outputId": "7601f438-27da-4eb1-b30a-0cdfa30f5378"
   },
   "outputs": [
    {
     "data": {
      "text/plain": [
       "(array(['@mogacola @zamtriossu i screamed after hitting tweet',\n",
       "        'Imagine getting flattened by Kurt Zouma',\n",
       "        '@Gurmeetramrahim #MSGDoing111WelfareWorks Green S welfare force ke appx 65000 members har time disaster victim ki help ke liye tyar hai....',\n",
       "        \"@shakjn @C7 @Magnums im shaking in fear he's gonna hack the planet\",\n",
       "        'Somehow find you and I collide http://t.co/Ee8RpOahPk',\n",
       "        '@EvaHanderek @MarleyKnysh great times until the bus driver held us hostage in the mall parking lot lmfao',\n",
       "        'destroy the free fandom honestly',\n",
       "        'Weapons stolen from National Guard Armory in New Albany still missing #Gunsense http://t.co/lKNU8902JE',\n",
       "        '@wfaaweather Pete when will the heat wave pass? Is it really going to be mid month? Frisco Boy Scouts have a canoe trip in Okla.',\n",
       "        'Patient-reported outcomes in long-term survivors of metastatic colorectal cancer - British Journal of Surgery http://t.co/5Yl4DC1Tqt'],\n",
       "       dtype=object),\n",
       " array([0, 0, 1, 0, 0, 1, 1, 0, 1, 1]))"
      ]
     },
     "execution_count": 13,
     "metadata": {},
     "output_type": "execute_result"
    }
   ],
   "source": [
    "# Check few sample\n",
    "train_sentences[:10],train_labels[:10]"
   ]
  },
  {
   "cell_type": "markdown",
   "metadata": {
    "id": "oHfc38t53GjO"
   },
   "source": [
    "## Converting text into numbers\n",
    "\n",
    "1. tokenization -> can get too big as the number of text sample increases\n",
    "2. Embedding -> richer representation of relationship be between tokens, deeper the realtion between words, more the number/embedding for that token"
   ]
  },
  {
   "cell_type": "code",
   "execution_count": 14,
   "metadata": {
    "id": "yru6-5TJ1U17"
   },
   "outputs": [],
   "source": [
    "import tensorflow as tf\n",
    "\n",
    "# Use the default TextVectorization variables\n",
    "text_vectorizer = tf.keras.layers.experimental.preprocessing.TextVectorization(max_tokens=None, # how many words in the vocabulary (all of the different words in your text)\n",
    "                                                    standardize=\"lower_and_strip_punctuation\", # how to process text\n",
    "                                                    split=\"whitespace\", # how to split tokens\n",
    "                                                    ngrams=None, # create groups of n-words?\n",
    "                                                    output_mode=\"int\", # how to map tokens to numbers\n",
    "                                                    output_sequence_length=None) # how long should the output sequence of tokens be?\n",
    "                                                    # pad_to_max_tokens=True) # Not valid if using max_tokens=None"
   ]
  },
  {
   "cell_type": "code",
   "execution_count": 15,
   "metadata": {
    "colab": {
     "base_uri": "https://localhost:8080/"
    },
    "id": "3SQN6iwGtjGC",
    "outputId": "ca38bcb6-72ce-483b-c1fb-5091e5248bfb"
   },
   "outputs": [
    {
     "data": {
      "text/plain": [
       "15"
      ]
     },
     "execution_count": 15,
     "metadata": {},
     "output_type": "execute_result"
    }
   ],
   "source": [
    "round(sum([len(i.split()) for i in train_sentences])/len(train_sentences))"
   ]
  },
  {
   "cell_type": "code",
   "execution_count": 16,
   "metadata": {
    "id": "w51rxf5MtjGD"
   },
   "outputs": [],
   "source": [
    "max_vocab_length = 10000 # max number of words to have in our vocabulary\n",
    "max_length = round(sum([len(i.split()) for i in train_sentences])/len(train_sentences)) # max length our sequences will be (e.g. how many words from a Tweet does our model see?)\n",
    "\n",
    "text_vectorizer = tf.keras.layers.experimental.preprocessing.TextVectorization(max_tokens=max_vocab_length,\n",
    "                                                    output_mode=\"int\",\n",
    "                                                    output_sequence_length=max_length)"
   ]
  },
  {
   "cell_type": "code",
   "execution_count": 17,
   "metadata": {
    "id": "gaJKk7dOtjGD"
   },
   "outputs": [],
   "source": [
    "# Fit the text vectorizer to the training text\n",
    "text_vectorizer.adapt(train_sentences)"
   ]
  },
  {
   "cell_type": "code",
   "execution_count": 18,
   "metadata": {
    "colab": {
     "base_uri": "https://localhost:8080/"
    },
    "id": "B4aF2tYAtjGD",
    "outputId": "0a16e093-c8af-4310-88dd-54cc0a863cb5"
   },
   "outputs": [
    {
     "data": {
      "text/plain": [
       "<tf.Tensor: shape=(1, 15), dtype=int64, numpy=\n",
       "array([[264,   3, 232,   4,  13, 698,   0,   0,   0,   0,   0,   0,   0,\n",
       "          0,   0]])>"
      ]
     },
     "execution_count": 18,
     "metadata": {},
     "output_type": "execute_result"
    }
   ],
   "source": [
    "sample_sentence = \"There's a flood in my street!\"\n",
    "text_vectorizer([sample_sentence])"
   ]
  },
  {
   "cell_type": "code",
   "execution_count": 19,
   "metadata": {
    "colab": {
     "base_uri": "https://localhost:8080/"
    },
    "id": "ZKeTD6GutjGE",
    "outputId": "4f372239-d74d-42f5-932e-a5ebe156c027"
   },
   "outputs": [
    {
     "name": "stdout",
     "output_type": "stream",
     "text": [
      "Original text:\n",
      "Malaysian Officials Say Debris Found on Reunion Island Is From #MH370. @BillNeelyNBC reports: http://t.co/r6kZSQDghZ      \n",
      "\n",
      "Vectorized version:\n"
     ]
    },
    {
     "data": {
      "text/plain": [
       "<tf.Tensor: shape=(1, 15), dtype=int64, numpy=\n",
       "array([[1817,  503,  132,  247,  225,   11,  432,  419,    9,   20,  171,\n",
       "        6102,  923,    1,    0]])>"
      ]
     },
     "execution_count": 19,
     "metadata": {},
     "output_type": "execute_result"
    }
   ],
   "source": [
    "# Choose a random sentence from the training dataset and tokenize it\n",
    "random_sentence = random.choice(train_sentences)\n",
    "print(f\"Original text:\\n{random_sentence}\\\n",
    "      \\n\\nVectorized version:\")\n",
    "text_vectorizer([random_sentence])"
   ]
  },
  {
   "cell_type": "code",
   "execution_count": 20,
   "metadata": {
    "colab": {
     "base_uri": "https://localhost:8080/"
    },
    "id": "GtsN3urvtjGE",
    "outputId": "97ebf691-bb6a-458a-cda1-3cc06cb44824"
   },
   "outputs": [
    {
     "name": "stdout",
     "output_type": "stream",
     "text": [
      "Number of words in vocab: 10000\n",
      "Top 5 most common words: ['', '[UNK]', 'the', 'a', 'in']\n",
      "Bottom 5 least common words: ['pages', 'paeds', 'pads', 'padres', 'paddytomlinson1']\n"
     ]
    }
   ],
   "source": [
    "# Get the unique words in the vocabulary\n",
    "words_in_vocab = text_vectorizer.get_vocabulary()\n",
    "top_5_words = words_in_vocab[:5] # most common tokens (notice the [UNK] token for \"unknown\" words)\n",
    "bottom_5_words = words_in_vocab[-5:] # least common tokens\n",
    "print(f\"Number of words in vocab: {len(words_in_vocab)}\")\n",
    "print(f\"Top 5 most common words: {top_5_words}\")\n",
    "print(f\"Bottom 5 least common words: {bottom_5_words}\")"
   ]
  },
  {
   "cell_type": "code",
   "execution_count": 21,
   "metadata": {
    "colab": {
     "base_uri": "https://localhost:8080/"
    },
    "id": "6RGDYiyvtjGE",
    "outputId": "84f988c4-612b-4eac-94e1-64d8708c1af8"
   },
   "outputs": [
    {
     "data": {
      "text/plain": [
       "<tensorflow.python.keras.layers.embeddings.Embedding at 0x7f41645f0ee0>"
      ]
     },
     "execution_count": 21,
     "metadata": {},
     "output_type": "execute_result"
    }
   ],
   "source": [
    "tf.random.set_seed(42)\n",
    "\n",
    "embedding = tf.keras.layers.Embedding(input_dim=max_vocab_length, # set input shape\n",
    "                             output_dim=128, # set size of embedding vector\n",
    "                             embeddings_initializer=\"uniform\", # default, intialize randomly\n",
    "                             input_length=max_length, # how long is each input\n",
    "                             name=\"embedding_1\")\n",
    "\n",
    "embedding"
   ]
  },
  {
   "cell_type": "code",
   "execution_count": 22,
   "metadata": {
    "colab": {
     "base_uri": "https://localhost:8080/"
    },
    "id": "uzFIn5iltjGF",
    "outputId": "aa2584c6-00c4-41eb-ebf4-4c123d8b4190"
   },
   "outputs": [
    {
     "name": "stdout",
     "output_type": "stream",
     "text": [
      "Original text:\n",
      "? 19th Day Since 17-Jul-2015 -- Nigeria: Suicide Bomb Attacks Killed 64 People; Blamed: Boko Haram [L.A. Times/AP] | http://t.co/O2cdKpSDfp\n",
      "\n",
      "Embedded version:\n"
     ]
    },
    {
     "data": {
      "text/plain": [
       "<tf.Tensor: shape=(1, 15, 128), dtype=float16, numpy=\n",
       "array([[[ 0.03976  , -0.0378   , -0.03647  , ...,  0.002363 ,\n",
       "          0.03333  ,  0.02803  ],\n",
       "        [ 0.01636  ,  0.01516  , -0.01837  , ...,  0.013115 ,\n",
       "          0.017    , -0.03842  ],\n",
       "        [-0.02791  , -0.01032  , -0.00632  , ...,  0.03864  ,\n",
       "          0.00958  , -0.0406   ],\n",
       "        ...,\n",
       "        [ 0.01581  , -0.02374  ,  0.001148 , ..., -0.04135  ,\n",
       "          0.02768  ,  0.002024 ],\n",
       "        [-0.007103 , -0.012115 , -0.03506  , ..., -0.02751  ,\n",
       "          0.03406  ,  0.0014925],\n",
       "        [-0.0347   ,  0.02617  , -0.02156  , ..., -0.002312 ,\n",
       "          0.003887 , -0.04834  ]]], dtype=float16)>"
      ]
     },
     "execution_count": 22,
     "metadata": {},
     "output_type": "execute_result"
    }
   ],
   "source": [
    "# Get a random sentence from training set\n",
    "random_sentence = random.choice(train_sentences)\n",
    "print(f\"Original text:\\n{random_sentence}\\n\\nEmbedded version:\")\n",
    "\n",
    "# Embed the random sentence (turn it into numerical representation)\n",
    "sample_embed = embedding(text_vectorizer([random_sentence]))\n",
    "sample_embed"
   ]
  },
  {
   "cell_type": "code",
   "execution_count": 23,
   "metadata": {
    "colab": {
     "base_uri": "https://localhost:8080/"
    },
    "id": "1AqUrY6BtjGF",
    "outputId": "e15679cf-4c74-43bb-f30e-6c6b504bd56a"
   },
   "outputs": [
    {
     "data": {
      "text/plain": [
       "<tf.Tensor: shape=(128,), dtype=float16, numpy=\n",
       "array([ 0.03976  , -0.0378   , -0.03647  , -0.02449  , -0.0001575,\n",
       "        0.0222   ,  0.00163  ,  0.006035 ,  0.008514 , -0.0262   ,\n",
       "        0.04102  ,  0.03717  ,  0.02397  ,  0.002811 , -0.02705  ,\n",
       "       -0.0487   ,  0.01458  ,  0.005955 , -0.02335  ,  0.0358   ,\n",
       "        0.0438   ,  0.04187  ,  0.03247  , -0.0451   ,  0.0426   ,\n",
       "        0.034    , -0.01813  , -0.0354   ,  0.02954  ,  0.02557  ,\n",
       "       -0.03345  ,  0.04272  , -0.00799  , -0.04062  , -0.006447 ,\n",
       "        0.002323 ,  0.01703  ,  0.03644  , -0.02623  ,  0.03497  ,\n",
       "       -0.0306   ,  0.02577  , -0.0422   ,  0.02655  , -0.02193  ,\n",
       "       -0.0346   ,  0.0007534,  0.014275 ,  0.01028  , -0.04312  ,\n",
       "       -0.03973  , -0.00967  ,  0.01032  , -0.04013  , -0.01889  ,\n",
       "       -0.01233  ,  0.02722  , -0.01233  , -0.02504  , -0.04715  ,\n",
       "        0.005585 , -0.00801  ,  0.0306   , -0.01923  , -0.04175  ,\n",
       "       -0.03653  , -0.0428   , -0.003391 , -0.04227  ,  0.02408  ,\n",
       "        0.01274  , -0.002687 ,  0.0316   ,  0.04822  ,  0.0294   ,\n",
       "        0.00636  ,  0.0172   ,  0.03906  , -0.02492  , -0.00834  ,\n",
       "        0.03882  , -0.04462  ,  0.0374   , -0.02412  , -0.01538  ,\n",
       "        0.03986  , -0.04074  ,  0.0317   , -0.04242  , -0.03436  ,\n",
       "        0.03021  ,  0.0443   ,  0.004242 , -0.01205  , -0.00213  ,\n",
       "       -0.02669  ,  0.04614  , -0.04645  ,  0.02519  , -0.04504  ,\n",
       "       -0.03165  , -0.02846  ,  0.012764 ,  0.02939  ,  0.03436  ,\n",
       "        0.009735 , -0.0186   ,  0.0351   , -0.04996  ,  0.01984  ,\n",
       "        0.00642  ,  0.003721 ,  0.01576  ,  0.01591  , -0.04196  ,\n",
       "        0.02777  ,  0.0062   , -0.02269  , -0.002241 ,  0.02896  ,\n",
       "        0.04376  , -0.03378  ,  0.00908  , -0.011345 , -0.0291   ,\n",
       "        0.002363 ,  0.03333  ,  0.02803  ], dtype=float16)>"
      ]
     },
     "execution_count": 23,
     "metadata": {},
     "output_type": "execute_result"
    }
   ],
   "source": [
    "# Check out a single token's embedding\n",
    "sample_embed[0][0]"
   ]
  },
  {
   "cell_type": "markdown",
   "metadata": {
    "id": "Aj6lDiuttjGG"
   },
   "source": [
    "### Modelling a text dataset\n",
    "More specifically, we'll be building the following:\n",
    "\n",
    "* Model 0: Naive Bayes (baseline)\n",
    "* Model 1: Feed-forward neural network (dense model)\n",
    "* Model 2: LSTM model\n",
    "* Model 3: GRU model\n",
    "* Model 4: Bidirectional-LSTM model\n",
    "* Model 5: 1D Convolutional Neural Network\n",
    "* Model 6: TensorFlow Hub Pretrained Feature Extractor\n",
    "* Model 7: Same as model 6 with 10% of training data\n",
    "\n"
   ]
  },
  {
   "cell_type": "code",
   "execution_count": 24,
   "metadata": {
    "colab": {
     "base_uri": "https://localhost:8080/",
     "height": 124
    },
    "id": "DyFjLFNHtjGG",
    "outputId": "e013b740-42f3-4168-c5ed-7b799a13d049"
   },
   "outputs": [
    {
     "data": {
      "text/html": [
       "<style>#sk-container-id-1 {color: black;}#sk-container-id-1 pre{padding: 0;}#sk-container-id-1 div.sk-toggleable {background-color: white;}#sk-container-id-1 label.sk-toggleable__label {cursor: pointer;display: block;width: 100%;margin-bottom: 0;padding: 0.3em;box-sizing: border-box;text-align: center;}#sk-container-id-1 label.sk-toggleable__label-arrow:before {content: \"▸\";float: left;margin-right: 0.25em;color: #696969;}#sk-container-id-1 label.sk-toggleable__label-arrow:hover:before {color: black;}#sk-container-id-1 div.sk-estimator:hover label.sk-toggleable__label-arrow:before {color: black;}#sk-container-id-1 div.sk-toggleable__content {max-height: 0;max-width: 0;overflow: hidden;text-align: left;background-color: #f0f8ff;}#sk-container-id-1 div.sk-toggleable__content pre {margin: 0.2em;color: black;border-radius: 0.25em;background-color: #f0f8ff;}#sk-container-id-1 input.sk-toggleable__control:checked~div.sk-toggleable__content {max-height: 200px;max-width: 100%;overflow: auto;}#sk-container-id-1 input.sk-toggleable__control:checked~label.sk-toggleable__label-arrow:before {content: \"▾\";}#sk-container-id-1 div.sk-estimator input.sk-toggleable__control:checked~label.sk-toggleable__label {background-color: #d4ebff;}#sk-container-id-1 div.sk-label input.sk-toggleable__control:checked~label.sk-toggleable__label {background-color: #d4ebff;}#sk-container-id-1 input.sk-hidden--visually {border: 0;clip: rect(1px 1px 1px 1px);clip: rect(1px, 1px, 1px, 1px);height: 1px;margin: -1px;overflow: hidden;padding: 0;position: absolute;width: 1px;}#sk-container-id-1 div.sk-estimator {font-family: monospace;background-color: #f0f8ff;border: 1px dotted black;border-radius: 0.25em;box-sizing: border-box;margin-bottom: 0.5em;}#sk-container-id-1 div.sk-estimator:hover {background-color: #d4ebff;}#sk-container-id-1 div.sk-parallel-item::after {content: \"\";width: 100%;border-bottom: 1px solid gray;flex-grow: 1;}#sk-container-id-1 div.sk-label:hover label.sk-toggleable__label {background-color: #d4ebff;}#sk-container-id-1 div.sk-serial::before {content: \"\";position: absolute;border-left: 1px solid gray;box-sizing: border-box;top: 0;bottom: 0;left: 50%;z-index: 0;}#sk-container-id-1 div.sk-serial {display: flex;flex-direction: column;align-items: center;background-color: white;padding-right: 0.2em;padding-left: 0.2em;position: relative;}#sk-container-id-1 div.sk-item {position: relative;z-index: 1;}#sk-container-id-1 div.sk-parallel {display: flex;align-items: stretch;justify-content: center;background-color: white;position: relative;}#sk-container-id-1 div.sk-item::before, #sk-container-id-1 div.sk-parallel-item::before {content: \"\";position: absolute;border-left: 1px solid gray;box-sizing: border-box;top: 0;bottom: 0;left: 50%;z-index: -1;}#sk-container-id-1 div.sk-parallel-item {display: flex;flex-direction: column;z-index: 1;position: relative;background-color: white;}#sk-container-id-1 div.sk-parallel-item:first-child::after {align-self: flex-end;width: 50%;}#sk-container-id-1 div.sk-parallel-item:last-child::after {align-self: flex-start;width: 50%;}#sk-container-id-1 div.sk-parallel-item:only-child::after {width: 0;}#sk-container-id-1 div.sk-dashed-wrapped {border: 1px dashed gray;margin: 0 0.4em 0.5em 0.4em;box-sizing: border-box;padding-bottom: 0.4em;background-color: white;}#sk-container-id-1 div.sk-label label {font-family: monospace;font-weight: bold;display: inline-block;line-height: 1.2em;}#sk-container-id-1 div.sk-label-container {text-align: center;}#sk-container-id-1 div.sk-container {/* jupyter's `normalize.less` sets `[hidden] { display: none; }` but bootstrap.min.css set `[hidden] { display: none !important; }` so we also need the `!important` here to be able to override the default hidden behavior on the sphinx rendered scikit-learn.org. See: https://github.com/scikit-learn/scikit-learn/issues/21755 */display: inline-block !important;position: relative;}#sk-container-id-1 div.sk-text-repr-fallback {display: none;}</style><div id=\"sk-container-id-1\" class=\"sk-top-container\"><div class=\"sk-text-repr-fallback\"><pre>Pipeline(steps=[(&#x27;tfidf&#x27;, TfidfVectorizer()), (&#x27;clf&#x27;, MultinomialNB())])</pre><b>In a Jupyter environment, please rerun this cell to show the HTML representation or trust the notebook. <br />On GitHub, the HTML representation is unable to render, please try loading this page with nbviewer.org.</b></div><div class=\"sk-container\" hidden><div class=\"sk-item sk-dashed-wrapped\"><div class=\"sk-label-container\"><div class=\"sk-label sk-toggleable\"><input class=\"sk-toggleable__control sk-hidden--visually\" id=\"sk-estimator-id-1\" type=\"checkbox\" ><label for=\"sk-estimator-id-1\" class=\"sk-toggleable__label sk-toggleable__label-arrow\">Pipeline</label><div class=\"sk-toggleable__content\"><pre>Pipeline(steps=[(&#x27;tfidf&#x27;, TfidfVectorizer()), (&#x27;clf&#x27;, MultinomialNB())])</pre></div></div></div><div class=\"sk-serial\"><div class=\"sk-item\"><div class=\"sk-estimator sk-toggleable\"><input class=\"sk-toggleable__control sk-hidden--visually\" id=\"sk-estimator-id-2\" type=\"checkbox\" ><label for=\"sk-estimator-id-2\" class=\"sk-toggleable__label sk-toggleable__label-arrow\">TfidfVectorizer</label><div class=\"sk-toggleable__content\"><pre>TfidfVectorizer()</pre></div></div></div><div class=\"sk-item\"><div class=\"sk-estimator sk-toggleable\"><input class=\"sk-toggleable__control sk-hidden--visually\" id=\"sk-estimator-id-3\" type=\"checkbox\" ><label for=\"sk-estimator-id-3\" class=\"sk-toggleable__label sk-toggleable__label-arrow\">MultinomialNB</label><div class=\"sk-toggleable__content\"><pre>MultinomialNB()</pre></div></div></div></div></div></div></div>"
      ],
      "text/plain": [
       "Pipeline(steps=[('tfidf', TfidfVectorizer()), ('clf', MultinomialNB())])"
      ]
     },
     "execution_count": 24,
     "metadata": {},
     "output_type": "execute_result"
    }
   ],
   "source": [
    "#model 0\n",
    "from sklearn.feature_extraction.text import TfidfVectorizer\n",
    "from sklearn.naive_bayes import MultinomialNB\n",
    "from sklearn.pipeline import Pipeline\n",
    "\n",
    "# Create tokenization and modelling pipeline\n",
    "model_0 = Pipeline([\n",
    "                    (\"tfidf\", TfidfVectorizer()), # convert words to numbers using tfidf\n",
    "                    (\"clf\", MultinomialNB()) # model the text\n",
    "])\n",
    "\n",
    "# Fit the pipeline to the training data\n",
    "model_0.fit(train_sentences, train_labels)"
   ]
  },
  {
   "cell_type": "code",
   "execution_count": 25,
   "metadata": {
    "colab": {
     "base_uri": "https://localhost:8080/"
    },
    "id": "h9FerVWktjGG",
    "outputId": "f0932376-c838-485e-9bd3-0aba314f39e8"
   },
   "outputs": [
    {
     "name": "stdout",
     "output_type": "stream",
     "text": [
      "Our baseline model achieves an accuracy of: 79.27%\n"
     ]
    }
   ],
   "source": [
    "baseline_score = model_0.score(val_sentences, val_labels)\n",
    "print(f\"Our baseline model achieves an accuracy of: {baseline_score*100:.2f}%\")"
   ]
  },
  {
   "cell_type": "code",
   "execution_count": 26,
   "metadata": {
    "colab": {
     "base_uri": "https://localhost:8080/"
    },
    "id": "2kqWtkC7tjGH",
    "outputId": "3bacea1b-a6c5-46ae-b364-008f4d9d3182"
   },
   "outputs": [
    {
     "data": {
      "text/plain": [
       "array([1, 1, 1, 0, 0, 1, 1, 1, 1, 0, 0, 1, 0, 0, 0, 0, 0, 0, 0, 1])"
      ]
     },
     "execution_count": 26,
     "metadata": {},
     "output_type": "execute_result"
    }
   ],
   "source": [
    "# Make predictions\n",
    "baseline_preds = model_0.predict(val_sentences)\n",
    "baseline_preds[:20]"
   ]
  },
  {
   "cell_type": "code",
   "execution_count": 27,
   "metadata": {
    "colab": {
     "base_uri": "https://localhost:8080/"
    },
    "id": "QdZ2KDfNtjGH",
    "outputId": "2d0fd280-e66a-459f-ce80-d26b14915ddf"
   },
   "outputs": [
    {
     "data": {
      "text/plain": [
       "{'accuracy': 79.26509186351706,\n",
       " 'precision': 0.8111390004213173,\n",
       " 'recall': 0.7926509186351706,\n",
       " 'f1': 0.7862189758049549}"
      ]
     },
     "execution_count": 27,
     "metadata": {},
     "output_type": "execute_result"
    }
   ],
   "source": [
    "from helper_functions import calculate_results\n",
    "baseline_results = calculate_results(y_true=val_labels,\n",
    "                                     y_pred=baseline_preds)\n",
    "baseline_results"
   ]
  },
  {
   "cell_type": "markdown",
   "metadata": {
    "id": "6awk4LietjGH"
   },
   "source": [
    "#### Model 1: A simple dense model"
   ]
  },
  {
   "cell_type": "code",
   "execution_count": 28,
   "metadata": {
    "colab": {
     "base_uri": "https://localhost:8080/"
    },
    "id": "5f0zTX6btjGH",
    "outputId": "417c4318-8301-4dcf-d837-d3c66339868d"
   },
   "outputs": [
    {
     "name": "stdout",
     "output_type": "stream",
     "text": [
      "Model: \"model_1_dense\"\n",
      "_________________________________________________________________\n",
      "Layer (type)                 Output Shape              Param #   \n",
      "=================================================================\n",
      "input_1 (InputLayer)         [(None, 1)]               0         \n",
      "_________________________________________________________________\n",
      "text_vectorization_1 (TextVe (None, 15)                0         \n",
      "_________________________________________________________________\n",
      "embedding_1 (Embedding)      (None, 15, 128)           1280000   \n",
      "_________________________________________________________________\n",
      "global_average_pooling1d (Gl (None, 128)               0         \n",
      "_________________________________________________________________\n",
      "dense (Dense)                (None, 1)                 129       \n",
      "=================================================================\n",
      "Total params: 1,280,129\n",
      "Trainable params: 1,280,129\n",
      "Non-trainable params: 0\n",
      "_________________________________________________________________\n"
     ]
    }
   ],
   "source": [
    "from helper_functions import create_tensorboard_callback\n",
    "\n",
    "# Create directory to save TensorBoard logs\n",
    "SAVE_DIR = \"model_logs\"\n",
    "\n",
    "# Build model with the Functional API\n",
    "inputs = tf.keras.layers.Input(shape=(1,), dtype=\"string\") # inputs are 1-dimensional strings\n",
    "x = text_vectorizer(inputs) # turn the input text into numbers\n",
    "x = embedding(x) # create an embedding of the numerized numbers\n",
    "x = tf.keras.layers.GlobalAveragePooling1D()(x) # lower the dimensionality of the embedding\n",
    "outputs = tf.keras.layers.Dense(1, activation=\"sigmoid\")(x) # create the output layer, want binary outputs so use sigmoid activation\n",
    "\n",
    "model_1 = tf.keras.Model(inputs, outputs, name=\"model_1_dense\") # construct the model\n",
    "# Compile model\n",
    "model_1.compile(loss=\"binary_crossentropy\",\n",
    "                optimizer=tf.keras.optimizers.Adam(),\n",
    "                metrics=[\"accuracy\"])\n",
    "model_1.summary()"
   ]
  },
  {
   "cell_type": "code",
   "execution_count": 29,
   "metadata": {
    "colab": {
     "base_uri": "https://localhost:8080/"
    },
    "id": "mv1YWc1otjGI",
    "outputId": "fed8ba4c-a19a-4be3-e2b8-668c20860eb6"
   },
   "outputs": [
    {
     "name": "stdout",
     "output_type": "stream",
     "text": [
      "Saving TensorBoard log files to: model_logs/simple_dense_model/20231204-090604\n",
      "Epoch 1/5\n",
      "215/215 [==============================] - 3s 12ms/step - loss: 0.6526 - accuracy: 0.6389 - val_loss: 0.5358 - val_accuracy: 0.7572\n",
      "Epoch 2/5\n",
      "215/215 [==============================] - 2s 9ms/step - loss: 0.4600 - accuracy: 0.8190 - val_loss: 0.4691 - val_accuracy: 0.7848\n",
      "Epoch 3/5\n",
      "215/215 [==============================] - 2s 9ms/step - loss: 0.3535 - accuracy: 0.8611 - val_loss: 0.4590 - val_accuracy: 0.7900\n",
      "Epoch 4/5\n",
      "215/215 [==============================] - 2s 9ms/step - loss: 0.2831 - accuracy: 0.8883 - val_loss: 0.4642 - val_accuracy: 0.7927\n",
      "Epoch 5/5\n",
      "215/215 [==============================] - 2s 9ms/step - loss: 0.2316 - accuracy: 0.9204 - val_loss: 0.4767 - val_accuracy: 0.7874\n"
     ]
    }
   ],
   "source": [
    "# Fit the model\n",
    "model_1_history = model_1.fit(train_sentences, # input sentences can be a list of strings due to text preprocessing layer built-in model\n",
    "                              train_labels,\n",
    "                              epochs=5,\n",
    "                              validation_data=(val_sentences, val_labels),\n",
    "                              callbacks=[create_tensorboard_callback(dir_name=SAVE_DIR,\n",
    "                                                                     experiment_name=\"simple_dense_model\")])"
   ]
  },
  {
   "cell_type": "code",
   "execution_count": 30,
   "metadata": {
    "colab": {
     "base_uri": "https://localhost:8080/"
    },
    "id": "ivJJWB79tjGI",
    "outputId": "dcdec048-9c02-4cf7-b0da-3ead736a8224"
   },
   "outputs": [
    {
     "name": "stdout",
     "output_type": "stream",
     "text": [
      "24/24 [==============================] - 0s 898us/step - loss: 0.4767 - accuracy: 0.7874\n"
     ]
    },
    {
     "data": {
      "text/plain": [
       "[0.47670283913612366, 0.787401556968689]"
      ]
     },
     "execution_count": 30,
     "metadata": {},
     "output_type": "execute_result"
    }
   ],
   "source": [
    "# Check the results\n",
    "model_1.evaluate(val_sentences, val_labels)"
   ]
  },
  {
   "cell_type": "code",
   "execution_count": 31,
   "metadata": {
    "colab": {
     "base_uri": "https://localhost:8080/"
    },
    "id": "Qfc_N0-VtjGI",
    "outputId": "75c214a4-fa18-4045-f898-4b62cbe5cdaa"
   },
   "outputs": [
    {
     "data": {
      "text/plain": [
       "array([[0.405  ],\n",
       "       [0.744  ],\n",
       "       [0.998  ],\n",
       "       [0.10876],\n",
       "       [0.1115 ],\n",
       "       [0.936  ],\n",
       "       [0.9136 ],\n",
       "       [0.992  ],\n",
       "       [0.9717 ],\n",
       "       [0.2656 ]], dtype=float16)"
      ]
     },
     "execution_count": 31,
     "metadata": {},
     "output_type": "execute_result"
    }
   ],
   "source": [
    "model_1_pred_probs = model_1.predict(val_sentences)\n",
    "model_1_pred_probs[:10]"
   ]
  },
  {
   "cell_type": "code",
   "execution_count": 32,
   "metadata": {
    "colab": {
     "base_uri": "https://localhost:8080/"
    },
    "id": "s29LU2c0tjGI",
    "outputId": "d1352bd9-ba40-4a1f-86f8-2efa4a5fdda8"
   },
   "outputs": [
    {
     "data": {
      "text/plain": [
       "<tf.Tensor: shape=(10,), dtype=float16, numpy=array([0., 1., 1., 0., 0., 1., 1., 1., 1., 0.], dtype=float16)>"
      ]
     },
     "execution_count": 32,
     "metadata": {},
     "output_type": "execute_result"
    }
   ],
   "source": [
    "model_1_preds=tf.squeeze(tf.round(model_1_pred_probs))\n",
    "model_1_preds[:10]"
   ]
  },
  {
   "cell_type": "code",
   "execution_count": 33,
   "metadata": {
    "colab": {
     "base_uri": "https://localhost:8080/"
    },
    "id": "8AgR4I2-tjGI",
    "outputId": "c4c9a85d-2909-43e8-f18b-470a68543587"
   },
   "outputs": [
    {
     "data": {
      "text/plain": [
       "{'accuracy': 78.74015748031496,\n",
       " 'precision': 0.7914920592553047,\n",
       " 'recall': 0.7874015748031497,\n",
       " 'f1': 0.7846966492209201}"
      ]
     },
     "execution_count": 33,
     "metadata": {},
     "output_type": "execute_result"
    }
   ],
   "source": [
    "model_1_results=calculate_results(val_labels,model_1_preds)\n",
    "model_1_results"
   ]
  },
  {
   "cell_type": "markdown",
   "metadata": {
    "id": "1RJQLxUytjGJ"
   },
   "source": [
    "#### Recurrent Neural Network\n",
    "* RNN's are useful for sequence data\n",
    "* The premise of a recurrent neural network is to use the representation of previous input to aid the representation of a later input"
   ]
  },
  {
   "cell_type": "markdown",
   "metadata": {
    "id": "SWPZ8qtXtjGJ"
   },
   "source": [
    "### Model 2 : LSTM -> Long short term memory\n",
    "\n",
    "Input(text) -> Toeknize -> Embedding -> Layers(RNN/Dense) -> Output(label probability)"
   ]
  },
  {
   "cell_type": "code",
   "execution_count": 34,
   "metadata": {
    "colab": {
     "base_uri": "https://localhost:8080/"
    },
    "id": "2t8nHBbCtjGJ",
    "outputId": "906024b7-40ce-4bb2-ce64-70489e5126bf"
   },
   "outputs": [
    {
     "name": "stdout",
     "output_type": "stream",
     "text": [
      "(None, 15, 128)\n",
      "(None, 64)\n",
      "Model: \"model\"\n",
      "_________________________________________________________________\n",
      "Layer (type)                 Output Shape              Param #   \n",
      "=================================================================\n",
      "input_2 (InputLayer)         [(None, 1)]               0         \n",
      "_________________________________________________________________\n",
      "text_vectorization_1 (TextVe (None, 15)                0         \n",
      "_________________________________________________________________\n",
      "embedding_2 (Embedding)      (None, 15, 128)           1280000   \n",
      "_________________________________________________________________\n",
      "lstm (LSTM)                  (None, 15, 64)            49408     \n",
      "_________________________________________________________________\n",
      "lstm_1 (LSTM)                (None, 15, 64)            33024     \n",
      "_________________________________________________________________\n",
      "lstm_2 (LSTM)                (None, 64)                33024     \n",
      "_________________________________________________________________\n",
      "dense_1 (Dense)              (None, 1)                 65        \n",
      "=================================================================\n",
      "Total params: 1,395,521\n",
      "Trainable params: 1,395,521\n",
      "Non-trainable params: 0\n",
      "_________________________________________________________________\n"
     ]
    }
   ],
   "source": [
    "# Set random seed and create embedding layer (new embedding layer for each model)\n",
    "tf.random.set_seed(42)\n",
    "\n",
    "model_2_embedding = tf.keras.layers.Embedding(input_dim=max_vocab_length,\n",
    "                                     output_dim=128,\n",
    "                                     embeddings_initializer=\"uniform\",\n",
    "                                     input_length=max_length,\n",
    "                                     name=\"embedding_2\")\n",
    "\n",
    "\n",
    "# Create LSTM model\n",
    "inputs = tf.keras.layers.Input(shape=(1,), dtype=\"string\")\n",
    "x = text_vectorizer(inputs)\n",
    "x = model_2_embedding(x)\n",
    "\n",
    "print(x.shape)\n",
    "\n",
    "x = tf.keras.layers.LSTM(64, return_sequences=True)(x) # return vector for each word in the Tweet (you can stack RNN cells as long as return_sequences=True)\n",
    "x = tf.keras.layers.LSTM(64, return_sequences=True)(x)\n",
    "x = tf.keras.layers.LSTM(64)(x) # return vector for whole sequence\n",
    "\n",
    "print(x.shape)\n",
    "\n",
    "outputs = tf.keras.layers.Dense(1, activation=\"sigmoid\")(x)\n",
    "\n",
    "model_2 = tf.keras.Model(inputs, outputs)\n",
    "model_2.compile(loss=tf.keras.losses.BinaryCrossentropy(),\n",
    "                optimizer=tf.keras.optimizers.Adam(),\n",
    "                metrics=[\"accuracy\"])\n",
    "model_2.summary()"
   ]
  },
  {
   "cell_type": "code",
   "execution_count": 35,
   "metadata": {
    "colab": {
     "base_uri": "https://localhost:8080/"
    },
    "id": "Azw9jRxStjGK",
    "outputId": "6460d488-c6b6-4090-e84e-c6a50b79bd33"
   },
   "outputs": [
    {
     "name": "stdout",
     "output_type": "stream",
     "text": [
      "Saving TensorBoard log files to: model_logs/LSTM/20231204-090623\n",
      "Epoch 1/5\n",
      "  1/215 [..............................] - ETA: 6:42 - loss: 0.6934 - accuracy: 0.4688"
     ]
    },
    {
     "name": "stderr",
     "output_type": "stream",
     "text": [
      "Could not load symbol cublasGetSmCountTarget from libcublas.so.11. Error: /home/ujjwal/miniconda3/envs/tf2.4/bin/../lib/libcublas.so.11: undefined symbol: cublasGetSmCountTarget\n"
     ]
    },
    {
     "name": "stdout",
     "output_type": "stream",
     "text": [
      "215/215 [==============================] - 5s 16ms/step - loss: 0.5731 - accuracy: 0.6844 - val_loss: 0.4592 - val_accuracy: 0.7822\n",
      "Epoch 2/5\n",
      "215/215 [==============================] - 2s 11ms/step - loss: 0.3219 - accuracy: 0.8785 - val_loss: 0.5094 - val_accuracy: 0.7808\n",
      "Epoch 3/5\n",
      "215/215 [==============================] - 2s 11ms/step - loss: 0.2170 - accuracy: 0.9222 - val_loss: 0.5492 - val_accuracy: 0.7585\n",
      "Epoch 4/5\n",
      "215/215 [==============================] - 2s 11ms/step - loss: 0.1581 - accuracy: 0.9453 - val_loss: 0.6230 - val_accuracy: 0.7756\n",
      "Epoch 5/5\n",
      "215/215 [==============================] - 2s 11ms/step - loss: 0.1146 - accuracy: 0.9604 - val_loss: 0.8408 - val_accuracy: 0.7664\n"
     ]
    }
   ],
   "source": [
    "# Fit model\n",
    "model_2_history = model_2.fit(train_sentences, train_labels,\n",
    "                              epochs=5,\n",
    "                              validation_data=(val_sentences, val_labels),\n",
    "                              callbacks=[create_tensorboard_callback(SAVE_DIR,\n",
    "                                                                     \"LSTM\")])"
   ]
  },
  {
   "cell_type": "code",
   "execution_count": 36,
   "metadata": {
    "colab": {
     "base_uri": "https://localhost:8080/"
    },
    "id": "r_MP0RjUtjGK",
    "outputId": "ae5f5e48-10b5-4cb8-e1ec-f7595753522d"
   },
   "outputs": [
    {
     "data": {
      "text/plain": [
       "array([[0.01037 ],\n",
       "       [0.6016  ],\n",
       "       [0.999   ],\n",
       "       [0.0795  ],\n",
       "       [0.005936],\n",
       "       [0.999   ],\n",
       "       [0.4915  ],\n",
       "       [1.      ],\n",
       "       [0.999   ],\n",
       "       [0.0981  ]], dtype=float16)"
      ]
     },
     "execution_count": 36,
     "metadata": {},
     "output_type": "execute_result"
    }
   ],
   "source": [
    "model_2_pred_probs = model_2.predict(val_sentences)\n",
    "model_2_pred_probs[:10]"
   ]
  },
  {
   "cell_type": "code",
   "execution_count": 37,
   "metadata": {
    "colab": {
     "base_uri": "https://localhost:8080/"
    },
    "id": "fTqfqUvwtjGK",
    "outputId": "c5d9227c-d370-4974-92ce-4baf074a2e5f"
   },
   "outputs": [
    {
     "data": {
      "text/plain": [
       "<tf.Tensor: shape=(10,), dtype=float16, numpy=array([0., 1., 1., 0., 0., 1., 0., 1., 1., 0.], dtype=float16)>"
      ]
     },
     "execution_count": 37,
     "metadata": {},
     "output_type": "execute_result"
    }
   ],
   "source": [
    "# Convert preds to laels\n",
    "model_2_preds = tf.squeeze(tf.round(model_2_pred_probs))\n",
    "model_2_preds[:10]"
   ]
  },
  {
   "cell_type": "code",
   "execution_count": 38,
   "metadata": {
    "colab": {
     "base_uri": "https://localhost:8080/"
    },
    "id": "YIrv9t95tjGL",
    "outputId": "0a62bce6-9174-4c22-cdd4-27d13b58fec2"
   },
   "outputs": [
    {
     "data": {
      "text/plain": [
       "array([0, 0, 1, 1, 1, 1, 1, 1, 1, 0])"
      ]
     },
     "execution_count": 38,
     "metadata": {},
     "output_type": "execute_result"
    }
   ],
   "source": [
    "val_labels[:10]"
   ]
  },
  {
   "cell_type": "code",
   "execution_count": 39,
   "metadata": {
    "colab": {
     "base_uri": "https://localhost:8080/"
    },
    "id": "nminkRFZtjGL",
    "outputId": "e5750290-bc85-46cd-e3d3-e10c0ba344a7"
   },
   "outputs": [
    {
     "data": {
      "text/plain": [
       "{'accuracy': 76.64041994750657,\n",
       " 'precision': 0.7763842038829116,\n",
       " 'recall': 0.7664041994750657,\n",
       " 'f1': 0.7609273470439181}"
      ]
     },
     "execution_count": 39,
     "metadata": {},
     "output_type": "execute_result"
    }
   ],
   "source": [
    "model_2_results = calculate_results(val_labels, model_2_preds)\n",
    "model_2_results"
   ]
  },
  {
   "cell_type": "markdown",
   "metadata": {
    "id": "BxUSQAa6tjGL"
   },
   "source": [
    "#### Model 3: GRU\n",
    "\n",
    "1. Gated recurrent unit is effective and popular\n",
    "2. GRU cell has similar features to LSTM cell but has less paramenter"
   ]
  },
  {
   "cell_type": "code",
   "execution_count": 40,
   "metadata": {
    "colab": {
     "base_uri": "https://localhost:8080/"
    },
    "id": "2DY0h3NStjGL",
    "outputId": "d4304ded-f0d9-48dc-9a7f-cb60d40d821e"
   },
   "outputs": [
    {
     "name": "stdout",
     "output_type": "stream",
     "text": [
      "Epoch 1/5\n",
      "215/215 [==============================] - 5s 19ms/step - loss: 0.3313 - accuracy: 0.8498 - val_loss: 0.5288 - val_accuracy: 0.7743\n",
      "Epoch 2/5\n",
      "215/215 [==============================] - 4s 18ms/step - loss: 0.1611 - accuracy: 0.9436 - val_loss: 0.5937 - val_accuracy: 0.7795\n",
      "Epoch 3/5\n",
      "215/215 [==============================] - 4s 18ms/step - loss: 0.1262 - accuracy: 0.9564 - val_loss: 0.7453 - val_accuracy: 0.7861\n",
      "Epoch 4/5\n",
      "215/215 [==============================] - 4s 18ms/step - loss: 0.1022 - accuracy: 0.9622 - val_loss: 0.7504 - val_accuracy: 0.7835\n",
      "Epoch 5/5\n",
      "215/215 [==============================] - 4s 18ms/step - loss: 0.0842 - accuracy: 0.9698 - val_loss: 0.7285 - val_accuracy: 0.7900\n"
     ]
    }
   ],
   "source": [
    "# Build GRU RNN\n",
    "inputs = tf.keras.layers.Input(shape=(1,),dtype=tf.string)\n",
    "x = text_vectorizer(inputs)\n",
    "x = embedding(x)\n",
    "# x = tf.keras.layers.GRU(64, return_sequences=True)(x)\n",
    "# x = tf.keras.layers.LSTM(64, return_sequences=True)(x)\n",
    "x = tf.keras.layers.GRU(64)(x)\n",
    "# x = tf.keras.layers.Dense(64,activation=\"relu\")(x)\n",
    "outputs = tf.keras.layers.Dense(1,activation=\"sigmoid\")(x)\n",
    "\n",
    "model_3 = tf.keras.Model(inputs,outputs)\n",
    "\n",
    "model_3.compile(loss=tf.keras.losses.BinaryCrossentropy(),\n",
    "                optimizer=tf.keras.optimizers.Adam(),\n",
    "                metrics=['accuracy'])\n",
    "model_3_history = model_3.fit(train_sentences,\n",
    "                        train_labels,\n",
    "                        epochs=5,\n",
    "                        validation_data=(val_sentences,val_labels))"
   ]
  },
  {
   "cell_type": "code",
   "execution_count": 41,
   "metadata": {
    "colab": {
     "base_uri": "https://localhost:8080/"
    },
    "id": "IWN8EFWPtjGL",
    "outputId": "a9de7c8d-8700-456e-cf5b-67bd403133da"
   },
   "outputs": [
    {
     "data": {
      "text/plain": [
       "array([[5.460e-02],\n",
       "       [8.330e-01],\n",
       "       [9.990e-01],\n",
       "       [4.501e-02],\n",
       "       [8.659e-04],\n",
       "       [9.912e-01],\n",
       "       [6.338e-01],\n",
       "       [1.000e+00],\n",
       "       [9.990e-01],\n",
       "       [6.265e-01]], dtype=float16)"
      ]
     },
     "execution_count": 41,
     "metadata": {},
     "output_type": "execute_result"
    }
   ],
   "source": [
    "model_3_pred_probs = model_3.predict(val_sentences)\n",
    "model_3_pred_probs[:10]"
   ]
  },
  {
   "cell_type": "code",
   "execution_count": 42,
   "metadata": {
    "colab": {
     "base_uri": "https://localhost:8080/"
    },
    "id": "zLjHzeiotjGM",
    "outputId": "58557341-5730-45a9-a00b-c2d427cea740"
   },
   "outputs": [
    {
     "data": {
      "text/plain": [
       "<tf.Tensor: shape=(10,), dtype=float16, numpy=array([0., 1., 1., 0., 0., 1., 1., 1., 1., 1.], dtype=float16)>"
      ]
     },
     "execution_count": 42,
     "metadata": {},
     "output_type": "execute_result"
    }
   ],
   "source": [
    "# Convert model 3 pred_probs to labels\n",
    "model_3_preds = tf.squeeze(tf.round(model_3_pred_probs))\n",
    "model_3_preds[:10]"
   ]
  },
  {
   "cell_type": "code",
   "execution_count": 43,
   "metadata": {
    "colab": {
     "base_uri": "https://localhost:8080/"
    },
    "id": "sDGf2ItXtjGM",
    "outputId": "a0c89d2e-4790-4e43-817c-97594b154128"
   },
   "outputs": [
    {
     "data": {
      "text/plain": [
       "{'accuracy': 79.00262467191601,\n",
       " 'precision': 0.7921494498618136,\n",
       " 'recall': 0.7900262467191601,\n",
       " 'f1': 0.7881220313047913}"
      ]
     },
     "execution_count": 43,
     "metadata": {},
     "output_type": "execute_result"
    }
   ],
   "source": [
    "model_3_results = calculate_results(val_labels,model_3_preds)\n",
    "model_3_results"
   ]
  },
  {
   "cell_type": "markdown",
   "metadata": {
    "id": "iiei4KEUtjGM"
   },
   "source": [
    "#### Model4 - Bidirectional RNN"
   ]
  },
  {
   "cell_type": "code",
   "execution_count": 44,
   "metadata": {
    "colab": {
     "base_uri": "https://localhost:8080/"
    },
    "id": "UkpwO2rMtjGM",
    "outputId": "fe6469f5-707e-4296-a1f2-9026e1c08aa8"
   },
   "outputs": [
    {
     "name": "stdout",
     "output_type": "stream",
     "text": [
      "Epoch 1/5\n",
      "215/215 [==============================] - 5s 14ms/step - loss: 0.5722 - accuracy: 0.6848 - val_loss: 0.4567 - val_accuracy: 0.7822\n",
      "Epoch 2/5\n",
      "215/215 [==============================] - 3s 12ms/step - loss: 0.3109 - accuracy: 0.8803 - val_loss: 0.5209 - val_accuracy: 0.7664\n",
      "Epoch 3/5\n",
      "215/215 [==============================] - 3s 12ms/step - loss: 0.1964 - accuracy: 0.9288 - val_loss: 0.5623 - val_accuracy: 0.7533\n",
      "Epoch 4/5\n",
      "215/215 [==============================] - 2s 12ms/step - loss: 0.1335 - accuracy: 0.9555 - val_loss: 0.7059 - val_accuracy: 0.7598\n",
      "Epoch 5/5\n",
      "215/215 [==============================] - 3s 12ms/step - loss: 0.0945 - accuracy: 0.9730 - val_loss: 0.7165 - val_accuracy: 0.7690\n"
     ]
    }
   ],
   "source": [
    "# Trying out on my own\n",
    "text_vectorizer_exp = tf.keras.layers.experimental.preprocessing.TextVectorization(max_tokens=10000,\n",
    "                                      output_sequence_length=15)\n",
    "text_vectorizer_exp.adapt(train_sentences)\n",
    "\n",
    "inputs = tf.keras.layers.Input(shape=(1,), dtype=tf.string)\n",
    "x = text_vectorizer_exp(inputs)\n",
    "x = tf.keras.layers.Embedding(input_dim=10000,\n",
    "                              output_dim=128,\n",
    "                              input_length=15)(x)\n",
    "x = tf.keras.layers.Bidirectional(tf.keras.layers.LSTM(64, return_sequences=True))(x)\n",
    "x = tf.keras.layers.Bidirectional(tf.keras.layers.LSTM(64))(x)\n",
    "outputs = tf.keras.layers.Dense(1,activation=tf.keras.activations.sigmoid)(x)\n",
    "\n",
    "model_4_exp = tf.keras.Model(inputs,outputs)\n",
    "model_4_exp.compile(loss=tf.keras.losses.BinaryCrossentropy(),\n",
    "                    optimizer=tf.keras.optimizers.Adam(),\n",
    "                    metrics=['accuracy'])\n",
    "model_4_history_exp = model_4_exp.fit(train_sentences,\n",
    "                                      train_labels,\n",
    "                                      validation_data=(val_sentences,val_labels),\n",
    "                                      epochs=5)"
   ]
  },
  {
   "cell_type": "markdown",
   "metadata": {
    "id": "vlTNW7tZtjGN"
   },
   "source": [
    "Normal RNN's go from left to right\n",
    "\n",
    "Bi-directional go from right to left as well as left to right"
   ]
  },
  {
   "cell_type": "code",
   "execution_count": 45,
   "metadata": {
    "colab": {
     "base_uri": "https://localhost:8080/"
    },
    "id": "uUJANmC_tjGN",
    "outputId": "4a36d2a6-be80-42ce-8139-14fb6c34468c"
   },
   "outputs": [
    {
     "name": "stdout",
     "output_type": "stream",
     "text": [
      "Epoch 1/5\n",
      "215/215 [==============================] - 4s 12ms/step - loss: 0.5754 - accuracy: 0.6820 - val_loss: 0.4567 - val_accuracy: 0.7808\n",
      "Epoch 2/5\n",
      "215/215 [==============================] - 2s 10ms/step - loss: 0.3071 - accuracy: 0.8798 - val_loss: 0.5311 - val_accuracy: 0.7703\n",
      "Epoch 3/5\n",
      "215/215 [==============================] - 2s 10ms/step - loss: 0.2000 - accuracy: 0.9233 - val_loss: 0.5690 - val_accuracy: 0.7730\n",
      "Epoch 4/5\n",
      "215/215 [==============================] - 2s 10ms/step - loss: 0.1319 - accuracy: 0.9560 - val_loss: 0.6415 - val_accuracy: 0.7743\n",
      "Epoch 5/5\n",
      "215/215 [==============================] - 2s 10ms/step - loss: 0.0927 - accuracy: 0.9692 - val_loss: 0.6742 - val_accuracy: 0.7769\n"
     ]
    }
   ],
   "source": [
    "# model 4\n",
    "text_vectorizer = tf.keras.layers.experimental.preprocessing.TextVectorization(max_tokens=10000,\n",
    "                                                    output_sequence_length=15)\n",
    "text_vectorizer.adapt(train_sentences)\n",
    "\n",
    "inputs = tf.keras.layers.Input(shape=(1,),dtype=tf.string)\n",
    "x = text_vectorizer(inputs)\n",
    "x = tf.keras.layers.Embedding(input_dim=10000,\n",
    "                              output_dim=128,\n",
    "                              input_length=15)(x)\n",
    "# x = tf.keras.layers.Bidirectional(tf.keras.layers.LSTM(64,return_sequences=True))(x)\n",
    "x = tf.keras.layers.Bidirectional(tf.keras.layers.LSTM(64))(x)\n",
    "outputs = tf.keras.layers.Dense(1,activation=tf.keras.activations.sigmoid)(x)\n",
    "\n",
    "model_4 = tf.keras.Model(inputs,outputs)\n",
    "\n",
    "model_4.compile(loss=tf.keras.losses.BinaryCrossentropy(),\n",
    "                optimizer=tf.keras.optimizers.Adam(),\n",
    "                metrics=['accuracy'])\n",
    "model_4_history = model_4.fit(train_sentences,train_labels,\n",
    "                              epochs=5,\n",
    "                              validation_data=(val_sentences,val_labels))"
   ]
  },
  {
   "cell_type": "code",
   "execution_count": 46,
   "metadata": {
    "colab": {
     "base_uri": "https://localhost:8080/"
    },
    "id": "OwhOpMaftjGN",
    "outputId": "86d6e774-6814-4414-d2e6-c6a7957a234e"
   },
   "outputs": [
    {
     "data": {
      "text/plain": [
       "array([[0.02386],\n",
       "       [0.8813 ],\n",
       "       [0.999  ],\n",
       "       [0.175  ],\n",
       "       [0.00485],\n",
       "       [0.995  ],\n",
       "       [0.945  ],\n",
       "       [1.     ],\n",
       "       [1.     ],\n",
       "       [0.2334 ]], dtype=float16)"
      ]
     },
     "execution_count": 46,
     "metadata": {},
     "output_type": "execute_result"
    }
   ],
   "source": [
    "model_4_pred_probs = model_4.predict(val_sentences)\n",
    "model_4_pred_probs[:10]"
   ]
  },
  {
   "cell_type": "code",
   "execution_count": 47,
   "metadata": {
    "colab": {
     "base_uri": "https://localhost:8080/"
    },
    "id": "v5phUteQtjGN",
    "outputId": "5a05ce56-5454-412c-bf94-5d0f39204490"
   },
   "outputs": [
    {
     "data": {
      "text/plain": [
       "<tf.Tensor: shape=(10,), dtype=float16, numpy=array([0., 1., 1., 0., 0., 1., 1., 1., 1., 0.], dtype=float16)>"
      ]
     },
     "execution_count": 47,
     "metadata": {},
     "output_type": "execute_result"
    }
   ],
   "source": [
    "model_4_preds = tf.squeeze(tf.round(model_4_pred_probs))\n",
    "model_4_preds[:10]"
   ]
  },
  {
   "cell_type": "code",
   "execution_count": 48,
   "metadata": {
    "colab": {
     "base_uri": "https://localhost:8080/"
    },
    "id": "Ko8xUiUjtjGN",
    "outputId": "0ce32483-0eee-49e8-ad65-22dfc5b730c4"
   },
   "outputs": [
    {
     "data": {
      "text/plain": [
       "{'accuracy': 77.69028871391076,\n",
       " 'precision': 0.7769803060533722,\n",
       " 'recall': 0.7769028871391076,\n",
       " 'f1': 0.7758759837011532}"
      ]
     },
     "execution_count": 48,
     "metadata": {},
     "output_type": "execute_result"
    }
   ],
   "source": [
    "model_4_results = calculate_results(val_labels,model_4_preds)\n",
    "model_4_results"
   ]
  },
  {
   "cell_type": "markdown",
   "metadata": {
    "id": "YdMFRt5xtjGO"
   },
   "source": [
    "#### 1D CNN"
   ]
  },
  {
   "cell_type": "code",
   "execution_count": 49,
   "metadata": {
    "colab": {
     "base_uri": "https://localhost:8080/"
    },
    "id": "MSfwD4FEtjGO",
    "outputId": "6f5bc81d-7630-4960-cca2-2152ddcda99d"
   },
   "outputs": [
    {
     "data": {
      "text/plain": [
       "(TensorShape([1, 15, 128]), TensorShape([1, 11, 32]), TensorShape([1, 32]))"
      ]
     },
     "execution_count": 49,
     "metadata": {},
     "output_type": "execute_result"
    }
   ],
   "source": [
    "embedding_test = embedding(text_vectorizer([\"this is a test sentence\"]))\n",
    "conv_1d = tf.keras.layers.Conv1D(32,\n",
    "                                 5,\n",
    "                                 activation=\"relu\",\n",
    "                                 padding=\"valid\")\n",
    "conv_1d_output = conv_1d(embedding_test)\n",
    "\n",
    "max_pool = tf.keras.layers.GlobalMaxPool1D()\n",
    "max_pool_output = max_pool(conv_1d_output)\n",
    "\n",
    "embedding_test.shape, conv_1d_output.shape, max_pool_output.shape"
   ]
  },
  {
   "cell_type": "code",
   "execution_count": 50,
   "metadata": {
    "colab": {
     "base_uri": "https://localhost:8080/"
    },
    "id": "4wNjIjfptjGO",
    "outputId": "dea458b8-91d8-4b9d-96c1-11ff2b0a5ef6"
   },
   "outputs": [
    {
     "data": {
      "text/plain": [
       "<tf.Tensor: shape=(1, 15, 128), dtype=float16, numpy=\n",
       "array([[[ 0.004635, -0.0449  , -0.0253  , ..., -0.02122 , -0.04507 ,\n",
       "         -0.02284 ],\n",
       "        [-0.05682 ,  0.08527 ,  0.0098  , ..., -0.01666 , -0.01959 ,\n",
       "          0.07544 ],\n",
       "        [-0.0441  , -0.01845 , -0.02695 , ..., -0.02827 ,  0.02884 ,\n",
       "          0.02611 ],\n",
       "        ...,\n",
       "        [ 0.002455,  0.01508 , -0.02576 , ..., -0.01926 , -0.00819 ,\n",
       "          0.00904 ],\n",
       "        [ 0.002455,  0.01508 , -0.02576 , ..., -0.01926 , -0.00819 ,\n",
       "          0.00904 ],\n",
       "        [ 0.002455,  0.01508 , -0.02576 , ..., -0.01926 , -0.00819 ,\n",
       "          0.00904 ]]], dtype=float16)>"
      ]
     },
     "execution_count": 50,
     "metadata": {},
     "output_type": "execute_result"
    }
   ],
   "source": [
    "embedding_test"
   ]
  },
  {
   "cell_type": "code",
   "execution_count": 51,
   "metadata": {
    "colab": {
     "base_uri": "https://localhost:8080/"
    },
    "id": "v4-9Q5oltjGO",
    "outputId": "3edd2277-0503-4274-90e2-ead0fd201bc2"
   },
   "outputs": [
    {
     "data": {
      "text/plain": [
       "<tf.Tensor: shape=(1, 11, 32), dtype=float16, numpy=\n",
       "array([[[0.006725 , 0.00688  , 0.       , 0.       , 0.0795   ,\n",
       "         0.       , 0.       , 0.       , 0.0678   , 0.       ,\n",
       "         0.03885  , 0.05203  , 0.       , 0.       , 0.02374  ,\n",
       "         0.       , 0.       , 0.0675   , 0.01086  , 0.05194  ,\n",
       "         0.       , 0.       , 0.03732  , 0.       , 0.0512   ,\n",
       "         0.00782  , 0.0766   , 0.       , 0.02756  , 0.       ,\n",
       "         0.       , 0.002089 ],\n",
       "        [0.       , 0.03705  , 0.003702 , 0.04956  , 0.       ,\n",
       "         0.       , 0.       , 0.       , 0.004623 , 0.       ,\n",
       "         0.       , 0.01137  , 0.02304  , 0.00946  , 0.       ,\n",
       "         0.05798  , 0.       , 0.       , 0.03915  , 0.01904  ,\n",
       "         0.06323  , 0.       , 0.       , 0.       , 0.02971  ,\n",
       "         0.05817  , 0.       , 0.       , 0.0452   , 0.       ,\n",
       "         0.03702  , 0.       ],\n",
       "        [0.00312  , 0.       , 0.       , 0.04388  , 0.03583  ,\n",
       "         0.02379  , 0.04398  , 0.       , 0.0851   , 0.001561 ,\n",
       "         0.01031  , 0.       , 0.       , 0.       , 0.0002925,\n",
       "         0.       , 0.       , 0.       , 0.03708  , 0.00338  ,\n",
       "         0.0441   , 0.       , 0.       , 0.       , 0.0747   ,\n",
       "         0.       , 0.       , 0.       , 0.005325 , 0.03004  ,\n",
       "         0.02962  , 0.02066  ],\n",
       "        [0.002213 , 0.       , 0.       , 0.       , 0.1434   ,\n",
       "         0.00664  , 0.       , 0.       , 0.0397   , 0.002226 ,\n",
       "         0.       , 0.0254   , 0.       , 0.0163   , 0.       ,\n",
       "         0.       , 0.000991 , 0.       , 0.       , 0.006386 ,\n",
       "         0.03656  , 0.03014  , 0.       , 0.003836 , 0.00956  ,\n",
       "         0.0602   , 0.       , 0.03564  , 0.       , 0.       ,\n",
       "         0.       , 0.       ],\n",
       "        [0.01273  , 0.       , 0.       , 0.       , 0.05423  ,\n",
       "         0.       , 0.00682  , 0.       , 0.05106  , 0.       ,\n",
       "         0.       , 0.012215 , 0.       , 0.01738  , 0.       ,\n",
       "         0.005066 , 0.       , 0.01553  , 0.       , 0.00495  ,\n",
       "         0.02397  , 0.       , 0.       , 0.010315 , 0.01144  ,\n",
       "         0.       , 0.008026 , 0.       , 0.02643  , 0.       ,\n",
       "         0.02306  , 0.       ],\n",
       "        [0.02179  , 0.       , 0.       , 0.001015 , 0.0345   ,\n",
       "         0.       , 0.       , 0.       , 0.05765  , 0.       ,\n",
       "         0.       , 0.05     , 0.       , 0.0308   , 0.       ,\n",
       "         0.       , 0.02132  , 0.01723  , 0.02051  , 0.0425   ,\n",
       "         0.02104  , 0.       , 0.       , 0.003786 , 0.00419  ,\n",
       "         0.       , 0.       , 0.00951  , 0.0345   , 0.       ,\n",
       "         0.       , 0.       ],\n",
       "        [0.02179  , 0.       , 0.       , 0.001015 , 0.0345   ,\n",
       "         0.       , 0.       , 0.       , 0.05765  , 0.       ,\n",
       "         0.       , 0.05     , 0.       , 0.0308   , 0.       ,\n",
       "         0.       , 0.02132  , 0.01723  , 0.02051  , 0.0425   ,\n",
       "         0.02104  , 0.       , 0.       , 0.003786 , 0.00419  ,\n",
       "         0.       , 0.       , 0.00951  , 0.0345   , 0.       ,\n",
       "         0.       , 0.       ],\n",
       "        [0.02179  , 0.       , 0.       , 0.001015 , 0.0345   ,\n",
       "         0.       , 0.       , 0.       , 0.05765  , 0.       ,\n",
       "         0.       , 0.05     , 0.       , 0.0308   , 0.       ,\n",
       "         0.       , 0.02132  , 0.01723  , 0.02051  , 0.0425   ,\n",
       "         0.02104  , 0.       , 0.       , 0.003786 , 0.00419  ,\n",
       "         0.       , 0.       , 0.00951  , 0.0345   , 0.       ,\n",
       "         0.       , 0.       ],\n",
       "        [0.02179  , 0.       , 0.       , 0.001015 , 0.0345   ,\n",
       "         0.       , 0.       , 0.       , 0.05765  , 0.       ,\n",
       "         0.       , 0.05     , 0.       , 0.0308   , 0.       ,\n",
       "         0.       , 0.02132  , 0.01723  , 0.02051  , 0.0425   ,\n",
       "         0.02104  , 0.       , 0.       , 0.003786 , 0.00419  ,\n",
       "         0.       , 0.       , 0.00951  , 0.0345   , 0.       ,\n",
       "         0.       , 0.       ],\n",
       "        [0.02179  , 0.       , 0.       , 0.001015 , 0.0345   ,\n",
       "         0.       , 0.       , 0.       , 0.05765  , 0.       ,\n",
       "         0.       , 0.05     , 0.       , 0.0308   , 0.       ,\n",
       "         0.       , 0.02132  , 0.01723  , 0.02051  , 0.0425   ,\n",
       "         0.02104  , 0.       , 0.       , 0.003786 , 0.00419  ,\n",
       "         0.       , 0.       , 0.00951  , 0.0345   , 0.       ,\n",
       "         0.       , 0.       ],\n",
       "        [0.02179  , 0.       , 0.       , 0.001015 , 0.0345   ,\n",
       "         0.       , 0.       , 0.       , 0.05765  , 0.       ,\n",
       "         0.       , 0.05     , 0.       , 0.0308   , 0.       ,\n",
       "         0.       , 0.02132  , 0.01723  , 0.02051  , 0.0425   ,\n",
       "         0.02104  , 0.       , 0.       , 0.003786 , 0.00419  ,\n",
       "         0.       , 0.       , 0.00951  , 0.0345   , 0.       ,\n",
       "         0.       , 0.       ]]], dtype=float16)>"
      ]
     },
     "execution_count": 51,
     "metadata": {},
     "output_type": "execute_result"
    }
   ],
   "source": [
    "conv_1d_output"
   ]
  },
  {
   "cell_type": "code",
   "execution_count": 52,
   "metadata": {
    "colab": {
     "base_uri": "https://localhost:8080/"
    },
    "id": "V5Q9sl3LtjGO",
    "outputId": "f20dc0a6-2ae9-4213-f96a-17c2773812e8"
   },
   "outputs": [
    {
     "data": {
      "text/plain": [
       "<tf.Tensor: shape=(1, 32), dtype=float16, numpy=\n",
       "array([[0.02179 , 0.03705 , 0.003702, 0.04956 , 0.1434  , 0.02379 ,\n",
       "        0.04398 , 0.      , 0.0851  , 0.002226, 0.03885 , 0.05203 ,\n",
       "        0.02304 , 0.0308  , 0.02374 , 0.05798 , 0.02132 , 0.0675  ,\n",
       "        0.03915 , 0.05194 , 0.06323 , 0.03014 , 0.03732 , 0.010315,\n",
       "        0.0747  , 0.0602  , 0.0766  , 0.03564 , 0.0452  , 0.03004 ,\n",
       "        0.03702 , 0.02066 ]], dtype=float16)>"
      ]
     },
     "execution_count": 52,
     "metadata": {},
     "output_type": "execute_result"
    }
   ],
   "source": [
    "max_pool_output"
   ]
  },
  {
   "cell_type": "code",
   "execution_count": 53,
   "metadata": {
    "colab": {
     "base_uri": "https://localhost:8080/"
    },
    "id": "58U70HiRtjGO",
    "outputId": "32e28f7a-700b-4813-8366-981cf4f2d7da"
   },
   "outputs": [
    {
     "name": "stdout",
     "output_type": "stream",
     "text": [
      "Epoch 1/5\n",
      "215/215 [==============================] - 3s 10ms/step - loss: 0.2038 - accuracy: 0.9459 - val_loss: 0.7547 - val_accuracy: 0.7835\n",
      "Epoch 2/5\n",
      "215/215 [==============================] - 2s 10ms/step - loss: 0.1001 - accuracy: 0.9647 - val_loss: 0.8854 - val_accuracy: 0.7756\n",
      "Epoch 3/5\n",
      "215/215 [==============================] - 2s 10ms/step - loss: 0.0744 - accuracy: 0.9708 - val_loss: 0.9643 - val_accuracy: 0.7782\n",
      "Epoch 4/5\n",
      "215/215 [==============================] - 2s 10ms/step - loss: 0.0640 - accuracy: 0.9758 - val_loss: 1.0427 - val_accuracy: 0.7664\n",
      "Epoch 5/5\n",
      "215/215 [==============================] - 2s 10ms/step - loss: 0.0561 - accuracy: 0.9780 - val_loss: 1.1198 - val_accuracy: 0.7717\n"
     ]
    }
   ],
   "source": [
    "# Create 1D CNN layer to model sequences\n",
    "inputs = tf.keras.layers.Input(shape=(1,),dtype=tf.string)\n",
    "x = text_vectorizer(inputs)\n",
    "x = embedding(x)\n",
    "x = tf.keras.layers.Conv1D(filters=64,\n",
    "                           kernel_size=5,\n",
    "                           padding=\"valid\",\n",
    "                           activation=\"relu\")(x)\n",
    "x = tf.keras.layers.GlobalMaxPool1D()(x)\n",
    "outputs = tf.keras.layers.Dense(1,activation=tf.keras.activations.sigmoid)(x)\n",
    "\n",
    "model_5 = tf.keras.Model(inputs,outputs)\n",
    "\n",
    "model_5.compile(loss=tf.keras.losses.BinaryCrossentropy(),\n",
    "                optimizer=tf.keras.optimizers.Adam(),\n",
    "                metrics=[\"accuracy\"])\n",
    "model_5_history = model_5.fit(train_sentences,train_labels,\n",
    "                              validation_data=(val_sentences,val_labels),\n",
    "                              epochs=5)"
   ]
  },
  {
   "cell_type": "code",
   "execution_count": 54,
   "metadata": {
    "colab": {
     "base_uri": "https://localhost:8080/"
    },
    "id": "3M13vl1ltjGP",
    "outputId": "23b5a4d4-d03c-415a-ba13-70082ea14fcc"
   },
   "outputs": [
    {
     "data": {
      "text/plain": [
       "array([[0.1991 ],\n",
       "       [0.6094 ],\n",
       "       [1.     ],\n",
       "       [0.04443],\n",
       "       [0.     ],\n",
       "       [0.998  ],\n",
       "       [0.9863 ],\n",
       "       [1.     ],\n",
       "       [1.     ],\n",
       "       [0.756  ]], dtype=float16)"
      ]
     },
     "execution_count": 54,
     "metadata": {},
     "output_type": "execute_result"
    }
   ],
   "source": [
    "model_5_pred_probs = model_5.predict(val_sentences)\n",
    "model_5_pred_probs[:10]"
   ]
  },
  {
   "cell_type": "code",
   "execution_count": 55,
   "metadata": {
    "colab": {
     "base_uri": "https://localhost:8080/"
    },
    "id": "Xpfg5D_xtjGP",
    "outputId": "88ae1738-5382-4107-bcd7-4d21a4d52988"
   },
   "outputs": [
    {
     "data": {
      "text/plain": [
       "<tf.Tensor: shape=(10,), dtype=float16, numpy=array([0., 1., 1., 0., 0., 1., 1., 1., 1., 1.], dtype=float16)>"
      ]
     },
     "execution_count": 55,
     "metadata": {},
     "output_type": "execute_result"
    }
   ],
   "source": [
    "model_5_preds = tf.squeeze(tf.round(model_5_pred_probs))\n",
    "model_5_preds[:10]"
   ]
  },
  {
   "cell_type": "code",
   "execution_count": 56,
   "metadata": {
    "colab": {
     "base_uri": "https://localhost:8080/"
    },
    "id": "Rbf3XnmItjGP",
    "outputId": "98521aad-97a4-4672-ea2a-1ee7ba237747"
   },
   "outputs": [
    {
     "data": {
      "text/plain": [
       "{'accuracy': 77.16535433070865,\n",
       " 'precision': 0.7724094757924029,\n",
       " 'recall': 0.7716535433070866,\n",
       " 'f1': 0.7700698633249685}"
      ]
     },
     "execution_count": 56,
     "metadata": {},
     "output_type": "execute_result"
    }
   ],
   "source": [
    "model_5_results = calculate_results(val_labels,model_5_preds)\n",
    "model_5_results"
   ]
  },
  {
   "cell_type": "code",
   "execution_count": 57,
   "metadata": {
    "colab": {
     "base_uri": "https://localhost:8080/"
    },
    "id": "EIi9WX7VtjGP",
    "outputId": "2aa8205c-7211-46e4-d2a7-d968827af8e3"
   },
   "outputs": [
    {
     "data": {
      "text/plain": [
       "{'accuracy': 79.26509186351706,\n",
       " 'precision': 0.8111390004213173,\n",
       " 'recall': 0.7926509186351706,\n",
       " 'f1': 0.7862189758049549}"
      ]
     },
     "execution_count": 57,
     "metadata": {},
     "output_type": "execute_result"
    }
   ],
   "source": [
    "baseline_results"
   ]
  },
  {
   "cell_type": "markdown",
   "metadata": {
    "id": "Nw5JS3dNtjGP"
   },
   "source": [
    "#### Model 6 - Tensorflow Hub pretrained models\n",
    "USE-extractor - universal sentence encoder (USE)"
   ]
  },
  {
   "cell_type": "code",
   "execution_count": 58,
   "metadata": {
    "colab": {
     "base_uri": "https://localhost:8080/"
    },
    "id": "RY_WYxmotjGQ",
    "outputId": "aec40bef-df08-4c36-e0f1-fe334179c1d5"
   },
   "outputs": [
    {
     "name": "stdout",
     "output_type": "stream",
     "text": [
      "tf.Tensor(\n",
      "[-0.01157027  0.02485911  0.02878048 -0.012715    0.03971538  0.08827761\n",
      "  0.02680985  0.05589839 -0.01068729 -0.00597292  0.00639323 -0.0181952\n",
      "  0.00030814  0.09105889  0.05874645 -0.03180628  0.01512474 -0.05162929\n",
      "  0.00991367 -0.06865346 -0.04209306  0.02678981  0.03011008  0.00321069\n",
      " -0.00337971 -0.04787357  0.02266719 -0.00985925 -0.04063613 -0.01292093\n",
      " -0.04666385  0.056303   -0.03949255  0.00517688  0.02495828 -0.07014441\n",
      "  0.02871509  0.04947684 -0.00633978 -0.08960193  0.02807117 -0.00808362\n",
      " -0.01360601  0.0599865  -0.10361787 -0.05195374  0.00232955 -0.0233253\n",
      " -0.03758106  0.0332773 ], shape=(50,), dtype=float32)\n"
     ]
    }
   ],
   "source": [
    "import tensorflow_hub as hub\n",
    "embed = hub.load(\"https://tfhub.dev/google/universal-sentence-encoder/4\")\n",
    "embed_sample = embed([sample_sentence,\n",
    "                      \"When you can the unvidersal sentence encider on a sentence, it turns into into numbers\"])\n",
    "print(embed_sample[0][:50])"
   ]
  },
  {
   "cell_type": "code",
   "execution_count": 59,
   "metadata": {
    "colab": {
     "base_uri": "https://localhost:8080/"
    },
    "id": "KFo46Hy2tjGQ",
    "outputId": "ad64f62e-5f4e-4eec-9d4b-8d9156390a20"
   },
   "outputs": [
    {
     "data": {
      "text/plain": [
       "<tf.Tensor: shape=(2, 512), dtype=float32, numpy=\n",
       "array([[-0.01157027,  0.02485911,  0.02878048, ..., -0.00186125,\n",
       "         0.02315825, -0.01485021],\n",
       "       [ 0.06090041, -0.08857404,  0.01838203, ..., -0.00653701,\n",
       "         0.03106262,  0.03701008]], dtype=float32)>"
      ]
     },
     "execution_count": 59,
     "metadata": {},
     "output_type": "execute_result"
    }
   ],
   "source": [
    "embed_sample"
   ]
  },
  {
   "cell_type": "markdown",
   "metadata": {
    "id": "cLySGe8ctjGQ"
   },
   "source": [
    "Use the above USE\"\" embedding layer for a normal type of model"
   ]
  },
  {
   "cell_type": "code",
   "execution_count": 60,
   "metadata": {
    "id": "O6FvIAsOtjGQ"
   },
   "outputs": [],
   "source": [
    "# Create a keras layer using the USE\"\" pretrained layer from tensorflow hub\n",
    "sentence_encoder_layer = hub.KerasLayer(hub.load(\"https://tfhub.dev/google/universal-sentence-encoder/4\"),\n",
    "                                        input_shape=[],\n",
    "                                        dtype=tf.string,\n",
    "                                        trainable=False,\n",
    "                                        name=\"USE\")"
   ]
  },
  {
   "cell_type": "code",
   "execution_count": 61,
   "metadata": {
    "colab": {
     "base_uri": "https://localhost:8080/"
    },
    "id": "JAedK16ztjGQ",
    "outputId": "c103f610-6993-42d9-f460-edfe236e6873"
   },
   "outputs": [
    {
     "data": {
      "text/plain": [
       "<tensorflow_hub.keras_layer.KerasLayer at 0x7f41fc847d30>"
      ]
     },
     "execution_count": 61,
     "metadata": {},
     "output_type": "execute_result"
    }
   ],
   "source": [
    "sentence_encoder_layer"
   ]
  },
  {
   "cell_type": "code",
   "execution_count": 62,
   "metadata": {
    "colab": {
     "base_uri": "https://localhost:8080/"
    },
    "id": "OASRLNAatjGQ",
    "outputId": "25116497-54c1-4174-d5b3-f493a4abce65"
   },
   "outputs": [
    {
     "name": "stdout",
     "output_type": "stream",
     "text": [
      "Epoch 1/5\n",
      "215/215 [==============================] - 2s 5ms/step - loss: 0.6750 - accuracy: 0.6335 - val_loss: 0.6164 - val_accuracy: 0.7743\n",
      "Epoch 2/5\n",
      "215/215 [==============================] - 1s 4ms/step - loss: 0.5965 - accuracy: 0.7905 - val_loss: 0.5654 - val_accuracy: 0.7822\n",
      "Epoch 3/5\n",
      "215/215 [==============================] - 1s 4ms/step - loss: 0.5509 - accuracy: 0.7905 - val_loss: 0.5327 - val_accuracy: 0.7927\n",
      "Epoch 4/5\n",
      "215/215 [==============================] - 1s 4ms/step - loss: 0.5116 - accuracy: 0.8071 - val_loss: 0.5111 - val_accuracy: 0.7927\n",
      "Epoch 5/5\n",
      "215/215 [==============================] - 1s 4ms/step - loss: 0.4934 - accuracy: 0.8039 - val_loss: 0.4963 - val_accuracy: 0.7913\n"
     ]
    }
   ],
   "source": [
    "# Create  sequential layer\n",
    "model_6 = tf.keras.models.Sequential([\n",
    "    sentence_encoder_layer,\n",
    "    tf.keras.layers.Dense(1,activation=\"sigmoid\")\n",
    "])\n",
    "\n",
    "model_6.compile(loss=tf.keras.losses.BinaryCrossentropy(),\n",
    "                optimizer=tf.keras.optimizers.Adam(),\n",
    "                metrics=['accuracy'])\n",
    "model_6_history = model_6.fit(train_sentences,train_labels,\n",
    "                               validation_data=(val_sentences,val_labels),\n",
    "                               epochs=5)"
   ]
  },
  {
   "cell_type": "code",
   "execution_count": 63,
   "metadata": {
    "colab": {
     "base_uri": "https://localhost:8080/"
    },
    "id": "BjeiQMmltjGR",
    "outputId": "cf152ceb-f11a-4104-c626-c4bf5079e6b9"
   },
   "outputs": [
    {
     "data": {
      "text/plain": [
       "array([[0.3665],\n",
       "       [0.673 ],\n",
       "       [0.8604],\n",
       "       [0.339 ],\n",
       "       [0.638 ],\n",
       "       [0.7173],\n",
       "       [0.8135],\n",
       "       [0.8374],\n",
       "       [0.7324],\n",
       "       [0.1925]], dtype=float16)"
      ]
     },
     "execution_count": 63,
     "metadata": {},
     "output_type": "execute_result"
    }
   ],
   "source": [
    "model_6_pred_probs=model_6.predict(val_sentences)\n",
    "model_6_pred_probs[:10]"
   ]
  },
  {
   "cell_type": "code",
   "execution_count": 64,
   "metadata": {
    "colab": {
     "base_uri": "https://localhost:8080/"
    },
    "id": "d-G9SxEMtjGR",
    "outputId": "01a34024-b608-4ecc-a0a0-6432518f9a61"
   },
   "outputs": [
    {
     "data": {
      "text/plain": [
       "<tf.Tensor: shape=(10,), dtype=float16, numpy=array([0., 1., 1., 0., 1., 1., 1., 1., 1., 0.], dtype=float16)>"
      ]
     },
     "execution_count": 64,
     "metadata": {},
     "output_type": "execute_result"
    }
   ],
   "source": [
    "model_6_preds=tf.squeeze(tf.round(model_6_pred_probs))\n",
    "model_6_preds[:10]"
   ]
  },
  {
   "cell_type": "code",
   "execution_count": 65,
   "metadata": {
    "colab": {
     "base_uri": "https://localhost:8080/"
    },
    "id": "ESiAF9QWtjGR",
    "outputId": "0ee32816-b196-40e7-d513-c6d990af24b1"
   },
   "outputs": [
    {
     "data": {
      "text/plain": [
       "{'accuracy': 79.13385826771653,\n",
       " 'precision': 0.791659328034437,\n",
       " 'recall': 0.7913385826771654,\n",
       " 'f1': 0.790332908959664}"
      ]
     },
     "execution_count": 65,
     "metadata": {},
     "output_type": "execute_result"
    }
   ],
   "source": [
    "model_6_results = calculate_results(val_labels,model_6_preds)\n",
    "model_6_results"
   ]
  },
  {
   "cell_type": "code",
   "execution_count": 66,
   "metadata": {
    "colab": {
     "base_uri": "https://localhost:8080/"
    },
    "id": "LV51qBK-tjGR",
    "outputId": "af79e6fc-1435-486c-9d48-5401c2fd9847"
   },
   "outputs": [
    {
     "data": {
      "text/plain": [
       "{'accuracy': 79.26509186351706,\n",
       " 'precision': 0.8111390004213173,\n",
       " 'recall': 0.7926509186351706,\n",
       " 'f1': 0.7862189758049549}"
      ]
     },
     "execution_count": 66,
     "metadata": {},
     "output_type": "execute_result"
    }
   ],
   "source": [
    "baseline_results"
   ]
  },
  {
   "cell_type": "code",
   "execution_count": 67,
   "metadata": {
    "colab": {
     "base_uri": "https://localhost:8080/"
    },
    "id": "SuxGYt3YtjGR",
    "outputId": "554e196d-669e-49a3-b35e-cef94d718d4a"
   },
   "outputs": [
    {
     "name": "stdout",
     "output_type": "stream",
     "text": [
      "Epoch 1/5\n",
      "215/215 [==============================] - 2s 5ms/step - loss: 0.5564 - accuracy: 0.7583 - val_loss: 0.4356 - val_accuracy: 0.8058\n",
      "Epoch 2/5\n",
      "215/215 [==============================] - 1s 4ms/step - loss: 0.3934 - accuracy: 0.8249 - val_loss: 0.4214 - val_accuracy: 0.8176\n",
      "Epoch 3/5\n",
      "215/215 [==============================] - 1s 4ms/step - loss: 0.3835 - accuracy: 0.8324 - val_loss: 0.4233 - val_accuracy: 0.8202\n",
      "Epoch 4/5\n",
      "215/215 [==============================] - 1s 4ms/step - loss: 0.3434 - accuracy: 0.8535 - val_loss: 0.4211 - val_accuracy: 0.8202\n",
      "Epoch 5/5\n",
      "215/215 [==============================] - 1s 4ms/step - loss: 0.3260 - accuracy: 0.8704 - val_loss: 0.4246 - val_accuracy: 0.8241\n",
      "[[0.121  ]\n",
      " [0.7793 ]\n",
      " [0.999  ]\n",
      " [0.1708 ]\n",
      " [0.665  ]\n",
      " [0.8643 ]\n",
      " [0.99   ]\n",
      " [0.994  ]\n",
      " [0.99   ]\n",
      " [0.07367]]\n",
      "tf.Tensor([0. 1. 1. 0. 1. 1. 1. 1. 1. 0.], shape=(10,), dtype=float16)\n",
      "{'accuracy': 82.41469816272966, 'precision': 0.8268202892990479, 'recall': 0.8241469816272966, 'f1': 0.8226499495437218}\n"
     ]
    }
   ],
   "source": [
    "# Challenge, beat the baseline\n",
    "model_6_exp = tf.keras.models.Sequential([\n",
    "    sentence_encoder_layer,\n",
    "    tf.keras.layers.Dense(64,activation=tf.keras.activations.relu),\n",
    "    tf.keras.layers.Dense(64,activation=tf.keras.activations.relu),\n",
    "    tf.keras.layers.Dense(1,activation=tf.keras.activations.sigmoid)\n",
    "])\n",
    "model_6_exp.compile(loss=tf.keras.losses.BinaryCrossentropy(),\n",
    "                    optimizer=tf.keras.optimizers.Adam(),\n",
    "                    metrics=['accuracy'])\n",
    "model_6_exp_history = model_6_exp.fit(train_sentences,train_labels,\n",
    "                                      epochs=5,\n",
    "                                      validation_data=(val_sentences,val_labels))\n",
    "\n",
    "model_6_exp_pred_probs = model_6_exp.predict(val_sentences)\n",
    "print(model_6_exp_pred_probs[:10])\n",
    "\n",
    "model_6_exp_preds = tf.squeeze(tf.round(model_6_exp_pred_probs))\n",
    "print(model_6_exp_preds[:10])\n",
    "\n",
    "model_6_exp_results = calculate_results(val_labels, model_6_exp_preds)\n",
    "print(model_6_exp_results)"
   ]
  },
  {
   "cell_type": "markdown",
   "metadata": {
    "id": "8qAovHDDtjGR"
   },
   "source": [
    "### Model 7 : TF Hub Pretrained USE but with 10% of training data"
   ]
  },
  {
   "cell_type": "code",
   "execution_count": 68,
   "metadata": {
    "colab": {
     "base_uri": "https://localhost:8080/"
    },
    "id": "necgC53RtjGR",
    "outputId": "33c8a400-fb3c-4d29-eec7-52d2704f64c6"
   },
   "outputs": [
    {
     "data": {
      "text/plain": [
       "(761, 761)"
      ]
     },
     "execution_count": 68,
     "metadata": {},
     "output_type": "execute_result"
    }
   ],
   "source": [
    "train_10_percent = train_df_shuffled[[\"text\", \"target\"]].sample(frac=0.1, random_state=42)\n",
    "train_sentences_10_percent = train_10_percent[\"text\"].to_list()\n",
    "train_labels_10_percent = train_10_percent[\"target\"].to_list()\n",
    "len(train_sentences_10_percent), len(train_labels_10_percent)"
   ]
  },
  {
   "cell_type": "code",
   "execution_count": 69,
   "metadata": {
    "colab": {
     "base_uri": "https://localhost:8080/"
    },
    "id": "CXPVFKZ_tjGS",
    "outputId": "a730ee4e-4a31-407e-c7e9-9a4f7f097001"
   },
   "outputs": [
    {
     "data": {
      "text/plain": [
       "0    413\n",
       "1    348\n",
       "Name: target, dtype: int64"
      ]
     },
     "execution_count": 69,
     "metadata": {},
     "output_type": "execute_result"
    }
   ],
   "source": [
    "# Check the number of targets in the dataset\n",
    "train_10_percent[\"target\"].value_counts()"
   ]
  },
  {
   "cell_type": "code",
   "execution_count": 70,
   "metadata": {
    "colab": {
     "base_uri": "https://localhost:8080/"
    },
    "id": "ZuqFlmmstjGS",
    "outputId": "33f7a1f9-50ca-434d-e074-7e7191698052"
   },
   "outputs": [
    {
     "data": {
      "text/plain": [
       "0    4342\n",
       "1    3271\n",
       "Name: target, dtype: int64"
      ]
     },
     "execution_count": 70,
     "metadata": {},
     "output_type": "execute_result"
    }
   ],
   "source": [
    "train_df_shuffled[\"target\"].value_counts()"
   ]
  },
  {
   "cell_type": "code",
   "execution_count": 71,
   "metadata": {
    "colab": {
     "base_uri": "https://localhost:8080/"
    },
    "id": "VnvNm0cVtjGS",
    "outputId": "496c2744-282f-495a-ff86-cc5017408758"
   },
   "outputs": [
    {
     "name": "stdout",
     "output_type": "stream",
     "text": [
      "Epoch 1/5\n",
      "24/24 [==============================] - 1s 17ms/step - loss: 0.6885 - accuracy: 0.5555 - val_loss: 0.6398 - val_accuracy: 0.8281\n",
      "Epoch 2/5\n",
      "24/24 [==============================] - 0s 8ms/step - loss: 0.6089 - accuracy: 0.8329 - val_loss: 0.4984 - val_accuracy: 0.8110\n",
      "Epoch 3/5\n",
      "24/24 [==============================] - 0s 8ms/step - loss: 0.4704 - accuracy: 0.8062 - val_loss: 0.3946 - val_accuracy: 0.8386\n",
      "Epoch 4/5\n",
      "24/24 [==============================] - 0s 8ms/step - loss: 0.3921 - accuracy: 0.8249 - val_loss: 0.3421 - val_accuracy: 0.8609\n",
      "Epoch 5/5\n",
      "24/24 [==============================] - 0s 8ms/step - loss: 0.3435 - accuracy: 0.8524 - val_loss: 0.2999 - val_accuracy: 0.8858\n"
     ]
    }
   ],
   "source": [
    "# model 7\n",
    "model_7 = tf.keras.models.Sequential([\n",
    "    sentence_encoder_layer,\n",
    "    tf.keras.layers.Dense(64,activation=tf.keras.activations.relu),\n",
    "    tf.keras.layers.Dense(64,activation=tf.keras.activations.relu),\n",
    "    tf.keras.layers.Dense(1,activation=tf.keras.activations.sigmoid)\n",
    "])\n",
    "\n",
    "model_7.compile(loss=tf.keras.losses.BinaryCrossentropy(),\n",
    "                optimizer=tf.keras.optimizers.Adam(),\n",
    "                metrics=[\"accuracy\"])\n",
    "model_7_history = model_7.fit(train_sentences_10_percent, train_labels_10_percent,\n",
    "                              epochs=5,\n",
    "                              validation_data=(val_sentences,val_labels))\n"
   ]
  },
  {
   "cell_type": "code",
   "execution_count": 72,
   "metadata": {
    "colab": {
     "base_uri": "https://localhost:8080/"
    },
    "id": "PxCRfzkctjGS",
    "outputId": "83720290-d2dc-4459-c85e-37dc794e869f"
   },
   "outputs": [
    {
     "data": {
      "text/plain": [
       "array([[0.10516],\n",
       "       [0.8857 ],\n",
       "       [0.977  ],\n",
       "       [0.2063 ],\n",
       "       [0.9185 ],\n",
       "       [0.9116 ],\n",
       "       [0.966  ],\n",
       "       [0.9883 ],\n",
       "       [0.9375 ],\n",
       "       [0.02481]], dtype=float16)"
      ]
     },
     "execution_count": 72,
     "metadata": {},
     "output_type": "execute_result"
    }
   ],
   "source": [
    "model_7_pred_probs = model_7.predict(val_sentences)\n",
    "model_7_pred_probs[:10]"
   ]
  },
  {
   "cell_type": "code",
   "execution_count": 73,
   "metadata": {
    "colab": {
     "base_uri": "https://localhost:8080/"
    },
    "id": "N_OxLFYRtjGS",
    "outputId": "fb4a2a86-a84a-45de-bdff-57941b0be5c9"
   },
   "outputs": [
    {
     "data": {
      "text/plain": [
       "<tf.Tensor: shape=(10,), dtype=float16, numpy=array([0., 1., 1., 0., 1., 1., 1., 1., 1., 0.], dtype=float16)>"
      ]
     },
     "execution_count": 73,
     "metadata": {},
     "output_type": "execute_result"
    }
   ],
   "source": [
    "model_7_preds = tf.squeeze(tf.round(model_7_pred_probs))\n",
    "model_7_preds[:10]"
   ]
  },
  {
   "cell_type": "code",
   "execution_count": 74,
   "metadata": {
    "colab": {
     "base_uri": "https://localhost:8080/"
    },
    "id": "Hy-jIXjdtjGS",
    "outputId": "544b5f5f-7d58-4911-db1d-bedfc27d60c5"
   },
   "outputs": [
    {
     "data": {
      "text/plain": [
       "{'accuracy': 88.58267716535433,\n",
       " 'precision': 0.8864667066885542,\n",
       " 'recall': 0.8858267716535433,\n",
       " 'f1': 0.8854627800500201}"
      ]
     },
     "execution_count": 74,
     "metadata": {},
     "output_type": "execute_result"
    }
   ],
   "source": [
    "model_7_results = calculate_results(val_labels,model_7_preds)\n",
    "model_7_results"
   ]
  },
  {
   "cell_type": "markdown",
   "metadata": {
    "id": "xhrRtbvptjGT"
   },
   "source": [
    "model 7 did very good compared to model 6, model is same, but only 10% data, why?\n",
    "what could the reason be:\n",
    "1. maybe the way we created 10% data\n",
    "\n",
    "ANS : train_sentences_10_percent has little amount of val_sentences, becuase we took 10% from whole train_df_shuffled variable\n",
    "\n",
    "So, it is already seeing what it will be validating on.\n",
    "\n",
    "This is called data leak problem, some part of validation/testing data leaks into training data"
   ]
  },
  {
   "cell_type": "code",
   "execution_count": 75,
   "metadata": {
    "colab": {
     "base_uri": "https://localhost:8080/"
    },
    "id": "r9kD3j83tjGT",
    "outputId": "d1e7f5f8-e12e-431c-ab60-193fb68cc3e2"
   },
   "outputs": [
    {
     "data": {
      "text/plain": [
       "(685, 685)"
      ]
     },
     "execution_count": 75,
     "metadata": {},
     "output_type": "execute_result"
    }
   ],
   "source": [
    "# Making correct data allocation - without data leakage\n",
    "train_10_percent_split = int(0.1 * len(train_sentences))    # train_sentences are already in random order, no need to shuffle\n",
    "train_sentence_10_percent = train_sentences[:train_10_percent_split]\n",
    "train_labels_10_percent = train_labels[:train_10_percent_split]\n",
    "len(train_sentence_10_percent), len(train_labels_10_percent)"
   ]
  },
  {
   "cell_type": "code",
   "execution_count": 76,
   "metadata": {
    "colab": {
     "base_uri": "https://localhost:8080/"
    },
    "id": "sGZURzCxtjGT",
    "outputId": "be1bf559-735d-45bf-cd5c-756489718cc1"
   },
   "outputs": [
    {
     "name": "stdout",
     "output_type": "stream",
     "text": [
      "Epoch 1/5\n",
      "22/22 [==============================] - 1s 18ms/step - loss: 0.6853 - accuracy: 0.6292 - val_loss: 0.6536 - val_accuracy: 0.7283\n",
      "Epoch 2/5\n",
      "22/22 [==============================] - 0s 8ms/step - loss: 0.6157 - accuracy: 0.8030 - val_loss: 0.5555 - val_accuracy: 0.7756\n",
      "Epoch 3/5\n",
      "22/22 [==============================] - 0s 8ms/step - loss: 0.4906 - accuracy: 0.8134 - val_loss: 0.4853 - val_accuracy: 0.7835\n",
      "Epoch 4/5\n",
      "22/22 [==============================] - 0s 8ms/step - loss: 0.4083 - accuracy: 0.8206 - val_loss: 0.4879 - val_accuracy: 0.7874\n",
      "Epoch 5/5\n",
      "22/22 [==============================] - 0s 8ms/step - loss: 0.3299 - accuracy: 0.8662 - val_loss: 0.4958 - val_accuracy: 0.7756\n"
     ]
    }
   ],
   "source": [
    "model_7 = tf.keras.models.Sequential([\n",
    "    sentence_encoder_layer,\n",
    "    tf.keras.layers.Dense(64,activation=tf.keras.activations.relu),\n",
    "    tf.keras.layers.Dense(64,activation=tf.keras.activations.relu),\n",
    "    tf.keras.layers.Dense(1,activation=tf.keras.activations.sigmoid)\n",
    "])\n",
    "model_7.compile(loss=tf.keras.losses.BinaryCrossentropy(),\n",
    "                optimizer=tf.keras.optimizers.Adam(),\n",
    "                metrics=['accuracy'])\n",
    "mdoel_7_history_split = model_7.fit(train_sentence_10_percent, train_labels_10_percent,\n",
    "                                    epochs=5,\n",
    "                                    validation_data=(val_sentences,val_labels))"
   ]
  },
  {
   "cell_type": "code",
   "execution_count": 77,
   "metadata": {
    "colab": {
     "base_uri": "https://localhost:8080/"
    },
    "id": "vEIWq9ZotjGT",
    "outputId": "bd3c9f81-1bc4-4e3a-d6d2-6e922e5b1b24"
   },
   "outputs": [
    {
     "name": "stdout",
     "output_type": "stream",
     "text": [
      "[[0.07007]\n",
      " [0.5093 ]\n",
      " [0.973  ]\n",
      " [0.3354 ]\n",
      " [0.552  ]\n",
      " [0.611  ]\n",
      " [0.9624 ]\n",
      " [0.922  ]\n",
      " [0.956  ]\n",
      " [0.0993 ]]\n",
      "tf.Tensor([0. 1. 1. 0. 1. 1. 1. 1. 1. 0.], shape=(10,), dtype=float16)\n",
      "{'accuracy': 77.55905511811024, 'precision': 0.7769617885542762, 'recall': 0.7755905511811023, 'f1': 0.7737412623092624}\n"
     ]
    }
   ],
   "source": [
    "model_7_pred_probs = model_7.predict(val_sentences)\n",
    "print(model_7_pred_probs[:10])\n",
    "\n",
    "model_7_preds = tf.squeeze(tf.round(model_7_pred_probs))\n",
    "print(model_7_preds[:10])\n",
    "\n",
    "model_7_results = calculate_results(val_labels, model_7_preds)\n",
    "print(model_7_results)"
   ]
  },
  {
   "cell_type": "markdown",
   "metadata": {
    "id": "hAcSwZ5ytjGT"
   },
   "source": [
    "### Compare the performance of each of our model"
   ]
  },
  {
   "cell_type": "code",
   "execution_count": 78,
   "metadata": {
    "colab": {
     "base_uri": "https://localhost:8080/",
     "height": 297
    },
    "id": "_ozHVAwqtjGT",
    "outputId": "41644536-f31d-4858-84c7-3b44d7461f18"
   },
   "outputs": [
    {
     "data": {
      "text/html": [
       "<div>\n",
       "<style scoped>\n",
       "    .dataframe tbody tr th:only-of-type {\n",
       "        vertical-align: middle;\n",
       "    }\n",
       "\n",
       "    .dataframe tbody tr th {\n",
       "        vertical-align: top;\n",
       "    }\n",
       "\n",
       "    .dataframe thead th {\n",
       "        text-align: right;\n",
       "    }\n",
       "</style>\n",
       "<table border=\"1\" class=\"dataframe\">\n",
       "  <thead>\n",
       "    <tr style=\"text-align: right;\">\n",
       "      <th></th>\n",
       "      <th>accuracy</th>\n",
       "      <th>precision</th>\n",
       "      <th>recall</th>\n",
       "      <th>f1</th>\n",
       "    </tr>\n",
       "  </thead>\n",
       "  <tbody>\n",
       "    <tr>\n",
       "      <th>baseline</th>\n",
       "      <td>79.265092</td>\n",
       "      <td>0.811139</td>\n",
       "      <td>0.792651</td>\n",
       "      <td>0.786219</td>\n",
       "    </tr>\n",
       "    <tr>\n",
       "      <th>simple_dense</th>\n",
       "      <td>78.740157</td>\n",
       "      <td>0.791492</td>\n",
       "      <td>0.787402</td>\n",
       "      <td>0.784697</td>\n",
       "    </tr>\n",
       "    <tr>\n",
       "      <th>lstm</th>\n",
       "      <td>76.640420</td>\n",
       "      <td>0.776384</td>\n",
       "      <td>0.766404</td>\n",
       "      <td>0.760927</td>\n",
       "    </tr>\n",
       "    <tr>\n",
       "      <th>gru</th>\n",
       "      <td>79.002625</td>\n",
       "      <td>0.792149</td>\n",
       "      <td>0.790026</td>\n",
       "      <td>0.788122</td>\n",
       "    </tr>\n",
       "    <tr>\n",
       "      <th>bidirectional</th>\n",
       "      <td>77.690289</td>\n",
       "      <td>0.776980</td>\n",
       "      <td>0.776903</td>\n",
       "      <td>0.775876</td>\n",
       "    </tr>\n",
       "    <tr>\n",
       "      <th>conv1d</th>\n",
       "      <td>77.165354</td>\n",
       "      <td>0.772409</td>\n",
       "      <td>0.771654</td>\n",
       "      <td>0.770070</td>\n",
       "    </tr>\n",
       "    <tr>\n",
       "      <th>tf_hub_sentence_encoder</th>\n",
       "      <td>79.133858</td>\n",
       "      <td>0.791659</td>\n",
       "      <td>0.791339</td>\n",
       "      <td>0.790333</td>\n",
       "    </tr>\n",
       "    <tr>\n",
       "      <th>tf_hub_10_percent_data</th>\n",
       "      <td>77.559055</td>\n",
       "      <td>0.776962</td>\n",
       "      <td>0.775591</td>\n",
       "      <td>0.773741</td>\n",
       "    </tr>\n",
       "  </tbody>\n",
       "</table>\n",
       "</div>"
      ],
      "text/plain": [
       "                          accuracy  precision    recall        f1\n",
       "baseline                 79.265092   0.811139  0.792651  0.786219\n",
       "simple_dense             78.740157   0.791492  0.787402  0.784697\n",
       "lstm                     76.640420   0.776384  0.766404  0.760927\n",
       "gru                      79.002625   0.792149  0.790026  0.788122\n",
       "bidirectional            77.690289   0.776980  0.776903  0.775876\n",
       "conv1d                   77.165354   0.772409  0.771654  0.770070\n",
       "tf_hub_sentence_encoder  79.133858   0.791659  0.791339  0.790333\n",
       "tf_hub_10_percent_data   77.559055   0.776962  0.775591  0.773741"
      ]
     },
     "execution_count": 78,
     "metadata": {},
     "output_type": "execute_result"
    }
   ],
   "source": [
    "all_model_results = pd.DataFrame({\"baseline\":baseline_results,\n",
    "                                  \"simple_dense\":model_1_results,\n",
    "                                  \"lstm\":model_2_results,\n",
    "                                  \"gru\":model_3_results,\n",
    "                                  \"bidirectional\":model_4_results,\n",
    "                                  \"conv1d\":model_5_results,\n",
    "                                  \"tf_hub_sentence_encoder\":model_6_results,\n",
    "                                  \"tf_hub_10_percent_data\":model_7_results})\n",
    "all_model_results = all_model_results.transpose()\n",
    "all_model_results"
   ]
  },
  {
   "cell_type": "code",
   "execution_count": 79,
   "metadata": {
    "id": "fzCEvY1mtjGT"
   },
   "outputs": [],
   "source": [
    "# Reduce the accuracy to same scale as other metrics\n",
    "all_model_results[\"accuracy\"] = all_model_results[\"accuracy\"]/100"
   ]
  },
  {
   "cell_type": "code",
   "execution_count": 80,
   "metadata": {
    "colab": {
     "base_uri": "https://localhost:8080/",
     "height": 763
    },
    "id": "n0YXHTZT2KoM",
    "outputId": "fe4c6c63-c48b-4df8-96ee-cb4fe5bddd00"
   },
   "outputs": [
    {
     "data": {
      "image/png": "[encoded data removed]",
      "text/plain": [
       "<Figure size 1000x700 with 1 Axes>"
      ]
     },
     "metadata": {},
     "output_type": "display_data"
    }
   ],
   "source": [
    "# Plot and compare all of the model results\n",
    "all_model_results.plot(kind=\"bar\", figsize=(10, 7)).legend(bbox_to_anchor=(1.0, 1.0));"
   ]
  },
  {
   "cell_type": "code",
   "execution_count": 81,
   "metadata": {
    "colab": {
     "base_uri": "https://localhost:8080/",
     "height": 763
    },
    "id": "4toZoopG2NGo",
    "outputId": "817936c5-bc5e-4adb-aed2-5085501bfafe"
   },
   "outputs": [
    {
     "data": {
      "text/plain": [
       "<AxesSubplot:>"
      ]
     },
     "execution_count": 81,
     "metadata": {},
     "output_type": "execute_result"
    },
    {
     "data": {
      "image/png": "[encoded data removed]",
      "text/plain": [
       "<Figure size 1000x700 with 1 Axes>"
      ]
     },
     "metadata": {},
     "output_type": "display_data"
    }
   ],
   "source": [
    "# Sort model results by f1-score\n",
    "all_model_results.sort_values(\"f1\", ascending=False)[\"f1\"].plot(kind=\"bar\", figsize=(10, 7))"
   ]
  },
  {
   "cell_type": "markdown",
   "metadata": {},
   "source": [
    "### Find the most wrong examples\n",
    "\n",
    "* If our best model still isnt perfect, then what examples is it getting wrong?\n",
    "* And of these wrong examples which ones is it getting most wrong"
   ]
  },
  {
   "cell_type": "code",
   "execution_count": 82,
   "metadata": {
    "id": "K0ZIzs402ZBG"
   },
   "outputs": [],
   "source": [
    "# Create DataFrame with validation sentences and best performing model predictions\n",
    "if \"08_model_6_USE_feature_extractor.zip\" not in os.listdir(\".\"):\n",
    "    ! wget https://storage.googleapis.com/ztm_tf_course/08_model_6_USE_feature_extractor.zip\n",
    "    unzip_data(\"08_model_6_USE_feature_extractor.zip\")"
   ]
  },
  {
   "cell_type": "code",
   "execution_count": 83,
   "metadata": {},
   "outputs": [],
   "source": [
    "# IMport previously trained model\n",
    "model_6_pretrained = tf.keras.models.load_model(\"08_model_6_USE_feature_extractor\")"
   ]
  },
  {
   "cell_type": "code",
   "execution_count": 84,
   "metadata": {},
   "outputs": [
    {
     "name": "stdout",
     "output_type": "stream",
     "text": [
      "24/24 [==============================] - 0s 3ms/step - loss: 0.4272 - accuracy: 0.8163\n"
     ]
    },
    {
     "data": {
      "text/plain": [
       "[0.4272344708442688, 0.8162729740142822]"
      ]
     },
     "execution_count": 84,
     "metadata": {},
     "output_type": "execute_result"
    }
   ],
   "source": [
    "model_6_pretrained.evaluate(val_sentences,val_labels)"
   ]
  },
  {
   "cell_type": "code",
   "execution_count": 85,
   "metadata": {},
   "outputs": [
    {
     "data": {
      "text/plain": [
       "{'accuracy': 81.62729658792651,\n",
       " 'precision': 0.818446310697231,\n",
       " 'recall': 0.8162729658792651,\n",
       " 'f1': 0.8148082644367335}"
      ]
     },
     "execution_count": 85,
     "metadata": {},
     "output_type": "execute_result"
    }
   ],
   "source": [
    "model_6_pretrained_pred_probs = model_6_pretrained.predict(val_sentences)\n",
    "model_6_pretrained_preds = tf.squeeze(tf.round(model_6_pretrained_pred_probs))\n",
    "model_6_pretrained_results = calculate_results(val_labels,model_6_pretrained_preds)\n",
    "model_6_pretrained_results"
   ]
  },
  {
   "cell_type": "code",
   "execution_count": 86,
   "metadata": {},
   "outputs": [
    {
     "data": {
      "text/html": [
       "<div>\n",
       "<style scoped>\n",
       "    .dataframe tbody tr th:only-of-type {\n",
       "        vertical-align: middle;\n",
       "    }\n",
       "\n",
       "    .dataframe tbody tr th {\n",
       "        vertical-align: top;\n",
       "    }\n",
       "\n",
       "    .dataframe thead th {\n",
       "        text-align: right;\n",
       "    }\n",
       "</style>\n",
       "<table border=\"1\" class=\"dataframe\">\n",
       "  <thead>\n",
       "    <tr style=\"text-align: right;\">\n",
       "      <th></th>\n",
       "      <th>test</th>\n",
       "      <th>target</th>\n",
       "      <th>prediction</th>\n",
       "      <th>pred_probs</th>\n",
       "    </tr>\n",
       "  </thead>\n",
       "  <tbody>\n",
       "    <tr>\n",
       "      <th>0</th>\n",
       "      <td>DFR EP016 Monthly Meltdown - On Dnbheaven 2015...</td>\n",
       "      <td>0</td>\n",
       "      <td>0.0</td>\n",
       "      <td>0.159811</td>\n",
       "    </tr>\n",
       "    <tr>\n",
       "      <th>1</th>\n",
       "      <td>FedEx no longer to transport bioterror germs i...</td>\n",
       "      <td>0</td>\n",
       "      <td>1.0</td>\n",
       "      <td>0.747274</td>\n",
       "    </tr>\n",
       "    <tr>\n",
       "      <th>2</th>\n",
       "      <td>Gunmen kill four in El Salvador bus attack: Su...</td>\n",
       "      <td>1</td>\n",
       "      <td>1.0</td>\n",
       "      <td>0.988756</td>\n",
       "    </tr>\n",
       "    <tr>\n",
       "      <th>3</th>\n",
       "      <td>@camilacabello97 Internally and externally scr...</td>\n",
       "      <td>1</td>\n",
       "      <td>0.0</td>\n",
       "      <td>0.196263</td>\n",
       "    </tr>\n",
       "    <tr>\n",
       "      <th>4</th>\n",
       "      <td>Radiation emergency #preparedness starts with ...</td>\n",
       "      <td>1</td>\n",
       "      <td>1.0</td>\n",
       "      <td>0.707678</td>\n",
       "    </tr>\n",
       "    <tr>\n",
       "      <th>...</th>\n",
       "      <td>...</td>\n",
       "      <td>...</td>\n",
       "      <td>...</td>\n",
       "      <td>...</td>\n",
       "    </tr>\n",
       "    <tr>\n",
       "      <th>757</th>\n",
       "      <td>That's the ultimate road to destruction</td>\n",
       "      <td>0</td>\n",
       "      <td>0.0</td>\n",
       "      <td>0.137089</td>\n",
       "    </tr>\n",
       "    <tr>\n",
       "      <th>758</th>\n",
       "      <td>@SetZorah dad why dont you claim me that mean ...</td>\n",
       "      <td>0</td>\n",
       "      <td>0.0</td>\n",
       "      <td>0.095921</td>\n",
       "    </tr>\n",
       "    <tr>\n",
       "      <th>759</th>\n",
       "      <td>FedEx will no longer transport bioterror patho...</td>\n",
       "      <td>0</td>\n",
       "      <td>1.0</td>\n",
       "      <td>0.876961</td>\n",
       "    </tr>\n",
       "    <tr>\n",
       "      <th>760</th>\n",
       "      <td>Crack in the path where I wiped out this morni...</td>\n",
       "      <td>0</td>\n",
       "      <td>1.0</td>\n",
       "      <td>0.612693</td>\n",
       "    </tr>\n",
       "    <tr>\n",
       "      <th>761</th>\n",
       "      <td>I liked a @YouTube video from @dannyonpc http:...</td>\n",
       "      <td>0</td>\n",
       "      <td>0.0</td>\n",
       "      <td>0.118023</td>\n",
       "    </tr>\n",
       "  </tbody>\n",
       "</table>\n",
       "<p>762 rows × 4 columns</p>\n",
       "</div>"
      ],
      "text/plain": [
       "                                                  test  target  prediction  \\\n",
       "0    DFR EP016 Monthly Meltdown - On Dnbheaven 2015...       0         0.0   \n",
       "1    FedEx no longer to transport bioterror germs i...       0         1.0   \n",
       "2    Gunmen kill four in El Salvador bus attack: Su...       1         1.0   \n",
       "3    @camilacabello97 Internally and externally scr...       1         0.0   \n",
       "4    Radiation emergency #preparedness starts with ...       1         1.0   \n",
       "..                                                 ...     ...         ...   \n",
       "757            That's the ultimate road to destruction       0         0.0   \n",
       "758  @SetZorah dad why dont you claim me that mean ...       0         0.0   \n",
       "759  FedEx will no longer transport bioterror patho...       0         1.0   \n",
       "760  Crack in the path where I wiped out this morni...       0         1.0   \n",
       "761  I liked a @YouTube video from @dannyonpc http:...       0         0.0   \n",
       "\n",
       "     pred_probs  \n",
       "0      0.159811  \n",
       "1      0.747274  \n",
       "2      0.988756  \n",
       "3      0.196263  \n",
       "4      0.707678  \n",
       "..          ...  \n",
       "757    0.137089  \n",
       "758    0.095921  \n",
       "759    0.876961  \n",
       "760    0.612693  \n",
       "761    0.118023  \n",
       "\n",
       "[762 rows x 4 columns]"
      ]
     },
     "execution_count": 86,
     "metadata": {},
     "output_type": "execute_result"
    }
   ],
   "source": [
    "val_df = pd.DataFrame({\"test\": val_sentences,\n",
    "                        \"target\":val_labels,\n",
    "                        \"prediction\":model_6_pretrained_preds,\n",
    "                        \"pred_probs\":tf.squeeze(model_6_pretrained_pred_probs)})\n",
    "val_df"
   ]
  },
  {
   "cell_type": "code",
   "execution_count": 87,
   "metadata": {},
   "outputs": [],
   "source": [
    "# Find the wrong predictions and sort by prediction probability\n",
    "most_wrong = val_df[val_df[\"target\"]!=val_df[\"prediction\"]].sort_values(by=\"pred_probs\",ascending=False)"
   ]
  },
  {
   "cell_type": "code",
   "execution_count": 88,
   "metadata": {},
   "outputs": [
    {
     "data": {
      "text/html": [
       "<div>\n",
       "<style scoped>\n",
       "    .dataframe tbody tr th:only-of-type {\n",
       "        vertical-align: middle;\n",
       "    }\n",
       "\n",
       "    .dataframe tbody tr th {\n",
       "        vertical-align: top;\n",
       "    }\n",
       "\n",
       "    .dataframe thead th {\n",
       "        text-align: right;\n",
       "    }\n",
       "</style>\n",
       "<table border=\"1\" class=\"dataframe\">\n",
       "  <thead>\n",
       "    <tr style=\"text-align: right;\">\n",
       "      <th></th>\n",
       "      <th>test</th>\n",
       "      <th>target</th>\n",
       "      <th>prediction</th>\n",
       "      <th>pred_probs</th>\n",
       "    </tr>\n",
       "  </thead>\n",
       "  <tbody>\n",
       "    <tr>\n",
       "      <th>31</th>\n",
       "      <td>? High Skies - Burning Buildings ? http://t.co...</td>\n",
       "      <td>0</td>\n",
       "      <td>1.0</td>\n",
       "      <td>0.910273</td>\n",
       "    </tr>\n",
       "    <tr>\n",
       "      <th>759</th>\n",
       "      <td>FedEx will no longer transport bioterror patho...</td>\n",
       "      <td>0</td>\n",
       "      <td>1.0</td>\n",
       "      <td>0.876961</td>\n",
       "    </tr>\n",
       "    <tr>\n",
       "      <th>628</th>\n",
       "      <td>@noah_anyname That's where the concentration c...</td>\n",
       "      <td>0</td>\n",
       "      <td>1.0</td>\n",
       "      <td>0.852338</td>\n",
       "    </tr>\n",
       "    <tr>\n",
       "      <th>209</th>\n",
       "      <td>Ashes 2015: AustraliaÛªs collapse at Trent Br...</td>\n",
       "      <td>0</td>\n",
       "      <td>1.0</td>\n",
       "      <td>0.835610</td>\n",
       "    </tr>\n",
       "    <tr>\n",
       "      <th>251</th>\n",
       "      <td>@AshGhebranious civil rights continued in the ...</td>\n",
       "      <td>0</td>\n",
       "      <td>1.0</td>\n",
       "      <td>0.827305</td>\n",
       "    </tr>\n",
       "    <tr>\n",
       "      <th>393</th>\n",
       "      <td>@SonofLiberty357 all illuminated by the bright...</td>\n",
       "      <td>0</td>\n",
       "      <td>1.0</td>\n",
       "      <td>0.814792</td>\n",
       "    </tr>\n",
       "    <tr>\n",
       "      <th>109</th>\n",
       "      <td>[55436] 1950 LIONEL TRAINS SMOKE LOCOMOTIVES W...</td>\n",
       "      <td>0</td>\n",
       "      <td>1.0</td>\n",
       "      <td>0.811065</td>\n",
       "    </tr>\n",
       "    <tr>\n",
       "      <th>49</th>\n",
       "      <td>@madonnamking RSPCA site multiple 7 story high...</td>\n",
       "      <td>0</td>\n",
       "      <td>1.0</td>\n",
       "      <td>0.803137</td>\n",
       "    </tr>\n",
       "    <tr>\n",
       "      <th>119</th>\n",
       "      <td>@freefromwolves GodsLove &amp;amp; #thankU brother...</td>\n",
       "      <td>0</td>\n",
       "      <td>1.0</td>\n",
       "      <td>0.766989</td>\n",
       "    </tr>\n",
       "    <tr>\n",
       "      <th>344</th>\n",
       "      <td>Air Group is here to the rescue! We have 24/7 ...</td>\n",
       "      <td>0</td>\n",
       "      <td>1.0</td>\n",
       "      <td>0.766891</td>\n",
       "    </tr>\n",
       "  </tbody>\n",
       "</table>\n",
       "</div>"
      ],
      "text/plain": [
       "                                                  test  target  prediction  \\\n",
       "31   ? High Skies - Burning Buildings ? http://t.co...       0         1.0   \n",
       "759  FedEx will no longer transport bioterror patho...       0         1.0   \n",
       "628  @noah_anyname That's where the concentration c...       0         1.0   \n",
       "209  Ashes 2015: AustraliaÛªs collapse at Trent Br...       0         1.0   \n",
       "251  @AshGhebranious civil rights continued in the ...       0         1.0   \n",
       "393  @SonofLiberty357 all illuminated by the bright...       0         1.0   \n",
       "109  [55436] 1950 LIONEL TRAINS SMOKE LOCOMOTIVES W...       0         1.0   \n",
       "49   @madonnamking RSPCA site multiple 7 story high...       0         1.0   \n",
       "119  @freefromwolves GodsLove &amp; #thankU brother...       0         1.0   \n",
       "344  Air Group is here to the rescue! We have 24/7 ...       0         1.0   \n",
       "\n",
       "     pred_probs  \n",
       "31     0.910273  \n",
       "759    0.876961  \n",
       "628    0.852338  \n",
       "209    0.835610  \n",
       "251    0.827305  \n",
       "393    0.814792  \n",
       "109    0.811065  \n",
       "49     0.803137  \n",
       "119    0.766989  \n",
       "344    0.766891  "
      ]
     },
     "execution_count": 88,
     "metadata": {},
     "output_type": "execute_result"
    }
   ],
   "source": [
    "most_wrong.head(10)"
   ]
  },
  {
   "cell_type": "code",
   "execution_count": 89,
   "metadata": {},
   "outputs": [
    {
     "data": {
      "text/html": [
       "<div>\n",
       "<style scoped>\n",
       "    .dataframe tbody tr th:only-of-type {\n",
       "        vertical-align: middle;\n",
       "    }\n",
       "\n",
       "    .dataframe tbody tr th {\n",
       "        vertical-align: top;\n",
       "    }\n",
       "\n",
       "    .dataframe thead th {\n",
       "        text-align: right;\n",
       "    }\n",
       "</style>\n",
       "<table border=\"1\" class=\"dataframe\">\n",
       "  <thead>\n",
       "    <tr style=\"text-align: right;\">\n",
       "      <th></th>\n",
       "      <th>test</th>\n",
       "      <th>target</th>\n",
       "      <th>prediction</th>\n",
       "      <th>pred_probs</th>\n",
       "    </tr>\n",
       "  </thead>\n",
       "  <tbody>\n",
       "    <tr>\n",
       "      <th>536</th>\n",
       "      <td>@DavidVonderhaar At least you were sincere ??</td>\n",
       "      <td>1</td>\n",
       "      <td>0.0</td>\n",
       "      <td>0.067323</td>\n",
       "    </tr>\n",
       "    <tr>\n",
       "      <th>408</th>\n",
       "      <td>@willienelson We need help! Horses will die!Pl...</td>\n",
       "      <td>1</td>\n",
       "      <td>0.0</td>\n",
       "      <td>0.055051</td>\n",
       "    </tr>\n",
       "    <tr>\n",
       "      <th>294</th>\n",
       "      <td>Lucas Duda is Ghost Rider. Not the Nic Cage ve...</td>\n",
       "      <td>1</td>\n",
       "      <td>0.0</td>\n",
       "      <td>0.054614</td>\n",
       "    </tr>\n",
       "    <tr>\n",
       "      <th>221</th>\n",
       "      <td>going to redo my nails and watch behind the sc...</td>\n",
       "      <td>1</td>\n",
       "      <td>0.0</td>\n",
       "      <td>0.054610</td>\n",
       "    </tr>\n",
       "    <tr>\n",
       "      <th>59</th>\n",
       "      <td>You can never escape me. Bullets don't harm me...</td>\n",
       "      <td>1</td>\n",
       "      <td>0.0</td>\n",
       "      <td>0.049626</td>\n",
       "    </tr>\n",
       "    <tr>\n",
       "      <th>411</th>\n",
       "      <td>@SoonerMagic_ I mean I'm a fan but I don't nee...</td>\n",
       "      <td>1</td>\n",
       "      <td>0.0</td>\n",
       "      <td>0.043936</td>\n",
       "    </tr>\n",
       "    <tr>\n",
       "      <th>233</th>\n",
       "      <td>I get to smoke my shit in peace</td>\n",
       "      <td>1</td>\n",
       "      <td>0.0</td>\n",
       "      <td>0.042156</td>\n",
       "    </tr>\n",
       "    <tr>\n",
       "      <th>38</th>\n",
       "      <td>Why are you deluged with low self-image? Take ...</td>\n",
       "      <td>1</td>\n",
       "      <td>0.0</td>\n",
       "      <td>0.039018</td>\n",
       "    </tr>\n",
       "    <tr>\n",
       "      <th>244</th>\n",
       "      <td>Reddit Will Now QuarantineÛ_ http://t.co/pkUA...</td>\n",
       "      <td>1</td>\n",
       "      <td>0.0</td>\n",
       "      <td>0.038970</td>\n",
       "    </tr>\n",
       "    <tr>\n",
       "      <th>23</th>\n",
       "      <td>Ron &amp;amp; Fez - Dave's High School Crush https...</td>\n",
       "      <td>1</td>\n",
       "      <td>0.0</td>\n",
       "      <td>0.037174</td>\n",
       "    </tr>\n",
       "  </tbody>\n",
       "</table>\n",
       "</div>"
      ],
      "text/plain": [
       "                                                  test  target  prediction  \\\n",
       "536      @DavidVonderhaar At least you were sincere ??       1         0.0   \n",
       "408  @willienelson We need help! Horses will die!Pl...       1         0.0   \n",
       "294  Lucas Duda is Ghost Rider. Not the Nic Cage ve...       1         0.0   \n",
       "221  going to redo my nails and watch behind the sc...       1         0.0   \n",
       "59   You can never escape me. Bullets don't harm me...       1         0.0   \n",
       "411  @SoonerMagic_ I mean I'm a fan but I don't nee...       1         0.0   \n",
       "233                    I get to smoke my shit in peace       1         0.0   \n",
       "38   Why are you deluged with low self-image? Take ...       1         0.0   \n",
       "244  Reddit Will Now QuarantineÛ_ http://t.co/pkUA...       1         0.0   \n",
       "23   Ron &amp; Fez - Dave's High School Crush https...       1         0.0   \n",
       "\n",
       "     pred_probs  \n",
       "536    0.067323  \n",
       "408    0.055051  \n",
       "294    0.054614  \n",
       "221    0.054610  \n",
       "59     0.049626  \n",
       "411    0.043936  \n",
       "233    0.042156  \n",
       "38     0.039018  \n",
       "244    0.038970  \n",
       "23     0.037174  "
      ]
     },
     "execution_count": 89,
     "metadata": {},
     "output_type": "execute_result"
    }
   ],
   "source": [
    "most_wrong.tail(10)"
   ]
  },
  {
   "cell_type": "code",
   "execution_count": 90,
   "metadata": {},
   "outputs": [
    {
     "name": "stdout",
     "output_type": "stream",
     "text": [
      "Target: 0, Pred: 1.0, Prob: 0.9102733731269836\n",
      "Text :\n",
      " ? High Skies - Burning Buildings ? http://t.co/uVq41i3Kx2 #nowplaying\n",
      "\n",
      "-------------------\n",
      "\n",
      "Target: 0, Pred: 1.0, Prob: 0.8769606947898865\n",
      "Text :\n",
      " FedEx will no longer transport bioterror pathogens in wake of anthrax lab mishaps http://t.co/lHpgxc4b8J\n",
      "\n",
      "-------------------\n",
      "\n",
      "Target: 0, Pred: 1.0, Prob: 0.8523378968238831\n",
      "Text :\n",
      " @noah_anyname That's where the concentration camps and mass murder come in. \n",
      " \n",
      "EVERY. FUCKING. TIME.\n",
      "\n",
      "-------------------\n",
      "\n",
      "Target: 0, Pred: 1.0, Prob: 0.8356100916862488\n",
      "Text :\n",
      " Ashes 2015: AustraliaÛªs collapse at Trent Bridge among worst in history: England bundled out Australia for 60 ... http://t.co/t5TrhjUAU0\n",
      "\n",
      "-------------------\n",
      "\n",
      "Target: 0, Pred: 1.0, Prob: 0.8273046612739563\n",
      "Text :\n",
      " @AshGhebranious civil rights continued in the 60s. And what about trans-generational trauma? if anything we should listen to the Americans.\n",
      "\n",
      "-------------------\n",
      "\n"
     ]
    }
   ],
   "source": [
    "# Check the false poitives (predicted true but actually it is false)\n",
    "for row in most_wrong[:5].itertuples():\n",
    "    _, text,target,pred,pred_prob = row\n",
    "    print(f\"Target: {target}, Pred: {pred}, Prob: {pred_prob}\")\n",
    "    print(f\"Text :\\n {text}\\n\")\n",
    "    print(\"-------------------\\n\")"
   ]
  },
  {
   "cell_type": "code",
   "execution_count": 91,
   "metadata": {},
   "outputs": [
    {
     "name": "stdout",
     "output_type": "stream",
     "text": [
      "Target: 1, Pred: 0.0, Prob: 0.04393625259399414\n",
      "Text :\n",
      " @SoonerMagic_ I mean I'm a fan but I don't need a girl sounding off like a damn siren\n",
      "\n",
      "-------------------\n",
      "\n",
      "Target: 1, Pred: 0.0, Prob: 0.04215620085597038\n",
      "Text :\n",
      " I get to smoke my shit in peace\n",
      "\n",
      "-------------------\n",
      "\n",
      "Target: 1, Pred: 0.0, Prob: 0.03901844844222069\n",
      "Text :\n",
      " Why are you deluged with low self-image? Take the quiz: http://t.co/XsPqdOrIqj http://t.co/CQYvFR4UCy\n",
      "\n",
      "-------------------\n",
      "\n",
      "Target: 1, Pred: 0.0, Prob: 0.038970060646533966\n",
      "Text :\n",
      " Reddit Will Now QuarantineÛ_ http://t.co/pkUAMXw6pm #onlinecommunities #reddit #amageddon #freespeech #Business http://t.co/PAWvNJ4sAP\n",
      "\n",
      "-------------------\n",
      "\n",
      "Target: 1, Pred: 0.0, Prob: 0.037174176424741745\n",
      "Text :\n",
      " Ron &amp; Fez - Dave's High School Crush https://t.co/aN3W16c8F6 via @YouTube\n",
      "\n",
      "-------------------\n",
      "\n"
     ]
    }
   ],
   "source": [
    "# Check the false negatives (predicted false but actually it is true)\n",
    "for row in most_wrong[-5:].itertuples():\n",
    "    _, text,target,pred,pred_prob = row\n",
    "    print(f\"Target: {target}, Pred: {pred}, Prob: {pred_prob}\")\n",
    "    print(f\"Text :\\n {text}\\n\")\n",
    "    print(\"-------------------\\n\")"
   ]
  },
  {
   "cell_type": "code",
   "execution_count": 92,
   "metadata": {},
   "outputs": [
    {
     "data": {
      "text/html": [
       "<div>\n",
       "<style scoped>\n",
       "    .dataframe tbody tr th:only-of-type {\n",
       "        vertical-align: middle;\n",
       "    }\n",
       "\n",
       "    .dataframe tbody tr th {\n",
       "        vertical-align: top;\n",
       "    }\n",
       "\n",
       "    .dataframe thead th {\n",
       "        text-align: right;\n",
       "    }\n",
       "</style>\n",
       "<table border=\"1\" class=\"dataframe\">\n",
       "  <thead>\n",
       "    <tr style=\"text-align: right;\">\n",
       "      <th></th>\n",
       "      <th>id</th>\n",
       "      <th>keyword</th>\n",
       "      <th>location</th>\n",
       "      <th>text</th>\n",
       "    </tr>\n",
       "  </thead>\n",
       "  <tbody>\n",
       "    <tr>\n",
       "      <th>0</th>\n",
       "      <td>0</td>\n",
       "      <td>NaN</td>\n",
       "      <td>NaN</td>\n",
       "      <td>Just happened a terrible car crash</td>\n",
       "    </tr>\n",
       "    <tr>\n",
       "      <th>1</th>\n",
       "      <td>2</td>\n",
       "      <td>NaN</td>\n",
       "      <td>NaN</td>\n",
       "      <td>Heard about #earthquake is different cities, s...</td>\n",
       "    </tr>\n",
       "    <tr>\n",
       "      <th>2</th>\n",
       "      <td>3</td>\n",
       "      <td>NaN</td>\n",
       "      <td>NaN</td>\n",
       "      <td>there is a forest fire at spot pond, geese are...</td>\n",
       "    </tr>\n",
       "    <tr>\n",
       "      <th>3</th>\n",
       "      <td>9</td>\n",
       "      <td>NaN</td>\n",
       "      <td>NaN</td>\n",
       "      <td>Apocalypse lighting. #Spokane #wildfires</td>\n",
       "    </tr>\n",
       "    <tr>\n",
       "      <th>4</th>\n",
       "      <td>11</td>\n",
       "      <td>NaN</td>\n",
       "      <td>NaN</td>\n",
       "      <td>Typhoon Soudelor kills 28 in China and Taiwan</td>\n",
       "    </tr>\n",
       "    <tr>\n",
       "      <th>...</th>\n",
       "      <td>...</td>\n",
       "      <td>...</td>\n",
       "      <td>...</td>\n",
       "      <td>...</td>\n",
       "    </tr>\n",
       "    <tr>\n",
       "      <th>3258</th>\n",
       "      <td>10861</td>\n",
       "      <td>NaN</td>\n",
       "      <td>NaN</td>\n",
       "      <td>EARTHQUAKE SAFETY LOS ANGELES ÛÒ SAFETY FASTE...</td>\n",
       "    </tr>\n",
       "    <tr>\n",
       "      <th>3259</th>\n",
       "      <td>10865</td>\n",
       "      <td>NaN</td>\n",
       "      <td>NaN</td>\n",
       "      <td>Storm in RI worse than last hurricane. My city...</td>\n",
       "    </tr>\n",
       "    <tr>\n",
       "      <th>3260</th>\n",
       "      <td>10868</td>\n",
       "      <td>NaN</td>\n",
       "      <td>NaN</td>\n",
       "      <td>Green Line derailment in Chicago http://t.co/U...</td>\n",
       "    </tr>\n",
       "    <tr>\n",
       "      <th>3261</th>\n",
       "      <td>10874</td>\n",
       "      <td>NaN</td>\n",
       "      <td>NaN</td>\n",
       "      <td>MEG issues Hazardous Weather Outlook (HWO) htt...</td>\n",
       "    </tr>\n",
       "    <tr>\n",
       "      <th>3262</th>\n",
       "      <td>10875</td>\n",
       "      <td>NaN</td>\n",
       "      <td>NaN</td>\n",
       "      <td>#CityofCalgary has activated its Municipal Eme...</td>\n",
       "    </tr>\n",
       "  </tbody>\n",
       "</table>\n",
       "<p>3263 rows × 4 columns</p>\n",
       "</div>"
      ],
      "text/plain": [
       "         id keyword location  \\\n",
       "0         0     NaN      NaN   \n",
       "1         2     NaN      NaN   \n",
       "2         3     NaN      NaN   \n",
       "3         9     NaN      NaN   \n",
       "4        11     NaN      NaN   \n",
       "...     ...     ...      ...   \n",
       "3258  10861     NaN      NaN   \n",
       "3259  10865     NaN      NaN   \n",
       "3260  10868     NaN      NaN   \n",
       "3261  10874     NaN      NaN   \n",
       "3262  10875     NaN      NaN   \n",
       "\n",
       "                                                   text  \n",
       "0                    Just happened a terrible car crash  \n",
       "1     Heard about #earthquake is different cities, s...  \n",
       "2     there is a forest fire at spot pond, geese are...  \n",
       "3              Apocalypse lighting. #Spokane #wildfires  \n",
       "4         Typhoon Soudelor kills 28 in China and Taiwan  \n",
       "...                                                 ...  \n",
       "3258  EARTHQUAKE SAFETY LOS ANGELES ÛÒ SAFETY FASTE...  \n",
       "3259  Storm in RI worse than last hurricane. My city...  \n",
       "3260  Green Line derailment in Chicago http://t.co/U...  \n",
       "3261  MEG issues Hazardous Weather Outlook (HWO) htt...  \n",
       "3262  #CityofCalgary has activated its Municipal Eme...  \n",
       "\n",
       "[3263 rows x 4 columns]"
      ]
     },
     "execution_count": 92,
     "metadata": {},
     "output_type": "execute_result"
    }
   ],
   "source": [
    "test_df"
   ]
  },
  {
   "cell_type": "markdown",
   "metadata": {},
   "source": [
    "### Making predictions of test dataset"
   ]
  },
  {
   "cell_type": "code",
   "execution_count": 93,
   "metadata": {},
   "outputs": [
    {
     "name": "stdout",
     "output_type": "stream",
     "text": [
      "Pred: 1, Prob: 0.9332718849182129\n",
      "Text: \n",
      "#gaming Learning from the Legacy of a Catastrophic Eruption: fifteen-mile-high plume of ash . The eruption wh... http://t.co/sv5KBP1FmO\n",
      "\n",
      "--------------------------\n",
      "\n",
      "Pred: 0, Prob: 0.190580353140831\n",
      "Text: \n",
      "@szuniverse No threat of that sir... For some reason my Internet connection has slowed way down...\n",
      "\n",
      "--------------------------\n",
      "\n",
      "Pred: 1, Prob: 0.9899581074714661\n",
      "Text: \n",
      "13000 evacuated as California firefighters fight flames to save homes: CLEARLAKE OAKS Calif. ÛÓ Wildfires lik... http://t.co/xwBYeaOWMw\n",
      "\n",
      "--------------------------\n",
      "\n",
      "Pred: 0, Prob: 0.14263466000556946\n",
      "Text: \n",
      "Most Popular Content Top story: Barrel Bombs Not ISIS Are the Greatest ThreatÛ_ http://t.co/c8YYUWmefG see more http://t.co/BsMz4qlLBN\n",
      "\n",
      "--------------------------\n",
      "\n",
      "Pred: 0, Prob: 0.1523708701133728\n",
      "Text: \n",
      "PSA: MISTI IS ABOUT TO MAKE LAVA CAKE???? #bestdayeva\n",
      "\n",
      "--------------------------\n",
      "\n"
     ]
    }
   ],
   "source": [
    "test_sentences = test_df[\"text\"].to_list()\n",
    "test_samples = random.sample(test_sentences,5)\n",
    "for x in test_samples:\n",
    "    pred_probs = tf.squeeze(model_6_pretrained.predict([x]))\n",
    "    pred = (tf.round(pred_probs))\n",
    "    print(f\"Pred: {int(pred)}, Prob: {pred_probs}\")\n",
    "    print(f\"Text: \\n{x}\\n\")\n",
    "    print(\"--------------------------\\n\")"
   ]
  },
  {
   "cell_type": "markdown",
   "metadata": {},
   "source": [
    "## The speed/score tradeoff"
   ]
  },
  {
   "cell_type": "code",
   "execution_count": 94,
   "metadata": {},
   "outputs": [
    {
     "data": {
      "text/plain": [
       "{'accuracy': 79.26509186351706,\n",
       " 'precision': 0.8111390004213173,\n",
       " 'recall': 0.7926509186351706,\n",
       " 'f1': 0.7862189758049549}"
      ]
     },
     "execution_count": 94,
     "metadata": {},
     "output_type": "execute_result"
    }
   ],
   "source": [
    "baseline_results"
   ]
  },
  {
   "cell_type": "code",
   "execution_count": 95,
   "metadata": {},
   "outputs": [
    {
     "data": {
      "text/plain": [
       "{'accuracy': 81.62729658792651,\n",
       " 'precision': 0.818446310697231,\n",
       " 'recall': 0.8162729658792651,\n",
       " 'f1': 0.8148082644367335}"
      ]
     },
     "execution_count": 95,
     "metadata": {},
     "output_type": "execute_result"
    }
   ],
   "source": [
    "model_6_pretrained_results"
   ]
  },
  {
   "cell_type": "code",
   "execution_count": 96,
   "metadata": {},
   "outputs": [],
   "source": [
    "# Create a function to measure time of prediction\n",
    "import time\n",
    "def pred_time(model,samples):\n",
    "    start = time.perf_counter()\n",
    "    model.predict(samples)\n",
    "    stop = time.perf_counter()\n",
    "    total_time = stop-start\n",
    "    time_per_pred = total_time/len(samples)\n",
    "    return total_time,time_per_pred"
   ]
  },
  {
   "cell_type": "code",
   "execution_count": 97,
   "metadata": {},
   "outputs": [
    {
     "data": {
      "text/plain": [
       "(0.09416775099816732, 0.00012357972571937968)"
      ]
     },
     "execution_count": 97,
     "metadata": {},
     "output_type": "execute_result"
    }
   ],
   "source": [
    "model_6_pretrained_time = pred_time(model_6_pretrained,val_sentences)\n",
    "model_6_pretrained_time"
   ]
  },
  {
   "cell_type": "code",
   "execution_count": 98,
   "metadata": {},
   "outputs": [
    {
     "data": {
      "text/plain": [
       "(0.019516833002853673, 2.561264173602844e-05)"
      ]
     },
     "execution_count": 98,
     "metadata": {},
     "output_type": "execute_result"
    }
   ],
   "source": [
    "baseline_time = pred_time(model_0,val_sentences)\n",
    "baseline_time"
   ]
  },
  {
   "cell_type": "code",
   "execution_count": 99,
   "metadata": {},
   "outputs": [
    {
     "data": {
      "text/plain": [
       "{'accuracy': 81.62729658792651,\n",
       " 'precision': 0.818446310697231,\n",
       " 'recall': 0.8162729658792651,\n",
       " 'f1': 0.8148082644367335}"
      ]
     },
     "execution_count": 99,
     "metadata": {},
     "output_type": "execute_result"
    }
   ],
   "source": [
    "model_6_pretrained_results"
   ]
  },
  {
   "cell_type": "code",
   "execution_count": 100,
   "metadata": {},
   "outputs": [
    {
     "data": {
      "text/plain": [
       "Text(0.5, 1.0, 'F1-Score versus time per prediction')"
      ]
     },
     "execution_count": 100,
     "metadata": {},
     "output_type": "execute_result"
    },
    {
     "data": {
      "image/png": "[encoded data removed]",
      "text/plain": [
       "<Figure size 700x400 with 1 Axes>"
      ]
     },
     "metadata": {},
     "output_type": "display_data"
    }
   ],
   "source": [
    "import matplotlib.pyplot as plt\n",
    "plt.figure(figsize=(7,4))\n",
    "plt.scatter(baseline_time[1],baseline_results[\"f1\"],label=\"baseline\")\n",
    "plt.scatter(model_6_pretrained_time[1], model_6_pretrained_results[\"f1\"],label=\"TfHubSentenceEncoder\")\n",
    "plt.legend()\n",
    "plt.ylabel(\"F1 score\")\n",
    "plt.xlabel(\"Time per prediction\")\n",
    "plt.title(\"F1-Score versus time per prediction\")"
   ]
  },
  {
   "cell_type": "markdown",
   "metadata": {},
   "source": [
    "# Exercise"
   ]
  },
  {
   "cell_type": "code",
   "execution_count": 101,
   "metadata": {},
   "outputs": [],
   "source": [
    "#Rebuild, compile and train model_1, model_2 and model_5 using the Keras Sequential API \n",
    "#instead of the Functional API."
   ]
  }
 ],
 "metadata": {
  "accelerator": "GPU",
  "colab": {
   "gpuType": "T4",
   "provenance": []
  },
  "kernelspec": {
   "display_name": "Python 3 (ipykernel)",
   "language": "python",
   "name": "python3"
  },
  "language_info": {
   "codemirror_mode": {
    "name": "ipython",
    "version": 3
   },
   "file_extension": ".py",
   "mimetype": "text/x-python",
   "name": "python",
   "nbconvert_exporter": "python",
   "pygments_lexer": "ipython3",
   "version": "3.8.16"
  }
 },
 "nbformat": 4,
 "nbformat_minor": 4
}
