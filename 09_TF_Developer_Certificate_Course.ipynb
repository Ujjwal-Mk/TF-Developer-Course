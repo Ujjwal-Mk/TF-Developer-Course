{
 "cells": [
  {
   "cell_type": "code",
   "execution_count": 1,
   "id": "c72981f1-e1e7-4bd1-b793-9f1d948a97db",
   "metadata": {
    "colab": {
     "base_uri": "https://localhost:8080/"
    },
    "id": "c72981f1-e1e7-4bd1-b793-9f1d948a97db",
    "outputId": "e685eac2-1885-4741-831a-206f3b9eed3e"
   },
   "outputs": [
    {
     "name": "stdout",
     "output_type": "stream",
     "text": [
      "[INFO] 'helper_functions.py' already exists, skipping download.\n",
      "Tensorflow version : 2.15.0\n",
      "1 Physical GPU(s), 1 Logical GPU(s)\n",
      "INFO:tensorflow:Mixed precision compatibility check (mixed_float16): OK\n",
      "Your GPU will likely run quickly with dtype policy mixed_float16 as it has compute capability of at least 7.0. Your GPU: NVIDIA GeForce RTX 3050 Laptop GPU, compute capability 8.6\n",
      "Mixed precsion policy : <Policy \"mixed_float16\">\n"
     ]
    }
   ],
   "source": [
    "import os\n",
    "os.environ['TF_CPP_MIN_LOG_LEVEL'] = '3'\n",
    "os.environ[\"KMP_DUPLICATE_LIB_OK\"]=\"TRUE\"\n",
    "import tensorflow as tf\n",
    "if not os.path.exists(\"helper_functions.py\"):\n",
    "  !wget https://raw.githubusercontent.com/mrdbourke/tensorflow-deep-learning/main/extras/helper_functions.py\n",
    "else:\n",
    "  print(\"[INFO] 'helper_functions.py' already exists, skipping download.\")\n",
    "from helper_functions import *\n",
    "# from tensorflow.keras import mixed_precision\n",
    "# mixed_precision.set_global_policy('mixed_float16')\n",
    "importTensorflow(memory=4000, precision=True)"
   ]
  },
  {
   "cell_type": "markdown",
   "id": "3117852a-2e2b-4fc5-8ae6-00444ca94e90",
   "metadata": {
    "id": "3117852a-2e2b-4fc5-8ae6-00444ca94e90"
   },
   "source": [
    "### Convert harder to read text into neatly classified texts(ex: research paper divided nicely into intro, backgtround, conclusion, etc)\n",
    "It is a many to one RNN architecture based problem"
   ]
  },
  {
   "cell_type": "markdown",
   "id": "936eafeb-3d11-4dba-85e9-561307b79420",
   "metadata": {
    "id": "936eafeb-3d11-4dba-85e9-561307b79420"
   },
   "source": [
    "# SKIMLIT : Milestone Project"
   ]
  },
  {
   "cell_type": "markdown",
   "id": "7b0f4759-c644-4b86-8158-a49cce4fbb7c",
   "metadata": {
    "id": "7b0f4759-c644-4b86-8158-a49cce4fbb7c"
   },
   "source": [
    "#### Get the data"
   ]
  },
  {
   "cell_type": "code",
   "execution_count": 2,
   "id": "65fd93a3-69d9-4509-8beb-2a7a28af9a37",
   "metadata": {
    "colab": {
     "base_uri": "https://localhost:8080/"
    },
    "id": "65fd93a3-69d9-4509-8beb-2a7a28af9a37",
    "outputId": "c6486d76-67a7-4d16-859e-f94312cb7079"
   },
   "outputs": [
    {
     "name": "stdout",
     "output_type": "stream",
     "text": [
      "PubMed_200k_RCT\n",
      "PubMed_200k_RCT_numbers_replaced_with_at_sign\n",
      "PubMed_20k_RCT\n",
      "PubMed_20k_RCT_numbers_replaced_with_at_sign\n",
      "README.md\n"
     ]
    }
   ],
   "source": [
    "if not os.path.exists(\"pubmed_rct\"):\n",
    "    !git clone https://github.com/Franck-Dernoncourt/pubmed-rct.git\n",
    "    !mv 'pubmed-rct' pubmed_rct\n",
    "!ls ./pubmed_rct"
   ]
  },
  {
   "cell_type": "markdown",
   "id": "07e405cf-89e9-4a43-b50e-235a5b8587a9",
   "metadata": {
    "id": "07e405cf-89e9-4a43-b50e-235a5b8587a9"
   },
   "source": [
    "#### Work on pubmed-20k now and scale it later"
   ]
  },
  {
   "cell_type": "code",
   "execution_count": 3,
   "id": "611da2fb-5c86-4488-b029-2bef217e638c",
   "metadata": {
    "colab": {
     "base_uri": "https://localhost:8080/"
    },
    "id": "611da2fb-5c86-4488-b029-2bef217e638c",
    "outputId": "6451c2e2-9d4a-40e6-a784-d3301d452a7b"
   },
   "outputs": [
    {
     "name": "stdout",
     "output_type": "stream",
     "text": [
      "dev.txt  test.txt  train.txt\n"
     ]
    }
   ],
   "source": [
    "!ls pubmed_rct/PubMed_20k_RCT_numbers_replaced_with_at_sign/"
   ]
  },
  {
   "cell_type": "code",
   "execution_count": 4,
   "id": "b1631215-e7a5-4b50-95d1-7d570e517b1a",
   "metadata": {
    "colab": {
     "base_uri": "https://localhost:8080/"
    },
    "id": "b1631215-e7a5-4b50-95d1-7d570e517b1a",
    "outputId": "b990e9f5-f43a-47e0-8013-a866b2907a2e"
   },
   "outputs": [
    {
     "data": {
      "text/plain": [
       "['./pubmed_rct/PubMed_20k_RCT_numbers_replaced_with_at_sign/train.txt',\n",
       " './pubmed_rct/PubMed_20k_RCT_numbers_replaced_with_at_sign/dev.txt',\n",
       " './pubmed_rct/PubMed_20k_RCT_numbers_replaced_with_at_sign/test.txt']"
      ]
     },
     "execution_count": 4,
     "metadata": {},
     "output_type": "execute_result"
    }
   ],
   "source": [
    "data_dir = './pubmed_rct/PubMed_20k_RCT_numbers_replaced_with_at_sign/'\n",
    "filenames = [data_dir+filename for filename in os.listdir(data_dir)]\n",
    "filenames"
   ]
  },
  {
   "cell_type": "code",
   "execution_count": 5,
   "id": "c84f7c9e-cb36-4c8d-810b-76fb963edb06",
   "metadata": {
    "colab": {
     "base_uri": "https://localhost:8080/"
    },
    "id": "c84f7c9e-cb36-4c8d-810b-76fb963edb06",
    "outputId": "1af68c4e-49a3-45f0-eaf1-baf75f66cb15"
   },
   "outputs": [
    {
     "data": {
      "text/plain": [
       "['###24290286\\n',\n",
       " 'BACKGROUND\\tIgE sensitization to Aspergillus fumigatus and a positive sputum fungal culture result are common in patients with refractory asthma .\\n',\n",
       " 'BACKGROUND\\tIt is not clear whether these patients would benefit from antifungal treatment .\\n',\n",
       " 'OBJECTIVE\\tWe sought to determine whether a @-month course of voriconazole improved asthma-related outcomes in patients with asthma who are IgE sensitized to A fumigatus .\\n',\n",
       " 'METHODS\\tAsthmatic patients who were IgE sensitized to A fumigatus with a history of at least @ severe exacerbations in the previous @ months were treated for @ months with @ mg of voriconazole twice daily , followed by observation for @ months , in a double-blind , placebo-controlled , randomized design .\\n']"
      ]
     },
     "execution_count": 5,
     "metadata": {},
     "output_type": "execute_result"
    }
   ],
   "source": [
    "def get_lines(filepath):\n",
    "    with open(filepath, 'r') as f:\n",
    "        return f.readlines()\n",
    "get_lines(filenames[1])[:5]"
   ]
  },
  {
   "cell_type": "code",
   "execution_count": 6,
   "id": "0833a4df-d145-4cd1-84f1-eef2017ee619",
   "metadata": {
    "id": "0833a4df-d145-4cd1-84f1-eef2017ee619"
   },
   "outputs": [],
   "source": [
    "def preprocess_text_with_line_numbers(filename):\n",
    "    input_lines = get_lines(filename)\n",
    "    abstract_lines = \"\"\n",
    "    abstract_samples = []\n",
    "    for line in input_lines:\n",
    "        if line.startswith(\"###\"):\n",
    "            abstract_id = line\n",
    "            abstract_lines=\"\"\n",
    "        elif line.isspace():\n",
    "            abstract_line_split = abstract_lines.splitlines()\n",
    "\n",
    "            for abstract_line_number, abstract_line in enumerate(abstract_line_split):\n",
    "                line_data = {}\n",
    "                target_text_split = abstract_line.split(\"\\t\")\n",
    "                line_data[\"target\"] = target_text_split[0]\n",
    "                line_data[\"text\"] = target_text_split[1].lower()\n",
    "                line_data[\"line_number\"] = abstract_line_number\n",
    "                line_data[\"total_lines\"] = len(abstract_line_split)-1\n",
    "                abstract_samples.append(line_data)\n",
    "        else:\n",
    "            abstract_lines+=line\n",
    "    return abstract_samples"
   ]
  },
  {
   "cell_type": "code",
   "execution_count": 7,
   "id": "447f70ef-26ac-4f56-b1af-50de5b96d606",
   "metadata": {
    "colab": {
     "base_uri": "https://localhost:8080/"
    },
    "id": "447f70ef-26ac-4f56-b1af-50de5b96d606",
    "outputId": "2950b3fe-2f12-4f22-c6ae-0b2562bbdf20"
   },
   "outputs": [
    {
     "data": {
      "text/plain": [
       "(180040, 30212, 30135)"
      ]
     },
     "execution_count": 7,
     "metadata": {},
     "output_type": "execute_result"
    }
   ],
   "source": [
    "train_samples = preprocess_text_with_line_numbers(filenames[0])\n",
    "val_samples = preprocess_text_with_line_numbers(filenames[1])\n",
    "test_samples = preprocess_text_with_line_numbers(filenames[-1])\n",
    "len(train_samples), len(val_samples), len(test_samples)"
   ]
  },
  {
   "cell_type": "code",
   "execution_count": 8,
   "id": "c6047026-aa70-40e3-8a7a-bcc484620b49",
   "metadata": {
    "colab": {
     "base_uri": "https://localhost:8080/"
    },
    "id": "c6047026-aa70-40e3-8a7a-bcc484620b49",
    "outputId": "0c02f8d8-27e2-4fc2-c4e4-d4f6d61a73ef"
   },
   "outputs": [
    {
     "data": {
      "text/plain": [
       "[{'target': 'OBJECTIVE',\n",
       "  'text': 'to investigate the efficacy of @ weeks of daily low-dose oral prednisolone in improving pain , mobility , and systemic low-grade inflammation in the short term and whether the effect would be sustained at @ weeks in older adults with moderate to severe knee osteoarthritis ( oa ) .',\n",
       "  'line_number': 0,\n",
       "  'total_lines': 11},\n",
       " {'target': 'METHODS',\n",
       "  'text': 'a total of @ patients with primary knee oa were randomized @:@ ; @ received @ mg/day of prednisolone and @ received placebo for @ weeks .',\n",
       "  'line_number': 1,\n",
       "  'total_lines': 11},\n",
       " {'target': 'METHODS',\n",
       "  'text': 'outcome measures included pain reduction and improvement in function scores and systemic inflammation markers .',\n",
       "  'line_number': 2,\n",
       "  'total_lines': 11},\n",
       " {'target': 'METHODS',\n",
       "  'text': 'pain was assessed using the visual analog pain scale ( @-@ mm ) .',\n",
       "  'line_number': 3,\n",
       "  'total_lines': 11},\n",
       " {'target': 'METHODS',\n",
       "  'text': 'secondary outcome measures included the western ontario and mcmaster universities osteoarthritis index scores , patient global assessment ( pga ) of the severity of knee oa , and @-min walk distance ( @mwd ) .',\n",
       "  'line_number': 4,\n",
       "  'total_lines': 11}]"
      ]
     },
     "execution_count": 8,
     "metadata": {},
     "output_type": "execute_result"
    }
   ],
   "source": [
    "train_samples[:5]"
   ]
  },
  {
   "cell_type": "code",
   "execution_count": 9,
   "id": "6fbc6d16-18db-4aad-9129-e69d386c1922",
   "metadata": {
    "colab": {
     "base_uri": "https://localhost:8080/",
     "height": 483
    },
    "id": "6fbc6d16-18db-4aad-9129-e69d386c1922",
    "outputId": "b8bc9c8e-9c14-4b47-90d4-11287f751a3d"
   },
   "outputs": [
    {
     "data": {
      "text/html": [
       "<div>\n",
       "<style scoped>\n",
       "    .dataframe tbody tr th:only-of-type {\n",
       "        vertical-align: middle;\n",
       "    }\n",
       "\n",
       "    .dataframe tbody tr th {\n",
       "        vertical-align: top;\n",
       "    }\n",
       "\n",
       "    .dataframe thead th {\n",
       "        text-align: right;\n",
       "    }\n",
       "</style>\n",
       "<table border=\"1\" class=\"dataframe\">\n",
       "  <thead>\n",
       "    <tr style=\"text-align: right;\">\n",
       "      <th></th>\n",
       "      <th>target</th>\n",
       "      <th>text</th>\n",
       "      <th>line_number</th>\n",
       "      <th>total_lines</th>\n",
       "    </tr>\n",
       "  </thead>\n",
       "  <tbody>\n",
       "    <tr>\n",
       "      <th>0</th>\n",
       "      <td>OBJECTIVE</td>\n",
       "      <td>to investigate the efficacy of @ weeks of dail...</td>\n",
       "      <td>0</td>\n",
       "      <td>11</td>\n",
       "    </tr>\n",
       "    <tr>\n",
       "      <th>1</th>\n",
       "      <td>METHODS</td>\n",
       "      <td>a total of @ patients with primary knee oa wer...</td>\n",
       "      <td>1</td>\n",
       "      <td>11</td>\n",
       "    </tr>\n",
       "    <tr>\n",
       "      <th>2</th>\n",
       "      <td>METHODS</td>\n",
       "      <td>outcome measures included pain reduction and i...</td>\n",
       "      <td>2</td>\n",
       "      <td>11</td>\n",
       "    </tr>\n",
       "    <tr>\n",
       "      <th>3</th>\n",
       "      <td>METHODS</td>\n",
       "      <td>pain was assessed using the visual analog pain...</td>\n",
       "      <td>3</td>\n",
       "      <td>11</td>\n",
       "    </tr>\n",
       "    <tr>\n",
       "      <th>4</th>\n",
       "      <td>METHODS</td>\n",
       "      <td>secondary outcome measures included the wester...</td>\n",
       "      <td>4</td>\n",
       "      <td>11</td>\n",
       "    </tr>\n",
       "    <tr>\n",
       "      <th>5</th>\n",
       "      <td>METHODS</td>\n",
       "      <td>serum levels of interleukin @ ( il-@ ) , il-@ ...</td>\n",
       "      <td>5</td>\n",
       "      <td>11</td>\n",
       "    </tr>\n",
       "    <tr>\n",
       "      <th>6</th>\n",
       "      <td>RESULTS</td>\n",
       "      <td>there was a clinically relevant reduction in t...</td>\n",
       "      <td>6</td>\n",
       "      <td>11</td>\n",
       "    </tr>\n",
       "    <tr>\n",
       "      <th>7</th>\n",
       "      <td>RESULTS</td>\n",
       "      <td>the mean difference between treatment arms ( @...</td>\n",
       "      <td>7</td>\n",
       "      <td>11</td>\n",
       "    </tr>\n",
       "    <tr>\n",
       "      <th>8</th>\n",
       "      <td>RESULTS</td>\n",
       "      <td>further , there was a clinically relevant redu...</td>\n",
       "      <td>8</td>\n",
       "      <td>11</td>\n",
       "    </tr>\n",
       "    <tr>\n",
       "      <th>9</th>\n",
       "      <td>RESULTS</td>\n",
       "      <td>these differences remained significant at @ we...</td>\n",
       "      <td>9</td>\n",
       "      <td>11</td>\n",
       "    </tr>\n",
       "    <tr>\n",
       "      <th>10</th>\n",
       "      <td>RESULTS</td>\n",
       "      <td>the outcome measures in rheumatology clinical ...</td>\n",
       "      <td>10</td>\n",
       "      <td>11</td>\n",
       "    </tr>\n",
       "    <tr>\n",
       "      <th>11</th>\n",
       "      <td>CONCLUSIONS</td>\n",
       "      <td>low-dose oral prednisolone had both a short-te...</td>\n",
       "      <td>11</td>\n",
       "      <td>11</td>\n",
       "    </tr>\n",
       "    <tr>\n",
       "      <th>12</th>\n",
       "      <td>BACKGROUND</td>\n",
       "      <td>emotional eating is associated with overeating...</td>\n",
       "      <td>0</td>\n",
       "      <td>10</td>\n",
       "    </tr>\n",
       "    <tr>\n",
       "      <th>13</th>\n",
       "      <td>BACKGROUND</td>\n",
       "      <td>yet , empirical evidence for individual ( trai...</td>\n",
       "      <td>1</td>\n",
       "      <td>10</td>\n",
       "    </tr>\n",
       "  </tbody>\n",
       "</table>\n",
       "</div>"
      ],
      "text/plain": [
       "         target                                               text  \\\n",
       "0     OBJECTIVE  to investigate the efficacy of @ weeks of dail...   \n",
       "1       METHODS  a total of @ patients with primary knee oa wer...   \n",
       "2       METHODS  outcome measures included pain reduction and i...   \n",
       "3       METHODS  pain was assessed using the visual analog pain...   \n",
       "4       METHODS  secondary outcome measures included the wester...   \n",
       "5       METHODS  serum levels of interleukin @ ( il-@ ) , il-@ ...   \n",
       "6       RESULTS  there was a clinically relevant reduction in t...   \n",
       "7       RESULTS  the mean difference between treatment arms ( @...   \n",
       "8       RESULTS  further , there was a clinically relevant redu...   \n",
       "9       RESULTS  these differences remained significant at @ we...   \n",
       "10      RESULTS  the outcome measures in rheumatology clinical ...   \n",
       "11  CONCLUSIONS  low-dose oral prednisolone had both a short-te...   \n",
       "12   BACKGROUND  emotional eating is associated with overeating...   \n",
       "13   BACKGROUND  yet , empirical evidence for individual ( trai...   \n",
       "\n",
       "    line_number  total_lines  \n",
       "0             0           11  \n",
       "1             1           11  \n",
       "2             2           11  \n",
       "3             3           11  \n",
       "4             4           11  \n",
       "5             5           11  \n",
       "6             6           11  \n",
       "7             7           11  \n",
       "8             8           11  \n",
       "9             9           11  \n",
       "10           10           11  \n",
       "11           11           11  \n",
       "12            0           10  \n",
       "13            1           10  "
      ]
     },
     "execution_count": 9,
     "metadata": {},
     "output_type": "execute_result"
    }
   ],
   "source": [
    "import pandas as pd\n",
    "train_df = pd.DataFrame(train_samples)\n",
    "val_df = pd.DataFrame(val_samples)\n",
    "test_df = pd.DataFrame(test_samples)\n",
    "train_df.head(14)"
   ]
  },
  {
   "cell_type": "code",
   "execution_count": 10,
   "id": "39c990fb-b652-4052-825c-849466c4a082",
   "metadata": {
    "colab": {
     "base_uri": "https://localhost:8080/"
    },
    "id": "39c990fb-b652-4052-825c-849466c4a082",
    "outputId": "ce9d238f-5b62-4c4d-dd34-42192c2cfcc3"
   },
   "outputs": [
    {
     "data": {
      "text/plain": [
       "target\n",
       "METHODS        59353\n",
       "RESULTS        57953\n",
       "CONCLUSIONS    27168\n",
       "BACKGROUND     21727\n",
       "OBJECTIVE      13839\n",
       "Name: count, dtype: int64"
      ]
     },
     "execution_count": 10,
     "metadata": {},
     "output_type": "execute_result"
    }
   ],
   "source": [
    "train_df.target.value_counts()"
   ]
  },
  {
   "cell_type": "code",
   "execution_count": 11,
   "id": "2c581d8b-4033-4ea3-8cde-ce4cb81008d2",
   "metadata": {
    "colab": {
     "base_uri": "https://localhost:8080/",
     "height": 448
    },
    "id": "2c581d8b-4033-4ea3-8cde-ce4cb81008d2",
    "outputId": "003f3d5b-be8a-41cc-86c2-3884f7e340aa"
   },
   "outputs": [
    {
     "data": {
      "text/plain": [
       "<Axes: ylabel='Frequency'>"
      ]
     },
     "execution_count": 11,
     "metadata": {},
     "output_type": "execute_result"
    },
    {
     "data": {
      "image/png": "[encoded data removed]",
      "text/plain": [
       "<Figure size 640x480 with 1 Axes>"
      ]
     },
     "metadata": {},
     "output_type": "display_data"
    }
   ],
   "source": [
    "train_df.total_lines.plot.hist()"
   ]
  },
  {
   "cell_type": "markdown",
   "id": "f3c09ac8-61c5-446f-abc6-d6a81e7bb35b",
   "metadata": {
    "id": "f3c09ac8-61c5-446f-abc6-d6a81e7bb35b"
   },
   "source": [
    "#### Get lists of sentences"
   ]
  },
  {
   "cell_type": "code",
   "execution_count": 12,
   "id": "e094ce7a-4321-457a-bbff-594d38216506",
   "metadata": {
    "colab": {
     "base_uri": "https://localhost:8080/"
    },
    "id": "e094ce7a-4321-457a-bbff-594d38216506",
    "outputId": "8794ab47-023f-45d2-8609-06283700d4b8"
   },
   "outputs": [
    {
     "data": {
      "text/plain": [
       "['to investigate the efficacy of @ weeks of daily low-dose oral prednisolone in improving pain , mobility , and systemic low-grade inflammation in the short term and whether the effect would be sustained at @ weeks in older adults with moderate to severe knee osteoarthritis ( oa ) .',\n",
       " 'a total of @ patients with primary knee oa were randomized @:@ ; @ received @ mg/day of prednisolone and @ received placebo for @ weeks .',\n",
       " 'outcome measures included pain reduction and improvement in function scores and systemic inflammation markers .',\n",
       " 'pain was assessed using the visual analog pain scale ( @-@ mm ) .',\n",
       " 'secondary outcome measures included the western ontario and mcmaster universities osteoarthritis index scores , patient global assessment ( pga ) of the severity of knee oa , and @-min walk distance ( @mwd ) .']"
      ]
     },
     "execution_count": 12,
     "metadata": {},
     "output_type": "execute_result"
    }
   ],
   "source": [
    "train_sentences = train_df.text.to_list()\n",
    "val_sentences = val_df.text.to_list()\n",
    "test_sentences = test_df.text.to_list()\n",
    "train_sentences[:5]"
   ]
  },
  {
   "cell_type": "code",
   "execution_count": 13,
   "id": "e5edabdf-eec4-4da1-80da-013cd6b2c0d4",
   "metadata": {
    "colab": {
     "base_uri": "https://localhost:8080/"
    },
    "id": "e5edabdf-eec4-4da1-80da-013cd6b2c0d4",
    "outputId": "cb04415e-bf91-45bf-f72c-f87d2e193f82"
   },
   "outputs": [
    {
     "data": {
      "text/plain": [
       "array([[0., 0., 0., 1., 0.],\n",
       "       [0., 0., 1., 0., 0.],\n",
       "       [0., 0., 1., 0., 0.],\n",
       "       ...,\n",
       "       [0., 0., 0., 0., 1.],\n",
       "       [0., 1., 0., 0., 0.],\n",
       "       [0., 1., 0., 0., 0.]])"
      ]
     },
     "execution_count": 13,
     "metadata": {},
     "output_type": "execute_result"
    }
   ],
   "source": [
    "# make numeric conversion of labels/targets - method 1\n",
    "from sklearn.preprocessing import OneHotEncoder\n",
    "one_hot_encoder = OneHotEncoder(sparse_output=False)\n",
    "train_labels_one_hot = one_hot_encoder.fit_transform(train_df.target.to_numpy().reshape(-1,1))\n",
    "val_labels_one_hot = one_hot_encoder.fit_transform(val_df.target.to_numpy().reshape(-1,1))\n",
    "test_labels_one_hot = one_hot_encoder.fit_transform(test_df.target.to_numpy().reshape(-1,1))\n",
    "train_labels_one_hot"
   ]
  },
  {
   "cell_type": "code",
   "execution_count": 14,
   "id": "a4e6ddd5-e8c5-4223-bc0d-bf900bacccee",
   "metadata": {
    "colab": {
     "base_uri": "https://localhost:8080/"
    },
    "id": "a4e6ddd5-e8c5-4223-bc0d-bf900bacccee",
    "outputId": "cf3995f0-5fb2-4a23-a56c-bff7d704c7de"
   },
   "outputs": [
    {
     "data": {
      "text/plain": [
       "array([3, 2, 2, ..., 4, 1, 1])"
      ]
     },
     "execution_count": 14,
     "metadata": {},
     "output_type": "execute_result"
    }
   ],
   "source": [
    "# label encoding - method 2\n",
    "from sklearn.preprocessing import LabelEncoder\n",
    "label_encoder = LabelEncoder()\n",
    "train_labels_encoded = label_encoder.fit_transform(train_df.target.to_numpy())\n",
    "val_labels_encoded = label_encoder.fit_transform(val_df.target.to_numpy())\n",
    "test_labels_encoded = label_encoder.fit_transform(test_df.target.to_numpy())\n",
    "train_labels_encoded"
   ]
  },
  {
   "cell_type": "code",
   "execution_count": 15,
   "id": "aaab5d0a-5484-4429-aa64-9cded8f44ec7",
   "metadata": {
    "colab": {
     "base_uri": "https://localhost:8080/"
    },
    "id": "aaab5d0a-5484-4429-aa64-9cded8f44ec7",
    "outputId": "72fa7b11-f0af-4a34-a392-4aaa8e11daaf"
   },
   "outputs": [
    {
     "data": {
      "text/plain": [
       "(5,\n",
       " array(['BACKGROUND', 'CONCLUSIONS', 'METHODS', 'OBJECTIVE', 'RESULTS'],\n",
       "       dtype=object))"
      ]
     },
     "execution_count": 15,
     "metadata": {},
     "output_type": "execute_result"
    }
   ],
   "source": [
    "# Get class names and number of classes back from LabelEncoder\n",
    "num_classes = len(label_encoder.classes_)\n",
    "class_names = label_encoder.classes_\n",
    "num_classes, class_names"
   ]
  },
  {
   "cell_type": "markdown",
   "id": "a282e5e7-65e5-443f-bc2f-100209532145",
   "metadata": {
    "id": "a282e5e7-65e5-443f-bc2f-100209532145"
   },
   "source": [
    "#### Model 0 - Naive Bayes"
   ]
  },
  {
   "cell_type": "code",
   "execution_count": 16,
   "id": "efe31290-306b-4a05-a9d6-0e667392eb8b",
   "metadata": {
    "colab": {
     "base_uri": "https://localhost:8080/"
    },
    "id": "efe31290-306b-4a05-a9d6-0e667392eb8b",
    "outputId": "c492c703-bca4-4499-98c3-f9844c08310c"
   },
   "outputs": [
    {
     "data": {
      "text/plain": [
       "{'accuracy': 72.1832384482987,\n",
       " 'precision': 0.7186466952323352,\n",
       " 'recall': 0.7218323844829869,\n",
       " 'f1': 0.6989250353450294}"
      ]
     },
     "execution_count": 16,
     "metadata": {},
     "output_type": "execute_result"
    }
   ],
   "source": [
    "from sklearn.feature_extraction.text import TfidfVectorizer\n",
    "from sklearn.naive_bayes import MultinomialNB\n",
    "from sklearn.pipeline import Pipeline\n",
    "\n",
    "# Create tokenization and modelling pipeline\n",
    "model_0 = Pipeline([\n",
    "                    (\"tfidf\", TfidfVectorizer()), # convert words to numbers using tfidf\n",
    "                    (\"clf\", MultinomialNB()) # model the text\n",
    "])\n",
    "model_0.fit(train_sentences, train_labels_encoded)\n",
    "model_0_results = calculate_results(val_labels_encoded, model_0.predict(val_sentences))\n",
    "model_0_results"
   ]
  },
  {
   "cell_type": "markdown",
   "id": "4803ead6-054a-462b-af50-1e4fd8e78494",
   "metadata": {
    "id": "4803ead6-054a-462b-af50-1e4fd8e78494"
   },
   "source": [
    "#### Model 1 - Conv1D"
   ]
  },
  {
   "cell_type": "code",
   "execution_count": 17,
   "id": "01547241-b0fb-43d2-8682-75a4439c2c07",
   "metadata": {
    "colab": {
     "base_uri": "https://localhost:8080/"
    },
    "id": "01547241-b0fb-43d2-8682-75a4439c2c07",
    "outputId": "71dc5c58-2b6e-40ad-be98-e25758b7c5e1"
   },
   "outputs": [
    {
     "data": {
      "text/plain": [
       "26"
      ]
     },
     "execution_count": 17,
     "metadata": {},
     "output_type": "execute_result"
    }
   ],
   "source": [
    "# how long is each sentece of average\n",
    "sent_length = [len(sentence.split()) for sentence in train_sentences]\n",
    "tf.math.reduce_mean(sent_length).numpy()"
   ]
  },
  {
   "cell_type": "code",
   "execution_count": 18,
   "id": "eb43f603-2e11-49c1-822d-d4ae011167f8",
   "metadata": {
    "colab": {
     "base_uri": "https://localhost:8080/"
    },
    "id": "eb43f603-2e11-49c1-822d-d4ae011167f8",
    "outputId": "579ea6ae-1a06-42cb-f7de-4c9a45518323"
   },
   "outputs": [
    {
     "data": {
      "text/plain": [
       "55"
      ]
     },
     "execution_count": 18,
     "metadata": {},
     "output_type": "execute_result"
    }
   ],
   "source": [
    "# we want 95% of data to be covered, so whats the length of 95% of data\n",
    "import numpy as np\n",
    "int(np.percentile(sent_length, 95))"
   ]
  },
  {
   "cell_type": "code",
   "execution_count": 19,
   "id": "367d97df-d552-41ea-b461-38d52bf7b5f2",
   "metadata": {
    "colab": {
     "base_uri": "https://localhost:8080/"
    },
    "id": "367d97df-d552-41ea-b461-38d52bf7b5f2",
    "outputId": "dd0274b4-f0c4-4335-de89-ba2d6703c535"
   },
   "outputs": [
    {
     "data": {
      "text/plain": [
       "<tf.Tensor: shape=(1, 55), dtype=int64, numpy=\n",
       "array([[ 6193,    61,   898,    58, 10096,     0,     0,     0,     0,\n",
       "            0,     0,     0,     0,     0,     0,     0,     0,     0,\n",
       "            0,     0,     0,     0,     0,     0,     0,     0,     0,\n",
       "            0,     0,     0,     0,     0,     0,     0,     0,     0,\n",
       "            0,     0,     0,     0,     0,     0,     0,     0,     0,\n",
       "            0,     0,     0,     0,     0,     0,     0,     0,     0,\n",
       "            0]])>"
      ]
     },
     "execution_count": 19,
     "metadata": {},
     "output_type": "execute_result"
    }
   ],
   "source": [
    "# create text vectorizer\n",
    "text_vectorizer = tf.keras.layers.TextVectorization(max_tokens = 68000,\n",
    "                                                output_sequence_length=55)\n",
    "text_vectorizer.adapt(train_sentences)\n",
    "sample_sentence = \"Hi there, how are you\"\n",
    "text_vectorizer([sample_sentence])"
   ]
  },
  {
   "cell_type": "code",
   "execution_count": 20,
   "id": "7def48f0-0d00-42d8-864b-bcf98c918407",
   "metadata": {
    "colab": {
     "base_uri": "https://localhost:8080/"
    },
    "id": "7def48f0-0d00-42d8-864b-bcf98c918407",
    "outputId": "20ee8886-b193-408d-e4f2-ab8de20a10fe"
   },
   "outputs": [
    {
     "data": {
      "text/plain": [
       "{'name': 'text_vectorization',\n",
       " 'trainable': True,\n",
       " 'dtype': 'string',\n",
       " 'batch_input_shape': (None,),\n",
       " 'max_tokens': 68000,\n",
       " 'standardize': 'lower_and_strip_punctuation',\n",
       " 'split': 'whitespace',\n",
       " 'ngrams': None,\n",
       " 'output_mode': 'int',\n",
       " 'output_sequence_length': 55,\n",
       " 'pad_to_max_tokens': False,\n",
       " 'sparse': False,\n",
       " 'ragged': False,\n",
       " 'vocabulary': None,\n",
       " 'idf_weights': None,\n",
       " 'encoding': 'utf-8',\n",
       " 'vocabulary_size': 64841}"
      ]
     },
     "execution_count": 20,
     "metadata": {},
     "output_type": "execute_result"
    }
   ],
   "source": [
    "text_vectorizer.get_config()"
   ]
  },
  {
   "cell_type": "code",
   "execution_count": 21,
   "id": "b3777b1d-9508-4a3e-a9fd-5f216fd3c5c4",
   "metadata": {
    "colab": {
     "base_uri": "https://localhost:8080/"
    },
    "id": "b3777b1d-9508-4a3e-a9fd-5f216fd3c5c4",
    "outputId": "a6ff3aa5-7954-4eb4-93d7-5dcd4ecd5bf7"
   },
   "outputs": [
    {
     "data": {
      "text/plain": [
       "<tf.Tensor: shape=(1, 55, 128), dtype=float16, numpy=\n",
       "array([[[-0.0464  ,  0.01831 , -0.03583 , ...,  0.01566 ,  0.02835 ,\n",
       "          0.03014 ],\n",
       "        [-0.02924 , -0.03137 ,  0.0368  , ...,  0.00604 ,  0.02022 ,\n",
       "          0.04163 ],\n",
       "        [-0.006676, -0.02995 , -0.01161 , ...,  0.01341 , -0.01212 ,\n",
       "          0.01903 ],\n",
       "        ...,\n",
       "        [-0.05    , -0.04987 ,  0.04468 , ..., -0.02286 ,  0.006268,\n",
       "         -0.02667 ],\n",
       "        [-0.05    , -0.04987 ,  0.04468 , ..., -0.02286 ,  0.006268,\n",
       "         -0.02667 ],\n",
       "        [-0.05    , -0.04987 ,  0.04468 , ..., -0.02286 ,  0.006268,\n",
       "         -0.02667 ]]], dtype=float16)>"
      ]
     },
     "execution_count": 21,
     "metadata": {},
     "output_type": "execute_result"
    }
   ],
   "source": [
    "# create embedding layer\n",
    "embedding = tf.keras.layers.Embedding(input_dim=68000,\n",
    "                                     output_dim=128,\n",
    "                                      input_length=55,\n",
    "                                     mask_zero=True)\n",
    "embedding(text_vectorizer([sample_sentence]))"
   ]
  },
  {
   "cell_type": "markdown",
   "id": "c2986261-2805-4e70-b206-1934e93d0c3b",
   "metadata": {
    "id": "c2986261-2805-4e70-b206-1934e93d0c3b"
   },
   "source": [
    "#### Creating Fast loading dataset"
   ]
  },
  {
   "cell_type": "code",
   "execution_count": 22,
   "id": "be8834d7-e652-44c3-84a7-becebf0f50cd",
   "metadata": {
    "colab": {
     "base_uri": "https://localhost:8080/"
    },
    "id": "be8834d7-e652-44c3-84a7-becebf0f50cd",
    "outputId": "1b562269-b573-4411-e075-cb4b0d446ddc"
   },
   "outputs": [
    {
     "data": {
      "text/plain": [
       "<_TensorSliceDataset element_spec=(TensorSpec(shape=(), dtype=tf.string, name=None), TensorSpec(shape=(5,), dtype=tf.float64, name=None))>"
      ]
     },
     "execution_count": 22,
     "metadata": {},
     "output_type": "execute_result"
    }
   ],
   "source": [
    "# Turn data into tensorflow dataset\n",
    "train_dataset = tf.data.Dataset.from_tensor_slices((train_sentences, train_labels_one_hot))\n",
    "val_dataset = tf.data.Dataset.from_tensor_slices((val_sentences, val_labels_one_hot))\n",
    "test_dataset = tf.data.Dataset.from_tensor_slices((test_sentences, test_labels_one_hot))\n",
    "\n",
    "train_dataset"
   ]
  },
  {
   "cell_type": "code",
   "execution_count": 23,
   "id": "b309419a-f21a-4463-a1d8-024b59c26c64",
   "metadata": {
    "colab": {
     "base_uri": "https://localhost:8080/"
    },
    "id": "b309419a-f21a-4463-a1d8-024b59c26c64",
    "outputId": "47c40c3c-98ec-440e-c50f-a183e7dff779"
   },
   "outputs": [
    {
     "data": {
      "text/plain": [
       "<_PrefetchDataset element_spec=(TensorSpec(shape=(None,), dtype=tf.string, name=None), TensorSpec(shape=(None, 5), dtype=tf.float64, name=None))>"
      ]
     },
     "execution_count": 23,
     "metadata": {},
     "output_type": "execute_result"
    }
   ],
   "source": [
    "# take tensor slice dadtaset and turn into prefetched datasets\n",
    "train_dataset = train_dataset.batch(64).prefetch(tf.data.AUTOTUNE)\n",
    "val_dataset = val_dataset.batch(64).prefetch(tf.data.AUTOTUNE)\n",
    "test_dataset = test_dataset.batch(64).prefetch(tf.data.AUTOTUNE)\n",
    "\n",
    "train_dataset"
   ]
  },
  {
   "cell_type": "code",
   "execution_count": 24,
   "id": "a22c87d0-7177-4e27-9959-a696f1bd6126",
   "metadata": {
    "colab": {
     "base_uri": "https://localhost:8080/"
    },
    "id": "a22c87d0-7177-4e27-9959-a696f1bd6126",
    "outputId": "f0ae6f44-6cbf-453a-f74d-1cdc2f9b9b86"
   },
   "outputs": [
    {
     "name": "stdout",
     "output_type": "stream",
     "text": [
      "Epoch 1/5\n",
      "  3/281 [..............................] - ETA: 15s - loss: 1.5928 - accuracy: 0.3177"
     ]
    },
    {
     "name": "stderr",
     "output_type": "stream",
     "text": [
      "WARNING: All log messages before absl::InitializeLog() is called are written to STDERR\n",
      "I0000 00:00:1703958436.575960 1568291 device_compiler.h:186] Compiled cluster using XLA!  This line is logged at most once for the lifetime of the process.\n"
     ]
    },
    {
     "name": "stdout",
     "output_type": "stream",
     "text": [
      "281/281 [==============================] - 10s 32ms/step - loss: 1.0357 - accuracy: 0.5938 - val_loss: 0.7177 - val_accuracy: 0.7271\n",
      "Epoch 2/5\n",
      "281/281 [==============================] - 3s 9ms/step - loss: 0.6802 - accuracy: 0.7452 - val_loss: 0.6413 - val_accuracy: 0.7573\n",
      "Epoch 3/5\n",
      "281/281 [==============================] - 2s 7ms/step - loss: 0.6351 - accuracy: 0.7640 - val_loss: 0.6187 - val_accuracy: 0.7763\n",
      "Epoch 4/5\n",
      "281/281 [==============================] - 2s 6ms/step - loss: 0.6078 - accuracy: 0.7788 - val_loss: 0.5920 - val_accuracy: 0.7779\n",
      "Epoch 5/5\n",
      "281/281 [==============================] - 2s 6ms/step - loss: 0.6069 - accuracy: 0.7853 - val_loss: 0.5818 - val_accuracy: 0.7872\n"
     ]
    }
   ],
   "source": [
    "# create conv1d model\n",
    "inputs = tf.keras.layers.Input(shape=(1,), dtype=tf.string)\n",
    "x = text_vectorizer(inputs)\n",
    "x = embedding(x)\n",
    "x = tf.keras.layers.Conv1D(filters=64, kernel_size=5, strides=1, padding='same', activation='relu')(x)\n",
    "x = tf.keras.layers.GlobalAveragePooling1D()(x)\n",
    "outputs = tf.keras.layers.Dense(5, activation=tf.keras.activations.softmax)(x)\n",
    "\n",
    "model_1 = tf.keras.Model(inputs, outputs)\n",
    "model_1.compile(loss=tf.keras.losses.CategoricalCrossentropy(),\n",
    "               optimizer=tf.keras.optimizers.Adam(),\n",
    "               metrics=['accuracy'])\n",
    "history_1 = model_1.fit(train_dataset,\n",
    "                       epochs=5,\n",
    "                        steps_per_epoch=int(0.1*len(train_dataset)),\n",
    "                        validation_steps=int(0.1*len(val_dataset)),\n",
    "                       validation_data=val_dataset)"
   ]
  },
  {
   "cell_type": "code",
   "execution_count": 25,
   "id": "87b29052-ce8d-43ef-a6f9-1c3544e43b71",
   "metadata": {
    "colab": {
     "base_uri": "https://localhost:8080/"
    },
    "id": "87b29052-ce8d-43ef-a6f9-1c3544e43b71",
    "outputId": "a92c09b2-0c69-4b6a-a5a9-e7771950fdc6"
   },
   "outputs": [
    {
     "name": "stdout",
     "output_type": "stream",
     "text": [
      "473/473 [==============================] - 1s 2ms/step - loss: 0.5818 - accuracy: 0.7900\n"
     ]
    },
    {
     "data": {
      "text/plain": [
       "[0.5818474292755127, 0.7899841070175171]"
      ]
     },
     "execution_count": 25,
     "metadata": {},
     "output_type": "execute_result"
    }
   ],
   "source": [
    "model_1.evaluate(val_dataset)"
   ]
  },
  {
   "cell_type": "code",
   "execution_count": 26,
   "id": "5e8aa6fd-7436-433b-b85f-ae86759bab31",
   "metadata": {
    "colab": {
     "base_uri": "https://localhost:8080/"
    },
    "id": "5e8aa6fd-7436-433b-b85f-ae86759bab31",
    "outputId": "8b9a2fc3-61b1-4059-cd8d-b17a6ee4aea4"
   },
   "outputs": [
    {
     "name": "stdout",
     "output_type": "stream",
     "text": [
      "473/473 [==============================] - 1s 1ms/step\n"
     ]
    },
    {
     "data": {
      "text/plain": [
       "{'accuracy': 78.9984112273269,\n",
       " 'precision': 0.7905158297604842,\n",
       " 'recall': 0.7899841122732689,\n",
       " 'f1': 0.785391236168513}"
      ]
     },
     "execution_count": 26,
     "metadata": {},
     "output_type": "execute_result"
    }
   ],
   "source": [
    "model_1_pred_probs = model_1.predict(val_dataset)\n",
    "model_1_preds = tf.argmax(model_1_pred_probs, axis=1).numpy()\n",
    "model_1_results = calculate_results(val_labels_encoded, model_1_preds)\n",
    "model_1_results"
   ]
  },
  {
   "cell_type": "markdown",
   "id": "dfbc07b2-e63f-441d-95da-f3a3024a285d",
   "metadata": {
    "id": "dfbc07b2-e63f-441d-95da-f3a3024a285d"
   },
   "source": [
    "#### Model 2 - USE - TF HUB Pretrained Feature extractor"
   ]
  },
  {
   "cell_type": "code",
   "execution_count": 27,
   "id": "a092aa80-edcf-4ee8-be42-24906458f433",
   "metadata": {
    "colab": {
     "base_uri": "https://localhost:8080/"
    },
    "id": "a092aa80-edcf-4ee8-be42-24906458f433",
    "outputId": "c615e343-639d-4eec-cb9b-d2c77e6a817e"
   },
   "outputs": [
    {
     "name": "stdout",
     "output_type": "stream",
     "text": [
      "tf.Tensor(\n",
      "[-0.05182884 -0.04390026  0.05248979 -0.00642138  0.0454952  -0.02146592\n",
      "  0.03058733 -0.07073407  0.05152308  0.04701421  0.02491418  0.00674201\n",
      " -0.03172521  0.0080713   0.00499434 -0.09463525 -0.03576988  0.0037949\n",
      " -0.04158678 -0.07285322  0.0632658  -0.01339925  0.02972649  0.04720227\n",
      " -0.06259578 -0.0154889   0.039651    0.05203718 -0.00980406  0.05468165\n",
      "  0.0588766   0.0431632   0.05944403 -0.00140851 -0.01803795  0.00555375\n",
      "  0.01559336 -0.03206627  0.02260791  0.02096884  0.00670307  0.02270131\n",
      "  0.02106516  0.07490976  0.05131475  0.00114743 -0.09906604  0.0151604\n",
      "  0.01459556  0.02136121], shape=(50,), dtype=float32)\n"
     ]
    }
   ],
   "source": [
    "import tensorflow_hub as hub\n",
    "embed = hub.load(\"https://www.kaggle.com/models/google/universal-sentence-encoder/frameworks/TensorFlow2/variations/universal-sentence-encoder/versions/2\")\n",
    "embed_sample = embed([sample_sentence,\n",
    "                      \"When you can the unviersal sentence encider on a sentence, it turns into into numbers\"])\n",
    "print(embed_sample[0][:50])"
   ]
  },
  {
   "cell_type": "code",
   "execution_count": 28,
   "id": "d0c6e4cb-16f9-471e-bfe2-e9d9de030ff1",
   "metadata": {
    "colab": {
     "base_uri": "https://localhost:8080/"
    },
    "id": "d0c6e4cb-16f9-471e-bfe2-e9d9de030ff1",
    "outputId": "d255fdef-5c52-40ea-dd1c-826f5eaada55"
   },
   "outputs": [
    {
     "name": "stdout",
     "output_type": "stream",
     "text": [
      "Epoch 1/5\n",
      "281/281 [==============================] - 4s 8ms/step - loss: 0.9753 - accuracy: 0.6287 - val_loss: 0.8091 - val_accuracy: 0.6838\n",
      "Epoch 2/5\n",
      "281/281 [==============================] - 2s 8ms/step - loss: 0.7836 - accuracy: 0.6942 - val_loss: 0.7671 - val_accuracy: 0.7028\n",
      "Epoch 3/5\n",
      "281/281 [==============================] - 2s 8ms/step - loss: 0.7666 - accuracy: 0.7060 - val_loss: 0.7536 - val_accuracy: 0.7094\n",
      "Epoch 4/5\n",
      "281/281 [==============================] - 2s 8ms/step - loss: 0.7331 - accuracy: 0.7193 - val_loss: 0.7280 - val_accuracy: 0.7207\n",
      "Epoch 5/5\n",
      "281/281 [==============================] - 2s 8ms/step - loss: 0.7429 - accuracy: 0.7154 - val_loss: 0.7072 - val_accuracy: 0.7277\n"
     ]
    }
   ],
   "source": [
    "# build USE model\n",
    "tf_hub_embedding_layer = hub.KerasLayer(embed,\n",
    "                                       trainable=False)\n",
    "\n",
    "inputs2 = tf.keras.layers.Input(shape=[], dtype=tf.string)\n",
    "x = tf_hub_embedding_layer(inputs2)\n",
    "x = tf.keras.layers.Dense(128, activation=tf.keras.activations.relu)(x)\n",
    "outputs2 = tf.keras.layers.Dense(5, activation=tf.keras.activations.softmax)(x)\n",
    "model_2 = tf.keras.Model(inputs2, outputs2)\n",
    "model_2.compile(loss=tf.keras.losses.CategoricalCrossentropy(),\n",
    "               optimizer=tf.keras.optimizers.Adam(),\n",
    "               metrics=['accuracy'])\n",
    "history_2 = model_2.fit(train_dataset,\n",
    "                       epochs=5,\n",
    "                        steps_per_epoch=int(0.1*len(train_dataset)),\n",
    "                        validation_steps=int(0.1*len(val_dataset)),\n",
    "                       validation_data=val_dataset)"
   ]
  },
  {
   "cell_type": "code",
   "execution_count": 29,
   "id": "17ac87cc-beac-4709-b89e-718d4c7d539c",
   "metadata": {
    "colab": {
     "base_uri": "https://localhost:8080/"
    },
    "id": "17ac87cc-beac-4709-b89e-718d4c7d539c",
    "outputId": "23b2ca46-15a3-4448-b76f-4c61d5898eac"
   },
   "outputs": [
    {
     "name": "stdout",
     "output_type": "stream",
     "text": [
      "473/473 [==============================] - 3s 6ms/step\n"
     ]
    },
    {
     "data": {
      "text/plain": [
       "{'accuracy': 72.89156626506023,\n",
       " 'precision': 0.7250131044780106,\n",
       " 'recall': 0.7289156626506024,\n",
       " 'f1': 0.7237149364699874}"
      ]
     },
     "execution_count": 29,
     "metadata": {},
     "output_type": "execute_result"
    }
   ],
   "source": [
    "model_2_preds = tf.argmax(model_2.predict(val_dataset),axis=1).numpy()\n",
    "model_2_results = calculate_results(val_labels_encoded, model_2_preds)\n",
    "model_2_results"
   ]
  },
  {
   "cell_type": "markdown",
   "id": "c340e59d-d8a6-4ca2-945f-36322fdad444",
   "metadata": {
    "id": "c340e59d-d8a6-4ca2-945f-36322fdad444"
   },
   "source": [
    "#### Model3 - Conv1D with character embedding"
   ]
  },
  {
   "cell_type": "code",
   "execution_count": 30,
   "id": "fb869fcb-ff43-4fa8-83b4-8685932bab0d",
   "metadata": {
    "colab": {
     "base_uri": "https://localhost:8080/",
     "height": 86
    },
    "id": "fb869fcb-ff43-4fa8-83b4-8685932bab0d",
    "outputId": "b7737226-95fe-46be-a1ee-23c3ad1d3384"
   },
   "outputs": [
    {
     "data": {
      "text/plain": [
       "'t o   i n v e s t i g a t e   t h e   e f f i c a c y   o f   @   w e e k s   o f   d a i l y   l o w - d o s e   o r a l   p r e d n i s o l o n e   i n   i m p r o v i n g   p a i n   ,   m o b i l i t y   ,   a n d   s y s t e m i c   l o w - g r a d e   i n f l a m m a t i o n   i n   t h e   s h o r t   t e r m   a n d   w h e t h e r   t h e   e f f e c t   w o u l d   b e   s u s t a i n e d   a t   @   w e e k s   i n   o l d e r   a d u l t s   w i t h   m o d e r a t e   t o   s e v e r e   k n e e   o s t e o a r t h r i t i s   (   o a   )   .'"
      ]
     },
     "execution_count": 30,
     "metadata": {},
     "output_type": "execute_result"
    }
   ],
   "source": [
    "# split into characters\n",
    "def split_chars(text):\n",
    "    return \" \".join(list(text))\n",
    "split_chars(train_sentences[0])"
   ]
  },
  {
   "cell_type": "code",
   "execution_count": 31,
   "id": "95d4f98b-9bd7-45db-b589-1636048cdb0a",
   "metadata": {
    "colab": {
     "base_uri": "https://localhost:8080/",
     "height": 86
    },
    "id": "95d4f98b-9bd7-45db-b589-1636048cdb0a",
    "outputId": "b5646667-e1e3-4e61-99d9-f78a090f77c2"
   },
   "outputs": [
    {
     "data": {
      "text/plain": [
       "'t o   i n v e s t i g a t e   t h e   e f f i c a c y   o f   @   w e e k s   o f   d a i l y   l o w - d o s e   o r a l   p r e d n i s o l o n e   i n   i m p r o v i n g   p a i n   ,   m o b i l i t y   ,   a n d   s y s t e m i c   l o w - g r a d e   i n f l a m m a t i o n   i n   t h e   s h o r t   t e r m   a n d   w h e t h e r   t h e   e f f e c t   w o u l d   b e   s u s t a i n e d   a t   @   w e e k s   i n   o l d e r   a d u l t s   w i t h   m o d e r a t e   t o   s e v e r e   k n e e   o s t e o a r t h r i t i s   (   o a   )   .'"
      ]
     },
     "execution_count": 31,
     "metadata": {},
     "output_type": "execute_result"
    }
   ],
   "source": [
    "#do for whole dataset\n",
    "train_chars = [split_chars(sentence) for sentence in train_sentences]\n",
    "val_chars = [split_chars(sentence) for sentence in val_sentences]\n",
    "test_chars = [split_chars(sentence) for sentence in test_sentences]\n",
    "train_chars[0]"
   ]
  },
  {
   "cell_type": "code",
   "execution_count": 32,
   "id": "5b91a299-65ab-473e-b297-3aeb27950e2e",
   "metadata": {
    "colab": {
     "base_uri": "https://localhost:8080/"
    },
    "id": "5b91a299-65ab-473e-b297-3aeb27950e2e",
    "outputId": "3587bd62-c7aa-484e-c629-a1afc851361e"
   },
   "outputs": [
    {
     "data": {
      "text/plain": [
       "149.3662574983337"
      ]
     },
     "execution_count": 32,
     "metadata": {},
     "output_type": "execute_result"
    }
   ],
   "source": [
    "# avg len of chars\n",
    "char_lens = [len(sentence) for sentence in train_sentences]\n",
    "avg_char_len = np.mean(char_lens)\n",
    "avg_char_len"
   ]
  },
  {
   "cell_type": "code",
   "execution_count": 33,
   "id": "2861474b-3240-4d6c-91c7-43a33b5efd8c",
   "metadata": {
    "colab": {
     "base_uri": "https://localhost:8080/"
    },
    "id": "2861474b-3240-4d6c-91c7-43a33b5efd8c",
    "outputId": "fdfc34d1-87ae-4e02-c621-0b0f1e55f06b"
   },
   "outputs": [
    {
     "data": {
      "text/plain": [
       "290.0"
      ]
     },
     "execution_count": 33,
     "metadata": {},
     "output_type": "execute_result"
    }
   ],
   "source": [
    "np.percentile(char_lens, 95)"
   ]
  },
  {
   "cell_type": "code",
   "execution_count": 34,
   "id": "aefb4b30-059f-4020-8ddc-2bea9a330a96",
   "metadata": {
    "colab": {
     "base_uri": "https://localhost:8080/",
     "height": 35
    },
    "id": "aefb4b30-059f-4020-8ddc-2bea9a330a96",
    "outputId": "595f7bb8-7524-4473-84a6-629bc0332a49"
   },
   "outputs": [
    {
     "data": {
      "text/plain": [
       "'abcdefghijklmnopqrstuvwxyz0123456789!\"#$%&\\'()*+,-./:;<=>?@[\\\\]^_`{|}~'"
      ]
     },
     "execution_count": 34,
     "metadata": {},
     "output_type": "execute_result"
    }
   ],
   "source": [
    "import string\n",
    "alphabet = string.ascii_lowercase+string.digits+string.punctuation\n",
    "alphabet"
   ]
  },
  {
   "cell_type": "code",
   "execution_count": 35,
   "id": "448776f4-a8b1-48f9-9409-bb72911342f1",
   "metadata": {
    "id": "448776f4-a8b1-48f9-9409-bb72911342f1"
   },
   "outputs": [],
   "source": [
    "#Create char-level token vectorizer instance\n",
    "num_char_token = len(alphabet)+2\n",
    "char_vectorizer = tf.keras.layers.TextVectorization(max_tokens = num_char_token,\n",
    "                                                    standardize='lower_and_strip_punctuation',\n",
    "                                                output_sequence_length=290)"
   ]
  },
  {
   "cell_type": "code",
   "execution_count": 36,
   "id": "15f9ef3a-e9e5-40bb-8f44-978bca77349b",
   "metadata": {
    "id": "15f9ef3a-e9e5-40bb-8f44-978bca77349b"
   },
   "outputs": [],
   "source": [
    "char_vectorizer.adapt(train_chars)"
   ]
  },
  {
   "cell_type": "code",
   "execution_count": 37,
   "id": "98d09e3b-e472-4830-ad10-cd805ec1fc60",
   "metadata": {
    "colab": {
     "base_uri": "https://localhost:8080/"
    },
    "id": "98d09e3b-e472-4830-ad10-cd805ec1fc60",
    "outputId": "35dd66fd-7887-408a-d99d-bfa52076a581"
   },
   "outputs": [
    {
     "data": {
      "text/plain": [
       "['', '[UNK]', 'e', 't', 'i']"
      ]
     },
     "execution_count": 37,
     "metadata": {},
     "output_type": "execute_result"
    }
   ],
   "source": [
    "char_vectorizer.get_vocabulary()[:5]"
   ]
  },
  {
   "cell_type": "code",
   "execution_count": 38,
   "id": "fLqeTlq9oQi9",
   "metadata": {
    "colab": {
     "base_uri": "https://localhost:8080/"
    },
    "id": "fLqeTlq9oQi9",
    "outputId": "c4e270af-93d3-4831-e983-6eb72894b91e"
   },
   "outputs": [
    {
     "data": {
      "text/plain": [
       "<tf.Tensor: shape=(1, 290), dtype=int64, numpy=\n",
       "array([[17,  7,  8,  3, 19,  3, 20,  7, 14,  8,  5, 11,  3,  4, 11,  2,\n",
       "         9, 17,  8,  7, 15,  3, 13,  2, 14,  2, 10,  4,  5,  3,  8,  4,\n",
       "        11,  8,  2,  9,  2,  5,  8, 11, 13,  4,  6,  7, 17, 17,  4, 11,\n",
       "         2,  9,  2,  3,  3,  4,  6, 18,  9,  6,  2,  3, 20,  7,  8, 23,\n",
       "         7, 17,  3, 13,  2,  5, 15,  2,  8,  4, 11,  5,  6,  5, 11,  5,\n",
       "        10,  2, 15, 19,  7, 17, 14,  2, 10,  4,  5,  3,  8,  4, 11,  9,\n",
       "        20,  2,  8,  2,  8,  5,  6, 10,  7, 15, 12, 19,  5,  9,  9,  4,\n",
       "        18,  6,  2, 10,  3,  7,  7, 17, 18,  8,  7, 16, 14,  9,  0,  0,\n",
       "         0,  0,  0,  0,  0,  0,  0,  0,  0,  0,  0,  0,  0,  0,  0,  0,\n",
       "         0,  0,  0,  0,  0,  0,  0,  0,  0,  0,  0,  0,  0,  0,  0,  0,\n",
       "         0,  0,  0,  0,  0,  0,  0,  0,  0,  0,  0,  0,  0,  0,  0,  0,\n",
       "         0,  0,  0,  0,  0,  0,  0,  0,  0,  0,  0,  0,  0,  0,  0,  0,\n",
       "         0,  0,  0,  0,  0,  0,  0,  0,  0,  0,  0,  0,  0,  0,  0,  0,\n",
       "         0,  0,  0,  0,  0,  0,  0,  0,  0,  0,  0,  0,  0,  0,  0,  0,\n",
       "         0,  0,  0,  0,  0,  0,  0,  0,  0,  0,  0,  0,  0,  0,  0,  0,\n",
       "         0,  0,  0,  0,  0,  0,  0,  0,  0,  0,  0,  0,  0,  0,  0,  0,\n",
       "         0,  0,  0,  0,  0,  0,  0,  0,  0,  0,  0,  0,  0,  0,  0,  0,\n",
       "         0,  0,  0,  0,  0,  0,  0,  0,  0,  0,  0,  0,  0,  0,  0,  0,\n",
       "         0,  0]])>"
      ]
     },
     "execution_count": 38,
     "metadata": {},
     "output_type": "execute_result"
    }
   ],
   "source": [
    "char_vectorizer([train_chars[69]])"
   ]
  },
  {
   "cell_type": "code",
   "execution_count": 39,
   "id": "k5j1hAuSoiPD",
   "metadata": {
    "id": "k5j1hAuSoiPD"
   },
   "outputs": [],
   "source": [
    "# Create a character level embedding\n",
    "char_embed = tf.keras.layers.Embedding(input_dim=len(char_vectorizer.get_vocabulary()),\n",
    "                                       output_dim=25,\n",
    "                                       mask_zero=True)"
   ]
  },
  {
   "cell_type": "code",
   "execution_count": 40,
   "id": "8OzYWQkNpiFO",
   "metadata": {
    "colab": {
     "base_uri": "https://localhost:8080/"
    },
    "id": "8OzYWQkNpiFO",
    "outputId": "0b3b483a-f8af-4440-ce5f-ef57e44896b4"
   },
   "outputs": [
    {
     "data": {
      "text/plain": [
       "<tf.Tensor: shape=(1, 290, 25), dtype=float16, numpy=\n",
       "array([[[-0.02577 ,  0.01113 ,  0.01134 , ...,  0.004814, -0.00887 ,\n",
       "          0.01605 ],\n",
       "        [-0.01602 , -0.0308  , -0.04968 , ..., -0.0281  ,  0.04675 ,\n",
       "          0.02376 ],\n",
       "        [-0.0203  , -0.02824 , -0.006805, ..., -0.03656 , -0.02245 ,\n",
       "         -0.01636 ],\n",
       "        ...,\n",
       "        [ 0.00895 ,  0.04807 ,  0.04678 , ..., -0.03055 ,  0.0275  ,\n",
       "         -0.01866 ],\n",
       "        [ 0.00895 ,  0.04807 ,  0.04678 , ..., -0.03055 ,  0.0275  ,\n",
       "         -0.01866 ],\n",
       "        [ 0.00895 ,  0.04807 ,  0.04678 , ..., -0.03055 ,  0.0275  ,\n",
       "         -0.01866 ]]], dtype=float16)>"
      ]
     },
     "execution_count": 40,
     "metadata": {},
     "output_type": "execute_result"
    }
   ],
   "source": [
    "char_embed(char_vectorizer([train_chars[69]]))"
   ]
  },
  {
   "cell_type": "code",
   "execution_count": 41,
   "id": "AwLYGon5rau-",
   "metadata": {
    "id": "AwLYGon5rau-"
   },
   "outputs": [],
   "source": [
    "train_char_dataset = tf.data.Dataset.from_tensor_slices((train_chars, train_labels_one_hot)).batch(64).prefetch(tf.data.AUTOTUNE)\n",
    "val_char_dataset = tf.data.Dataset.from_tensor_slices((val_chars, val_labels_one_hot)).batch(64).prefetch(tf.data.AUTOTUNE)\n",
    "test_char_dataset = tf.data.Dataset.from_tensor_slices((test_chars, test_labels_one_hot)).batch(64).prefetch(tf.data.AUTOTUNE)"
   ]
  },
  {
   "cell_type": "code",
   "execution_count": 42,
   "id": "ojuwJMWksKdY",
   "metadata": {
    "colab": {
     "base_uri": "https://localhost:8080/"
    },
    "id": "ojuwJMWksKdY",
    "outputId": "2cd4239e-e956-48f9-b2c5-c45399fa6efc"
   },
   "outputs": [
    {
     "data": {
      "text/plain": [
       "<_PrefetchDataset element_spec=(TensorSpec(shape=(None,), dtype=tf.string, name=None), TensorSpec(shape=(None, 5), dtype=tf.float64, name=None))>"
      ]
     },
     "execution_count": 42,
     "metadata": {},
     "output_type": "execute_result"
    }
   ],
   "source": [
    "train_char_dataset"
   ]
  },
  {
   "cell_type": "code",
   "execution_count": 43,
   "id": "Mfe2n50OpxQb",
   "metadata": {
    "colab": {
     "base_uri": "https://localhost:8080/"
    },
    "id": "Mfe2n50OpxQb",
    "outputId": "7ff3ff23-92f5-4b0c-a921-6173ff02df75"
   },
   "outputs": [
    {
     "name": "stdout",
     "output_type": "stream",
     "text": [
      "Epoch 1/5\n",
      "281/281 [==============================] - 3s 5ms/step - loss: 1.3106 - accuracy: 0.4706 - val_loss: 1.0768 - val_accuracy: 0.5678\n",
      "Epoch 2/5\n",
      "281/281 [==============================] - 1s 4ms/step - loss: 1.0083 - accuracy: 0.5968 - val_loss: 0.9360 - val_accuracy: 0.6300\n",
      "Epoch 3/5\n",
      "281/281 [==============================] - 1s 4ms/step - loss: 0.9151 - accuracy: 0.6416 - val_loss: 0.8580 - val_accuracy: 0.6682\n",
      "Epoch 4/5\n",
      "281/281 [==============================] - 1s 4ms/step - loss: 0.8554 - accuracy: 0.6680 - val_loss: 0.8266 - val_accuracy: 0.6825\n",
      "Epoch 5/5\n",
      "281/281 [==============================] - 1s 4ms/step - loss: 0.8346 - accuracy: 0.6785 - val_loss: 0.7789 - val_accuracy: 0.7008\n"
     ]
    }
   ],
   "source": [
    "# Model 3 - Conv1D with character embedding\n",
    "inputs3 = tf.keras.Input(shape=(1,), dtype=tf.string)\n",
    "x = char_vectorizer(inputs3)\n",
    "x = char_embed(x)\n",
    "x = tf.keras.layers.Conv1D(filters=128, kernel_size=5, strides=1)(x)\n",
    "x = tf.keras.layers.GlobalMaxPool1D()(x)\n",
    "outputs3 = tf.keras.layers.Dense(5, activation=tf.keras.activations.softmax)(x)\n",
    "\n",
    "model_3 =tf.keras.Model(inputs3, outputs3)\n",
    "model_3.compile(loss=tf.keras.losses.CategoricalCrossentropy(),\n",
    "               optimizer=tf.keras.optimizers.Adam(),\n",
    "               metrics=['accuracy'])\n",
    "history_3 = model_3.fit(train_char_dataset,\n",
    "                        epochs=5,\n",
    "                        steps_per_epoch=int(0.1*len(train_char_dataset)),\n",
    "                        validation_data=val_char_dataset,\n",
    "                        validation_steps=int(0.1*len(val_char_dataset)))"
   ]
  },
  {
   "cell_type": "code",
   "execution_count": 44,
   "id": "mqL2MiTJq6me",
   "metadata": {
    "colab": {
     "base_uri": "https://localhost:8080/"
    },
    "id": "mqL2MiTJq6me",
    "outputId": "b2923297-34f6-4192-c477-bfba72b29a8b"
   },
   "outputs": [
    {
     "name": "stdout",
     "output_type": "stream",
     "text": [
      "473/473 [==============================] - 1s 2ms/step\n"
     ]
    },
    {
     "data": {
      "text/plain": [
       "{'accuracy': 69.43598570104595,\n",
       " 'precision': 0.6870529348728229,\n",
       " 'recall': 0.6943598570104594,\n",
       " 'f1': 0.6827579747760721}"
      ]
     },
     "execution_count": 44,
     "metadata": {},
     "output_type": "execute_result"
    }
   ],
   "source": [
    "model_3_preds = tf.argmax(model_3.predict(val_char_dataset), axis=1).numpy()\n",
    "model_3_results = calculate_results(val_labels_encoded, model_3_preds)\n",
    "model_3_results"
   ]
  },
  {
   "cell_type": "markdown",
   "id": "AiffRpH5Qlrn",
   "metadata": {
    "id": "AiffRpH5Qlrn"
   },
   "source": [
    "#### Model 4 - Combine token embedding and character embeddings"
   ]
  },
  {
   "cell_type": "code",
   "execution_count": 45,
   "id": "mGJdTdxUWeLN",
   "metadata": {
    "colab": {
     "base_uri": "https://localhost:8080/"
    },
    "id": "mGJdTdxUWeLN",
    "outputId": "94ab80ff-1661-4816-d867-f5a0238dc3d1"
   },
   "outputs": [
    {
     "name": "stdout",
     "output_type": "stream",
     "text": [
      "Model: \"token_and_char_embedding\"\n",
      "__________________________________________________________________________________________________\n",
      " Layer (type)                Output Shape                 Param #   Connected to                  \n",
      "==================================================================================================\n",
      " char_input (InputLayer)     [(None, 1)]                  0         []                            \n",
      "                                                                                                  \n",
      " token_input (InputLayer)    [(None,)]                    0         []                            \n",
      "                                                                                                  \n",
      " text_vectorization_1 (Text  (None, 290)                  0         ['char_input[0][0]']          \n",
      " Vectorization)                                                                                   \n",
      "                                                                                                  \n",
      " keras_layer (KerasLayer)    (None, 512)                  2567978   ['token_input[0][0]']         \n",
      "                                                          24                                      \n",
      "                                                                                                  \n",
      " embedding_1 (Embedding)     (None, 290, 25)              700       ['text_vectorization_1[1][0]']\n",
      "                                                                                                  \n",
      " token_outputs (Dense)       (None, 128)                  65664     ['keras_layer[1][0]']         \n",
      "                                                                                                  \n",
      " char_bidirectional (Bidire  (None, 48)                   9600      ['embedding_1[1][0]']         \n",
      " ctional)                                                                                         \n",
      "                                                                                                  \n",
      " token_char_hybrid (Concate  (None, 176)                  0         ['token_outputs[0][0]',       \n",
      " nate)                                                               'char_bidirectional[0][0]']  \n",
      "                                                                                                  \n",
      " dropout (Dropout)           (None, 176)                  0         ['token_char_hybrid[0][0]']   \n",
      "                                                                                                  \n",
      " dense_4 (Dense)             (None, 128)                  22656     ['dropout[0][0]']             \n",
      "                                                                                                  \n",
      " dropout_1 (Dropout)         (None, 128)                  0         ['dense_4[0][0]']             \n",
      "                                                                                                  \n",
      " dense_5 (Dense)             (None, 5)                    645       ['dropout_1[0][0]']           \n",
      "                                                                                                  \n",
      "==================================================================================================\n",
      "Total params: 256897089 (979.98 MB)\n",
      "Trainable params: 99265 (387.75 KB)\n",
      "Non-trainable params: 256797824 (979.61 MB)\n",
      "__________________________________________________________________________________________________\n"
     ]
    }
   ],
   "source": [
    "# setup token inputs\n",
    "token_inputs = tf.keras.layers.Input(shape=[], dtype=tf.string, name='token_input')\n",
    "token_embeddings = tf_hub_embedding_layer(token_inputs)\n",
    "token_outputs = tf.keras.layers.Dense(128,\n",
    "                                     activation=tf.keras.activations.relu,\n",
    "                                     name='token_outputs')(token_embeddings)\n",
    "token_model = tf.keras.Model(token_inputs, token_outputs)\n",
    "\n",
    "# setup char inputs\n",
    "char_inputs = tf.keras.layers.Input(shape=(1,), dtype=tf.string, name='char_input')\n",
    "char_vector = char_vectorizer(char_inputs)\n",
    "char_embeddings = char_embed(char_vector)\n",
    "char_bi_lstm = tf.keras.layers.Bidirectional(tf.keras.layers.LSTM(24), name='char_bidirectional')(char_embeddings)\n",
    "char_model = tf.keras.Model(char_inputs, char_bi_lstm)\n",
    "\n",
    "#concatenate the inputs\n",
    "token_char_concat = tf.keras.layers.Concatenate(name='token_char_hybrid')([token_model.output,\n",
    "                                                                           char_model.output])\n",
    "# create output layers - adding dropouts\n",
    "combined_dropout = tf.keras.layers.Dropout(0.5)(token_char_concat)\n",
    "combined_dense = tf.keras.layers.Dense(128, activation = tf.keras.activations.relu)(combined_dropout)\n",
    "final_dropout = tf.keras.layers.Dropout(0.5)(combined_dense)\n",
    "output_layer = tf.keras.layers.Dense(5, activation=tf.keras.activations.softmax)(final_dropout)\n",
    "\n",
    "model_4 = tf.keras.Model(inputs=[token_model.input, char_model.input],\n",
    "                         outputs=output_layer,\n",
    "                         name='token_and_char_embedding')\n",
    "\n",
    "model_4.summary()"
   ]
  },
  {
   "cell_type": "code",
   "execution_count": 46,
   "id": "12rA6tMjZVaj",
   "metadata": {
    "colab": {
     "base_uri": "https://localhost:8080/",
     "height": 976
    },
    "id": "12rA6tMjZVaj",
    "outputId": "7be7aa8e-c24d-4e9d-e132-a9b5ce20438b"
   },
   "outputs": [
    {
     "name": "stdout",
     "output_type": "stream",
     "text": [
      "You must install pydot (`pip install pydot`) and install graphviz (see instructions at https://graphviz.gitlab.io/download/) for plot_model to work.\n"
     ]
    }
   ],
   "source": [
    "# plot the model summary\n",
    "from keras.utils import plot_model\n",
    "plot_model(model_4, show_shapes=True)"
   ]
  },
  {
   "cell_type": "code",
   "execution_count": 47,
   "id": "4aoyOjRgaXMZ",
   "metadata": {
    "colab": {
     "base_uri": "https://localhost:8080/"
    },
    "id": "4aoyOjRgaXMZ",
    "outputId": "262da2e5-914d-4f48-e28d-34d9442d7ce8"
   },
   "outputs": [
    {
     "data": {
      "text/plain": [
       "(<_PrefetchDataset element_spec=((TensorSpec(shape=(None,), dtype=tf.string, name=None), TensorSpec(shape=(None,), dtype=tf.string, name=None)), TensorSpec(shape=(None, 5), dtype=tf.float64, name=None))>,\n",
       " <_PrefetchDataset element_spec=((TensorSpec(shape=(None,), dtype=tf.string, name=None), TensorSpec(shape=(None,), dtype=tf.string, name=None)), TensorSpec(shape=(None, 5), dtype=tf.float64, name=None))>)"
      ]
     },
     "execution_count": 47,
     "metadata": {},
     "output_type": "execute_result"
    }
   ],
   "source": [
    "# compile the model\n",
    "model_4.compile(loss=tf.keras.losses.CategoricalCrossentropy(),\n",
    "                optimizer=tf.keras.optimizers.Adam(),\n",
    "                metrics=['accuracy'])\n",
    "# create ttensorflwo dataset for the combined input\n",
    "train_char_token_data = tf.data.Dataset.from_tensor_slices((train_sentences,train_chars))\n",
    "train_char_token_labels = tf.data.Dataset.from_tensor_slices(train_labels_one_hot)\n",
    "train_char_token_dataset = tf.data.Dataset.zip((train_char_token_data, train_char_token_labels))\n",
    "train_char_token_dataset = train_char_token_dataset.batch(64).prefetch(tf.data.AUTOTUNE)\n",
    "\n",
    "val_char_token_data = tf.data.Dataset.from_tensor_slices((val_sentences,val_chars))\n",
    "val_char_token_labels = tf.data.Dataset.from_tensor_slices(val_labels_one_hot)\n",
    "val_char_token_dataset = tf.data.Dataset.zip((val_char_token_data, val_char_token_labels))\n",
    "val_char_token_dataset = val_char_token_dataset.batch(64).prefetch(tf.data.AUTOTUNE)\n",
    "\n",
    "test_char_token_data = tf.data.Dataset.from_tensor_slices((test_sentences,test_chars))\n",
    "test_char_token_labels = tf.data.Dataset.from_tensor_slices(test_labels_one_hot)\n",
    "test_char_token_dataset = tf.data.Dataset.zip((test_char_token_data, test_char_token_labels))\n",
    "test_char_token_dataset = test_char_token_dataset.batch(64).prefetch(tf.data.AUTOTUNE)\n",
    "\n",
    "train_char_token_dataset, val_char_token_dataset"
   ]
  },
  {
   "cell_type": "code",
   "execution_count": 48,
   "id": "2HsZgYOCdbId",
   "metadata": {
    "colab": {
     "base_uri": "https://localhost:8080/"
    },
    "id": "2HsZgYOCdbId",
    "outputId": "30be1bbb-9748-40c9-fbeb-ef54f708c6cc"
   },
   "outputs": [
    {
     "name": "stdout",
     "output_type": "stream",
     "text": [
      "Epoch 1/5\n",
      "281/281 [==============================] - 14s 26ms/step - loss: 1.0378 - accuracy: 0.5895 - val_loss: 0.8083 - val_accuracy: 0.6898\n",
      "Epoch 2/5\n",
      "281/281 [==============================] - 6s 21ms/step - loss: 0.8256 - accuracy: 0.6783 - val_loss: 0.7382 - val_accuracy: 0.7214\n",
      "Epoch 3/5\n",
      "281/281 [==============================] - 5s 19ms/step - loss: 0.7812 - accuracy: 0.7029 - val_loss: 0.7037 - val_accuracy: 0.7301\n",
      "Epoch 4/5\n",
      "281/281 [==============================] - 6s 22ms/step - loss: 0.7543 - accuracy: 0.7137 - val_loss: 0.6805 - val_accuracy: 0.7380\n",
      "Epoch 5/5\n",
      "281/281 [==============================] - 5s 20ms/step - loss: 0.7591 - accuracy: 0.7121 - val_loss: 0.6674 - val_accuracy: 0.7463\n"
     ]
    }
   ],
   "source": [
    "# fit model 4\n",
    "history_4 = model_4.fit(train_char_token_dataset,\n",
    "                        epochs=5,\n",
    "                        validation_data=val_char_token_dataset,\n",
    "                        steps_per_epoch=int(0.1*len(train_char_token_dataset)),\n",
    "                        validation_steps=int(0.1*len(val_char_token_dataset)))"
   ]
  },
  {
   "cell_type": "code",
   "execution_count": 49,
   "id": "LD2urEC4eEJv",
   "metadata": {
    "colab": {
     "base_uri": "https://localhost:8080/"
    },
    "id": "LD2urEC4eEJv",
    "outputId": "ad6830df-7a29-4069-f102-a5596f2bbe7e"
   },
   "outputs": [
    {
     "name": "stdout",
     "output_type": "stream",
     "text": [
      "473/473 [==============================] - 4s 8ms/step - loss: 0.6752 - accuracy: 0.7434\n"
     ]
    },
    {
     "data": {
      "text/plain": [
       "[0.6752440333366394, 0.7434462904930115]"
      ]
     },
     "execution_count": 49,
     "metadata": {},
     "output_type": "execute_result"
    }
   ],
   "source": [
    "#evaluate\n",
    "model_4.evaluate(val_char_token_dataset)"
   ]
  },
  {
   "cell_type": "code",
   "execution_count": 50,
   "id": "sAmSk5E8f9s0",
   "metadata": {
    "colab": {
     "base_uri": "https://localhost:8080/"
    },
    "id": "sAmSk5E8f9s0",
    "outputId": "155d7f7f-5de7-4b6a-d0da-26fe90d4611d"
   },
   "outputs": [
    {
     "name": "stdout",
     "output_type": "stream",
     "text": [
      "473/473 [==============================] - 5s 8ms/step\n"
     ]
    },
    {
     "data": {
      "text/plain": [
       "{'accuracy': 74.34463127234213,\n",
       " 'precision': 0.7411509664792942,\n",
       " 'recall': 0.7434463127234212,\n",
       " 'f1': 0.738486927441179}"
      ]
     },
     "execution_count": 50,
     "metadata": {},
     "output_type": "execute_result"
    }
   ],
   "source": [
    "model_4_preds = tf.argmax(model_4.predict(val_char_token_dataset), axis=1).numpy()\n",
    "model_4_results = calculate_results(val_labels_encoded, model_4_preds)\n",
    "model_4_results"
   ]
  },
  {
   "cell_type": "markdown",
   "id": "Eu3hIpk1Qd5U",
   "metadata": {
    "id": "Eu3hIpk1Qd5U"
   },
   "source": [
    "#### Model 5 - Token embeddings + character embeddings + positional embeddings\n",
    "\n",
    "maybe use line numbers for embeddings for better training"
   ]
  },
  {
   "cell_type": "code",
   "execution_count": 51,
   "id": "UZh7wP2ygQgr",
   "metadata": {
    "colab": {
     "base_uri": "https://localhost:8080/",
     "height": 483
    },
    "id": "UZh7wP2ygQgr",
    "outputId": "2bdf69f0-77c2-4533-8764-b3d8d9342f6e"
   },
   "outputs": [
    {
     "data": {
      "text/html": [
       "<div>\n",
       "<style scoped>\n",
       "    .dataframe tbody tr th:only-of-type {\n",
       "        vertical-align: middle;\n",
       "    }\n",
       "\n",
       "    .dataframe tbody tr th {\n",
       "        vertical-align: top;\n",
       "    }\n",
       "\n",
       "    .dataframe thead th {\n",
       "        text-align: right;\n",
       "    }\n",
       "</style>\n",
       "<table border=\"1\" class=\"dataframe\">\n",
       "  <thead>\n",
       "    <tr style=\"text-align: right;\">\n",
       "      <th></th>\n",
       "      <th>target</th>\n",
       "      <th>text</th>\n",
       "      <th>line_number</th>\n",
       "      <th>total_lines</th>\n",
       "    </tr>\n",
       "  </thead>\n",
       "  <tbody>\n",
       "    <tr>\n",
       "      <th>0</th>\n",
       "      <td>OBJECTIVE</td>\n",
       "      <td>to investigate the efficacy of @ weeks of dail...</td>\n",
       "      <td>0</td>\n",
       "      <td>11</td>\n",
       "    </tr>\n",
       "    <tr>\n",
       "      <th>1</th>\n",
       "      <td>METHODS</td>\n",
       "      <td>a total of @ patients with primary knee oa wer...</td>\n",
       "      <td>1</td>\n",
       "      <td>11</td>\n",
       "    </tr>\n",
       "    <tr>\n",
       "      <th>2</th>\n",
       "      <td>METHODS</td>\n",
       "      <td>outcome measures included pain reduction and i...</td>\n",
       "      <td>2</td>\n",
       "      <td>11</td>\n",
       "    </tr>\n",
       "    <tr>\n",
       "      <th>3</th>\n",
       "      <td>METHODS</td>\n",
       "      <td>pain was assessed using the visual analog pain...</td>\n",
       "      <td>3</td>\n",
       "      <td>11</td>\n",
       "    </tr>\n",
       "    <tr>\n",
       "      <th>4</th>\n",
       "      <td>METHODS</td>\n",
       "      <td>secondary outcome measures included the wester...</td>\n",
       "      <td>4</td>\n",
       "      <td>11</td>\n",
       "    </tr>\n",
       "    <tr>\n",
       "      <th>5</th>\n",
       "      <td>METHODS</td>\n",
       "      <td>serum levels of interleukin @ ( il-@ ) , il-@ ...</td>\n",
       "      <td>5</td>\n",
       "      <td>11</td>\n",
       "    </tr>\n",
       "    <tr>\n",
       "      <th>6</th>\n",
       "      <td>RESULTS</td>\n",
       "      <td>there was a clinically relevant reduction in t...</td>\n",
       "      <td>6</td>\n",
       "      <td>11</td>\n",
       "    </tr>\n",
       "    <tr>\n",
       "      <th>7</th>\n",
       "      <td>RESULTS</td>\n",
       "      <td>the mean difference between treatment arms ( @...</td>\n",
       "      <td>7</td>\n",
       "      <td>11</td>\n",
       "    </tr>\n",
       "    <tr>\n",
       "      <th>8</th>\n",
       "      <td>RESULTS</td>\n",
       "      <td>further , there was a clinically relevant redu...</td>\n",
       "      <td>8</td>\n",
       "      <td>11</td>\n",
       "    </tr>\n",
       "    <tr>\n",
       "      <th>9</th>\n",
       "      <td>RESULTS</td>\n",
       "      <td>these differences remained significant at @ we...</td>\n",
       "      <td>9</td>\n",
       "      <td>11</td>\n",
       "    </tr>\n",
       "    <tr>\n",
       "      <th>10</th>\n",
       "      <td>RESULTS</td>\n",
       "      <td>the outcome measures in rheumatology clinical ...</td>\n",
       "      <td>10</td>\n",
       "      <td>11</td>\n",
       "    </tr>\n",
       "    <tr>\n",
       "      <th>11</th>\n",
       "      <td>CONCLUSIONS</td>\n",
       "      <td>low-dose oral prednisolone had both a short-te...</td>\n",
       "      <td>11</td>\n",
       "      <td>11</td>\n",
       "    </tr>\n",
       "    <tr>\n",
       "      <th>12</th>\n",
       "      <td>BACKGROUND</td>\n",
       "      <td>emotional eating is associated with overeating...</td>\n",
       "      <td>0</td>\n",
       "      <td>10</td>\n",
       "    </tr>\n",
       "    <tr>\n",
       "      <th>13</th>\n",
       "      <td>BACKGROUND</td>\n",
       "      <td>yet , empirical evidence for individual ( trai...</td>\n",
       "      <td>1</td>\n",
       "      <td>10</td>\n",
       "    </tr>\n",
       "  </tbody>\n",
       "</table>\n",
       "</div>"
      ],
      "text/plain": [
       "         target                                               text  \\\n",
       "0     OBJECTIVE  to investigate the efficacy of @ weeks of dail...   \n",
       "1       METHODS  a total of @ patients with primary knee oa wer...   \n",
       "2       METHODS  outcome measures included pain reduction and i...   \n",
       "3       METHODS  pain was assessed using the visual analog pain...   \n",
       "4       METHODS  secondary outcome measures included the wester...   \n",
       "5       METHODS  serum levels of interleukin @ ( il-@ ) , il-@ ...   \n",
       "6       RESULTS  there was a clinically relevant reduction in t...   \n",
       "7       RESULTS  the mean difference between treatment arms ( @...   \n",
       "8       RESULTS  further , there was a clinically relevant redu...   \n",
       "9       RESULTS  these differences remained significant at @ we...   \n",
       "10      RESULTS  the outcome measures in rheumatology clinical ...   \n",
       "11  CONCLUSIONS  low-dose oral prednisolone had both a short-te...   \n",
       "12   BACKGROUND  emotional eating is associated with overeating...   \n",
       "13   BACKGROUND  yet , empirical evidence for individual ( trai...   \n",
       "\n",
       "    line_number  total_lines  \n",
       "0             0           11  \n",
       "1             1           11  \n",
       "2             2           11  \n",
       "3             3           11  \n",
       "4             4           11  \n",
       "5             5           11  \n",
       "6             6           11  \n",
       "7             7           11  \n",
       "8             8           11  \n",
       "9             9           11  \n",
       "10           10           11  \n",
       "11           11           11  \n",
       "12            0           10  \n",
       "13            1           10  "
      ]
     },
     "execution_count": 51,
     "metadata": {},
     "output_type": "execute_result"
    }
   ],
   "source": [
    "train_df.head(14)"
   ]
  },
  {
   "cell_type": "markdown",
   "id": "9Mxaw_mhVdUL",
   "metadata": {
    "id": "9Mxaw_mhVdUL"
   },
   "source": [
    "Any engineered features usd to train the model need to be available at test time, in our case, line number and total number of lines needs to be available"
   ]
  },
  {
   "cell_type": "code",
   "execution_count": 52,
   "id": "0BTG33kzRl1G",
   "metadata": {
    "colab": {
     "base_uri": "https://localhost:8080/"
    },
    "id": "0BTG33kzRl1G",
    "outputId": "8a1db4c3-90bb-488e-e43a-80a08558d8f2"
   },
   "outputs": [
    {
     "data": {
      "text/plain": [
       "line_number\n",
       "0     15000\n",
       "1     15000\n",
       "2     15000\n",
       "3     15000\n",
       "4     14992\n",
       "5     14949\n",
       "6     14758\n",
       "7     14279\n",
       "8     13346\n",
       "9     11981\n",
       "10    10041\n",
       "11     7892\n",
       "12     5853\n",
       "13     4152\n",
       "14     2835\n",
       "15     1861\n",
       "16     1188\n",
       "17      751\n",
       "18      462\n",
       "19      286\n",
       "20      162\n",
       "21      101\n",
       "22       66\n",
       "23       33\n",
       "24       22\n",
       "25       14\n",
       "26        7\n",
       "27        4\n",
       "28        3\n",
       "29        1\n",
       "30        1\n",
       "Name: count, dtype: int64"
      ]
     },
     "execution_count": 52,
     "metadata": {},
     "output_type": "execute_result"
    }
   ],
   "source": [
    "# How many different line numbers are there\n",
    "train_df.line_number.value_counts()"
   ]
  },
  {
   "cell_type": "code",
   "execution_count": 53,
   "id": "_0LiguLoXlXH",
   "metadata": {
    "colab": {
     "base_uri": "https://localhost:8080/",
     "height": 447
    },
    "id": "_0LiguLoXlXH",
    "outputId": "95d682da-b894-4558-a1fe-b7fda1cbc809"
   },
   "outputs": [
    {
     "data": {
      "text/plain": [
       "<Axes: ylabel='Frequency'>"
      ]
     },
     "execution_count": 53,
     "metadata": {},
     "output_type": "execute_result"
    },
    {
     "data": {
      "image/png": "[encoded data removed]",
      "text/plain": [
       "<Figure size 640x480 with 1 Axes>"
      ]
     },
     "metadata": {},
     "output_type": "display_data"
    }
   ],
   "source": [
    "# check distribution of line_numbers column\n",
    "train_df.line_number.plot.hist()"
   ]
  },
  {
   "cell_type": "code",
   "execution_count": 54,
   "id": "aYHowe43kLMz",
   "metadata": {
    "colab": {
     "base_uri": "https://localhost:8080/"
    },
    "id": "aYHowe43kLMz",
    "outputId": "30355de6-62f1-4df5-8b97-e371fe209c25"
   },
   "outputs": [
    {
     "data": {
      "text/plain": [
       "<tf.Tensor: shape=(10, 15), dtype=float32, numpy=\n",
       "array([[1., 0., 0., 0., 0., 0., 0., 0., 0., 0., 0., 0., 0., 0., 0.],\n",
       "       [0., 1., 0., 0., 0., 0., 0., 0., 0., 0., 0., 0., 0., 0., 0.],\n",
       "       [0., 0., 1., 0., 0., 0., 0., 0., 0., 0., 0., 0., 0., 0., 0.],\n",
       "       [0., 0., 0., 1., 0., 0., 0., 0., 0., 0., 0., 0., 0., 0., 0.],\n",
       "       [0., 0., 0., 0., 1., 0., 0., 0., 0., 0., 0., 0., 0., 0., 0.],\n",
       "       [0., 0., 0., 0., 0., 1., 0., 0., 0., 0., 0., 0., 0., 0., 0.],\n",
       "       [0., 0., 0., 0., 0., 0., 1., 0., 0., 0., 0., 0., 0., 0., 0.],\n",
       "       [0., 0., 0., 0., 0., 0., 0., 1., 0., 0., 0., 0., 0., 0., 0.],\n",
       "       [0., 0., 0., 0., 0., 0., 0., 0., 1., 0., 0., 0., 0., 0., 0.],\n",
       "       [0., 0., 0., 0., 0., 0., 0., 0., 0., 1., 0., 0., 0., 0., 0.]],\n",
       "      dtype=float32)>"
      ]
     },
     "execution_count": 54,
     "metadata": {},
     "output_type": "execute_result"
    }
   ],
   "source": [
    "# use tensorflow to create one hot encoded tensors of line_numbers\n",
    "train_line_numbers_one_hot = tf.one_hot(train_df.line_number.to_numpy(), depth=15)\n",
    "val_line_numbers_one_hot = tf.one_hot(val_df.line_number.to_numpy(), depth=15)\n",
    "test_line_numbers_one_hot = tf.one_hot(test_df.line_number.to_numpy(), depth=15)\n",
    "train_line_numbers_one_hot[:10]"
   ]
  },
  {
   "cell_type": "code",
   "execution_count": 55,
   "id": "wxvkX5tmkgza",
   "metadata": {
    "colab": {
     "base_uri": "https://localhost:8080/",
     "height": 924
    },
    "id": "wxvkX5tmkgza",
    "outputId": "932f46ca-b499-4ae8-da04-53badea01039"
   },
   "outputs": [
    {
     "data": {
      "text/plain": [
       "(total_lines\n",
       " 11    24468\n",
       " 10    23639\n",
       " 12    22113\n",
       " 9     19400\n",
       " 13    18438\n",
       " 14    14610\n",
       " 8     12285\n",
       " 15    10768\n",
       " 7      7464\n",
       " 16     7429\n",
       " 17     5202\n",
       " 6      3353\n",
       " 18     3344\n",
       " 19     2480\n",
       " 20     1281\n",
       " 5      1146\n",
       " 21      770\n",
       " 22      759\n",
       " 23      264\n",
       " 4       215\n",
       " 24      200\n",
       " 25      182\n",
       " 26       81\n",
       " 28       58\n",
       " 3        32\n",
       " 30       31\n",
       " 27       28\n",
       " Name: count, dtype: int64,\n",
       " 18.0)"
      ]
     },
     "execution_count": 55,
     "metadata": {},
     "output_type": "execute_result"
    },
    {
     "data": {
      "image/png": "[encoded data removed]",
      "text/plain": [
       "<Figure size 640x480 with 1 Axes>"
      ]
     },
     "metadata": {},
     "output_type": "display_data"
    }
   ],
   "source": [
    "train_df.total_lines.plot.hist()\n",
    "train_df.total_lines.value_counts(), np.percentile(train_df.total_lines, 95)"
   ]
  },
  {
   "cell_type": "code",
   "execution_count": 56,
   "id": "_baWhp5ilCxl",
   "metadata": {
    "colab": {
     "base_uri": "https://localhost:8080/"
    },
    "id": "_baWhp5ilCxl",
    "outputId": "092d898a-9e1f-41e4-d318-f4264deff55f"
   },
   "outputs": [
    {
     "data": {
      "text/plain": [
       "<tf.Tensor: shape=(10, 20), dtype=float32, numpy=\n",
       "array([[0., 0., 0., 0., 0., 0., 0., 0., 0., 0., 0., 1., 0., 0., 0., 0.,\n",
       "        0., 0., 0., 0.],\n",
       "       [0., 0., 0., 0., 0., 0., 0., 0., 0., 0., 0., 1., 0., 0., 0., 0.,\n",
       "        0., 0., 0., 0.],\n",
       "       [0., 0., 0., 0., 0., 0., 0., 0., 0., 0., 0., 1., 0., 0., 0., 0.,\n",
       "        0., 0., 0., 0.],\n",
       "       [0., 0., 0., 0., 0., 0., 0., 0., 0., 0., 0., 1., 0., 0., 0., 0.,\n",
       "        0., 0., 0., 0.],\n",
       "       [0., 0., 0., 0., 0., 0., 0., 0., 0., 0., 0., 1., 0., 0., 0., 0.,\n",
       "        0., 0., 0., 0.],\n",
       "       [0., 0., 0., 0., 0., 0., 0., 0., 0., 0., 0., 1., 0., 0., 0., 0.,\n",
       "        0., 0., 0., 0.],\n",
       "       [0., 0., 0., 0., 0., 0., 0., 0., 0., 0., 0., 1., 0., 0., 0., 0.,\n",
       "        0., 0., 0., 0.],\n",
       "       [0., 0., 0., 0., 0., 0., 0., 0., 0., 0., 0., 1., 0., 0., 0., 0.,\n",
       "        0., 0., 0., 0.],\n",
       "       [0., 0., 0., 0., 0., 0., 0., 0., 0., 0., 0., 1., 0., 0., 0., 0.,\n",
       "        0., 0., 0., 0.],\n",
       "       [0., 0., 0., 0., 0., 0., 0., 0., 0., 0., 0., 1., 0., 0., 0., 0.,\n",
       "        0., 0., 0., 0.]], dtype=float32)>"
      ]
     },
     "execution_count": 56,
     "metadata": {},
     "output_type": "execute_result"
    }
   ],
   "source": [
    "# use tensorflow to one hot encode tensors\n",
    "train_total_line_one_hot = tf.one_hot(train_df.total_lines.to_numpy(), depth=20)\n",
    "val_total_line_one_hot = tf.one_hot(val_df.total_lines.to_numpy(), depth=20)\n",
    "test_total_line_one_hot = tf.one_hot(test_df.total_lines.to_numpy(), depth=20)\n",
    "train_total_line_one_hot[:10]"
   ]
  },
  {
   "cell_type": "markdown",
   "id": "bK_PMIZOmn3X",
   "metadata": {
    "id": "bK_PMIZOmn3X"
   },
   "source": [
    "#### build model 5 - tribrid embedding model\n",
    "1. Build a token level model\n",
    "2. Build a character level model\n",
    "3. Build a model for \"line_numbers\" feature\n",
    "4. Build a model for \"total_lines\" feature\n",
    "5. Concatenate mdoel 1 & 2\n",
    "6. Concatenate model 3, 4 & 5\n",
    "7. Create output layer that accepts tribed input and gives output label probabilities\n",
    "8. Combine the inputs of 1, 2, 3 & 4 and outputs of 7 into a model"
   ]
  },
  {
   "cell_type": "code",
   "execution_count": 57,
   "id": "58TlK9_ml-bR",
   "metadata": {
    "colab": {
     "base_uri": "https://localhost:8080/"
    },
    "id": "58TlK9_ml-bR",
    "outputId": "c403530e-2615-484c-c9f9-f07e4847c30a"
   },
   "outputs": [
    {
     "name": "stdout",
     "output_type": "stream",
     "text": [
      "Model: \"tribid_model\"\n",
      "__________________________________________________________________________________________________\n",
      " Layer (type)                Output Shape                 Param #   Connected to                  \n",
      "==================================================================================================\n",
      " char_input (InputLayer)     [(None, 1)]                  0         []                            \n",
      "                                                                                                  \n",
      " token_input (InputLayer)    [(None,)]                    0         []                            \n",
      "                                                                                                  \n",
      " text_vectorization_1 (Text  (None, 290)                  0         ['char_input[0][0]']          \n",
      " Vectorization)                                                                                   \n",
      "                                                                                                  \n",
      " keras_layer (KerasLayer)    (None, 512)                  2567978   ['token_input[0][0]']         \n",
      "                                                          24                                      \n",
      "                                                                                                  \n",
      " embedding_1 (Embedding)     (None, 290, 25)              700       ['text_vectorization_1[2][0]']\n",
      "                                                                                                  \n",
      " token_output (Dense)        (None, 128)                  65664     ['keras_layer[2][0]']         \n",
      "                                                                                                  \n",
      " char_bi_lstm (Bidirectiona  (None, 48)                   9600      ['embedding_1[2][0]']         \n",
      " l)                                                                                               \n",
      "                                                                                                  \n",
      " token_char_concat (Concate  (None, 176)                  0         ['token_output[0][0]',        \n",
      " nate)                                                               'char_bi_lstm[0][0]']        \n",
      "                                                                                                  \n",
      " line_number_inputs (InputL  [(None, 15)]                 0         []                            \n",
      " ayer)                                                                                            \n",
      "                                                                                                  \n",
      " total_lines_input (InputLa  [(None, 20)]                 0         []                            \n",
      " yer)                                                                                             \n",
      "                                                                                                  \n",
      " dense_6 (Dense)             (None, 256)                  45312     ['token_char_concat[0][0]']   \n",
      "                                                                                                  \n",
      " line_number_dense (Dense)   (None, 32)                   512       ['line_number_inputs[0][0]']  \n",
      "                                                                                                  \n",
      " total_lines_dense (Dense)   (None, 32)                   672       ['total_lines_input[0][0]']   \n",
      "                                                                                                  \n",
      " dropout_2 (Dropout)         (None, 256)                  0         ['dense_6[0][0]']             \n",
      "                                                                                                  \n",
      " all_inputs_concatenate (Co  (None, 320)                  0         ['line_number_dense[0][0]',   \n",
      " ncatenate)                                                          'total_lines_dense[0][0]',   \n",
      "                                                                     'dropout_2[0][0]']           \n",
      "                                                                                                  \n",
      " dense_7 (Dense)             (None, 5)                    1605      ['all_inputs_concatenate[0][0]\n",
      "                                                                    ']                            \n",
      "                                                                                                  \n",
      "==================================================================================================\n",
      "Total params: 256921889 (980.08 MB)\n",
      "Trainable params: 124065 (484.63 KB)\n",
      "Non-trainable params: 256797824 (979.61 MB)\n",
      "__________________________________________________________________________________________________\n"
     ]
    }
   ],
   "source": [
    "# setup token level model\n",
    "token_inputs = tf.keras.layers.Input(shape=[], dtype=tf.string, name='token_input')\n",
    "token_embeddings = tf_hub_embedding_layer(token_inputs)\n",
    "token_outputs = tf.keras.layers.Dense(128, activation=tf.keras.activations.relu, name='token_output')(token_embeddings)\n",
    "token_model = tf.keras.Model(inputs = token_inputs,\n",
    "                             outputs = token_outputs)\n",
    "\n",
    "# setup character level model\n",
    "char_inputs = tf.keras.layers.Input(shape=(1,), dtype=tf.string, name='char_input')\n",
    "char_vector = char_vectorizer(char_inputs)\n",
    "char_embeddings = char_embed(char_vector)\n",
    "char_bi_lstm = tf.keras.layers.Bidirectional(tf.keras.layers.LSTM(24), name='char_bi_lstm')(char_embeddings)\n",
    "char_model = tf.keras.Model(inputs = char_inputs,\n",
    "                            outputs = char_bi_lstm)\n",
    "\n",
    "#setup model for line_number feature\n",
    "line_number_input = tf.keras.layers.Input(shape=(15, ), dtype=tf.float32, name='line_number_inputs')\n",
    "line_number_dense = tf.keras.layers.Dense(32, activation=tf.keras.activations.relu, name='line_number_dense')(line_number_input)\n",
    "line_number_model = tf.keras.Model(inputs = line_number_input,\n",
    "                                   outputs = line_number_dense)\n",
    "\n",
    "#setup model for total_lines feature\n",
    "total_lines_input = tf.keras.layers.Input(shape=(20, ), dtype=tf.float32, name='total_lines_input')\n",
    "total_lines_dense = tf.keras.layers.Dense(32, activation=tf.keras.activations.relu, name='total_lines_dense')(total_lines_input)\n",
    "total_lines_model = tf.keras.Model(inputs=total_lines_input,\n",
    "                                  outputs = total_lines_dense)\n",
    "\n",
    "#concatenate token and char embeddings\n",
    "token_char_concat = tf.keras.layers.Concatenate(name='token_char_concat')([token_model.output,\n",
    "                                                                           char_model.output])\n",
    "token_char_dense = tf.keras.layers.Dense(256, activation=tf.keras.activations.relu)(token_char_concat)\n",
    "token_char_dropout = tf.keras.layers.Dropout(0.5)(token_char_dense)\n",
    "\n",
    "#concatenate previous concatenated layer with features\n",
    "all_concat = tf.keras.layers.Concatenate(name='all_inputs_concatenate')([line_number_model.output, total_lines_model.output, token_char_dropout])\n",
    "\n",
    "# create output layer that accepts tribed input\n",
    "output_layer = tf.keras.layers.Dense(5, activation=tf.keras.activations.softmax)(all_concat)\n",
    "\n",
    "model_5 = tf.keras.Model(inputs = [line_number_model.input,\n",
    "                                   total_lines_model.input,\n",
    "                                   token_model.input,\n",
    "                                   char_model.input],\n",
    "                             outputs = output_layer,\n",
    "                             name='tribid_model')\n",
    "model_5.compile(loss=tf.keras.losses.CategoricalCrossentropy(label_smoothing=0.2), # reduces overfitting in label probability predictions\n",
    "                optimizer=tf.keras.optimizers.Adam(),\n",
    "                metrics=['accuracy'])\n",
    "\n",
    "model_5.summary()"
   ]
  },
  {
   "cell_type": "code",
   "execution_count": 58,
   "id": "7H7m1A0JrZKl",
   "metadata": {
    "colab": {
     "base_uri": "https://localhost:8080/",
     "height": 982
    },
    "id": "7H7m1A0JrZKl",
    "outputId": "40e184ec-de84-410d-e295-27fd2cfdf970"
   },
   "outputs": [
    {
     "name": "stdout",
     "output_type": "stream",
     "text": [
      "You must install pydot (`pip install pydot`) and install graphviz (see instructions at https://graphviz.gitlab.io/download/) for plot_model to work.\n"
     ]
    }
   ],
   "source": [
    "from keras.utils import plot_model\n",
    "plot_model(model_5, show_shapes=True, show_dtype=True, expand_nested=True, show_layer_activations=True, dpi=75)"
   ]
  },
  {
   "cell_type": "code",
   "execution_count": 59,
   "id": "wTKUqq5QtDOT",
   "metadata": {
    "colab": {
     "base_uri": "https://localhost:8080/"
    },
    "id": "wTKUqq5QtDOT",
    "outputId": "51aa8039-09d4-4361-fa5d-5a541f420c70"
   },
   "outputs": [
    {
     "data": {
      "text/plain": [
       "<_PrefetchDataset element_spec=((TensorSpec(shape=(None, 15), dtype=tf.float32, name=None), TensorSpec(shape=(None, 20), dtype=tf.float32, name=None), TensorSpec(shape=(None,), dtype=tf.string, name=None), TensorSpec(shape=(None,), dtype=tf.string, name=None)), TensorSpec(shape=(None, 5), dtype=tf.float64, name=None))>"
      ]
     },
     "execution_count": 59,
     "metadata": {},
     "output_type": "execute_result"
    }
   ],
   "source": [
    "# Create data API for multi inputs\n",
    "train_all_dataset_x = tf.data.Dataset.from_tensor_slices((train_line_numbers_one_hot, train_total_line_one_hot, train_sentences, train_chars))\n",
    "train_all_dataset_y = tf.data.Dataset.from_tensor_slices(train_labels_one_hot)\n",
    "train_all_dataset = tf.data.Dataset.zip((train_all_dataset_x, train_all_dataset_y)).batch(64).prefetch(tf.data.AUTOTUNE)\n",
    "\n",
    "val_all_dataset_x = tf.data.Dataset.from_tensor_slices((val_line_numbers_one_hot, val_total_line_one_hot, val_sentences, val_chars))\n",
    "val_all_dataset_y = tf.data.Dataset.from_tensor_slices(val_labels_one_hot)\n",
    "val_all_dataset = tf.data.Dataset.zip((val_all_dataset_x, val_all_dataset_y)).batch(64).prefetch(tf.data.AUTOTUNE)\n",
    "\n",
    "test_all_dataset_x = tf.data.Dataset.from_tensor_slices((test_line_numbers_one_hot, test_total_line_one_hot, test_sentences, test_chars))\n",
    "test_all_dataset_y = tf.data.Dataset.from_tensor_slices(test_labels_one_hot)\n",
    "test_all_dataset = tf.data.Dataset.zip((test_all_dataset_x, test_all_dataset_y)).batch(64).prefetch(tf.data.AUTOTUNE)\n",
    "\n",
    "train_all_dataset"
   ]
  },
  {
   "cell_type": "code",
   "execution_count": 60,
   "id": "J_CC5jGIxSGp",
   "metadata": {
    "colab": {
     "base_uri": "https://localhost:8080/"
    },
    "id": "J_CC5jGIxSGp",
    "outputId": "25c24cf6-beff-4945-e184-31d62bd3477f"
   },
   "outputs": [
    {
     "name": "stdout",
     "output_type": "stream",
     "text": [
      "Epoch 1/5\n",
      "281/281 [==============================] - 14s 27ms/step - loss: 1.1457 - accuracy: 0.6904 - val_loss: 1.0025 - val_accuracy: 0.7959\n",
      "Epoch 2/5\n",
      "281/281 [==============================] - 6s 21ms/step - loss: 0.9835 - accuracy: 0.8049 - val_loss: 0.9587 - val_accuracy: 0.8178\n",
      "Epoch 3/5\n",
      "281/281 [==============================] - 5s 19ms/step - loss: 0.9605 - accuracy: 0.8165 - val_loss: 0.9486 - val_accuracy: 0.8258\n",
      "Epoch 4/5\n",
      "281/281 [==============================] - 6s 22ms/step - loss: 0.9471 - accuracy: 0.8298 - val_loss: 0.9358 - val_accuracy: 0.8308\n",
      "Epoch 5/5\n",
      "281/281 [==============================] - 6s 21ms/step - loss: 0.9421 - accuracy: 0.8324 - val_loss: 0.9283 - val_accuracy: 0.8391\n"
     ]
    }
   ],
   "source": [
    "# Fit the model\n",
    "history_5 = model_5.fit(train_all_dataset,\n",
    "                        epochs=5,\n",
    "                        validation_data=val_all_dataset,\n",
    "                        steps_per_epoch=int(0.1*len(train_all_dataset)),\n",
    "                        validation_steps=int(0.1*len(val_all_dataset)))"
   ]
  },
  {
   "cell_type": "code",
   "execution_count": 61,
   "id": "E5qda-9vzh-Z",
   "metadata": {
    "colab": {
     "base_uri": "https://localhost:8080/"
    },
    "id": "E5qda-9vzh-Z",
    "outputId": "81276e41-db13-458d-e1e1-f8b2fcd33f61"
   },
   "outputs": [
    {
     "name": "stdout",
     "output_type": "stream",
     "text": [
      "473/473 [==============================] - 5s 8ms/step\n"
     ]
    },
    {
     "data": {
      "text/plain": [
       "{'accuracy': 84.11889315503774,\n",
       " 'precision': 0.8453193840600012,\n",
       " 'recall': 0.8411889315503773,\n",
       " 'f1': 0.8370127856219338}"
      ]
     },
     "execution_count": 61,
     "metadata": {},
     "output_type": "execute_result"
    }
   ],
   "source": [
    "# make predictions\n",
    "model_5_preds = tf.argmax(model_5.predict(val_all_dataset), axis=1).numpy()\n",
    "model_5_results = calculate_results(val_labels_encoded, model_5_preds)\n",
    "model_5_results"
   ]
  },
  {
   "cell_type": "markdown",
   "id": "FShqw_mX41kU",
   "metadata": {
    "id": "FShqw_mX41kU"
   },
   "source": [
    "#### Compare model results"
   ]
  },
  {
   "cell_type": "code",
   "execution_count": 62,
   "id": "VV90f4Ql0PRT",
   "metadata": {
    "colab": {
     "base_uri": "https://localhost:8080/",
     "height": 235
    },
    "id": "VV90f4Ql0PRT",
    "outputId": "91f108ab-9cdc-4b87-f62a-1c849a7060d0"
   },
   "outputs": [
    {
     "data": {
      "text/html": [
       "<div>\n",
       "<style scoped>\n",
       "    .dataframe tbody tr th:only-of-type {\n",
       "        vertical-align: middle;\n",
       "    }\n",
       "\n",
       "    .dataframe tbody tr th {\n",
       "        vertical-align: top;\n",
       "    }\n",
       "\n",
       "    .dataframe thead th {\n",
       "        text-align: right;\n",
       "    }\n",
       "</style>\n",
       "<table border=\"1\" class=\"dataframe\">\n",
       "  <thead>\n",
       "    <tr style=\"text-align: right;\">\n",
       "      <th></th>\n",
       "      <th>accuracy</th>\n",
       "      <th>precision</th>\n",
       "      <th>recall</th>\n",
       "      <th>f1</th>\n",
       "    </tr>\n",
       "  </thead>\n",
       "  <tbody>\n",
       "    <tr>\n",
       "      <th>model_0_baseline</th>\n",
       "      <td>0.721832</td>\n",
       "      <td>0.718647</td>\n",
       "      <td>0.721832</td>\n",
       "      <td>0.698925</td>\n",
       "    </tr>\n",
       "    <tr>\n",
       "      <th>model_1_custom_token_embedding</th>\n",
       "      <td>0.792864</td>\n",
       "      <td>0.792702</td>\n",
       "      <td>0.792864</td>\n",
       "      <td>0.788573</td>\n",
       "    </tr>\n",
       "    <tr>\n",
       "      <th>model_2_pretrained_token_embedding</th>\n",
       "      <td>0.723554</td>\n",
       "      <td>0.719486</td>\n",
       "      <td>0.723554</td>\n",
       "      <td>0.717960</td>\n",
       "    </tr>\n",
       "    <tr>\n",
       "      <th>model_3_char_embedding</th>\n",
       "      <td>0.694360</td>\n",
       "      <td>0.687053</td>\n",
       "      <td>0.694360</td>\n",
       "      <td>0.682758</td>\n",
       "    </tr>\n",
       "    <tr>\n",
       "      <th>model_4_hybrid_token_char_embedding</th>\n",
       "      <td>0.743446</td>\n",
       "      <td>0.741151</td>\n",
       "      <td>0.743446</td>\n",
       "      <td>0.738487</td>\n",
       "    </tr>\n",
       "    <tr>\n",
       "      <th>model_5_hybrid_token_char_positional_embedding</th>\n",
       "      <td>0.841189</td>\n",
       "      <td>0.845319</td>\n",
       "      <td>0.841189</td>\n",
       "      <td>0.837013</td>\n",
       "    </tr>\n",
       "  </tbody>\n",
       "</table>\n",
       "</div>"
      ],
      "text/plain": [
       "                                                accuracy  precision    recall  \\\n",
       "model_0_baseline                                0.721832   0.718647  0.721832   \n",
       "model_1_custom_token_embedding                  0.792864   0.792702  0.792864   \n",
       "model_2_pretrained_token_embedding              0.723554   0.719486  0.723554   \n",
       "model_3_char_embedding                          0.694360   0.687053  0.694360   \n",
       "model_4_hybrid_token_char_embedding             0.743446   0.741151  0.743446   \n",
       "model_5_hybrid_token_char_positional_embedding  0.841189   0.845319  0.841189   \n",
       "\n",
       "                                                      f1  \n",
       "model_0_baseline                                0.698925  \n",
       "model_1_custom_token_embedding                  0.788573  \n",
       "model_2_pretrained_token_embedding              0.717960  \n",
       "model_3_char_embedding                          0.682758  \n",
       "model_4_hybrid_token_char_embedding             0.738487  \n",
       "model_5_hybrid_token_char_positional_embedding  0.837013  "
      ]
     },
     "execution_count": 62,
     "metadata": {},
     "output_type": "execute_result"
    }
   ],
   "source": [
    "#Combine model results into data frame\n",
    "all_model_results = pd.DataFrame({\"model_0_baseline\":model_0_results,\n",
    "                                  \"model_1_custom_token_embedding\":model_1_results,\n",
    "                                  \"model_2_pretrained_token_embedding\":model_2_results,\n",
    "                                  \"model_3_char_embedding\":model_3_results,\n",
    "                                  \"model_4_hybrid_token_char_embedding\":model_4_results,\n",
    "                                  \"model_5_hybrid_token_char_positional_embedding\":model_5_results})\n",
    "all_model_results = all_model_results.transpose()\n",
    "all_model_results.accuracy = all_model_results.accuracy/100\n",
    "all_model_results"
   ]
  },
  {
   "cell_type": "code",
   "execution_count": 63,
   "id": "Vx4IbKl45myZ",
   "metadata": {
    "colab": {
     "base_uri": "https://localhost:8080/",
     "height": 956
    },
    "id": "Vx4IbKl45myZ",
    "outputId": "8feab1b1-2b79-4db5-df9e-c148d81f49ac"
   },
   "outputs": [
    {
     "data": {
      "text/plain": [
       "<matplotlib.legend.Legend at 0x7fe9b80ca8e0>"
      ]
     },
     "execution_count": 63,
     "metadata": {},
     "output_type": "execute_result"
    },
    {
     "data": {
      "image/png": "[encoded data removed]",
      "text/plain": [
       "<Figure size 1000x700 with 1 Axes>"
      ]
     },
     "metadata": {},
     "output_type": "display_data"
    }
   ],
   "source": [
    "all_model_results.plot(kind='bar', figsize=(10,7)).legend(bbox_to_anchor=(1.0, 1.0))"
   ]
  },
  {
   "cell_type": "code",
   "execution_count": 64,
   "id": "1e0B9ag76SPG",
   "metadata": {
    "colab": {
     "base_uri": "https://localhost:8080/",
     "height": 956
    },
    "id": "1e0B9ag76SPG",
    "outputId": "56b0ae4a-dcfb-4a89-f6ad-9e3e5adabb2f"
   },
   "outputs": [
    {
     "data": {
      "text/plain": [
       "<matplotlib.legend.Legend at 0x7fea007b5fd0>"
      ]
     },
     "execution_count": 64,
     "metadata": {},
     "output_type": "execute_result"
    },
    {
     "data": {
      "image/png": "[encoded data removed]",
      "text/plain": [
       "<Figure size 1000x700 with 1 Axes>"
      ]
     },
     "metadata": {},
     "output_type": "display_data"
    }
   ],
   "source": [
    "# get f1 score\n",
    "all_model_results.sort_values(\"f1\", ascending=True).f1.plot(kind='bar', figsize=(10,7)).legend(bbox_to_anchor=(1.0, 1.0))"
   ]
  },
  {
   "cell_type": "code",
   "execution_count": 65,
   "id": "AJc_gQYS6k43",
   "metadata": {
    "id": "AJc_gQYS6k43"
   },
   "outputs": [
    {
     "name": "stdout",
     "output_type": "stream",
     "text": [
      "INFO:tensorflow:Unsupported signature for serialization: ((TensorSpec(shape=(512, 128), dtype=tf.float32, name='gradient'), <tensorflow.python.framework.func_graph.UnknownArgument object at 0x7fe9e04cae20>, 140643056916480), {}).\n"
     ]
    },
    {
     "name": "stderr",
     "output_type": "stream",
     "text": [
      "INFO:tensorflow:Unsupported signature for serialization: ((TensorSpec(shape=(512, 128), dtype=tf.float32, name='gradient'), <tensorflow.python.framework.func_graph.UnknownArgument object at 0x7fe9e04cae20>, 140643056916480), {}).\n"
     ]
    },
    {
     "name": "stdout",
     "output_type": "stream",
     "text": [
      "INFO:tensorflow:Unsupported signature for serialization: ((TensorSpec(shape=(128,), dtype=tf.float32, name='gradient'), <tensorflow.python.framework.func_graph.UnknownArgument object at 0x7fe9e04dfe80>, 140643056916880), {}).\n"
     ]
    },
    {
     "name": "stderr",
     "output_type": "stream",
     "text": [
      "INFO:tensorflow:Unsupported signature for serialization: ((TensorSpec(shape=(128,), dtype=tf.float32, name='gradient'), <tensorflow.python.framework.func_graph.UnknownArgument object at 0x7fe9e04dfe80>, 140643056916880), {}).\n"
     ]
    },
    {
     "name": "stdout",
     "output_type": "stream",
     "text": [
      "INFO:tensorflow:Unsupported signature for serialization: ((TensorSpec(shape=(25, 96), dtype=tf.float32, name='gradient'), <tensorflow.python.framework.func_graph.UnknownArgument object at 0x7fe9e04f1e80>, 140643056506560), {}).\n"
     ]
    },
    {
     "name": "stderr",
     "output_type": "stream",
     "text": [
      "INFO:tensorflow:Unsupported signature for serialization: ((TensorSpec(shape=(25, 96), dtype=tf.float32, name='gradient'), <tensorflow.python.framework.func_graph.UnknownArgument object at 0x7fe9e04f1e80>, 140643056506560), {}).\n"
     ]
    },
    {
     "name": "stdout",
     "output_type": "stream",
     "text": [
      "INFO:tensorflow:Unsupported signature for serialization: ((TensorSpec(shape=(24, 96), dtype=tf.float32, name='gradient'), <tensorflow.python.framework.func_graph.UnknownArgument object at 0x7fe9e0484e80>, 140643056506896), {}).\n"
     ]
    },
    {
     "name": "stderr",
     "output_type": "stream",
     "text": [
      "INFO:tensorflow:Unsupported signature for serialization: ((TensorSpec(shape=(24, 96), dtype=tf.float32, name='gradient'), <tensorflow.python.framework.func_graph.UnknownArgument object at 0x7fe9e0484e80>, 140643056506896), {}).\n"
     ]
    },
    {
     "name": "stdout",
     "output_type": "stream",
     "text": [
      "INFO:tensorflow:Unsupported signature for serialization: ((TensorSpec(shape=(96,), dtype=tf.float32, name='gradient'), <tensorflow.python.framework.func_graph.UnknownArgument object at 0x7fe9e0496ee0>, 140643056504992), {}).\n"
     ]
    },
    {
     "name": "stderr",
     "output_type": "stream",
     "text": [
      "INFO:tensorflow:Unsupported signature for serialization: ((TensorSpec(shape=(96,), dtype=tf.float32, name='gradient'), <tensorflow.python.framework.func_graph.UnknownArgument object at 0x7fe9e0496ee0>, 140643056504992), {}).\n"
     ]
    },
    {
     "name": "stdout",
     "output_type": "stream",
     "text": [
      "INFO:tensorflow:Unsupported signature for serialization: ((TensorSpec(shape=(25, 96), dtype=tf.float32, name='gradient'), <tensorflow.python.framework.func_graph.UnknownArgument object at 0x7fe9e04a9ee0>, 140643056506112), {}).\n"
     ]
    },
    {
     "name": "stderr",
     "output_type": "stream",
     "text": [
      "INFO:tensorflow:Unsupported signature for serialization: ((TensorSpec(shape=(25, 96), dtype=tf.float32, name='gradient'), <tensorflow.python.framework.func_graph.UnknownArgument object at 0x7fe9e04a9ee0>, 140643056506112), {}).\n"
     ]
    },
    {
     "name": "stdout",
     "output_type": "stream",
     "text": [
      "INFO:tensorflow:Unsupported signature for serialization: ((TensorSpec(shape=(24, 96), dtype=tf.float32, name='gradient'), <tensorflow.python.framework.func_graph.UnknownArgument object at 0x7fe9e043cee0>, 140643056507456), {}).\n"
     ]
    },
    {
     "name": "stderr",
     "output_type": "stream",
     "text": [
      "INFO:tensorflow:Unsupported signature for serialization: ((TensorSpec(shape=(24, 96), dtype=tf.float32, name='gradient'), <tensorflow.python.framework.func_graph.UnknownArgument object at 0x7fe9e043cee0>, 140643056507456), {}).\n"
     ]
    },
    {
     "name": "stdout",
     "output_type": "stream",
     "text": [
      "INFO:tensorflow:Unsupported signature for serialization: ((TensorSpec(shape=(96,), dtype=tf.float32, name='gradient'), <tensorflow.python.framework.func_graph.UnknownArgument object at 0x7fe9e044cf40>, 140643056506784), {}).\n"
     ]
    },
    {
     "name": "stderr",
     "output_type": "stream",
     "text": [
      "INFO:tensorflow:Unsupported signature for serialization: ((TensorSpec(shape=(96,), dtype=tf.float32, name='gradient'), <tensorflow.python.framework.func_graph.UnknownArgument object at 0x7fe9e044cf40>, 140643056506784), {}).\n"
     ]
    },
    {
     "name": "stdout",
     "output_type": "stream",
     "text": [
      "INFO:tensorflow:Unsupported signature for serialization: ((TensorSpec(shape=(176, 256), dtype=tf.float32, name='gradient'), <tensorflow.python.framework.func_graph.UnknownArgument object at 0x7fe9e0460f40>, 140643013540560), {}).\n"
     ]
    },
    {
     "name": "stderr",
     "output_type": "stream",
     "text": [
      "INFO:tensorflow:Unsupported signature for serialization: ((TensorSpec(shape=(176, 256), dtype=tf.float32, name='gradient'), <tensorflow.python.framework.func_graph.UnknownArgument object at 0x7fe9e0460f40>, 140643013540560), {}).\n"
     ]
    },
    {
     "name": "stdout",
     "output_type": "stream",
     "text": [
      "INFO:tensorflow:Unsupported signature for serialization: ((TensorSpec(shape=(256,), dtype=tf.float32, name='gradient'), <tensorflow.python.framework.func_graph.UnknownArgument object at 0x7fe9e0473fa0>, 140643013541040), {}).\n"
     ]
    },
    {
     "name": "stderr",
     "output_type": "stream",
     "text": [
      "INFO:tensorflow:Unsupported signature for serialization: ((TensorSpec(shape=(256,), dtype=tf.float32, name='gradient'), <tensorflow.python.framework.func_graph.UnknownArgument object at 0x7fe9e0473fa0>, 140643013541040), {}).\n"
     ]
    },
    {
     "name": "stdout",
     "output_type": "stream",
     "text": [
      "INFO:tensorflow:Unsupported signature for serialization: ((TensorSpec(shape=(15, 32), dtype=tf.float32, name='gradient'), <tensorflow.python.framework.func_graph.UnknownArgument object at 0x7fe9e0406fa0>, 140643016568880), {}).\n"
     ]
    },
    {
     "name": "stderr",
     "output_type": "stream",
     "text": [
      "INFO:tensorflow:Unsupported signature for serialization: ((TensorSpec(shape=(15, 32), dtype=tf.float32, name='gradient'), <tensorflow.python.framework.func_graph.UnknownArgument object at 0x7fe9e0406fa0>, 140643016568880), {}).\n"
     ]
    },
    {
     "name": "stdout",
     "output_type": "stream",
     "text": [
      "INFO:tensorflow:Unsupported signature for serialization: ((TensorSpec(shape=(32,), dtype=tf.float32, name='gradient'), <tensorflow.python.framework.func_graph.UnknownArgument object at 0x7fe9e0429040>, 140643016570080), {}).\n"
     ]
    },
    {
     "name": "stderr",
     "output_type": "stream",
     "text": [
      "INFO:tensorflow:Unsupported signature for serialization: ((TensorSpec(shape=(32,), dtype=tf.float32, name='gradient'), <tensorflow.python.framework.func_graph.UnknownArgument object at 0x7fe9e0429040>, 140643016570080), {}).\n"
     ]
    },
    {
     "name": "stdout",
     "output_type": "stream",
     "text": [
      "INFO:tensorflow:Unsupported signature for serialization: ((TensorSpec(shape=(20, 32), dtype=tf.float32, name='gradient'), <tensorflow.python.framework.func_graph.UnknownArgument object at 0x7fe9e03ba040>, 140643013515344), {}).\n"
     ]
    },
    {
     "name": "stderr",
     "output_type": "stream",
     "text": [
      "INFO:tensorflow:Unsupported signature for serialization: ((TensorSpec(shape=(20, 32), dtype=tf.float32, name='gradient'), <tensorflow.python.framework.func_graph.UnknownArgument object at 0x7fe9e03ba040>, 140643013515344), {}).\n"
     ]
    },
    {
     "name": "stdout",
     "output_type": "stream",
     "text": [
      "INFO:tensorflow:Unsupported signature for serialization: ((TensorSpec(shape=(32,), dtype=tf.float32, name='gradient'), <tensorflow.python.framework.func_graph.UnknownArgument object at 0x7fe9e03cd0a0>, 140643013515744), {}).\n"
     ]
    },
    {
     "name": "stderr",
     "output_type": "stream",
     "text": [
      "INFO:tensorflow:Unsupported signature for serialization: ((TensorSpec(shape=(32,), dtype=tf.float32, name='gradient'), <tensorflow.python.framework.func_graph.UnknownArgument object at 0x7fe9e03cd0a0>, 140643013515744), {}).\n"
     ]
    },
    {
     "name": "stdout",
     "output_type": "stream",
     "text": [
      "INFO:tensorflow:Unsupported signature for serialization: ((TensorSpec(shape=(320, 5), dtype=tf.float32, name='gradient'), <tensorflow.python.framework.func_graph.UnknownArgument object at 0x7fe9e03df0a0>, 140643013573008), {}).\n"
     ]
    },
    {
     "name": "stderr",
     "output_type": "stream",
     "text": [
      "INFO:tensorflow:Unsupported signature for serialization: ((TensorSpec(shape=(320, 5), dtype=tf.float32, name='gradient'), <tensorflow.python.framework.func_graph.UnknownArgument object at 0x7fe9e03df0a0>, 140643013573008), {}).\n"
     ]
    },
    {
     "name": "stdout",
     "output_type": "stream",
     "text": [
      "INFO:tensorflow:Unsupported signature for serialization: ((TensorSpec(shape=(5,), dtype=tf.float32, name='gradient'), <tensorflow.python.framework.func_graph.UnknownArgument object at 0x7fe9e03f0100>, 140643013573488), {}).\n"
     ]
    },
    {
     "name": "stderr",
     "output_type": "stream",
     "text": [
      "INFO:tensorflow:Unsupported signature for serialization: ((TensorSpec(shape=(5,), dtype=tf.float32, name='gradient'), <tensorflow.python.framework.func_graph.UnknownArgument object at 0x7fe9e03f0100>, 140643013573488), {}).\n"
     ]
    },
    {
     "name": "stdout",
     "output_type": "stream",
     "text": [
      "INFO:tensorflow:Unsupported signature for serialization: ((TensorSpec(shape=(512, 128), dtype=tf.float32, name='gradient'), <tensorflow.python.framework.func_graph.UnknownArgument object at 0x7fe9b824f220>, 140643056916480), {}).\n"
     ]
    },
    {
     "name": "stderr",
     "output_type": "stream",
     "text": [
      "INFO:tensorflow:Unsupported signature for serialization: ((TensorSpec(shape=(512, 128), dtype=tf.float32, name='gradient'), <tensorflow.python.framework.func_graph.UnknownArgument object at 0x7fe9b824f220>, 140643056916480), {}).\n"
     ]
    },
    {
     "name": "stdout",
     "output_type": "stream",
     "text": [
      "INFO:tensorflow:Unsupported signature for serialization: ((TensorSpec(shape=(128,), dtype=tf.float32, name='gradient'), <tensorflow.python.framework.func_graph.UnknownArgument object at 0x7fe9b825b220>, 140643056916880), {}).\n"
     ]
    },
    {
     "name": "stderr",
     "output_type": "stream",
     "text": [
      "INFO:tensorflow:Unsupported signature for serialization: ((TensorSpec(shape=(128,), dtype=tf.float32, name='gradient'), <tensorflow.python.framework.func_graph.UnknownArgument object at 0x7fe9b825b220>, 140643056916880), {}).\n"
     ]
    },
    {
     "name": "stdout",
     "output_type": "stream",
     "text": [
      "INFO:tensorflow:Unsupported signature for serialization: ((TensorSpec(shape=(25, 96), dtype=tf.float32, name='gradient'), <tensorflow.python.framework.func_graph.UnknownArgument object at 0x7fe9b826d1c0>, 140643056506560), {}).\n"
     ]
    },
    {
     "name": "stderr",
     "output_type": "stream",
     "text": [
      "INFO:tensorflow:Unsupported signature for serialization: ((TensorSpec(shape=(25, 96), dtype=tf.float32, name='gradient'), <tensorflow.python.framework.func_graph.UnknownArgument object at 0x7fe9b826d1c0>, 140643056506560), {}).\n"
     ]
    },
    {
     "name": "stdout",
     "output_type": "stream",
     "text": [
      "INFO:tensorflow:Unsupported signature for serialization: ((TensorSpec(shape=(24, 96), dtype=tf.float32, name='gradient'), <tensorflow.python.framework.func_graph.UnknownArgument object at 0x7fe9b8202160>, 140643056506896), {}).\n"
     ]
    },
    {
     "name": "stderr",
     "output_type": "stream",
     "text": [
      "INFO:tensorflow:Unsupported signature for serialization: ((TensorSpec(shape=(24, 96), dtype=tf.float32, name='gradient'), <tensorflow.python.framework.func_graph.UnknownArgument object at 0x7fe9b8202160>, 140643056506896), {}).\n"
     ]
    },
    {
     "name": "stdout",
     "output_type": "stream",
     "text": [
      "INFO:tensorflow:Unsupported signature for serialization: ((TensorSpec(shape=(96,), dtype=tf.float32, name='gradient'), <tensorflow.python.framework.func_graph.UnknownArgument object at 0x7fe9b8212160>, 140643056504992), {}).\n"
     ]
    },
    {
     "name": "stderr",
     "output_type": "stream",
     "text": [
      "INFO:tensorflow:Unsupported signature for serialization: ((TensorSpec(shape=(96,), dtype=tf.float32, name='gradient'), <tensorflow.python.framework.func_graph.UnknownArgument object at 0x7fe9b8212160>, 140643056504992), {}).\n"
     ]
    },
    {
     "name": "stdout",
     "output_type": "stream",
     "text": [
      "INFO:tensorflow:Unsupported signature for serialization: ((TensorSpec(shape=(25, 96), dtype=tf.float32, name='gradient'), <tensorflow.python.framework.func_graph.UnknownArgument object at 0x7fe9b8225100>, 140643056506112), {}).\n"
     ]
    },
    {
     "name": "stderr",
     "output_type": "stream",
     "text": [
      "INFO:tensorflow:Unsupported signature for serialization: ((TensorSpec(shape=(25, 96), dtype=tf.float32, name='gradient'), <tensorflow.python.framework.func_graph.UnknownArgument object at 0x7fe9b8225100>, 140643056506112), {}).\n"
     ]
    },
    {
     "name": "stdout",
     "output_type": "stream",
     "text": [
      "INFO:tensorflow:Unsupported signature for serialization: ((TensorSpec(shape=(24, 96), dtype=tf.float32, name='gradient'), <tensorflow.python.framework.func_graph.UnknownArgument object at 0x7fe9b81bf0a0>, 140643056507456), {}).\n"
     ]
    },
    {
     "name": "stderr",
     "output_type": "stream",
     "text": [
      "INFO:tensorflow:Unsupported signature for serialization: ((TensorSpec(shape=(24, 96), dtype=tf.float32, name='gradient'), <tensorflow.python.framework.func_graph.UnknownArgument object at 0x7fe9b81bf0a0>, 140643056507456), {}).\n"
     ]
    },
    {
     "name": "stdout",
     "output_type": "stream",
     "text": [
      "INFO:tensorflow:Unsupported signature for serialization: ((TensorSpec(shape=(96,), dtype=tf.float32, name='gradient'), <tensorflow.python.framework.func_graph.UnknownArgument object at 0x7fe9b81d30a0>, 140643056506784), {}).\n"
     ]
    },
    {
     "name": "stderr",
     "output_type": "stream",
     "text": [
      "INFO:tensorflow:Unsupported signature for serialization: ((TensorSpec(shape=(96,), dtype=tf.float32, name='gradient'), <tensorflow.python.framework.func_graph.UnknownArgument object at 0x7fe9b81d30a0>, 140643056506784), {}).\n"
     ]
    },
    {
     "name": "stdout",
     "output_type": "stream",
     "text": [
      "INFO:tensorflow:Unsupported signature for serialization: ((TensorSpec(shape=(176, 256), dtype=tf.float32, name='gradient'), <tensorflow.python.framework.func_graph.UnknownArgument object at 0x7fea0388d310>, 140643013540560), {}).\n"
     ]
    },
    {
     "name": "stderr",
     "output_type": "stream",
     "text": [
      "INFO:tensorflow:Unsupported signature for serialization: ((TensorSpec(shape=(176, 256), dtype=tf.float32, name='gradient'), <tensorflow.python.framework.func_graph.UnknownArgument object at 0x7fea0388d310>, 140643013540560), {}).\n"
     ]
    },
    {
     "name": "stdout",
     "output_type": "stream",
     "text": [
      "INFO:tensorflow:Unsupported signature for serialization: ((TensorSpec(shape=(256,), dtype=tf.float32, name='gradient'), <tensorflow.python.framework.func_graph.UnknownArgument object at 0x7fea038897f0>, 140643013541040), {}).\n"
     ]
    },
    {
     "name": "stderr",
     "output_type": "stream",
     "text": [
      "INFO:tensorflow:Unsupported signature for serialization: ((TensorSpec(shape=(256,), dtype=tf.float32, name='gradient'), <tensorflow.python.framework.func_graph.UnknownArgument object at 0x7fea038897f0>, 140643013541040), {}).\n"
     ]
    },
    {
     "name": "stdout",
     "output_type": "stream",
     "text": [
      "INFO:tensorflow:Unsupported signature for serialization: ((TensorSpec(shape=(15, 32), dtype=tf.float32, name='gradient'), <tensorflow.python.framework.func_graph.UnknownArgument object at 0x7fea038997f0>, 140643016568880), {}).\n"
     ]
    },
    {
     "name": "stderr",
     "output_type": "stream",
     "text": [
      "INFO:tensorflow:Unsupported signature for serialization: ((TensorSpec(shape=(15, 32), dtype=tf.float32, name='gradient'), <tensorflow.python.framework.func_graph.UnknownArgument object at 0x7fea038997f0>, 140643016568880), {}).\n"
     ]
    },
    {
     "name": "stdout",
     "output_type": "stream",
     "text": [
      "INFO:tensorflow:Unsupported signature for serialization: ((TensorSpec(shape=(32,), dtype=tf.float32, name='gradient'), <tensorflow.python.framework.func_graph.UnknownArgument object at 0x7fea0386bee0>, 140643016570080), {}).\n"
     ]
    },
    {
     "name": "stderr",
     "output_type": "stream",
     "text": [
      "INFO:tensorflow:Unsupported signature for serialization: ((TensorSpec(shape=(32,), dtype=tf.float32, name='gradient'), <tensorflow.python.framework.func_graph.UnknownArgument object at 0x7fea0386bee0>, 140643016570080), {}).\n"
     ]
    },
    {
     "name": "stdout",
     "output_type": "stream",
     "text": [
      "INFO:tensorflow:Unsupported signature for serialization: ((TensorSpec(shape=(20, 32), dtype=tf.float32, name='gradient'), <tensorflow.python.framework.func_graph.UnknownArgument object at 0x7fea00dca670>, 140643013515344), {}).\n"
     ]
    },
    {
     "name": "stderr",
     "output_type": "stream",
     "text": [
      "INFO:tensorflow:Unsupported signature for serialization: ((TensorSpec(shape=(20, 32), dtype=tf.float32, name='gradient'), <tensorflow.python.framework.func_graph.UnknownArgument object at 0x7fea00dca670>, 140643013515344), {}).\n"
     ]
    },
    {
     "name": "stdout",
     "output_type": "stream",
     "text": [
      "INFO:tensorflow:Unsupported signature for serialization: ((TensorSpec(shape=(32,), dtype=tf.float32, name='gradient'), <tensorflow.python.framework.func_graph.UnknownArgument object at 0x7fea00522cd0>, 140643013515744), {}).\n"
     ]
    },
    {
     "name": "stderr",
     "output_type": "stream",
     "text": [
      "INFO:tensorflow:Unsupported signature for serialization: ((TensorSpec(shape=(32,), dtype=tf.float32, name='gradient'), <tensorflow.python.framework.func_graph.UnknownArgument object at 0x7fea00522cd0>, 140643013515744), {}).\n"
     ]
    },
    {
     "name": "stdout",
     "output_type": "stream",
     "text": [
      "INFO:tensorflow:Unsupported signature for serialization: ((TensorSpec(shape=(320, 5), dtype=tf.float32, name='gradient'), <tensorflow.python.framework.func_graph.UnknownArgument object at 0x7fea005565e0>, 140643013573008), {}).\n"
     ]
    },
    {
     "name": "stderr",
     "output_type": "stream",
     "text": [
      "INFO:tensorflow:Unsupported signature for serialization: ((TensorSpec(shape=(320, 5), dtype=tf.float32, name='gradient'), <tensorflow.python.framework.func_graph.UnknownArgument object at 0x7fea005565e0>, 140643013573008), {}).\n"
     ]
    },
    {
     "name": "stdout",
     "output_type": "stream",
     "text": [
      "INFO:tensorflow:Unsupported signature for serialization: ((TensorSpec(shape=(5,), dtype=tf.float32, name='gradient'), <tensorflow.python.framework.func_graph.UnknownArgument object at 0x7fea00458b20>, 140643013573488), {}).\n"
     ]
    },
    {
     "name": "stderr",
     "output_type": "stream",
     "text": [
      "INFO:tensorflow:Unsupported signature for serialization: ((TensorSpec(shape=(5,), dtype=tf.float32, name='gradient'), <tensorflow.python.framework.func_graph.UnknownArgument object at 0x7fea00458b20>, 140643013573488), {}).\n"
     ]
    },
    {
     "name": "stdout",
     "output_type": "stream",
     "text": [
      "INFO:tensorflow:Unsupported signature for serialization: ((TensorSpec(shape=(512, 128), dtype=tf.float32, name='gradient'), <tensorflow.python.framework.func_graph.UnknownArgument object at 0x7fe9e04cae20>, 140643056916480), {}).\n"
     ]
    },
    {
     "name": "stderr",
     "output_type": "stream",
     "text": [
      "INFO:tensorflow:Unsupported signature for serialization: ((TensorSpec(shape=(512, 128), dtype=tf.float32, name='gradient'), <tensorflow.python.framework.func_graph.UnknownArgument object at 0x7fe9e04cae20>, 140643056916480), {}).\n"
     ]
    },
    {
     "name": "stdout",
     "output_type": "stream",
     "text": [
      "INFO:tensorflow:Unsupported signature for serialization: ((TensorSpec(shape=(128,), dtype=tf.float32, name='gradient'), <tensorflow.python.framework.func_graph.UnknownArgument object at 0x7fe9e04dfe80>, 140643056916880), {}).\n"
     ]
    },
    {
     "name": "stderr",
     "output_type": "stream",
     "text": [
      "INFO:tensorflow:Unsupported signature for serialization: ((TensorSpec(shape=(128,), dtype=tf.float32, name='gradient'), <tensorflow.python.framework.func_graph.UnknownArgument object at 0x7fe9e04dfe80>, 140643056916880), {}).\n"
     ]
    },
    {
     "name": "stdout",
     "output_type": "stream",
     "text": [
      "INFO:tensorflow:Unsupported signature for serialization: ((TensorSpec(shape=(25, 96), dtype=tf.float32, name='gradient'), <tensorflow.python.framework.func_graph.UnknownArgument object at 0x7fe9e04f1e80>, 140643056506560), {}).\n"
     ]
    },
    {
     "name": "stderr",
     "output_type": "stream",
     "text": [
      "INFO:tensorflow:Unsupported signature for serialization: ((TensorSpec(shape=(25, 96), dtype=tf.float32, name='gradient'), <tensorflow.python.framework.func_graph.UnknownArgument object at 0x7fe9e04f1e80>, 140643056506560), {}).\n"
     ]
    },
    {
     "name": "stdout",
     "output_type": "stream",
     "text": [
      "INFO:tensorflow:Unsupported signature for serialization: ((TensorSpec(shape=(24, 96), dtype=tf.float32, name='gradient'), <tensorflow.python.framework.func_graph.UnknownArgument object at 0x7fe9e0484e80>, 140643056506896), {}).\n"
     ]
    },
    {
     "name": "stderr",
     "output_type": "stream",
     "text": [
      "INFO:tensorflow:Unsupported signature for serialization: ((TensorSpec(shape=(24, 96), dtype=tf.float32, name='gradient'), <tensorflow.python.framework.func_graph.UnknownArgument object at 0x7fe9e0484e80>, 140643056506896), {}).\n"
     ]
    },
    {
     "name": "stdout",
     "output_type": "stream",
     "text": [
      "INFO:tensorflow:Unsupported signature for serialization: ((TensorSpec(shape=(96,), dtype=tf.float32, name='gradient'), <tensorflow.python.framework.func_graph.UnknownArgument object at 0x7fe9e0496ee0>, 140643056504992), {}).\n"
     ]
    },
    {
     "name": "stderr",
     "output_type": "stream",
     "text": [
      "INFO:tensorflow:Unsupported signature for serialization: ((TensorSpec(shape=(96,), dtype=tf.float32, name='gradient'), <tensorflow.python.framework.func_graph.UnknownArgument object at 0x7fe9e0496ee0>, 140643056504992), {}).\n"
     ]
    },
    {
     "name": "stdout",
     "output_type": "stream",
     "text": [
      "INFO:tensorflow:Unsupported signature for serialization: ((TensorSpec(shape=(25, 96), dtype=tf.float32, name='gradient'), <tensorflow.python.framework.func_graph.UnknownArgument object at 0x7fe9e04a9ee0>, 140643056506112), {}).\n"
     ]
    },
    {
     "name": "stderr",
     "output_type": "stream",
     "text": [
      "INFO:tensorflow:Unsupported signature for serialization: ((TensorSpec(shape=(25, 96), dtype=tf.float32, name='gradient'), <tensorflow.python.framework.func_graph.UnknownArgument object at 0x7fe9e04a9ee0>, 140643056506112), {}).\n"
     ]
    },
    {
     "name": "stdout",
     "output_type": "stream",
     "text": [
      "INFO:tensorflow:Unsupported signature for serialization: ((TensorSpec(shape=(24, 96), dtype=tf.float32, name='gradient'), <tensorflow.python.framework.func_graph.UnknownArgument object at 0x7fe9e043cee0>, 140643056507456), {}).\n"
     ]
    },
    {
     "name": "stderr",
     "output_type": "stream",
     "text": [
      "INFO:tensorflow:Unsupported signature for serialization: ((TensorSpec(shape=(24, 96), dtype=tf.float32, name='gradient'), <tensorflow.python.framework.func_graph.UnknownArgument object at 0x7fe9e043cee0>, 140643056507456), {}).\n"
     ]
    },
    {
     "name": "stdout",
     "output_type": "stream",
     "text": [
      "INFO:tensorflow:Unsupported signature for serialization: ((TensorSpec(shape=(96,), dtype=tf.float32, name='gradient'), <tensorflow.python.framework.func_graph.UnknownArgument object at 0x7fe9e044cf40>, 140643056506784), {}).\n"
     ]
    },
    {
     "name": "stderr",
     "output_type": "stream",
     "text": [
      "INFO:tensorflow:Unsupported signature for serialization: ((TensorSpec(shape=(96,), dtype=tf.float32, name='gradient'), <tensorflow.python.framework.func_graph.UnknownArgument object at 0x7fe9e044cf40>, 140643056506784), {}).\n"
     ]
    },
    {
     "name": "stdout",
     "output_type": "stream",
     "text": [
      "INFO:tensorflow:Unsupported signature for serialization: ((TensorSpec(shape=(176, 256), dtype=tf.float32, name='gradient'), <tensorflow.python.framework.func_graph.UnknownArgument object at 0x7fe9e0460f40>, 140643013540560), {}).\n"
     ]
    },
    {
     "name": "stderr",
     "output_type": "stream",
     "text": [
      "INFO:tensorflow:Unsupported signature for serialization: ((TensorSpec(shape=(176, 256), dtype=tf.float32, name='gradient'), <tensorflow.python.framework.func_graph.UnknownArgument object at 0x7fe9e0460f40>, 140643013540560), {}).\n"
     ]
    },
    {
     "name": "stdout",
     "output_type": "stream",
     "text": [
      "INFO:tensorflow:Unsupported signature for serialization: ((TensorSpec(shape=(256,), dtype=tf.float32, name='gradient'), <tensorflow.python.framework.func_graph.UnknownArgument object at 0x7fe9e0473fa0>, 140643013541040), {}).\n"
     ]
    },
    {
     "name": "stderr",
     "output_type": "stream",
     "text": [
      "INFO:tensorflow:Unsupported signature for serialization: ((TensorSpec(shape=(256,), dtype=tf.float32, name='gradient'), <tensorflow.python.framework.func_graph.UnknownArgument object at 0x7fe9e0473fa0>, 140643013541040), {}).\n"
     ]
    },
    {
     "name": "stdout",
     "output_type": "stream",
     "text": [
      "INFO:tensorflow:Unsupported signature for serialization: ((TensorSpec(shape=(15, 32), dtype=tf.float32, name='gradient'), <tensorflow.python.framework.func_graph.UnknownArgument object at 0x7fe9e0406fa0>, 140643016568880), {}).\n"
     ]
    },
    {
     "name": "stderr",
     "output_type": "stream",
     "text": [
      "INFO:tensorflow:Unsupported signature for serialization: ((TensorSpec(shape=(15, 32), dtype=tf.float32, name='gradient'), <tensorflow.python.framework.func_graph.UnknownArgument object at 0x7fe9e0406fa0>, 140643016568880), {}).\n"
     ]
    },
    {
     "name": "stdout",
     "output_type": "stream",
     "text": [
      "INFO:tensorflow:Unsupported signature for serialization: ((TensorSpec(shape=(32,), dtype=tf.float32, name='gradient'), <tensorflow.python.framework.func_graph.UnknownArgument object at 0x7fe9e0429040>, 140643016570080), {}).\n"
     ]
    },
    {
     "name": "stderr",
     "output_type": "stream",
     "text": [
      "INFO:tensorflow:Unsupported signature for serialization: ((TensorSpec(shape=(32,), dtype=tf.float32, name='gradient'), <tensorflow.python.framework.func_graph.UnknownArgument object at 0x7fe9e0429040>, 140643016570080), {}).\n"
     ]
    },
    {
     "name": "stdout",
     "output_type": "stream",
     "text": [
      "INFO:tensorflow:Unsupported signature for serialization: ((TensorSpec(shape=(20, 32), dtype=tf.float32, name='gradient'), <tensorflow.python.framework.func_graph.UnknownArgument object at 0x7fe9e03ba040>, 140643013515344), {}).\n"
     ]
    },
    {
     "name": "stderr",
     "output_type": "stream",
     "text": [
      "INFO:tensorflow:Unsupported signature for serialization: ((TensorSpec(shape=(20, 32), dtype=tf.float32, name='gradient'), <tensorflow.python.framework.func_graph.UnknownArgument object at 0x7fe9e03ba040>, 140643013515344), {}).\n"
     ]
    },
    {
     "name": "stdout",
     "output_type": "stream",
     "text": [
      "INFO:tensorflow:Unsupported signature for serialization: ((TensorSpec(shape=(32,), dtype=tf.float32, name='gradient'), <tensorflow.python.framework.func_graph.UnknownArgument object at 0x7fe9e03cd0a0>, 140643013515744), {}).\n"
     ]
    },
    {
     "name": "stderr",
     "output_type": "stream",
     "text": [
      "INFO:tensorflow:Unsupported signature for serialization: ((TensorSpec(shape=(32,), dtype=tf.float32, name='gradient'), <tensorflow.python.framework.func_graph.UnknownArgument object at 0x7fe9e03cd0a0>, 140643013515744), {}).\n"
     ]
    },
    {
     "name": "stdout",
     "output_type": "stream",
     "text": [
      "INFO:tensorflow:Unsupported signature for serialization: ((TensorSpec(shape=(320, 5), dtype=tf.float32, name='gradient'), <tensorflow.python.framework.func_graph.UnknownArgument object at 0x7fe9e03df0a0>, 140643013573008), {}).\n"
     ]
    },
    {
     "name": "stderr",
     "output_type": "stream",
     "text": [
      "INFO:tensorflow:Unsupported signature for serialization: ((TensorSpec(shape=(320, 5), dtype=tf.float32, name='gradient'), <tensorflow.python.framework.func_graph.UnknownArgument object at 0x7fe9e03df0a0>, 140643013573008), {}).\n"
     ]
    },
    {
     "name": "stdout",
     "output_type": "stream",
     "text": [
      "INFO:tensorflow:Unsupported signature for serialization: ((TensorSpec(shape=(5,), dtype=tf.float32, name='gradient'), <tensorflow.python.framework.func_graph.UnknownArgument object at 0x7fe9e03f0100>, 140643013573488), {}).\n"
     ]
    },
    {
     "name": "stderr",
     "output_type": "stream",
     "text": [
      "INFO:tensorflow:Unsupported signature for serialization: ((TensorSpec(shape=(5,), dtype=tf.float32, name='gradient'), <tensorflow.python.framework.func_graph.UnknownArgument object at 0x7fe9e03f0100>, 140643013573488), {}).\n"
     ]
    },
    {
     "name": "stdout",
     "output_type": "stream",
     "text": [
      "INFO:tensorflow:Unsupported signature for serialization: ((TensorSpec(shape=(512, 128), dtype=tf.float32, name='gradient'), <tensorflow.python.framework.func_graph.UnknownArgument object at 0x7fe9b824f220>, 140643056916480), {}).\n"
     ]
    },
    {
     "name": "stderr",
     "output_type": "stream",
     "text": [
      "INFO:tensorflow:Unsupported signature for serialization: ((TensorSpec(shape=(512, 128), dtype=tf.float32, name='gradient'), <tensorflow.python.framework.func_graph.UnknownArgument object at 0x7fe9b824f220>, 140643056916480), {}).\n"
     ]
    },
    {
     "name": "stdout",
     "output_type": "stream",
     "text": [
      "INFO:tensorflow:Unsupported signature for serialization: ((TensorSpec(shape=(128,), dtype=tf.float32, name='gradient'), <tensorflow.python.framework.func_graph.UnknownArgument object at 0x7fe9b825b220>, 140643056916880), {}).\n"
     ]
    },
    {
     "name": "stderr",
     "output_type": "stream",
     "text": [
      "INFO:tensorflow:Unsupported signature for serialization: ((TensorSpec(shape=(128,), dtype=tf.float32, name='gradient'), <tensorflow.python.framework.func_graph.UnknownArgument object at 0x7fe9b825b220>, 140643056916880), {}).\n"
     ]
    },
    {
     "name": "stdout",
     "output_type": "stream",
     "text": [
      "INFO:tensorflow:Unsupported signature for serialization: ((TensorSpec(shape=(25, 96), dtype=tf.float32, name='gradient'), <tensorflow.python.framework.func_graph.UnknownArgument object at 0x7fe9b826d1c0>, 140643056506560), {}).\n"
     ]
    },
    {
     "name": "stderr",
     "output_type": "stream",
     "text": [
      "INFO:tensorflow:Unsupported signature for serialization: ((TensorSpec(shape=(25, 96), dtype=tf.float32, name='gradient'), <tensorflow.python.framework.func_graph.UnknownArgument object at 0x7fe9b826d1c0>, 140643056506560), {}).\n"
     ]
    },
    {
     "name": "stdout",
     "output_type": "stream",
     "text": [
      "INFO:tensorflow:Unsupported signature for serialization: ((TensorSpec(shape=(24, 96), dtype=tf.float32, name='gradient'), <tensorflow.python.framework.func_graph.UnknownArgument object at 0x7fe9b8202160>, 140643056506896), {}).\n"
     ]
    },
    {
     "name": "stderr",
     "output_type": "stream",
     "text": [
      "INFO:tensorflow:Unsupported signature for serialization: ((TensorSpec(shape=(24, 96), dtype=tf.float32, name='gradient'), <tensorflow.python.framework.func_graph.UnknownArgument object at 0x7fe9b8202160>, 140643056506896), {}).\n"
     ]
    },
    {
     "name": "stdout",
     "output_type": "stream",
     "text": [
      "INFO:tensorflow:Unsupported signature for serialization: ((TensorSpec(shape=(96,), dtype=tf.float32, name='gradient'), <tensorflow.python.framework.func_graph.UnknownArgument object at 0x7fe9b8212160>, 140643056504992), {}).\n"
     ]
    },
    {
     "name": "stderr",
     "output_type": "stream",
     "text": [
      "INFO:tensorflow:Unsupported signature for serialization: ((TensorSpec(shape=(96,), dtype=tf.float32, name='gradient'), <tensorflow.python.framework.func_graph.UnknownArgument object at 0x7fe9b8212160>, 140643056504992), {}).\n"
     ]
    },
    {
     "name": "stdout",
     "output_type": "stream",
     "text": [
      "INFO:tensorflow:Unsupported signature for serialization: ((TensorSpec(shape=(25, 96), dtype=tf.float32, name='gradient'), <tensorflow.python.framework.func_graph.UnknownArgument object at 0x7fe9b8225100>, 140643056506112), {}).\n"
     ]
    },
    {
     "name": "stderr",
     "output_type": "stream",
     "text": [
      "INFO:tensorflow:Unsupported signature for serialization: ((TensorSpec(shape=(25, 96), dtype=tf.float32, name='gradient'), <tensorflow.python.framework.func_graph.UnknownArgument object at 0x7fe9b8225100>, 140643056506112), {}).\n"
     ]
    },
    {
     "name": "stdout",
     "output_type": "stream",
     "text": [
      "INFO:tensorflow:Unsupported signature for serialization: ((TensorSpec(shape=(24, 96), dtype=tf.float32, name='gradient'), <tensorflow.python.framework.func_graph.UnknownArgument object at 0x7fe9b81bf0a0>, 140643056507456), {}).\n"
     ]
    },
    {
     "name": "stderr",
     "output_type": "stream",
     "text": [
      "INFO:tensorflow:Unsupported signature for serialization: ((TensorSpec(shape=(24, 96), dtype=tf.float32, name='gradient'), <tensorflow.python.framework.func_graph.UnknownArgument object at 0x7fe9b81bf0a0>, 140643056507456), {}).\n"
     ]
    },
    {
     "name": "stdout",
     "output_type": "stream",
     "text": [
      "INFO:tensorflow:Unsupported signature for serialization: ((TensorSpec(shape=(96,), dtype=tf.float32, name='gradient'), <tensorflow.python.framework.func_graph.UnknownArgument object at 0x7fe9b81d30a0>, 140643056506784), {}).\n"
     ]
    },
    {
     "name": "stderr",
     "output_type": "stream",
     "text": [
      "INFO:tensorflow:Unsupported signature for serialization: ((TensorSpec(shape=(96,), dtype=tf.float32, name='gradient'), <tensorflow.python.framework.func_graph.UnknownArgument object at 0x7fe9b81d30a0>, 140643056506784), {}).\n"
     ]
    },
    {
     "name": "stdout",
     "output_type": "stream",
     "text": [
      "INFO:tensorflow:Unsupported signature for serialization: ((TensorSpec(shape=(176, 256), dtype=tf.float32, name='gradient'), <tensorflow.python.framework.func_graph.UnknownArgument object at 0x7fea0388d310>, 140643013540560), {}).\n"
     ]
    },
    {
     "name": "stderr",
     "output_type": "stream",
     "text": [
      "INFO:tensorflow:Unsupported signature for serialization: ((TensorSpec(shape=(176, 256), dtype=tf.float32, name='gradient'), <tensorflow.python.framework.func_graph.UnknownArgument object at 0x7fea0388d310>, 140643013540560), {}).\n"
     ]
    },
    {
     "name": "stdout",
     "output_type": "stream",
     "text": [
      "INFO:tensorflow:Unsupported signature for serialization: ((TensorSpec(shape=(256,), dtype=tf.float32, name='gradient'), <tensorflow.python.framework.func_graph.UnknownArgument object at 0x7fea038897f0>, 140643013541040), {}).\n"
     ]
    },
    {
     "name": "stderr",
     "output_type": "stream",
     "text": [
      "INFO:tensorflow:Unsupported signature for serialization: ((TensorSpec(shape=(256,), dtype=tf.float32, name='gradient'), <tensorflow.python.framework.func_graph.UnknownArgument object at 0x7fea038897f0>, 140643013541040), {}).\n"
     ]
    },
    {
     "name": "stdout",
     "output_type": "stream",
     "text": [
      "INFO:tensorflow:Unsupported signature for serialization: ((TensorSpec(shape=(15, 32), dtype=tf.float32, name='gradient'), <tensorflow.python.framework.func_graph.UnknownArgument object at 0x7fea038997f0>, 140643016568880), {}).\n"
     ]
    },
    {
     "name": "stderr",
     "output_type": "stream",
     "text": [
      "INFO:tensorflow:Unsupported signature for serialization: ((TensorSpec(shape=(15, 32), dtype=tf.float32, name='gradient'), <tensorflow.python.framework.func_graph.UnknownArgument object at 0x7fea038997f0>, 140643016568880), {}).\n"
     ]
    },
    {
     "name": "stdout",
     "output_type": "stream",
     "text": [
      "INFO:tensorflow:Unsupported signature for serialization: ((TensorSpec(shape=(32,), dtype=tf.float32, name='gradient'), <tensorflow.python.framework.func_graph.UnknownArgument object at 0x7fea0386bee0>, 140643016570080), {}).\n"
     ]
    },
    {
     "name": "stderr",
     "output_type": "stream",
     "text": [
      "INFO:tensorflow:Unsupported signature for serialization: ((TensorSpec(shape=(32,), dtype=tf.float32, name='gradient'), <tensorflow.python.framework.func_graph.UnknownArgument object at 0x7fea0386bee0>, 140643016570080), {}).\n"
     ]
    },
    {
     "name": "stdout",
     "output_type": "stream",
     "text": [
      "INFO:tensorflow:Unsupported signature for serialization: ((TensorSpec(shape=(20, 32), dtype=tf.float32, name='gradient'), <tensorflow.python.framework.func_graph.UnknownArgument object at 0x7fea00dca670>, 140643013515344), {}).\n"
     ]
    },
    {
     "name": "stderr",
     "output_type": "stream",
     "text": [
      "INFO:tensorflow:Unsupported signature for serialization: ((TensorSpec(shape=(20, 32), dtype=tf.float32, name='gradient'), <tensorflow.python.framework.func_graph.UnknownArgument object at 0x7fea00dca670>, 140643013515344), {}).\n"
     ]
    },
    {
     "name": "stdout",
     "output_type": "stream",
     "text": [
      "INFO:tensorflow:Unsupported signature for serialization: ((TensorSpec(shape=(32,), dtype=tf.float32, name='gradient'), <tensorflow.python.framework.func_graph.UnknownArgument object at 0x7fea00522cd0>, 140643013515744), {}).\n"
     ]
    },
    {
     "name": "stderr",
     "output_type": "stream",
     "text": [
      "INFO:tensorflow:Unsupported signature for serialization: ((TensorSpec(shape=(32,), dtype=tf.float32, name='gradient'), <tensorflow.python.framework.func_graph.UnknownArgument object at 0x7fea00522cd0>, 140643013515744), {}).\n"
     ]
    },
    {
     "name": "stdout",
     "output_type": "stream",
     "text": [
      "INFO:tensorflow:Unsupported signature for serialization: ((TensorSpec(shape=(320, 5), dtype=tf.float32, name='gradient'), <tensorflow.python.framework.func_graph.UnknownArgument object at 0x7fea005565e0>, 140643013573008), {}).\n"
     ]
    },
    {
     "name": "stderr",
     "output_type": "stream",
     "text": [
      "INFO:tensorflow:Unsupported signature for serialization: ((TensorSpec(shape=(320, 5), dtype=tf.float32, name='gradient'), <tensorflow.python.framework.func_graph.UnknownArgument object at 0x7fea005565e0>, 140643013573008), {}).\n"
     ]
    },
    {
     "name": "stdout",
     "output_type": "stream",
     "text": [
      "INFO:tensorflow:Unsupported signature for serialization: ((TensorSpec(shape=(5,), dtype=tf.float32, name='gradient'), <tensorflow.python.framework.func_graph.UnknownArgument object at 0x7fea00458b20>, 140643013573488), {}).\n"
     ]
    },
    {
     "name": "stderr",
     "output_type": "stream",
     "text": [
      "INFO:tensorflow:Unsupported signature for serialization: ((TensorSpec(shape=(5,), dtype=tf.float32, name='gradient'), <tensorflow.python.framework.func_graph.UnknownArgument object at 0x7fea00458b20>, 140643013573488), {}).\n"
     ]
    },
    {
     "name": "stdout",
     "output_type": "stream",
     "text": [
      "INFO:tensorflow:Assets written to: skimlit_tribrid_model_10percent/assets\n"
     ]
    },
    {
     "name": "stderr",
     "output_type": "stream",
     "text": [
      "INFO:tensorflow:Assets written to: skimlit_tribrid_model_10percent/assets\n"
     ]
    }
   ],
   "source": [
    "# save the model\n",
    "model_5.save(\"skimlit_tribrid_model_10percent\")"
   ]
  },
  {
   "cell_type": "code",
   "execution_count": 66,
   "id": "F2PEG8Ok8YLs",
   "metadata": {
    "colab": {
     "base_uri": "https://localhost:8080/"
    },
    "id": "F2PEG8Ok8YLs",
    "outputId": "bcd5346c-c9ac-4884-8f80-f225c01d24da"
   },
   "outputs": [
    {
     "name": "stdout",
     "output_type": "stream",
     "text": [
      "Model: \"tribid_model\"\n",
      "__________________________________________________________________________________________________\n",
      " Layer (type)                Output Shape                 Param #   Connected to                  \n",
      "==================================================================================================\n",
      " char_input (InputLayer)     [(None, 1)]                  0         []                            \n",
      "                                                                                                  \n",
      " token_input (InputLayer)    [(None,)]                    0         []                            \n",
      "                                                                                                  \n",
      " text_vectorization_1 (Text  (None, 290)                  0         ['char_input[0][0]']          \n",
      " Vectorization)                                                                                   \n",
      "                                                                                                  \n",
      " keras_layer (KerasLayer)    (None, 512)                  2567978   ['token_input[0][0]']         \n",
      "                                                          24                                      \n",
      "                                                                                                  \n",
      " embedding_1 (Embedding)     (None, 290, 25)              700       ['text_vectorization_1[0][0]']\n",
      "                                                                                                  \n",
      " token_output (Dense)        (None, 128)                  65664     ['keras_layer[0][0]']         \n",
      "                                                                                                  \n",
      " char_bi_lstm (Bidirectiona  (None, 48)                   9600      ['embedding_1[0][0]']         \n",
      " l)                                                                                               \n",
      "                                                                                                  \n",
      " token_char_concat (Concate  (None, 176)                  0         ['token_output[0][0]',        \n",
      " nate)                                                               'char_bi_lstm[0][0]']        \n",
      "                                                                                                  \n",
      " line_number_inputs (InputL  [(None, 15)]                 0         []                            \n",
      " ayer)                                                                                            \n",
      "                                                                                                  \n",
      " total_lines_input (InputLa  [(None, 20)]                 0         []                            \n",
      " yer)                                                                                             \n",
      "                                                                                                  \n",
      " dense_6 (Dense)             (None, 256)                  45312     ['token_char_concat[0][0]']   \n",
      "                                                                                                  \n",
      " line_number_dense (Dense)   (None, 32)                   512       ['line_number_inputs[0][0]']  \n",
      "                                                                                                  \n",
      " total_lines_dense (Dense)   (None, 32)                   672       ['total_lines_input[0][0]']   \n",
      "                                                                                                  \n",
      " dropout_2 (Dropout)         (None, 256)                  0         ['dense_6[0][0]']             \n",
      "                                                                                                  \n",
      " all_inputs_concatenate (Co  (None, 320)                  0         ['line_number_dense[0][0]',   \n",
      " ncatenate)                                                          'total_lines_dense[0][0]',   \n",
      "                                                                     'dropout_2[0][0]']           \n",
      "                                                                                                  \n",
      " dense_7 (Dense)             (None, 5)                    1605      ['all_inputs_concatenate[0][0]\n",
      "                                                                    ']                            \n",
      "                                                                                                  \n",
      "==================================================================================================\n",
      "Total params: 256921889 (980.08 MB)\n",
      "Trainable params: 124065 (484.63 KB)\n",
      "Non-trainable params: 256797824 (979.61 MB)\n",
      "__________________________________________________________________________________________________\n"
     ]
    }
   ],
   "source": [
    "loaded_model = tf.keras.models.load_model(\"skimlit_tribrid_model_10percent\")\n",
    "loaded_model.summary()"
   ]
  },
  {
   "cell_type": "code",
   "execution_count": 67,
   "id": "WNjxQksX8e2a",
   "metadata": {
    "colab": {
     "base_uri": "https://localhost:8080/"
    },
    "id": "WNjxQksX8e2a",
    "outputId": "22c47b1d-f842-4bd9-a06b-61c4c3d10cea"
   },
   "outputs": [
    {
     "name": "stdout",
     "output_type": "stream",
     "text": [
      "473/473 [==============================] - 7s 9ms/step\n"
     ]
    },
    {
     "data": {
      "text/plain": [
       "{'accuracy': 84.11889315503774,\n",
       " 'precision': 0.8453193840600012,\n",
       " 'recall': 0.8411889315503773,\n",
       " 'f1': 0.8370127856219338}"
      ]
     },
     "execution_count": 67,
     "metadata": {},
     "output_type": "execute_result"
    }
   ],
   "source": [
    "loaded_model_preds = tf.argmax(loaded_model.predict(val_all_dataset), axis=1).numpy()\n",
    "loaded_model_result = calculate_results(val_labels_encoded, loaded_model_preds)\n",
    "loaded_model_result"
   ]
  },
  {
   "cell_type": "code",
   "execution_count": 68,
   "id": "6em0MZrK80ad",
   "metadata": {
    "colab": {
     "base_uri": "https://localhost:8080/"
    },
    "id": "6em0MZrK80ad",
    "outputId": "8b2bb5a6-fd24-454c-cdc5-1e581eb958ba"
   },
   "outputs": [
    {
     "data": {
      "text/plain": [
       "{'accuracy': 84.11889315503774,\n",
       " 'precision': 0.8453193840600012,\n",
       " 'recall': 0.8411889315503773,\n",
       " 'f1': 0.8370127856219338}"
      ]
     },
     "execution_count": 68,
     "metadata": {},
     "output_type": "execute_result"
    }
   ],
   "source": [
    "model_5_results"
   ]
  },
  {
   "cell_type": "markdown",
   "id": "u5w41hTq_yh0",
   "metadata": {
    "id": "u5w41hTq_yh0"
   },
   "source": [
    "## Exercise"
   ]
  },
  {
   "cell_type": "code",
   "execution_count": 69,
   "id": "GBOsmy7f9-o_",
   "metadata": {
    "colab": {
     "base_uri": "https://localhost:8080/"
    },
    "id": "GBOsmy7f9-o_",
    "outputId": "0da46338-525a-4501-83db-6abf78f2861f"
   },
   "outputs": [
    {
     "name": "stdout",
     "output_type": "stream",
     "text": [
      "Epoch 1/100\n",
      "2814/2814 [==============================] - ETA: 0s - loss: 0.9629 - accuracy: 0.8161\n",
      "Epoch 1: val_loss improved from inf to 0.91589, saving model to model_5_entire/\n",
      "2814/2814 [==============================] - 69s 23ms/step - loss: 0.9629 - accuracy: 0.8161 - val_loss: 0.9159 - val_accuracy: 0.8428\n",
      "Epoch 2/100\n",
      "2812/2814 [============================>.] - ETA: 0s - loss: 0.9088 - accuracy: 0.8542\n",
      "Epoch 2: val_loss improved from 0.91589 to 0.90174, saving model to model_5_entire/\n",
      "2814/2814 [==============================] - 63s 22ms/step - loss: 0.9088 - accuracy: 0.8542 - val_loss: 0.9017 - val_accuracy: 0.8517\n",
      "Epoch 3/100\n",
      "2812/2814 [============================>.] - ETA: 0s - loss: 0.8956 - accuracy: 0.8632\n",
      "Epoch 3: val_loss improved from 0.90174 to 0.89771, saving model to model_5_entire/\n",
      "2814/2814 [==============================] - 65s 23ms/step - loss: 0.8956 - accuracy: 0.8632 - val_loss: 0.8977 - val_accuracy: 0.8541\n",
      "Epoch 4/100\n",
      "2812/2814 [============================>.] - ETA: 0s - loss: 0.8870 - accuracy: 0.8701\n",
      "Epoch 4: val_loss improved from 0.89771 to 0.89616, saving model to model_5_entire/\n",
      "2814/2814 [==============================] - 66s 23ms/step - loss: 0.8870 - accuracy: 0.8700 - val_loss: 0.8962 - val_accuracy: 0.8531\n",
      "Epoch 5/100\n",
      "2812/2814 [============================>.] - ETA: 0s - loss: 0.8800 - accuracy: 0.8751\n",
      "Epoch 5: val_loss did not improve from 0.89616\n",
      "2814/2814 [==============================] - 63s 23ms/step - loss: 0.8801 - accuracy: 0.8751 - val_loss: 0.8986 - val_accuracy: 0.8504\n",
      "Epoch 6/100\n",
      "2812/2814 [============================>.] - ETA: 0s - loss: 0.8745 - accuracy: 0.8786\n",
      "Epoch 6: val_loss did not improve from 0.89616\n",
      "2814/2814 [==============================] - 64s 23ms/step - loss: 0.8745 - accuracy: 0.8786 - val_loss: 0.8997 - val_accuracy: 0.8487\n",
      "Epoch 7/100\n",
      "2812/2814 [============================>.] - ETA: 0s - loss: 0.8698 - accuracy: 0.8825\n",
      "Epoch 7: val_loss did not improve from 0.89616\n",
      "Restoring model weights from the end of the best epoch: 4.\n",
      "2814/2814 [==============================] - 67s 24ms/step - loss: 0.8698 - accuracy: 0.8825 - val_loss: 0.8984 - val_accuracy: 0.8511\n",
      "Epoch 7: early stopping\n"
     ]
    }
   ],
   "source": [
    "# 1. Train model_5 on all of the data in the training dataset for as many epochs until it stops improving.\n",
    "#lets compile the model again(this time with some callbacks)\n",
    "\n",
    "#callbacks\n",
    "model_checkpoint = tf.keras.callbacks.ModelCheckpoint(filepath='model_5_entire/',\n",
    "                                                      verbose=1,\n",
    "                                                      save_best_only=True,\n",
    "                                                      save_weights_only=True)\n",
    "early_stopping = tf.keras.callbacks.EarlyStopping(patience=3,\n",
    "                                                  verbose=1,\n",
    "                                                  restore_best_weights=True,\n",
    "                                                  min_delta=0.001)\n",
    "\n",
    "# setup token level model\n",
    "token_inputs = tf.keras.layers.Input(shape=[], dtype=tf.string, name='token_input')\n",
    "token_embeddings = tf_hub_embedding_layer(token_inputs)\n",
    "token_outputs = tf.keras.layers.Dense(128, activation=tf.keras.activations.relu, name='token_output')(token_embeddings)\n",
    "token_model = tf.keras.Model(inputs = token_inputs,\n",
    "                             outputs = token_outputs)\n",
    "\n",
    "# setup character level model\n",
    "char_inputs = tf.keras.layers.Input(shape=(1,), dtype=tf.string, name='char_input')\n",
    "char_vector = char_vectorizer(char_inputs)\n",
    "char_embeddings = char_embed(char_vector)\n",
    "char_bi_lstm = tf.keras.layers.Bidirectional(tf.keras.layers.LSTM(24), name='char_bi_lstm')(char_embeddings)\n",
    "char_model = tf.keras.Model(inputs = char_inputs,\n",
    "                            outputs = char_bi_lstm)\n",
    "\n",
    "#setup model for line_number feature\n",
    "line_number_input = tf.keras.layers.Input(shape=(15, ), dtype=tf.float32, name='line_number_inputs')\n",
    "line_number_dense = tf.keras.layers.Dense(32, activation=tf.keras.activations.relu, name='line_number_dense')(line_number_input)\n",
    "line_number_model = tf.keras.Model(inputs = line_number_input,\n",
    "                                   outputs = line_number_dense)\n",
    "\n",
    "#setup model for total_lines feature\n",
    "total_lines_input = tf.keras.layers.Input(shape=(20, ), dtype=tf.float32, name='total_lines_input')\n",
    "total_lines_dense = tf.keras.layers.Dense(32, activation=tf.keras.activations.relu, name='total_lines_dense')(total_lines_input)\n",
    "total_lines_model = tf.keras.Model(inputs=total_lines_input,\n",
    "                                  outputs = total_lines_dense)\n",
    "\n",
    "#concatenate token and char embeddings\n",
    "token_char_concat = tf.keras.layers.Concatenate(name='token_char_concat')([token_model.output,\n",
    "                                                                           char_model.output])\n",
    "token_char_dense = tf.keras.layers.Dense(256, activation=tf.keras.activations.relu)(token_char_concat)\n",
    "token_char_dropout = tf.keras.layers.Dropout(0.5)(token_char_dense)\n",
    "\n",
    "#concatenate previous concatenated layer with features\n",
    "all_concat = tf.keras.layers.Concatenate(name='all_inputs_concatenate')([line_number_model.output, total_lines_model.output, token_char_dropout])\n",
    "\n",
    "# create output layer that accepts tribed input\n",
    "output_layer = tf.keras.layers.Dense(5, activation=tf.keras.activations.softmax)(all_concat)\n",
    "\n",
    "model_5 = tf.keras.Model(inputs = [line_number_model.input,\n",
    "                                   total_lines_model.input,\n",
    "                                   token_model.input,\n",
    "                                   char_model.input],\n",
    "                             outputs = output_layer,\n",
    "                             name='tribid_model')\n",
    "model_5.compile(loss=tf.keras.losses.CategoricalCrossentropy(label_smoothing=0.2), # reduces overfitting in label probability predictions\n",
    "                optimizer=tf.keras.optimizers.Adam(),\n",
    "                metrics=['accuracy'])\n",
    "\n",
    "history_5_exercise = model_5.fit(train_all_dataset,\n",
    "                                 epochs=100,\n",
    "                                 validation_data=val_all_dataset,\n",
    "                                 validation_steps=int(0.1*len(val_all_dataset)),\n",
    "                                 callbacks=[model_checkpoint, early_stopping])"
   ]
  },
  {
   "cell_type": "code",
   "execution_count": 70,
   "id": "3tUCckQeVHwf",
   "metadata": {
    "colab": {
     "base_uri": "https://localhost:8080/"
    },
    "id": "3tUCckQeVHwf",
    "outputId": "cc8a3c5f-317c-4a42-f1b7-9f86e113c175"
   },
   "outputs": [
    {
     "name": "stdout",
     "output_type": "stream",
     "text": [
      "473/473 [==============================] - 6s 10ms/step\n"
     ]
    },
    {
     "data": {
      "text/plain": [
       "{'accuracy': 85.80365417714815,\n",
       " 'precision': 0.859789857897737,\n",
       " 'recall': 0.8580365417714815,\n",
       " 'f1': 0.8548051302688578}"
      ]
     },
     "execution_count": 70,
     "metadata": {},
     "output_type": "execute_result"
    }
   ],
   "source": [
    "#make predictions and compare\n",
    "model_5_exercise_preds = tf.argmax(model_5.predict(val_all_dataset), axis=1).numpy()\n",
    "model_5_exercise_results = calculate_results(val_labels_encoded, model_5_exercise_preds)\n",
    "model_5_exercise_results"
   ]
  },
  {
   "cell_type": "code",
   "execution_count": 71,
   "id": "Snk9l1jPgOCw",
   "metadata": {
    "colab": {
     "base_uri": "https://localhost:8080/"
    },
    "id": "Snk9l1jPgOCw",
    "outputId": "942b12ab-ea17-4e08-c4fc-94aa4a2a7f96"
   },
   "outputs": [
    {
     "name": "stdout",
     "output_type": "stream",
     "text": [
      "--2023-12-28 17:29:57--  https://downloads.cs.stanford.edu/nlp/data/glove.6B.zip\n",
      "Resolving downloads.cs.stanford.edu (downloads.cs.stanford.edu)... 171.64.64.22\n",
      "Connecting to downloads.cs.stanford.edu (downloads.cs.stanford.edu)|171.64.64.22|:443... connected.\n",
      "HTTP request sent, awaiting response... 200 OK\n",
      "Length: 862182613 (822M) [application/zip]\n",
      "Saving to: ‘glove.6B.zip’\n",
      "\n",
      "glove.6B.zip        100%[===================>] 822.24M  4.99MB/s    in 3m 23s  \n",
      "\n",
      "2023-12-28 17:33:21 (4.06 MB/s) - ‘glove.6B.zip’ saved [862182613/862182613]\n",
      "\n",
      "Found 400000 word vectors.\n"
     ]
    }
   ],
   "source": [
    "#2. Checkout the Keras guide on using pretrained GloVe embeddings. Can you get this working with one of our models?\n",
    "if not os.path.exists(\"glove.6B.zip\"):\n",
    "    !wget https://downloads.cs.stanford.edu/nlp/data/glove.6B.zip\n",
    "    !unzip -q glove.6B.zip\n",
    "\n",
    "path_to_glove_file = \"glove.6B.100d.txt\"\n",
    "\n",
    "embeddings_index = {}\n",
    "with open(path_to_glove_file) as f:\n",
    "    for line in f:\n",
    "        word, coefs = line.split(maxsplit=1)\n",
    "        coefs = np.fromstring(coefs, \"f\", sep=\" \")\n",
    "        embeddings_index[word] = coefs\n",
    "\n",
    "print(\"Found %s word vectors.\" % len(embeddings_index))\n",
    "voc = char_vectorizer.get_vocabulary()\n",
    "word_index = dict(zip(voc, range(len(voc))))"
   ]
  },
  {
   "cell_type": "code",
   "execution_count": 72,
   "id": "fYu85DOPmiWl",
   "metadata": {
    "colab": {
     "base_uri": "https://localhost:8080/"
    },
    "id": "fYu85DOPmiWl",
    "outputId": "f4bf79fe-5760-4613-f4e2-b5508346ac0c"
   },
   "outputs": [
    {
     "name": "stdout",
     "output_type": "stream",
     "text": [
      "Converted 26 words (2 misses)\n"
     ]
    }
   ],
   "source": [
    "num_tokens = len(voc) + 2\n",
    "embedding_dim = 100\n",
    "hits = 0\n",
    "misses = 0\n",
    "\n",
    "# Prepare embedding matrix\n",
    "embedding_matrix = np.zeros((num_tokens, embedding_dim))\n",
    "for word, i in word_index.items():\n",
    "    embedding_vector = embeddings_index.get(word)\n",
    "    if embedding_vector is not None:\n",
    "        # Words not found in embedding index will be all-zeros.\n",
    "        # This includes the representation for \"padding\" and \"OOV\"\n",
    "        embedding_matrix[i] = embedding_vector\n",
    "        hits += 1\n",
    "    else:\n",
    "        misses += 1\n",
    "print(\"Converted %d words (%d misses)\" % (hits, misses))\n",
    "\n",
    "embedding_layer = tf.keras.layers.Embedding(\n",
    "    num_tokens,\n",
    "    embedding_dim,\n",
    "    trainable=False,\n",
    ")\n",
    "embedding_layer.build((1,))\n",
    "embedding_layer.set_weights([embedding_matrix])"
   ]
  },
  {
   "cell_type": "code",
   "execution_count": 73,
   "id": "DbeQ7W7NnZIw",
   "metadata": {
    "colab": {
     "base_uri": "https://localhost:8080/"
    },
    "id": "DbeQ7W7NnZIw",
    "outputId": "638dc5e1-a636-43e7-f0e8-3480dceaabeb"
   },
   "outputs": [
    {
     "name": "stdout",
     "output_type": "stream",
     "text": [
      "Epoch 1/5\n",
      "281/281 [==============================] - 2s 5ms/step - loss: 1.1235 - accuracy: 0.5572 - val_loss: 0.9439 - val_accuracy: 0.6220\n",
      "Epoch 2/5\n",
      "281/281 [==============================] - 1s 4ms/step - loss: 0.9283 - accuracy: 0.6353 - val_loss: 0.8430 - val_accuracy: 0.6735\n",
      "Epoch 3/5\n",
      "281/281 [==============================] - 1s 4ms/step - loss: 0.8790 - accuracy: 0.6610 - val_loss: 0.8110 - val_accuracy: 0.6885\n",
      "Epoch 4/5\n",
      "281/281 [==============================] - 1s 4ms/step - loss: 0.8249 - accuracy: 0.6843 - val_loss: 0.7818 - val_accuracy: 0.7028\n",
      "Epoch 5/5\n",
      "281/281 [==============================] - 1s 4ms/step - loss: 0.8129 - accuracy: 0.6839 - val_loss: 0.7744 - val_accuracy: 0.7094\n"
     ]
    }
   ],
   "source": [
    "inputs_exercise = tf.keras.Input(shape=(1,), dtype=tf.string)\n",
    "x = char_vectorizer(inputs_exercise)\n",
    "x = embedding_layer(x)\n",
    "x = tf.keras.layers.Conv1D(filters=128, kernel_size=5)(x)\n",
    "x = tf.keras.layers.GlobalMaxPool1D()(x)\n",
    "outputs_exercise = tf.keras.layers.Dense(5, activation=tf.keras.activations.softmax)(x)\n",
    "\n",
    "model_exercise_2 =tf.keras.Model(inputs_exercise, outputs_exercise)\n",
    "model_exercise_2.compile(loss=tf.keras.losses.CategoricalCrossentropy(),\n",
    "               optimizer=tf.keras.optimizers.Adam(),\n",
    "               metrics=['accuracy'])\n",
    "history_exercise_2 = model_exercise_2.fit(train_char_dataset,\n",
    "                        epochs=5,\n",
    "                        steps_per_epoch=int(0.1*len(train_char_dataset)),\n",
    "                        validation_data=val_char_dataset,\n",
    "                        validation_steps=int(0.1*len(val_char_dataset)))"
   ]
  },
  {
   "cell_type": "code",
   "execution_count": 74,
   "id": "kh7g0Y-1n1lw",
   "metadata": {
    "colab": {
     "base_uri": "https://localhost:8080/"
    },
    "id": "kh7g0Y-1n1lw",
    "outputId": "3d5f5e63-4634-4284-a07c-54dabd0697b0"
   },
   "outputs": [
    {
     "name": "stdout",
     "output_type": "stream",
     "text": [
      "473/473 [==============================] - 1s 2ms/step\n"
     ]
    },
    {
     "data": {
      "text/plain": [
       "{'accuracy': 69.98874619356546,\n",
       " 'precision': 0.7187402289630447,\n",
       " 'recall': 0.6998874619356547,\n",
       " 'f1': 0.703681555916045}"
      ]
     },
     "execution_count": 74,
     "metadata": {},
     "output_type": "execute_result"
    }
   ],
   "source": [
    "model_exercise_2_preds = tf.argmax(model_exercise_2.predict(val_char_dataset), axis=1).numpy()\n",
    "model_exercise_2_results = calculate_results(val_labels_encoded, model_exercise_2_preds)\n",
    "model_exercise_2_results"
   ]
  },
  {
   "cell_type": "code",
   "execution_count": 75,
   "id": "q0sOf7A1ok7b",
   "metadata": {
    "colab": {
     "base_uri": "https://localhost:8080/"
    },
    "id": "q0sOf7A1ok7b",
    "outputId": "babe227b-4b93-47f9-d27b-a46a257ffbb7"
   },
   "outputs": [
    {
     "data": {
      "text/plain": [
       "{'accuracy': 69.43598570104595,\n",
       " 'precision': 0.6870529348728229,\n",
       " 'recall': 0.6943598570104594,\n",
       " 'f1': 0.6827579747760721}"
      ]
     },
     "execution_count": 75,
     "metadata": {},
     "output_type": "execute_result"
    }
   ],
   "source": [
    "model_3_results"
   ]
  },
  {
   "cell_type": "code",
   "execution_count": 76,
   "id": "bcGh6QXqondr",
   "metadata": {
    "id": "bcGh6QXqondr"
   },
   "outputs": [],
   "source": [
    "#3. Try replacing the TensorFlow Hub Universal Sentence Encoder pretrained embedding for the TensorFlow Hub\n",
    "# BERT PubMed expert (a language model pretrained on PubMed texts) pretrained embedding. Does this effect results?\n",
    "# !pip install --quiet tensorflow-text\n",
    "# tf.compat.v1.register_op('CaseFoldUTF8')\n",
    "# preprocess = hub.load('https://kaggle.com/models/tensorflow/bert/frameworks/TensorFlow2/variations/en-uncased-preprocess/versions/3')\n",
    "# bert = hub.load('https://www.kaggle.com/models/google/experts-bert/frameworks/TensorFlow2/variations/pubmed/versions/2')\n",
    "# bert_inputs = preprocess(train_sentences)\n",
    "# bert_outputs = bert(bert_inputs, training=False)\n",
    "# pooled_output = bert_outputs['pooled_output']\n",
    "# sequence_output = bert_outputs['sequence_output']\n",
    "# sequence_outputs"
   ]
  },
  {
   "cell_type": "code",
   "execution_count": 77,
   "id": "rCQ3tVx8pwSh",
   "metadata": {
    "id": "rCQ3tVx8pwSh"
   },
   "outputs": [],
   "source": [
    "#4. What happens if you were to merge our line_number and total_lines features for each sequence?\n",
    "# For example, created a X_of_Y feature instead? Does this effect model performance?\n",
    "# train_df_exercise = train_df\n",
    "# train_df_exercise['lines'] = train_df_exercise.line_number.astype(str)+\"_of_\"+train_df_exercise.total_lines.astype(str)\n",
    "\n",
    "# val_df_exercise = val_df\n",
    "# val_df_exercise['lines'] = val_df_exercise.line_number.astype(str)+\"_of_\"+val_df_exercise.total_lines.astype(str)\n",
    "\n",
    "# test_df_exercise = test_df\n",
    "# test_df_exercise['lines'] = test_df_exercise.line_number.astype(str)+\"_of_\"+test_df_exercise.total_lines.astype(str)\n",
    "\n",
    "# train_df_exercise.head()"
   ]
  },
  {
   "cell_type": "code",
   "execution_count": 78,
   "id": "MBbpKAajwT80",
   "metadata": {
    "colab": {
     "base_uri": "https://localhost:8080/",
     "height": 452
    },
    "id": "MBbpKAajwT80",
    "outputId": "bf738a97-c03c-494f-e247-9a81e95fe146"
   },
   "outputs": [
    {
     "data": {
      "text/html": [
       "<div>\n",
       "<style scoped>\n",
       "    .dataframe tbody tr th:only-of-type {\n",
       "        vertical-align: middle;\n",
       "    }\n",
       "\n",
       "    .dataframe tbody tr th {\n",
       "        vertical-align: top;\n",
       "    }\n",
       "\n",
       "    .dataframe thead th {\n",
       "        text-align: right;\n",
       "    }\n",
       "</style>\n",
       "<table border=\"1\" class=\"dataframe\">\n",
       "  <thead>\n",
       "    <tr style=\"text-align: right;\">\n",
       "      <th></th>\n",
       "      <th>text</th>\n",
       "      <th>line_number</th>\n",
       "      <th>total_lines</th>\n",
       "    </tr>\n",
       "  </thead>\n",
       "  <tbody>\n",
       "    <tr>\n",
       "      <th>0</th>\n",
       "      <td>Hepatitis C virus (HCV) and alcoholic liver di...</td>\n",
       "      <td>0</td>\n",
       "      <td>13</td>\n",
       "    </tr>\n",
       "    <tr>\n",
       "      <th>1</th>\n",
       "      <td>There is no safe level of drinking in HCV-infe...</td>\n",
       "      <td>1</td>\n",
       "      <td>13</td>\n",
       "    </tr>\n",
       "    <tr>\n",
       "      <th>2</th>\n",
       "      <td>Baclofen, a GABA(B) receptor agonist, represen...</td>\n",
       "      <td>2</td>\n",
       "      <td>13</td>\n",
       "    </tr>\n",
       "    <tr>\n",
       "      <th>3</th>\n",
       "      <td>Previously, we performed a randomized clinical...</td>\n",
       "      <td>3</td>\n",
       "      <td>13</td>\n",
       "    </tr>\n",
       "    <tr>\n",
       "      <th>4</th>\n",
       "      <td>The goal of this post-hoc analysis was to expl...</td>\n",
       "      <td>4</td>\n",
       "      <td>13</td>\n",
       "    </tr>\n",
       "    <tr>\n",
       "      <th>5</th>\n",
       "      <td>Any patient with HCV infection was selected fo...</td>\n",
       "      <td>5</td>\n",
       "      <td>13</td>\n",
       "    </tr>\n",
       "    <tr>\n",
       "      <th>6</th>\n",
       "      <td>Among the 84 subjects randomized in the main t...</td>\n",
       "      <td>6</td>\n",
       "      <td>13</td>\n",
       "    </tr>\n",
       "    <tr>\n",
       "      <th>7</th>\n",
       "      <td>and 12 received placebo for 12-weeks</td>\n",
       "      <td>7</td>\n",
       "      <td>13</td>\n",
       "    </tr>\n",
       "    <tr>\n",
       "      <th>8</th>\n",
       "      <td>With respect to the placebo group (3/12, 25.0%...</td>\n",
       "      <td>8</td>\n",
       "      <td>13</td>\n",
       "    </tr>\n",
       "    <tr>\n",
       "      <th>9</th>\n",
       "      <td>Furthermore, in the baclofen group, compared t...</td>\n",
       "      <td>9</td>\n",
       "      <td>13</td>\n",
       "    </tr>\n",
       "    <tr>\n",
       "      <th>10</th>\n",
       "      <td>In conclusion, baclofen was safe and significa...</td>\n",
       "      <td>10</td>\n",
       "      <td>13</td>\n",
       "    </tr>\n",
       "    <tr>\n",
       "      <th>11</th>\n",
       "      <td>albumin, INR) in alcohol-dependent HCV-infecte...</td>\n",
       "      <td>11</td>\n",
       "      <td>13</td>\n",
       "    </tr>\n",
       "    <tr>\n",
       "      <th>12</th>\n",
       "      <td>Baclofen may represent a clinically relevant a...</td>\n",
       "      <td>12</td>\n",
       "      <td>13</td>\n",
       "    </tr>\n",
       "  </tbody>\n",
       "</table>\n",
       "</div>"
      ],
      "text/plain": [
       "                                                 text  line_number  \\\n",
       "0   Hepatitis C virus (HCV) and alcoholic liver di...            0   \n",
       "1   There is no safe level of drinking in HCV-infe...            1   \n",
       "2   Baclofen, a GABA(B) receptor agonist, represen...            2   \n",
       "3   Previously, we performed a randomized clinical...            3   \n",
       "4   The goal of this post-hoc analysis was to expl...            4   \n",
       "5   Any patient with HCV infection was selected fo...            5   \n",
       "6   Among the 84 subjects randomized in the main t...            6   \n",
       "7                and 12 received placebo for 12-weeks            7   \n",
       "8   With respect to the placebo group (3/12, 25.0%...            8   \n",
       "9   Furthermore, in the baclofen group, compared t...            9   \n",
       "10  In conclusion, baclofen was safe and significa...           10   \n",
       "11  albumin, INR) in alcohol-dependent HCV-infecte...           11   \n",
       "12  Baclofen may represent a clinically relevant a...           12   \n",
       "\n",
       "    total_lines  \n",
       "0            13  \n",
       "1            13  \n",
       "2            13  \n",
       "3            13  \n",
       "4            13  \n",
       "5            13  \n",
       "6            13  \n",
       "7            13  \n",
       "8            13  \n",
       "9            13  \n",
       "10           13  \n",
       "11           13  \n",
       "12           13  "
      ]
     },
     "execution_count": 78,
     "metadata": {},
     "output_type": "execute_result"
    }
   ],
   "source": [
    "#5. Write a function (or series of functions) to take a sample abstract string, preprocess it (in the same way our model has been trained),\n",
    "# make a prediction on each sequence in the abstract and return the abstract\n",
    "sentence=\"Hepatitis C virus (HCV) and alcoholic liver disease (ALD), either alone or in combination, count for more than two thirds of all liver diseases in the Western world. There is no safe level of drinking in HCV-infected patients and the most effective goal for these patients is total abstinence. Baclofen, a GABA(B) receptor agonist, represents a promising pharmacotherapy for alcohol dependence (AD). Previously, we performed a randomized clinical trial (RCT), which demonstrated the safety and efficacy of baclofen in patients affected by AD and cirrhosis. The goal of this post-hoc analysis was to explore baclofen's effect in a subgroup of alcohol-dependent HCV-infected cirrhotic patients. Any patient with HCV infection was selected for this analysis. Among the 84 subjects randomized in the main trial, 24 alcohol-dependent cirrhotic patients had a HCV infection; 12 received baclofen 10mg t.i.d. and 12 received placebo for 12-weeks. With respect to the placebo group (3/12, 25.0%), a significantly higher number of patients who achieved and maintained total alcohol abstinence was found in the baclofen group (10/12, 83.3%; p=0.0123). Furthermore, in the baclofen group, compared to placebo, there was a significantly higher increase in albumin values from baseline (p=0.0132) and a trend toward a significant reduction in INR levels from baseline (p=0.0716). In conclusion, baclofen was safe and significantly more effective than placebo in promoting alcohol abstinence, and improving some Liver Function Tests (LFTs) (i.e. albumin, INR) in alcohol-dependent HCV-infected cirrhotic patients. Baclofen may represent a clinically relevant alcohol pharmacotherapy for these patients.\"\n",
    "sentence = sentence.strip().split(\". \")\n",
    "char_test = [split_chars(line) for line in sentence]\n",
    "line_number_test = [i for i in range(len(sentence))]\n",
    "total_lines_test = len(sentence)\n",
    "test_df_exercise = pd.DataFrame({\"text\":sentence,\n",
    "                                 \"line_number\":line_number_test,\n",
    "                                 \"total_lines\":total_lines_test})\n",
    "test_df_exercise"
   ]
  },
  {
   "cell_type": "code",
   "execution_count": 79,
   "id": "Xx0Qd8d8zAGO",
   "metadata": {
    "colab": {
     "base_uri": "https://localhost:8080/"
    },
    "id": "Xx0Qd8d8zAGO",
    "outputId": "820733ae-733e-41af-9bfe-34ff4720b16c"
   },
   "outputs": [
    {
     "data": {
      "text/plain": [
       "<_PrefetchDataset element_spec=((TensorSpec(shape=(None, 15), dtype=tf.float32, name=None), TensorSpec(shape=(None, 20), dtype=tf.float32, name=None), TensorSpec(shape=(None,), dtype=tf.string, name=None), TensorSpec(shape=(None,), dtype=tf.string, name=None)), TensorSpec(shape=(None, 5), dtype=tf.float64, name=None))>"
      ]
     },
     "execution_count": 79,
     "metadata": {},
     "output_type": "execute_result"
    }
   ],
   "source": [
    "val_all_dataset"
   ]
  },
  {
   "cell_type": "code",
   "execution_count": 80,
   "id": "kAtnPwxtwmM3",
   "metadata": {
    "id": "kAtnPwxtwmM3"
   },
   "outputs": [],
   "source": [
    "test_sentences=test_df_exercise.text\n",
    "test_line_number=test_df_exercise.line_number\n",
    "test_total_lines=test_df_exercise.total_lines\n",
    "\n",
    "test_chars = [split_chars(sentence) for sentence in test_sentences]"
   ]
  },
  {
   "cell_type": "code",
   "execution_count": 81,
   "id": "aTG5C6OXzplq",
   "metadata": {
    "id": "aTG5C6OXzplq"
   },
   "outputs": [],
   "source": [
    "test_total_lines_one_hot = tf.one_hot(test_df_exercise.total_lines.to_numpy(), depth=14)\n",
    "test_line_numbers_one_hot = tf.one_hot(test_df_exercise.line_number.to_numpy(), depth=13)"
   ]
  },
  {
   "cell_type": "code",
   "execution_count": 82,
   "id": "KcdWj7NL0R1H",
   "metadata": {
    "colab": {
     "base_uri": "https://localhost:8080/"
    },
    "id": "KcdWj7NL0R1H",
    "outputId": "c2e32adf-eee1-4933-9805-1cd36381405c"
   },
   "outputs": [
    {
     "data": {
      "text/plain": [
       "<_TensorSliceDataset element_spec=(TensorSpec(shape=(13,), dtype=tf.float32, name=None), TensorSpec(shape=(14,), dtype=tf.float32, name=None), TensorSpec(shape=(), dtype=tf.string, name=None), TensorSpec(shape=(), dtype=tf.string, name=None))>"
      ]
     },
     "execution_count": 82,
     "metadata": {},
     "output_type": "execute_result"
    }
   ],
   "source": [
    "test_all_dataset_exercise = tf.data.Dataset.from_tensor_slices((test_line_numbers_one_hot, test_total_lines_one_hot, test_sentences, test_chars))\n",
    "test_all_dataset_exercise"
   ]
  },
  {
   "cell_type": "code",
   "execution_count": 83,
   "id": "zKyQG7J313QY",
   "metadata": {
    "id": "zKyQG7J313QY"
   },
   "outputs": [],
   "source": [
    "# model_5.predict(test_all_dataset_exercise)"
   ]
  },
  {
   "cell_type": "code",
   "execution_count": null,
   "id": "EjdHVT0b2MGa",
   "metadata": {
    "id": "EjdHVT0b2MGa"
   },
   "outputs": [],
   "source": []
  }
 ],
 "metadata": {
  "accelerator": "GPU",
  "colab": {
   "gpuType": "T4",
   "provenance": []
  },
  "kernelspec": {
   "display_name": "Python 3 (ipykernel)",
   "language": "python",
   "name": "python3"
  },
  "language_info": {
   "codemirror_mode": {
    "name": "ipython",
    "version": 3
   },
   "file_extension": ".py",
   "mimetype": "text/x-python",
   "name": "python",
   "nbconvert_exporter": "python",
   "pygments_lexer": "ipython3",
   "version": "3.9.2"
  }
 },
 "nbformat": 4,
 "nbformat_minor": 5
}
