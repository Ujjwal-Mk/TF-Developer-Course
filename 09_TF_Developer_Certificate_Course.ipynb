{
  "cells": [
    {
      "cell_type": "code",
      "execution_count": 1,
      "id": "c72981f1-e1e7-4bd1-b793-9f1d948a97db",
      "metadata": {
        "colab": {
          "base_uri": "https://localhost:8080/"
        },
        "id": "c72981f1-e1e7-4bd1-b793-9f1d948a97db",
        "outputId": "e685eac2-1885-4741-831a-206f3b9eed3e"
      },
      "outputs": [
        {
          "output_type": "stream",
          "name": "stdout",
          "text": [
            "--2023-12-27 12:01:45--  https://raw.githubusercontent.com/mrdbourke/tensorflow-deep-learning/main/extras/helper_functions.py\n",
            "Resolving raw.githubusercontent.com (raw.githubusercontent.com)... 185.199.108.133, 185.199.109.133, 185.199.110.133, ...\n",
            "Connecting to raw.githubusercontent.com (raw.githubusercontent.com)|185.199.108.133|:443... connected.\n",
            "HTTP request sent, awaiting response... 200 OK\n",
            "Length: 10246 (10K) [text/plain]\n",
            "Saving to: ‘helper_functions.py’\n",
            "\n",
            "\rhelper_functions.py   0%[                    ]       0  --.-KB/s               \rhelper_functions.py 100%[===================>]  10.01K  --.-KB/s    in 0s      \n",
            "\n",
            "2023-12-27 12:01:46 (20.8 MB/s) - ‘helper_functions.py’ saved [10246/10246]\n",
            "\n"
          ]
        }
      ],
      "source": [
        "import os\n",
        "os.environ['TF_CPP_MIN_LOG_LEVEL'] = '3'\n",
        "os.environ[\"KMP_DUPLICATE_LIB_OK\"]=\"TRUE\"\n",
        "import tensorflow as tf\n",
        "if not os.path.exists(\"helper_functions.py\"):\n",
        "  !wget https://raw.githubusercontent.com/mrdbourke/tensorflow-deep-learning/main/extras/helper_functions.py\n",
        "else:\n",
        "  print(\"[INFO] 'helper_functions.py' already exists, skipping download.\")\n",
        "from helper_functions import *\n",
        "from tensorflow.keras import mixed_precision\n",
        "mixed_precision.set_global_policy('mixed_float16')\n",
        "# importTensorflow()"
      ]
    },
    {
      "cell_type": "markdown",
      "id": "3117852a-2e2b-4fc5-8ae6-00444ca94e90",
      "metadata": {
        "id": "3117852a-2e2b-4fc5-8ae6-00444ca94e90"
      },
      "source": [
        "### Convert harder to read text into neatly classified texts(ex: research paper divided nicely into intro, backgtround, conclusion, etc)\n",
        "It is a many to one RNN architecture based problem"
      ]
    },
    {
      "cell_type": "markdown",
      "id": "936eafeb-3d11-4dba-85e9-561307b79420",
      "metadata": {
        "id": "936eafeb-3d11-4dba-85e9-561307b79420"
      },
      "source": [
        "# SKIMLIT : Milestone Project"
      ]
    },
    {
      "cell_type": "markdown",
      "id": "7b0f4759-c644-4b86-8158-a49cce4fbb7c",
      "metadata": {
        "id": "7b0f4759-c644-4b86-8158-a49cce4fbb7c"
      },
      "source": [
        "#### Get the data"
      ]
    },
    {
      "cell_type": "code",
      "execution_count": 2,
      "id": "65fd93a3-69d9-4509-8beb-2a7a28af9a37",
      "metadata": {
        "colab": {
          "base_uri": "https://localhost:8080/"
        },
        "id": "65fd93a3-69d9-4509-8beb-2a7a28af9a37",
        "outputId": "c6486d76-67a7-4d16-859e-f94312cb7079"
      },
      "outputs": [
        {
          "output_type": "stream",
          "name": "stdout",
          "text": [
            "Cloning into 'pubmed-rct'...\n",
            "remote: Enumerating objects: 39, done.\u001b[K\n",
            "remote: Counting objects: 100% (14/14), done.\u001b[K\n",
            "remote: Compressing objects: 100% (9/9), done.\u001b[K\n",
            "remote: Total 39 (delta 8), reused 5 (delta 5), pack-reused 25\u001b[K\n",
            "Receiving objects: 100% (39/39), 177.08 MiB | 16.20 MiB/s, done.\n",
            "Resolving deltas: 100% (15/15), done.\n",
            "Updating files: 100% (13/13), done.\n",
            "PubMed_200k_RCT\t\t\t\t       PubMed_20k_RCT_numbers_replaced_with_at_sign\n",
            "PubMed_200k_RCT_numbers_replaced_with_at_sign  README.md\n",
            "PubMed_20k_RCT\n"
          ]
        }
      ],
      "source": [
        "if 'pubmed_rct' not in os.listdir(\"./\"):\n",
        "    !git clone https://github.com/Franck-Dernoncourt/pubmed-rct.git\n",
        "    !mv 'pubmed-rct' pubmed_rct\n",
        "!ls ./pubmed_rct"
      ]
    },
    {
      "cell_type": "markdown",
      "id": "07e405cf-89e9-4a43-b50e-235a5b8587a9",
      "metadata": {
        "id": "07e405cf-89e9-4a43-b50e-235a5b8587a9"
      },
      "source": [
        "#### Work on pubmed-20k now and scale it later"
      ]
    },
    {
      "cell_type": "code",
      "execution_count": 3,
      "id": "611da2fb-5c86-4488-b029-2bef217e638c",
      "metadata": {
        "colab": {
          "base_uri": "https://localhost:8080/"
        },
        "id": "611da2fb-5c86-4488-b029-2bef217e638c",
        "outputId": "6451c2e2-9d4a-40e6-a784-d3301d452a7b"
      },
      "outputs": [
        {
          "output_type": "stream",
          "name": "stdout",
          "text": [
            "dev.txt  test.txt  train.txt\n"
          ]
        }
      ],
      "source": [
        "!ls pubmed_rct/PubMed_20k_RCT_numbers_replaced_with_at_sign/"
      ]
    },
    {
      "cell_type": "code",
      "execution_count": 4,
      "id": "b1631215-e7a5-4b50-95d1-7d570e517b1a",
      "metadata": {
        "colab": {
          "base_uri": "https://localhost:8080/"
        },
        "id": "b1631215-e7a5-4b50-95d1-7d570e517b1a",
        "outputId": "b990e9f5-f43a-47e0-8013-a866b2907a2e"
      },
      "outputs": [
        {
          "output_type": "execute_result",
          "data": {
            "text/plain": [
              "['./pubmed_rct/PubMed_20k_RCT_numbers_replaced_with_at_sign/train.txt',\n",
              " './pubmed_rct/PubMed_20k_RCT_numbers_replaced_with_at_sign/dev.txt',\n",
              " './pubmed_rct/PubMed_20k_RCT_numbers_replaced_with_at_sign/test.txt']"
            ]
          },
          "metadata": {},
          "execution_count": 4
        }
      ],
      "source": [
        "data_dir = './pubmed_rct/PubMed_20k_RCT_numbers_replaced_with_at_sign/'\n",
        "filenames = [data_dir+filename for filename in os.listdir(data_dir)]\n",
        "filenames"
      ]
    },
    {
      "cell_type": "code",
      "execution_count": 5,
      "id": "c84f7c9e-cb36-4c8d-810b-76fb963edb06",
      "metadata": {
        "colab": {
          "base_uri": "https://localhost:8080/"
        },
        "id": "c84f7c9e-cb36-4c8d-810b-76fb963edb06",
        "outputId": "1af68c4e-49a3-45f0-eaf1-baf75f66cb15"
      },
      "outputs": [
        {
          "output_type": "execute_result",
          "data": {
            "text/plain": [
              "['###24290286\\n',\n",
              " 'BACKGROUND\\tIgE sensitization to Aspergillus fumigatus and a positive sputum fungal culture result are common in patients with refractory asthma .\\n',\n",
              " 'BACKGROUND\\tIt is not clear whether these patients would benefit from antifungal treatment .\\n',\n",
              " 'OBJECTIVE\\tWe sought to determine whether a @-month course of voriconazole improved asthma-related outcomes in patients with asthma who are IgE sensitized to A fumigatus .\\n',\n",
              " 'METHODS\\tAsthmatic patients who were IgE sensitized to A fumigatus with a history of at least @ severe exacerbations in the previous @ months were treated for @ months with @ mg of voriconazole twice daily , followed by observation for @ months , in a double-blind , placebo-controlled , randomized design .\\n']"
            ]
          },
          "metadata": {},
          "execution_count": 5
        }
      ],
      "source": [
        "def get_lines(filepath):\n",
        "    with open(filepath, 'r') as f:\n",
        "        return f.readlines()\n",
        "get_lines(filenames[1])[:5]"
      ]
    },
    {
      "cell_type": "code",
      "execution_count": 6,
      "id": "0833a4df-d145-4cd1-84f1-eef2017ee619",
      "metadata": {
        "id": "0833a4df-d145-4cd1-84f1-eef2017ee619"
      },
      "outputs": [],
      "source": [
        "def preprocess_text_with_line_numbers(filename):\n",
        "    input_lines = get_lines(filename)\n",
        "    abstract_lines = \"\"\n",
        "    abstract_samples = []\n",
        "    for line in input_lines:\n",
        "        if line.startswith(\"###\"):\n",
        "            abstract_id = line\n",
        "            abstract_lines=\"\"\n",
        "        elif line.isspace():\n",
        "            abstract_line_split = abstract_lines.splitlines()\n",
        "\n",
        "            for abstract_line_number, abstract_line in enumerate(abstract_line_split):\n",
        "                line_data = {}\n",
        "                target_text_split = abstract_line.split(\"\\t\")\n",
        "                line_data[\"target\"] = target_text_split[0]\n",
        "                line_data[\"text\"] = target_text_split[1].lower()\n",
        "                line_data[\"line_number\"] = abstract_line_number\n",
        "                line_data[\"total_lines\"] = len(abstract_line_split)-1\n",
        "                abstract_samples.append(line_data)\n",
        "        else:\n",
        "            abstract_lines+=line\n",
        "    return abstract_samples"
      ]
    },
    {
      "cell_type": "code",
      "execution_count": 7,
      "id": "447f70ef-26ac-4f56-b1af-50de5b96d606",
      "metadata": {
        "colab": {
          "base_uri": "https://localhost:8080/"
        },
        "id": "447f70ef-26ac-4f56-b1af-50de5b96d606",
        "outputId": "2950b3fe-2f12-4f22-c6ae-0b2562bbdf20"
      },
      "outputs": [
        {
          "output_type": "execute_result",
          "data": {
            "text/plain": [
              "(180040, 30212, 30135)"
            ]
          },
          "metadata": {},
          "execution_count": 7
        }
      ],
      "source": [
        "train_samples = preprocess_text_with_line_numbers(filenames[0])\n",
        "val_samples = preprocess_text_with_line_numbers(filenames[1])\n",
        "test_samples = preprocess_text_with_line_numbers(filenames[-1])\n",
        "len(train_samples), len(val_samples), len(test_samples)"
      ]
    },
    {
      "cell_type": "code",
      "execution_count": 8,
      "id": "c6047026-aa70-40e3-8a7a-bcc484620b49",
      "metadata": {
        "colab": {
          "base_uri": "https://localhost:8080/"
        },
        "id": "c6047026-aa70-40e3-8a7a-bcc484620b49",
        "outputId": "0c02f8d8-27e2-4fc2-c4e4-d4f6d61a73ef"
      },
      "outputs": [
        {
          "output_type": "execute_result",
          "data": {
            "text/plain": [
              "[{'target': 'OBJECTIVE',\n",
              "  'text': 'to investigate the efficacy of @ weeks of daily low-dose oral prednisolone in improving pain , mobility , and systemic low-grade inflammation in the short term and whether the effect would be sustained at @ weeks in older adults with moderate to severe knee osteoarthritis ( oa ) .',\n",
              "  'line_number': 0,\n",
              "  'total_lines': 11},\n",
              " {'target': 'METHODS',\n",
              "  'text': 'a total of @ patients with primary knee oa were randomized @:@ ; @ received @ mg/day of prednisolone and @ received placebo for @ weeks .',\n",
              "  'line_number': 1,\n",
              "  'total_lines': 11},\n",
              " {'target': 'METHODS',\n",
              "  'text': 'outcome measures included pain reduction and improvement in function scores and systemic inflammation markers .',\n",
              "  'line_number': 2,\n",
              "  'total_lines': 11},\n",
              " {'target': 'METHODS',\n",
              "  'text': 'pain was assessed using the visual analog pain scale ( @-@ mm ) .',\n",
              "  'line_number': 3,\n",
              "  'total_lines': 11},\n",
              " {'target': 'METHODS',\n",
              "  'text': 'secondary outcome measures included the western ontario and mcmaster universities osteoarthritis index scores , patient global assessment ( pga ) of the severity of knee oa , and @-min walk distance ( @mwd ) .',\n",
              "  'line_number': 4,\n",
              "  'total_lines': 11}]"
            ]
          },
          "metadata": {},
          "execution_count": 8
        }
      ],
      "source": [
        "train_samples[:5]"
      ]
    },
    {
      "cell_type": "code",
      "execution_count": 9,
      "id": "6fbc6d16-18db-4aad-9129-e69d386c1922",
      "metadata": {
        "colab": {
          "base_uri": "https://localhost:8080/",
          "height": 483
        },
        "id": "6fbc6d16-18db-4aad-9129-e69d386c1922",
        "outputId": "b8bc9c8e-9c14-4b47-90d4-11287f751a3d"
      },
      "outputs": [
        {
          "output_type": "execute_result",
          "data": {
            "text/plain": [
              "         target                                               text  \\\n",
              "0     OBJECTIVE  to investigate the efficacy of @ weeks of dail...   \n",
              "1       METHODS  a total of @ patients with primary knee oa wer...   \n",
              "2       METHODS  outcome measures included pain reduction and i...   \n",
              "3       METHODS  pain was assessed using the visual analog pain...   \n",
              "4       METHODS  secondary outcome measures included the wester...   \n",
              "5       METHODS  serum levels of interleukin @ ( il-@ ) , il-@ ...   \n",
              "6       RESULTS  there was a clinically relevant reduction in t...   \n",
              "7       RESULTS  the mean difference between treatment arms ( @...   \n",
              "8       RESULTS  further , there was a clinically relevant redu...   \n",
              "9       RESULTS  these differences remained significant at @ we...   \n",
              "10      RESULTS  the outcome measures in rheumatology clinical ...   \n",
              "11  CONCLUSIONS  low-dose oral prednisolone had both a short-te...   \n",
              "12   BACKGROUND  emotional eating is associated with overeating...   \n",
              "13   BACKGROUND  yet , empirical evidence for individual ( trai...   \n",
              "\n",
              "    line_number  total_lines  \n",
              "0             0           11  \n",
              "1             1           11  \n",
              "2             2           11  \n",
              "3             3           11  \n",
              "4             4           11  \n",
              "5             5           11  \n",
              "6             6           11  \n",
              "7             7           11  \n",
              "8             8           11  \n",
              "9             9           11  \n",
              "10           10           11  \n",
              "11           11           11  \n",
              "12            0           10  \n",
              "13            1           10  "
            ],
            "text/html": [
              "\n",
              "  <div id=\"df-48d70740-aec8-4525-a49b-fedd583cbab4\" class=\"colab-df-container\">\n",
              "    <div>\n",
              "<style scoped>\n",
              "    .dataframe tbody tr th:only-of-type {\n",
              "        vertical-align: middle;\n",
              "    }\n",
              "\n",
              "    .dataframe tbody tr th {\n",
              "        vertical-align: top;\n",
              "    }\n",
              "\n",
              "    .dataframe thead th {\n",
              "        text-align: right;\n",
              "    }\n",
              "</style>\n",
              "<table border=\"1\" class=\"dataframe\">\n",
              "  <thead>\n",
              "    <tr style=\"text-align: right;\">\n",
              "      <th></th>\n",
              "      <th>target</th>\n",
              "      <th>text</th>\n",
              "      <th>line_number</th>\n",
              "      <th>total_lines</th>\n",
              "    </tr>\n",
              "  </thead>\n",
              "  <tbody>\n",
              "    <tr>\n",
              "      <th>0</th>\n",
              "      <td>OBJECTIVE</td>\n",
              "      <td>to investigate the efficacy of @ weeks of dail...</td>\n",
              "      <td>0</td>\n",
              "      <td>11</td>\n",
              "    </tr>\n",
              "    <tr>\n",
              "      <th>1</th>\n",
              "      <td>METHODS</td>\n",
              "      <td>a total of @ patients with primary knee oa wer...</td>\n",
              "      <td>1</td>\n",
              "      <td>11</td>\n",
              "    </tr>\n",
              "    <tr>\n",
              "      <th>2</th>\n",
              "      <td>METHODS</td>\n",
              "      <td>outcome measures included pain reduction and i...</td>\n",
              "      <td>2</td>\n",
              "      <td>11</td>\n",
              "    </tr>\n",
              "    <tr>\n",
              "      <th>3</th>\n",
              "      <td>METHODS</td>\n",
              "      <td>pain was assessed using the visual analog pain...</td>\n",
              "      <td>3</td>\n",
              "      <td>11</td>\n",
              "    </tr>\n",
              "    <tr>\n",
              "      <th>4</th>\n",
              "      <td>METHODS</td>\n",
              "      <td>secondary outcome measures included the wester...</td>\n",
              "      <td>4</td>\n",
              "      <td>11</td>\n",
              "    </tr>\n",
              "    <tr>\n",
              "      <th>5</th>\n",
              "      <td>METHODS</td>\n",
              "      <td>serum levels of interleukin @ ( il-@ ) , il-@ ...</td>\n",
              "      <td>5</td>\n",
              "      <td>11</td>\n",
              "    </tr>\n",
              "    <tr>\n",
              "      <th>6</th>\n",
              "      <td>RESULTS</td>\n",
              "      <td>there was a clinically relevant reduction in t...</td>\n",
              "      <td>6</td>\n",
              "      <td>11</td>\n",
              "    </tr>\n",
              "    <tr>\n",
              "      <th>7</th>\n",
              "      <td>RESULTS</td>\n",
              "      <td>the mean difference between treatment arms ( @...</td>\n",
              "      <td>7</td>\n",
              "      <td>11</td>\n",
              "    </tr>\n",
              "    <tr>\n",
              "      <th>8</th>\n",
              "      <td>RESULTS</td>\n",
              "      <td>further , there was a clinically relevant redu...</td>\n",
              "      <td>8</td>\n",
              "      <td>11</td>\n",
              "    </tr>\n",
              "    <tr>\n",
              "      <th>9</th>\n",
              "      <td>RESULTS</td>\n",
              "      <td>these differences remained significant at @ we...</td>\n",
              "      <td>9</td>\n",
              "      <td>11</td>\n",
              "    </tr>\n",
              "    <tr>\n",
              "      <th>10</th>\n",
              "      <td>RESULTS</td>\n",
              "      <td>the outcome measures in rheumatology clinical ...</td>\n",
              "      <td>10</td>\n",
              "      <td>11</td>\n",
              "    </tr>\n",
              "    <tr>\n",
              "      <th>11</th>\n",
              "      <td>CONCLUSIONS</td>\n",
              "      <td>low-dose oral prednisolone had both a short-te...</td>\n",
              "      <td>11</td>\n",
              "      <td>11</td>\n",
              "    </tr>\n",
              "    <tr>\n",
              "      <th>12</th>\n",
              "      <td>BACKGROUND</td>\n",
              "      <td>emotional eating is associated with overeating...</td>\n",
              "      <td>0</td>\n",
              "      <td>10</td>\n",
              "    </tr>\n",
              "    <tr>\n",
              "      <th>13</th>\n",
              "      <td>BACKGROUND</td>\n",
              "      <td>yet , empirical evidence for individual ( trai...</td>\n",
              "      <td>1</td>\n",
              "      <td>10</td>\n",
              "    </tr>\n",
              "  </tbody>\n",
              "</table>\n",
              "</div>\n",
              "    <div class=\"colab-df-buttons\">\n",
              "\n",
              "  <div class=\"colab-df-container\">\n",
              "    <button class=\"colab-df-convert\" onclick=\"convertToInteractive('df-48d70740-aec8-4525-a49b-fedd583cbab4')\"\n",
              "            title=\"Convert this dataframe to an interactive table.\"\n",
              "            style=\"display:none;\">\n",
              "\n",
              "  <svg xmlns=\"http://www.w3.org/2000/svg\" height=\"24px\" viewBox=\"0 -960 960 960\">\n",
              "    <path d=\"M120-120v-720h720v720H120Zm60-500h600v-160H180v160Zm220 220h160v-160H400v160Zm0 220h160v-160H400v160ZM180-400h160v-160H180v160Zm440 0h160v-160H620v160ZM180-180h160v-160H180v160Zm440 0h160v-160H620v160Z\"/>\n",
              "  </svg>\n",
              "    </button>\n",
              "\n",
              "  <style>\n",
              "    .colab-df-container {\n",
              "      display:flex;\n",
              "      gap: 12px;\n",
              "    }\n",
              "\n",
              "    .colab-df-convert {\n",
              "      background-color: #E8F0FE;\n",
              "      border: none;\n",
              "      border-radius: 50%;\n",
              "      cursor: pointer;\n",
              "      display: none;\n",
              "      fill: #1967D2;\n",
              "      height: 32px;\n",
              "      padding: 0 0 0 0;\n",
              "      width: 32px;\n",
              "    }\n",
              "\n",
              "    .colab-df-convert:hover {\n",
              "      background-color: #E2EBFA;\n",
              "      box-shadow: 0px 1px 2px rgba(60, 64, 67, 0.3), 0px 1px 3px 1px rgba(60, 64, 67, 0.15);\n",
              "      fill: #174EA6;\n",
              "    }\n",
              "\n",
              "    .colab-df-buttons div {\n",
              "      margin-bottom: 4px;\n",
              "    }\n",
              "\n",
              "    [theme=dark] .colab-df-convert {\n",
              "      background-color: #3B4455;\n",
              "      fill: #D2E3FC;\n",
              "    }\n",
              "\n",
              "    [theme=dark] .colab-df-convert:hover {\n",
              "      background-color: #434B5C;\n",
              "      box-shadow: 0px 1px 3px 1px rgba(0, 0, 0, 0.15);\n",
              "      filter: drop-shadow(0px 1px 2px rgba(0, 0, 0, 0.3));\n",
              "      fill: #FFFFFF;\n",
              "    }\n",
              "  </style>\n",
              "\n",
              "    <script>\n",
              "      const buttonEl =\n",
              "        document.querySelector('#df-48d70740-aec8-4525-a49b-fedd583cbab4 button.colab-df-convert');\n",
              "      buttonEl.style.display =\n",
              "        google.colab.kernel.accessAllowed ? 'block' : 'none';\n",
              "\n",
              "      async function convertToInteractive(key) {\n",
              "        const element = document.querySelector('#df-48d70740-aec8-4525-a49b-fedd583cbab4');\n",
              "        const dataTable =\n",
              "          await google.colab.kernel.invokeFunction('convertToInteractive',\n",
              "                                                    [key], {});\n",
              "        if (!dataTable) return;\n",
              "\n",
              "        const docLinkHtml = 'Like what you see? Visit the ' +\n",
              "          '<a target=\"_blank\" href=https://colab.research.google.com/notebooks/data_table.ipynb>data table notebook</a>'\n",
              "          + ' to learn more about interactive tables.';\n",
              "        element.innerHTML = '';\n",
              "        dataTable['output_type'] = 'display_data';\n",
              "        await google.colab.output.renderOutput(dataTable, element);\n",
              "        const docLink = document.createElement('div');\n",
              "        docLink.innerHTML = docLinkHtml;\n",
              "        element.appendChild(docLink);\n",
              "      }\n",
              "    </script>\n",
              "  </div>\n",
              "\n",
              "\n",
              "<div id=\"df-ce8114f7-051c-469f-a6ec-9bf87023451c\">\n",
              "  <button class=\"colab-df-quickchart\" onclick=\"quickchart('df-ce8114f7-051c-469f-a6ec-9bf87023451c')\"\n",
              "            title=\"Suggest charts\"\n",
              "            style=\"display:none;\">\n",
              "\n",
              "<svg xmlns=\"http://www.w3.org/2000/svg\" height=\"24px\"viewBox=\"0 0 24 24\"\n",
              "     width=\"24px\">\n",
              "    <g>\n",
              "        <path d=\"M19 3H5c-1.1 0-2 .9-2 2v14c0 1.1.9 2 2 2h14c1.1 0 2-.9 2-2V5c0-1.1-.9-2-2-2zM9 17H7v-7h2v7zm4 0h-2V7h2v10zm4 0h-2v-4h2v4z\"/>\n",
              "    </g>\n",
              "</svg>\n",
              "  </button>\n",
              "\n",
              "<style>\n",
              "  .colab-df-quickchart {\n",
              "      --bg-color: #E8F0FE;\n",
              "      --fill-color: #1967D2;\n",
              "      --hover-bg-color: #E2EBFA;\n",
              "      --hover-fill-color: #174EA6;\n",
              "      --disabled-fill-color: #AAA;\n",
              "      --disabled-bg-color: #DDD;\n",
              "  }\n",
              "\n",
              "  [theme=dark] .colab-df-quickchart {\n",
              "      --bg-color: #3B4455;\n",
              "      --fill-color: #D2E3FC;\n",
              "      --hover-bg-color: #434B5C;\n",
              "      --hover-fill-color: #FFFFFF;\n",
              "      --disabled-bg-color: #3B4455;\n",
              "      --disabled-fill-color: #666;\n",
              "  }\n",
              "\n",
              "  .colab-df-quickchart {\n",
              "    background-color: var(--bg-color);\n",
              "    border: none;\n",
              "    border-radius: 50%;\n",
              "    cursor: pointer;\n",
              "    display: none;\n",
              "    fill: var(--fill-color);\n",
              "    height: 32px;\n",
              "    padding: 0;\n",
              "    width: 32px;\n",
              "  }\n",
              "\n",
              "  .colab-df-quickchart:hover {\n",
              "    background-color: var(--hover-bg-color);\n",
              "    box-shadow: 0 1px 2px rgba(60, 64, 67, 0.3), 0 1px 3px 1px rgba(60, 64, 67, 0.15);\n",
              "    fill: var(--button-hover-fill-color);\n",
              "  }\n",
              "\n",
              "  .colab-df-quickchart-complete:disabled,\n",
              "  .colab-df-quickchart-complete:disabled:hover {\n",
              "    background-color: var(--disabled-bg-color);\n",
              "    fill: var(--disabled-fill-color);\n",
              "    box-shadow: none;\n",
              "  }\n",
              "\n",
              "  .colab-df-spinner {\n",
              "    border: 2px solid var(--fill-color);\n",
              "    border-color: transparent;\n",
              "    border-bottom-color: var(--fill-color);\n",
              "    animation:\n",
              "      spin 1s steps(1) infinite;\n",
              "  }\n",
              "\n",
              "  @keyframes spin {\n",
              "    0% {\n",
              "      border-color: transparent;\n",
              "      border-bottom-color: var(--fill-color);\n",
              "      border-left-color: var(--fill-color);\n",
              "    }\n",
              "    20% {\n",
              "      border-color: transparent;\n",
              "      border-left-color: var(--fill-color);\n",
              "      border-top-color: var(--fill-color);\n",
              "    }\n",
              "    30% {\n",
              "      border-color: transparent;\n",
              "      border-left-color: var(--fill-color);\n",
              "      border-top-color: var(--fill-color);\n",
              "      border-right-color: var(--fill-color);\n",
              "    }\n",
              "    40% {\n",
              "      border-color: transparent;\n",
              "      border-right-color: var(--fill-color);\n",
              "      border-top-color: var(--fill-color);\n",
              "    }\n",
              "    60% {\n",
              "      border-color: transparent;\n",
              "      border-right-color: var(--fill-color);\n",
              "    }\n",
              "    80% {\n",
              "      border-color: transparent;\n",
              "      border-right-color: var(--fill-color);\n",
              "      border-bottom-color: var(--fill-color);\n",
              "    }\n",
              "    90% {\n",
              "      border-color: transparent;\n",
              "      border-bottom-color: var(--fill-color);\n",
              "    }\n",
              "  }\n",
              "</style>\n",
              "\n",
              "  <script>\n",
              "    async function quickchart(key) {\n",
              "      const quickchartButtonEl =\n",
              "        document.querySelector('#' + key + ' button');\n",
              "      quickchartButtonEl.disabled = true;  // To prevent multiple clicks.\n",
              "      quickchartButtonEl.classList.add('colab-df-spinner');\n",
              "      try {\n",
              "        const charts = await google.colab.kernel.invokeFunction(\n",
              "            'suggestCharts', [key], {});\n",
              "      } catch (error) {\n",
              "        console.error('Error during call to suggestCharts:', error);\n",
              "      }\n",
              "      quickchartButtonEl.classList.remove('colab-df-spinner');\n",
              "      quickchartButtonEl.classList.add('colab-df-quickchart-complete');\n",
              "    }\n",
              "    (() => {\n",
              "      let quickchartButtonEl =\n",
              "        document.querySelector('#df-ce8114f7-051c-469f-a6ec-9bf87023451c button');\n",
              "      quickchartButtonEl.style.display =\n",
              "        google.colab.kernel.accessAllowed ? 'block' : 'none';\n",
              "    })();\n",
              "  </script>\n",
              "</div>\n",
              "\n",
              "    </div>\n",
              "  </div>\n"
            ]
          },
          "metadata": {},
          "execution_count": 9
        }
      ],
      "source": [
        "import pandas as pd\n",
        "train_df = pd.DataFrame(train_samples)\n",
        "val_df = pd.DataFrame(val_samples)\n",
        "test_df = pd.DataFrame(test_samples)\n",
        "train_df.head(14)"
      ]
    },
    {
      "cell_type": "code",
      "execution_count": 10,
      "id": "39c990fb-b652-4052-825c-849466c4a082",
      "metadata": {
        "colab": {
          "base_uri": "https://localhost:8080/"
        },
        "id": "39c990fb-b652-4052-825c-849466c4a082",
        "outputId": "ce9d238f-5b62-4c4d-dd34-42192c2cfcc3"
      },
      "outputs": [
        {
          "output_type": "execute_result",
          "data": {
            "text/plain": [
              "METHODS        59353\n",
              "RESULTS        57953\n",
              "CONCLUSIONS    27168\n",
              "BACKGROUND     21727\n",
              "OBJECTIVE      13839\n",
              "Name: target, dtype: int64"
            ]
          },
          "metadata": {},
          "execution_count": 10
        }
      ],
      "source": [
        "train_df.target.value_counts()"
      ]
    },
    {
      "cell_type": "code",
      "execution_count": 11,
      "id": "2c581d8b-4033-4ea3-8cde-ce4cb81008d2",
      "metadata": {
        "colab": {
          "base_uri": "https://localhost:8080/",
          "height": 448
        },
        "id": "2c581d8b-4033-4ea3-8cde-ce4cb81008d2",
        "outputId": "003f3d5b-be8a-41cc-86c2-3884f7e340aa"
      },
      "outputs": [
        {
          "output_type": "execute_result",
          "data": {
            "text/plain": [
              "<Axes: ylabel='Frequency'>"
            ]
          },
          "metadata": {},
          "execution_count": 11
        },
        {
          "output_type": "display_data",
          "data": {
            "text/plain": [
              "<Figure size 640x480 with 1 Axes>"
            ],
            "image/png": "[encoded data removed]"
          },
          "metadata": {}
        }
      ],
      "source": [
        "train_df.total_lines.plot.hist()"
      ]
    },
    {
      "cell_type": "markdown",
      "id": "f3c09ac8-61c5-446f-abc6-d6a81e7bb35b",
      "metadata": {
        "id": "f3c09ac8-61c5-446f-abc6-d6a81e7bb35b"
      },
      "source": [
        "#### Get lists of sentences"
      ]
    },
    {
      "cell_type": "code",
      "execution_count": 12,
      "id": "e094ce7a-4321-457a-bbff-594d38216506",
      "metadata": {
        "colab": {
          "base_uri": "https://localhost:8080/"
        },
        "id": "e094ce7a-4321-457a-bbff-594d38216506",
        "outputId": "8794ab47-023f-45d2-8609-06283700d4b8"
      },
      "outputs": [
        {
          "output_type": "execute_result",
          "data": {
            "text/plain": [
              "['to investigate the efficacy of @ weeks of daily low-dose oral prednisolone in improving pain , mobility , and systemic low-grade inflammation in the short term and whether the effect would be sustained at @ weeks in older adults with moderate to severe knee osteoarthritis ( oa ) .',\n",
              " 'a total of @ patients with primary knee oa were randomized @:@ ; @ received @ mg/day of prednisolone and @ received placebo for @ weeks .',\n",
              " 'outcome measures included pain reduction and improvement in function scores and systemic inflammation markers .',\n",
              " 'pain was assessed using the visual analog pain scale ( @-@ mm ) .',\n",
              " 'secondary outcome measures included the western ontario and mcmaster universities osteoarthritis index scores , patient global assessment ( pga ) of the severity of knee oa , and @-min walk distance ( @mwd ) .']"
            ]
          },
          "metadata": {},
          "execution_count": 12
        }
      ],
      "source": [
        "train_sentences = train_df.text.to_list()\n",
        "val_sentences = val_df.text.to_list()\n",
        "test_sentences = test_df.text.to_list()\n",
        "train_sentences[:5]"
      ]
    },
    {
      "cell_type": "code",
      "execution_count": 13,
      "id": "e5edabdf-eec4-4da1-80da-013cd6b2c0d4",
      "metadata": {
        "colab": {
          "base_uri": "https://localhost:8080/"
        },
        "id": "e5edabdf-eec4-4da1-80da-013cd6b2c0d4",
        "outputId": "cb04415e-bf91-45bf-f72c-f87d2e193f82"
      },
      "outputs": [
        {
          "output_type": "stream",
          "name": "stderr",
          "text": [
            "/usr/local/lib/python3.10/dist-packages/sklearn/preprocessing/_encoders.py:868: FutureWarning: `sparse` was renamed to `sparse_output` in version 1.2 and will be removed in 1.4. `sparse_output` is ignored unless you leave `sparse` to its default value.\n",
            "  warnings.warn(\n",
            "/usr/local/lib/python3.10/dist-packages/sklearn/preprocessing/_encoders.py:868: FutureWarning: `sparse` was renamed to `sparse_output` in version 1.2 and will be removed in 1.4. `sparse_output` is ignored unless you leave `sparse` to its default value.\n",
            "  warnings.warn(\n",
            "/usr/local/lib/python3.10/dist-packages/sklearn/preprocessing/_encoders.py:868: FutureWarning: `sparse` was renamed to `sparse_output` in version 1.2 and will be removed in 1.4. `sparse_output` is ignored unless you leave `sparse` to its default value.\n",
            "  warnings.warn(\n"
          ]
        },
        {
          "output_type": "execute_result",
          "data": {
            "text/plain": [
              "array([[0., 0., 0., 1., 0.],\n",
              "       [0., 0., 1., 0., 0.],\n",
              "       [0., 0., 1., 0., 0.],\n",
              "       ...,\n",
              "       [0., 0., 0., 0., 1.],\n",
              "       [0., 1., 0., 0., 0.],\n",
              "       [0., 1., 0., 0., 0.]])"
            ]
          },
          "metadata": {},
          "execution_count": 13
        }
      ],
      "source": [
        "# make numeric conversion of labels/targets - method 1\n",
        "from sklearn.preprocessing import OneHotEncoder\n",
        "one_hot_encoder = OneHotEncoder(sparse_output=False)\n",
        "train_labels_one_hot = one_hot_encoder.fit_transform(train_df.target.to_numpy().reshape(-1,1))\n",
        "val_labels_one_hot = one_hot_encoder.fit_transform(val_df.target.to_numpy().reshape(-1,1))\n",
        "test_labels_one_hot = one_hot_encoder.fit_transform(test_df.target.to_numpy().reshape(-1,1))\n",
        "train_labels_one_hot"
      ]
    },
    {
      "cell_type": "code",
      "execution_count": 14,
      "id": "a4e6ddd5-e8c5-4223-bc0d-bf900bacccee",
      "metadata": {
        "colab": {
          "base_uri": "https://localhost:8080/"
        },
        "id": "a4e6ddd5-e8c5-4223-bc0d-bf900bacccee",
        "outputId": "cf3995f0-5fb2-4a23-a56c-bff7d704c7de"
      },
      "outputs": [
        {
          "output_type": "execute_result",
          "data": {
            "text/plain": [
              "array([3, 2, 2, ..., 4, 1, 1])"
            ]
          },
          "metadata": {},
          "execution_count": 14
        }
      ],
      "source": [
        "# label encoding - method 2\n",
        "from sklearn.preprocessing import LabelEncoder\n",
        "label_encoder = LabelEncoder()\n",
        "train_labels_encoded = label_encoder.fit_transform(train_df.target.to_numpy())\n",
        "val_labels_encoded = label_encoder.fit_transform(val_df.target.to_numpy())\n",
        "test_labels_encoded = label_encoder.fit_transform(test_df.target.to_numpy())\n",
        "train_labels_encoded"
      ]
    },
    {
      "cell_type": "code",
      "execution_count": 15,
      "id": "aaab5d0a-5484-4429-aa64-9cded8f44ec7",
      "metadata": {
        "colab": {
          "base_uri": "https://localhost:8080/"
        },
        "id": "aaab5d0a-5484-4429-aa64-9cded8f44ec7",
        "outputId": "72fa7b11-f0af-4a34-a392-4aaa8e11daaf"
      },
      "outputs": [
        {
          "output_type": "execute_result",
          "data": {
            "text/plain": [
              "(5,\n",
              " array(['BACKGROUND', 'CONCLUSIONS', 'METHODS', 'OBJECTIVE', 'RESULTS'],\n",
              "       dtype=object))"
            ]
          },
          "metadata": {},
          "execution_count": 15
        }
      ],
      "source": [
        "# Get class names and number of classes back from LabelEncoder\n",
        "num_classes = len(label_encoder.classes_)\n",
        "class_names = label_encoder.classes_\n",
        "num_classes, class_names"
      ]
    },
    {
      "cell_type": "markdown",
      "id": "a282e5e7-65e5-443f-bc2f-100209532145",
      "metadata": {
        "id": "a282e5e7-65e5-443f-bc2f-100209532145"
      },
      "source": [
        "#### Model 0 - Naive Bayes"
      ]
    },
    {
      "cell_type": "code",
      "execution_count": 16,
      "id": "efe31290-306b-4a05-a9d6-0e667392eb8b",
      "metadata": {
        "colab": {
          "base_uri": "https://localhost:8080/"
        },
        "id": "efe31290-306b-4a05-a9d6-0e667392eb8b",
        "outputId": "c492c703-bca4-4499-98c3-f9844c08310c"
      },
      "outputs": [
        {
          "output_type": "execute_result",
          "data": {
            "text/plain": [
              "{'accuracy': 72.1832384482987,\n",
              " 'precision': 0.7186466952323352,\n",
              " 'recall': 0.7218323844829869,\n",
              " 'f1': 0.6989250353450294}"
            ]
          },
          "metadata": {},
          "execution_count": 16
        }
      ],
      "source": [
        "from sklearn.feature_extraction.text import TfidfVectorizer\n",
        "from sklearn.naive_bayes import MultinomialNB\n",
        "from sklearn.pipeline import Pipeline\n",
        "\n",
        "# Create tokenization and modelling pipeline\n",
        "model_0 = Pipeline([\n",
        "                    (\"tfidf\", TfidfVectorizer()), # convert words to numbers using tfidf\n",
        "                    (\"clf\", MultinomialNB()) # model the text\n",
        "])\n",
        "model_0.fit(train_sentences, train_labels_encoded)\n",
        "model_0_results = calculate_results(val_labels_encoded, model_0.predict(val_sentences))\n",
        "model_0_results"
      ]
    },
    {
      "cell_type": "markdown",
      "id": "4803ead6-054a-462b-af50-1e4fd8e78494",
      "metadata": {
        "id": "4803ead6-054a-462b-af50-1e4fd8e78494"
      },
      "source": [
        "#### Model 1 - Conv1D"
      ]
    },
    {
      "cell_type": "code",
      "execution_count": 17,
      "id": "01547241-b0fb-43d2-8682-75a4439c2c07",
      "metadata": {
        "colab": {
          "base_uri": "https://localhost:8080/"
        },
        "id": "01547241-b0fb-43d2-8682-75a4439c2c07",
        "outputId": "71dc5c58-2b6e-40ad-be98-e25758b7c5e1"
      },
      "outputs": [
        {
          "output_type": "execute_result",
          "data": {
            "text/plain": [
              "26"
            ]
          },
          "metadata": {},
          "execution_count": 17
        }
      ],
      "source": [
        "# how long is each sentece of average\n",
        "sent_length = [len(sentence.split()) for sentence in train_sentences]\n",
        "tf.math.reduce_mean(sent_length).numpy()"
      ]
    },
    {
      "cell_type": "code",
      "execution_count": 18,
      "id": "eb43f603-2e11-49c1-822d-d4ae011167f8",
      "metadata": {
        "colab": {
          "base_uri": "https://localhost:8080/"
        },
        "id": "eb43f603-2e11-49c1-822d-d4ae011167f8",
        "outputId": "579ea6ae-1a06-42cb-f7de-4c9a45518323"
      },
      "outputs": [
        {
          "output_type": "execute_result",
          "data": {
            "text/plain": [
              "55"
            ]
          },
          "metadata": {},
          "execution_count": 18
        }
      ],
      "source": [
        "# we want 95% of data to be covered, so whats the length of 95% of data\n",
        "import numpy as np\n",
        "int(np.percentile(sent_length, 95))"
      ]
    },
    {
      "cell_type": "code",
      "execution_count": 19,
      "id": "367d97df-d552-41ea-b461-38d52bf7b5f2",
      "metadata": {
        "colab": {
          "base_uri": "https://localhost:8080/"
        },
        "id": "367d97df-d552-41ea-b461-38d52bf7b5f2",
        "outputId": "dd0274b4-f0c4-4335-de89-ba2d6703c535"
      },
      "outputs": [
        {
          "output_type": "execute_result",
          "data": {
            "text/plain": [
              "<tf.Tensor: shape=(1, 55), dtype=int64, numpy=\n",
              "array([[ 6193,    61,   898,    58, 10096,     0,     0,     0,     0,\n",
              "            0,     0,     0,     0,     0,     0,     0,     0,     0,\n",
              "            0,     0,     0,     0,     0,     0,     0,     0,     0,\n",
              "            0,     0,     0,     0,     0,     0,     0,     0,     0,\n",
              "            0,     0,     0,     0,     0,     0,     0,     0,     0,\n",
              "            0,     0,     0,     0,     0,     0,     0,     0,     0,\n",
              "            0]])>"
            ]
          },
          "metadata": {},
          "execution_count": 19
        }
      ],
      "source": [
        "# create text vectorizer\n",
        "text_vectorizer = tf.keras.layers.TextVectorization(max_tokens = 68000,\n",
        "                                                output_sequence_length=55)\n",
        "text_vectorizer.adapt(train_sentences)\n",
        "sample_sentence = \"Hi there, how are you\"\n",
        "text_vectorizer([sample_sentence])"
      ]
    },
    {
      "cell_type": "code",
      "execution_count": 20,
      "id": "7def48f0-0d00-42d8-864b-bcf98c918407",
      "metadata": {
        "colab": {
          "base_uri": "https://localhost:8080/"
        },
        "id": "7def48f0-0d00-42d8-864b-bcf98c918407",
        "outputId": "20ee8886-b193-408d-e4f2-ab8de20a10fe"
      },
      "outputs": [
        {
          "output_type": "execute_result",
          "data": {
            "text/plain": [
              "{'name': 'text_vectorization',\n",
              " 'trainable': True,\n",
              " 'dtype': 'string',\n",
              " 'batch_input_shape': (None,),\n",
              " 'max_tokens': 68000,\n",
              " 'standardize': 'lower_and_strip_punctuation',\n",
              " 'split': 'whitespace',\n",
              " 'ngrams': None,\n",
              " 'output_mode': 'int',\n",
              " 'output_sequence_length': 55,\n",
              " 'pad_to_max_tokens': False,\n",
              " 'sparse': False,\n",
              " 'ragged': False,\n",
              " 'vocabulary': None,\n",
              " 'idf_weights': None,\n",
              " 'encoding': 'utf-8',\n",
              " 'vocabulary_size': 64841}"
            ]
          },
          "metadata": {},
          "execution_count": 20
        }
      ],
      "source": [
        "text_vectorizer.get_config()"
      ]
    },
    {
      "cell_type": "code",
      "execution_count": 21,
      "id": "b3777b1d-9508-4a3e-a9fd-5f216fd3c5c4",
      "metadata": {
        "colab": {
          "base_uri": "https://localhost:8080/"
        },
        "id": "b3777b1d-9508-4a3e-a9fd-5f216fd3c5c4",
        "outputId": "a6ff3aa5-7954-4eb4-93d7-5dcd4ecd5bf7"
      },
      "outputs": [
        {
          "output_type": "execute_result",
          "data": {
            "text/plain": [
              "<tf.Tensor: shape=(1, 55, 128), dtype=float16, numpy=\n",
              "array([[[ 0.002314, -0.04947 ,  0.01796 , ..., -0.03137 ,  0.01968 ,\n",
              "          0.03046 ],\n",
              "        [-0.006584, -0.03418 ,  0.02028 , ..., -0.0454  ,  0.01542 ,\n",
              "          0.0291  ],\n",
              "        [ 0.03668 ,  0.02977 ,  0.04736 , ..., -0.00939 , -0.00855 ,\n",
              "         -0.03384 ],\n",
              "        ...,\n",
              "        [-0.02847 ,  0.01325 ,  0.010864, ...,  0.02829 ,  0.02235 ,\n",
              "          0.04874 ],\n",
              "        [-0.02847 ,  0.01325 ,  0.010864, ...,  0.02829 ,  0.02235 ,\n",
              "          0.04874 ],\n",
              "        [-0.02847 ,  0.01325 ,  0.010864, ...,  0.02829 ,  0.02235 ,\n",
              "          0.04874 ]]], dtype=float16)>"
            ]
          },
          "metadata": {},
          "execution_count": 21
        }
      ],
      "source": [
        "# create embedding layer\n",
        "embedding = tf.keras.layers.Embedding(input_dim=68000,\n",
        "                                     output_dim=128,\n",
        "                                      input_length=55,\n",
        "                                     mask_zero=True)\n",
        "embedding(text_vectorizer([sample_sentence]))"
      ]
    },
    {
      "cell_type": "markdown",
      "id": "c2986261-2805-4e70-b206-1934e93d0c3b",
      "metadata": {
        "id": "c2986261-2805-4e70-b206-1934e93d0c3b"
      },
      "source": [
        "#### Creating Fast loading dataset"
      ]
    },
    {
      "cell_type": "code",
      "execution_count": 22,
      "id": "be8834d7-e652-44c3-84a7-becebf0f50cd",
      "metadata": {
        "colab": {
          "base_uri": "https://localhost:8080/"
        },
        "id": "be8834d7-e652-44c3-84a7-becebf0f50cd",
        "outputId": "1b562269-b573-4411-e075-cb4b0d446ddc"
      },
      "outputs": [
        {
          "output_type": "execute_result",
          "data": {
            "text/plain": [
              "<_TensorSliceDataset element_spec=(TensorSpec(shape=(), dtype=tf.string, name=None), TensorSpec(shape=(5,), dtype=tf.float64, name=None))>"
            ]
          },
          "metadata": {},
          "execution_count": 22
        }
      ],
      "source": [
        "# Turn data into tensorflow dataset\n",
        "train_dataset = tf.data.Dataset.from_tensor_slices((train_sentences, train_labels_one_hot))\n",
        "val_dataset = tf.data.Dataset.from_tensor_slices((val_sentences, val_labels_one_hot))\n",
        "test_dataset = tf.data.Dataset.from_tensor_slices((test_sentences, test_labels_one_hot))\n",
        "\n",
        "train_dataset"
      ]
    },
    {
      "cell_type": "code",
      "execution_count": 23,
      "id": "b309419a-f21a-4463-a1d8-024b59c26c64",
      "metadata": {
        "colab": {
          "base_uri": "https://localhost:8080/"
        },
        "id": "b309419a-f21a-4463-a1d8-024b59c26c64",
        "outputId": "47c40c3c-98ec-440e-c50f-a183e7dff779"
      },
      "outputs": [
        {
          "output_type": "execute_result",
          "data": {
            "text/plain": [
              "<_PrefetchDataset element_spec=(TensorSpec(shape=(None,), dtype=tf.string, name=None), TensorSpec(shape=(None, 5), dtype=tf.float64, name=None))>"
            ]
          },
          "metadata": {},
          "execution_count": 23
        }
      ],
      "source": [
        "# take tensor slice dadtaset and turn into prefetched datasets\n",
        "train_dataset = train_dataset.batch(64).prefetch(tf.data.AUTOTUNE)\n",
        "val_dataset = val_dataset.batch(64).prefetch(tf.data.AUTOTUNE)\n",
        "test_dataset = test_dataset.batch(64).prefetch(tf.data.AUTOTUNE)\n",
        "\n",
        "train_dataset"
      ]
    },
    {
      "cell_type": "code",
      "execution_count": 24,
      "id": "a22c87d0-7177-4e27-9959-a696f1bd6126",
      "metadata": {
        "colab": {
          "base_uri": "https://localhost:8080/"
        },
        "id": "a22c87d0-7177-4e27-9959-a696f1bd6126",
        "outputId": "f0ae6f44-6cbf-453a-f74d-1cdc2f9b9b86"
      },
      "outputs": [
        {
          "output_type": "stream",
          "name": "stdout",
          "text": [
            "Epoch 1/5\n",
            "281/281 [==============================] - 21s 61ms/step - loss: 1.0229 - accuracy: 0.5910 - val_loss: 0.7265 - val_accuracy: 0.7188\n",
            "Epoch 2/5\n",
            "281/281 [==============================] - 5s 18ms/step - loss: 0.6822 - accuracy: 0.7441 - val_loss: 0.6476 - val_accuracy: 0.7543\n",
            "Epoch 3/5\n",
            "281/281 [==============================] - 3s 12ms/step - loss: 0.6322 - accuracy: 0.7668 - val_loss: 0.6186 - val_accuracy: 0.7733\n",
            "Epoch 4/5\n",
            "281/281 [==============================] - 3s 10ms/step - loss: 0.6019 - accuracy: 0.7828 - val_loss: 0.5909 - val_accuracy: 0.7826\n",
            "Epoch 5/5\n",
            "281/281 [==============================] - 3s 9ms/step - loss: 0.6023 - accuracy: 0.7873 - val_loss: 0.5785 - val_accuracy: 0.7899\n"
          ]
        }
      ],
      "source": [
        "# create conv1d model\n",
        "inputs = tf.keras.layers.Input(shape=(1,), dtype=tf.string)\n",
        "x = text_vectorizer(inputs)\n",
        "x = embedding(x)\n",
        "x = tf.keras.layers.Conv1D(filters=64, kernel_size=5, strides=1, padding='same', activation='relu')(x)\n",
        "x = tf.keras.layers.GlobalAveragePooling1D()(x)\n",
        "outputs = tf.keras.layers.Dense(5, activation=tf.keras.activations.softmax)(x)\n",
        "\n",
        "model_1 = tf.keras.Model(inputs, outputs)\n",
        "model_1.compile(loss=tf.keras.losses.CategoricalCrossentropy(),\n",
        "               optimizer=tf.keras.optimizers.Adam(),\n",
        "               metrics=['accuracy'])\n",
        "history_1 = model_1.fit(train_dataset,\n",
        "                       epochs=5,\n",
        "                        steps_per_epoch=int(0.1*len(train_dataset)),\n",
        "                        validation_steps=int(0.1*len(val_dataset)),\n",
        "                       validation_data=val_dataset)"
      ]
    },
    {
      "cell_type": "code",
      "execution_count": 25,
      "id": "87b29052-ce8d-43ef-a6f9-1c3544e43b71",
      "metadata": {
        "colab": {
          "base_uri": "https://localhost:8080/"
        },
        "id": "87b29052-ce8d-43ef-a6f9-1c3544e43b71",
        "outputId": "a92c09b2-0c69-4b6a-a5a9-e7771950fdc6"
      },
      "outputs": [
        {
          "output_type": "stream",
          "name": "stdout",
          "text": [
            "473/473 [==============================] - 2s 5ms/step - loss: 0.5768 - accuracy: 0.7943\n"
          ]
        },
        {
          "output_type": "execute_result",
          "data": {
            "text/plain": [
              "[0.5768284797668457, 0.794253945350647]"
            ]
          },
          "metadata": {},
          "execution_count": 25
        }
      ],
      "source": [
        "model_1.evaluate(val_dataset)"
      ]
    },
    {
      "cell_type": "code",
      "execution_count": 26,
      "id": "5e8aa6fd-7436-433b-b85f-ae86759bab31",
      "metadata": {
        "colab": {
          "base_uri": "https://localhost:8080/"
        },
        "id": "5e8aa6fd-7436-433b-b85f-ae86759bab31",
        "outputId": "8b9a2fc3-61b1-4059-cd8d-b17a6ee4aea4"
      },
      "outputs": [
        {
          "output_type": "stream",
          "name": "stdout",
          "text": [
            "473/473 [==============================] - 1s 3ms/step\n"
          ]
        },
        {
          "output_type": "execute_result",
          "data": {
            "text/plain": [
              "{'accuracy': 79.4253938832252,\n",
              " 'precision': 0.7937021830078422,\n",
              " 'recall': 0.794253938832252,\n",
              " 'f1': 0.7903362426069622}"
            ]
          },
          "metadata": {},
          "execution_count": 26
        }
      ],
      "source": [
        "model_1_pred_probs = model_1.predict(val_dataset)\n",
        "model_1_preds = tf.argmax(model_1_pred_probs, axis=1).numpy()\n",
        "model_1_results = calculate_results(val_labels_encoded, model_1_preds)\n",
        "model_1_results"
      ]
    },
    {
      "cell_type": "markdown",
      "id": "dfbc07b2-e63f-441d-95da-f3a3024a285d",
      "metadata": {
        "id": "dfbc07b2-e63f-441d-95da-f3a3024a285d"
      },
      "source": [
        "#### Model 2 - USE - TF HUB Pretrained Feature extractor"
      ]
    },
    {
      "cell_type": "code",
      "execution_count": 27,
      "id": "a092aa80-edcf-4ee8-be42-24906458f433",
      "metadata": {
        "colab": {
          "base_uri": "https://localhost:8080/"
        },
        "id": "a092aa80-edcf-4ee8-be42-24906458f433",
        "outputId": "c615e343-639d-4eec-cb9b-d2c77e6a817e"
      },
      "outputs": [
        {
          "output_type": "stream",
          "name": "stdout",
          "text": [
            "tf.Tensor(\n",
            "[-0.05182884 -0.04390026  0.05248979 -0.00642138  0.0454952  -0.02146592\n",
            "  0.03058733 -0.07073407  0.05152308  0.04701421  0.02491418  0.00674201\n",
            " -0.03172521  0.0080713   0.00499434 -0.09463525 -0.03576988  0.0037949\n",
            " -0.04158678 -0.07285322  0.0632658  -0.01339925  0.02972649  0.04720227\n",
            " -0.06259578 -0.0154889   0.039651    0.05203718 -0.00980406  0.05468165\n",
            "  0.0588766   0.0431632   0.05944403 -0.00140851 -0.01803795  0.00555375\n",
            "  0.01559336 -0.03206627  0.02260791  0.02096884  0.00670307  0.02270131\n",
            "  0.02106516  0.07490976  0.05131475  0.00114743 -0.09906604  0.0151604\n",
            "  0.01459556  0.02136121], shape=(50,), dtype=float32)\n"
          ]
        }
      ],
      "source": [
        "import tensorflow_hub as hub\n",
        "embed = hub.load(\"https://www.kaggle.com/models/google/universal-sentence-encoder/frameworks/TensorFlow2/variations/universal-sentence-encoder/versions/2\")\n",
        "embed_sample = embed([sample_sentence,\n",
        "                      \"When you can the unviersal sentence encider on a sentence, it turns into into numbers\"])\n",
        "print(embed_sample[0][:50])"
      ]
    },
    {
      "cell_type": "code",
      "execution_count": 28,
      "id": "d0c6e4cb-16f9-471e-bfe2-e9d9de030ff1",
      "metadata": {
        "colab": {
          "base_uri": "https://localhost:8080/"
        },
        "id": "d0c6e4cb-16f9-471e-bfe2-e9d9de030ff1",
        "outputId": "d255fdef-5c52-40ea-dd1c-826f5eaada55"
      },
      "outputs": [
        {
          "output_type": "stream",
          "name": "stdout",
          "text": [
            "Epoch 1/5\n",
            "281/281 [==============================] - 11s 30ms/step - loss: 0.9805 - accuracy: 0.6289 - val_loss: 0.8081 - val_accuracy: 0.6799\n",
            "Epoch 2/5\n",
            "281/281 [==============================] - 5s 19ms/step - loss: 0.7833 - accuracy: 0.6939 - val_loss: 0.7676 - val_accuracy: 0.7038\n",
            "Epoch 3/5\n",
            "281/281 [==============================] - 5s 18ms/step - loss: 0.7676 - accuracy: 0.7065 - val_loss: 0.7571 - val_accuracy: 0.7068\n",
            "Epoch 4/5\n",
            "281/281 [==============================] - 7s 25ms/step - loss: 0.7357 - accuracy: 0.7163 - val_loss: 0.7337 - val_accuracy: 0.7151\n",
            "Epoch 5/5\n",
            "281/281 [==============================] - 4s 16ms/step - loss: 0.7489 - accuracy: 0.7131 - val_loss: 0.7147 - val_accuracy: 0.7257\n"
          ]
        }
      ],
      "source": [
        "# build USE model\n",
        "tf_hub_embedding_layer = hub.KerasLayer(embed,\n",
        "                                       trainable=False)\n",
        "\n",
        "inputs2 = tf.keras.layers.Input(shape=[], dtype=tf.string)\n",
        "x = tf_hub_embedding_layer(inputs2)\n",
        "x = tf.keras.layers.Dense(128, activation=tf.keras.activations.relu)(x)\n",
        "outputs2 = tf.keras.layers.Dense(5, activation=tf.keras.activations.softmax)(x)\n",
        "model_2 = tf.keras.Model(inputs2, outputs2)\n",
        "model_2.compile(loss=tf.keras.losses.CategoricalCrossentropy(),\n",
        "               optimizer=tf.keras.optimizers.Adam(),\n",
        "               metrics=['accuracy'])\n",
        "history_2 = model_2.fit(train_dataset,\n",
        "                       epochs=5,\n",
        "                        steps_per_epoch=int(0.1*len(train_dataset)),\n",
        "                        validation_steps=int(0.1*len(val_dataset)),\n",
        "                       validation_data=val_dataset)"
      ]
    },
    {
      "cell_type": "code",
      "execution_count": 29,
      "id": "17ac87cc-beac-4709-b89e-718d4c7d539c",
      "metadata": {
        "colab": {
          "base_uri": "https://localhost:8080/"
        },
        "id": "17ac87cc-beac-4709-b89e-718d4c7d539c",
        "outputId": "23b2ca46-15a3-4448-b76f-4c61d5898eac"
      },
      "outputs": [
        {
          "output_type": "stream",
          "name": "stdout",
          "text": [
            "473/473 [==============================] - 8s 16ms/step\n"
          ]
        },
        {
          "output_type": "execute_result",
          "data": {
            "text/plain": [
              "{'accuracy': 72.47782338143784,\n",
              " 'precision': 0.72024025751079,\n",
              " 'recall': 0.7247782338143784,\n",
              " 'f1': 0.7191948182933731}"
            ]
          },
          "metadata": {},
          "execution_count": 29
        }
      ],
      "source": [
        "model_2_preds = tf.argmax(model_2.predict(val_dataset),axis=1).numpy()\n",
        "model_2_results = calculate_results(val_labels_encoded, model_2_preds)\n",
        "model_2_results"
      ]
    },
    {
      "cell_type": "markdown",
      "id": "c340e59d-d8a6-4ca2-945f-36322fdad444",
      "metadata": {
        "id": "c340e59d-d8a6-4ca2-945f-36322fdad444"
      },
      "source": [
        "#### Model3 - Conv1D with character embedding"
      ]
    },
    {
      "cell_type": "code",
      "execution_count": 30,
      "id": "fb869fcb-ff43-4fa8-83b4-8685932bab0d",
      "metadata": {
        "colab": {
          "base_uri": "https://localhost:8080/",
          "height": 86
        },
        "id": "fb869fcb-ff43-4fa8-83b4-8685932bab0d",
        "outputId": "b7737226-95fe-46be-a1ee-23c3ad1d3384"
      },
      "outputs": [
        {
          "output_type": "execute_result",
          "data": {
            "text/plain": [
              "'t o   i n v e s t i g a t e   t h e   e f f i c a c y   o f   @   w e e k s   o f   d a i l y   l o w - d o s e   o r a l   p r e d n i s o l o n e   i n   i m p r o v i n g   p a i n   ,   m o b i l i t y   ,   a n d   s y s t e m i c   l o w - g r a d e   i n f l a m m a t i o n   i n   t h e   s h o r t   t e r m   a n d   w h e t h e r   t h e   e f f e c t   w o u l d   b e   s u s t a i n e d   a t   @   w e e k s   i n   o l d e r   a d u l t s   w i t h   m o d e r a t e   t o   s e v e r e   k n e e   o s t e o a r t h r i t i s   (   o a   )   .'"
            ],
            "application/vnd.google.colaboratory.intrinsic+json": {
              "type": "string"
            }
          },
          "metadata": {},
          "execution_count": 30
        }
      ],
      "source": [
        "# split into characters\n",
        "def split_chars(text):\n",
        "    return \" \".join(list(text))\n",
        "split_chars(train_sentences[0])"
      ]
    },
    {
      "cell_type": "code",
      "execution_count": 31,
      "id": "95d4f98b-9bd7-45db-b589-1636048cdb0a",
      "metadata": {
        "colab": {
          "base_uri": "https://localhost:8080/",
          "height": 86
        },
        "id": "95d4f98b-9bd7-45db-b589-1636048cdb0a",
        "outputId": "b5646667-e1e3-4e61-99d9-f78a090f77c2"
      },
      "outputs": [
        {
          "output_type": "execute_result",
          "data": {
            "text/plain": [
              "'t o   i n v e s t i g a t e   t h e   e f f i c a c y   o f   @   w e e k s   o f   d a i l y   l o w - d o s e   o r a l   p r e d n i s o l o n e   i n   i m p r o v i n g   p a i n   ,   m o b i l i t y   ,   a n d   s y s t e m i c   l o w - g r a d e   i n f l a m m a t i o n   i n   t h e   s h o r t   t e r m   a n d   w h e t h e r   t h e   e f f e c t   w o u l d   b e   s u s t a i n e d   a t   @   w e e k s   i n   o l d e r   a d u l t s   w i t h   m o d e r a t e   t o   s e v e r e   k n e e   o s t e o a r t h r i t i s   (   o a   )   .'"
            ],
            "application/vnd.google.colaboratory.intrinsic+json": {
              "type": "string"
            }
          },
          "metadata": {},
          "execution_count": 31
        }
      ],
      "source": [
        "#do for whole dataset\n",
        "train_chars = [split_chars(sentence) for sentence in train_sentences]\n",
        "val_chars = [split_chars(sentence) for sentence in val_sentences]\n",
        "test_chars = [split_chars(sentence) for sentence in test_sentences]\n",
        "train_chars[0]"
      ]
    },
    {
      "cell_type": "code",
      "execution_count": 32,
      "id": "5b91a299-65ab-473e-b297-3aeb27950e2e",
      "metadata": {
        "colab": {
          "base_uri": "https://localhost:8080/"
        },
        "id": "5b91a299-65ab-473e-b297-3aeb27950e2e",
        "outputId": "3587bd62-c7aa-484e-c629-a1afc851361e"
      },
      "outputs": [
        {
          "output_type": "execute_result",
          "data": {
            "text/plain": [
              "149.3662574983337"
            ]
          },
          "metadata": {},
          "execution_count": 32
        }
      ],
      "source": [
        "# avg len of chars\n",
        "char_lens = [len(sentence) for sentence in train_sentences]\n",
        "avg_char_len = np.mean(char_lens)\n",
        "avg_char_len"
      ]
    },
    {
      "cell_type": "code",
      "execution_count": 33,
      "id": "2861474b-3240-4d6c-91c7-43a33b5efd8c",
      "metadata": {
        "colab": {
          "base_uri": "https://localhost:8080/"
        },
        "id": "2861474b-3240-4d6c-91c7-43a33b5efd8c",
        "outputId": "fdfc34d1-87ae-4e02-c621-0b0f1e55f06b"
      },
      "outputs": [
        {
          "output_type": "execute_result",
          "data": {
            "text/plain": [
              "290.0"
            ]
          },
          "metadata": {},
          "execution_count": 33
        }
      ],
      "source": [
        "np.percentile(char_lens, 95)"
      ]
    },
    {
      "cell_type": "code",
      "execution_count": 34,
      "id": "aefb4b30-059f-4020-8ddc-2bea9a330a96",
      "metadata": {
        "colab": {
          "base_uri": "https://localhost:8080/",
          "height": 35
        },
        "id": "aefb4b30-059f-4020-8ddc-2bea9a330a96",
        "outputId": "595f7bb8-7524-4473-84a6-629bc0332a49"
      },
      "outputs": [
        {
          "output_type": "execute_result",
          "data": {
            "text/plain": [
              "'abcdefghijklmnopqrstuvwxyz0123456789!\"#$%&\\'()*+,-./:;<=>?@[\\\\]^_`{|}~'"
            ],
            "application/vnd.google.colaboratory.intrinsic+json": {
              "type": "string"
            }
          },
          "metadata": {},
          "execution_count": 34
        }
      ],
      "source": [
        "import string\n",
        "alphabet = string.ascii_lowercase+string.digits+string.punctuation\n",
        "alphabet"
      ]
    },
    {
      "cell_type": "code",
      "execution_count": 35,
      "id": "448776f4-a8b1-48f9-9409-bb72911342f1",
      "metadata": {
        "id": "448776f4-a8b1-48f9-9409-bb72911342f1"
      },
      "outputs": [],
      "source": [
        "#Create char-level token vectorizer instance\n",
        "num_char_token = len(alphabet)+2\n",
        "char_vectorizer = tf.keras.layers.TextVectorization(max_tokens = num_char_token,\n",
        "                                                    standardize='lower_and_strip_punctuation',\n",
        "                                                output_sequence_length=290)"
      ]
    },
    {
      "cell_type": "code",
      "execution_count": 36,
      "id": "15f9ef3a-e9e5-40bb-8f44-978bca77349b",
      "metadata": {
        "id": "15f9ef3a-e9e5-40bb-8f44-978bca77349b"
      },
      "outputs": [],
      "source": [
        "char_vectorizer.adapt(train_chars)"
      ]
    },
    {
      "cell_type": "code",
      "execution_count": 37,
      "id": "98d09e3b-e472-4830-ad10-cd805ec1fc60",
      "metadata": {
        "id": "98d09e3b-e472-4830-ad10-cd805ec1fc60",
        "colab": {
          "base_uri": "https://localhost:8080/"
        },
        "outputId": "35dd66fd-7887-408a-d99d-bfa52076a581"
      },
      "outputs": [
        {
          "output_type": "execute_result",
          "data": {
            "text/plain": [
              "['', '[UNK]', 'e', 't', 'i']"
            ]
          },
          "metadata": {},
          "execution_count": 37
        }
      ],
      "source": [
        "char_vectorizer.get_vocabulary()[:5]"
      ]
    },
    {
      "cell_type": "code",
      "source": [
        "char_vectorizer([train_chars[69]])"
      ],
      "metadata": {
        "colab": {
          "base_uri": "https://localhost:8080/"
        },
        "id": "fLqeTlq9oQi9",
        "outputId": "c4e270af-93d3-4831-e983-6eb72894b91e"
      },
      "id": "fLqeTlq9oQi9",
      "execution_count": 38,
      "outputs": [
        {
          "output_type": "execute_result",
          "data": {
            "text/plain": [
              "<tf.Tensor: shape=(1, 290), dtype=int64, numpy=\n",
              "array([[17,  7,  8,  3, 19,  3, 20,  7, 14,  8,  5, 11,  3,  4, 11,  2,\n",
              "         9, 17,  8,  7, 15,  3, 13,  2, 14,  2, 10,  4,  5,  3,  8,  4,\n",
              "        11,  8,  2,  9,  2,  5,  8, 11, 13,  4,  6,  7, 17, 17,  4, 11,\n",
              "         2,  9,  2,  3,  3,  4,  6, 18,  9,  6,  2,  3, 20,  7,  8, 23,\n",
              "         7, 17,  3, 13,  2,  5, 15,  2,  8,  4, 11,  5,  6,  5, 11,  5,\n",
              "        10,  2, 15, 19,  7, 17, 14,  2, 10,  4,  5,  3,  8,  4, 11,  9,\n",
              "        20,  2,  8,  2,  8,  5,  6, 10,  7, 15, 12, 19,  5,  9,  9,  4,\n",
              "        18,  6,  2, 10,  3,  7,  7, 17, 18,  8,  7, 16, 14,  9,  0,  0,\n",
              "         0,  0,  0,  0,  0,  0,  0,  0,  0,  0,  0,  0,  0,  0,  0,  0,\n",
              "         0,  0,  0,  0,  0,  0,  0,  0,  0,  0,  0,  0,  0,  0,  0,  0,\n",
              "         0,  0,  0,  0,  0,  0,  0,  0,  0,  0,  0,  0,  0,  0,  0,  0,\n",
              "         0,  0,  0,  0,  0,  0,  0,  0,  0,  0,  0,  0,  0,  0,  0,  0,\n",
              "         0,  0,  0,  0,  0,  0,  0,  0,  0,  0,  0,  0,  0,  0,  0,  0,\n",
              "         0,  0,  0,  0,  0,  0,  0,  0,  0,  0,  0,  0,  0,  0,  0,  0,\n",
              "         0,  0,  0,  0,  0,  0,  0,  0,  0,  0,  0,  0,  0,  0,  0,  0,\n",
              "         0,  0,  0,  0,  0,  0,  0,  0,  0,  0,  0,  0,  0,  0,  0,  0,\n",
              "         0,  0,  0,  0,  0,  0,  0,  0,  0,  0,  0,  0,  0,  0,  0,  0,\n",
              "         0,  0,  0,  0,  0,  0,  0,  0,  0,  0,  0,  0,  0,  0,  0,  0,\n",
              "         0,  0]])>"
            ]
          },
          "metadata": {},
          "execution_count": 38
        }
      ]
    },
    {
      "cell_type": "code",
      "source": [
        "# Create a character level embedding\n",
        "char_embed = tf.keras.layers.Embedding(input_dim=len(char_vectorizer.get_vocabulary()),\n",
        "                                       output_dim=25,\n",
        "                                       mask_zero=True)"
      ],
      "metadata": {
        "id": "k5j1hAuSoiPD"
      },
      "id": "k5j1hAuSoiPD",
      "execution_count": 39,
      "outputs": []
    },
    {
      "cell_type": "code",
      "source": [
        "char_embed(char_vectorizer([train_chars[69]]))"
      ],
      "metadata": {
        "colab": {
          "base_uri": "https://localhost:8080/"
        },
        "id": "8OzYWQkNpiFO",
        "outputId": "0b3b483a-f8af-4440-ce5f-ef57e44896b4"
      },
      "id": "8OzYWQkNpiFO",
      "execution_count": 40,
      "outputs": [
        {
          "output_type": "execute_result",
          "data": {
            "text/plain": [
              "<tf.Tensor: shape=(1, 290, 25), dtype=float16, numpy=\n",
              "array([[[-0.03096 , -0.01634 , -0.02109 , ..., -0.03342 ,  0.03043 ,\n",
              "          0.04828 ],\n",
              "        [-0.04428 , -0.02612 ,  0.00675 , ..., -0.04123 ,  0.003956,\n",
              "          0.04544 ],\n",
              "        [ 0.01671 , -0.02982 ,  0.0077  , ...,  0.014656, -0.004982,\n",
              "          0.03412 ],\n",
              "        ...,\n",
              "        [-0.001365, -0.0322  ,  0.02005 , ...,  0.02827 , -0.03653 ,\n",
              "          0.03442 ],\n",
              "        [-0.001365, -0.0322  ,  0.02005 , ...,  0.02827 , -0.03653 ,\n",
              "          0.03442 ],\n",
              "        [-0.001365, -0.0322  ,  0.02005 , ...,  0.02827 , -0.03653 ,\n",
              "          0.03442 ]]], dtype=float16)>"
            ]
          },
          "metadata": {},
          "execution_count": 40
        }
      ]
    },
    {
      "cell_type": "code",
      "source": [
        "train_char_dataset = tf.data.Dataset.from_tensor_slices((train_chars, train_labels_one_hot)).batch(64).prefetch(tf.data.AUTOTUNE)\n",
        "val_char_dataset = tf.data.Dataset.from_tensor_slices((val_chars, val_labels_one_hot)).batch(64).prefetch(tf.data.AUTOTUNE)\n",
        "test_char_dataset = tf.data.Dataset.from_tensor_slices((test_chars, test_labels_one_hot)).batch(64).prefetch(tf.data.AUTOTUNE)"
      ],
      "metadata": {
        "id": "AwLYGon5rau-"
      },
      "id": "AwLYGon5rau-",
      "execution_count": 41,
      "outputs": []
    },
    {
      "cell_type": "code",
      "source": [
        "train_char_dataset"
      ],
      "metadata": {
        "colab": {
          "base_uri": "https://localhost:8080/"
        },
        "id": "ojuwJMWksKdY",
        "outputId": "2cd4239e-e956-48f9-b2c5-c45399fa6efc"
      },
      "id": "ojuwJMWksKdY",
      "execution_count": 42,
      "outputs": [
        {
          "output_type": "execute_result",
          "data": {
            "text/plain": [
              "<_PrefetchDataset element_spec=(TensorSpec(shape=(None,), dtype=tf.string, name=None), TensorSpec(shape=(None, 5), dtype=tf.float64, name=None))>"
            ]
          },
          "metadata": {},
          "execution_count": 42
        }
      ]
    },
    {
      "cell_type": "code",
      "source": [
        "# Model 3 - Conv1D with character embedding\n",
        "inputs3 = tf.keras.Input(shape=(1,), dtype=tf.string)\n",
        "x = char_vectorizer(inputs3)\n",
        "x = char_embed(x)\n",
        "x = tf.keras.layers.Conv1D(filters=128, kernel_size=5, strides=1)(x)\n",
        "x = tf.keras.layers.GlobalMaxPool1D()(x)\n",
        "outputs3 = tf.keras.layers.Dense(5, activation=tf.keras.activations.softmax)(x)\n",
        "\n",
        "model_3 =tf.keras.Model(inputs3, outputs3)\n",
        "model_3.compile(loss=tf.keras.losses.CategoricalCrossentropy(),\n",
        "               optimizer=tf.keras.optimizers.Adam(),\n",
        "               metrics=['accuracy'])\n",
        "history_3 = model_3.fit(train_char_dataset,\n",
        "                        epochs=5,\n",
        "                        steps_per_epoch=int(0.1*len(train_char_dataset)),\n",
        "                        validation_data=val_char_dataset,\n",
        "                        validation_steps=int(0.1*len(val_char_dataset)))"
      ],
      "metadata": {
        "colab": {
          "base_uri": "https://localhost:8080/"
        },
        "id": "Mfe2n50OpxQb",
        "outputId": "7ff3ff23-92f5-4b0c-a921-6173ff02df75"
      },
      "id": "Mfe2n50OpxQb",
      "execution_count": 43,
      "outputs": [
        {
          "output_type": "stream",
          "name": "stdout",
          "text": [
            "Epoch 1/5\n",
            "281/281 [==============================] - 5s 11ms/step - loss: 1.2817 - accuracy: 0.4848 - val_loss: 1.0490 - val_accuracy: 0.5695\n",
            "Epoch 2/5\n",
            "281/281 [==============================] - 2s 8ms/step - loss: 0.9987 - accuracy: 0.5964 - val_loss: 0.9272 - val_accuracy: 0.6273\n",
            "Epoch 3/5\n",
            "281/281 [==============================] - 2s 7ms/step - loss: 0.9141 - accuracy: 0.6420 - val_loss: 0.8506 - val_accuracy: 0.6812\n",
            "Epoch 4/5\n",
            "281/281 [==============================] - 2s 8ms/step - loss: 0.8517 - accuracy: 0.6745 - val_loss: 0.8158 - val_accuracy: 0.6822\n",
            "Epoch 5/5\n",
            "281/281 [==============================] - 3s 11ms/step - loss: 0.8292 - accuracy: 0.6800 - val_loss: 0.7796 - val_accuracy: 0.7045\n"
          ]
        }
      ]
    },
    {
      "cell_type": "code",
      "source": [
        "model_3_preds = tf.argmax(model_3.predict(val_char_dataset), axis=1).numpy()\n",
        "model_3_results = calculate_results(val_labels_encoded, model_3_preds)\n",
        "model_3_results"
      ],
      "metadata": {
        "colab": {
          "base_uri": "https://localhost:8080/"
        },
        "id": "mqL2MiTJq6me",
        "outputId": "b2923297-34f6-4192-c477-bfba72b29a8b"
      },
      "id": "mqL2MiTJq6me",
      "execution_count": 44,
      "outputs": [
        {
          "output_type": "stream",
          "name": "stdout",
          "text": [
            "473/473 [==============================] - 2s 4ms/step\n"
          ]
        },
        {
          "output_type": "execute_result",
          "data": {
            "text/plain": [
              "{'accuracy': 69.49556467628757,\n",
              " 'precision': 0.6882767713693776,\n",
              " 'recall': 0.6949556467628757,\n",
              " 'f1': 0.6849532495075631}"
            ]
          },
          "metadata": {},
          "execution_count": 44
        }
      ]
    },
    {
      "cell_type": "markdown",
      "source": [
        "#### Model 4 - Combine token embedding and character embeddings"
      ],
      "metadata": {
        "id": "AiffRpH5Qlrn"
      },
      "id": "AiffRpH5Qlrn"
    },
    {
      "cell_type": "code",
      "source": [
        "# setup token inputs\n",
        "token_inputs = tf.keras.layers.Input(shape=[], dtype=tf.string, name='token_input')\n",
        "token_embeddings = tf_hub_embedding_layer(token_inputs)\n",
        "token_outputs = tf.keras.layers.Dense(128,\n",
        "                                     activation=tf.keras.activations.relu,\n",
        "                                     name='token_outputs')(token_embeddings)\n",
        "token_model = tf.keras.Model(token_inputs, token_outputs)\n",
        "\n",
        "# setup char inputs\n",
        "char_inputs = tf.keras.layers.Input(shape=(1,), dtype=tf.string, name='char_input')\n",
        "char_vector = char_vectorizer(char_inputs)\n",
        "char_embeddings = char_embed(char_vector)\n",
        "char_bi_lstm = tf.keras.layers.Bidirectional(tf.keras.layers.LSTM(24), name='char_bidirectional')(char_embeddings)\n",
        "char_model = tf.keras.Model(char_inputs, char_bi_lstm)\n",
        "\n",
        "#concatenate the inputs\n",
        "token_char_concat = tf.keras.layers.Concatenate(name='token_char_hybrid')([token_model.output,\n",
        "                                                                           char_model.output])\n",
        "# create output layers - adding dropouts\n",
        "combined_dropout = tf.keras.layers.Dropout(0.5)(token_char_concat)\n",
        "combined_dense = tf.keras.layers.Dense(128, activation = tf.keras.activations.relu)(combined_dropout)\n",
        "final_dropout = tf.keras.layers.Dropout(0.5)(combined_dense)\n",
        "output_layer = tf.keras.layers.Dense(5, activation=tf.keras.activations.softmax)(final_dropout)\n",
        "\n",
        "model_4 = tf.keras.Model(inputs=[token_model.input, char_model.input],\n",
        "                         outputs=output_layer,\n",
        "                         name='token_and_char_embedding')\n",
        "\n",
        "model_4.summary()"
      ],
      "metadata": {
        "colab": {
          "base_uri": "https://localhost:8080/"
        },
        "id": "mGJdTdxUWeLN",
        "outputId": "94ab80ff-1661-4816-d867-f5a0238dc3d1"
      },
      "id": "mGJdTdxUWeLN",
      "execution_count": 45,
      "outputs": [
        {
          "output_type": "stream",
          "name": "stdout",
          "text": [
            "Model: \"token_and_char_embedding\"\n",
            "__________________________________________________________________________________________________\n",
            " Layer (type)                Output Shape                 Param #   Connected to                  \n",
            "==================================================================================================\n",
            " char_input (InputLayer)     [(None, 1)]                  0         []                            \n",
            "                                                                                                  \n",
            " token_input (InputLayer)    [(None,)]                    0         []                            \n",
            "                                                                                                  \n",
            " text_vectorization_1 (Text  (None, 290)                  0         ['char_input[0][0]']          \n",
            " Vectorization)                                                                                   \n",
            "                                                                                                  \n",
            " keras_layer (KerasLayer)    (None, 512)                  2567978   ['token_input[0][0]']         \n",
            "                                                          24                                      \n",
            "                                                                                                  \n",
            " embedding_1 (Embedding)     (None, 290, 25)              700       ['text_vectorization_1[1][0]']\n",
            "                                                                                                  \n",
            " token_outputs (Dense)       (None, 128)                  65664     ['keras_layer[1][0]']         \n",
            "                                                                                                  \n",
            " char_bidirectional (Bidire  (None, 48)                   9600      ['embedding_1[1][0]']         \n",
            " ctional)                                                                                         \n",
            "                                                                                                  \n",
            " token_char_hybrid (Concate  (None, 176)                  0         ['token_outputs[0][0]',       \n",
            " nate)                                                               'char_bidirectional[0][0]']  \n",
            "                                                                                                  \n",
            " dropout (Dropout)           (None, 176)                  0         ['token_char_hybrid[0][0]']   \n",
            "                                                                                                  \n",
            " dense_4 (Dense)             (None, 128)                  22656     ['dropout[0][0]']             \n",
            "                                                                                                  \n",
            " dropout_1 (Dropout)         (None, 128)                  0         ['dense_4[0][0]']             \n",
            "                                                                                                  \n",
            " dense_5 (Dense)             (None, 5)                    645       ['dropout_1[0][0]']           \n",
            "                                                                                                  \n",
            "==================================================================================================\n",
            "Total params: 256897089 (979.98 MB)\n",
            "Trainable params: 99265 (387.75 KB)\n",
            "Non-trainable params: 256797824 (979.61 MB)\n",
            "__________________________________________________________________________________________________\n"
          ]
        }
      ]
    },
    {
      "cell_type": "code",
      "source": [
        "# plot the model summary\n",
        "from keras.utils import plot_model\n",
        "plot_model(model_4, show_shapes=True)"
      ],
      "metadata": {
        "colab": {
          "base_uri": "https://localhost:8080/",
          "height": 976
        },
        "id": "12rA6tMjZVaj",
        "outputId": "7be7aa8e-c24d-4e9d-e132-a9b5ce20438b"
      },
      "id": "12rA6tMjZVaj",
      "execution_count": 46,
      "outputs": [
        {
          "output_type": "execute_result",
          "data": {
            "image/png": "[encoded data removed]",
            "text/plain": [
              "<IPython.core.display.Image object>"
            ]
          },
          "metadata": {},
          "execution_count": 46
        }
      ]
    },
    {
      "cell_type": "code",
      "source": [
        "# compile the model\n",
        "model_4.compile(loss=tf.keras.losses.CategoricalCrossentropy(),\n",
        "                optimizer=tf.keras.optimizers.Adam(),\n",
        "                metrics=['accuracy'])\n",
        "# create ttensorflwo dataset for the combined input\n",
        "train_char_token_data = tf.data.Dataset.from_tensor_slices((train_sentences,train_chars))\n",
        "train_char_token_labels = tf.data.Dataset.from_tensor_slices(train_labels_one_hot)\n",
        "train_char_token_dataset = tf.data.Dataset.zip((train_char_token_data, train_char_token_labels))\n",
        "train_char_token_dataset = train_char_token_dataset.batch(64).prefetch(tf.data.AUTOTUNE)\n",
        "\n",
        "val_char_token_data = tf.data.Dataset.from_tensor_slices((val_sentences,val_chars))\n",
        "val_char_token_labels = tf.data.Dataset.from_tensor_slices(val_labels_one_hot)\n",
        "val_char_token_dataset = tf.data.Dataset.zip((val_char_token_data, val_char_token_labels))\n",
        "val_char_token_dataset = val_char_token_dataset.batch(64).prefetch(tf.data.AUTOTUNE)\n",
        "\n",
        "test_char_token_data = tf.data.Dataset.from_tensor_slices((test_sentences,test_chars))\n",
        "test_char_token_labels = tf.data.Dataset.from_tensor_slices(test_labels_one_hot)\n",
        "test_char_token_dataset = tf.data.Dataset.zip((test_char_token_data, test_char_token_labels))\n",
        "test_char_token_dataset = test_char_token_dataset.batch(64).prefetch(tf.data.AUTOTUNE)\n",
        "\n",
        "train_char_token_dataset, val_char_token_dataset"
      ],
      "metadata": {
        "colab": {
          "base_uri": "https://localhost:8080/"
        },
        "id": "4aoyOjRgaXMZ",
        "outputId": "262da2e5-914d-4f48-e28d-34d9442d7ce8"
      },
      "id": "4aoyOjRgaXMZ",
      "execution_count": 47,
      "outputs": [
        {
          "output_type": "execute_result",
          "data": {
            "text/plain": [
              "(<_PrefetchDataset element_spec=((TensorSpec(shape=(None,), dtype=tf.string, name=None), TensorSpec(shape=(None,), dtype=tf.string, name=None)), TensorSpec(shape=(None, 5), dtype=tf.float64, name=None))>,\n",
              " <_PrefetchDataset element_spec=((TensorSpec(shape=(None,), dtype=tf.string, name=None), TensorSpec(shape=(None,), dtype=tf.string, name=None)), TensorSpec(shape=(None, 5), dtype=tf.float64, name=None))>)"
            ]
          },
          "metadata": {},
          "execution_count": 47
        }
      ]
    },
    {
      "cell_type": "code",
      "source": [
        "# fit model 4\n",
        "history_4 = model_4.fit(train_char_token_dataset,\n",
        "                        epochs=5,\n",
        "                        validation_data=val_char_token_dataset,\n",
        "                        steps_per_epoch=int(0.1*len(train_char_token_dataset)),\n",
        "                        validation_steps=int(0.1*len(val_char_token_dataset)))"
      ],
      "metadata": {
        "colab": {
          "base_uri": "https://localhost:8080/"
        },
        "id": "2HsZgYOCdbId",
        "outputId": "30be1bbb-9748-40c9-fbeb-ef54f708c6cc"
      },
      "id": "2HsZgYOCdbId",
      "execution_count": 48,
      "outputs": [
        {
          "output_type": "stream",
          "name": "stdout",
          "text": [
            "Epoch 1/5\n",
            "281/281 [==============================] - 36s 75ms/step - loss: 1.0457 - accuracy: 0.5752 - val_loss: 0.8092 - val_accuracy: 0.6862\n",
            "Epoch 2/5\n",
            "281/281 [==============================] - 19s 69ms/step - loss: 0.8253 - accuracy: 0.6805 - val_loss: 0.7369 - val_accuracy: 0.7191\n",
            "Epoch 3/5\n",
            "281/281 [==============================] - 16s 55ms/step - loss: 0.7847 - accuracy: 0.7022 - val_loss: 0.7007 - val_accuracy: 0.7320\n",
            "Epoch 4/5\n",
            "281/281 [==============================] - 19s 66ms/step - loss: 0.7518 - accuracy: 0.7180 - val_loss: 0.6787 - val_accuracy: 0.7430\n",
            "Epoch 5/5\n",
            "281/281 [==============================] - 18s 63ms/step - loss: 0.7565 - accuracy: 0.7119 - val_loss: 0.6657 - val_accuracy: 0.7477\n"
          ]
        }
      ]
    },
    {
      "cell_type": "code",
      "source": [
        "#evaluate\n",
        "model_4.evaluate(val_char_token_dataset)"
      ],
      "metadata": {
        "colab": {
          "base_uri": "https://localhost:8080/"
        },
        "id": "LD2urEC4eEJv",
        "outputId": "ad6830df-7a29-4069-f102-a5596f2bbe7e"
      },
      "id": "LD2urEC4eEJv",
      "execution_count": 49,
      "outputs": [
        {
          "output_type": "stream",
          "name": "stdout",
          "text": [
            "473/473 [==============================] - 11s 24ms/step - loss: 0.6746 - accuracy: 0.7405\n"
          ]
        },
        {
          "output_type": "execute_result",
          "data": {
            "text/plain": [
              "[0.6746023297309875, 0.7405335903167725]"
            ]
          },
          "metadata": {},
          "execution_count": 49
        }
      ]
    },
    {
      "cell_type": "code",
      "source": [
        "model_4_preds = tf.argmax(model_4.predict(val_char_token_dataset), axis=1).numpy()\n",
        "model_4_results = calculate_results(val_labels_encoded, model_4_preds)\n",
        "model_4_results"
      ],
      "metadata": {
        "colab": {
          "base_uri": "https://localhost:8080/"
        },
        "id": "sAmSk5E8f9s0",
        "outputId": "155d7f7f-5de7-4b6a-d0da-26fe90d4611d"
      },
      "id": "sAmSk5E8f9s0",
      "execution_count": 50,
      "outputs": [
        {
          "output_type": "stream",
          "name": "stdout",
          "text": [
            "473/473 [==============================] - 15s 25ms/step\n"
          ]
        },
        {
          "output_type": "execute_result",
          "data": {
            "text/plain": [
              "{'accuracy': 74.05335628227195,\n",
              " 'precision': 0.7396867038900692,\n",
              " 'recall': 0.7405335628227194,\n",
              " 'f1': 0.7356152460996417}"
            ]
          },
          "metadata": {},
          "execution_count": 50
        }
      ]
    },
    {
      "cell_type": "markdown",
      "source": [
        "#### Model 5 - Token embeddings + character embeddings + positional embeddings\n",
        "\n",
        "maybe use line numbers for embeddings for better training"
      ],
      "metadata": {
        "id": "Eu3hIpk1Qd5U"
      },
      "id": "Eu3hIpk1Qd5U"
    },
    {
      "cell_type": "code",
      "source": [
        "train_df.head(14)"
      ],
      "metadata": {
        "id": "UZh7wP2ygQgr",
        "colab": {
          "base_uri": "https://localhost:8080/",
          "height": 483
        },
        "outputId": "2bdf69f0-77c2-4533-8764-b3d8d9342f6e"
      },
      "id": "UZh7wP2ygQgr",
      "execution_count": 51,
      "outputs": [
        {
          "output_type": "execute_result",
          "data": {
            "text/plain": [
              "         target                                               text  \\\n",
              "0     OBJECTIVE  to investigate the efficacy of @ weeks of dail...   \n",
              "1       METHODS  a total of @ patients with primary knee oa wer...   \n",
              "2       METHODS  outcome measures included pain reduction and i...   \n",
              "3       METHODS  pain was assessed using the visual analog pain...   \n",
              "4       METHODS  secondary outcome measures included the wester...   \n",
              "5       METHODS  serum levels of interleukin @ ( il-@ ) , il-@ ...   \n",
              "6       RESULTS  there was a clinically relevant reduction in t...   \n",
              "7       RESULTS  the mean difference between treatment arms ( @...   \n",
              "8       RESULTS  further , there was a clinically relevant redu...   \n",
              "9       RESULTS  these differences remained significant at @ we...   \n",
              "10      RESULTS  the outcome measures in rheumatology clinical ...   \n",
              "11  CONCLUSIONS  low-dose oral prednisolone had both a short-te...   \n",
              "12   BACKGROUND  emotional eating is associated with overeating...   \n",
              "13   BACKGROUND  yet , empirical evidence for individual ( trai...   \n",
              "\n",
              "    line_number  total_lines  \n",
              "0             0           11  \n",
              "1             1           11  \n",
              "2             2           11  \n",
              "3             3           11  \n",
              "4             4           11  \n",
              "5             5           11  \n",
              "6             6           11  \n",
              "7             7           11  \n",
              "8             8           11  \n",
              "9             9           11  \n",
              "10           10           11  \n",
              "11           11           11  \n",
              "12            0           10  \n",
              "13            1           10  "
            ],
            "text/html": [
              "\n",
              "  <div id=\"df-7d775424-f129-4d6b-b21d-825c1add7697\" class=\"colab-df-container\">\n",
              "    <div>\n",
              "<style scoped>\n",
              "    .dataframe tbody tr th:only-of-type {\n",
              "        vertical-align: middle;\n",
              "    }\n",
              "\n",
              "    .dataframe tbody tr th {\n",
              "        vertical-align: top;\n",
              "    }\n",
              "\n",
              "    .dataframe thead th {\n",
              "        text-align: right;\n",
              "    }\n",
              "</style>\n",
              "<table border=\"1\" class=\"dataframe\">\n",
              "  <thead>\n",
              "    <tr style=\"text-align: right;\">\n",
              "      <th></th>\n",
              "      <th>target</th>\n",
              "      <th>text</th>\n",
              "      <th>line_number</th>\n",
              "      <th>total_lines</th>\n",
              "    </tr>\n",
              "  </thead>\n",
              "  <tbody>\n",
              "    <tr>\n",
              "      <th>0</th>\n",
              "      <td>OBJECTIVE</td>\n",
              "      <td>to investigate the efficacy of @ weeks of dail...</td>\n",
              "      <td>0</td>\n",
              "      <td>11</td>\n",
              "    </tr>\n",
              "    <tr>\n",
              "      <th>1</th>\n",
              "      <td>METHODS</td>\n",
              "      <td>a total of @ patients with primary knee oa wer...</td>\n",
              "      <td>1</td>\n",
              "      <td>11</td>\n",
              "    </tr>\n",
              "    <tr>\n",
              "      <th>2</th>\n",
              "      <td>METHODS</td>\n",
              "      <td>outcome measures included pain reduction and i...</td>\n",
              "      <td>2</td>\n",
              "      <td>11</td>\n",
              "    </tr>\n",
              "    <tr>\n",
              "      <th>3</th>\n",
              "      <td>METHODS</td>\n",
              "      <td>pain was assessed using the visual analog pain...</td>\n",
              "      <td>3</td>\n",
              "      <td>11</td>\n",
              "    </tr>\n",
              "    <tr>\n",
              "      <th>4</th>\n",
              "      <td>METHODS</td>\n",
              "      <td>secondary outcome measures included the wester...</td>\n",
              "      <td>4</td>\n",
              "      <td>11</td>\n",
              "    </tr>\n",
              "    <tr>\n",
              "      <th>5</th>\n",
              "      <td>METHODS</td>\n",
              "      <td>serum levels of interleukin @ ( il-@ ) , il-@ ...</td>\n",
              "      <td>5</td>\n",
              "      <td>11</td>\n",
              "    </tr>\n",
              "    <tr>\n",
              "      <th>6</th>\n",
              "      <td>RESULTS</td>\n",
              "      <td>there was a clinically relevant reduction in t...</td>\n",
              "      <td>6</td>\n",
              "      <td>11</td>\n",
              "    </tr>\n",
              "    <tr>\n",
              "      <th>7</th>\n",
              "      <td>RESULTS</td>\n",
              "      <td>the mean difference between treatment arms ( @...</td>\n",
              "      <td>7</td>\n",
              "      <td>11</td>\n",
              "    </tr>\n",
              "    <tr>\n",
              "      <th>8</th>\n",
              "      <td>RESULTS</td>\n",
              "      <td>further , there was a clinically relevant redu...</td>\n",
              "      <td>8</td>\n",
              "      <td>11</td>\n",
              "    </tr>\n",
              "    <tr>\n",
              "      <th>9</th>\n",
              "      <td>RESULTS</td>\n",
              "      <td>these differences remained significant at @ we...</td>\n",
              "      <td>9</td>\n",
              "      <td>11</td>\n",
              "    </tr>\n",
              "    <tr>\n",
              "      <th>10</th>\n",
              "      <td>RESULTS</td>\n",
              "      <td>the outcome measures in rheumatology clinical ...</td>\n",
              "      <td>10</td>\n",
              "      <td>11</td>\n",
              "    </tr>\n",
              "    <tr>\n",
              "      <th>11</th>\n",
              "      <td>CONCLUSIONS</td>\n",
              "      <td>low-dose oral prednisolone had both a short-te...</td>\n",
              "      <td>11</td>\n",
              "      <td>11</td>\n",
              "    </tr>\n",
              "    <tr>\n",
              "      <th>12</th>\n",
              "      <td>BACKGROUND</td>\n",
              "      <td>emotional eating is associated with overeating...</td>\n",
              "      <td>0</td>\n",
              "      <td>10</td>\n",
              "    </tr>\n",
              "    <tr>\n",
              "      <th>13</th>\n",
              "      <td>BACKGROUND</td>\n",
              "      <td>yet , empirical evidence for individual ( trai...</td>\n",
              "      <td>1</td>\n",
              "      <td>10</td>\n",
              "    </tr>\n",
              "  </tbody>\n",
              "</table>\n",
              "</div>\n",
              "    <div class=\"colab-df-buttons\">\n",
              "\n",
              "  <div class=\"colab-df-container\">\n",
              "    <button class=\"colab-df-convert\" onclick=\"convertToInteractive('df-7d775424-f129-4d6b-b21d-825c1add7697')\"\n",
              "            title=\"Convert this dataframe to an interactive table.\"\n",
              "            style=\"display:none;\">\n",
              "\n",
              "  <svg xmlns=\"http://www.w3.org/2000/svg\" height=\"24px\" viewBox=\"0 -960 960 960\">\n",
              "    <path d=\"M120-120v-720h720v720H120Zm60-500h600v-160H180v160Zm220 220h160v-160H400v160Zm0 220h160v-160H400v160ZM180-400h160v-160H180v160Zm440 0h160v-160H620v160ZM180-180h160v-160H180v160Zm440 0h160v-160H620v160Z\"/>\n",
              "  </svg>\n",
              "    </button>\n",
              "\n",
              "  <style>\n",
              "    .colab-df-container {\n",
              "      display:flex;\n",
              "      gap: 12px;\n",
              "    }\n",
              "\n",
              "    .colab-df-convert {\n",
              "      background-color: #E8F0FE;\n",
              "      border: none;\n",
              "      border-radius: 50%;\n",
              "      cursor: pointer;\n",
              "      display: none;\n",
              "      fill: #1967D2;\n",
              "      height: 32px;\n",
              "      padding: 0 0 0 0;\n",
              "      width: 32px;\n",
              "    }\n",
              "\n",
              "    .colab-df-convert:hover {\n",
              "      background-color: #E2EBFA;\n",
              "      box-shadow: 0px 1px 2px rgba(60, 64, 67, 0.3), 0px 1px 3px 1px rgba(60, 64, 67, 0.15);\n",
              "      fill: #174EA6;\n",
              "    }\n",
              "\n",
              "    .colab-df-buttons div {\n",
              "      margin-bottom: 4px;\n",
              "    }\n",
              "\n",
              "    [theme=dark] .colab-df-convert {\n",
              "      background-color: #3B4455;\n",
              "      fill: #D2E3FC;\n",
              "    }\n",
              "\n",
              "    [theme=dark] .colab-df-convert:hover {\n",
              "      background-color: #434B5C;\n",
              "      box-shadow: 0px 1px 3px 1px rgba(0, 0, 0, 0.15);\n",
              "      filter: drop-shadow(0px 1px 2px rgba(0, 0, 0, 0.3));\n",
              "      fill: #FFFFFF;\n",
              "    }\n",
              "  </style>\n",
              "\n",
              "    <script>\n",
              "      const buttonEl =\n",
              "        document.querySelector('#df-7d775424-f129-4d6b-b21d-825c1add7697 button.colab-df-convert');\n",
              "      buttonEl.style.display =\n",
              "        google.colab.kernel.accessAllowed ? 'block' : 'none';\n",
              "\n",
              "      async function convertToInteractive(key) {\n",
              "        const element = document.querySelector('#df-7d775424-f129-4d6b-b21d-825c1add7697');\n",
              "        const dataTable =\n",
              "          await google.colab.kernel.invokeFunction('convertToInteractive',\n",
              "                                                    [key], {});\n",
              "        if (!dataTable) return;\n",
              "\n",
              "        const docLinkHtml = 'Like what you see? Visit the ' +\n",
              "          '<a target=\"_blank\" href=https://colab.research.google.com/notebooks/data_table.ipynb>data table notebook</a>'\n",
              "          + ' to learn more about interactive tables.';\n",
              "        element.innerHTML = '';\n",
              "        dataTable['output_type'] = 'display_data';\n",
              "        await google.colab.output.renderOutput(dataTable, element);\n",
              "        const docLink = document.createElement('div');\n",
              "        docLink.innerHTML = docLinkHtml;\n",
              "        element.appendChild(docLink);\n",
              "      }\n",
              "    </script>\n",
              "  </div>\n",
              "\n",
              "\n",
              "<div id=\"df-41c23c5c-276d-4e93-9cdf-1fd221bec9c3\">\n",
              "  <button class=\"colab-df-quickchart\" onclick=\"quickchart('df-41c23c5c-276d-4e93-9cdf-1fd221bec9c3')\"\n",
              "            title=\"Suggest charts\"\n",
              "            style=\"display:none;\">\n",
              "\n",
              "<svg xmlns=\"http://www.w3.org/2000/svg\" height=\"24px\"viewBox=\"0 0 24 24\"\n",
              "     width=\"24px\">\n",
              "    <g>\n",
              "        <path d=\"M19 3H5c-1.1 0-2 .9-2 2v14c0 1.1.9 2 2 2h14c1.1 0 2-.9 2-2V5c0-1.1-.9-2-2-2zM9 17H7v-7h2v7zm4 0h-2V7h2v10zm4 0h-2v-4h2v4z\"/>\n",
              "    </g>\n",
              "</svg>\n",
              "  </button>\n",
              "\n",
              "<style>\n",
              "  .colab-df-quickchart {\n",
              "      --bg-color: #E8F0FE;\n",
              "      --fill-color: #1967D2;\n",
              "      --hover-bg-color: #E2EBFA;\n",
              "      --hover-fill-color: #174EA6;\n",
              "      --disabled-fill-color: #AAA;\n",
              "      --disabled-bg-color: #DDD;\n",
              "  }\n",
              "\n",
              "  [theme=dark] .colab-df-quickchart {\n",
              "      --bg-color: #3B4455;\n",
              "      --fill-color: #D2E3FC;\n",
              "      --hover-bg-color: #434B5C;\n",
              "      --hover-fill-color: #FFFFFF;\n",
              "      --disabled-bg-color: #3B4455;\n",
              "      --disabled-fill-color: #666;\n",
              "  }\n",
              "\n",
              "  .colab-df-quickchart {\n",
              "    background-color: var(--bg-color);\n",
              "    border: none;\n",
              "    border-radius: 50%;\n",
              "    cursor: pointer;\n",
              "    display: none;\n",
              "    fill: var(--fill-color);\n",
              "    height: 32px;\n",
              "    padding: 0;\n",
              "    width: 32px;\n",
              "  }\n",
              "\n",
              "  .colab-df-quickchart:hover {\n",
              "    background-color: var(--hover-bg-color);\n",
              "    box-shadow: 0 1px 2px rgba(60, 64, 67, 0.3), 0 1px 3px 1px rgba(60, 64, 67, 0.15);\n",
              "    fill: var(--button-hover-fill-color);\n",
              "  }\n",
              "\n",
              "  .colab-df-quickchart-complete:disabled,\n",
              "  .colab-df-quickchart-complete:disabled:hover {\n",
              "    background-color: var(--disabled-bg-color);\n",
              "    fill: var(--disabled-fill-color);\n",
              "    box-shadow: none;\n",
              "  }\n",
              "\n",
              "  .colab-df-spinner {\n",
              "    border: 2px solid var(--fill-color);\n",
              "    border-color: transparent;\n",
              "    border-bottom-color: var(--fill-color);\n",
              "    animation:\n",
              "      spin 1s steps(1) infinite;\n",
              "  }\n",
              "\n",
              "  @keyframes spin {\n",
              "    0% {\n",
              "      border-color: transparent;\n",
              "      border-bottom-color: var(--fill-color);\n",
              "      border-left-color: var(--fill-color);\n",
              "    }\n",
              "    20% {\n",
              "      border-color: transparent;\n",
              "      border-left-color: var(--fill-color);\n",
              "      border-top-color: var(--fill-color);\n",
              "    }\n",
              "    30% {\n",
              "      border-color: transparent;\n",
              "      border-left-color: var(--fill-color);\n",
              "      border-top-color: var(--fill-color);\n",
              "      border-right-color: var(--fill-color);\n",
              "    }\n",
              "    40% {\n",
              "      border-color: transparent;\n",
              "      border-right-color: var(--fill-color);\n",
              "      border-top-color: var(--fill-color);\n",
              "    }\n",
              "    60% {\n",
              "      border-color: transparent;\n",
              "      border-right-color: var(--fill-color);\n",
              "    }\n",
              "    80% {\n",
              "      border-color: transparent;\n",
              "      border-right-color: var(--fill-color);\n",
              "      border-bottom-color: var(--fill-color);\n",
              "    }\n",
              "    90% {\n",
              "      border-color: transparent;\n",
              "      border-bottom-color: var(--fill-color);\n",
              "    }\n",
              "  }\n",
              "</style>\n",
              "\n",
              "  <script>\n",
              "    async function quickchart(key) {\n",
              "      const quickchartButtonEl =\n",
              "        document.querySelector('#' + key + ' button');\n",
              "      quickchartButtonEl.disabled = true;  // To prevent multiple clicks.\n",
              "      quickchartButtonEl.classList.add('colab-df-spinner');\n",
              "      try {\n",
              "        const charts = await google.colab.kernel.invokeFunction(\n",
              "            'suggestCharts', [key], {});\n",
              "      } catch (error) {\n",
              "        console.error('Error during call to suggestCharts:', error);\n",
              "      }\n",
              "      quickchartButtonEl.classList.remove('colab-df-spinner');\n",
              "      quickchartButtonEl.classList.add('colab-df-quickchart-complete');\n",
              "    }\n",
              "    (() => {\n",
              "      let quickchartButtonEl =\n",
              "        document.querySelector('#df-41c23c5c-276d-4e93-9cdf-1fd221bec9c3 button');\n",
              "      quickchartButtonEl.style.display =\n",
              "        google.colab.kernel.accessAllowed ? 'block' : 'none';\n",
              "    })();\n",
              "  </script>\n",
              "</div>\n",
              "\n",
              "    </div>\n",
              "  </div>\n"
            ]
          },
          "metadata": {},
          "execution_count": 51
        }
      ]
    },
    {
      "cell_type": "markdown",
      "source": [
        "Any engineered features usd to train the model need to be available at test time, in our case, line number and total number of lines needs to be available"
      ],
      "metadata": {
        "id": "9Mxaw_mhVdUL"
      },
      "id": "9Mxaw_mhVdUL"
    },
    {
      "cell_type": "code",
      "source": [
        "# How many different line numbers are there\n",
        "train_df.line_number.value_counts()"
      ],
      "metadata": {
        "id": "0BTG33kzRl1G",
        "colab": {
          "base_uri": "https://localhost:8080/"
        },
        "outputId": "8a1db4c3-90bb-488e-e43a-80a08558d8f2"
      },
      "id": "0BTG33kzRl1G",
      "execution_count": 52,
      "outputs": [
        {
          "output_type": "execute_result",
          "data": {
            "text/plain": [
              "0     15000\n",
              "1     15000\n",
              "2     15000\n",
              "3     15000\n",
              "4     14992\n",
              "5     14949\n",
              "6     14758\n",
              "7     14279\n",
              "8     13346\n",
              "9     11981\n",
              "10    10041\n",
              "11     7892\n",
              "12     5853\n",
              "13     4152\n",
              "14     2835\n",
              "15     1861\n",
              "16     1188\n",
              "17      751\n",
              "18      462\n",
              "19      286\n",
              "20      162\n",
              "21      101\n",
              "22       66\n",
              "23       33\n",
              "24       22\n",
              "25       14\n",
              "26        7\n",
              "27        4\n",
              "28        3\n",
              "29        1\n",
              "30        1\n",
              "Name: line_number, dtype: int64"
            ]
          },
          "metadata": {},
          "execution_count": 52
        }
      ]
    },
    {
      "cell_type": "code",
      "source": [
        "# check distribution of line_numbers column\n",
        "train_df.line_number.plot.hist()"
      ],
      "metadata": {
        "colab": {
          "base_uri": "https://localhost:8080/",
          "height": 447
        },
        "id": "_0LiguLoXlXH",
        "outputId": "95d682da-b894-4558-a1fe-b7fda1cbc809"
      },
      "id": "_0LiguLoXlXH",
      "execution_count": 53,
      "outputs": [
        {
          "output_type": "execute_result",
          "data": {
            "text/plain": [
              "<Axes: ylabel='Frequency'>"
            ]
          },
          "metadata": {},
          "execution_count": 53
        },
        {
          "output_type": "display_data",
          "data": {
            "text/plain": [
              "<Figure size 640x480 with 1 Axes>"
            ],
            "image/png": "[encoded data removed]"
          },
          "metadata": {}
        }
      ]
    },
    {
      "cell_type": "code",
      "source": [
        "# use tensorflow to create one hot encoded tensors of line_numbers\n",
        "train_line_numbers_one_hot = tf.one_hot(train_df.line_number.to_numpy(), depth=15)\n",
        "val_line_numbers_one_hot = tf.one_hot(val_df.line_number.to_numpy(), depth=15)\n",
        "test_line_numbers_one_hot = tf.one_hot(test_df.line_number.to_numpy(), depth=15)\n",
        "train_line_numbers_one_hot[:10]"
      ],
      "metadata": {
        "colab": {
          "base_uri": "https://localhost:8080/"
        },
        "id": "aYHowe43kLMz",
        "outputId": "30355de6-62f1-4df5-8b97-e371fe209c25"
      },
      "id": "aYHowe43kLMz",
      "execution_count": 54,
      "outputs": [
        {
          "output_type": "execute_result",
          "data": {
            "text/plain": [
              "<tf.Tensor: shape=(10, 15), dtype=float32, numpy=\n",
              "array([[1., 0., 0., 0., 0., 0., 0., 0., 0., 0., 0., 0., 0., 0., 0.],\n",
              "       [0., 1., 0., 0., 0., 0., 0., 0., 0., 0., 0., 0., 0., 0., 0.],\n",
              "       [0., 0., 1., 0., 0., 0., 0., 0., 0., 0., 0., 0., 0., 0., 0.],\n",
              "       [0., 0., 0., 1., 0., 0., 0., 0., 0., 0., 0., 0., 0., 0., 0.],\n",
              "       [0., 0., 0., 0., 1., 0., 0., 0., 0., 0., 0., 0., 0., 0., 0.],\n",
              "       [0., 0., 0., 0., 0., 1., 0., 0., 0., 0., 0., 0., 0., 0., 0.],\n",
              "       [0., 0., 0., 0., 0., 0., 1., 0., 0., 0., 0., 0., 0., 0., 0.],\n",
              "       [0., 0., 0., 0., 0., 0., 0., 1., 0., 0., 0., 0., 0., 0., 0.],\n",
              "       [0., 0., 0., 0., 0., 0., 0., 0., 1., 0., 0., 0., 0., 0., 0.],\n",
              "       [0., 0., 0., 0., 0., 0., 0., 0., 0., 1., 0., 0., 0., 0., 0.]],\n",
              "      dtype=float32)>"
            ]
          },
          "metadata": {},
          "execution_count": 54
        }
      ]
    },
    {
      "cell_type": "code",
      "source": [
        "train_df.total_lines.plot.hist()\n",
        "train_df.total_lines.value_counts(), np.percentile(train_df.total_lines, 95)"
      ],
      "metadata": {
        "colab": {
          "base_uri": "https://localhost:8080/",
          "height": 924
        },
        "id": "wxvkX5tmkgza",
        "outputId": "932f46ca-b499-4ae8-da04-53badea01039"
      },
      "id": "wxvkX5tmkgza",
      "execution_count": 55,
      "outputs": [
        {
          "output_type": "execute_result",
          "data": {
            "text/plain": [
              "(11    24468\n",
              " 10    23639\n",
              " 12    22113\n",
              " 9     19400\n",
              " 13    18438\n",
              " 14    14610\n",
              " 8     12285\n",
              " 15    10768\n",
              " 7      7464\n",
              " 16     7429\n",
              " 17     5202\n",
              " 6      3353\n",
              " 18     3344\n",
              " 19     2480\n",
              " 20     1281\n",
              " 5      1146\n",
              " 21      770\n",
              " 22      759\n",
              " 23      264\n",
              " 4       215\n",
              " 24      200\n",
              " 25      182\n",
              " 26       81\n",
              " 28       58\n",
              " 3        32\n",
              " 30       31\n",
              " 27       28\n",
              " Name: total_lines, dtype: int64,\n",
              " 18.0)"
            ]
          },
          "metadata": {},
          "execution_count": 55
        },
        {
          "output_type": "display_data",
          "data": {
            "text/plain": [
              "<Figure size 640x480 with 1 Axes>"
            ],
            "image/png": "[encoded data removed]"
          },
          "metadata": {}
        }
      ]
    },
    {
      "cell_type": "code",
      "source": [
        "# use tensorflow to one hot encode tensors\n",
        "train_total_line_one_hot = tf.one_hot(train_df.total_lines.to_numpy(), depth=20)\n",
        "val_total_line_one_hot = tf.one_hot(val_df.total_lines.to_numpy(), depth=20)\n",
        "test_total_line_one_hot = tf.one_hot(test_df.total_lines.to_numpy(), depth=20)\n",
        "train_total_line_one_hot[:10]"
      ],
      "metadata": {
        "colab": {
          "base_uri": "https://localhost:8080/"
        },
        "id": "_baWhp5ilCxl",
        "outputId": "092d898a-9e1f-41e4-d318-f4264deff55f"
      },
      "id": "_baWhp5ilCxl",
      "execution_count": 56,
      "outputs": [
        {
          "output_type": "execute_result",
          "data": {
            "text/plain": [
              "<tf.Tensor: shape=(10, 20), dtype=float32, numpy=\n",
              "array([[0., 0., 0., 0., 0., 0., 0., 0., 0., 0., 0., 1., 0., 0., 0., 0.,\n",
              "        0., 0., 0., 0.],\n",
              "       [0., 0., 0., 0., 0., 0., 0., 0., 0., 0., 0., 1., 0., 0., 0., 0.,\n",
              "        0., 0., 0., 0.],\n",
              "       [0., 0., 0., 0., 0., 0., 0., 0., 0., 0., 0., 1., 0., 0., 0., 0.,\n",
              "        0., 0., 0., 0.],\n",
              "       [0., 0., 0., 0., 0., 0., 0., 0., 0., 0., 0., 1., 0., 0., 0., 0.,\n",
              "        0., 0., 0., 0.],\n",
              "       [0., 0., 0., 0., 0., 0., 0., 0., 0., 0., 0., 1., 0., 0., 0., 0.,\n",
              "        0., 0., 0., 0.],\n",
              "       [0., 0., 0., 0., 0., 0., 0., 0., 0., 0., 0., 1., 0., 0., 0., 0.,\n",
              "        0., 0., 0., 0.],\n",
              "       [0., 0., 0., 0., 0., 0., 0., 0., 0., 0., 0., 1., 0., 0., 0., 0.,\n",
              "        0., 0., 0., 0.],\n",
              "       [0., 0., 0., 0., 0., 0., 0., 0., 0., 0., 0., 1., 0., 0., 0., 0.,\n",
              "        0., 0., 0., 0.],\n",
              "       [0., 0., 0., 0., 0., 0., 0., 0., 0., 0., 0., 1., 0., 0., 0., 0.,\n",
              "        0., 0., 0., 0.],\n",
              "       [0., 0., 0., 0., 0., 0., 0., 0., 0., 0., 0., 1., 0., 0., 0., 0.,\n",
              "        0., 0., 0., 0.]], dtype=float32)>"
            ]
          },
          "metadata": {},
          "execution_count": 56
        }
      ]
    },
    {
      "cell_type": "markdown",
      "source": [
        "#### build model 5 - tribrid embedding model\n",
        "1. Build a token level model\n",
        "2. Build a character level model\n",
        "3. Build a model for \"line_numbers\" feature\n",
        "4. Build a model for \"total_lines\" feature\n",
        "5. Concatenate mdoel 1 & 2\n",
        "6. Concatenate model 3, 4 & 5\n",
        "7. Create output layer that accepts tribed input and gives output label probabilities\n",
        "8. Combine the inputs of 1, 2, 3 & 4 and outputs of 7 into a model"
      ],
      "metadata": {
        "id": "bK_PMIZOmn3X"
      },
      "id": "bK_PMIZOmn3X"
    },
    {
      "cell_type": "code",
      "source": [
        "# setup token level model\n",
        "token_inputs = tf.keras.layers.Input(shape=[], dtype=tf.string, name='token_input')\n",
        "token_embeddings = tf_hub_embedding_layer(token_inputs)\n",
        "token_outputs = tf.keras.layers.Dense(128, activation=tf.keras.activations.relu, name='token_output')(token_embeddings)\n",
        "token_model = tf.keras.Model(inputs = token_inputs,\n",
        "                             outputs = token_outputs)\n",
        "\n",
        "# setup character level model\n",
        "char_inputs = tf.keras.layers.Input(shape=(1,), dtype=tf.string, name='char_input')\n",
        "char_vector = char_vectorizer(char_inputs)\n",
        "char_embeddings = char_embed(char_vector)\n",
        "char_bi_lstm = tf.keras.layers.Bidirectional(tf.keras.layers.LSTM(24), name='char_bi_lstm')(char_embeddings)\n",
        "char_model = tf.keras.Model(inputs = char_inputs,\n",
        "                            outputs = char_bi_lstm)\n",
        "\n",
        "#setup model for line_number feature\n",
        "line_number_input = tf.keras.layers.Input(shape=(15, ), dtype=tf.float32, name='line_number_inputs')\n",
        "line_number_dense = tf.keras.layers.Dense(32, activation=tf.keras.activations.relu, name='line_number_dense')(line_number_input)\n",
        "line_number_model = tf.keras.Model(inputs = line_number_input,\n",
        "                                   outputs = line_number_dense)\n",
        "\n",
        "#setup model for total_lines feature\n",
        "total_lines_input = tf.keras.layers.Input(shape=(20, ), dtype=tf.float32, name='total_lines_input')\n",
        "total_lines_dense = tf.keras.layers.Dense(32, activation=tf.keras.activations.relu, name='total_lines_dense')(total_lines_input)\n",
        "total_lines_model = tf.keras.Model(inputs=total_lines_input,\n",
        "                                  outputs = total_lines_dense)\n",
        "\n",
        "#concatenate token and char embeddings\n",
        "token_char_concat = tf.keras.layers.Concatenate(name='token_char_concat')([token_model.output,\n",
        "                                                                           char_model.output])\n",
        "token_char_dense = tf.keras.layers.Dense(256, activation=tf.keras.activations.relu)(token_char_concat)\n",
        "token_char_dropout = tf.keras.layers.Dropout(0.5)(token_char_dense)\n",
        "\n",
        "#concatenate previous concatenated layer with features\n",
        "all_concat = tf.keras.layers.Concatenate(name='all_inputs_concatenate')([line_number_model.output, total_lines_model.output, token_char_dropout])\n",
        "\n",
        "# create output layer that accepts tribed input\n",
        "output_layer = tf.keras.layers.Dense(5, activation=tf.keras.activations.softmax)(all_concat)\n",
        "\n",
        "model_5 = tf.keras.Model(inputs = [line_number_model.input,\n",
        "                                   total_lines_model.input,\n",
        "                                   token_model.input,\n",
        "                                   char_model.input],\n",
        "                             outputs = output_layer,\n",
        "                             name='tribid_model')\n",
        "model_5.compile(loss=tf.keras.losses.CategoricalCrossentropy(label_smoothing=0.2), # reduces overfitting in label probability predictions\n",
        "                optimizer=tf.keras.optimizers.Adam(),\n",
        "                metrics=['accuracy'])\n",
        "\n",
        "model_5.summary()"
      ],
      "metadata": {
        "colab": {
          "base_uri": "https://localhost:8080/"
        },
        "id": "58TlK9_ml-bR",
        "outputId": "c403530e-2615-484c-c9f9-f07e4847c30a"
      },
      "id": "58TlK9_ml-bR",
      "execution_count": 57,
      "outputs": [
        {
          "output_type": "stream",
          "name": "stdout",
          "text": [
            "Model: \"tribid_model\"\n",
            "__________________________________________________________________________________________________\n",
            " Layer (type)                Output Shape                 Param #   Connected to                  \n",
            "==================================================================================================\n",
            " char_input (InputLayer)     [(None, 1)]                  0         []                            \n",
            "                                                                                                  \n",
            " token_input (InputLayer)    [(None,)]                    0         []                            \n",
            "                                                                                                  \n",
            " text_vectorization_1 (Text  (None, 290)                  0         ['char_input[0][0]']          \n",
            " Vectorization)                                                                                   \n",
            "                                                                                                  \n",
            " keras_layer (KerasLayer)    (None, 512)                  2567978   ['token_input[0][0]']         \n",
            "                                                          24                                      \n",
            "                                                                                                  \n",
            " embedding_1 (Embedding)     (None, 290, 25)              700       ['text_vectorization_1[2][0]']\n",
            "                                                                                                  \n",
            " token_output (Dense)        (None, 128)                  65664     ['keras_layer[2][0]']         \n",
            "                                                                                                  \n",
            " char_bi_lstm (Bidirectiona  (None, 48)                   9600      ['embedding_1[2][0]']         \n",
            " l)                                                                                               \n",
            "                                                                                                  \n",
            " token_char_concat (Concate  (None, 176)                  0         ['token_output[0][0]',        \n",
            " nate)                                                               'char_bi_lstm[0][0]']        \n",
            "                                                                                                  \n",
            " line_number_inputs (InputL  [(None, 15)]                 0         []                            \n",
            " ayer)                                                                                            \n",
            "                                                                                                  \n",
            " total_lines_input (InputLa  [(None, 20)]                 0         []                            \n",
            " yer)                                                                                             \n",
            "                                                                                                  \n",
            " dense_6 (Dense)             (None, 256)                  45312     ['token_char_concat[0][0]']   \n",
            "                                                                                                  \n",
            " line_number_dense (Dense)   (None, 32)                   512       ['line_number_inputs[0][0]']  \n",
            "                                                                                                  \n",
            " total_lines_dense (Dense)   (None, 32)                   672       ['total_lines_input[0][0]']   \n",
            "                                                                                                  \n",
            " dropout_2 (Dropout)         (None, 256)                  0         ['dense_6[0][0]']             \n",
            "                                                                                                  \n",
            " all_inputs_concatenate (Co  (None, 320)                  0         ['line_number_dense[0][0]',   \n",
            " ncatenate)                                                          'total_lines_dense[0][0]',   \n",
            "                                                                     'dropout_2[0][0]']           \n",
            "                                                                                                  \n",
            " dense_7 (Dense)             (None, 5)                    1605      ['all_inputs_concatenate[0][0]\n",
            "                                                                    ']                            \n",
            "                                                                                                  \n",
            "==================================================================================================\n",
            "Total params: 256921889 (980.08 MB)\n",
            "Trainable params: 124065 (484.63 KB)\n",
            "Non-trainable params: 256797824 (979.61 MB)\n",
            "__________________________________________________________________________________________________\n"
          ]
        }
      ]
    },
    {
      "cell_type": "code",
      "source": [
        "from keras.utils import plot_model\n",
        "plot_model(model_5, show_shapes=True, show_dtype=True, expand_nested=True, show_layer_activations=True, dpi=75)"
      ],
      "metadata": {
        "colab": {
          "base_uri": "https://localhost:8080/",
          "height": 982
        },
        "id": "7H7m1A0JrZKl",
        "outputId": "40e184ec-de84-410d-e295-27fd2cfdf970"
      },
      "id": "7H7m1A0JrZKl",
      "execution_count": 58,
      "outputs": [
        {
          "output_type": "execute_result",
          "data": {
            "image/png": "[encoded data removed]",
            "text/plain": [
              "<IPython.core.display.Image object>"
            ]
          },
          "metadata": {},
          "execution_count": 58
        }
      ]
    },
    {
      "cell_type": "code",
      "source": [
        "# Create data API for multi inputs\n",
        "train_all_dataset_x = tf.data.Dataset.from_tensor_slices((train_line_numbers_one_hot, train_total_line_one_hot, train_sentences, train_chars))\n",
        "train_all_dataset_y = tf.data.Dataset.from_tensor_slices(train_labels_one_hot)\n",
        "train_all_dataset = tf.data.Dataset.zip((train_all_dataset_x, train_all_dataset_y)).batch(64).prefetch(tf.data.AUTOTUNE)\n",
        "\n",
        "val_all_dataset_x = tf.data.Dataset.from_tensor_slices((val_line_numbers_one_hot, val_total_line_one_hot, val_sentences, val_chars))\n",
        "val_all_dataset_y = tf.data.Dataset.from_tensor_slices(val_labels_one_hot)\n",
        "val_all_dataset = tf.data.Dataset.zip((val_all_dataset_x, val_all_dataset_y)).batch(64).prefetch(tf.data.AUTOTUNE)\n",
        "\n",
        "test_all_dataset_x = tf.data.Dataset.from_tensor_slices((test_line_numbers_one_hot, test_total_line_one_hot, test_sentences, test_chars))\n",
        "test_all_dataset_y = tf.data.Dataset.from_tensor_slices(test_labels_one_hot)\n",
        "test_all_dataset = tf.data.Dataset.zip((test_all_dataset_x, test_all_dataset_y)).batch(64).prefetch(tf.data.AUTOTUNE)\n",
        "\n",
        "train_all_dataset"
      ],
      "metadata": {
        "colab": {
          "base_uri": "https://localhost:8080/"
        },
        "id": "wTKUqq5QtDOT",
        "outputId": "51aa8039-09d4-4361-fa5d-5a541f420c70"
      },
      "id": "wTKUqq5QtDOT",
      "execution_count": 59,
      "outputs": [
        {
          "output_type": "execute_result",
          "data": {
            "text/plain": [
              "<_PrefetchDataset element_spec=((TensorSpec(shape=(None, 15), dtype=tf.float32, name=None), TensorSpec(shape=(None, 20), dtype=tf.float32, name=None), TensorSpec(shape=(None,), dtype=tf.string, name=None), TensorSpec(shape=(None,), dtype=tf.string, name=None)), TensorSpec(shape=(None, 5), dtype=tf.float64, name=None))>"
            ]
          },
          "metadata": {},
          "execution_count": 59
        }
      ]
    },
    {
      "cell_type": "code",
      "source": [
        "# Fit the model\n",
        "history_5 = model_5.fit(train_all_dataset,\n",
        "                        epochs=5,\n",
        "                        validation_data=val_all_dataset,\n",
        "                        steps_per_epoch=int(0.1*len(train_all_dataset)),\n",
        "                        validation_steps=int(0.1*len(val_all_dataset)))"
      ],
      "metadata": {
        "colab": {
          "base_uri": "https://localhost:8080/"
        },
        "id": "J_CC5jGIxSGp",
        "outputId": "25c24cf6-beff-4945-e184-31d62bd3477f"
      },
      "id": "J_CC5jGIxSGp",
      "execution_count": 60,
      "outputs": [
        {
          "output_type": "stream",
          "name": "stdout",
          "text": [
            "Epoch 1/5\n",
            "281/281 [==============================] - 32s 73ms/step - loss: 1.1443 - accuracy: 0.6932 - val_loss: 1.0027 - val_accuracy: 0.7922\n",
            "Epoch 2/5\n",
            "281/281 [==============================] - 17s 60ms/step - loss: 0.9824 - accuracy: 0.8054 - val_loss: 0.9596 - val_accuracy: 0.8221\n",
            "Epoch 3/5\n",
            "281/281 [==============================] - 17s 59ms/step - loss: 0.9589 - accuracy: 0.8190 - val_loss: 0.9467 - val_accuracy: 0.8305\n",
            "Epoch 4/5\n",
            "281/281 [==============================] - 17s 62ms/step - loss: 0.9461 - accuracy: 0.8303 - val_loss: 0.9346 - val_accuracy: 0.8344\n",
            "Epoch 5/5\n",
            "281/281 [==============================] - 15s 54ms/step - loss: 0.9395 - accuracy: 0.8355 - val_loss: 0.9293 - val_accuracy: 0.8401\n"
          ]
        }
      ]
    },
    {
      "cell_type": "code",
      "source": [
        "# make predictions\n",
        "model_5_preds = tf.argmax(model_5.predict(val_all_dataset), axis=1).numpy()\n",
        "model_5_results = calculate_results(val_labels_encoded, model_5_preds)\n",
        "model_5_results"
      ],
      "metadata": {
        "colab": {
          "base_uri": "https://localhost:8080/"
        },
        "id": "E5qda-9vzh-Z",
        "outputId": "81276e41-db13-458d-e1e1-f8b2fcd33f61"
      },
      "id": "E5qda-9vzh-Z",
      "execution_count": 61,
      "outputs": [
        {
          "output_type": "stream",
          "name": "stdout",
          "text": [
            "473/473 [==============================] - 14s 24ms/step\n"
          ]
        },
        {
          "output_type": "execute_result",
          "data": {
            "text/plain": [
              "{'accuracy': 84.04276446445121,\n",
              " 'precision': 0.8448147339226005,\n",
              " 'recall': 0.8404276446445121,\n",
              " 'f1': 0.83621024710266}"
            ]
          },
          "metadata": {},
          "execution_count": 61
        }
      ]
    },
    {
      "cell_type": "markdown",
      "source": [
        "#### Compare model results"
      ],
      "metadata": {
        "id": "FShqw_mX41kU"
      },
      "id": "FShqw_mX41kU"
    },
    {
      "cell_type": "code",
      "source": [
        "#Combine model results into data frame\n",
        "all_model_results = pd.DataFrame({\"model_0_baseline\":model_0_results,\n",
        "                                  \"model_1_custom_token_embedding\":model_1_results,\n",
        "                                  \"model_2_pretrained_token_embedding\":model_2_results,\n",
        "                                  \"model_3_char_embedding\":model_3_results,\n",
        "                                  \"model_4_hybrid_token_char_embedding\":model_4_results,\n",
        "                                  \"model_5_hybrid_token_char_positional_embedding\":model_5_results})\n",
        "all_model_results = all_model_results.transpose()\n",
        "all_model_results.accuracy = all_model_results.accuracy/100\n",
        "all_model_results"
      ],
      "metadata": {
        "colab": {
          "base_uri": "https://localhost:8080/",
          "height": 235
        },
        "id": "VV90f4Ql0PRT",
        "outputId": "91f108ab-9cdc-4b87-f62a-1c849a7060d0"
      },
      "id": "VV90f4Ql0PRT",
      "execution_count": 62,
      "outputs": [
        {
          "output_type": "execute_result",
          "data": {
            "text/plain": [
              "                                                accuracy  precision    recall  \\\n",
              "model_0_baseline                                0.721832   0.718647  0.721832   \n",
              "model_1_custom_token_embedding                  0.794254   0.793702  0.794254   \n",
              "model_2_pretrained_token_embedding              0.724778   0.720240  0.724778   \n",
              "model_3_char_embedding                          0.694956   0.688277  0.694956   \n",
              "model_4_hybrid_token_char_embedding             0.740534   0.739687  0.740534   \n",
              "model_5_hybrid_token_char_positional_embedding  0.840428   0.844815  0.840428   \n",
              "\n",
              "                                                      f1  \n",
              "model_0_baseline                                0.698925  \n",
              "model_1_custom_token_embedding                  0.790336  \n",
              "model_2_pretrained_token_embedding              0.719195  \n",
              "model_3_char_embedding                          0.684953  \n",
              "model_4_hybrid_token_char_embedding             0.735615  \n",
              "model_5_hybrid_token_char_positional_embedding  0.836210  "
            ],
            "text/html": [
              "\n",
              "  <div id=\"df-9ac47498-d74a-486d-88a4-dad1aa3455e8\" class=\"colab-df-container\">\n",
              "    <div>\n",
              "<style scoped>\n",
              "    .dataframe tbody tr th:only-of-type {\n",
              "        vertical-align: middle;\n",
              "    }\n",
              "\n",
              "    .dataframe tbody tr th {\n",
              "        vertical-align: top;\n",
              "    }\n",
              "\n",
              "    .dataframe thead th {\n",
              "        text-align: right;\n",
              "    }\n",
              "</style>\n",
              "<table border=\"1\" class=\"dataframe\">\n",
              "  <thead>\n",
              "    <tr style=\"text-align: right;\">\n",
              "      <th></th>\n",
              "      <th>accuracy</th>\n",
              "      <th>precision</th>\n",
              "      <th>recall</th>\n",
              "      <th>f1</th>\n",
              "    </tr>\n",
              "  </thead>\n",
              "  <tbody>\n",
              "    <tr>\n",
              "      <th>model_0_baseline</th>\n",
              "      <td>0.721832</td>\n",
              "      <td>0.718647</td>\n",
              "      <td>0.721832</td>\n",
              "      <td>0.698925</td>\n",
              "    </tr>\n",
              "    <tr>\n",
              "      <th>model_1_custom_token_embedding</th>\n",
              "      <td>0.794254</td>\n",
              "      <td>0.793702</td>\n",
              "      <td>0.794254</td>\n",
              "      <td>0.790336</td>\n",
              "    </tr>\n",
              "    <tr>\n",
              "      <th>model_2_pretrained_token_embedding</th>\n",
              "      <td>0.724778</td>\n",
              "      <td>0.720240</td>\n",
              "      <td>0.724778</td>\n",
              "      <td>0.719195</td>\n",
              "    </tr>\n",
              "    <tr>\n",
              "      <th>model_3_char_embedding</th>\n",
              "      <td>0.694956</td>\n",
              "      <td>0.688277</td>\n",
              "      <td>0.694956</td>\n",
              "      <td>0.684953</td>\n",
              "    </tr>\n",
              "    <tr>\n",
              "      <th>model_4_hybrid_token_char_embedding</th>\n",
              "      <td>0.740534</td>\n",
              "      <td>0.739687</td>\n",
              "      <td>0.740534</td>\n",
              "      <td>0.735615</td>\n",
              "    </tr>\n",
              "    <tr>\n",
              "      <th>model_5_hybrid_token_char_positional_embedding</th>\n",
              "      <td>0.840428</td>\n",
              "      <td>0.844815</td>\n",
              "      <td>0.840428</td>\n",
              "      <td>0.836210</td>\n",
              "    </tr>\n",
              "  </tbody>\n",
              "</table>\n",
              "</div>\n",
              "    <div class=\"colab-df-buttons\">\n",
              "\n",
              "  <div class=\"colab-df-container\">\n",
              "    <button class=\"colab-df-convert\" onclick=\"convertToInteractive('df-9ac47498-d74a-486d-88a4-dad1aa3455e8')\"\n",
              "            title=\"Convert this dataframe to an interactive table.\"\n",
              "            style=\"display:none;\">\n",
              "\n",
              "  <svg xmlns=\"http://www.w3.org/2000/svg\" height=\"24px\" viewBox=\"0 -960 960 960\">\n",
              "    <path d=\"M120-120v-720h720v720H120Zm60-500h600v-160H180v160Zm220 220h160v-160H400v160Zm0 220h160v-160H400v160ZM180-400h160v-160H180v160Zm440 0h160v-160H620v160ZM180-180h160v-160H180v160Zm440 0h160v-160H620v160Z\"/>\n",
              "  </svg>\n",
              "    </button>\n",
              "\n",
              "  <style>\n",
              "    .colab-df-container {\n",
              "      display:flex;\n",
              "      gap: 12px;\n",
              "    }\n",
              "\n",
              "    .colab-df-convert {\n",
              "      background-color: #E8F0FE;\n",
              "      border: none;\n",
              "      border-radius: 50%;\n",
              "      cursor: pointer;\n",
              "      display: none;\n",
              "      fill: #1967D2;\n",
              "      height: 32px;\n",
              "      padding: 0 0 0 0;\n",
              "      width: 32px;\n",
              "    }\n",
              "\n",
              "    .colab-df-convert:hover {\n",
              "      background-color: #E2EBFA;\n",
              "      box-shadow: 0px 1px 2px rgba(60, 64, 67, 0.3), 0px 1px 3px 1px rgba(60, 64, 67, 0.15);\n",
              "      fill: #174EA6;\n",
              "    }\n",
              "\n",
              "    .colab-df-buttons div {\n",
              "      margin-bottom: 4px;\n",
              "    }\n",
              "\n",
              "    [theme=dark] .colab-df-convert {\n",
              "      background-color: #3B4455;\n",
              "      fill: #D2E3FC;\n",
              "    }\n",
              "\n",
              "    [theme=dark] .colab-df-convert:hover {\n",
              "      background-color: #434B5C;\n",
              "      box-shadow: 0px 1px 3px 1px rgba(0, 0, 0, 0.15);\n",
              "      filter: drop-shadow(0px 1px 2px rgba(0, 0, 0, 0.3));\n",
              "      fill: #FFFFFF;\n",
              "    }\n",
              "  </style>\n",
              "\n",
              "    <script>\n",
              "      const buttonEl =\n",
              "        document.querySelector('#df-9ac47498-d74a-486d-88a4-dad1aa3455e8 button.colab-df-convert');\n",
              "      buttonEl.style.display =\n",
              "        google.colab.kernel.accessAllowed ? 'block' : 'none';\n",
              "\n",
              "      async function convertToInteractive(key) {\n",
              "        const element = document.querySelector('#df-9ac47498-d74a-486d-88a4-dad1aa3455e8');\n",
              "        const dataTable =\n",
              "          await google.colab.kernel.invokeFunction('convertToInteractive',\n",
              "                                                    [key], {});\n",
              "        if (!dataTable) return;\n",
              "\n",
              "        const docLinkHtml = 'Like what you see? Visit the ' +\n",
              "          '<a target=\"_blank\" href=https://colab.research.google.com/notebooks/data_table.ipynb>data table notebook</a>'\n",
              "          + ' to learn more about interactive tables.';\n",
              "        element.innerHTML = '';\n",
              "        dataTable['output_type'] = 'display_data';\n",
              "        await google.colab.output.renderOutput(dataTable, element);\n",
              "        const docLink = document.createElement('div');\n",
              "        docLink.innerHTML = docLinkHtml;\n",
              "        element.appendChild(docLink);\n",
              "      }\n",
              "    </script>\n",
              "  </div>\n",
              "\n",
              "\n",
              "<div id=\"df-77ef55aa-11fa-4c0e-9037-79049d0bf3fe\">\n",
              "  <button class=\"colab-df-quickchart\" onclick=\"quickchart('df-77ef55aa-11fa-4c0e-9037-79049d0bf3fe')\"\n",
              "            title=\"Suggest charts\"\n",
              "            style=\"display:none;\">\n",
              "\n",
              "<svg xmlns=\"http://www.w3.org/2000/svg\" height=\"24px\"viewBox=\"0 0 24 24\"\n",
              "     width=\"24px\">\n",
              "    <g>\n",
              "        <path d=\"M19 3H5c-1.1 0-2 .9-2 2v14c0 1.1.9 2 2 2h14c1.1 0 2-.9 2-2V5c0-1.1-.9-2-2-2zM9 17H7v-7h2v7zm4 0h-2V7h2v10zm4 0h-2v-4h2v4z\"/>\n",
              "    </g>\n",
              "</svg>\n",
              "  </button>\n",
              "\n",
              "<style>\n",
              "  .colab-df-quickchart {\n",
              "      --bg-color: #E8F0FE;\n",
              "      --fill-color: #1967D2;\n",
              "      --hover-bg-color: #E2EBFA;\n",
              "      --hover-fill-color: #174EA6;\n",
              "      --disabled-fill-color: #AAA;\n",
              "      --disabled-bg-color: #DDD;\n",
              "  }\n",
              "\n",
              "  [theme=dark] .colab-df-quickchart {\n",
              "      --bg-color: #3B4455;\n",
              "      --fill-color: #D2E3FC;\n",
              "      --hover-bg-color: #434B5C;\n",
              "      --hover-fill-color: #FFFFFF;\n",
              "      --disabled-bg-color: #3B4455;\n",
              "      --disabled-fill-color: #666;\n",
              "  }\n",
              "\n",
              "  .colab-df-quickchart {\n",
              "    background-color: var(--bg-color);\n",
              "    border: none;\n",
              "    border-radius: 50%;\n",
              "    cursor: pointer;\n",
              "    display: none;\n",
              "    fill: var(--fill-color);\n",
              "    height: 32px;\n",
              "    padding: 0;\n",
              "    width: 32px;\n",
              "  }\n",
              "\n",
              "  .colab-df-quickchart:hover {\n",
              "    background-color: var(--hover-bg-color);\n",
              "    box-shadow: 0 1px 2px rgba(60, 64, 67, 0.3), 0 1px 3px 1px rgba(60, 64, 67, 0.15);\n",
              "    fill: var(--button-hover-fill-color);\n",
              "  }\n",
              "\n",
              "  .colab-df-quickchart-complete:disabled,\n",
              "  .colab-df-quickchart-complete:disabled:hover {\n",
              "    background-color: var(--disabled-bg-color);\n",
              "    fill: var(--disabled-fill-color);\n",
              "    box-shadow: none;\n",
              "  }\n",
              "\n",
              "  .colab-df-spinner {\n",
              "    border: 2px solid var(--fill-color);\n",
              "    border-color: transparent;\n",
              "    border-bottom-color: var(--fill-color);\n",
              "    animation:\n",
              "      spin 1s steps(1) infinite;\n",
              "  }\n",
              "\n",
              "  @keyframes spin {\n",
              "    0% {\n",
              "      border-color: transparent;\n",
              "      border-bottom-color: var(--fill-color);\n",
              "      border-left-color: var(--fill-color);\n",
              "    }\n",
              "    20% {\n",
              "      border-color: transparent;\n",
              "      border-left-color: var(--fill-color);\n",
              "      border-top-color: var(--fill-color);\n",
              "    }\n",
              "    30% {\n",
              "      border-color: transparent;\n",
              "      border-left-color: var(--fill-color);\n",
              "      border-top-color: var(--fill-color);\n",
              "      border-right-color: var(--fill-color);\n",
              "    }\n",
              "    40% {\n",
              "      border-color: transparent;\n",
              "      border-right-color: var(--fill-color);\n",
              "      border-top-color: var(--fill-color);\n",
              "    }\n",
              "    60% {\n",
              "      border-color: transparent;\n",
              "      border-right-color: var(--fill-color);\n",
              "    }\n",
              "    80% {\n",
              "      border-color: transparent;\n",
              "      border-right-color: var(--fill-color);\n",
              "      border-bottom-color: var(--fill-color);\n",
              "    }\n",
              "    90% {\n",
              "      border-color: transparent;\n",
              "      border-bottom-color: var(--fill-color);\n",
              "    }\n",
              "  }\n",
              "</style>\n",
              "\n",
              "  <script>\n",
              "    async function quickchart(key) {\n",
              "      const quickchartButtonEl =\n",
              "        document.querySelector('#' + key + ' button');\n",
              "      quickchartButtonEl.disabled = true;  // To prevent multiple clicks.\n",
              "      quickchartButtonEl.classList.add('colab-df-spinner');\n",
              "      try {\n",
              "        const charts = await google.colab.kernel.invokeFunction(\n",
              "            'suggestCharts', [key], {});\n",
              "      } catch (error) {\n",
              "        console.error('Error during call to suggestCharts:', error);\n",
              "      }\n",
              "      quickchartButtonEl.classList.remove('colab-df-spinner');\n",
              "      quickchartButtonEl.classList.add('colab-df-quickchart-complete');\n",
              "    }\n",
              "    (() => {\n",
              "      let quickchartButtonEl =\n",
              "        document.querySelector('#df-77ef55aa-11fa-4c0e-9037-79049d0bf3fe button');\n",
              "      quickchartButtonEl.style.display =\n",
              "        google.colab.kernel.accessAllowed ? 'block' : 'none';\n",
              "    })();\n",
              "  </script>\n",
              "</div>\n",
              "\n",
              "  <div id=\"id_d828ffa0-937a-441c-9479-510906e232ac\">\n",
              "    <style>\n",
              "      .colab-df-generate {\n",
              "        background-color: #E8F0FE;\n",
              "        border: none;\n",
              "        border-radius: 50%;\n",
              "        cursor: pointer;\n",
              "        display: none;\n",
              "        fill: #1967D2;\n",
              "        height: 32px;\n",
              "        padding: 0 0 0 0;\n",
              "        width: 32px;\n",
              "      }\n",
              "\n",
              "      .colab-df-generate:hover {\n",
              "        background-color: #E2EBFA;\n",
              "        box-shadow: 0px 1px 2px rgba(60, 64, 67, 0.3), 0px 1px 3px 1px rgba(60, 64, 67, 0.15);\n",
              "        fill: #174EA6;\n",
              "      }\n",
              "\n",
              "      [theme=dark] .colab-df-generate {\n",
              "        background-color: #3B4455;\n",
              "        fill: #D2E3FC;\n",
              "      }\n",
              "\n",
              "      [theme=dark] .colab-df-generate:hover {\n",
              "        background-color: #434B5C;\n",
              "        box-shadow: 0px 1px 3px 1px rgba(0, 0, 0, 0.15);\n",
              "        filter: drop-shadow(0px 1px 2px rgba(0, 0, 0, 0.3));\n",
              "        fill: #FFFFFF;\n",
              "      }\n",
              "    </style>\n",
              "    <button class=\"colab-df-generate\" onclick=\"generateWithVariable('all_model_results')\"\n",
              "            title=\"Generate code using this dataframe.\"\n",
              "            style=\"display:none;\">\n",
              "\n",
              "  <svg xmlns=\"http://www.w3.org/2000/svg\" height=\"24px\"viewBox=\"0 0 24 24\"\n",
              "       width=\"24px\">\n",
              "    <path d=\"M7,19H8.4L18.45,9,17,7.55,7,17.6ZM5,21V16.75L18.45,3.32a2,2,0,0,1,2.83,0l1.4,1.43a1.91,1.91,0,0,1,.58,1.4,1.91,1.91,0,0,1-.58,1.4L9.25,21ZM18.45,9,17,7.55Zm-12,3A5.31,5.31,0,0,0,4.9,8.1,5.31,5.31,0,0,0,1,6.5,5.31,5.31,0,0,0,4.9,4.9,5.31,5.31,0,0,0,6.5,1,5.31,5.31,0,0,0,8.1,4.9,5.31,5.31,0,0,0,12,6.5,5.46,5.46,0,0,0,6.5,12Z\"/>\n",
              "  </svg>\n",
              "    </button>\n",
              "    <script>\n",
              "      (() => {\n",
              "      const buttonEl =\n",
              "        document.querySelector('#id_d828ffa0-937a-441c-9479-510906e232ac button.colab-df-generate');\n",
              "      buttonEl.style.display =\n",
              "        google.colab.kernel.accessAllowed ? 'block' : 'none';\n",
              "\n",
              "      buttonEl.onclick = () => {\n",
              "        google.colab.notebook.generateWithVariable('all_model_results');\n",
              "      }\n",
              "      })();\n",
              "    </script>\n",
              "  </div>\n",
              "\n",
              "    </div>\n",
              "  </div>\n"
            ]
          },
          "metadata": {},
          "execution_count": 62
        }
      ]
    },
    {
      "cell_type": "code",
      "source": [
        "all_model_results.plot(kind='bar', figsize=(10,7)).legend(bbox_to_anchor=(1.0, 1.0))"
      ],
      "metadata": {
        "colab": {
          "base_uri": "https://localhost:8080/",
          "height": 956
        },
        "id": "Vx4IbKl45myZ",
        "outputId": "8feab1b1-2b79-4db5-df9e-c148d81f49ac"
      },
      "id": "Vx4IbKl45myZ",
      "execution_count": 63,
      "outputs": [
        {
          "output_type": "execute_result",
          "data": {
            "text/plain": [
              "<matplotlib.legend.Legend at 0x798fe9aeafb0>"
            ]
          },
          "metadata": {},
          "execution_count": 63
        },
        {
          "output_type": "display_data",
          "data": {
            "text/plain": [
              "<Figure size 1000x700 with 1 Axes>"
            ],
            "image/png": "[encoded data removed]"
          },
          "metadata": {}
        }
      ]
    },
    {
      "cell_type": "code",
      "source": [
        "# get f1 score\n",
        "all_model_results.sort_values(\"f1\", ascending=True).f1.plot(kind='bar', figsize=(10,7)).legend(bbox_to_anchor=(1.0, 1.0))"
      ],
      "metadata": {
        "colab": {
          "base_uri": "https://localhost:8080/",
          "height": 956
        },
        "id": "1e0B9ag76SPG",
        "outputId": "56b0ae4a-dcfb-4a89-f6ad-9e3e5adabb2f"
      },
      "id": "1e0B9ag76SPG",
      "execution_count": 64,
      "outputs": [
        {
          "output_type": "execute_result",
          "data": {
            "text/plain": [
              "<matplotlib.legend.Legend at 0x798f34297310>"
            ]
          },
          "metadata": {},
          "execution_count": 64
        },
        {
          "output_type": "display_data",
          "data": {
            "text/plain": [
              "<Figure size 1000x700 with 1 Axes>"
            ],
            "image/png": "[encoded data removed]"
          },
          "metadata": {}
        }
      ]
    },
    {
      "cell_type": "code",
      "source": [
        "# save the model\n",
        "model_5.save(\"skimlit_tribrid_model_10percent\")"
      ],
      "metadata": {
        "id": "AJc_gQYS6k43"
      },
      "id": "AJc_gQYS6k43",
      "execution_count": 65,
      "outputs": []
    },
    {
      "cell_type": "code",
      "source": [
        "loaded_model = tf.keras.models.load_model(\"skimlit_tribrid_model_10percent\")\n",
        "loaded_model.summary()"
      ],
      "metadata": {
        "colab": {
          "base_uri": "https://localhost:8080/"
        },
        "id": "F2PEG8Ok8YLs",
        "outputId": "bcd5346c-c9ac-4884-8f80-f225c01d24da"
      },
      "id": "F2PEG8Ok8YLs",
      "execution_count": 66,
      "outputs": [
        {
          "output_type": "stream",
          "name": "stdout",
          "text": [
            "Model: \"tribid_model\"\n",
            "__________________________________________________________________________________________________\n",
            " Layer (type)                Output Shape                 Param #   Connected to                  \n",
            "==================================================================================================\n",
            " char_input (InputLayer)     [(None, 1)]                  0         []                            \n",
            "                                                                                                  \n",
            " token_input (InputLayer)    [(None,)]                    0         []                            \n",
            "                                                                                                  \n",
            " text_vectorization_1 (Text  (None, 290)                  0         ['char_input[0][0]']          \n",
            " Vectorization)                                                                                   \n",
            "                                                                                                  \n",
            " keras_layer (KerasLayer)    (None, 512)                  2567978   ['token_input[0][0]']         \n",
            "                                                          24                                      \n",
            "                                                                                                  \n",
            " embedding_1 (Embedding)     (None, 290, 25)              700       ['text_vectorization_1[0][0]']\n",
            "                                                                                                  \n",
            " token_output (Dense)        (None, 128)                  65664     ['keras_layer[0][0]']         \n",
            "                                                                                                  \n",
            " char_bi_lstm (Bidirectiona  (None, 48)                   9600      ['embedding_1[0][0]']         \n",
            " l)                                                                                               \n",
            "                                                                                                  \n",
            " token_char_concat (Concate  (None, 176)                  0         ['token_output[0][0]',        \n",
            " nate)                                                               'char_bi_lstm[0][0]']        \n",
            "                                                                                                  \n",
            " line_number_inputs (InputL  [(None, 15)]                 0         []                            \n",
            " ayer)                                                                                            \n",
            "                                                                                                  \n",
            " total_lines_input (InputLa  [(None, 20)]                 0         []                            \n",
            " yer)                                                                                             \n",
            "                                                                                                  \n",
            " dense_6 (Dense)             (None, 256)                  45312     ['token_char_concat[0][0]']   \n",
            "                                                                                                  \n",
            " line_number_dense (Dense)   (None, 32)                   512       ['line_number_inputs[0][0]']  \n",
            "                                                                                                  \n",
            " total_lines_dense (Dense)   (None, 32)                   672       ['total_lines_input[0][0]']   \n",
            "                                                                                                  \n",
            " dropout_2 (Dropout)         (None, 256)                  0         ['dense_6[0][0]']             \n",
            "                                                                                                  \n",
            " all_inputs_concatenate (Co  (None, 320)                  0         ['line_number_dense[0][0]',   \n",
            " ncatenate)                                                          'total_lines_dense[0][0]',   \n",
            "                                                                     'dropout_2[0][0]']           \n",
            "                                                                                                  \n",
            " dense_7 (Dense)             (None, 5)                    1605      ['all_inputs_concatenate[0][0]\n",
            "                                                                    ']                            \n",
            "                                                                                                  \n",
            "==================================================================================================\n",
            "Total params: 256921889 (980.08 MB)\n",
            "Trainable params: 124065 (484.63 KB)\n",
            "Non-trainable params: 256797824 (979.61 MB)\n",
            "__________________________________________________________________________________________________\n"
          ]
        }
      ]
    },
    {
      "cell_type": "code",
      "source": [
        "loaded_model_preds = tf.argmax(loaded_model.predict(val_all_dataset), axis=1).numpy()\n",
        "loaded_model_result = calculate_results(val_labels_encoded, loaded_model_preds)\n",
        "loaded_model_result"
      ],
      "metadata": {
        "colab": {
          "base_uri": "https://localhost:8080/"
        },
        "id": "WNjxQksX8e2a",
        "outputId": "22c47b1d-f842-4bd9-a06b-61c4c3d10cea"
      },
      "id": "WNjxQksX8e2a",
      "execution_count": 67,
      "outputs": [
        {
          "output_type": "stream",
          "name": "stdout",
          "text": [
            "473/473 [==============================] - 15s 23ms/step\n"
          ]
        },
        {
          "output_type": "execute_result",
          "data": {
            "text/plain": [
              "{'accuracy': 84.04276446445121,\n",
              " 'precision': 0.8448147339226005,\n",
              " 'recall': 0.8404276446445121,\n",
              " 'f1': 0.83621024710266}"
            ]
          },
          "metadata": {},
          "execution_count": 67
        }
      ]
    },
    {
      "cell_type": "code",
      "source": [
        "model_5_results"
      ],
      "metadata": {
        "colab": {
          "base_uri": "https://localhost:8080/"
        },
        "id": "6em0MZrK80ad",
        "outputId": "8b2bb5a6-fd24-454c-cdc5-1e581eb958ba"
      },
      "id": "6em0MZrK80ad",
      "execution_count": 68,
      "outputs": [
        {
          "output_type": "execute_result",
          "data": {
            "text/plain": [
              "{'accuracy': 84.04276446445121,\n",
              " 'precision': 0.8448147339226005,\n",
              " 'recall': 0.8404276446445121,\n",
              " 'f1': 0.83621024710266}"
            ]
          },
          "metadata": {},
          "execution_count": 68
        }
      ]
    },
    {
      "cell_type": "markdown",
      "source": [
        "## Exercise"
      ],
      "metadata": {
        "id": "u5w41hTq_yh0"
      },
      "id": "u5w41hTq_yh0"
    },
    {
      "cell_type": "code",
      "source": [
        "# 1. Train model_5 on all of the data in the training dataset for as many epochs until it stops improving.\n",
        "#lets compile the model again(this time with some callbacks)\n",
        "\n",
        "#callbacks\n",
        "model_checkpoint = tf.keras.callbacks.ModelCheckpoint(filepath='model_5_entire/',\n",
        "                                                      verbose=1,\n",
        "                                                      save_best_only=True,\n",
        "                                                      save_weights_only=True)\n",
        "early_stopping = tf.keras.callbacks.EarlyStopping(patience=3,\n",
        "                                                  verbose=1,\n",
        "                                                  restore_best_weights=True,\n",
        "                                                  min_delta=0.001)\n",
        "\n",
        "# setup token level model\n",
        "token_inputs = tf.keras.layers.Input(shape=[], dtype=tf.string, name='token_input')\n",
        "token_embeddings = tf_hub_embedding_layer(token_inputs)\n",
        "token_outputs = tf.keras.layers.Dense(128, activation=tf.keras.activations.relu, name='token_output')(token_embeddings)\n",
        "token_model = tf.keras.Model(inputs = token_inputs,\n",
        "                             outputs = token_outputs)\n",
        "\n",
        "# setup character level model\n",
        "char_inputs = tf.keras.layers.Input(shape=(1,), dtype=tf.string, name='char_input')\n",
        "char_vector = char_vectorizer(char_inputs)\n",
        "char_embeddings = char_embed(char_vector)\n",
        "char_bi_lstm = tf.keras.layers.Bidirectional(tf.keras.layers.LSTM(24), name='char_bi_lstm')(char_embeddings)\n",
        "char_model = tf.keras.Model(inputs = char_inputs,\n",
        "                            outputs = char_bi_lstm)\n",
        "\n",
        "#setup model for line_number feature\n",
        "line_number_input = tf.keras.layers.Input(shape=(15, ), dtype=tf.float32, name='line_number_inputs')\n",
        "line_number_dense = tf.keras.layers.Dense(32, activation=tf.keras.activations.relu, name='line_number_dense')(line_number_input)\n",
        "line_number_model = tf.keras.Model(inputs = line_number_input,\n",
        "                                   outputs = line_number_dense)\n",
        "\n",
        "#setup model for total_lines feature\n",
        "total_lines_input = tf.keras.layers.Input(shape=(20, ), dtype=tf.float32, name='total_lines_input')\n",
        "total_lines_dense = tf.keras.layers.Dense(32, activation=tf.keras.activations.relu, name='total_lines_dense')(total_lines_input)\n",
        "total_lines_model = tf.keras.Model(inputs=total_lines_input,\n",
        "                                  outputs = total_lines_dense)\n",
        "\n",
        "#concatenate token and char embeddings\n",
        "token_char_concat = tf.keras.layers.Concatenate(name='token_char_concat')([token_model.output,\n",
        "                                                                           char_model.output])\n",
        "token_char_dense = tf.keras.layers.Dense(256, activation=tf.keras.activations.relu)(token_char_concat)\n",
        "token_char_dropout = tf.keras.layers.Dropout(0.5)(token_char_dense)\n",
        "\n",
        "#concatenate previous concatenated layer with features\n",
        "all_concat = tf.keras.layers.Concatenate(name='all_inputs_concatenate')([line_number_model.output, total_lines_model.output, token_char_dropout])\n",
        "\n",
        "# create output layer that accepts tribed input\n",
        "output_layer = tf.keras.layers.Dense(5, activation=tf.keras.activations.softmax)(all_concat)\n",
        "\n",
        "model_5 = tf.keras.Model(inputs = [line_number_model.input,\n",
        "                                   total_lines_model.input,\n",
        "                                   token_model.input,\n",
        "                                   char_model.input],\n",
        "                             outputs = output_layer,\n",
        "                             name='tribid_model')\n",
        "model_5.compile(loss=tf.keras.losses.CategoricalCrossentropy(label_smoothing=0.2), # reduces overfitting in label probability predictions\n",
        "                optimizer=tf.keras.optimizers.Adam(),\n",
        "                metrics=['accuracy'])\n",
        "\n",
        "history_5_exercise = model_5.fit(train_all_dataset,\n",
        "                                 epochs=100,\n",
        "                                 validation_data=val_all_dataset,\n",
        "                                 validation_steps=int(0.1*len(val_all_dataset)),\n",
        "                                 callbacks=[model_checkpoint, early_stopping])"
      ],
      "metadata": {
        "colab": {
          "base_uri": "https://localhost:8080/"
        },
        "id": "GBOsmy7f9-o_",
        "outputId": "0da46338-525a-4501-83db-6abf78f2861f"
      },
      "id": "GBOsmy7f9-o_",
      "execution_count": 71,
      "outputs": [
        {
          "output_type": "stream",
          "name": "stdout",
          "text": [
            "Epoch 1/100\n",
            "2814/2814 [==============================] - ETA: 0s - loss: 0.9636 - accuracy: 0.8166\n",
            "Epoch 1: val_loss improved from inf to 0.91243, saving model to model_5_entire/\n",
            "2814/2814 [==============================] - 191s 64ms/step - loss: 0.9636 - accuracy: 0.8166 - val_loss: 0.9124 - val_accuracy: 0.8398\n",
            "Epoch 2/100\n",
            "2813/2814 [============================>.] - ETA: 0s - loss: 0.9094 - accuracy: 0.8542\n",
            "Epoch 2: val_loss improved from 0.91243 to 0.90517, saving model to model_5_entire/\n",
            "2814/2814 [==============================] - 198s 70ms/step - loss: 0.9094 - accuracy: 0.8542 - val_loss: 0.9052 - val_accuracy: 0.8431\n",
            "Epoch 3/100\n",
            "2813/2814 [============================>.] - ETA: 0s - loss: 0.8961 - accuracy: 0.8634\n",
            "Epoch 3: val_loss improved from 0.90517 to 0.89807, saving model to model_5_entire/\n",
            "2814/2814 [==============================] - 208s 74ms/step - loss: 0.8961 - accuracy: 0.8634 - val_loss: 0.8981 - val_accuracy: 0.8524\n",
            "Epoch 4/100\n",
            "2813/2814 [============================>.] - ETA: 0s - loss: 0.8874 - accuracy: 0.8702\n",
            "Epoch 4: val_loss improved from 0.89807 to 0.89793, saving model to model_5_entire/\n",
            "2814/2814 [==============================] - 206s 73ms/step - loss: 0.8874 - accuracy: 0.8702 - val_loss: 0.8979 - val_accuracy: 0.8514\n",
            "Epoch 5/100\n",
            "2814/2814 [==============================] - ETA: 0s - loss: 0.8804 - accuracy: 0.8750\n",
            "Epoch 5: val_loss improved from 0.89793 to 0.89788, saving model to model_5_entire/\n",
            "2814/2814 [==============================] - 205s 73ms/step - loss: 0.8804 - accuracy: 0.8750 - val_loss: 0.8979 - val_accuracy: 0.8497\n",
            "Epoch 6/100\n",
            "2814/2814 [==============================] - ETA: 0s - loss: 0.8744 - accuracy: 0.8790\n",
            "Epoch 6: val_loss improved from 0.89788 to 0.89586, saving model to model_5_entire/\n",
            "2814/2814 [==============================] - 203s 72ms/step - loss: 0.8744 - accuracy: 0.8790 - val_loss: 0.8959 - val_accuracy: 0.8541\n",
            "Epoch 7/100\n",
            "2814/2814 [==============================] - ETA: 0s - loss: 0.8694 - accuracy: 0.8829\n",
            "Epoch 7: val_loss did not improve from 0.89586\n",
            "2814/2814 [==============================] - 170s 60ms/step - loss: 0.8694 - accuracy: 0.8829 - val_loss: 0.8979 - val_accuracy: 0.8564\n",
            "Epoch 8/100\n",
            "2814/2814 [==============================] - ETA: 0s - loss: 0.8651 - accuracy: 0.8865\n",
            "Epoch 8: val_loss did not improve from 0.89586\n",
            "2814/2814 [==============================] - 171s 61ms/step - loss: 0.8651 - accuracy: 0.8865 - val_loss: 0.8992 - val_accuracy: 0.8527\n",
            "Epoch 9/100\n",
            "2813/2814 [============================>.] - ETA: 0s - loss: 0.8618 - accuracy: 0.8894\n",
            "Epoch 9: val_loss did not improve from 0.89586\n",
            "Restoring model weights from the end of the best epoch: 6.\n",
            "2814/2814 [==============================] - 177s 63ms/step - loss: 0.8618 - accuracy: 0.8894 - val_loss: 0.8988 - val_accuracy: 0.8551\n",
            "Epoch 9: early stopping\n"
          ]
        }
      ]
    },
    {
      "cell_type": "code",
      "source": [
        "#make predictions and compare\n",
        "model_5_exercise_preds = tf.argmax(model_5.predict(val_all_dataset), axis=1).numpy()\n",
        "model_5_exercise_results = calculate_results(val_labels_encoded, model_5_exercise_preds)\n",
        "model_5_exercise_results"
      ],
      "metadata": {
        "colab": {
          "base_uri": "https://localhost:8080/"
        },
        "id": "3tUCckQeVHwf",
        "outputId": "cc8a3c5f-317c-4a42-f1b7-9f86e113c175"
      },
      "id": "3tUCckQeVHwf",
      "execution_count": 73,
      "outputs": [
        {
          "output_type": "stream",
          "name": "stdout",
          "text": [
            "473/473 [==============================] - 13s 28ms/step\n"
          ]
        },
        {
          "output_type": "execute_result",
          "data": {
            "text/plain": [
              "{'accuracy': 85.80365417714815,\n",
              " 'precision': 0.8606095198097227,\n",
              " 'recall': 0.8580365417714815,\n",
              " 'f1': 0.8550207603504117}"
            ]
          },
          "metadata": {},
          "execution_count": 73
        }
      ]
    },
    {
      "cell_type": "code",
      "source": [
        "#2. Checkout the Keras guide on using pretrained GloVe embeddings. Can you get this working with one of our models?\n",
        "!wget https://downloads.cs.stanford.edu/nlp/data/glove.6B.zip\n",
        "!unzip -q glove.6B.zip\n",
        "\n",
        "path_to_glove_file = \"glove.6B.100d.txt\"\n",
        "\n",
        "embeddings_index = {}\n",
        "with open(path_to_glove_file) as f:\n",
        "    for line in f:\n",
        "        word, coefs = line.split(maxsplit=1)\n",
        "        coefs = np.fromstring(coefs, \"f\", sep=\" \")\n",
        "        embeddings_index[word] = coefs\n",
        "\n",
        "print(\"Found %s word vectors.\" % len(embeddings_index))\n",
        "voc = char_vectorizer.get_vocabulary()\n",
        "word_index = dict(zip(voc, range(len(voc))))"
      ],
      "metadata": {
        "colab": {
          "base_uri": "https://localhost:8080/"
        },
        "id": "Snk9l1jPgOCw",
        "outputId": "942b12ab-ea17-4e08-c4fc-94aa4a2a7f96"
      },
      "id": "Snk9l1jPgOCw",
      "execution_count": 74,
      "outputs": [
        {
          "output_type": "stream",
          "name": "stdout",
          "text": [
            "--2023-12-27 13:59:26--  https://downloads.cs.stanford.edu/nlp/data/glove.6B.zip\n",
            "Resolving downloads.cs.stanford.edu (downloads.cs.stanford.edu)... 171.64.64.22\n",
            "Connecting to downloads.cs.stanford.edu (downloads.cs.stanford.edu)|171.64.64.22|:443... connected.\n",
            "HTTP request sent, awaiting response... 200 OK\n",
            "Length: 862182613 (822M) [application/zip]\n",
            "Saving to: ‘glove.6B.zip’\n",
            "\n",
            "glove.6B.zip        100%[===================>] 822.24M  5.00MB/s    in 2m 39s  \n",
            "\n",
            "2023-12-27 14:02:05 (5.18 MB/s) - ‘glove.6B.zip’ saved [862182613/862182613]\n",
            "\n"
          ]
        }
      ]
    },
    {
      "cell_type": "code",
      "source": [
        "num_tokens = len(voc) + 2\n",
        "embedding_dim = 100\n",
        "hits = 0\n",
        "misses = 0\n",
        "\n",
        "# Prepare embedding matrix\n",
        "embedding_matrix = np.zeros((num_tokens, embedding_dim))\n",
        "for word, i in word_index.items():\n",
        "    embedding_vector = embeddings_index.get(word)\n",
        "    if embedding_vector is not None:\n",
        "        # Words not found in embedding index will be all-zeros.\n",
        "        # This includes the representation for \"padding\" and \"OOV\"\n",
        "        embedding_matrix[i] = embedding_vector\n",
        "        hits += 1\n",
        "    else:\n",
        "        misses += 1\n",
        "print(\"Converted %d words (%d misses)\" % (hits, misses))\n",
        "\n",
        "embedding_layer = tf.keras.layers.Embedding(\n",
        "    num_tokens,\n",
        "    embedding_dim,\n",
        "    trainable=False,\n",
        ")\n",
        "embedding_layer.build((1,))\n",
        "embedding_layer.set_weights([embedding_matrix])"
      ],
      "metadata": {
        "colab": {
          "base_uri": "https://localhost:8080/"
        },
        "id": "fYu85DOPmiWl",
        "outputId": "f4bf79fe-5760-4613-f4e2-b5508346ac0c"
      },
      "id": "fYu85DOPmiWl",
      "execution_count": 79,
      "outputs": [
        {
          "output_type": "stream",
          "name": "stdout",
          "text": [
            "Converted 26 words (2 misses)\n"
          ]
        }
      ]
    },
    {
      "cell_type": "code",
      "source": [
        "inputs_exercise = tf.keras.Input(shape=(1,), dtype=tf.string)\n",
        "x = char_vectorizer(inputs_exercise)\n",
        "x = embedding_layer(x)\n",
        "x = tf.keras.layers.Conv1D(filters=128, kernel_size=5)(x)\n",
        "x = tf.keras.layers.GlobalMaxPool1D()(x)\n",
        "outputs_exercise = tf.keras.layers.Dense(5, activation=tf.keras.activations.softmax)(x)\n",
        "\n",
        "model_exercise_2 =tf.keras.Model(inputs_exercise, outputs_exercise)\n",
        "model_exercise_2.compile(loss=tf.keras.losses.CategoricalCrossentropy(),\n",
        "               optimizer=tf.keras.optimizers.Adam(),\n",
        "               metrics=['accuracy'])\n",
        "history_exercise_2 = model_exercise_2.fit(train_char_dataset,\n",
        "                        epochs=5,\n",
        "                        steps_per_epoch=int(0.1*len(train_char_dataset)),\n",
        "                        validation_data=val_char_dataset,\n",
        "                        validation_steps=int(0.1*len(val_char_dataset)))"
      ],
      "metadata": {
        "colab": {
          "base_uri": "https://localhost:8080/"
        },
        "id": "DbeQ7W7NnZIw",
        "outputId": "638dc5e1-a636-43e7-f0e8-3480dceaabeb"
      },
      "id": "DbeQ7W7NnZIw",
      "execution_count": 87,
      "outputs": [
        {
          "output_type": "stream",
          "name": "stdout",
          "text": [
            "Epoch 1/5\n",
            "281/281 [==============================] - 5s 8ms/step - loss: 1.1617 - accuracy: 0.5378 - val_loss: 0.9565 - val_accuracy: 0.6213\n",
            "Epoch 2/5\n",
            "281/281 [==============================] - 3s 9ms/step - loss: 0.9322 - accuracy: 0.6332 - val_loss: 0.8354 - val_accuracy: 0.6848\n",
            "Epoch 3/5\n",
            "281/281 [==============================] - 2s 9ms/step - loss: 0.8811 - accuracy: 0.6566 - val_loss: 0.8033 - val_accuracy: 0.6912\n",
            "Epoch 4/5\n",
            "281/281 [==============================] - 2s 8ms/step - loss: 0.8264 - accuracy: 0.6821 - val_loss: 0.7976 - val_accuracy: 0.6985\n",
            "Epoch 5/5\n",
            "281/281 [==============================] - 2s 7ms/step - loss: 0.8177 - accuracy: 0.6876 - val_loss: 0.7793 - val_accuracy: 0.7128\n"
          ]
        }
      ]
    },
    {
      "cell_type": "code",
      "source": [
        "model_exercise_2_preds = tf.argmax(model_exercise_2.predict(val_char_dataset), axis=1).numpy()\n",
        "model_exercise_2_results = calculate_results(val_labels_encoded, model_exercise_2_preds)\n",
        "model_exercise_2_results"
      ],
      "metadata": {
        "colab": {
          "base_uri": "https://localhost:8080/"
        },
        "id": "kh7g0Y-1n1lw",
        "outputId": "3d5f5e63-4634-4284-a07c-54dabd0697b0"
      },
      "id": "kh7g0Y-1n1lw",
      "execution_count": 88,
      "outputs": [
        {
          "output_type": "stream",
          "name": "stdout",
          "text": [
            "473/473 [==============================] - 2s 3ms/step\n"
          ]
        },
        {
          "output_type": "execute_result",
          "data": {
            "text/plain": [
              "{'accuracy': 70.29326095591156,\n",
              " 'precision': 0.7158900931823837,\n",
              " 'recall': 0.7029326095591156,\n",
              " 'f1': 0.7068186050881288}"
            ]
          },
          "metadata": {},
          "execution_count": 88
        }
      ]
    },
    {
      "cell_type": "code",
      "source": [
        "model_3_results"
      ],
      "metadata": {
        "colab": {
          "base_uri": "https://localhost:8080/"
        },
        "id": "q0sOf7A1ok7b",
        "outputId": "babe227b-4b93-47f9-d27b-a46a257ffbb7"
      },
      "id": "q0sOf7A1ok7b",
      "execution_count": 89,
      "outputs": [
        {
          "output_type": "execute_result",
          "data": {
            "text/plain": [
              "{'accuracy': 69.49556467628757,\n",
              " 'precision': 0.6882767713693776,\n",
              " 'recall': 0.6949556467628757,\n",
              " 'f1': 0.6849532495075631}"
            ]
          },
          "metadata": {},
          "execution_count": 89
        }
      ]
    },
    {
      "cell_type": "code",
      "source": [
        "#3. Try replacing the TensorFlow Hub Universal Sentence Encoder pretrained embedding for the TensorFlow Hub\n",
        "# BERT PubMed expert (a language model pretrained on PubMed texts) pretrained embedding. Does this effect results?\n",
        "# !pip install --quiet tensorflow-text\n",
        "# tf.compat.v1.register_op('CaseFoldUTF8')\n",
        "# preprocess = hub.load('https://kaggle.com/models/tensorflow/bert/frameworks/TensorFlow2/variations/en-uncased-preprocess/versions/3')\n",
        "# bert = hub.load('https://www.kaggle.com/models/google/experts-bert/frameworks/TensorFlow2/variations/pubmed/versions/2')\n",
        "# bert_inputs = preprocess(train_sentences)\n",
        "# bert_outputs = bert(bert_inputs, training=False)\n",
        "# pooled_output = bert_outputs['pooled_output']\n",
        "# sequence_output = bert_outputs['sequence_output']\n",
        "# sequence_outputs"
      ],
      "metadata": {
        "id": "bcGh6QXqondr"
      },
      "id": "bcGh6QXqondr",
      "execution_count": 96,
      "outputs": []
    },
    {
      "cell_type": "code",
      "source": [
        "#4. What happens if you were to merge our line_number and total_lines features for each sequence?\n",
        "# For example, created a X_of_Y feature instead? Does this effect model performance?\n",
        "# train_df_exercise = train_df\n",
        "# train_df_exercise['lines'] = train_df_exercise.line_number.astype(str)+\"_of_\"+train_df_exercise.total_lines.astype(str)\n",
        "\n",
        "# val_df_exercise = val_df\n",
        "# val_df_exercise['lines'] = val_df_exercise.line_number.astype(str)+\"_of_\"+val_df_exercise.total_lines.astype(str)\n",
        "\n",
        "# test_df_exercise = test_df\n",
        "# test_df_exercise['lines'] = test_df_exercise.line_number.astype(str)+\"_of_\"+test_df_exercise.total_lines.astype(str)\n",
        "\n",
        "# train_df_exercise.head()"
      ],
      "metadata": {
        "id": "rCQ3tVx8pwSh"
      },
      "id": "rCQ3tVx8pwSh",
      "execution_count": 122,
      "outputs": []
    },
    {
      "cell_type": "code",
      "source": [
        "#5. Write a function (or series of functions) to take a sample abstract string, preprocess it (in the same way our model has been trained),\n",
        "# make a prediction on each sequence in the abstract and return the abstract\n",
        "sentence=\"Hepatitis C virus (HCV) and alcoholic liver disease (ALD), either alone or in combination, count for more than two thirds of all liver diseases in the Western world. There is no safe level of drinking in HCV-infected patients and the most effective goal for these patients is total abstinence. Baclofen, a GABA(B) receptor agonist, represents a promising pharmacotherapy for alcohol dependence (AD). Previously, we performed a randomized clinical trial (RCT), which demonstrated the safety and efficacy of baclofen in patients affected by AD and cirrhosis. The goal of this post-hoc analysis was to explore baclofen's effect in a subgroup of alcohol-dependent HCV-infected cirrhotic patients. Any patient with HCV infection was selected for this analysis. Among the 84 subjects randomized in the main trial, 24 alcohol-dependent cirrhotic patients had a HCV infection; 12 received baclofen 10mg t.i.d. and 12 received placebo for 12-weeks. With respect to the placebo group (3/12, 25.0%), a significantly higher number of patients who achieved and maintained total alcohol abstinence was found in the baclofen group (10/12, 83.3%; p=0.0123). Furthermore, in the baclofen group, compared to placebo, there was a significantly higher increase in albumin values from baseline (p=0.0132) and a trend toward a significant reduction in INR levels from baseline (p=0.0716). In conclusion, baclofen was safe and significantly more effective than placebo in promoting alcohol abstinence, and improving some Liver Function Tests (LFTs) (i.e. albumin, INR) in alcohol-dependent HCV-infected cirrhotic patients. Baclofen may represent a clinically relevant alcohol pharmacotherapy for these patients.\"\n",
        "sentence = sentence.strip().split(\". \")\n",
        "char_test = [split_chars(line) for line in sentence]\n",
        "line_number_test = [i for i in range(len(sentence))]\n",
        "total_lines_test = len(sentence)\n",
        "test_df_exercise = pd.DataFrame({\"text\":sentence,\n",
        "                                 \"line_number\":line_number_test,\n",
        "                                 \"total_lines\":total_lines_test})\n",
        "test_df_exercise"
      ],
      "metadata": {
        "colab": {
          "base_uri": "https://localhost:8080/",
          "height": 452
        },
        "id": "MBbpKAajwT80",
        "outputId": "bf738a97-c03c-494f-e247-9a81e95fe146"
      },
      "id": "MBbpKAajwT80",
      "execution_count": 133,
      "outputs": [
        {
          "output_type": "execute_result",
          "data": {
            "text/plain": [
              "                                                 text  line_number  \\\n",
              "0   Hepatitis C virus (HCV) and alcoholic liver di...            0   \n",
              "1   There is no safe level of drinking in HCV-infe...            1   \n",
              "2   Baclofen, a GABA(B) receptor agonist, represen...            2   \n",
              "3   Previously, we performed a randomized clinical...            3   \n",
              "4   The goal of this post-hoc analysis was to expl...            4   \n",
              "5   Any patient with HCV infection was selected fo...            5   \n",
              "6   Among the 84 subjects randomized in the main t...            6   \n",
              "7                and 12 received placebo for 12-weeks            7   \n",
              "8   With respect to the placebo group (3/12, 25.0%...            8   \n",
              "9   Furthermore, in the baclofen group, compared t...            9   \n",
              "10  In conclusion, baclofen was safe and significa...           10   \n",
              "11  albumin, INR) in alcohol-dependent HCV-infecte...           11   \n",
              "12  Baclofen may represent a clinically relevant a...           12   \n",
              "\n",
              "    total_lines  \n",
              "0            13  \n",
              "1            13  \n",
              "2            13  \n",
              "3            13  \n",
              "4            13  \n",
              "5            13  \n",
              "6            13  \n",
              "7            13  \n",
              "8            13  \n",
              "9            13  \n",
              "10           13  \n",
              "11           13  \n",
              "12           13  "
            ],
            "text/html": [
              "\n",
              "  <div id=\"df-641c736c-2679-4cd0-bc79-7ec4a5b08145\" class=\"colab-df-container\">\n",
              "    <div>\n",
              "<style scoped>\n",
              "    .dataframe tbody tr th:only-of-type {\n",
              "        vertical-align: middle;\n",
              "    }\n",
              "\n",
              "    .dataframe tbody tr th {\n",
              "        vertical-align: top;\n",
              "    }\n",
              "\n",
              "    .dataframe thead th {\n",
              "        text-align: right;\n",
              "    }\n",
              "</style>\n",
              "<table border=\"1\" class=\"dataframe\">\n",
              "  <thead>\n",
              "    <tr style=\"text-align: right;\">\n",
              "      <th></th>\n",
              "      <th>text</th>\n",
              "      <th>line_number</th>\n",
              "      <th>total_lines</th>\n",
              "    </tr>\n",
              "  </thead>\n",
              "  <tbody>\n",
              "    <tr>\n",
              "      <th>0</th>\n",
              "      <td>Hepatitis C virus (HCV) and alcoholic liver di...</td>\n",
              "      <td>0</td>\n",
              "      <td>13</td>\n",
              "    </tr>\n",
              "    <tr>\n",
              "      <th>1</th>\n",
              "      <td>There is no safe level of drinking in HCV-infe...</td>\n",
              "      <td>1</td>\n",
              "      <td>13</td>\n",
              "    </tr>\n",
              "    <tr>\n",
              "      <th>2</th>\n",
              "      <td>Baclofen, a GABA(B) receptor agonist, represen...</td>\n",
              "      <td>2</td>\n",
              "      <td>13</td>\n",
              "    </tr>\n",
              "    <tr>\n",
              "      <th>3</th>\n",
              "      <td>Previously, we performed a randomized clinical...</td>\n",
              "      <td>3</td>\n",
              "      <td>13</td>\n",
              "    </tr>\n",
              "    <tr>\n",
              "      <th>4</th>\n",
              "      <td>The goal of this post-hoc analysis was to expl...</td>\n",
              "      <td>4</td>\n",
              "      <td>13</td>\n",
              "    </tr>\n",
              "    <tr>\n",
              "      <th>5</th>\n",
              "      <td>Any patient with HCV infection was selected fo...</td>\n",
              "      <td>5</td>\n",
              "      <td>13</td>\n",
              "    </tr>\n",
              "    <tr>\n",
              "      <th>6</th>\n",
              "      <td>Among the 84 subjects randomized in the main t...</td>\n",
              "      <td>6</td>\n",
              "      <td>13</td>\n",
              "    </tr>\n",
              "    <tr>\n",
              "      <th>7</th>\n",
              "      <td>and 12 received placebo for 12-weeks</td>\n",
              "      <td>7</td>\n",
              "      <td>13</td>\n",
              "    </tr>\n",
              "    <tr>\n",
              "      <th>8</th>\n",
              "      <td>With respect to the placebo group (3/12, 25.0%...</td>\n",
              "      <td>8</td>\n",
              "      <td>13</td>\n",
              "    </tr>\n",
              "    <tr>\n",
              "      <th>9</th>\n",
              "      <td>Furthermore, in the baclofen group, compared t...</td>\n",
              "      <td>9</td>\n",
              "      <td>13</td>\n",
              "    </tr>\n",
              "    <tr>\n",
              "      <th>10</th>\n",
              "      <td>In conclusion, baclofen was safe and significa...</td>\n",
              "      <td>10</td>\n",
              "      <td>13</td>\n",
              "    </tr>\n",
              "    <tr>\n",
              "      <th>11</th>\n",
              "      <td>albumin, INR) in alcohol-dependent HCV-infecte...</td>\n",
              "      <td>11</td>\n",
              "      <td>13</td>\n",
              "    </tr>\n",
              "    <tr>\n",
              "      <th>12</th>\n",
              "      <td>Baclofen may represent a clinically relevant a...</td>\n",
              "      <td>12</td>\n",
              "      <td>13</td>\n",
              "    </tr>\n",
              "  </tbody>\n",
              "</table>\n",
              "</div>\n",
              "    <div class=\"colab-df-buttons\">\n",
              "\n",
              "  <div class=\"colab-df-container\">\n",
              "    <button class=\"colab-df-convert\" onclick=\"convertToInteractive('df-641c736c-2679-4cd0-bc79-7ec4a5b08145')\"\n",
              "            title=\"Convert this dataframe to an interactive table.\"\n",
              "            style=\"display:none;\">\n",
              "\n",
              "  <svg xmlns=\"http://www.w3.org/2000/svg\" height=\"24px\" viewBox=\"0 -960 960 960\">\n",
              "    <path d=\"M120-120v-720h720v720H120Zm60-500h600v-160H180v160Zm220 220h160v-160H400v160Zm0 220h160v-160H400v160ZM180-400h160v-160H180v160Zm440 0h160v-160H620v160ZM180-180h160v-160H180v160Zm440 0h160v-160H620v160Z\"/>\n",
              "  </svg>\n",
              "    </button>\n",
              "\n",
              "  <style>\n",
              "    .colab-df-container {\n",
              "      display:flex;\n",
              "      gap: 12px;\n",
              "    }\n",
              "\n",
              "    .colab-df-convert {\n",
              "      background-color: #E8F0FE;\n",
              "      border: none;\n",
              "      border-radius: 50%;\n",
              "      cursor: pointer;\n",
              "      display: none;\n",
              "      fill: #1967D2;\n",
              "      height: 32px;\n",
              "      padding: 0 0 0 0;\n",
              "      width: 32px;\n",
              "    }\n",
              "\n",
              "    .colab-df-convert:hover {\n",
              "      background-color: #E2EBFA;\n",
              "      box-shadow: 0px 1px 2px rgba(60, 64, 67, 0.3), 0px 1px 3px 1px rgba(60, 64, 67, 0.15);\n",
              "      fill: #174EA6;\n",
              "    }\n",
              "\n",
              "    .colab-df-buttons div {\n",
              "      margin-bottom: 4px;\n",
              "    }\n",
              "\n",
              "    [theme=dark] .colab-df-convert {\n",
              "      background-color: #3B4455;\n",
              "      fill: #D2E3FC;\n",
              "    }\n",
              "\n",
              "    [theme=dark] .colab-df-convert:hover {\n",
              "      background-color: #434B5C;\n",
              "      box-shadow: 0px 1px 3px 1px rgba(0, 0, 0, 0.15);\n",
              "      filter: drop-shadow(0px 1px 2px rgba(0, 0, 0, 0.3));\n",
              "      fill: #FFFFFF;\n",
              "    }\n",
              "  </style>\n",
              "\n",
              "    <script>\n",
              "      const buttonEl =\n",
              "        document.querySelector('#df-641c736c-2679-4cd0-bc79-7ec4a5b08145 button.colab-df-convert');\n",
              "      buttonEl.style.display =\n",
              "        google.colab.kernel.accessAllowed ? 'block' : 'none';\n",
              "\n",
              "      async function convertToInteractive(key) {\n",
              "        const element = document.querySelector('#df-641c736c-2679-4cd0-bc79-7ec4a5b08145');\n",
              "        const dataTable =\n",
              "          await google.colab.kernel.invokeFunction('convertToInteractive',\n",
              "                                                    [key], {});\n",
              "        if (!dataTable) return;\n",
              "\n",
              "        const docLinkHtml = 'Like what you see? Visit the ' +\n",
              "          '<a target=\"_blank\" href=https://colab.research.google.com/notebooks/data_table.ipynb>data table notebook</a>'\n",
              "          + ' to learn more about interactive tables.';\n",
              "        element.innerHTML = '';\n",
              "        dataTable['output_type'] = 'display_data';\n",
              "        await google.colab.output.renderOutput(dataTable, element);\n",
              "        const docLink = document.createElement('div');\n",
              "        docLink.innerHTML = docLinkHtml;\n",
              "        element.appendChild(docLink);\n",
              "      }\n",
              "    </script>\n",
              "  </div>\n",
              "\n",
              "\n",
              "<div id=\"df-3cee0fc6-b8f7-486f-963d-23c65189f305\">\n",
              "  <button class=\"colab-df-quickchart\" onclick=\"quickchart('df-3cee0fc6-b8f7-486f-963d-23c65189f305')\"\n",
              "            title=\"Suggest charts\"\n",
              "            style=\"display:none;\">\n",
              "\n",
              "<svg xmlns=\"http://www.w3.org/2000/svg\" height=\"24px\"viewBox=\"0 0 24 24\"\n",
              "     width=\"24px\">\n",
              "    <g>\n",
              "        <path d=\"M19 3H5c-1.1 0-2 .9-2 2v14c0 1.1.9 2 2 2h14c1.1 0 2-.9 2-2V5c0-1.1-.9-2-2-2zM9 17H7v-7h2v7zm4 0h-2V7h2v10zm4 0h-2v-4h2v4z\"/>\n",
              "    </g>\n",
              "</svg>\n",
              "  </button>\n",
              "\n",
              "<style>\n",
              "  .colab-df-quickchart {\n",
              "      --bg-color: #E8F0FE;\n",
              "      --fill-color: #1967D2;\n",
              "      --hover-bg-color: #E2EBFA;\n",
              "      --hover-fill-color: #174EA6;\n",
              "      --disabled-fill-color: #AAA;\n",
              "      --disabled-bg-color: #DDD;\n",
              "  }\n",
              "\n",
              "  [theme=dark] .colab-df-quickchart {\n",
              "      --bg-color: #3B4455;\n",
              "      --fill-color: #D2E3FC;\n",
              "      --hover-bg-color: #434B5C;\n",
              "      --hover-fill-color: #FFFFFF;\n",
              "      --disabled-bg-color: #3B4455;\n",
              "      --disabled-fill-color: #666;\n",
              "  }\n",
              "\n",
              "  .colab-df-quickchart {\n",
              "    background-color: var(--bg-color);\n",
              "    border: none;\n",
              "    border-radius: 50%;\n",
              "    cursor: pointer;\n",
              "    display: none;\n",
              "    fill: var(--fill-color);\n",
              "    height: 32px;\n",
              "    padding: 0;\n",
              "    width: 32px;\n",
              "  }\n",
              "\n",
              "  .colab-df-quickchart:hover {\n",
              "    background-color: var(--hover-bg-color);\n",
              "    box-shadow: 0 1px 2px rgba(60, 64, 67, 0.3), 0 1px 3px 1px rgba(60, 64, 67, 0.15);\n",
              "    fill: var(--button-hover-fill-color);\n",
              "  }\n",
              "\n",
              "  .colab-df-quickchart-complete:disabled,\n",
              "  .colab-df-quickchart-complete:disabled:hover {\n",
              "    background-color: var(--disabled-bg-color);\n",
              "    fill: var(--disabled-fill-color);\n",
              "    box-shadow: none;\n",
              "  }\n",
              "\n",
              "  .colab-df-spinner {\n",
              "    border: 2px solid var(--fill-color);\n",
              "    border-color: transparent;\n",
              "    border-bottom-color: var(--fill-color);\n",
              "    animation:\n",
              "      spin 1s steps(1) infinite;\n",
              "  }\n",
              "\n",
              "  @keyframes spin {\n",
              "    0% {\n",
              "      border-color: transparent;\n",
              "      border-bottom-color: var(--fill-color);\n",
              "      border-left-color: var(--fill-color);\n",
              "    }\n",
              "    20% {\n",
              "      border-color: transparent;\n",
              "      border-left-color: var(--fill-color);\n",
              "      border-top-color: var(--fill-color);\n",
              "    }\n",
              "    30% {\n",
              "      border-color: transparent;\n",
              "      border-left-color: var(--fill-color);\n",
              "      border-top-color: var(--fill-color);\n",
              "      border-right-color: var(--fill-color);\n",
              "    }\n",
              "    40% {\n",
              "      border-color: transparent;\n",
              "      border-right-color: var(--fill-color);\n",
              "      border-top-color: var(--fill-color);\n",
              "    }\n",
              "    60% {\n",
              "      border-color: transparent;\n",
              "      border-right-color: var(--fill-color);\n",
              "    }\n",
              "    80% {\n",
              "      border-color: transparent;\n",
              "      border-right-color: var(--fill-color);\n",
              "      border-bottom-color: var(--fill-color);\n",
              "    }\n",
              "    90% {\n",
              "      border-color: transparent;\n",
              "      border-bottom-color: var(--fill-color);\n",
              "    }\n",
              "  }\n",
              "</style>\n",
              "\n",
              "  <script>\n",
              "    async function quickchart(key) {\n",
              "      const quickchartButtonEl =\n",
              "        document.querySelector('#' + key + ' button');\n",
              "      quickchartButtonEl.disabled = true;  // To prevent multiple clicks.\n",
              "      quickchartButtonEl.classList.add('colab-df-spinner');\n",
              "      try {\n",
              "        const charts = await google.colab.kernel.invokeFunction(\n",
              "            'suggestCharts', [key], {});\n",
              "      } catch (error) {\n",
              "        console.error('Error during call to suggestCharts:', error);\n",
              "      }\n",
              "      quickchartButtonEl.classList.remove('colab-df-spinner');\n",
              "      quickchartButtonEl.classList.add('colab-df-quickchart-complete');\n",
              "    }\n",
              "    (() => {\n",
              "      let quickchartButtonEl =\n",
              "        document.querySelector('#df-3cee0fc6-b8f7-486f-963d-23c65189f305 button');\n",
              "      quickchartButtonEl.style.display =\n",
              "        google.colab.kernel.accessAllowed ? 'block' : 'none';\n",
              "    })();\n",
              "  </script>\n",
              "</div>\n",
              "\n",
              "  <div id=\"id_46187ead-6f4d-4ad0-b6d5-d2dfa8a4f740\">\n",
              "    <style>\n",
              "      .colab-df-generate {\n",
              "        background-color: #E8F0FE;\n",
              "        border: none;\n",
              "        border-radius: 50%;\n",
              "        cursor: pointer;\n",
              "        display: none;\n",
              "        fill: #1967D2;\n",
              "        height: 32px;\n",
              "        padding: 0 0 0 0;\n",
              "        width: 32px;\n",
              "      }\n",
              "\n",
              "      .colab-df-generate:hover {\n",
              "        background-color: #E2EBFA;\n",
              "        box-shadow: 0px 1px 2px rgba(60, 64, 67, 0.3), 0px 1px 3px 1px rgba(60, 64, 67, 0.15);\n",
              "        fill: #174EA6;\n",
              "      }\n",
              "\n",
              "      [theme=dark] .colab-df-generate {\n",
              "        background-color: #3B4455;\n",
              "        fill: #D2E3FC;\n",
              "      }\n",
              "\n",
              "      [theme=dark] .colab-df-generate:hover {\n",
              "        background-color: #434B5C;\n",
              "        box-shadow: 0px 1px 3px 1px rgba(0, 0, 0, 0.15);\n",
              "        filter: drop-shadow(0px 1px 2px rgba(0, 0, 0, 0.3));\n",
              "        fill: #FFFFFF;\n",
              "      }\n",
              "    </style>\n",
              "    <button class=\"colab-df-generate\" onclick=\"generateWithVariable('test_df_exercise')\"\n",
              "            title=\"Generate code using this dataframe.\"\n",
              "            style=\"display:none;\">\n",
              "\n",
              "  <svg xmlns=\"http://www.w3.org/2000/svg\" height=\"24px\"viewBox=\"0 0 24 24\"\n",
              "       width=\"24px\">\n",
              "    <path d=\"M7,19H8.4L18.45,9,17,7.55,7,17.6ZM5,21V16.75L18.45,3.32a2,2,0,0,1,2.83,0l1.4,1.43a1.91,1.91,0,0,1,.58,1.4,1.91,1.91,0,0,1-.58,1.4L9.25,21ZM18.45,9,17,7.55Zm-12,3A5.31,5.31,0,0,0,4.9,8.1,5.31,5.31,0,0,0,1,6.5,5.31,5.31,0,0,0,4.9,4.9,5.31,5.31,0,0,0,6.5,1,5.31,5.31,0,0,0,8.1,4.9,5.31,5.31,0,0,0,12,6.5,5.46,5.46,0,0,0,6.5,12Z\"/>\n",
              "  </svg>\n",
              "    </button>\n",
              "    <script>\n",
              "      (() => {\n",
              "      const buttonEl =\n",
              "        document.querySelector('#id_46187ead-6f4d-4ad0-b6d5-d2dfa8a4f740 button.colab-df-generate');\n",
              "      buttonEl.style.display =\n",
              "        google.colab.kernel.accessAllowed ? 'block' : 'none';\n",
              "\n",
              "      buttonEl.onclick = () => {\n",
              "        google.colab.notebook.generateWithVariable('test_df_exercise');\n",
              "      }\n",
              "      })();\n",
              "    </script>\n",
              "  </div>\n",
              "\n",
              "    </div>\n",
              "  </div>\n"
            ]
          },
          "metadata": {},
          "execution_count": 133
        }
      ]
    },
    {
      "cell_type": "code",
      "source": [
        "val_all_dataset"
      ],
      "metadata": {
        "colab": {
          "base_uri": "https://localhost:8080/"
        },
        "id": "Xx0Qd8d8zAGO",
        "outputId": "820733ae-733e-41af-9bfe-34ff4720b16c"
      },
      "id": "Xx0Qd8d8zAGO",
      "execution_count": 135,
      "outputs": [
        {
          "output_type": "execute_result",
          "data": {
            "text/plain": [
              "<_PrefetchDataset element_spec=((TensorSpec(shape=(None, 15), dtype=tf.float32, name=None), TensorSpec(shape=(None, 20), dtype=tf.float32, name=None), TensorSpec(shape=(None,), dtype=tf.string, name=None), TensorSpec(shape=(None,), dtype=tf.string, name=None)), TensorSpec(shape=(None, 5), dtype=tf.float64, name=None))>"
            ]
          },
          "metadata": {},
          "execution_count": 135
        }
      ]
    },
    {
      "cell_type": "code",
      "source": [
        "test_sentences=test_df_exercise.text\n",
        "test_line_number=test_df_exercise.line_number\n",
        "test_total_lines=test_df_exercise.total_lines\n",
        "\n",
        "test_chars = [split_chars(sentence) for sentence in test_sentences]"
      ],
      "metadata": {
        "id": "kAtnPwxtwmM3"
      },
      "id": "kAtnPwxtwmM3",
      "execution_count": 169,
      "outputs": []
    },
    {
      "cell_type": "code",
      "source": [
        "test_total_lines_one_hot = tf.one_hot(test_df_exercise.total_lines.to_numpy(), depth=14)\n",
        "test_line_numbers_one_hot = tf.one_hot(test_df_exercise.line_number.to_numpy(), depth=13)"
      ],
      "metadata": {
        "id": "aTG5C6OXzplq"
      },
      "id": "aTG5C6OXzplq",
      "execution_count": 170,
      "outputs": []
    },
    {
      "cell_type": "code",
      "source": [
        "test_all_dataset_exercise = tf.data.Dataset.from_tensor_slices((test_line_numbers_one_hot, test_total_lines_one_hot, test_sentences, test_chars))\n",
        "test_all_dataset_exercise"
      ],
      "metadata": {
        "colab": {
          "base_uri": "https://localhost:8080/"
        },
        "id": "KcdWj7NL0R1H",
        "outputId": "c2e32adf-eee1-4933-9805-1cd36381405c"
      },
      "id": "KcdWj7NL0R1H",
      "execution_count": 171,
      "outputs": [
        {
          "output_type": "execute_result",
          "data": {
            "text/plain": [
              "<_TensorSliceDataset element_spec=(TensorSpec(shape=(13,), dtype=tf.float32, name=None), TensorSpec(shape=(14,), dtype=tf.float32, name=None), TensorSpec(shape=(), dtype=tf.string, name=None), TensorSpec(shape=(), dtype=tf.string, name=None))>"
            ]
          },
          "metadata": {},
          "execution_count": 171
        }
      ]
    },
    {
      "cell_type": "code",
      "source": [
        "# model_5.predict(test_all_dataset_exercise)"
      ],
      "metadata": {
        "id": "zKyQG7J313QY"
      },
      "id": "zKyQG7J313QY",
      "execution_count": 1,
      "outputs": []
    },
    {
      "cell_type": "code",
      "source": [],
      "metadata": {
        "id": "EjdHVT0b2MGa"
      },
      "id": "EjdHVT0b2MGa",
      "execution_count": null,
      "outputs": []
    }
  ],
  "metadata": {
    "kernelspec": {
      "display_name": "Python 3",
      "name": "python3"
    },
    "language_info": {
      "codemirror_mode": {
        "name": "ipython",
        "version": 3
      },
      "file_extension": ".py",
      "mimetype": "text/x-python",
      "name": "python",
      "nbconvert_exporter": "python",
      "pygments_lexer": "ipython3",
      "version": "3.9.18"
    },
    "colab": {
      "provenance": [],
      "gpuType": "T4"
    },
    "accelerator": "GPU"
  },
  "nbformat": 4,
  "nbformat_minor": 5
}