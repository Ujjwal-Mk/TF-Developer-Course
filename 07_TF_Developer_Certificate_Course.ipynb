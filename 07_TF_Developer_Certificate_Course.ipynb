{
 "cells": [
  {
   "cell_type": "markdown",
   "metadata": {
    "id": "96dbRWBv9kVu"
   },
   "source": [
    "# Milestone Project 1 : Food Vision Big(TM)"
   ]
  },
  {
   "cell_type": "code",
   "execution_count": 1,
   "metadata": {
    "colab": {
     "base_uri": "https://localhost:8080/"
    },
    "executionInfo": {
     "elapsed": 2438,
     "status": "ok",
     "timestamp": 1688437868868,
     "user": {
      "displayName": "ML TF",
      "userId": "03314444562734337696"
     },
     "user_tz": -330
    },
    "id": "mNTGzEJPLtqw",
    "outputId": "ab0fa1a5-2257-4647-b897-6e6cd54048b1"
   },
   "outputs": [
    {
     "name": "stdout",
     "output_type": "stream",
     "text": [
      "WARNING:tensorflow:From /home/ujjwal/miniconda3/envs/tf-nightly/lib/python3.9/site-packages/tensorflow/python/ops/distributions/distribution.py:259: ReparameterizationType.__init__ (from tensorflow.python.ops.distributions.distribution) is deprecated and will be removed after 2019-01-01.\n",
      "Instructions for updating:\n",
      "The TensorFlow Distributions library has moved to TensorFlow Probability (https://github.com/tensorflow/probability). You should update all references to use `tfp.distributions` instead of `tf.distributions`.\n",
      "WARNING:tensorflow:From /home/ujjwal/miniconda3/envs/tf-nightly/lib/python3.9/site-packages/tensorflow/python/ops/distributions/bernoulli.py:165: RegisterKL.__init__ (from tensorflow.python.ops.distributions.kullback_leibler) is deprecated and will be removed after 2019-01-01.\n",
      "Instructions for updating:\n",
      "The TensorFlow Distributions library has moved to TensorFlow Probability (https://github.com/tensorflow/probability). You should update all references to use `tfp.distributions` instead of `tf.distributions`.\n",
      "2.14.0-dev20230730\n",
      "INFO:tensorflow:Mixed precision compatibility check (mixed_float16): OK\n",
      "Your GPU will likely run quickly with dtype policy mixed_float16 as it has compute capability of at least 7.0. Your GPU: NVIDIA GeForce RTX 3050 Laptop GPU, compute capability 8.6\n"
     ]
    }
   ],
   "source": [
    "import os\n",
    "os.environ[\"TF_CPP_MIN_LOG_LEVEL\"]='3'\n",
    "import tensorflow as tf\n",
    "# if tf.__version__ != \"2.9.0\":\n",
    "#   !pip install -U -q tensorflow==2.9.0\n",
    "#   !pip install -q tensorflow_datasets==4.8.2\n",
    "#   !pip install -q protobuf==3.19.6\n",
    "#   !pip install -q tensorflow_metadata==1.12.0\n",
    "#   # import os\n",
    "#   # os._exit(00)\n",
    "print(tf.__version__)\n",
    "from tensorflow.keras import mixed_precision\n",
    "physical_devices = tf.config.list_physical_devices('GPU')\n",
    "tf.config.experimental.set_memory_growth(physical_devices[0], True)\n",
    "mixed_precision.set_global_policy('mixed_float16')"
   ]
  },
  {
   "cell_type": "code",
   "execution_count": 2,
   "metadata": {},
   "outputs": [],
   "source": [
    "gpu=tf.config.experimental.list_physical_devices(\"GPU\")\n",
    "tf.config.experimental.set_memory_growth(gpu[0],True)"
   ]
  },
  {
   "cell_type": "code",
   "execution_count": 3,
   "metadata": {
    "colab": {
     "base_uri": "https://localhost:8080/"
    },
    "executionInfo": {
     "elapsed": 1298,
     "status": "ok",
     "timestamp": 1688437872907,
     "user": {
      "displayName": "ML TF",
      "userId": "03314444562734337696"
     },
     "user_tz": -330
    },
    "id": "bGmW_COhL5IT",
    "outputId": "f455fcb4-6b4b-4ef4-8dee-58d65a1b6674"
   },
   "outputs": [
    {
     "name": "stdout",
     "output_type": "stream",
     "text": [
      "[INFO] 'helper_functions.py' already exists, skipping download.\n"
     ]
    }
   ],
   "source": [
    "import os\n",
    "\n",
    "if not os.path.exists(\"helper_functions.py\"):\n",
    "  !wget https://raw.githubusercontent.com/mrdbourke/tensorflow-deep-learning/main/extras/helper_functions.py\n",
    "else:\n",
    "  print(\"[INFO] 'helper_functions.py' already exists, skipping download.\")\n",
    "\n",
    "# Import series of helper functions for the notebook (we've created/used these in previous notebooks)\n",
    "from helper_functions import create_tensorboard_callback, plot_loss_curves, compare_historys"
   ]
  },
  {
   "cell_type": "code",
   "execution_count": 4,
   "metadata": {
    "colab": {
     "base_uri": "https://localhost:8080/"
    },
    "executionInfo": {
     "elapsed": 6,
     "status": "ok",
     "timestamp": 1688437874936,
     "user": {
      "displayName": "ML TF",
      "userId": "03314444562734337696"
     },
     "user_tz": -330
    },
    "id": "ezS8tSlPAE9y",
    "outputId": "3d36a09c-7378-4729-ead9-6a5c02d7cf24"
   },
   "outputs": [
    {
     "name": "stdout",
     "output_type": "stream",
     "text": [
      "/bin/bash: /home/ujjwal/miniconda3/envs/tf-nightly/lib/libtinfo.so.6: no version information available (required by /bin/bash)\n",
      "Mon Dec  4 01:38:40 2023       \n",
      "+---------------------------------------------------------------------------------------+\n",
      "| NVIDIA-SMI 535.129.03             Driver Version: 535.129.03   CUDA Version: 12.2     |\n",
      "|-----------------------------------------+----------------------+----------------------+\n",
      "| GPU  Name                 Persistence-M | Bus-Id        Disp.A | Volatile Uncorr. ECC |\n",
      "| Fan  Temp   Perf          Pwr:Usage/Cap |         Memory-Usage | GPU-Util  Compute M. |\n",
      "|                                         |                      |               MIG M. |\n",
      "|=========================================+======================+======================|\n",
      "|   0  NVIDIA GeForce RTX 3050 ...    On  | 00000000:01:00.0 Off |                  N/A |\n",
      "| N/A   60C    P0              15W /  60W |    717MiB /  4096MiB |      0%      Default |\n",
      "|                                         |                      |                  N/A |\n",
      "+-----------------------------------------+----------------------+----------------------+\n",
      "                                                                                         \n",
      "+---------------------------------------------------------------------------------------+\n",
      "| Processes:                                                                            |\n",
      "|  GPU   GI   CI        PID   Type   Process name                            GPU Memory |\n",
      "|        ID   ID                                                             Usage      |\n",
      "|=======================================================================================|\n",
      "|    0   N/A  N/A      1128      G   /usr/lib/xorg/Xorg                            4MiB |\n",
      "|    0   N/A  N/A    137843      C   ...niconda3/envs/tf-nightly/bin/python      704MiB |\n",
      "+---------------------------------------------------------------------------------------+\n"
     ]
    }
   ],
   "source": [
    "! nvidia-smi"
   ]
  },
  {
   "cell_type": "code",
   "execution_count": 5,
   "metadata": {
    "colab": {
     "base_uri": "https://localhost:8080/"
    },
    "executionInfo": {
     "elapsed": 4,
     "status": "ok",
     "timestamp": 1688437875749,
     "user": {
      "displayName": "ML TF",
      "userId": "03314444562734337696"
     },
     "user_tz": -330
    },
    "id": "2gwyNh_PPYBU",
    "outputId": "a475b856-c763-40a8-8cd1-2b97f9327e56"
   },
   "outputs": [
    {
     "name": "stdout",
     "output_type": "stream",
     "text": [
      "/bin/bash: /home/ujjwal/miniconda3/envs/tf-nightly/lib/libtinfo.so.6: no version information available (required by /bin/bash)\n",
      "GPU 0: NVIDIA GeForce RTX 3050 Laptop GPU (UUID: GPU-dfaf2dbb-aec7-1a43-9749-df5dc8fdb316)\n"
     ]
    }
   ],
   "source": [
    "! nvidia-smi -L"
   ]
  },
  {
   "cell_type": "markdown",
   "metadata": {
    "id": "X0_klKKlzuZT"
   },
   "source": [
    "# Use Tensorflow Datasets"
   ]
  },
  {
   "cell_type": "code",
   "execution_count": 6,
   "metadata": {
    "colab": {
     "base_uri": "https://localhost:8080/"
    },
    "executionInfo": {
     "elapsed": 4910,
     "status": "ok",
     "timestamp": 1688437881813,
     "user": {
      "displayName": "ML TF",
      "userId": "03314444562734337696"
     },
     "user_tz": -330
    },
    "id": "a71VAGzHrkkl",
    "outputId": "93d7f9f2-48e1-4741-8a40-f531ad9b8b36"
   },
   "outputs": [
    {
     "name": "stdout",
     "output_type": "stream",
     "text": [
      "True\n"
     ]
    }
   ],
   "source": [
    "import tensorflow_datasets as tdfs\n",
    "dataset_list = tdfs.list_builders()\n",
    "print(\"food101\" in dataset_list)"
   ]
  },
  {
   "cell_type": "code",
   "execution_count": 7,
   "metadata": {
    "id": "zmPiUuoiz9zG"
   },
   "outputs": [],
   "source": [
    "# Load the data\n",
    "(train_data,test_data), ds_info = tdfs.load(name=\"food101\",\n",
    "                                            split=[\"train\",\"validation\"],\n",
    "                                            shuffle_files=True,\n",
    "                                            as_supervised=True,\n",
    "                                            with_info=True)"
   ]
  },
  {
   "cell_type": "code",
   "execution_count": 8,
   "metadata": {
    "colab": {
     "base_uri": "https://localhost:8080/"
    },
    "executionInfo": {
     "elapsed": 37,
     "status": "ok",
     "timestamp": 1688438489877,
     "user": {
      "displayName": "ML TF",
      "userId": "03314444562734337696"
     },
     "user_tz": -330
    },
    "id": "m_-9Ud4KZGOy",
    "outputId": "7c38052e-c6f1-48b5-802d-4a604db39db9"
   },
   "outputs": [
    {
     "data": {
      "text/plain": [
       "['apple_pie',\n",
       " 'baby_back_ribs',\n",
       " 'baklava',\n",
       " 'beef_carpaccio',\n",
       " 'beef_tartare',\n",
       " 'beet_salad',\n",
       " 'beignets',\n",
       " 'bibimbap',\n",
       " 'bread_pudding',\n",
       " 'breakfast_burrito']"
      ]
     },
     "execution_count": 8,
     "metadata": {},
     "output_type": "execute_result"
    }
   ],
   "source": [
    "class_names = ds_info.features[\"label\"].names\n",
    "class_names[:10]"
   ]
  },
  {
   "cell_type": "code",
   "execution_count": 9,
   "metadata": {
    "colab": {
     "base_uri": "https://localhost:8080/"
    },
    "executionInfo": {
     "elapsed": 18,
     "status": "ok",
     "timestamp": 1688438489877,
     "user": {
      "displayName": "ML TF",
      "userId": "03314444562734337696"
     },
     "user_tz": -330
    },
    "id": "ruXri_MFY_iU",
    "outputId": "d237fe26-7e08-4f07-fab9-2462b7df855a"
   },
   "outputs": [
    {
     "data": {
      "text/plain": [
       "FeaturesDict({\n",
       "    'image': Image(shape=(None, None, 3), dtype=uint8),\n",
       "    'label': ClassLabel(shape=(), dtype=int64, num_classes=101),\n",
       "})"
      ]
     },
     "execution_count": 9,
     "metadata": {},
     "output_type": "execute_result"
    }
   ],
   "source": [
    "# Features in Food101 from tfds\n",
    "ds_info.features"
   ]
  },
  {
   "cell_type": "code",
   "execution_count": 10,
   "metadata": {
    "id": "V4lrUU7aahHK"
   },
   "outputs": [],
   "source": [
    "# take one sample of train_data\n",
    "train_one_sample = train_data.take(1)"
   ]
  },
  {
   "cell_type": "markdown",
   "metadata": {
    "id": "hdr7AH1ga9xc"
   },
   "source": [
    "# Exploring the Food101 data from TensorFlow Datasets\n",
    "Now we've downloaded the Food101 dataset from TensorFlow Datasets, how about we do what any good data explorer should?\n",
    "\n",
    "In other words, \"visualize, visualize, visualize\".\n",
    "\n",
    "Let's find out a few details about our dataset:\n",
    "\n",
    "* The shape of our input data (image tensors)\n",
    "* The datatype of our input data\n",
    "* What the labels of our input data look like (e.g. one-hot encoded versus label-encoded)\n",
    "* Do the labels match up with the class names?\n",
    "\n",
    "To do, let's take one sample off the training data (using the .take() method) and explore it."
   ]
  },
  {
   "cell_type": "code",
   "execution_count": 11,
   "metadata": {
    "colab": {
     "base_uri": "https://localhost:8080/"
    },
    "executionInfo": {
     "elapsed": 17,
     "status": "ok",
     "timestamp": 1688438489878,
     "user": {
      "displayName": "ML TF",
      "userId": "03314444562734337696"
     },
     "user_tz": -330
    },
    "id": "YJ_D-JM-bO1i",
    "outputId": "77e1a8c9-2d4e-42d6-9f11-14abb6992adc"
   },
   "outputs": [
    {
     "data": {
      "text/plain": [
       "<_TakeDataset element_spec=(TensorSpec(shape=(None, None, 3), dtype=tf.uint8, name=None), TensorSpec(shape=(), dtype=tf.int64, name=None))>"
      ]
     },
     "execution_count": 11,
     "metadata": {},
     "output_type": "execute_result"
    }
   ],
   "source": [
    "# What does one sample of training data look like\n",
    "train_one_sample"
   ]
  },
  {
   "cell_type": "code",
   "execution_count": 12,
   "metadata": {
    "colab": {
     "base_uri": "https://localhost:8080/"
    },
    "executionInfo": {
     "elapsed": 16,
     "status": "ok",
     "timestamp": 1688438489878,
     "user": {
      "displayName": "ML TF",
      "userId": "03314444562734337696"
     },
     "user_tz": -330
    },
    "id": "IyjCTcUDbUjn",
    "outputId": "87e55a8e-89c0-4553-805e-7448bba38fd5"
   },
   "outputs": [
    {
     "name": "stdout",
     "output_type": "stream",
     "text": [
      "\n",
      "  Image shape: (512, 512, 3),\n",
      "  Image datatype: <dtype: 'uint8'>,\n",
      "  Target class(tensor form): 81,\n",
      "  Class name(str form): ramen\n",
      "  \n"
     ]
    }
   ],
   "source": [
    "# Output info about training sample\n",
    "for image,label in train_one_sample:\n",
    "  print(f\"\"\"\n",
    "  Image shape: {image.shape},\n",
    "  Image datatype: {image.dtype},\n",
    "  Target class(tensor form): {label},\n",
    "  Class name(str form): {class_names[label.numpy()]}\n",
    "  \"\"\")"
   ]
  },
  {
   "cell_type": "code",
   "execution_count": 13,
   "metadata": {
    "colab": {
     "base_uri": "https://localhost:8080/"
    },
    "executionInfo": {
     "elapsed": 17,
     "status": "ok",
     "timestamp": 1688438489879,
     "user": {
      "displayName": "ML TF",
      "userId": "03314444562734337696"
     },
     "user_tz": -330
    },
    "id": "PdiXP_Audr5T",
    "outputId": "dfb24687-c19e-4e20-93c1-ebeef3576559"
   },
   "outputs": [
    {
     "data": {
      "text/plain": [
       "<tf.Tensor: shape=(512, 512, 3), dtype=uint8, numpy=\n",
       "array([[[242, 254, 252],\n",
       "        [241, 253, 251],\n",
       "        [240, 252, 250],\n",
       "        ...,\n",
       "        [241, 211, 101],\n",
       "        [242, 212, 102],\n",
       "        [245, 215, 105]],\n",
       "\n",
       "       [[240, 252, 250],\n",
       "        [240, 252, 250],\n",
       "        [239, 251, 249],\n",
       "        ...,\n",
       "        [245, 215, 105],\n",
       "        [242, 212, 102],\n",
       "        [240, 210, 100]],\n",
       "\n",
       "       [[238, 250, 248],\n",
       "        [238, 250, 248],\n",
       "        [238, 250, 248],\n",
       "        ...,\n",
       "        [250, 218, 107],\n",
       "        [243, 211, 100],\n",
       "        [238, 206,  95]],\n",
       "\n",
       "       ...,\n",
       "\n",
       "       [[ 82,  81,  77],\n",
       "        [ 83,  82,  78],\n",
       "        [ 82,  81,  77],\n",
       "        ...,\n",
       "        [126, 128, 127],\n",
       "        [135, 137, 136],\n",
       "        [139, 141, 140]],\n",
       "\n",
       "       [[ 82,  79,  74],\n",
       "        [ 82,  79,  74],\n",
       "        [ 81,  78,  73],\n",
       "        ...,\n",
       "        [209, 209, 209],\n",
       "        [217, 217, 217],\n",
       "        [215, 215, 215]],\n",
       "\n",
       "       [[ 78,  75,  70],\n",
       "        [ 77,  74,  69],\n",
       "        [ 76,  73,  68],\n",
       "        ...,\n",
       "        [187, 187, 187],\n",
       "        [160, 160, 160],\n",
       "        [133, 133, 133]]], dtype=uint8)>"
      ]
     },
     "execution_count": 13,
     "metadata": {},
     "output_type": "execute_result"
    }
   ],
   "source": [
    "#How does image look like:\n",
    "image"
   ]
  },
  {
   "cell_type": "code",
   "execution_count": 14,
   "metadata": {
    "colab": {
     "base_uri": "https://localhost:8080/"
    },
    "executionInfo": {
     "elapsed": 16,
     "status": "ok",
     "timestamp": 1688438489879,
     "user": {
      "displayName": "ML TF",
      "userId": "03314444562734337696"
     },
     "user_tz": -330
    },
    "id": "NVY3-tqdeQfk",
    "outputId": "3d3d25f0-de5f-4f9f-8b2b-7fb28043eb5a"
   },
   "outputs": [
    {
     "data": {
      "text/plain": [
       "(<tf.Tensor: shape=(), dtype=uint8, numpy=0>,\n",
       " <tf.Tensor: shape=(), dtype=uint8, numpy=255>)"
      ]
     },
     "execution_count": 14,
     "metadata": {},
     "output_type": "execute_result"
    }
   ],
   "source": [
    "tf.reduce_min(image),tf.reduce_max(image)"
   ]
  },
  {
   "cell_type": "code",
   "execution_count": 15,
   "metadata": {
    "colab": {
     "base_uri": "https://localhost:8080/",
     "height": 428
    },
    "executionInfo": {
     "elapsed": 15,
     "status": "ok",
     "timestamp": 1688438489879,
     "user": {
      "displayName": "ML TF",
      "userId": "03314444562734337696"
     },
     "user_tz": -330
    },
    "id": "PKZGeH26eXPp",
    "outputId": "ec5be9f3-e5de-4253-f966-bc46e4ba70e2"
   },
   "outputs": [
    {
     "data": {
      "text/plain": [
       "(-0.5, 511.5, 511.5, -0.5)"
      ]
     },
     "execution_count": 15,
     "metadata": {},
     "output_type": "execute_result"
    },
    {
     "data": {
      "image/png": "[encoded data removed]",
      "text/plain": [
       "<Figure size 640x480 with 1 Axes>"
      ]
     },
     "metadata": {},
     "output_type": "display_data"
    }
   ],
   "source": [
    "### Plot an image from tensorflow datasets\n",
    "import matplotlib.pyplot as plt\n",
    "plt.imshow(image)\n",
    "plt.title(class_names[label.numpy()]) # add title to image by indexing on class_names list\n",
    "plt.axis(False)"
   ]
  },
  {
   "cell_type": "markdown",
   "metadata": {
    "id": "LPNIJT9Qfb5F"
   },
   "source": [
    "## Create preprocessing functions for our data\n",
    "\n",
    "What we know about the data:\n",
    "* It is in `uint8` datatype\n",
    "* Image is not scaled\n",
    "* Different sized images/tensors\n",
    "\n",
    "What we know model prefers:\n",
    "* Data in `float32` dtype\n",
    "* For batches, tf likes all of tensors within a batch to be of same size\n",
    "* Scaled (values between 0 and 1)\n",
    "\n"
   ]
  },
  {
   "cell_type": "code",
   "execution_count": 16,
   "metadata": {
    "colab": {
     "base_uri": "https://localhost:8080/"
    },
    "executionInfo": {
     "elapsed": 12,
     "status": "ok",
     "timestamp": 1688438489879,
     "user": {
      "displayName": "ML TF",
      "userId": "03314444562734337696"
     },
     "user_tz": -330
    },
    "id": "c8GFMZIi9vFd",
    "outputId": "4399c271-9230-4458-c968-f506a1187152"
   },
   "outputs": [
    {
     "data": {
      "text/plain": [
       "(<tf.Tensor: shape=(512, 512, 3), dtype=uint8, numpy=\n",
       " array([[[242, 254, 252],\n",
       "         [241, 253, 251],\n",
       "         [240, 252, 250],\n",
       "         ...,\n",
       "         [241, 211, 101],\n",
       "         [242, 212, 102],\n",
       "         [245, 215, 105]],\n",
       " \n",
       "        [[240, 252, 250],\n",
       "         [240, 252, 250],\n",
       "         [239, 251, 249],\n",
       "         ...,\n",
       "         [245, 215, 105],\n",
       "         [242, 212, 102],\n",
       "         [240, 210, 100]],\n",
       " \n",
       "        [[238, 250, 248],\n",
       "         [238, 250, 248],\n",
       "         [238, 250, 248],\n",
       "         ...,\n",
       "         [250, 218, 107],\n",
       "         [243, 211, 100],\n",
       "         [238, 206,  95]],\n",
       " \n",
       "        ...,\n",
       " \n",
       "        [[ 82,  81,  77],\n",
       "         [ 83,  82,  78],\n",
       "         [ 82,  81,  77],\n",
       "         ...,\n",
       "         [126, 128, 127],\n",
       "         [135, 137, 136],\n",
       "         [139, 141, 140]],\n",
       " \n",
       "        [[ 82,  79,  74],\n",
       "         [ 82,  79,  74],\n",
       "         [ 81,  78,  73],\n",
       "         ...,\n",
       "         [209, 209, 209],\n",
       "         [217, 217, 217],\n",
       "         [215, 215, 215]],\n",
       " \n",
       "        [[ 78,  75,  70],\n",
       "         [ 77,  74,  69],\n",
       "         [ 76,  73,  68],\n",
       "         ...,\n",
       "         [187, 187, 187],\n",
       "         [160, 160, 160],\n",
       "         [133, 133, 133]]], dtype=uint8)>,\n",
       " <tf.Tensor: shape=(), dtype=int64, numpy=81>)"
      ]
     },
     "execution_count": 16,
     "metadata": {},
     "output_type": "execute_result"
    }
   ],
   "source": [
    "image,label"
   ]
  },
  {
   "cell_type": "code",
   "execution_count": 17,
   "metadata": {
    "id": "vto2DheTemNd"
   },
   "outputs": [],
   "source": [
    "# Use efficient net , no need to rescale, only need to reshape and cast the dtype\n",
    "def preprocess_img(image,label,image_shape=48):\n",
    "  image = tf.image.resize(image,[image_shape,image_shape])\n",
    "  # image=image/255.\n",
    "  return tf.cast(image,dtype=tf.float32), label"
   ]
  },
  {
   "cell_type": "code",
   "execution_count": 18,
   "metadata": {
    "colab": {
     "base_uri": "https://localhost:8080/"
    },
    "executionInfo": {
     "elapsed": 12,
     "status": "ok",
     "timestamp": 1688438489880,
     "user": {
      "displayName": "ML TF",
      "userId": "03314444562734337696"
     },
     "user_tz": -330
    },
    "id": "r2P4w3Ym86mt",
    "outputId": "d3c4e4d5-2789-4043-966f-9bfeed9bbbab"
   },
   "outputs": [
    {
     "name": "stdout",
     "output_type": "stream",
     "text": [
      "Image before preprocessing:\n",
      " [[[242 254 252]\n",
      "  [241 253 251]\n",
      "  [240 252 250]\n",
      "  ...\n",
      "  [241 211 101]\n",
      "  [242 212 102]\n",
      "  [245 215 105]]\n",
      "\n",
      " [[240 252 250]\n",
      "  [240 252 250]\n",
      "  [239 251 249]\n",
      "  ...\n",
      "  [245 215 105]\n",
      "  [242 212 102]\n",
      "  [240 210 100]]]...,\n",
      "Shape: (512, 512, 3)...,\n",
      "Dtype: <dtype: 'uint8'>\n",
      "\n",
      "\n",
      "Image after preprocessing:\n",
      " [[[241.69444  251.69444  250.69444 ]\n",
      "  [241.       249.5      250.5     ]\n",
      "  [239.       244.       248.      ]\n",
      "  [240.       245.       249.      ]\n",
      "  [240.       244.       248.5     ]\n",
      "  [243.83333  246.83333  251.83333 ]\n",
      "  [245.83333  246.83333  250.83333 ]\n",
      "  [244.       246.5      250.      ]\n",
      "  [242.97223  246.97223  249.97223 ]\n",
      "  [242.69446  245.69446  250.69446 ]\n",
      "  [245.58333  249.08333  253.08333 ]\n",
      "  [242.1389   246.1389   249.1389  ]\n",
      "  [225.08308  227.08307  223.61082 ]\n",
      "  [159.25     153.       152.5     ]\n",
      "  [155.83333  151.83333  158.44446 ]\n",
      "  [157.69446  157.44447  158.47224 ]\n",
      "  [155.16667  156.83333  162.66667 ]\n",
      "  [158.83333  157.83333  163.83333 ]\n",
      "  [154.02779  153.02779  161.02779 ]\n",
      "  [151.66667  149.83333  157.25    ]\n",
      "  [148.16666  148.16666  158.16666 ]\n",
      "  [151.30559  149.36115  160.33336 ]\n",
      "  [150.75     147.91667  160.33333 ]\n",
      "  [147.5      145.5      158.5     ]\n",
      "  [148.6111   144.6111   159.6111  ]\n",
      "  [147.91667  144.91667  158.41667 ]\n",
      "  [148.69447  146.69447  159.69447 ]\n",
      "  [150.61113  148.61113  162.61113 ]\n",
      "  [154.83333  151.83333  165.33333 ]\n",
      "  [157.66663  153.66663  170.66663 ]\n",
      "  [159.63887  153.63887  167.63887 ]\n",
      "  [166.16667  160.16667  173.16667 ]\n",
      "  [164.38896  158.38896  170.38896 ]\n",
      "  [168.02774  155.02774  172.02774 ]\n",
      "  [182.5      170.       185.5     ]\n",
      "  [179.63893  166.63893  184.63893 ]\n",
      "  [165.22214  155.94438  172.94438 ]\n",
      "  [152.66667  143.58333  156.91667 ]\n",
      "  [145.36104  134.36104  148.36104 ]\n",
      "  [141.38887  131.38887  142.38887 ]\n",
      "  [151.66667  141.66667  149.66667 ]\n",
      "  [137.99998  128.99998  133.99998 ]\n",
      "  [132.72224  124.13891  127.00002 ]\n",
      "  [165.75     162.08333  168.58333 ]\n",
      "  [217.44463  195.38904  158.41646 ]\n",
      "  [247.72224  204.        71.19445 ]\n",
      "  [249.5      212.        83.833336]\n",
      "  [249.41664  215.02779   99.19445 ]]\n",
      "\n",
      " [[241.16667  248.16667  249.16667 ]\n",
      "  [243.75     247.75     250.75    ]\n",
      "  [243.       245.       249.5     ]\n",
      "  [241.41667  242.41667  245.66666 ]\n",
      "  [242.5      243.5      246.      ]\n",
      "  [243.58334  244.58334  246.58334 ]\n",
      "  [241.75     245.91667  248.      ]\n",
      "  [242.       246.       248.5     ]\n",
      "  [243.41666  245.91666  249.41666 ]\n",
      "  [241.       244.5      248.5     ]\n",
      "  [239.5      242.5      248.      ]\n",
      "  [245.83334  248.33334  250.83334 ]\n",
      "  [155.49957  161.49957  169.33292 ]\n",
      "  [113.       114.75     121.5     ]\n",
      "  [117.       119.5      122.      ]\n",
      "  [125.750015 126.750015 131.25002 ]\n",
      "  [131.       130.5      136.      ]\n",
      "  [139.08334  139.08334  144.58334 ]\n",
      "  [147.66669  146.66669  153.66669 ]\n",
      "  [145.75     144.5      150.      ]\n",
      "  [150.16666  147.33333  157.25    ]\n",
      "  [144.5      142.5      150.      ]\n",
      "  [150.       147.5      157.25    ]\n",
      "  [146.16667  144.16667  150.66667 ]\n",
      "  [149.91667  146.91667  156.91667 ]\n",
      "  [146.5      143.       155.5     ]\n",
      "  [148.74997  144.16669  157.      ]\n",
      "  [153.41667  145.41667  159.41667 ]\n",
      "  [150.5      146.5      158.      ]\n",
      "  [150.41672  145.41672  158.5834  ]\n",
      "  [154.5      146.5      161.5     ]\n",
      "  [161.       152.25     167.5     ]\n",
      "  [162.49994  152.58328  168.74991 ]\n",
      "  [174.4167   162.9167   176.25002 ]\n",
      "  [186.75     174.75     187.75    ]\n",
      "  [209.08347  197.08347  211.08347 ]\n",
      "  [175.33328  165.83328  179.33328 ]\n",
      "  [154.       146.       155.5     ]\n",
      "  [146.33331  136.83331  150.33331 ]\n",
      "  [142.00003  130.00003  138.50003 ]\n",
      "  [139.       128.5      133.25    ]\n",
      "  [128.83337  119.833374 121.833374]\n",
      "  [130.66669  125.66669  126.16669 ]\n",
      "  [137.75     132.75     132.25    ]\n",
      "  [137.58347  131.3335   128.75015 ]\n",
      "  [199.33344  185.75005  183.74998 ]\n",
      "  [249.       207.        71.      ]\n",
      "  [248.25003  206.75003   75.75003 ]]]...,\n",
      "Shape: (48, 48, 3)...,\n",
      "Dtype: <dtype: 'float32'>\n"
     ]
    }
   ],
   "source": [
    "# Preprocess single sample\n",
    "preprocessed_img1 = preprocess_img(image,label)[0]\n",
    "print(f\"Image before preprocessing:\\n {image[:2]}...,\\nShape: {image.shape}...,\\nDtype: {image.dtype}\\n\\n\")\n",
    "print(f\"Image after preprocessing:\\n {preprocessed_img1[:2]}...,\\nShape: {preprocessed_img1.shape}...,\\nDtype: {preprocessed_img1.dtype}\")"
   ]
  },
  {
   "cell_type": "markdown",
   "metadata": {
    "id": "ur5UL3by-6ai"
   },
   "source": [
    "Batch input data"
   ]
  },
  {
   "cell_type": "code",
   "execution_count": 19,
   "metadata": {
    "id": "zA3NK5P7-6Jp"
   },
   "outputs": [],
   "source": [
    "# Map preprocessing function to training data (and paralellize)\n",
    "train_data = train_data.map(map_func=preprocess_img, num_parallel_calls=tf.data.AUTOTUNE)\n",
    "# Shuffle train_data and turn it into batches and prefetch it (load it faster)\n",
    "train_data = train_data.shuffle(buffer_size=1000).batch(batch_size=16).prefetch(buffer_size=tf.data.AUTOTUNE)\n",
    "\n",
    "# Map prepreprocessing function to test data\n",
    "test_data = test_data.map(preprocess_img, num_parallel_calls=tf.data.AUTOTUNE)\n",
    "# Turn test data into batches (don't need to shuffle)\n",
    "test_data = test_data.batch(16).prefetch(tf.data.AUTOTUNE)"
   ]
  },
  {
   "cell_type": "code",
   "execution_count": 20,
   "metadata": {
    "colab": {
     "base_uri": "https://localhost:8080/"
    },
    "executionInfo": {
     "elapsed": 5,
     "status": "ok",
     "timestamp": 1688440056331,
     "user": {
      "displayName": "ML TF",
      "userId": "03314444562734337696"
     },
     "user_tz": -330
    },
    "id": "LYDQ_HQP-BHF",
    "outputId": "7f16fc52-9cd7-44a1-ab2f-5f486a0dac06"
   },
   "outputs": [
    {
     "data": {
      "text/plain": [
       "(<_PrefetchDataset element_spec=(TensorSpec(shape=(None, 48, 48, 3), dtype=tf.float32, name=None), TensorSpec(shape=(None,), dtype=tf.int64, name=None))>,\n",
       " <_PrefetchDataset element_spec=(TensorSpec(shape=(None, 48, 48, 3), dtype=tf.float32, name=None), TensorSpec(shape=(None,), dtype=tf.int64, name=None))>)"
      ]
     },
     "execution_count": 20,
     "metadata": {},
     "output_type": "execute_result"
    }
   ],
   "source": [
    "train_data, test_data"
   ]
  },
  {
   "cell_type": "markdown",
   "metadata": {
    "id": "945jyBtTD3vz"
   },
   "source": [
    "### Creating model callbacks\n",
    "\n",
    "1. Create Tensorboard callback\n",
    "2. ModelCheckpoint callback"
   ]
  },
  {
   "cell_type": "code",
   "execution_count": 21,
   "metadata": {
    "id": "Q0_sumEkCpUO"
   },
   "outputs": [],
   "source": [
    "from helper_functions import create_tensorboard_callback\n",
    "\n",
    "checkpoint_path = 'model_checkpoint/cp.ckpt'\n",
    "model_checkpoint = tf.keras.callbacks.ModelCheckpoint(checkpoint_path,\n",
    "                                                      monitor='val_accuracy',\n",
    "                                                      save_best_only=True,\n",
    "                                                      save_weights_only=True,\n",
    "                                                      verbose=0)"
   ]
  },
  {
   "cell_type": "markdown",
   "metadata": {
    "id": "E7MewO8vFCRg"
   },
   "source": [
    "### Set up mixed precission training"
   ]
  },
  {
   "cell_type": "code",
   "execution_count": 22,
   "metadata": {
    "id": "0pO1U4Q8FAf7"
   },
   "outputs": [],
   "source": [
    "from tensorflow.keras import mixed_precision\n",
    "mixed_precision.set_global_policy(\"mixed_float16\")"
   ]
  },
  {
   "cell_type": "code",
   "execution_count": 23,
   "metadata": {
    "colab": {
     "base_uri": "https://localhost:8080/"
    },
    "executionInfo": {
     "elapsed": 10,
     "status": "ok",
     "timestamp": 1688438489880,
     "user": {
      "displayName": "ML TF",
      "userId": "03314444562734337696"
     },
     "user_tz": -330
    },
    "id": "1NjahTx8GiNN",
    "outputId": "d2dae1eb-de13-43f2-e502-a3461fbcbfce"
   },
   "outputs": [
    {
     "data": {
      "text/plain": [
       "<Policy \"mixed_float16\">"
      ]
     },
     "execution_count": 23,
     "metadata": {},
     "output_type": "execute_result"
    }
   ],
   "source": [
    "mixed_precision.global_policy()"
   ]
  },
  {
   "cell_type": "code",
   "execution_count": 24,
   "metadata": {
    "colab": {
     "base_uri": "https://localhost:8080/"
    },
    "executionInfo": {
     "elapsed": 4064,
     "status": "ok",
     "timestamp": 1688438493935,
     "user": {
      "displayName": "ML TF",
      "userId": "03314444562734337696"
     },
     "user_tz": -330
    },
    "id": "GKWfJxCVFxHo",
    "outputId": "76023150-9de5-4ebb-d023-62e3e1b36fda"
   },
   "outputs": [
    {
     "name": "stdout",
     "output_type": "stream",
     "text": [
      "Model: \"model\"\n",
      "_________________________________________________________________\n",
      " Layer (type)                Output Shape              Param #   \n",
      "=================================================================\n",
      " input_2 (InputLayer)        [(None, 48, 48, 3)]       0         \n",
      "                                                                 \n",
      " efficientnetb0 (Functional  (None, None, None, 1280   4049571   \n",
      " )                           )                                   \n",
      "                                                                 \n",
      " global_average_pooling2d (  (None, 1280)              0         \n",
      " GlobalAveragePooling2D)                                         \n",
      "                                                                 \n",
      " dense (Dense)               (None, 101)               129381    \n",
      "                                                                 \n",
      " activation (Activation)     (None, 101)               0         \n",
      "                                                                 \n",
      "=================================================================\n",
      "Total params: 4178952 (15.94 MB)\n",
      "Trainable params: 129381 (505.39 KB)\n",
      "Non-trainable params: 4049571 (15.45 MB)\n",
      "_________________________________________________________________\n"
     ]
    }
   ],
   "source": [
    "# Build feature extraction model\n",
    "# mixed_precision.set_global_policy(\"float32\")  # Set it to mixed_float16 in tf.__version__==2.4.1\n",
    "input_shape=(48,48,3)\n",
    "base_model=tf.keras.applications.EfficientNetB0(include_top=False)\n",
    "base_model.trainable=False\n",
    "\n",
    "inputs = tf.keras.layers.Input(shape=input_shape)\n",
    "x = base_model(inputs,training=False)\n",
    "x = tf.keras.layers.GlobalAveragePooling2D()(x)\n",
    "x = tf.keras.layers.Dense(len(class_names))(x)\n",
    "\n",
    "outputs = tf.keras.layers.Activation(tf.keras.activations.softmax,dtype=tf.float32)(x)\n",
    "\n",
    "model=tf.keras.Model(inputs,outputs)\n",
    "\n",
    "model.compile(loss=tf.keras.losses.SparseCategoricalCrossentropy(),\n",
    "              optimizer=tf.keras.optimizers.Adam(),\n",
    "              metrics=['accuracy'])\n",
    "model.summary()"
   ]
  },
  {
   "cell_type": "markdown",
   "metadata": {
    "id": "ZLMaNR_9IJvW"
   },
   "source": [
    "# Fit the model"
   ]
  },
  {
   "cell_type": "code",
   "execution_count": 25,
   "metadata": {
    "colab": {
     "base_uri": "https://localhost:8080/"
    },
    "executionInfo": {
     "elapsed": 279621,
     "status": "ok",
     "timestamp": 1688438773533,
     "user": {
      "displayName": "ML TF",
      "userId": "03314444562734337696"
     },
     "user_tz": -330
    },
    "id": "wmabuL9dBoVu",
    "outputId": "d3db05b6-378d-4229-9f69-87e571a25913"
   },
   "outputs": [
    {
     "name": "stdout",
     "output_type": "stream",
     "text": [
      "Epoch 1/5\n",
      "4735/4735 [==============================] - 43s 8ms/step - loss: 3.7147 - accuracy: 0.1626 - val_loss: 3.3390 - val_accuracy: 0.2105\n",
      "Epoch 2/5\n",
      "4735/4735 [==============================] - 39s 8ms/step - loss: 3.3036 - accuracy: 0.2256 - val_loss: 3.1880 - val_accuracy: 0.2450\n",
      "Epoch 3/5\n",
      "4735/4735 [==============================] - 39s 8ms/step - loss: 3.1701 - accuracy: 0.2504 - val_loss: 3.1420 - val_accuracy: 0.2508\n",
      "Epoch 4/5\n",
      "4735/4735 [==============================] - 41s 9ms/step - loss: 3.0833 - accuracy: 0.2681 - val_loss: 3.1260 - val_accuracy: 0.2540\n",
      "Epoch 5/5\n",
      "4735/4735 [==============================] - 41s 9ms/step - loss: 3.0186 - accuracy: 0.2782 - val_loss: 3.1244 - val_accuracy: 0.2609\n"
     ]
    }
   ],
   "source": [
    "history_101_feature_extract = model.fit(train_data,\n",
    "                                        epochs=5,\n",
    "                                        steps_per_epoch=len(train_data),\n",
    "                                        validation_data=test_data,\n",
    "                                        validation_steps=int(0.15*len(test_data)),\n",
    "                                        callbacks=[model_checkpoint])"
   ]
  },
  {
   "cell_type": "code",
   "execution_count": 26,
   "metadata": {
    "colab": {
     "base_uri": "https://localhost:8080/"
    },
    "executionInfo": {
     "elapsed": 14193,
     "status": "ok",
     "timestamp": 1688438787701,
     "user": {
      "displayName": "ML TF",
      "userId": "03314444562734337696"
     },
     "user_tz": -330
    },
    "id": "Kf63KfRCK1Al",
    "outputId": "bbf50072-e0f7-47ec-b0af-09fc81fc4f8a"
   },
   "outputs": [
    {
     "name": "stdout",
     "output_type": "stream",
     "text": [
      "1579/1579 [==============================] - 20s 13ms/step - loss: 3.1210 - accuracy: 0.2593\n"
     ]
    }
   ],
   "source": [
    "#Evaluate\n",
    "result = model.evaluate(test_data)"
   ]
  },
  {
   "cell_type": "code",
   "execution_count": 27,
   "metadata": {
    "colab": {
     "base_uri": "https://localhost:8080/"
    },
    "executionInfo": {
     "elapsed": 33,
     "status": "ok",
     "timestamp": 1688438787702,
     "user": {
      "displayName": "ML TF",
      "userId": "03314444562734337696"
     },
     "user_tz": -330
    },
    "id": "9HcuJ59ZNsal",
    "outputId": "c253548f-1d55-4ae5-cd3c-b22b8b37f038"
   },
   "outputs": [
    {
     "name": "stdout",
     "output_type": "stream",
     "text": [
      "0 input_2\n",
      "1 efficientnetb0\n",
      "2 global_average_pooling2d\n",
      "3 dense\n",
      "4 activation\n"
     ]
    }
   ],
   "source": [
    "for i,layers in enumerate(model.layers):\n",
    "  print(i,layers.name)"
   ]
  },
  {
   "cell_type": "code",
   "execution_count": 28,
   "metadata": {
    "colab": {
     "base_uri": "https://localhost:8080/"
    },
    "executionInfo": {
     "elapsed": 29,
     "status": "ok",
     "timestamp": 1688438787702,
     "user": {
      "displayName": "ML TF",
      "userId": "03314444562734337696"
     },
     "user_tz": -330
    },
    "id": "aH9YHa_qZTrc",
    "outputId": "f2b7abd9-2634-4d9f-9ea2-b5a8a8b6fa65"
   },
   "outputs": [
    {
     "name": "stdout",
     "output_type": "stream",
     "text": [
      "0 input_1 False\n",
      "1 rescaling False\n",
      "2 normalization False\n",
      "3 rescaling_1 False\n",
      "4 stem_conv_pad False\n",
      "5 stem_conv False\n",
      "6 stem_bn False\n",
      "7 stem_activation False\n",
      "8 block1a_dwconv False\n",
      "9 block1a_bn False\n",
      "10 block1a_activation False\n",
      "11 block1a_se_squeeze False\n",
      "12 block1a_se_reshape False\n",
      "13 block1a_se_reduce False\n",
      "14 block1a_se_expand False\n",
      "15 block1a_se_excite False\n",
      "16 block1a_project_conv False\n",
      "17 block1a_project_bn False\n",
      "18 block2a_expand_conv False\n",
      "19 block2a_expand_bn False\n",
      "20 block2a_expand_activation False\n",
      "21 block2a_dwconv_pad False\n",
      "22 block2a_dwconv False\n",
      "23 block2a_bn False\n",
      "24 block2a_activation False\n",
      "25 block2a_se_squeeze False\n",
      "26 block2a_se_reshape False\n",
      "27 block2a_se_reduce False\n",
      "28 block2a_se_expand False\n",
      "29 block2a_se_excite False\n",
      "30 block2a_project_conv False\n",
      "31 block2a_project_bn False\n",
      "32 block2b_expand_conv False\n",
      "33 block2b_expand_bn False\n",
      "34 block2b_expand_activation False\n",
      "35 block2b_dwconv False\n",
      "36 block2b_bn False\n",
      "37 block2b_activation False\n",
      "38 block2b_se_squeeze False\n",
      "39 block2b_se_reshape False\n",
      "40 block2b_se_reduce False\n",
      "41 block2b_se_expand False\n",
      "42 block2b_se_excite False\n",
      "43 block2b_project_conv False\n",
      "44 block2b_project_bn False\n",
      "45 block2b_drop False\n",
      "46 block2b_add False\n",
      "47 block3a_expand_conv False\n",
      "48 block3a_expand_bn False\n",
      "49 block3a_expand_activation False\n",
      "50 block3a_dwconv_pad False\n",
      "51 block3a_dwconv False\n",
      "52 block3a_bn False\n",
      "53 block3a_activation False\n",
      "54 block3a_se_squeeze False\n",
      "55 block3a_se_reshape False\n",
      "56 block3a_se_reduce False\n",
      "57 block3a_se_expand False\n",
      "58 block3a_se_excite False\n",
      "59 block3a_project_conv False\n",
      "60 block3a_project_bn False\n",
      "61 block3b_expand_conv False\n",
      "62 block3b_expand_bn False\n",
      "63 block3b_expand_activation False\n",
      "64 block3b_dwconv False\n",
      "65 block3b_bn False\n",
      "66 block3b_activation False\n",
      "67 block3b_se_squeeze False\n",
      "68 block3b_se_reshape False\n",
      "69 block3b_se_reduce False\n",
      "70 block3b_se_expand False\n",
      "71 block3b_se_excite False\n",
      "72 block3b_project_conv False\n",
      "73 block3b_project_bn False\n",
      "74 block3b_drop False\n",
      "75 block3b_add False\n",
      "76 block4a_expand_conv False\n",
      "77 block4a_expand_bn False\n",
      "78 block4a_expand_activation False\n",
      "79 block4a_dwconv_pad False\n",
      "80 block4a_dwconv False\n",
      "81 block4a_bn False\n",
      "82 block4a_activation False\n",
      "83 block4a_se_squeeze False\n",
      "84 block4a_se_reshape False\n",
      "85 block4a_se_reduce False\n",
      "86 block4a_se_expand False\n",
      "87 block4a_se_excite False\n",
      "88 block4a_project_conv False\n",
      "89 block4a_project_bn False\n",
      "90 block4b_expand_conv False\n",
      "91 block4b_expand_bn False\n",
      "92 block4b_expand_activation False\n",
      "93 block4b_dwconv False\n",
      "94 block4b_bn False\n",
      "95 block4b_activation False\n",
      "96 block4b_se_squeeze False\n",
      "97 block4b_se_reshape False\n",
      "98 block4b_se_reduce False\n",
      "99 block4b_se_expand False\n",
      "100 block4b_se_excite False\n",
      "101 block4b_project_conv False\n",
      "102 block4b_project_bn False\n",
      "103 block4b_drop False\n",
      "104 block4b_add False\n",
      "105 block4c_expand_conv False\n",
      "106 block4c_expand_bn False\n",
      "107 block4c_expand_activation False\n",
      "108 block4c_dwconv False\n",
      "109 block4c_bn False\n",
      "110 block4c_activation False\n",
      "111 block4c_se_squeeze False\n",
      "112 block4c_se_reshape False\n",
      "113 block4c_se_reduce False\n",
      "114 block4c_se_expand False\n",
      "115 block4c_se_excite False\n",
      "116 block4c_project_conv False\n",
      "117 block4c_project_bn False\n",
      "118 block4c_drop False\n",
      "119 block4c_add False\n",
      "120 block5a_expand_conv False\n",
      "121 block5a_expand_bn False\n",
      "122 block5a_expand_activation False\n",
      "123 block5a_dwconv False\n",
      "124 block5a_bn False\n",
      "125 block5a_activation False\n",
      "126 block5a_se_squeeze False\n",
      "127 block5a_se_reshape False\n",
      "128 block5a_se_reduce False\n",
      "129 block5a_se_expand False\n",
      "130 block5a_se_excite False\n",
      "131 block5a_project_conv False\n",
      "132 block5a_project_bn False\n",
      "133 block5b_expand_conv False\n",
      "134 block5b_expand_bn False\n",
      "135 block5b_expand_activation False\n",
      "136 block5b_dwconv False\n",
      "137 block5b_bn False\n",
      "138 block5b_activation False\n",
      "139 block5b_se_squeeze False\n",
      "140 block5b_se_reshape False\n",
      "141 block5b_se_reduce False\n",
      "142 block5b_se_expand False\n",
      "143 block5b_se_excite False\n",
      "144 block5b_project_conv False\n",
      "145 block5b_project_bn False\n",
      "146 block5b_drop False\n",
      "147 block5b_add False\n",
      "148 block5c_expand_conv False\n",
      "149 block5c_expand_bn False\n",
      "150 block5c_expand_activation False\n",
      "151 block5c_dwconv False\n",
      "152 block5c_bn False\n",
      "153 block5c_activation False\n",
      "154 block5c_se_squeeze False\n",
      "155 block5c_se_reshape False\n",
      "156 block5c_se_reduce False\n",
      "157 block5c_se_expand False\n",
      "158 block5c_se_excite False\n",
      "159 block5c_project_conv False\n",
      "160 block5c_project_bn False\n",
      "161 block5c_drop False\n",
      "162 block5c_add False\n",
      "163 block6a_expand_conv False\n",
      "164 block6a_expand_bn False\n",
      "165 block6a_expand_activation False\n",
      "166 block6a_dwconv_pad False\n",
      "167 block6a_dwconv False\n",
      "168 block6a_bn False\n",
      "169 block6a_activation False\n",
      "170 block6a_se_squeeze False\n",
      "171 block6a_se_reshape False\n",
      "172 block6a_se_reduce False\n",
      "173 block6a_se_expand False\n",
      "174 block6a_se_excite False\n",
      "175 block6a_project_conv False\n",
      "176 block6a_project_bn False\n",
      "177 block6b_expand_conv False\n",
      "178 block6b_expand_bn False\n",
      "179 block6b_expand_activation False\n",
      "180 block6b_dwconv False\n",
      "181 block6b_bn False\n",
      "182 block6b_activation False\n",
      "183 block6b_se_squeeze False\n",
      "184 block6b_se_reshape False\n",
      "185 block6b_se_reduce False\n",
      "186 block6b_se_expand False\n",
      "187 block6b_se_excite False\n",
      "188 block6b_project_conv False\n",
      "189 block6b_project_bn False\n",
      "190 block6b_drop False\n",
      "191 block6b_add False\n",
      "192 block6c_expand_conv False\n",
      "193 block6c_expand_bn False\n",
      "194 block6c_expand_activation False\n",
      "195 block6c_dwconv False\n",
      "196 block6c_bn False\n",
      "197 block6c_activation False\n",
      "198 block6c_se_squeeze False\n",
      "199 block6c_se_reshape False\n",
      "200 block6c_se_reduce False\n",
      "201 block6c_se_expand False\n",
      "202 block6c_se_excite False\n",
      "203 block6c_project_conv False\n",
      "204 block6c_project_bn False\n",
      "205 block6c_drop False\n",
      "206 block6c_add False\n",
      "207 block6d_expand_conv False\n",
      "208 block6d_expand_bn False\n",
      "209 block6d_expand_activation False\n",
      "210 block6d_dwconv False\n",
      "211 block6d_bn False\n",
      "212 block6d_activation False\n",
      "213 block6d_se_squeeze False\n",
      "214 block6d_se_reshape False\n",
      "215 block6d_se_reduce False\n",
      "216 block6d_se_expand False\n",
      "217 block6d_se_excite False\n",
      "218 block6d_project_conv False\n",
      "219 block6d_project_bn False\n",
      "220 block6d_drop False\n",
      "221 block6d_add False\n",
      "222 block7a_expand_conv False\n",
      "223 block7a_expand_bn False\n",
      "224 block7a_expand_activation False\n",
      "225 block7a_dwconv False\n",
      "226 block7a_bn False\n",
      "227 block7a_activation False\n",
      "228 block7a_se_squeeze False\n",
      "229 block7a_se_reshape False\n",
      "230 block7a_se_reduce False\n",
      "231 block7a_se_expand False\n",
      "232 block7a_se_excite False\n",
      "233 block7a_project_conv False\n",
      "234 block7a_project_bn False\n",
      "235 top_conv False\n",
      "236 top_bn False\n",
      "237 top_activation False\n"
     ]
    }
   ],
   "source": [
    "for i,layer in enumerate(model.layers[1].layers):\n",
    "  print(i,layer.name,layer.trainable)"
   ]
  },
  {
   "cell_type": "code",
   "execution_count": 29,
   "metadata": {
    "colab": {
     "base_uri": "https://localhost:8080/"
    },
    "executionInfo": {
     "elapsed": 27,
     "status": "ok",
     "timestamp": 1688438787702,
     "user": {
      "displayName": "ML TF",
      "userId": "03314444562734337696"
     },
     "user_tz": -330
    },
    "id": "_QvKC_FYZcZw",
    "outputId": "7c401fe0-f3e2-4732-b910-8f2ab945c23b"
   },
   "outputs": [
    {
     "name": "stdout",
     "output_type": "stream",
     "text": [
      "Model: \"model\"\n",
      "_________________________________________________________________\n",
      " Layer (type)                Output Shape              Param #   \n",
      "=================================================================\n",
      " input_2 (InputLayer)        [(None, 48, 48, 3)]       0         \n",
      "                                                                 \n",
      " efficientnetb0 (Functional  (None, None, None, 1280   4049571   \n",
      " )                           )                                   \n",
      "                                                                 \n",
      " global_average_pooling2d (  (None, 1280)              0         \n",
      " GlobalAveragePooling2D)                                         \n",
      "                                                                 \n",
      " dense (Dense)               (None, 101)               129381    \n",
      "                                                                 \n",
      " activation (Activation)     (None, 101)               0         \n",
      "                                                                 \n",
      "=================================================================\n",
      "Total params: 4178952 (15.94 MB)\n",
      "Trainable params: 1037589 (3.96 MB)\n",
      "Non-trainable params: 3141363 (11.98 MB)\n",
      "_________________________________________________________________\n"
     ]
    }
   ],
   "source": [
    "model.layers[1].trainable=True\n",
    "for layer in model.layers[1].layers[:-15]:\n",
    "  layer.trainable=False\n",
    "\n",
    "model.compile(loss=tf.keras.losses.SparseCategoricalCrossentropy(),\n",
    "              optimizer=tf.keras.optimizers.Adam(learning_rate=0.0001),\n",
    "              metrics=['accuracy'])\n",
    "model.summary()"
   ]
  },
  {
   "cell_type": "code",
   "execution_count": 30,
   "metadata": {
    "colab": {
     "base_uri": "https://localhost:8080/"
    },
    "executionInfo": {
     "elapsed": 359642,
     "status": "ok",
     "timestamp": 1688439147323,
     "user": {
      "displayName": "ML TF",
      "userId": "03314444562734337696"
     },
     "user_tz": -330
    },
    "id": "o1HyQcb0ZtzS",
    "outputId": "00220a55-c424-4de9-aab0-c81a91888404"
   },
   "outputs": [
    {
     "name": "stdout",
     "output_type": "stream",
     "text": [
      "Epoch 5/10\n",
      "4735/4735 [==============================] - 53s 10ms/step - loss: 2.8290 - accuracy: 0.3160 - val_loss: 2.9744 - val_accuracy: 0.2895\n",
      "Epoch 6/10\n",
      "4735/4735 [==============================] - 47s 10ms/step - loss: 2.6284 - accuracy: 0.3534 - val_loss: 2.9943 - val_accuracy: 0.2810\n",
      "Epoch 7/10\n",
      "4735/4735 [==============================] - 50s 10ms/step - loss: 2.4627 - accuracy: 0.3870 - val_loss: 3.0031 - val_accuracy: 0.2963\n",
      "Epoch 8/10\n",
      "4735/4735 [==============================] - 50s 10ms/step - loss: 2.3012 - accuracy: 0.4221 - val_loss: 3.0439 - val_accuracy: 0.2934\n",
      "Epoch 9/10\n",
      "4735/4735 [==============================] - 50s 11ms/step - loss: 2.1440 - accuracy: 0.4588 - val_loss: 3.1231 - val_accuracy: 0.2873\n",
      "Epoch 10/10\n",
      "4735/4735 [==============================] - 50s 11ms/step - loss: 1.9832 - accuracy: 0.4959 - val_loss: 3.2439 - val_accuracy: 0.2757\n"
     ]
    }
   ],
   "source": [
    "history_101_fine_tune = model.fit(train_data,\n",
    "                                  epochs=10,\n",
    "                                  initial_epoch=history_101_feature_extract.epoch[-1],\n",
    "                                  validation_data=test_data,\n",
    "                                  validation_steps=int(0.15*len(test_data)),\n",
    "                                  steps_per_epoch=len(train_data))"
   ]
  },
  {
   "cell_type": "code",
   "execution_count": 31,
   "metadata": {
    "colab": {
     "base_uri": "https://localhost:8080/"
    },
    "executionInfo": {
     "elapsed": 13964,
     "status": "ok",
     "timestamp": 1688439161270,
     "user": {
      "displayName": "ML TF",
      "userId": "03314444562734337696"
     },
     "user_tz": -330
    },
    "id": "z-dHFE1qae9q",
    "outputId": "e2adf798-0596-4e15-e65a-9bd5a3540c35"
   },
   "outputs": [
    {
     "name": "stdout",
     "output_type": "stream",
     "text": [
      "1579/1579 [==============================] - 20s 13ms/step - loss: 3.2669 - accuracy: 0.2770\n"
     ]
    }
   ],
   "source": [
    "result_fine_tune = model.evaluate(test_data)"
   ]
  },
  {
   "cell_type": "markdown",
   "metadata": {
    "id": "1bGLiqJDei6-"
   },
   "source": [
    "# Challenge - Milestone Project"
   ]
  },
  {
   "cell_type": "code",
   "execution_count": null,
   "metadata": {
    "colab": {
     "base_uri": "https://localhost:8080/"
    },
    "executionInfo": {
     "elapsed": 2787,
     "status": "ok",
     "timestamp": 1688439164039,
     "user": {
      "displayName": "ML TF",
      "userId": "03314444562734337696"
     },
     "user_tz": -330
    },
    "id": "0o5gcPNhelNx",
    "outputId": "369ad63c-0b5a-4597-f83c-55c53ea738c1"
   },
   "outputs": [],
   "source": [
    "## Load in a gs model\n",
    "# Download the saved model from Google Storage\n",
    "!wget https://storage.googleapis.com/ztm_tf_course/food_vision/07_efficientnetb0_feature_extract_model_mixed_precision.zip\n",
    "!unzip 07_efficientnetb0_feature_extract_model_mixed_precision.zip"
   ]
  },
  {
   "cell_type": "code",
   "execution_count": null,
   "metadata": {
    "colab": {
     "base_uri": "https://localhost:8080/"
    },
    "executionInfo": {
     "elapsed": 11400,
     "status": "ok",
     "timestamp": 1688439175435,
     "user": {
      "displayName": "ML TF",
      "userId": "03314444562734337696"
     },
     "user_tz": -330
    },
    "id": "hCfDoTYJfepz",
    "outputId": "aef9a0e2-5d8d-4077-b4cf-0c3a449efd18"
   },
   "outputs": [],
   "source": [
    "model_challenge = tf.keras.models.load_model(\"07_efficientnetb0_feature_extract_model_mixed_precision\")"
   ]
  },
  {
   "cell_type": "code",
   "execution_count": null,
   "metadata": {
    "colab": {
     "base_uri": "https://localhost:8080/"
    },
    "executionInfo": {
     "elapsed": 19,
     "status": "ok",
     "timestamp": 1688439175435,
     "user": {
      "displayName": "ML TF",
      "userId": "03314444562734337696"
     },
     "user_tz": -330
    },
    "id": "LuZbKfxxf_4H",
    "outputId": "a13a46e3-2457-4082-f08b-0c27371c2129"
   },
   "outputs": [],
   "source": [
    "model_challenge.summary()"
   ]
  },
  {
   "cell_type": "code",
   "execution_count": null,
   "metadata": {
    "colab": {
     "base_uri": "https://localhost:8080/"
    },
    "executionInfo": {
     "elapsed": 17,
     "status": "ok",
     "timestamp": 1688439175435,
     "user": {
      "displayName": "ML TF",
      "userId": "03314444562734337696"
     },
     "user_tz": -330
    },
    "id": "L9NOgxfAgI44",
    "outputId": "c56292ab-0c40-40d2-b849-b083eb979e0a"
   },
   "outputs": [],
   "source": [
    "for i,layer in enumerate(model_challenge.layers):\n",
    "  print(i,layer.name,layer.trainable)"
   ]
  },
  {
   "cell_type": "code",
   "execution_count": null,
   "metadata": {
    "colab": {
     "base_uri": "https://localhost:8080/"
    },
    "executionInfo": {
     "elapsed": 14423,
     "status": "ok",
     "timestamp": 1688439189843,
     "user": {
      "displayName": "ML TF",
      "userId": "03314444562734337696"
     },
     "user_tz": -330
    },
    "id": "N6BZy7_SgP40",
    "outputId": "f1f0549a-f9bb-4fb0-d18b-5813e4f5d0e9"
   },
   "outputs": [],
   "source": [
    "result1_challenge = model_challenge.evaluate(test_data)"
   ]
  },
  {
   "cell_type": "code",
   "execution_count": null,
   "metadata": {
    "id": "2MU51FZ4hAN8"
   },
   "outputs": [],
   "source": [
    "#Set up EarlyStopping callback\n",
    "earlyStop = tf.keras.callbacks.EarlyStopping(monitor='val_loss',\n",
    "                                             patience=3)"
   ]
  },
  {
   "cell_type": "code",
   "execution_count": null,
   "metadata": {
    "id": "X75UrSuqWc8Y"
   },
   "outputs": [],
   "source": [
    "model_checkpoint_challenge=tf.keras.callbacks.ModelCheckpoint('challenge/',\n",
    "                                                    save_best_only=True)"
   ]
  },
  {
   "cell_type": "code",
   "execution_count": null,
   "metadata": {
    "colab": {
     "base_uri": "https://localhost:8080/"
    },
    "executionInfo": {
     "elapsed": 19,
     "status": "ok",
     "timestamp": 1688439189844,
     "user": {
      "displayName": "ML TF",
      "userId": "03314444562734337696"
     },
     "user_tz": -330
    },
    "id": "6NBHVWN6ga4N",
    "outputId": "04ee6cda-6e83-47c2-ce50-baf673ce3229"
   },
   "outputs": [],
   "source": [
    "# Setting all layers to rainable\n",
    "for i,layer in enumerate(model_challenge.layers):\n",
    "  layer.trainable=True\n",
    "for i,layer in enumerate(model_challenge.layers):\n",
    "  print(i,layer.name,layer.trainable)"
   ]
  },
  {
   "cell_type": "code",
   "execution_count": null,
   "metadata": {
    "colab": {
     "base_uri": "https://localhost:8080/"
    },
    "executionInfo": {
     "elapsed": 760845,
     "status": "ok",
     "timestamp": 1688439950672,
     "user": {
      "displayName": "ML TF",
      "userId": "03314444562734337696"
     },
     "user_tz": -330
    },
    "id": "DqJHmXAthRss",
    "outputId": "41db7f89-6aea-4fdf-bb2c-b2e18c583fc4"
   },
   "outputs": [],
   "source": [
    "model_challenge.compile(loss=tf.keras.losses.SparseCategoricalCrossentropy(),\n",
    "                        optimizer=tf.keras.optimizers.Adam(learning_rate=0.0001),\n",
    "                        metrics=['accuracy'])\n",
    "history_101_feature_extract_challenge = model_challenge.fit(train_data,\n",
    "                                                        steps_per_epoch=len(train_data),\n",
    "                                                        epochs=5,\n",
    "                                                        initial_epoch=history_101_feature_extract.epoch[-1],\n",
    "                                                        validation_data=test_data,\n",
    "                                                        validation_steps=int(0.15*len(test_data)),\n",
    "                                                        callbacks=[model_checkpoint_challenge,earlyStop],\n",
    "                                                        verbose=0)"
   ]
  },
  {
   "cell_type": "code",
   "execution_count": null,
   "metadata": {
    "colab": {
     "base_uri": "https://localhost:8080/"
    },
    "executionInfo": {
     "elapsed": 12500,
     "status": "ok",
     "timestamp": 1688439963154,
     "user": {
      "displayName": "ML TF",
      "userId": "03314444562734337696"
     },
     "user_tz": -330
    },
    "id": "4uK5Px43h2zF",
    "outputId": "51bcd84e-5456-4e3e-f2e3-d3bea6fb4161"
   },
   "outputs": [],
   "source": [
    "result1_finetune_challenge = model_challenge.evaluate(test_data)\n",
    "result1_finetune_challenge"
   ]
  },
  {
   "cell_type": "markdown",
   "metadata": {
    "id": "El5GReiWt9Qk"
   },
   "source": [
    "# EXERCISE\n",
    "1. Use the same evaluation techniques on the large-scale Food Vision model as you did in the previous notebook (Transfer Learning Part 3: Scaling up). More specifically, it would be good to see:\n",
    "  * A confusion matrix between all of the model's predictions and true labels.\n",
    "  * A graph showing the f1-scores of each class.\n",
    "  * A visualization of the model making predictions on various images and comparing the predictions to the ground truth.\n",
    "  \n",
    "  For example, plot a sample image from the test dataset and have the title of the plot show the prediction, the prediction probability and the ground truth label.\n",
    "  \n",
    "  **Note**: To compare predicted labels to test labels, it might be a good idea when loading the test data to set shuffle=False (so the ordering of test data is preserved alongside the order of predicted labels).\n",
    "2. Take 3 of your own photos of food and use the Food Vision model to make predictions on them. How does it go? Share your images/predictions with the other students.\n",
    "3. Retrain the model (feature extraction and fine-tuning) we trained in this notebook, except this time use EfficientNetB4 as the base model instead of EfficientNetB0. Do you notice an improvement in performance? Does it take longer to train? Are there any tradeoffs to consider?\n",
    "4. Name one important benefit of mixed precision training, how does this benefit take place?"
   ]
  },
  {
   "cell_type": "code",
   "execution_count": null,
   "metadata": {
    "colab": {
     "base_uri": "https://localhost:8080/"
    },
    "executionInfo": {
     "elapsed": 12346,
     "status": "ok",
     "timestamp": 1688441662865,
     "user": {
      "displayName": "ML TF",
      "userId": "03314444562734337696"
     },
     "user_tz": -330
    },
    "id": "yQoyvFAMoRkB",
    "outputId": "d31b9ff5-92c5-4888-f8fa-f287883ce36c"
   },
   "outputs": [],
   "source": [
    "#1\n",
    "pred_probs=model_challenge.predict(test_data)"
   ]
  },
  {
   "cell_type": "code",
   "execution_count": null,
   "metadata": {
    "colab": {
     "base_uri": "https://localhost:8080/"
    },
    "executionInfo": {
     "elapsed": 16,
     "status": "ok",
     "timestamp": 1688441663607,
     "user": {
      "displayName": "ML TF",
      "userId": "03314444562734337696"
     },
     "user_tz": -330
    },
    "id": "RJXCKg7V39RI",
    "outputId": "b4574ced-b9d4-4f2f-a239-3b8ae78b3613"
   },
   "outputs": [],
   "source": [
    "pred_probs[0]"
   ]
  },
  {
   "cell_type": "code",
   "execution_count": null,
   "metadata": {
    "colab": {
     "base_uri": "https://localhost:8080/"
    },
    "executionInfo": {
     "elapsed": 14,
     "status": "ok",
     "timestamp": 1688441663607,
     "user": {
      "displayName": "ML TF",
      "userId": "03314444562734337696"
     },
     "user_tz": -330
    },
    "id": "kBOhctwP4A4p",
    "outputId": "556b182f-9f0c-44e6-eeb6-1880f17ce2e5"
   },
   "outputs": [],
   "source": [
    "len(pred_probs[0])"
   ]
  },
  {
   "cell_type": "code",
   "execution_count": null,
   "metadata": {
    "id": "csYH_304wAXD"
   },
   "outputs": [],
   "source": [
    "class_names = ds_info.features[\"label\"].names"
   ]
  },
  {
   "cell_type": "code",
   "execution_count": null,
   "metadata": {
    "colab": {
     "base_uri": "https://localhost:8080/"
    },
    "executionInfo": {
     "elapsed": 12,
     "status": "ok",
     "timestamp": 1688441663608,
     "user": {
      "displayName": "ML TF",
      "userId": "03314444562734337696"
     },
     "user_tz": -330
    },
    "id": "V-9SyzhRKwje",
    "outputId": "6ee7e15e-e790-4bac-a17a-9e3777b3d62a"
   },
   "outputs": [],
   "source": [
    "len(pred_probs)"
   ]
  },
  {
   "cell_type": "code",
   "execution_count": null,
   "metadata": {
    "colab": {
     "base_uri": "https://localhost:8080/"
    },
    "executionInfo": {
     "elapsed": 11,
     "status": "ok",
     "timestamp": 1688441663608,
     "user": {
      "displayName": "ML TF",
      "userId": "03314444562734337696"
     },
     "user_tz": -330
    },
    "id": "3Y-yniCjus-Z",
    "outputId": "4badcaa3-cf1a-4c7c-8b43-3f7fd2919942"
   },
   "outputs": [],
   "source": [
    "pred_probs[0]"
   ]
  },
  {
   "cell_type": "code",
   "execution_count": null,
   "metadata": {
    "colab": {
     "base_uri": "https://localhost:8080/"
    },
    "executionInfo": {
     "elapsed": 10,
     "status": "ok",
     "timestamp": 1688441663608,
     "user": {
      "displayName": "ML TF",
      "userId": "03314444562734337696"
     },
     "user_tz": -330
    },
    "id": "OMy-QYJrxGK8",
    "outputId": "2c0adc96-7212-405d-f204-769f2c0a8217"
   },
   "outputs": [],
   "source": [
    "len(train_data),len(test_data)"
   ]
  },
  {
   "cell_type": "code",
   "execution_count": null,
   "metadata": {
    "colab": {
     "base_uri": "https://localhost:8080/"
    },
    "executionInfo": {
     "elapsed": 8,
     "status": "ok",
     "timestamp": 1688441663608,
     "user": {
      "displayName": "ML TF",
      "userId": "03314444562734337696"
     },
     "user_tz": -330
    },
    "id": "Cqg1l2PFJ7eo",
    "outputId": "b54117d9-8f8b-4672-ded3-0fa9e122dbfc"
   },
   "outputs": [],
   "source": [
    "class_names"
   ]
  },
  {
   "cell_type": "code",
   "execution_count": null,
   "metadata": {
    "colab": {
     "base_uri": "https://localhost:8080/"
    },
    "executionInfo": {
     "elapsed": 6,
     "status": "ok",
     "timestamp": 1688441663608,
     "user": {
      "displayName": "ML TF",
      "userId": "03314444562734337696"
     },
     "user_tz": -330
    },
    "id": "CLtv-q4TMwZn",
    "outputId": "dfd91f08-8468-4a85-d022-8e791c4a8223"
   },
   "outputs": [],
   "source": [
    "pred_probs[0]"
   ]
  },
  {
   "cell_type": "code",
   "execution_count": null,
   "metadata": {
    "id": "Alu-82X7MsIc"
   },
   "outputs": [],
   "source": [
    "X_test = [label for img,label in test_data.unbatch()]"
   ]
  },
  {
   "cell_type": "code",
   "execution_count": null,
   "metadata": {
    "colab": {
     "base_uri": "https://localhost:8080/"
    },
    "executionInfo": {
     "elapsed": 26,
     "status": "ok",
     "timestamp": 1688441672383,
     "user": {
      "displayName": "ML TF",
      "userId": "03314444562734337696"
     },
     "user_tz": -330
    },
    "id": "k1fCukHI4Pud",
    "outputId": "59ff6893-97fa-4bd9-9949-6716803c271c"
   },
   "outputs": [],
   "source": [
    "len(X_test)"
   ]
  },
  {
   "cell_type": "code",
   "execution_count": null,
   "metadata": {
    "colab": {
     "base_uri": "https://localhost:8080/"
    },
    "executionInfo": {
     "elapsed": 24,
     "status": "ok",
     "timestamp": 1688441672383,
     "user": {
      "displayName": "ML TF",
      "userId": "03314444562734337696"
     },
     "user_tz": -330
    },
    "id": "ioFNYVSU6nSt",
    "outputId": "8b517bb2-9562-4b8d-9363-9ef808170724"
   },
   "outputs": [],
   "source": [
    "X_test[0]"
   ]
  },
  {
   "cell_type": "code",
   "execution_count": null,
   "metadata": {
    "colab": {
     "base_uri": "https://localhost:8080/"
    },
    "executionInfo": {
     "elapsed": 23,
     "status": "ok",
     "timestamp": 1688441672383,
     "user": {
      "displayName": "ML TF",
      "userId": "03314444562734337696"
     },
     "user_tz": -330
    },
    "id": "-BMxXk6i7LQJ",
    "outputId": "37894273-b7d2-44c2-9e91-80525e84173b"
   },
   "outputs": [],
   "source": [
    "pred_probs.shape"
   ]
  },
  {
   "cell_type": "code",
   "execution_count": null,
   "metadata": {
    "colab": {
     "base_uri": "https://localhost:8080/"
    },
    "executionInfo": {
     "elapsed": 21,
     "status": "ok",
     "timestamp": 1688441672383,
     "user": {
      "displayName": "ML TF",
      "userId": "03314444562734337696"
     },
     "user_tz": -330
    },
    "id": "5uvaaX9z7IGU",
    "outputId": "9b270ff4-37d1-4d27-8c84-71f2fb69212c"
   },
   "outputs": [],
   "source": [
    "pred_probs.argmax(axis=1)"
   ]
  },
  {
   "cell_type": "code",
   "execution_count": null,
   "metadata": {
    "colab": {
     "base_uri": "https://localhost:8080/"
    },
    "executionInfo": {
     "elapsed": 612,
     "status": "ok",
     "timestamp": 1688441672975,
     "user": {
      "displayName": "ML TF",
      "userId": "03314444562734337696"
     },
     "user_tz": -330
    },
    "id": "9u_TxoRfJd20",
    "outputId": "0cc82449-0126-4f59-9766-6f0c24ea4d4e"
   },
   "outputs": [],
   "source": [
    "# correct_pred=0\n",
    "# index=0\n",
    "# for img,label in test_data:\n",
    "#   #if class_names[label.numpy()]==class_names[pred_probs[i].argmax()]:\n",
    "#   #  correct_pred+=1\n",
    "#   # x=label.numpy()\n",
    "#   for i in label.numpy():\n",
    "#     if i==pred_probs[index].argmax():\n",
    "#       correct_pred+=1\n",
    "#       print(i)\n",
    "#   # print(len(x))\n",
    "#   # break\n",
    "#   index+=1\n",
    "# print(correct_pred)\n",
    "from sklearn.metrics import classification_report\n",
    "X_pred=pred_probs.argmax(axis=1)\n",
    "# X_pred=X_pred.numpy()\n",
    "output = classification_report(X_test,X_pred)\n",
    "print(output)"
   ]
  },
  {
   "cell_type": "code",
   "execution_count": null,
   "metadata": {
    "colab": {
     "base_uri": "https://localhost:8080/"
    },
    "executionInfo": {
     "elapsed": 4968,
     "status": "ok",
     "timestamp": 1688445645013,
     "user": {
      "displayName": "ML TF",
      "userId": "03314444562734337696"
     },
     "user_tz": -330
    },
    "id": "VhM7gdzr-CTV",
    "outputId": "ebefcf6e-ff3c-40a7-a698-355d091a7b27"
   },
   "outputs": [],
   "source": [
    "#3\n",
    "input_shape=(48,48,3)\n",
    "base_model=tf.keras.applications.EfficientNetB4(include_top=False)\n",
    "base_model.trainable=False\n",
    "\n",
    "inputs = tf.keras.layers.Input(shape=input_shape)\n",
    "x = base_model(inputs,training=False)\n",
    "x = tf.keras.layers.GlobalAveragePooling2D()(x)\n",
    "x = tf.keras.layers.Dense(len(class_names))(x)\n",
    "\n",
    "outputs = tf.keras.layers.Activation(tf.keras.activations.softmax,dtype=tf.float32)(x)\n",
    "\n",
    "model2=tf.keras.Model(inputs,outputs)\n",
    "\n",
    "model2.compile(loss=tf.keras.losses.SparseCategoricalCrossentropy(),\n",
    "              optimizer=tf.keras.optimizers.Adam(),\n",
    "              metrics=['accuracy'])\n",
    "model2.summary()"
   ]
  },
  {
   "cell_type": "code",
   "execution_count": null,
   "metadata": {
    "colab": {
     "base_uri": "https://localhost:8080/"
    },
    "executionInfo": {
     "elapsed": 510113,
     "status": "ok",
     "timestamp": 1688446155121,
     "user": {
      "displayName": "ML TF",
      "userId": "03314444562734337696"
     },
     "user_tz": -330
    },
    "id": "_m5WR7ij-N5Y",
    "outputId": "a9614b80-67ab-4cea-81b7-4c5776afcb95"
   },
   "outputs": [],
   "source": [
    "history_101_feature_extract2 = model2.fit(train_data,\n",
    "                                        epochs=5,\n",
    "                                        steps_per_epoch=len(train_data),\n",
    "                                        validation_data=test_data,\n",
    "                                        validation_steps=int(0.15*len(test_data)),\n",
    "                                        callbacks=[model_checkpoint])"
   ]
  },
  {
   "cell_type": "code",
   "execution_count": null,
   "metadata": {
    "colab": {
     "base_uri": "https://localhost:8080/"
    },
    "executionInfo": {
     "elapsed": 24,
     "status": "ok",
     "timestamp": 1688446155121,
     "user": {
      "displayName": "ML TF",
      "userId": "03314444562734337696"
     },
     "user_tz": -330
    },
    "id": "3dDw5wTJBgjw",
    "outputId": "4aff10f7-0386-4a91-b063-2b40a5d27ad6"
   },
   "outputs": [],
   "source": [
    "# Setting all layers to rainable\n",
    "for i,layer in enumerate(model2.layers):\n",
    "  layer.trainable=True\n",
    "for i,layer in enumerate(model2.layers):\n",
    "  print(i,layer.name,layer.trainable)"
   ]
  },
  {
   "cell_type": "code",
   "execution_count": null,
   "metadata": {
    "colab": {
     "base_uri": "https://localhost:8080/"
    },
    "executionInfo": {
     "elapsed": 3147407,
     "status": "ok",
     "timestamp": 1688449302524,
     "user": {
      "displayName": "ML TF",
      "userId": "03314444562734337696"
     },
     "user_tz": -330
    },
    "id": "sFy1u_ooBiut",
    "outputId": "af6131e0-091b-4c75-a32a-e4f290e6f592"
   },
   "outputs": [],
   "source": [
    "model2.compile(loss=tf.keras.losses.SparseCategoricalCrossentropy(),\n",
    "                        optimizer=tf.keras.optimizers.Adam(learning_rate=0.0001),\n",
    "                        metrics=['accuracy'])\n",
    "history_101_b4 = model2.fit(train_data,\n",
    "                            steps_per_epoch=len(train_data),\n",
    "                            epochs=8,\n",
    "                            initial_epoch=history_101_feature_extract2.epoch[-1],\n",
    "                            validation_data=test_data,\n",
    "                            validation_steps=int(0.15*len(test_data)),\n",
    "                            callbacks=[model_checkpoint_challenge,earlyStop])"
   ]
  },
  {
   "cell_type": "code",
   "execution_count": null,
   "metadata": {
    "colab": {
     "base_uri": "https://localhost:8080/"
    },
    "executionInfo": {
     "elapsed": 28344,
     "status": "ok",
     "timestamp": 1688449360436,
     "user": {
      "displayName": "ML TF",
      "userId": "03314444562734337696"
     },
     "user_tz": -330
    },
    "id": "qYKwj8Oea-Kv",
    "outputId": "714c748e-18ff-4a93-d43a-b9919da70c00"
   },
   "outputs": [],
   "source": [
    "result = model2.evaluate(test_data)\n",
    "result"
   ]
  },
  {
   "cell_type": "markdown",
   "metadata": {
    "id": "9SU-KgdvbLi4"
   },
   "source": [
    "Performance with efficientNetB4 has improved a lot with lesser training time(i.e. lesser epochs) but the time taken for the model to learn the patterns is very long."
   ]
  },
  {
   "cell_type": "markdown",
   "metadata": {
    "id": "tBK-Yz-ybZ_H"
   },
   "source": [
    "Benefit of mixed precision -> Train faster with lesser number of bits being used for computation"
   ]
  }
 ],
 "metadata": {
  "accelerator": "GPU",
  "colab": {
   "provenance": []
  },
  "kernelspec": {
   "display_name": "Python 3 (ipykernel)",
   "language": "python",
   "name": "python3"
  },
  "language_info": {
   "codemirror_mode": {
    "name": "ipython",
    "version": 3
   },
   "file_extension": ".py",
   "mimetype": "text/x-python",
   "name": "python",
   "nbconvert_exporter": "python",
   "pygments_lexer": "ipython3",
   "version": "3.9.17"
  }
 },
 "nbformat": 4,
 "nbformat_minor": 4
}
