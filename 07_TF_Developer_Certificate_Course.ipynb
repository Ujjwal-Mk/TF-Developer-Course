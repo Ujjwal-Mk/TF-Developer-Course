{
 "cells": [
  {
   "cell_type": "markdown",
   "metadata": {
    "id": "96dbRWBv9kVu"
   },
   "source": [
    "# Milestone Project 1 : Food Vision Big(TM)"
   ]
  },
  {
   "cell_type": "code",
   "execution_count": 1,
   "metadata": {
    "colab": {
     "base_uri": "https://localhost:8080/"
    },
    "executionInfo": {
     "elapsed": 2438,
     "status": "ok",
     "timestamp": 1688437868868,
     "user": {
      "displayName": "ML TF",
      "userId": "03314444562734337696"
     },
     "user_tz": -330
    },
    "id": "mNTGzEJPLtqw",
    "outputId": "ab0fa1a5-2257-4647-b897-6e6cd54048b1"
   },
   "outputs": [
    {
     "name": "stdout",
     "output_type": "stream",
     "text": [
      "2.15.0\n",
      "INFO:tensorflow:Mixed precision compatibility check (mixed_float16): OK\n",
      "Your GPU will likely run quickly with dtype policy mixed_float16 as it has compute capability of at least 7.0. Your GPU: NVIDIA GeForce RTX 3050 Laptop GPU, compute capability 8.6\n"
     ]
    }
   ],
   "source": [
    "import os\n",
    "os.environ[\"TF_CPP_MIN_LOG_LEVEL\"]='3'\n",
    "import tensorflow as tf\n",
    "# if tf.__version__ != \"2.9.0\":\n",
    "#   !pip install -U -q tensorflow==2.9.0\n",
    "#   !pip install -q tensorflow_datasets==4.8.2\n",
    "#   !pip install -q protobuf==3.19.6\n",
    "#   !pip install -q tensorflow_metadata==1.12.0\n",
    "#   # import os\n",
    "#   # os._exit(00)\n",
    "print(tf.__version__)\n",
    "from tensorflow.keras import mixed_precision\n",
    "physical_devices = tf.config.list_physical_devices('GPU')\n",
    "tf.config.experimental.set_memory_growth(physical_devices[0], True)\n",
    "mixed_precision.set_global_policy('mixed_float16')"
   ]
  },
  {
   "cell_type": "code",
   "execution_count": 2,
   "metadata": {},
   "outputs": [],
   "source": [
    "gpu=tf.config.experimental.list_physical_devices(\"GPU\")\n",
    "tf.config.experimental.set_memory_growth(gpu[0],True)"
   ]
  },
  {
   "cell_type": "code",
   "execution_count": 3,
   "metadata": {
    "colab": {
     "base_uri": "https://localhost:8080/"
    },
    "executionInfo": {
     "elapsed": 1298,
     "status": "ok",
     "timestamp": 1688437872907,
     "user": {
      "displayName": "ML TF",
      "userId": "03314444562734337696"
     },
     "user_tz": -330
    },
    "id": "bGmW_COhL5IT",
    "outputId": "f455fcb4-6b4b-4ef4-8dee-58d65a1b6674"
   },
   "outputs": [
    {
     "name": "stdout",
     "output_type": "stream",
     "text": [
      "[INFO] 'helper_functions.py' already exists, skipping download.\n"
     ]
    }
   ],
   "source": [
    "import os\n",
    "\n",
    "if not os.path.exists(\"helper_functions.py\"):\n",
    "  !wget https://raw.githubusercontent.com/mrdbourke/tensorflow-deep-learning/main/extras/helper_functions.py\n",
    "else:\n",
    "  print(\"[INFO] 'helper_functions.py' already exists, skipping download.\")\n",
    "\n",
    "# Import series of helper functions for the notebook (we've created/used these in previous notebooks)\n",
    "from helper_functions import create_tensorboard_callback, plot_loss_curves, compare_historys"
   ]
  },
  {
   "cell_type": "code",
   "execution_count": 4,
   "metadata": {
    "colab": {
     "base_uri": "https://localhost:8080/"
    },
    "executionInfo": {
     "elapsed": 6,
     "status": "ok",
     "timestamp": 1688437874936,
     "user": {
      "displayName": "ML TF",
      "userId": "03314444562734337696"
     },
     "user_tz": -330
    },
    "id": "ezS8tSlPAE9y",
    "outputId": "3d36a09c-7378-4729-ead9-6a5c02d7cf24"
   },
   "outputs": [
    {
     "name": "stdout",
     "output_type": "stream",
     "text": [
      "Sat Dec 23 18:02:23 2023       \n",
      "+---------------------------------------------------------------------------------------+\n",
      "| NVIDIA-SMI 545.36                 Driver Version: 546.33       CUDA Version: 12.3     |\n",
      "|-----------------------------------------+----------------------+----------------------+\n",
      "| GPU  Name                 Persistence-M | Bus-Id        Disp.A | Volatile Uncorr. ECC |\n",
      "| Fan  Temp   Perf          Pwr:Usage/Cap |         Memory-Usage | GPU-Util  Compute M. |\n",
      "|                                         |                      |               MIG M. |\n",
      "|=========================================+======================+======================|\n",
      "|   0  NVIDIA GeForce RTX 3050 ...    On  | 00000000:01:00.0 Off |                  N/A |\n",
      "| N/A   55C    P0              13W /  75W |      0MiB /  4096MiB |      0%      Default |\n",
      "|                                         |                      |                  N/A |\n",
      "+-----------------------------------------+----------------------+----------------------+\n",
      "                                                                                         \n",
      "+---------------------------------------------------------------------------------------+\n",
      "| Processes:                                                                            |\n",
      "|  GPU   GI   CI        PID   Type   Process name                            GPU Memory |\n",
      "|        ID   ID                                                             Usage      |\n",
      "|=======================================================================================|\n",
      "|  No running processes found                                                           |\n",
      "+---------------------------------------------------------------------------------------+\n"
     ]
    }
   ],
   "source": [
    "! nvidia-smi"
   ]
  },
  {
   "cell_type": "code",
   "execution_count": 5,
   "metadata": {
    "colab": {
     "base_uri": "https://localhost:8080/"
    },
    "executionInfo": {
     "elapsed": 4,
     "status": "ok",
     "timestamp": 1688437875749,
     "user": {
      "displayName": "ML TF",
      "userId": "03314444562734337696"
     },
     "user_tz": -330
    },
    "id": "2gwyNh_PPYBU",
    "outputId": "a475b856-c763-40a8-8cd1-2b97f9327e56"
   },
   "outputs": [
    {
     "name": "stdout",
     "output_type": "stream",
     "text": [
      "GPU 0: NVIDIA GeForce RTX 3050 Laptop GPU (UUID: GPU-dfaf2dbb-aec7-1a43-9749-df5dc8fdb316)\n"
     ]
    }
   ],
   "source": [
    "! nvidia-smi -L"
   ]
  },
  {
   "cell_type": "markdown",
   "metadata": {
    "id": "X0_klKKlzuZT"
   },
   "source": [
    "# Use Tensorflow Datasets"
   ]
  },
  {
   "cell_type": "code",
   "execution_count": 6,
   "metadata": {
    "colab": {
     "base_uri": "https://localhost:8080/"
    },
    "executionInfo": {
     "elapsed": 4910,
     "status": "ok",
     "timestamp": 1688437881813,
     "user": {
      "displayName": "ML TF",
      "userId": "03314444562734337696"
     },
     "user_tz": -330
    },
    "id": "a71VAGzHrkkl",
    "outputId": "93d7f9f2-48e1-4741-8a40-f531ad9b8b36"
   },
   "outputs": [
    {
     "name": "stdout",
     "output_type": "stream",
     "text": [
      "True\n"
     ]
    }
   ],
   "source": [
    "import tensorflow_datasets as tdfs\n",
    "dataset_list = tdfs.list_builders()\n",
    "print(\"food101\" in dataset_list)"
   ]
  },
  {
   "cell_type": "code",
   "execution_count": 7,
   "metadata": {
    "id": "zmPiUuoiz9zG"
   },
   "outputs": [],
   "source": [
    "# Load the data\n",
    "(train_data,test_data), ds_info = tdfs.load(name=\"food101\",\n",
    "                                            split=[\"train\",\"validation\"],\n",
    "                                            shuffle_files=True,\n",
    "                                            as_supervised=True,\n",
    "                                            with_info=True)"
   ]
  },
  {
   "cell_type": "code",
   "execution_count": 8,
   "metadata": {
    "colab": {
     "base_uri": "https://localhost:8080/"
    },
    "executionInfo": {
     "elapsed": 37,
     "status": "ok",
     "timestamp": 1688438489877,
     "user": {
      "displayName": "ML TF",
      "userId": "03314444562734337696"
     },
     "user_tz": -330
    },
    "id": "m_-9Ud4KZGOy",
    "outputId": "7c38052e-c6f1-48b5-802d-4a604db39db9"
   },
   "outputs": [
    {
     "data": {
      "text/plain": [
       "['apple_pie',\n",
       " 'baby_back_ribs',\n",
       " 'baklava',\n",
       " 'beef_carpaccio',\n",
       " 'beef_tartare',\n",
       " 'beet_salad',\n",
       " 'beignets',\n",
       " 'bibimbap',\n",
       " 'bread_pudding',\n",
       " 'breakfast_burrito']"
      ]
     },
     "execution_count": 8,
     "metadata": {},
     "output_type": "execute_result"
    }
   ],
   "source": [
    "class_names = ds_info.features[\"label\"].names\n",
    "class_names[:10]"
   ]
  },
  {
   "cell_type": "code",
   "execution_count": 9,
   "metadata": {
    "colab": {
     "base_uri": "https://localhost:8080/"
    },
    "executionInfo": {
     "elapsed": 18,
     "status": "ok",
     "timestamp": 1688438489877,
     "user": {
      "displayName": "ML TF",
      "userId": "03314444562734337696"
     },
     "user_tz": -330
    },
    "id": "ruXri_MFY_iU",
    "outputId": "d237fe26-7e08-4f07-fab9-2462b7df855a"
   },
   "outputs": [
    {
     "data": {
      "text/plain": [
       "FeaturesDict({\n",
       "    'image': Image(shape=(None, None, 3), dtype=uint8),\n",
       "    'label': ClassLabel(shape=(), dtype=int64, num_classes=101),\n",
       "})"
      ]
     },
     "execution_count": 9,
     "metadata": {},
     "output_type": "execute_result"
    }
   ],
   "source": [
    "# Features in Food101 from tfds\n",
    "ds_info.features"
   ]
  },
  {
   "cell_type": "code",
   "execution_count": 10,
   "metadata": {
    "id": "V4lrUU7aahHK"
   },
   "outputs": [],
   "source": [
    "# take one sample of train_data\n",
    "train_one_sample = train_data.take(1)"
   ]
  },
  {
   "cell_type": "markdown",
   "metadata": {
    "id": "hdr7AH1ga9xc"
   },
   "source": [
    "# Exploring the Food101 data from TensorFlow Datasets\n",
    "Now we've downloaded the Food101 dataset from TensorFlow Datasets, how about we do what any good data explorer should?\n",
    "\n",
    "In other words, \"visualize, visualize, visualize\".\n",
    "\n",
    "Let's find out a few details about our dataset:\n",
    "\n",
    "* The shape of our input data (image tensors)\n",
    "* The datatype of our input data\n",
    "* What the labels of our input data look like (e.g. one-hot encoded versus label-encoded)\n",
    "* Do the labels match up with the class names?\n",
    "\n",
    "To do, let's take one sample off the training data (using the .take() method) and explore it."
   ]
  },
  {
   "cell_type": "code",
   "execution_count": 11,
   "metadata": {
    "colab": {
     "base_uri": "https://localhost:8080/"
    },
    "executionInfo": {
     "elapsed": 17,
     "status": "ok",
     "timestamp": 1688438489878,
     "user": {
      "displayName": "ML TF",
      "userId": "03314444562734337696"
     },
     "user_tz": -330
    },
    "id": "YJ_D-JM-bO1i",
    "outputId": "77e1a8c9-2d4e-42d6-9f11-14abb6992adc"
   },
   "outputs": [
    {
     "data": {
      "text/plain": [
       "<_TakeDataset element_spec=(TensorSpec(shape=(None, None, 3), dtype=tf.uint8, name=None), TensorSpec(shape=(), dtype=tf.int64, name=None))>"
      ]
     },
     "execution_count": 11,
     "metadata": {},
     "output_type": "execute_result"
    }
   ],
   "source": [
    "# What does one sample of training data look like\n",
    "train_one_sample"
   ]
  },
  {
   "cell_type": "code",
   "execution_count": 12,
   "metadata": {
    "colab": {
     "base_uri": "https://localhost:8080/"
    },
    "executionInfo": {
     "elapsed": 16,
     "status": "ok",
     "timestamp": 1688438489878,
     "user": {
      "displayName": "ML TF",
      "userId": "03314444562734337696"
     },
     "user_tz": -330
    },
    "id": "IyjCTcUDbUjn",
    "outputId": "87e55a8e-89c0-4553-805e-7448bba38fd5"
   },
   "outputs": [
    {
     "name": "stdout",
     "output_type": "stream",
     "text": [
      "\n",
      "  Image shape: (512, 512, 3),\n",
      "  Image datatype: <dtype: 'uint8'>,\n",
      "  Target class(tensor form): 64,\n",
      "  Class name(str form): miso_soup\n",
      "  \n"
     ]
    }
   ],
   "source": [
    "# Output info about training sample\n",
    "for image,label in train_one_sample:\n",
    "  print(f\"\"\"\n",
    "  Image shape: {image.shape},\n",
    "  Image datatype: {image.dtype},\n",
    "  Target class(tensor form): {label},\n",
    "  Class name(str form): {class_names[label.numpy()]}\n",
    "  \"\"\")"
   ]
  },
  {
   "cell_type": "code",
   "execution_count": 13,
   "metadata": {
    "colab": {
     "base_uri": "https://localhost:8080/"
    },
    "executionInfo": {
     "elapsed": 17,
     "status": "ok",
     "timestamp": 1688438489879,
     "user": {
      "displayName": "ML TF",
      "userId": "03314444562734337696"
     },
     "user_tz": -330
    },
    "id": "PdiXP_Audr5T",
    "outputId": "dfb24687-c19e-4e20-93c1-ebeef3576559"
   },
   "outputs": [
    {
     "data": {
      "text/plain": [
       "<tf.Tensor: shape=(512, 512, 3), dtype=uint8, numpy=\n",
       "array([[[ 43,  89, 125],\n",
       "        [ 52,  96, 131],\n",
       "        [ 85, 128, 162],\n",
       "        ...,\n",
       "        [251, 254, 223],\n",
       "        [250, 253, 222],\n",
       "        [250, 253, 222]],\n",
       "\n",
       "       [[ 42,  88, 124],\n",
       "        [ 53,  97, 132],\n",
       "        [ 92, 135, 169],\n",
       "        ...,\n",
       "        [251, 254, 223],\n",
       "        [250, 253, 222],\n",
       "        [250, 253, 222]],\n",
       "\n",
       "       [[ 45,  89, 124],\n",
       "        [ 52,  96, 131],\n",
       "        [ 92, 135, 169],\n",
       "        ...,\n",
       "        [251, 254, 223],\n",
       "        [250, 253, 222],\n",
       "        [250, 253, 222]],\n",
       "\n",
       "       ...,\n",
       "\n",
       "       [[ 91,  99,  86],\n",
       "        [ 89,  97,  84],\n",
       "        [ 88,  94,  82],\n",
       "        ...,\n",
       "        [ 37,  44,  50],\n",
       "        [ 34,  41,  47],\n",
       "        [ 31,  38,  44]],\n",
       "\n",
       "       [[ 91,  99,  86],\n",
       "        [ 90,  98,  85],\n",
       "        [ 88,  96,  83],\n",
       "        ...,\n",
       "        [ 38,  43,  47],\n",
       "        [ 35,  40,  44],\n",
       "        [ 33,  38,  42]],\n",
       "\n",
       "       [[ 93, 101,  88],\n",
       "        [ 93, 101,  88],\n",
       "        [ 89,  97,  84],\n",
       "        ...,\n",
       "        [ 37,  42,  46],\n",
       "        [ 35,  40,  44],\n",
       "        [ 35,  40,  44]]], dtype=uint8)>"
      ]
     },
     "execution_count": 13,
     "metadata": {},
     "output_type": "execute_result"
    }
   ],
   "source": [
    "#How does image look like:\n",
    "image"
   ]
  },
  {
   "cell_type": "code",
   "execution_count": 14,
   "metadata": {
    "colab": {
     "base_uri": "https://localhost:8080/"
    },
    "executionInfo": {
     "elapsed": 16,
     "status": "ok",
     "timestamp": 1688438489879,
     "user": {
      "displayName": "ML TF",
      "userId": "03314444562734337696"
     },
     "user_tz": -330
    },
    "id": "NVY3-tqdeQfk",
    "outputId": "3d3d25f0-de5f-4f9f-8b2b-7fb28043eb5a"
   },
   "outputs": [
    {
     "data": {
      "text/plain": [
       "(<tf.Tensor: shape=(), dtype=uint8, numpy=0>,\n",
       " <tf.Tensor: shape=(), dtype=uint8, numpy=255>)"
      ]
     },
     "execution_count": 14,
     "metadata": {},
     "output_type": "execute_result"
    }
   ],
   "source": [
    "tf.reduce_min(image),tf.reduce_max(image)"
   ]
  },
  {
   "cell_type": "code",
   "execution_count": 15,
   "metadata": {
    "colab": {
     "base_uri": "https://localhost:8080/",
     "height": 428
    },
    "executionInfo": {
     "elapsed": 15,
     "status": "ok",
     "timestamp": 1688438489879,
     "user": {
      "displayName": "ML TF",
      "userId": "03314444562734337696"
     },
     "user_tz": -330
    },
    "id": "PKZGeH26eXPp",
    "outputId": "ec5be9f3-e5de-4253-f966-bc46e4ba70e2"
   },
   "outputs": [
    {
     "data": {
      "text/plain": [
       "(-0.5, 511.5, 511.5, -0.5)"
      ]
     },
     "execution_count": 15,
     "metadata": {},
     "output_type": "execute_result"
    },
    {
     "data": {
      "image/png": "[encoded data removed]",
      "text/plain": [
       "<Figure size 640x480 with 1 Axes>"
      ]
     },
     "metadata": {},
     "output_type": "display_data"
    }
   ],
   "source": [
    "### Plot an image from tensorflow datasets\n",
    "import matplotlib.pyplot as plt\n",
    "plt.imshow(image)\n",
    "plt.title(class_names[label.numpy()]) # add title to image by indexing on class_names list\n",
    "plt.axis(False)"
   ]
  },
  {
   "cell_type": "markdown",
   "metadata": {
    "id": "LPNIJT9Qfb5F"
   },
   "source": [
    "## Create preprocessing functions for our data\n",
    "\n",
    "What we know about the data:\n",
    "* It is in `uint8` datatype\n",
    "* Image is not scaled\n",
    "* Different sized images/tensors\n",
    "\n",
    "What we know model prefers:\n",
    "* Data in `float32` dtype\n",
    "* For batches, tf likes all of tensors within a batch to be of same size\n",
    "* Scaled (values between 0 and 1)\n",
    "\n"
   ]
  },
  {
   "cell_type": "code",
   "execution_count": 16,
   "metadata": {
    "colab": {
     "base_uri": "https://localhost:8080/"
    },
    "executionInfo": {
     "elapsed": 12,
     "status": "ok",
     "timestamp": 1688438489879,
     "user": {
      "displayName": "ML TF",
      "userId": "03314444562734337696"
     },
     "user_tz": -330
    },
    "id": "c8GFMZIi9vFd",
    "outputId": "4399c271-9230-4458-c968-f506a1187152"
   },
   "outputs": [
    {
     "data": {
      "text/plain": [
       "(<tf.Tensor: shape=(512, 512, 3), dtype=uint8, numpy=\n",
       " array([[[ 43,  89, 125],\n",
       "         [ 52,  96, 131],\n",
       "         [ 85, 128, 162],\n",
       "         ...,\n",
       "         [251, 254, 223],\n",
       "         [250, 253, 222],\n",
       "         [250, 253, 222]],\n",
       " \n",
       "        [[ 42,  88, 124],\n",
       "         [ 53,  97, 132],\n",
       "         [ 92, 135, 169],\n",
       "         ...,\n",
       "         [251, 254, 223],\n",
       "         [250, 253, 222],\n",
       "         [250, 253, 222]],\n",
       " \n",
       "        [[ 45,  89, 124],\n",
       "         [ 52,  96, 131],\n",
       "         [ 92, 135, 169],\n",
       "         ...,\n",
       "         [251, 254, 223],\n",
       "         [250, 253, 222],\n",
       "         [250, 253, 222]],\n",
       " \n",
       "        ...,\n",
       " \n",
       "        [[ 91,  99,  86],\n",
       "         [ 89,  97,  84],\n",
       "         [ 88,  94,  82],\n",
       "         ...,\n",
       "         [ 37,  44,  50],\n",
       "         [ 34,  41,  47],\n",
       "         [ 31,  38,  44]],\n",
       " \n",
       "        [[ 91,  99,  86],\n",
       "         [ 90,  98,  85],\n",
       "         [ 88,  96,  83],\n",
       "         ...,\n",
       "         [ 38,  43,  47],\n",
       "         [ 35,  40,  44],\n",
       "         [ 33,  38,  42]],\n",
       " \n",
       "        [[ 93, 101,  88],\n",
       "         [ 93, 101,  88],\n",
       "         [ 89,  97,  84],\n",
       "         ...,\n",
       "         [ 37,  42,  46],\n",
       "         [ 35,  40,  44],\n",
       "         [ 35,  40,  44]]], dtype=uint8)>,\n",
       " <tf.Tensor: shape=(), dtype=int64, numpy=64>)"
      ]
     },
     "execution_count": 16,
     "metadata": {},
     "output_type": "execute_result"
    }
   ],
   "source": [
    "image,label"
   ]
  },
  {
   "cell_type": "code",
   "execution_count": 17,
   "metadata": {
    "id": "vto2DheTemNd"
   },
   "outputs": [],
   "source": [
    "# Use efficient net , no need to rescale, only need to reshape and cast the dtype\n",
    "def preprocess_img(image,label,image_shape=48):\n",
    "  image = tf.image.resize(image,[image_shape,image_shape])\n",
    "  # image=image/255.\n",
    "  return tf.cast(image,dtype=tf.float32), label"
   ]
  },
  {
   "cell_type": "code",
   "execution_count": 18,
   "metadata": {
    "colab": {
     "base_uri": "https://localhost:8080/"
    },
    "executionInfo": {
     "elapsed": 12,
     "status": "ok",
     "timestamp": 1688438489880,
     "user": {
      "displayName": "ML TF",
      "userId": "03314444562734337696"
     },
     "user_tz": -330
    },
    "id": "r2P4w3Ym86mt",
    "outputId": "d3c4e4d5-2789-4043-966f-9bfeed9bbbab"
   },
   "outputs": [
    {
     "name": "stdout",
     "output_type": "stream",
     "text": [
      "Image before preprocessing:\n",
      " [[[ 43  89 125]\n",
      "  [ 52  96 131]\n",
      "  [ 85 128 162]\n",
      "  ...\n",
      "  [251 254 223]\n",
      "  [250 253 222]\n",
      "  [250 253 222]]\n",
      "\n",
      " [[ 42  88 124]\n",
      "  [ 53  97 132]\n",
      "  [ 92 135 169]\n",
      "  ...\n",
      "  [251 254 223]\n",
      "  [250 253 222]\n",
      "  [250 253 222]]]...,\n",
      "Shape: (512, 512, 3)...,\n",
      "Dtype: <dtype: 'uint8'>\n",
      "\n",
      "\n",
      "Image after preprocessing:\n",
      " [[[ 79.77777  116.77777  144.25    ]\n",
      "  [ 87.916664 131.41666  161.91666 ]\n",
      "  [ 44.47223   43.611115  38.638893]\n",
      "  [150.72223  148.69446  135.94444 ]\n",
      "  [152.66667  155.83333  131.25    ]\n",
      "  [175.       174.       145.66667 ]\n",
      "  [224.27783  218.27783  184.88895 ]\n",
      "  [246.83333  240.83333  210.33333 ]\n",
      "  [246.8611   241.8611   209.8611  ]\n",
      "  [248.3889   242.3889   210.3889  ]\n",
      "  [247.58333  241.58333  207.58333 ]\n",
      "  [250.16667  244.16667  212.16667 ]\n",
      "  [248.83333  243.83333  213.83333 ]\n",
      "  [247.25     242.25     212.25    ]\n",
      "  [249.       244.       212.      ]\n",
      "  [247.83336  242.83336  210.83336 ]\n",
      "  [251.       242.       211.      ]\n",
      "  [248.       242.       210.      ]\n",
      "  [249.13889  241.13889  205.13889 ]\n",
      "  [247.       239.       203.      ]\n",
      "  [248.44444  240.44444  204.44444 ]\n",
      "  [252.69446  244.69446  208.69446 ]\n",
      "  [249.83333  241.83333  205.33333 ]\n",
      "  [247.33334  239.33334  202.33334 ]\n",
      "  [247.80557  241.80557  205.80557 ]\n",
      "  [248.58333  242.58333  206.58333 ]\n",
      "  [249.99998  243.99998  211.99998 ]\n",
      "  [251.02777  245.02777  209.02777 ]\n",
      "  [250.08333  245.08333  210.58333 ]\n",
      "  [248.19447  244.19447  209.19447 ]\n",
      "  [252.       248.       213.      ]\n",
      "  [252.       249.       216.      ]\n",
      "  [251.83331  248.83331  215.83331 ]\n",
      "  [253.69446  250.69446  219.69446 ]\n",
      "  [253.       251.5      217.      ]\n",
      "  [250.8611   250.8611   216.8611  ]\n",
      "  [250.16667  250.16667  216.16667 ]\n",
      "  [252.91667  251.91667  221.41667 ]\n",
      "  [252.16669  251.16669  220.16669 ]\n",
      "  [252.       253.       221.      ]\n",
      "  [252.5      253.5      222.      ]\n",
      "  [252.16669  253.16669  222.16669 ]\n",
      "  [253.16666  252.16666  221.16666 ]\n",
      "  [254.       253.       222.5     ]\n",
      "  [253.83331  253.83331  219.83331 ]\n",
      "  [253.       254.       222.      ]\n",
      "  [252.41667  254.41667  222.91667 ]\n",
      "  [252.       255.       224.      ]]\n",
      "\n",
      " [[117.49999  160.       186.41666 ]\n",
      "  [ 55.5       57.25      58.      ]\n",
      "  [140.66666  141.66666  129.91667 ]\n",
      "  [142.33333  147.25     121.16666 ]\n",
      "  [157.       158.75     134.5     ]\n",
      "  [180.58334  179.08334  149.25    ]\n",
      "  [242.41669  236.83336  200.16669 ]\n",
      "  [244.75     237.5      202.25    ]\n",
      "  [247.08334  238.08334  207.08334 ]\n",
      "  [245.       237.5      205.      ]\n",
      "  [248.5      241.       207.5     ]\n",
      "  [246.83333  239.83333  204.83333 ]\n",
      "  [247.       239.5      206.      ]\n",
      "  [247.5      239.25     206.5     ]\n",
      "  [249.5      241.       206.5     ]\n",
      "  [247.       239.5      205.33331 ]\n",
      "  [249.75     242.       206.75    ]\n",
      "  [248.       240.       203.5     ]\n",
      "  [249.91667  239.41667  205.91667 ]\n",
      "  [250.25     239.5      204.75    ]\n",
      "  [248.16667  237.16667  200.16667 ]\n",
      "  [246.33334  237.33334  200.83334 ]\n",
      "  [245.75     236.       203.25    ]\n",
      "  [245.16666  237.66666  209.16666 ]\n",
      "  [240.99997  236.49997  207.99997 ]\n",
      "  [211.       206.5      181.75    ]\n",
      "  [185.1665   180.6665   159.1665  ]\n",
      "  [171.99997  166.99997  148.99997 ]\n",
      "  [188.5      184.5      163.25    ]\n",
      "  [219.66669  216.25003  193.83331 ]\n",
      "  [250.00009  248.50009  221.00009 ]\n",
      "  [248.25     243.       213.75    ]\n",
      "  [248.00006  244.00006  210.50006 ]\n",
      "  [252.50006  250.75008  216.75008 ]\n",
      "  [252.5      248.       215.      ]\n",
      "  [252.       248.41672  215.75003 ]\n",
      "  [252.08333  250.25002  214.83334 ]\n",
      "  [250.25     249.25     218.5     ]\n",
      "  [252.41666  250.5      218.08328 ]\n",
      "  [253.       250.       218.      ]\n",
      "  [253.5      251.75     219.5     ]\n",
      "  [252.41666  251.5      220.66663 ]\n",
      "  [251.33334  251.33334  218.83334 ]\n",
      "  [252.25     251.75     220.25    ]\n",
      "  [252.       251.5      219.      ]\n",
      "  [252.5      253.       220.      ]\n",
      "  [252.       253.       220.      ]\n",
      "  [252.83331  253.16669  222.08334 ]]]...,\n",
      "Shape: (48, 48, 3)...,\n",
      "Dtype: <dtype: 'float32'>\n"
     ]
    }
   ],
   "source": [
    "# Preprocess single sample\n",
    "preprocessed_img1 = preprocess_img(image,label)[0]\n",
    "print(f\"Image before preprocessing:\\n {image[:2]}...,\\nShape: {image.shape}...,\\nDtype: {image.dtype}\\n\\n\")\n",
    "print(f\"Image after preprocessing:\\n {preprocessed_img1[:2]}...,\\nShape: {preprocessed_img1.shape}...,\\nDtype: {preprocessed_img1.dtype}\")"
   ]
  },
  {
   "cell_type": "markdown",
   "metadata": {
    "id": "ur5UL3by-6ai"
   },
   "source": [
    "Batch input data"
   ]
  },
  {
   "cell_type": "code",
   "execution_count": 19,
   "metadata": {
    "id": "zA3NK5P7-6Jp"
   },
   "outputs": [],
   "source": [
    "# Map preprocessing function to training data (and paralellize)\n",
    "train_data = train_data.map(map_func=preprocess_img, num_parallel_calls=tf.data.AUTOTUNE)\n",
    "# Shuffle train_data and turn it into batches and prefetch it (load it faster)\n",
    "train_data = train_data.shuffle(buffer_size=1000).batch(batch_size=16).prefetch(buffer_size=tf.data.AUTOTUNE)\n",
    "\n",
    "# Map prepreprocessing function to test data\n",
    "test_data = test_data.map(preprocess_img, num_parallel_calls=tf.data.AUTOTUNE)\n",
    "# Turn test data into batches (don't need to shuffle)\n",
    "test_data = test_data.batch(16).prefetch(tf.data.AUTOTUNE)"
   ]
  },
  {
   "cell_type": "code",
   "execution_count": 20,
   "metadata": {
    "colab": {
     "base_uri": "https://localhost:8080/"
    },
    "executionInfo": {
     "elapsed": 5,
     "status": "ok",
     "timestamp": 1688440056331,
     "user": {
      "displayName": "ML TF",
      "userId": "03314444562734337696"
     },
     "user_tz": -330
    },
    "id": "LYDQ_HQP-BHF",
    "outputId": "7f16fc52-9cd7-44a1-ab2f-5f486a0dac06"
   },
   "outputs": [
    {
     "data": {
      "text/plain": [
       "(<_PrefetchDataset element_spec=(TensorSpec(shape=(None, 48, 48, 3), dtype=tf.float32, name=None), TensorSpec(shape=(None,), dtype=tf.int64, name=None))>,\n",
       " <_PrefetchDataset element_spec=(TensorSpec(shape=(None, 48, 48, 3), dtype=tf.float32, name=None), TensorSpec(shape=(None,), dtype=tf.int64, name=None))>)"
      ]
     },
     "execution_count": 20,
     "metadata": {},
     "output_type": "execute_result"
    }
   ],
   "source": [
    "train_data, test_data"
   ]
  },
  {
   "cell_type": "markdown",
   "metadata": {
    "id": "945jyBtTD3vz"
   },
   "source": [
    "### Creating model callbacks\n",
    "\n",
    "1. Create Tensorboard callback\n",
    "2. ModelCheckpoint callback"
   ]
  },
  {
   "cell_type": "code",
   "execution_count": 21,
   "metadata": {
    "id": "Q0_sumEkCpUO"
   },
   "outputs": [],
   "source": [
    "from helper_functions import create_tensorboard_callback\n",
    "\n",
    "checkpoint_path = 'model_checkpoint/cp.ckpt'\n",
    "model_checkpoint = tf.keras.callbacks.ModelCheckpoint(checkpoint_path,\n",
    "                                                      monitor='val_accuracy',\n",
    "                                                      save_best_only=True,\n",
    "                                                      save_weights_only=True,\n",
    "                                                      verbose=0)"
   ]
  },
  {
   "cell_type": "markdown",
   "metadata": {
    "id": "E7MewO8vFCRg"
   },
   "source": [
    "### Set up mixed precission training"
   ]
  },
  {
   "cell_type": "code",
   "execution_count": 22,
   "metadata": {
    "id": "0pO1U4Q8FAf7"
   },
   "outputs": [],
   "source": [
    "from tensorflow.keras import mixed_precision\n",
    "mixed_precision.set_global_policy(\"mixed_float16\")"
   ]
  },
  {
   "cell_type": "code",
   "execution_count": 23,
   "metadata": {
    "colab": {
     "base_uri": "https://localhost:8080/"
    },
    "executionInfo": {
     "elapsed": 10,
     "status": "ok",
     "timestamp": 1688438489880,
     "user": {
      "displayName": "ML TF",
      "userId": "03314444562734337696"
     },
     "user_tz": -330
    },
    "id": "1NjahTx8GiNN",
    "outputId": "d2dae1eb-de13-43f2-e502-a3461fbcbfce"
   },
   "outputs": [
    {
     "data": {
      "text/plain": [
       "<Policy \"mixed_float16\">"
      ]
     },
     "execution_count": 23,
     "metadata": {},
     "output_type": "execute_result"
    }
   ],
   "source": [
    "mixed_precision.global_policy()"
   ]
  },
  {
   "cell_type": "code",
   "execution_count": 24,
   "metadata": {
    "colab": {
     "base_uri": "https://localhost:8080/"
    },
    "executionInfo": {
     "elapsed": 4064,
     "status": "ok",
     "timestamp": 1688438493935,
     "user": {
      "displayName": "ML TF",
      "userId": "03314444562734337696"
     },
     "user_tz": -330
    },
    "id": "GKWfJxCVFxHo",
    "outputId": "76023150-9de5-4ebb-d023-62e3e1b36fda"
   },
   "outputs": [
    {
     "name": "stdout",
     "output_type": "stream",
     "text": [
      "Downloading data from https://storage.googleapis.com/keras-applications/efficientnetb0_notop.h5\n",
      "16705208/16705208 [==============================] - 2s 0us/step\n",
      "Model: \"model\"\n",
      "_________________________________________________________________\n",
      " Layer (type)                Output Shape              Param #   \n",
      "=================================================================\n",
      " input_2 (InputLayer)        [(None, 48, 48, 3)]       0         \n",
      "                                                                 \n",
      " efficientnetb0 (Functional  (None, None, None, 1280   4049571   \n",
      " )                           )                                   \n",
      "                                                                 \n",
      " global_average_pooling2d (  (None, 1280)              0         \n",
      " GlobalAveragePooling2D)                                         \n",
      "                                                                 \n",
      " dense (Dense)               (None, 101)               129381    \n",
      "                                                                 \n",
      " activation (Activation)     (None, 101)               0         \n",
      "                                                                 \n",
      "=================================================================\n",
      "Total params: 4178952 (15.94 MB)\n",
      "Trainable params: 129381 (505.39 KB)\n",
      "Non-trainable params: 4049571 (15.45 MB)\n",
      "_________________________________________________________________\n"
     ]
    }
   ],
   "source": [
    "# Build feature extraction model\n",
    "# mixed_precision.set_global_policy(\"float32\")  # Set it to mixed_float16 in tf.__version__==2.4.1\n",
    "input_shape=(48,48,3)\n",
    "base_model=tf.keras.applications.EfficientNetB0(include_top=False)\n",
    "base_model.trainable=False\n",
    "\n",
    "inputs = tf.keras.layers.Input(shape=input_shape)\n",
    "x = base_model(inputs,training=False)\n",
    "x = tf.keras.layers.GlobalAveragePooling2D()(x)\n",
    "x = tf.keras.layers.Dense(len(class_names))(x)\n",
    "\n",
    "outputs = tf.keras.layers.Activation(tf.keras.activations.softmax,dtype=tf.float32)(x)\n",
    "\n",
    "model=tf.keras.Model(inputs,outputs)\n",
    "\n",
    "model.compile(loss=tf.keras.losses.SparseCategoricalCrossentropy(),\n",
    "              optimizer=tf.keras.optimizers.Adam(),\n",
    "              metrics=['accuracy'])\n",
    "model.summary()"
   ]
  },
  {
   "cell_type": "markdown",
   "metadata": {
    "id": "ZLMaNR_9IJvW"
   },
   "source": [
    "# Fit the model"
   ]
  },
  {
   "cell_type": "code",
   "execution_count": null,
   "metadata": {
    "colab": {
     "base_uri": "https://localhost:8080/"
    },
    "executionInfo": {
     "elapsed": 279621,
     "status": "ok",
     "timestamp": 1688438773533,
     "user": {
      "displayName": "ML TF",
      "userId": "03314444562734337696"
     },
     "user_tz": -330
    },
    "id": "wmabuL9dBoVu",
    "outputId": "d3db05b6-378d-4229-9f69-87e571a25913"
   },
   "outputs": [
    {
     "name": "stdout",
     "output_type": "stream",
     "text": [
      "Epoch 1/5\n",
      "   9/4735 [..............................] - ETA: 1:15 - loss: 4.8095 - accuracy: 0.0069     "
     ]
    },
    {
     "name": "stderr",
     "output_type": "stream",
     "text": [
      "WARNING: All log messages before absl::InitializeLog() is called are written to STDERR\n",
      "I0000 00:00:1703334763.379753    1588 device_compiler.h:186] Compiled cluster using XLA!  This line is logged at most once for the lifetime of the process.\n"
     ]
    },
    {
     "name": "stdout",
     "output_type": "stream",
     "text": [
      " 531/4735 [==>...........................] - ETA: 1:05 - loss: 4.3687 - accuracy: 0.0679"
     ]
    }
   ],
   "source": [
    "history_101_feature_extract = model.fit(train_data,\n",
    "                                        epochs=5,\n",
    "                                        steps_per_epoch=len(train_data),\n",
    "                                        validation_data=test_data,\n",
    "                                        validation_steps=int(0.15*len(test_data)),\n",
    "                                        callbacks=[model_checkpoint])"
   ]
  },
  {
   "cell_type": "code",
   "execution_count": null,
   "metadata": {
    "colab": {
     "base_uri": "https://localhost:8080/"
    },
    "executionInfo": {
     "elapsed": 14193,
     "status": "ok",
     "timestamp": 1688438787701,
     "user": {
      "displayName": "ML TF",
      "userId": "03314444562734337696"
     },
     "user_tz": -330
    },
    "id": "Kf63KfRCK1Al",
    "outputId": "bbf50072-e0f7-47ec-b0af-09fc81fc4f8a"
   },
   "outputs": [],
   "source": [
    "#Evaluate\n",
    "result = model.evaluate(test_data)"
   ]
  },
  {
   "cell_type": "code",
   "execution_count": null,
   "metadata": {
    "colab": {
     "base_uri": "https://localhost:8080/"
    },
    "executionInfo": {
     "elapsed": 33,
     "status": "ok",
     "timestamp": 1688438787702,
     "user": {
      "displayName": "ML TF",
      "userId": "03314444562734337696"
     },
     "user_tz": -330
    },
    "id": "9HcuJ59ZNsal",
    "outputId": "c253548f-1d55-4ae5-cd3c-b22b8b37f038"
   },
   "outputs": [],
   "source": [
    "for i,layers in enumerate(model.layers):\n",
    "  print(i,layers.name)"
   ]
  },
  {
   "cell_type": "code",
   "execution_count": null,
   "metadata": {
    "colab": {
     "base_uri": "https://localhost:8080/"
    },
    "executionInfo": {
     "elapsed": 29,
     "status": "ok",
     "timestamp": 1688438787702,
     "user": {
      "displayName": "ML TF",
      "userId": "03314444562734337696"
     },
     "user_tz": -330
    },
    "id": "aH9YHa_qZTrc",
    "outputId": "f2b7abd9-2634-4d9f-9ea2-b5a8a8b6fa65"
   },
   "outputs": [],
   "source": [
    "for i,layer in enumerate(model.layers[1].layers):\n",
    "  print(i,layer.name,layer.trainable)"
   ]
  },
  {
   "cell_type": "code",
   "execution_count": null,
   "metadata": {
    "colab": {
     "base_uri": "https://localhost:8080/"
    },
    "executionInfo": {
     "elapsed": 27,
     "status": "ok",
     "timestamp": 1688438787702,
     "user": {
      "displayName": "ML TF",
      "userId": "03314444562734337696"
     },
     "user_tz": -330
    },
    "id": "_QvKC_FYZcZw",
    "outputId": "7c401fe0-f3e2-4732-b910-8f2ab945c23b"
   },
   "outputs": [],
   "source": [
    "model.layers[1].trainable=True\n",
    "for layer in model.layers[1].layers[:-15]:\n",
    "  layer.trainable=False\n",
    "\n",
    "model.compile(loss=tf.keras.losses.SparseCategoricalCrossentropy(),\n",
    "              optimizer=tf.keras.optimizers.Adam(learning_rate=0.0001),\n",
    "              metrics=['accuracy'])\n",
    "model.summary()"
   ]
  },
  {
   "cell_type": "code",
   "execution_count": null,
   "metadata": {
    "colab": {
     "base_uri": "https://localhost:8080/"
    },
    "executionInfo": {
     "elapsed": 359642,
     "status": "ok",
     "timestamp": 1688439147323,
     "user": {
      "displayName": "ML TF",
      "userId": "03314444562734337696"
     },
     "user_tz": -330
    },
    "id": "o1HyQcb0ZtzS",
    "outputId": "00220a55-c424-4de9-aab0-c81a91888404"
   },
   "outputs": [],
   "source": [
    "history_101_fine_tune = model.fit(train_data,\n",
    "                                  epochs=10,\n",
    "                                  initial_epoch=history_101_feature_extract.epoch[-1],\n",
    "                                  validation_data=test_data,\n",
    "                                  validation_steps=int(0.15*len(test_data)),\n",
    "                                  steps_per_epoch=len(train_data))"
   ]
  },
  {
   "cell_type": "code",
   "execution_count": null,
   "metadata": {
    "colab": {
     "base_uri": "https://localhost:8080/"
    },
    "executionInfo": {
     "elapsed": 13964,
     "status": "ok",
     "timestamp": 1688439161270,
     "user": {
      "displayName": "ML TF",
      "userId": "03314444562734337696"
     },
     "user_tz": -330
    },
    "id": "z-dHFE1qae9q",
    "outputId": "e2adf798-0596-4e15-e65a-9bd5a3540c35"
   },
   "outputs": [],
   "source": [
    "result_fine_tune = model.evaluate(test_data)"
   ]
  },
  {
   "cell_type": "markdown",
   "metadata": {
    "id": "1bGLiqJDei6-"
   },
   "source": [
    "# Challenge - Milestone Project"
   ]
  },
  {
   "cell_type": "code",
   "execution_count": null,
   "metadata": {
    "colab": {
     "base_uri": "https://localhost:8080/"
    },
    "executionInfo": {
     "elapsed": 2787,
     "status": "ok",
     "timestamp": 1688439164039,
     "user": {
      "displayName": "ML TF",
      "userId": "03314444562734337696"
     },
     "user_tz": -330
    },
    "id": "0o5gcPNhelNx",
    "outputId": "369ad63c-0b5a-4597-f83c-55c53ea738c1"
   },
   "outputs": [],
   "source": [
    "## Load in a gs model\n",
    "# Download the saved model from Google Storage\n",
    "!wget https://storage.googleapis.com/ztm_tf_course/food_vision/07_efficientnetb0_feature_extract_model_mixed_precision.zip\n",
    "!unzip 07_efficientnetb0_feature_extract_model_mixed_precision.zip"
   ]
  },
  {
   "cell_type": "code",
   "execution_count": null,
   "metadata": {
    "colab": {
     "base_uri": "https://localhost:8080/"
    },
    "executionInfo": {
     "elapsed": 11400,
     "status": "ok",
     "timestamp": 1688439175435,
     "user": {
      "displayName": "ML TF",
      "userId": "03314444562734337696"
     },
     "user_tz": -330
    },
    "id": "hCfDoTYJfepz",
    "outputId": "aef9a0e2-5d8d-4077-b4cf-0c3a449efd18"
   },
   "outputs": [],
   "source": [
    "model_challenge = tf.keras.models.load_model(\"07_efficientnetb0_feature_extract_model_mixed_precision\")"
   ]
  },
  {
   "cell_type": "code",
   "execution_count": null,
   "metadata": {
    "colab": {
     "base_uri": "https://localhost:8080/"
    },
    "executionInfo": {
     "elapsed": 19,
     "status": "ok",
     "timestamp": 1688439175435,
     "user": {
      "displayName": "ML TF",
      "userId": "03314444562734337696"
     },
     "user_tz": -330
    },
    "id": "LuZbKfxxf_4H",
    "outputId": "a13a46e3-2457-4082-f08b-0c27371c2129"
   },
   "outputs": [],
   "source": [
    "model_challenge.summary()"
   ]
  },
  {
   "cell_type": "code",
   "execution_count": null,
   "metadata": {
    "colab": {
     "base_uri": "https://localhost:8080/"
    },
    "executionInfo": {
     "elapsed": 17,
     "status": "ok",
     "timestamp": 1688439175435,
     "user": {
      "displayName": "ML TF",
      "userId": "03314444562734337696"
     },
     "user_tz": -330
    },
    "id": "L9NOgxfAgI44",
    "outputId": "c56292ab-0c40-40d2-b849-b083eb979e0a"
   },
   "outputs": [],
   "source": [
    "for i,layer in enumerate(model_challenge.layers):\n",
    "  print(i,layer.name,layer.trainable)"
   ]
  },
  {
   "cell_type": "code",
   "execution_count": null,
   "metadata": {
    "colab": {
     "base_uri": "https://localhost:8080/"
    },
    "executionInfo": {
     "elapsed": 14423,
     "status": "ok",
     "timestamp": 1688439189843,
     "user": {
      "displayName": "ML TF",
      "userId": "03314444562734337696"
     },
     "user_tz": -330
    },
    "id": "N6BZy7_SgP40",
    "outputId": "f1f0549a-f9bb-4fb0-d18b-5813e4f5d0e9"
   },
   "outputs": [],
   "source": [
    "result1_challenge = model_challenge.evaluate(test_data)"
   ]
  },
  {
   "cell_type": "code",
   "execution_count": null,
   "metadata": {
    "id": "2MU51FZ4hAN8"
   },
   "outputs": [],
   "source": [
    "#Set up EarlyStopping callback\n",
    "earlyStop = tf.keras.callbacks.EarlyStopping(monitor='val_loss',\n",
    "                                             patience=3)"
   ]
  },
  {
   "cell_type": "code",
   "execution_count": null,
   "metadata": {
    "id": "X75UrSuqWc8Y"
   },
   "outputs": [],
   "source": [
    "model_checkpoint_challenge=tf.keras.callbacks.ModelCheckpoint('challenge/',\n",
    "                                                    save_best_only=True)"
   ]
  },
  {
   "cell_type": "code",
   "execution_count": null,
   "metadata": {
    "colab": {
     "base_uri": "https://localhost:8080/"
    },
    "executionInfo": {
     "elapsed": 19,
     "status": "ok",
     "timestamp": 1688439189844,
     "user": {
      "displayName": "ML TF",
      "userId": "03314444562734337696"
     },
     "user_tz": -330
    },
    "id": "6NBHVWN6ga4N",
    "outputId": "04ee6cda-6e83-47c2-ce50-baf673ce3229"
   },
   "outputs": [],
   "source": [
    "# Setting all layers to rainable\n",
    "for i,layer in enumerate(model_challenge.layers):\n",
    "  layer.trainable=True\n",
    "for i,layer in enumerate(model_challenge.layers):\n",
    "  print(i,layer.name,layer.trainable)"
   ]
  },
  {
   "cell_type": "code",
   "execution_count": null,
   "metadata": {
    "colab": {
     "base_uri": "https://localhost:8080/"
    },
    "executionInfo": {
     "elapsed": 760845,
     "status": "ok",
     "timestamp": 1688439950672,
     "user": {
      "displayName": "ML TF",
      "userId": "03314444562734337696"
     },
     "user_tz": -330
    },
    "id": "DqJHmXAthRss",
    "outputId": "41db7f89-6aea-4fdf-bb2c-b2e18c583fc4"
   },
   "outputs": [],
   "source": [
    "model_challenge.compile(loss=tf.keras.losses.SparseCategoricalCrossentropy(),\n",
    "                        optimizer=tf.keras.optimizers.Adam(learning_rate=0.0001),\n",
    "                        metrics=['accuracy'])\n",
    "history_101_feature_extract_challenge = model_challenge.fit(train_data,\n",
    "                                                        steps_per_epoch=len(train_data),\n",
    "                                                        epochs=5,\n",
    "                                                        initial_epoch=history_101_feature_extract.epoch[-1],\n",
    "                                                        validation_data=test_data,\n",
    "                                                        validation_steps=int(0.15*len(test_data)),\n",
    "                                                        callbacks=[model_checkpoint_challenge,earlyStop],\n",
    "                                                        verbose=0)"
   ]
  },
  {
   "cell_type": "code",
   "execution_count": null,
   "metadata": {
    "colab": {
     "base_uri": "https://localhost:8080/"
    },
    "executionInfo": {
     "elapsed": 12500,
     "status": "ok",
     "timestamp": 1688439963154,
     "user": {
      "displayName": "ML TF",
      "userId": "03314444562734337696"
     },
     "user_tz": -330
    },
    "id": "4uK5Px43h2zF",
    "outputId": "51bcd84e-5456-4e3e-f2e3-d3bea6fb4161"
   },
   "outputs": [],
   "source": [
    "result1_finetune_challenge = model_challenge.evaluate(test_data)\n",
    "result1_finetune_challenge"
   ]
  },
  {
   "cell_type": "markdown",
   "metadata": {
    "id": "El5GReiWt9Qk"
   },
   "source": [
    "# EXERCISE\n",
    "1. Use the same evaluation techniques on the large-scale Food Vision model as you did in the previous notebook (Transfer Learning Part 3: Scaling up). More specifically, it would be good to see:\n",
    "  * A confusion matrix between all of the model's predictions and true labels.\n",
    "  * A graph showing the f1-scores of each class.\n",
    "  * A visualization of the model making predictions on various images and comparing the predictions to the ground truth.\n",
    "  \n",
    "  For example, plot a sample image from the test dataset and have the title of the plot show the prediction, the prediction probability and the ground truth label.\n",
    "  \n",
    "  **Note**: To compare predicted labels to test labels, it might be a good idea when loading the test data to set shuffle=False (so the ordering of test data is preserved alongside the order of predicted labels).\n",
    "2. Take 3 of your own photos of food and use the Food Vision model to make predictions on them. How does it go? Share your images/predictions with the other students.\n",
    "3. Retrain the model (feature extraction and fine-tuning) we trained in this notebook, except this time use EfficientNetB4 as the base model instead of EfficientNetB0. Do you notice an improvement in performance? Does it take longer to train? Are there any tradeoffs to consider?\n",
    "4. Name one important benefit of mixed precision training, how does this benefit take place?"
   ]
  },
  {
   "cell_type": "code",
   "execution_count": null,
   "metadata": {
    "colab": {
     "base_uri": "https://localhost:8080/"
    },
    "executionInfo": {
     "elapsed": 12346,
     "status": "ok",
     "timestamp": 1688441662865,
     "user": {
      "displayName": "ML TF",
      "userId": "03314444562734337696"
     },
     "user_tz": -330
    },
    "id": "yQoyvFAMoRkB",
    "outputId": "d31b9ff5-92c5-4888-f8fa-f287883ce36c"
   },
   "outputs": [],
   "source": [
    "#1\n",
    "pred_probs=model_challenge.predict(test_data)"
   ]
  },
  {
   "cell_type": "code",
   "execution_count": null,
   "metadata": {
    "colab": {
     "base_uri": "https://localhost:8080/"
    },
    "executionInfo": {
     "elapsed": 16,
     "status": "ok",
     "timestamp": 1688441663607,
     "user": {
      "displayName": "ML TF",
      "userId": "03314444562734337696"
     },
     "user_tz": -330
    },
    "id": "RJXCKg7V39RI",
    "outputId": "b4574ced-b9d4-4f2f-a239-3b8ae78b3613"
   },
   "outputs": [],
   "source": [
    "pred_probs[0]"
   ]
  },
  {
   "cell_type": "code",
   "execution_count": null,
   "metadata": {
    "colab": {
     "base_uri": "https://localhost:8080/"
    },
    "executionInfo": {
     "elapsed": 14,
     "status": "ok",
     "timestamp": 1688441663607,
     "user": {
      "displayName": "ML TF",
      "userId": "03314444562734337696"
     },
     "user_tz": -330
    },
    "id": "kBOhctwP4A4p",
    "outputId": "556b182f-9f0c-44e6-eeb6-1880f17ce2e5"
   },
   "outputs": [],
   "source": [
    "len(pred_probs[0])"
   ]
  },
  {
   "cell_type": "code",
   "execution_count": null,
   "metadata": {
    "id": "csYH_304wAXD"
   },
   "outputs": [],
   "source": [
    "class_names = ds_info.features[\"label\"].names"
   ]
  },
  {
   "cell_type": "code",
   "execution_count": null,
   "metadata": {
    "colab": {
     "base_uri": "https://localhost:8080/"
    },
    "executionInfo": {
     "elapsed": 12,
     "status": "ok",
     "timestamp": 1688441663608,
     "user": {
      "displayName": "ML TF",
      "userId": "03314444562734337696"
     },
     "user_tz": -330
    },
    "id": "V-9SyzhRKwje",
    "outputId": "6ee7e15e-e790-4bac-a17a-9e3777b3d62a"
   },
   "outputs": [],
   "source": [
    "len(pred_probs)"
   ]
  },
  {
   "cell_type": "code",
   "execution_count": null,
   "metadata": {
    "colab": {
     "base_uri": "https://localhost:8080/"
    },
    "executionInfo": {
     "elapsed": 11,
     "status": "ok",
     "timestamp": 1688441663608,
     "user": {
      "displayName": "ML TF",
      "userId": "03314444562734337696"
     },
     "user_tz": -330
    },
    "id": "3Y-yniCjus-Z",
    "outputId": "4badcaa3-cf1a-4c7c-8b43-3f7fd2919942"
   },
   "outputs": [],
   "source": [
    "pred_probs[0]"
   ]
  },
  {
   "cell_type": "code",
   "execution_count": null,
   "metadata": {
    "colab": {
     "base_uri": "https://localhost:8080/"
    },
    "executionInfo": {
     "elapsed": 10,
     "status": "ok",
     "timestamp": 1688441663608,
     "user": {
      "displayName": "ML TF",
      "userId": "03314444562734337696"
     },
     "user_tz": -330
    },
    "id": "OMy-QYJrxGK8",
    "outputId": "2c0adc96-7212-405d-f204-769f2c0a8217"
   },
   "outputs": [],
   "source": [
    "len(train_data),len(test_data)"
   ]
  },
  {
   "cell_type": "code",
   "execution_count": null,
   "metadata": {
    "colab": {
     "base_uri": "https://localhost:8080/"
    },
    "executionInfo": {
     "elapsed": 8,
     "status": "ok",
     "timestamp": 1688441663608,
     "user": {
      "displayName": "ML TF",
      "userId": "03314444562734337696"
     },
     "user_tz": -330
    },
    "id": "Cqg1l2PFJ7eo",
    "outputId": "b54117d9-8f8b-4672-ded3-0fa9e122dbfc"
   },
   "outputs": [],
   "source": [
    "class_names"
   ]
  },
  {
   "cell_type": "code",
   "execution_count": null,
   "metadata": {
    "colab": {
     "base_uri": "https://localhost:8080/"
    },
    "executionInfo": {
     "elapsed": 6,
     "status": "ok",
     "timestamp": 1688441663608,
     "user": {
      "displayName": "ML TF",
      "userId": "03314444562734337696"
     },
     "user_tz": -330
    },
    "id": "CLtv-q4TMwZn",
    "outputId": "dfd91f08-8468-4a85-d022-8e791c4a8223"
   },
   "outputs": [],
   "source": [
    "pred_probs[0]"
   ]
  },
  {
   "cell_type": "code",
   "execution_count": null,
   "metadata": {
    "id": "Alu-82X7MsIc"
   },
   "outputs": [],
   "source": [
    "X_test = [label for img,label in test_data.unbatch()]"
   ]
  },
  {
   "cell_type": "code",
   "execution_count": null,
   "metadata": {
    "colab": {
     "base_uri": "https://localhost:8080/"
    },
    "executionInfo": {
     "elapsed": 26,
     "status": "ok",
     "timestamp": 1688441672383,
     "user": {
      "displayName": "ML TF",
      "userId": "03314444562734337696"
     },
     "user_tz": -330
    },
    "id": "k1fCukHI4Pud",
    "outputId": "59ff6893-97fa-4bd9-9949-6716803c271c"
   },
   "outputs": [],
   "source": [
    "len(X_test)"
   ]
  },
  {
   "cell_type": "code",
   "execution_count": null,
   "metadata": {
    "colab": {
     "base_uri": "https://localhost:8080/"
    },
    "executionInfo": {
     "elapsed": 24,
     "status": "ok",
     "timestamp": 1688441672383,
     "user": {
      "displayName": "ML TF",
      "userId": "03314444562734337696"
     },
     "user_tz": -330
    },
    "id": "ioFNYVSU6nSt",
    "outputId": "8b517bb2-9562-4b8d-9363-9ef808170724"
   },
   "outputs": [],
   "source": [
    "X_test[0]"
   ]
  },
  {
   "cell_type": "code",
   "execution_count": null,
   "metadata": {
    "colab": {
     "base_uri": "https://localhost:8080/"
    },
    "executionInfo": {
     "elapsed": 23,
     "status": "ok",
     "timestamp": 1688441672383,
     "user": {
      "displayName": "ML TF",
      "userId": "03314444562734337696"
     },
     "user_tz": -330
    },
    "id": "-BMxXk6i7LQJ",
    "outputId": "37894273-b7d2-44c2-9e91-80525e84173b"
   },
   "outputs": [],
   "source": [
    "pred_probs.shape"
   ]
  },
  {
   "cell_type": "code",
   "execution_count": null,
   "metadata": {
    "colab": {
     "base_uri": "https://localhost:8080/"
    },
    "executionInfo": {
     "elapsed": 21,
     "status": "ok",
     "timestamp": 1688441672383,
     "user": {
      "displayName": "ML TF",
      "userId": "03314444562734337696"
     },
     "user_tz": -330
    },
    "id": "5uvaaX9z7IGU",
    "outputId": "9b270ff4-37d1-4d27-8c84-71f2fb69212c"
   },
   "outputs": [],
   "source": [
    "pred_probs.argmax(axis=1)"
   ]
  },
  {
   "cell_type": "code",
   "execution_count": null,
   "metadata": {
    "colab": {
     "base_uri": "https://localhost:8080/"
    },
    "executionInfo": {
     "elapsed": 612,
     "status": "ok",
     "timestamp": 1688441672975,
     "user": {
      "displayName": "ML TF",
      "userId": "03314444562734337696"
     },
     "user_tz": -330
    },
    "id": "9u_TxoRfJd20",
    "outputId": "0cc82449-0126-4f59-9766-6f0c24ea4d4e"
   },
   "outputs": [],
   "source": [
    "# correct_pred=0\n",
    "# index=0\n",
    "# for img,label in test_data:\n",
    "#   #if class_names[label.numpy()]==class_names[pred_probs[i].argmax()]:\n",
    "#   #  correct_pred+=1\n",
    "#   # x=label.numpy()\n",
    "#   for i in label.numpy():\n",
    "#     if i==pred_probs[index].argmax():\n",
    "#       correct_pred+=1\n",
    "#       print(i)\n",
    "#   # print(len(x))\n",
    "#   # break\n",
    "#   index+=1\n",
    "# print(correct_pred)\n",
    "from sklearn.metrics import classification_report\n",
    "X_pred=pred_probs.argmax(axis=1)\n",
    "# X_pred=X_pred.numpy()\n",
    "output = classification_report(X_test,X_pred)\n",
    "print(output)"
   ]
  },
  {
   "cell_type": "code",
   "execution_count": null,
   "metadata": {
    "colab": {
     "base_uri": "https://localhost:8080/"
    },
    "executionInfo": {
     "elapsed": 4968,
     "status": "ok",
     "timestamp": 1688445645013,
     "user": {
      "displayName": "ML TF",
      "userId": "03314444562734337696"
     },
     "user_tz": -330
    },
    "id": "VhM7gdzr-CTV",
    "outputId": "ebefcf6e-ff3c-40a7-a698-355d091a7b27"
   },
   "outputs": [],
   "source": [
    "#3\n",
    "input_shape=(48,48,3)\n",
    "base_model=tf.keras.applications.EfficientNetB4(include_top=False)\n",
    "base_model.trainable=False\n",
    "\n",
    "inputs = tf.keras.layers.Input(shape=input_shape)\n",
    "x = base_model(inputs,training=False)\n",
    "x = tf.keras.layers.GlobalAveragePooling2D()(x)\n",
    "x = tf.keras.layers.Dense(len(class_names))(x)\n",
    "\n",
    "outputs = tf.keras.layers.Activation(tf.keras.activations.softmax,dtype=tf.float32)(x)\n",
    "\n",
    "model2=tf.keras.Model(inputs,outputs)\n",
    "\n",
    "model2.compile(loss=tf.keras.losses.SparseCategoricalCrossentropy(),\n",
    "              optimizer=tf.keras.optimizers.Adam(),\n",
    "              metrics=['accuracy'])\n",
    "model2.summary()"
   ]
  },
  {
   "cell_type": "code",
   "execution_count": null,
   "metadata": {
    "colab": {
     "base_uri": "https://localhost:8080/"
    },
    "executionInfo": {
     "elapsed": 510113,
     "status": "ok",
     "timestamp": 1688446155121,
     "user": {
      "displayName": "ML TF",
      "userId": "03314444562734337696"
     },
     "user_tz": -330
    },
    "id": "_m5WR7ij-N5Y",
    "outputId": "a9614b80-67ab-4cea-81b7-4c5776afcb95"
   },
   "outputs": [],
   "source": [
    "history_101_feature_extract2 = model2.fit(train_data,\n",
    "                                        epochs=5,\n",
    "                                        steps_per_epoch=len(train_data),\n",
    "                                        validation_data=test_data,\n",
    "                                        validation_steps=int(0.15*len(test_data)),\n",
    "                                        callbacks=[model_checkpoint])"
   ]
  },
  {
   "cell_type": "code",
   "execution_count": null,
   "metadata": {
    "colab": {
     "base_uri": "https://localhost:8080/"
    },
    "executionInfo": {
     "elapsed": 24,
     "status": "ok",
     "timestamp": 1688446155121,
     "user": {
      "displayName": "ML TF",
      "userId": "03314444562734337696"
     },
     "user_tz": -330
    },
    "id": "3dDw5wTJBgjw",
    "outputId": "4aff10f7-0386-4a91-b063-2b40a5d27ad6"
   },
   "outputs": [],
   "source": [
    "# Setting all layers to rainable\n",
    "for i,layer in enumerate(model2.layers):\n",
    "  layer.trainable=True\n",
    "for i,layer in enumerate(model2.layers):\n",
    "  print(i,layer.name,layer.trainable)"
   ]
  },
  {
   "cell_type": "code",
   "execution_count": null,
   "metadata": {
    "colab": {
     "base_uri": "https://localhost:8080/"
    },
    "executionInfo": {
     "elapsed": 3147407,
     "status": "ok",
     "timestamp": 1688449302524,
     "user": {
      "displayName": "ML TF",
      "userId": "03314444562734337696"
     },
     "user_tz": -330
    },
    "id": "sFy1u_ooBiut",
    "outputId": "af6131e0-091b-4c75-a32a-e4f290e6f592"
   },
   "outputs": [],
   "source": [
    "model2.compile(loss=tf.keras.losses.SparseCategoricalCrossentropy(),\n",
    "                        optimizer=tf.keras.optimizers.Adam(learning_rate=0.0001),\n",
    "                        metrics=['accuracy'])\n",
    "history_101_b4 = model2.fit(train_data,\n",
    "                            steps_per_epoch=len(train_data),\n",
    "                            epochs=8,\n",
    "                            initial_epoch=history_101_feature_extract2.epoch[-1],\n",
    "                            validation_data=test_data,\n",
    "                            validation_steps=int(0.15*len(test_data)),\n",
    "                            callbacks=[model_checkpoint_challenge,earlyStop])"
   ]
  },
  {
   "cell_type": "code",
   "execution_count": null,
   "metadata": {
    "colab": {
     "base_uri": "https://localhost:8080/"
    },
    "executionInfo": {
     "elapsed": 28344,
     "status": "ok",
     "timestamp": 1688449360436,
     "user": {
      "displayName": "ML TF",
      "userId": "03314444562734337696"
     },
     "user_tz": -330
    },
    "id": "qYKwj8Oea-Kv",
    "outputId": "714c748e-18ff-4a93-d43a-b9919da70c00"
   },
   "outputs": [],
   "source": [
    "result = model2.evaluate(test_data)\n",
    "result"
   ]
  },
  {
   "cell_type": "markdown",
   "metadata": {
    "id": "9SU-KgdvbLi4"
   },
   "source": [
    "Performance with efficientNetB4 has improved a lot with lesser training time(i.e. lesser epochs) but the time taken for the model to learn the patterns is very long."
   ]
  },
  {
   "cell_type": "markdown",
   "metadata": {
    "id": "tBK-Yz-ybZ_H"
   },
   "source": [
    "Benefit of mixed precision -> Train faster with lesser number of bits being used for computation"
   ]
  }
 ],
 "metadata": {
  "accelerator": "GPU",
  "colab": {
   "provenance": []
  },
  "kernelspec": {
   "display_name": "Python 3 (ipykernel)",
   "language": "python",
   "name": "python3"
  },
  "language_info": {
   "codemirror_mode": {
    "name": "ipython",
    "version": 3
   },
   "file_extension": ".py",
   "mimetype": "text/x-python",
   "name": "python",
   "nbconvert_exporter": "python",
   "pygments_lexer": "ipython3",
   "version": "3.9.18"
  }
 },
 "nbformat": 4,
 "nbformat_minor": 4
}
