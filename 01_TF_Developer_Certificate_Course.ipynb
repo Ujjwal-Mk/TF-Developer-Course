{
 "cells": [
  {
   "cell_type": "markdown",
   "metadata": {
    "id": "i8_kiozAk_cu"
   },
   "source": [
    "# Introduction to Regression with Neural Networks in Tensorflow"
   ]
  },
  {
   "cell_type": "code",
   "execution_count": 1,
   "metadata": {
    "colab": {
     "base_uri": "https://localhost:8080/",
     "height": 35
    },
    "executionInfo": {
     "elapsed": 2694,
     "status": "ok",
     "timestamp": 1673953568528,
     "user": {
      "displayName": "Ujjwal Mk",
      "userId": "12008983132848472926"
     },
     "user_tz": -330
    },
    "id": "vldRum17P9qt",
    "outputId": "82d1fa40-e8ac-4da2-cffa-78af71dd1991"
   },
   "outputs": [
    {
     "name": "stdout",
     "output_type": "stream",
     "text": [
      "[INFO] 'helper_functions.py' already exists, skipping download.\n",
      "2.13.0\n",
      "1 Physical GPUs, 1 Logical GPUs\n",
      "INFO:tensorflow:Mixed precision compatibility check (mixed_float16): OK\n",
      "Your GPU will likely run quickly with dtype policy mixed_float16 as it has compute capability of at least 7.0. Your GPU: NVIDIA GeForce RTX 3050 Laptop GPU, compute capability 8.6\n",
      "<Policy \"mixed_float16\">\n"
     ]
    }
   ],
   "source": [
    "import os\n",
    "os.environ['TF_CPP_MIN_LOG_LEVEL'] = '3'\n",
    "os.environ[\"KMP_DUPLICATE_LIB_OK\"]=\"TRUE\"\n",
    "import tensorflow as tf\n",
    "if not os.path.exists(\"helper_functions.py\"):\n",
    "  !wget https://raw.githubusercontent.com/mrdbourke/tensorflow-deep-learning/main/extras/helper_functions.py\n",
    "else:\n",
    "  print(\"[INFO] 'helper_functions.py' already exists, skipping download.\")\n",
    "from helper_functions import *\n",
    "# from tensorflow.keras import mixed_precision\n",
    "# mixed_precision.set_global_policy('mixed_float16')\n",
    "importTensorflow(memory=4000, precision=True)"
   ]
  },
  {
   "cell_type": "markdown",
   "metadata": {
    "id": "KuvTKCwllfZF"
   },
   "source": [
    "### Creating a data to view and fit"
   ]
  },
  {
   "cell_type": "code",
   "execution_count": 2,
   "metadata": {
    "colab": {
     "base_uri": "https://localhost:8080/",
     "height": 286
    },
    "executionInfo": {
     "elapsed": 34,
     "status": "ok",
     "timestamp": 1673953568529,
     "user": {
      "displayName": "Ujjwal Mk",
      "userId": "12008983132848472926"
     },
     "user_tz": -330
    },
    "id": "1-R1ICv9lXeU",
    "outputId": "ae150dda-219b-4f27-e025-4d38e907fb9e"
   },
   "outputs": [
    {
     "data": {
      "text/plain": [
       "<matplotlib.collections.PathCollection at 0x7f430e531ee0>"
      ]
     },
     "execution_count": 2,
     "metadata": {},
     "output_type": "execute_result"
    },
    {
     "data": {
      "image/png": "[encoded data removed]",
      "text/plain": [
       "<Figure size 640x480 with 1 Axes>"
      ]
     },
     "metadata": {},
     "output_type": "display_data"
    }
   ],
   "source": [
    "import numpy as np\n",
    "import matplotlib.pyplot as plt\n",
    "\n",
    "#Create features\n",
    "X=np.array([-7.,-4.,-1.,2.,5.,8.,11.,14.])\n",
    "#Create labels\n",
    "y=np.array([3.,6.,9.,12.,15.,18.,21.,24.])\n",
    "#Visualize it\n",
    "plt.scatter(X,y)"
   ]
  },
  {
   "cell_type": "code",
   "execution_count": 3,
   "metadata": {
    "colab": {
     "base_uri": "https://localhost:8080/"
    },
    "executionInfo": {
     "elapsed": 30,
     "status": "ok",
     "timestamp": 1673953568529,
     "user": {
      "displayName": "Ujjwal Mk",
      "userId": "12008983132848472926"
     },
     "user_tz": -330
    },
    "id": "PK2udNzdl_gj",
    "outputId": "2a01f5a9-1dd6-4b77-c8b3-49cb789aa984"
   },
   "outputs": [
    {
     "data": {
      "text/plain": [
       "array([ True,  True,  True,  True,  True,  True,  True,  True])"
      ]
     },
     "execution_count": 3,
     "metadata": {},
     "output_type": "execute_result"
    }
   ],
   "source": [
    "y == (X+10)"
   ]
  },
  {
   "cell_type": "markdown",
   "metadata": {
    "id": "uT3leXHHmbdC"
   },
   "source": [
    "### Input and Output Shapes"
   ]
  },
  {
   "cell_type": "code",
   "execution_count": 4,
   "metadata": {
    "colab": {
     "base_uri": "https://localhost:8080/"
    },
    "executionInfo": {
     "elapsed": 19,
     "status": "ok",
     "timestamp": 1673953568529,
     "user": {
      "displayName": "Ujjwal Mk",
      "userId": "12008983132848472926"
     },
     "user_tz": -330
    },
    "id": "XepuRUXOmatr",
    "outputId": "669cf81b-f94e-4f89-81db-f2a2abdf6d37"
   },
   "outputs": [
    {
     "data": {
      "text/plain": [
       "(<tf.Tensor: shape=(3,), dtype=string, numpy=array([b'bedroom', b'bathroom', b'garage'], dtype=object)>,\n",
       " <tf.Tensor: shape=(1,), dtype=int32, numpy=array([939700], dtype=int32)>)"
      ]
     },
     "execution_count": 4,
     "metadata": {},
     "output_type": "execute_result"
    }
   ],
   "source": [
    "# Create a demo tensor for housing price prediction\n",
    "house_info = tf.constant([\"bedroom\",\"bathroom\",\"garage\"])\n",
    "house_price=tf.constant([939700])\n",
    "house_info,house_price"
   ]
  },
  {
   "cell_type": "code",
   "execution_count": 5,
   "metadata": {
    "colab": {
     "base_uri": "https://localhost:8080/"
    },
    "executionInfo": {
     "elapsed": 11,
     "status": "ok",
     "timestamp": 1673953568529,
     "user": {
      "displayName": "Ujjwal Mk",
      "userId": "12008983132848472926"
     },
     "user_tz": -330
    },
    "id": "QU21ErXom8nz",
    "outputId": "8631a01d-53a4-4180-dd65-6d1e785eebf7"
   },
   "outputs": [
    {
     "data": {
      "text/plain": [
       "((), ())"
      ]
     },
     "execution_count": 5,
     "metadata": {},
     "output_type": "execute_result"
    }
   ],
   "source": [
    "input_shape=X[0].shape\n",
    "output_shape=y[0].shape\n",
    "input_shape,output_shape"
   ]
  },
  {
   "cell_type": "code",
   "execution_count": 6,
   "metadata": {
    "colab": {
     "base_uri": "https://localhost:8080/"
    },
    "executionInfo": {
     "elapsed": 653,
     "status": "ok",
     "timestamp": 1673953569177,
     "user": {
      "displayName": "Ujjwal Mk",
      "userId": "12008983132848472926"
     },
     "user_tz": -330
    },
    "id": "18IrcIudnMdA",
    "outputId": "95110731-7472-4086-aec4-30b966adee90"
   },
   "outputs": [
    {
     "data": {
      "text/plain": [
       "(<tf.Tensor: shape=(8,), dtype=float64, numpy=array([-7., -4., -1.,  2.,  5.,  8., 11., 14.])>,\n",
       " <tf.Tensor: shape=(8,), dtype=float64, numpy=array([ 3.,  6.,  9., 12., 15., 18., 21., 24.])>)"
      ]
     },
     "execution_count": 6,
     "metadata": {},
     "output_type": "execute_result"
    }
   ],
   "source": [
    "# Turn our np array into tensor\n",
    "X = tf.constant(X)\n",
    "y = tf.constant(y)\n",
    "X,y"
   ]
  },
  {
   "cell_type": "markdown",
   "metadata": {
    "id": "KepsOS6SosD_"
   },
   "source": [
    "## Steps in modelling with Tensorflow\n",
    "\n",
    "1. Creating a model - define input and output layers and hidden layers\n",
    "2. Compile a model - define the loss function, the function which tells how good our model is and optimizer which tells our model to improve\n",
    "3. Fitting a model - letting the model try to find patterns between X and y"
   ]
  },
  {
   "cell_type": "code",
   "execution_count": 7,
   "metadata": {
    "colab": {
     "base_uri": "https://localhost:8080/"
    },
    "executionInfo": {
     "elapsed": 484,
     "status": "ok",
     "timestamp": 1673953569650,
     "user": {
      "displayName": "Ujjwal Mk",
      "userId": "12008983132848472926"
     },
     "user_tz": -330
    },
    "id": "DAXE4rjPpF_2",
    "outputId": "3f2ee968-4390-4361-eb2f-d59f8499bca5"
   },
   "outputs": [
    {
     "name": "stdout",
     "output_type": "stream",
     "text": [
      "Epoch 1/5\n",
      "1/1 [==============================] - 0s 375ms/step - loss: 8.0156 - mae: 8.0110 - accuracy: 0.0000e+00\n",
      "Epoch 2/5\n",
      "1/1 [==============================] - 0s 51ms/step - loss: 8.0156 - mae: 8.0110 - accuracy: 0.0000e+00\n",
      "Epoch 3/5\n",
      "1/1 [==============================] - 0s 5ms/step - loss: 7.8750 - mae: 7.8767 - accuracy: 0.0000e+00\n",
      "Epoch 4/5\n",
      "1/1 [==============================] - 0s 5ms/step - loss: 7.7461 - mae: 7.7439 - accuracy: 0.0000e+00\n",
      "Epoch 5/5\n",
      "1/1 [==============================] - 0s 5ms/step - loss: 7.6133 - mae: 7.6115 - accuracy: 0.0000e+00\n"
     ]
    },
    {
     "data": {
      "text/plain": [
       "<keras.src.callbacks.History at 0x7f43081dc220>"
      ]
     },
     "execution_count": 7,
     "metadata": {},
     "output_type": "execute_result"
    }
   ],
   "source": [
    "# Set the random seed\n",
    "tf.random.set_seed(42)\n",
    "\n",
    "# 1. Create a model using sequential API\n",
    "model_1= tf.keras.Sequential([\n",
    "    tf.keras.layers.Dense(1)\n",
    "])\n",
    "# 2. Compile the model\n",
    "model_1.compile(loss=tf.keras.losses.mae,\n",
    "              optimizer=tf.keras.optimizers.SGD(),\n",
    "              metrics=[\"mae\",\"accuracy\"]\n",
    "              )\n",
    "# 3. Fit the model\n",
    "model_1.fit(tf.expand_dims(X,axis=-1),y,epochs=5)"
   ]
  },
  {
   "cell_type": "code",
   "execution_count": 8,
   "metadata": {
    "colab": {
     "base_uri": "https://localhost:8080/"
    },
    "executionInfo": {
     "elapsed": 23,
     "status": "ok",
     "timestamp": 1673953569650,
     "user": {
      "displayName": "Ujjwal Mk",
      "userId": "12008983132848472926"
     },
     "user_tz": -330
    },
    "id": "PboWF2Zt6Qo0",
    "outputId": "1048ed2e-fa7c-4888-a1fa-8f6840090e15"
   },
   "outputs": [
    {
     "data": {
      "text/plain": [
       "(<tf.Tensor: shape=(8,), dtype=float64, numpy=array([-7., -4., -1.,  2.,  5.,  8., 11., 14.])>,\n",
       " <tf.Tensor: shape=(8,), dtype=float64, numpy=array([ 3.,  6.,  9., 12., 15., 18., 21., 24.])>)"
      ]
     },
     "execution_count": 8,
     "metadata": {},
     "output_type": "execute_result"
    }
   ],
   "source": [
    "# Check out X and y\n",
    "X,y"
   ]
  },
  {
   "cell_type": "markdown",
   "metadata": {
    "id": "rMLd6Hx4BnDe"
   },
   "source": [
    "### Improving the model\n",
    "\n",
    "We can improve the model by altering the steps taken\n",
    "1. Creating a model - increase the hidden layers and also change the activation function of each layer\n",
    "2. Compiling a model - change optimization function and learning rate hyper-parameter\n",
    "3. Fitting model - increase epochs or increase data"
   ]
  },
  {
   "cell_type": "code",
   "execution_count": 9,
   "metadata": {
    "colab": {
     "base_uri": "https://localhost:8080/"
    },
    "executionInfo": {
     "elapsed": 2065,
     "status": "ok",
     "timestamp": 1673953571707,
     "user": {
      "displayName": "Ujjwal Mk",
      "userId": "12008983132848472926"
     },
     "user_tz": -330
    },
    "id": "Y3nu3bA780tI",
    "outputId": "cdc83cf2-b5f0-4c43-dc68-8fa3390cae57"
   },
   "outputs": [
    {
     "name": "stdout",
     "output_type": "stream",
     "text": [
      "Epoch 1/100\n",
      "1/1 [==============================] - 0s 444ms/step - loss: 16.6250 - mae: 16.6285 - accuracy: 0.0000e+00\n",
      "Epoch 2/100\n",
      "1/1 [==============================] - 0s 3ms/step - loss: 16.6250 - mae: 16.6285 - accuracy: 0.0000e+00\n",
      "Epoch 3/100\n",
      "1/1 [==============================] - 0s 39ms/step - loss: 16.6250 - mae: 16.6285 - accuracy: 0.0000e+00\n",
      "Epoch 4/100\n",
      "1/1 [==============================] - 0s 5ms/step - loss: 16.3438 - mae: 16.3481 - accuracy: 0.0000e+00\n",
      "Epoch 5/100\n",
      "1/1 [==============================] - 0s 5ms/step - loss: 16.0625 - mae: 16.0662 - accuracy: 0.0000e+00\n",
      "Epoch 6/100\n",
      "1/1 [==============================] - 0s 5ms/step - loss: 15.7812 - mae: 15.7858 - accuracy: 0.0000e+00\n",
      "Epoch 7/100\n",
      "1/1 [==============================] - 0s 4ms/step - loss: 15.5000 - mae: 15.5032 - accuracy: 0.0000e+00\n",
      "Epoch 8/100\n",
      "1/1 [==============================] - 0s 4ms/step - loss: 15.2266 - mae: 15.2235 - accuracy: 0.0000e+00\n",
      "Epoch 9/100\n",
      "1/1 [==============================] - 0s 4ms/step - loss: 14.9453 - mae: 14.9423 - accuracy: 0.0000e+00\n",
      "Epoch 10/100\n",
      "1/1 [==============================] - 0s 5ms/step - loss: 14.7500 - mae: 14.7481 - accuracy: 0.0000e+00\n",
      "Epoch 11/100\n",
      "1/1 [==============================] - 0s 5ms/step - loss: 14.6172 - mae: 14.6151 - accuracy: 0.0000e+00\n",
      "Epoch 12/100\n",
      "1/1 [==============================] - 0s 5ms/step - loss: 14.4844 - mae: 14.4828 - accuracy: 0.0000e+00\n",
      "Epoch 13/100\n",
      "1/1 [==============================] - 0s 5ms/step - loss: 14.3516 - mae: 14.3508 - accuracy: 0.0000e+00\n",
      "Epoch 14/100\n",
      "1/1 [==============================] - 0s 4ms/step - loss: 14.2109 - mae: 14.2177 - accuracy: 0.0000e+00\n",
      "Epoch 15/100\n",
      "1/1 [==============================] - 0s 4ms/step - loss: 14.0859 - mae: 14.0856 - accuracy: 0.0000e+00\n",
      "Epoch 16/100\n",
      "1/1 [==============================] - 0s 4ms/step - loss: 13.9531 - mae: 13.9528 - accuracy: 0.0000e+00\n",
      "Epoch 17/100\n",
      "1/1 [==============================] - 0s 4ms/step - loss: 13.8281 - mae: 13.8201 - accuracy: 0.0000e+00\n",
      "Epoch 18/100\n",
      "1/1 [==============================] - 0s 4ms/step - loss: 13.6875 - mae: 13.6879 - accuracy: 0.0000e+00\n",
      "Epoch 19/100\n",
      "1/1 [==============================] - 0s 4ms/step - loss: 13.5547 - mae: 13.5553 - accuracy: 0.0000e+00\n",
      "Epoch 20/100\n",
      "1/1 [==============================] - 0s 4ms/step - loss: 13.4219 - mae: 13.4227 - accuracy: 0.0000e+00\n",
      "Epoch 21/100\n",
      "1/1 [==============================] - 0s 4ms/step - loss: 13.2969 - mae: 13.2903 - accuracy: 0.0000e+00\n",
      "Epoch 22/100\n",
      "1/1 [==============================] - 0s 4ms/step - loss: 13.1562 - mae: 13.1578 - accuracy: 0.0000e+00\n",
      "Epoch 23/100\n",
      "1/1 [==============================] - 0s 4ms/step - loss: 13.0312 - mae: 13.0252 - accuracy: 0.0000e+00\n",
      "Epoch 24/100\n",
      "1/1 [==============================] - 0s 4ms/step - loss: 12.8984 - mae: 12.8927 - accuracy: 0.0000e+00\n",
      "Epoch 25/100\n",
      "1/1 [==============================] - 0s 4ms/step - loss: 12.7578 - mae: 12.7599 - accuracy: 0.0000e+00\n",
      "Epoch 26/100\n",
      "1/1 [==============================] - 0s 4ms/step - loss: 12.6250 - mae: 12.6275 - accuracy: 0.0000e+00\n",
      "Epoch 27/100\n",
      "1/1 [==============================] - 0s 4ms/step - loss: 12.4922 - mae: 12.4952 - accuracy: 0.0000e+00\n",
      "Epoch 28/100\n",
      "1/1 [==============================] - 0s 4ms/step - loss: 12.3672 - mae: 12.3627 - accuracy: 0.0000e+00\n",
      "Epoch 29/100\n",
      "1/1 [==============================] - 0s 4ms/step - loss: 12.2344 - mae: 12.2305 - accuracy: 0.0000e+00\n",
      "Epoch 30/100\n",
      "1/1 [==============================] - 0s 4ms/step - loss: 12.0938 - mae: 12.0975 - accuracy: 0.0000e+00\n",
      "Epoch 31/100\n",
      "1/1 [==============================] - 0s 4ms/step - loss: 11.9688 - mae: 11.9654 - accuracy: 0.0000e+00\n",
      "Epoch 32/100\n",
      "1/1 [==============================] - 0s 4ms/step - loss: 11.8359 - mae: 11.8324 - accuracy: 0.0000e+00\n",
      "Epoch 33/100\n",
      "1/1 [==============================] - 0s 4ms/step - loss: 11.7031 - mae: 11.7000 - accuracy: 0.0000e+00\n",
      "Epoch 34/100\n",
      "1/1 [==============================] - 0s 4ms/step - loss: 11.5703 - mae: 11.5680 - accuracy: 0.0000e+00\n",
      "Epoch 35/100\n",
      "1/1 [==============================] - 0s 4ms/step - loss: 11.4375 - mae: 11.4359 - accuracy: 0.0000e+00\n",
      "Epoch 36/100\n",
      "1/1 [==============================] - 0s 4ms/step - loss: 11.3047 - mae: 11.3023 - accuracy: 0.0000e+00\n",
      "Epoch 37/100\n",
      "1/1 [==============================] - 0s 4ms/step - loss: 11.1719 - mae: 11.1692 - accuracy: 0.0000e+00\n",
      "Epoch 38/100\n",
      "1/1 [==============================] - 0s 4ms/step - loss: 11.0312 - mae: 11.0381 - accuracy: 0.0000e+00\n",
      "Epoch 39/100\n",
      "1/1 [==============================] - 0s 5ms/step - loss: 10.9062 - mae: 10.9047 - accuracy: 0.0000e+00\n",
      "Epoch 40/100\n",
      "1/1 [==============================] - 0s 4ms/step - loss: 10.7734 - mae: 10.7728 - accuracy: 0.0000e+00\n",
      "Epoch 41/100\n",
      "1/1 [==============================] - 0s 4ms/step - loss: 10.6406 - mae: 10.6408 - accuracy: 0.0000e+00\n",
      "Epoch 42/100\n",
      "1/1 [==============================] - 0s 4ms/step - loss: 10.5156 - mae: 10.5077 - accuracy: 0.0000e+00\n",
      "Epoch 43/100\n",
      "1/1 [==============================] - 0s 4ms/step - loss: 10.3750 - mae: 10.3750 - accuracy: 0.0000e+00\n",
      "Epoch 44/100\n",
      "1/1 [==============================] - 0s 4ms/step - loss: 10.2500 - mae: 10.2446 - accuracy: 0.0000e+00\n",
      "Epoch 45/100\n",
      "1/1 [==============================] - 0s 4ms/step - loss: 10.1094 - mae: 10.1091 - accuracy: 0.0000e+00\n",
      "Epoch 46/100\n",
      "1/1 [==============================] - 0s 4ms/step - loss: 9.9766 - mae: 9.9765 - accuracy: 0.0000e+00\n",
      "Epoch 47/100\n",
      "1/1 [==============================] - 0s 4ms/step - loss: 9.8438 - mae: 9.8461 - accuracy: 0.0000e+00\n",
      "Epoch 48/100\n",
      "1/1 [==============================] - 0s 4ms/step - loss: 9.7188 - mae: 9.7125 - accuracy: 0.0000e+00\n",
      "Epoch 49/100\n",
      "1/1 [==============================] - 0s 4ms/step - loss: 9.5781 - mae: 9.5792 - accuracy: 0.0000e+00\n",
      "Epoch 50/100\n",
      "1/1 [==============================] - 0s 4ms/step - loss: 9.4453 - mae: 9.4478 - accuracy: 0.0000e+00\n",
      "Epoch 51/100\n",
      "1/1 [==============================] - 0s 4ms/step - loss: 9.3125 - mae: 9.3166 - accuracy: 0.0000e+00\n",
      "Epoch 52/100\n",
      "1/1 [==============================] - 0s 4ms/step - loss: 9.1875 - mae: 9.1835 - accuracy: 0.0000e+00\n",
      "Epoch 53/100\n",
      "1/1 [==============================] - 0s 4ms/step - loss: 9.0469 - mae: 9.0492 - accuracy: 0.0000e+00\n",
      "Epoch 54/100\n",
      "1/1 [==============================] - 0s 4ms/step - loss: 8.9141 - mae: 8.9159 - accuracy: 0.0000e+00\n",
      "Epoch 55/100\n",
      "1/1 [==============================] - 0s 4ms/step - loss: 8.7891 - mae: 8.7870 - accuracy: 0.0000e+00\n",
      "Epoch 56/100\n",
      "1/1 [==============================] - 0s 4ms/step - loss: 8.6484 - mae: 8.6512 - accuracy: 0.0000e+00\n",
      "Epoch 57/100\n",
      "1/1 [==============================] - 0s 4ms/step - loss: 8.5234 - mae: 8.5206 - accuracy: 0.0000e+00\n",
      "Epoch 58/100\n",
      "1/1 [==============================] - 0s 4ms/step - loss: 8.3906 - mae: 8.3892 - accuracy: 0.0000e+00\n",
      "Epoch 59/100\n",
      "1/1 [==============================] - 0s 5ms/step - loss: 8.2578 - mae: 8.2549 - accuracy: 0.0000e+00\n",
      "Epoch 60/100\n",
      "1/1 [==============================] - 0s 4ms/step - loss: 8.1250 - mae: 8.1201 - accuracy: 0.0000e+00\n",
      "Epoch 61/100\n",
      "1/1 [==============================] - 0s 4ms/step - loss: 7.9922 - mae: 7.9913 - accuracy: 0.0000e+00\n",
      "Epoch 62/100\n",
      "1/1 [==============================] - 0s 5ms/step - loss: 7.8594 - mae: 7.8585 - accuracy: 0.0000e+00\n",
      "Epoch 63/100\n",
      "1/1 [==============================] - 0s 4ms/step - loss: 7.7266 - mae: 7.7266 - accuracy: 0.0000e+00\n",
      "Epoch 64/100\n",
      "1/1 [==============================] - 0s 4ms/step - loss: 7.5938 - mae: 7.5914 - accuracy: 0.0000e+00\n",
      "Epoch 65/100\n",
      "1/1 [==============================] - 0s 4ms/step - loss: 7.4531 - mae: 7.4573 - accuracy: 0.0000e+00\n",
      "Epoch 66/100\n",
      "1/1 [==============================] - 0s 4ms/step - loss: 7.3281 - mae: 7.3271 - accuracy: 0.0000e+00\n",
      "Epoch 67/100\n",
      "1/1 [==============================] - 0s 4ms/step - loss: 7.1953 - mae: 7.1946 - accuracy: 0.0000e+00\n",
      "Epoch 68/100\n",
      "1/1 [==============================] - 0s 4ms/step - loss: 7.0664 - mae: 7.0662 - accuracy: 0.0000e+00\n",
      "Epoch 69/100\n",
      "1/1 [==============================] - 0s 4ms/step - loss: 7.0156 - mae: 7.0181 - accuracy: 0.0000e+00\n",
      "Epoch 70/100\n",
      "1/1 [==============================] - 0s 4ms/step - loss: 7.0156 - mae: 7.0127 - accuracy: 0.0000e+00\n",
      "Epoch 71/100\n",
      "1/1 [==============================] - 0s 4ms/step - loss: 7.0078 - mae: 7.0068 - accuracy: 0.0000e+00\n",
      "Epoch 72/100\n",
      "1/1 [==============================] - 0s 4ms/step - loss: 7.0000 - mae: 7.0011 - accuracy: 0.0000e+00\n",
      "Epoch 73/100\n",
      "1/1 [==============================] - 0s 3ms/step - loss: 6.9922 - mae: 6.9954 - accuracy: 0.0000e+00\n",
      "Epoch 74/100\n",
      "1/1 [==============================] - 0s 4ms/step - loss: 6.9922 - mae: 6.9895 - accuracy: 0.0000e+00\n",
      "Epoch 75/100\n",
      "1/1 [==============================] - 0s 3ms/step - loss: 6.9844 - mae: 6.9836 - accuracy: 0.0000e+00\n",
      "Epoch 76/100\n",
      "1/1 [==============================] - 0s 4ms/step - loss: 6.9805 - mae: 6.9778 - accuracy: 0.0000e+00\n",
      "Epoch 77/100\n",
      "1/1 [==============================] - 0s 4ms/step - loss: 6.9727 - mae: 6.9720 - accuracy: 0.0000e+00\n",
      "Epoch 78/100\n",
      "1/1 [==============================] - 0s 4ms/step - loss: 6.9688 - mae: 6.9662 - accuracy: 0.0000e+00\n",
      "Epoch 79/100\n",
      "1/1 [==============================] - 0s 4ms/step - loss: 6.9609 - mae: 6.9604 - accuracy: 0.0000e+00\n",
      "Epoch 80/100\n",
      "1/1 [==============================] - 0s 4ms/step - loss: 6.9570 - mae: 6.9545 - accuracy: 0.0000e+00\n",
      "Epoch 81/100\n",
      "1/1 [==============================] - 0s 3ms/step - loss: 6.9492 - mae: 6.9492 - accuracy: 0.0000e+00\n",
      "Epoch 82/100\n",
      "1/1 [==============================] - 0s 4ms/step - loss: 6.9414 - mae: 6.9434 - accuracy: 0.0000e+00\n",
      "Epoch 83/100\n",
      "1/1 [==============================] - 0s 4ms/step - loss: 6.9375 - mae: 6.9380 - accuracy: 0.0000e+00\n",
      "Epoch 84/100\n",
      "1/1 [==============================] - 0s 4ms/step - loss: 6.9297 - mae: 6.9323 - accuracy: 0.0000e+00\n",
      "Epoch 85/100\n",
      "1/1 [==============================] - 0s 4ms/step - loss: 6.9297 - mae: 6.9264 - accuracy: 0.0000e+00\n",
      "Epoch 86/100\n",
      "1/1 [==============================] - 0s 3ms/step - loss: 6.9219 - mae: 6.9206 - accuracy: 0.0000e+00\n",
      "Epoch 87/100\n",
      "1/1 [==============================] - 0s 3ms/step - loss: 6.9141 - mae: 6.9158 - accuracy: 0.0000e+00\n",
      "Epoch 88/100\n",
      "1/1 [==============================] - 0s 3ms/step - loss: 6.9102 - mae: 6.9109 - accuracy: 0.0000e+00\n",
      "Epoch 89/100\n",
      "1/1 [==============================] - 0s 3ms/step - loss: 6.9062 - mae: 6.9061 - accuracy: 0.0000e+00\n",
      "Epoch 90/100\n",
      "1/1 [==============================] - 0s 3ms/step - loss: 6.8984 - mae: 6.9003 - accuracy: 0.0000e+00\n",
      "Epoch 91/100\n",
      "1/1 [==============================] - 0s 4ms/step - loss: 6.8906 - mae: 6.8944 - accuracy: 0.0000e+00\n",
      "Epoch 92/100\n",
      "1/1 [==============================] - 0s 4ms/step - loss: 6.8867 - mae: 6.8886 - accuracy: 0.0000e+00\n",
      "Epoch 93/100\n",
      "1/1 [==============================] - 0s 4ms/step - loss: 6.8828 - mae: 6.8833 - accuracy: 0.0000e+00\n",
      "Epoch 94/100\n",
      "1/1 [==============================] - 0s 4ms/step - loss: 6.8750 - mae: 6.8774 - accuracy: 0.0000e+00\n",
      "Epoch 95/100\n",
      "1/1 [==============================] - 0s 4ms/step - loss: 6.8750 - mae: 6.8721 - accuracy: 0.0000e+00\n",
      "Epoch 96/100\n",
      "1/1 [==============================] - 0s 3ms/step - loss: 6.8633 - mae: 6.8663 - accuracy: 0.0000e+00\n",
      "Epoch 97/100\n",
      "1/1 [==============================] - 0s 4ms/step - loss: 6.8633 - mae: 6.8605 - accuracy: 0.0000e+00\n",
      "Epoch 98/100\n",
      "1/1 [==============================] - 0s 4ms/step - loss: 6.8555 - mae: 6.8547 - accuracy: 0.0000e+00\n",
      "Epoch 99/100\n",
      "1/1 [==============================] - 0s 3ms/step - loss: 6.8516 - mae: 6.8488 - accuracy: 0.0000e+00\n",
      "Epoch 100/100\n",
      "1/1 [==============================] - 0s 3ms/step - loss: 6.8438 - mae: 6.8430 - accuracy: 0.0000e+00\n"
     ]
    },
    {
     "data": {
      "text/plain": [
       "<keras.src.callbacks.History at 0x7f42f81c08e0>"
      ]
     },
     "execution_count": 9,
     "metadata": {},
     "output_type": "execute_result"
    }
   ],
   "source": [
    "# 1. Create a model\n",
    "model = tf.keras.Sequential([\n",
    "    tf.keras.layers.Dense(1)\n",
    "])\n",
    "# 2. Compile the model\n",
    "model.compile(loss=tf.keras.losses.mae,\n",
    "              optimizer=tf.keras.optimizers.SGD(),\n",
    "              metrics=[\"mae\",\"accuracy\"]\n",
    "              )\n",
    "# 3. Fit the model\n",
    "model.fit(tf.expand_dims(X,axis=-1),y,epochs=100)"
   ]
  },
  {
   "cell_type": "code",
   "execution_count": 10,
   "metadata": {
    "colab": {
     "base_uri": "https://localhost:8080/"
    },
    "executionInfo": {
     "elapsed": 20,
     "status": "ok",
     "timestamp": 1673953571708,
     "user": {
      "displayName": "Ujjwal Mk",
      "userId": "12008983132848472926"
     },
     "user_tz": -330
    },
    "id": "bGRyx6ppDpcP",
    "outputId": "3a58b749-dfa3-4fd6-9044-ad2ffb2fb530"
   },
   "outputs": [
    {
     "name": "stdout",
     "output_type": "stream",
     "text": [
      "1/1 [==============================] - 0s 68ms/step\n"
     ]
    },
    {
     "data": {
      "text/plain": [
       "array([[29.66]], dtype=float16)"
      ]
     },
     "execution_count": 10,
     "metadata": {},
     "output_type": "execute_result"
    }
   ],
   "source": [
    "model.predict([17.])"
   ]
  },
  {
   "cell_type": "code",
   "execution_count": 11,
   "metadata": {
    "colab": {
     "base_uri": "https://localhost:8080/"
    },
    "executionInfo": {
     "elapsed": 1749,
     "status": "ok",
     "timestamp": 1673953573448,
     "user": {
      "displayName": "Ujjwal Mk",
      "userId": "12008983132848472926"
     },
     "user_tz": -330
    },
    "id": "g58BGcsSEWHg",
    "outputId": "fecc162a-9c5e-4682-d1c4-1ae4a48c6a7d"
   },
   "outputs": [
    {
     "name": "stdout",
     "output_type": "stream",
     "text": [
      "Epoch 1/100\n",
      "1/1 [==============================] - 0s 310ms/step - loss: 9.1094 - mae: 9.1104 - accuracy: 0.0000e+00\n",
      "Epoch 2/100\n",
      "1/1 [==============================] - 0s 128ms/step - loss: 9.1094 - mae: 9.1104 - accuracy: 0.0000e+00\n",
      "Epoch 3/100\n",
      "1/1 [==============================] - 0s 4ms/step - loss: 9.0781 - mae: 9.0781 - accuracy: 0.0000e+00\n",
      "Epoch 4/100\n",
      "1/1 [==============================] - 0s 4ms/step - loss: 9.0312 - mae: 9.0380 - accuracy: 0.0000e+00\n",
      "Epoch 5/100\n",
      "1/1 [==============================] - 0s 4ms/step - loss: 9.0000 - mae: 8.9978 - accuracy: 0.0000e+00\n",
      "Epoch 6/100\n",
      "1/1 [==============================] - 0s 4ms/step - loss: 8.9531 - mae: 8.9552 - accuracy: 0.0000e+00\n",
      "Epoch 7/100\n",
      "1/1 [==============================] - 0s 4ms/step - loss: 8.9062 - mae: 8.9126 - accuracy: 0.0000e+00\n",
      "Epoch 8/100\n",
      "1/1 [==============================] - 0s 4ms/step - loss: 8.8750 - mae: 8.8694 - accuracy: 0.0000e+00\n",
      "Epoch 9/100\n",
      "1/1 [==============================] - 0s 4ms/step - loss: 8.8281 - mae: 8.8267 - accuracy: 0.0000e+00\n",
      "Epoch 10/100\n",
      "1/1 [==============================] - 0s 4ms/step - loss: 8.7812 - mae: 8.7815 - accuracy: 0.0000e+00\n",
      "Epoch 11/100\n",
      "1/1 [==============================] - 0s 4ms/step - loss: 8.7344 - mae: 8.7338 - accuracy: 0.0000e+00\n",
      "Epoch 12/100\n",
      "1/1 [==============================] - 0s 4ms/step - loss: 8.6875 - mae: 8.6885 - accuracy: 0.0000e+00\n",
      "Epoch 13/100\n",
      "1/1 [==============================] - 0s 4ms/step - loss: 8.6406 - mae: 8.6462 - accuracy: 0.0000e+00\n",
      "Epoch 14/100\n",
      "1/1 [==============================] - 0s 4ms/step - loss: 8.6016 - mae: 8.6016 - accuracy: 0.0000e+00\n",
      "Epoch 15/100\n",
      "1/1 [==============================] - 0s 4ms/step - loss: 8.5547 - mae: 8.5524 - accuracy: 0.0000e+00\n",
      "Epoch 16/100\n",
      "1/1 [==============================] - 0s 4ms/step - loss: 8.5078 - mae: 8.5095 - accuracy: 0.0000e+00\n",
      "Epoch 17/100\n",
      "1/1 [==============================] - 0s 4ms/step - loss: 8.4688 - mae: 8.4663 - accuracy: 0.0000e+00\n",
      "Epoch 18/100\n",
      "1/1 [==============================] - 0s 4ms/step - loss: 8.4219 - mae: 8.4204 - accuracy: 0.0000e+00\n",
      "Epoch 19/100\n",
      "1/1 [==============================] - 0s 4ms/step - loss: 8.3750 - mae: 8.3750 - accuracy: 0.0000e+00\n",
      "Epoch 20/100\n",
      "1/1 [==============================] - 0s 4ms/step - loss: 8.3281 - mae: 8.3308 - accuracy: 0.0000e+00\n",
      "Epoch 21/100\n",
      "1/1 [==============================] - 0s 4ms/step - loss: 8.2812 - mae: 8.2832 - accuracy: 0.0000e+00\n",
      "Epoch 22/100\n",
      "1/1 [==============================] - 0s 4ms/step - loss: 8.2344 - mae: 8.2368 - accuracy: 0.0000e+00\n",
      "Epoch 23/100\n",
      "1/1 [==============================] - 0s 4ms/step - loss: 8.1953 - mae: 8.1951 - accuracy: 0.0000e+00\n",
      "Epoch 24/100\n",
      "1/1 [==============================] - 0s 4ms/step - loss: 8.1406 - mae: 8.1447 - accuracy: 0.0000e+00\n",
      "Epoch 25/100\n",
      "1/1 [==============================] - 0s 4ms/step - loss: 8.1016 - mae: 8.1018 - accuracy: 0.0000e+00\n",
      "Epoch 26/100\n",
      "1/1 [==============================] - 0s 4ms/step - loss: 8.0547 - mae: 8.0557 - accuracy: 0.0000e+00\n",
      "Epoch 27/100\n",
      "1/1 [==============================] - 0s 4ms/step - loss: 8.0078 - mae: 8.0084 - accuracy: 0.0000e+00\n",
      "Epoch 28/100\n",
      "1/1 [==============================] - 0s 4ms/step - loss: 7.9609 - mae: 7.9656 - accuracy: 0.0000e+00\n",
      "Epoch 29/100\n",
      "1/1 [==============================] - 0s 4ms/step - loss: 7.9219 - mae: 7.9194 - accuracy: 0.0000e+00\n",
      "Epoch 30/100\n",
      "1/1 [==============================] - 0s 3ms/step - loss: 7.8750 - mae: 7.8708 - accuracy: 0.0000e+00\n",
      "Epoch 31/100\n",
      "1/1 [==============================] - 0s 4ms/step - loss: 7.8281 - mae: 7.8291 - accuracy: 0.0000e+00\n",
      "Epoch 32/100\n",
      "1/1 [==============================] - 0s 4ms/step - loss: 7.7812 - mae: 7.7834 - accuracy: 0.0000e+00\n",
      "Epoch 33/100\n",
      "1/1 [==============================] - 0s 4ms/step - loss: 7.7383 - mae: 7.7351 - accuracy: 0.0000e+00\n",
      "Epoch 34/100\n",
      "1/1 [==============================] - 0s 4ms/step - loss: 7.6914 - mae: 7.6929 - accuracy: 0.0000e+00\n",
      "Epoch 35/100\n",
      "1/1 [==============================] - 0s 4ms/step - loss: 7.6445 - mae: 7.6434 - accuracy: 0.0000e+00\n",
      "Epoch 36/100\n",
      "1/1 [==============================] - 0s 4ms/step - loss: 7.6016 - mae: 7.6030 - accuracy: 0.0000e+00\n",
      "Epoch 37/100\n",
      "1/1 [==============================] - 0s 4ms/step - loss: 7.5547 - mae: 7.5574 - accuracy: 0.0000e+00\n",
      "Epoch 38/100\n",
      "1/1 [==============================] - 0s 4ms/step - loss: 7.5039 - mae: 7.5048 - accuracy: 0.0000e+00\n",
      "Epoch 39/100\n",
      "1/1 [==============================] - 0s 4ms/step - loss: 7.4609 - mae: 7.4634 - accuracy: 0.0000e+00\n",
      "Epoch 40/100\n",
      "1/1 [==============================] - 0s 4ms/step - loss: 7.4219 - mae: 7.4214 - accuracy: 0.0000e+00\n",
      "Epoch 41/100\n",
      "1/1 [==============================] - 0s 3ms/step - loss: 7.3711 - mae: 7.3717 - accuracy: 0.0000e+00\n",
      "Epoch 42/100\n",
      "1/1 [==============================] - 0s 4ms/step - loss: 7.3281 - mae: 7.3279 - accuracy: 0.0000e+00\n",
      "Epoch 43/100\n",
      "1/1 [==============================] - 0s 4ms/step - loss: 7.2812 - mae: 7.2827 - accuracy: 0.0000e+00\n",
      "Epoch 44/100\n",
      "1/1 [==============================] - 0s 4ms/step - loss: 7.2344 - mae: 7.2358 - accuracy: 0.0000e+00\n",
      "Epoch 45/100\n",
      "1/1 [==============================] - 0s 4ms/step - loss: 7.1914 - mae: 7.1912 - accuracy: 0.0000e+00\n",
      "Epoch 46/100\n",
      "1/1 [==============================] - 0s 4ms/step - loss: 7.1758 - mae: 7.1733 - accuracy: 0.0000e+00\n",
      "Epoch 47/100\n",
      "1/1 [==============================] - 0s 3ms/step - loss: 7.1641 - mae: 7.1646 - accuracy: 0.0000e+00\n",
      "Epoch 48/100\n",
      "1/1 [==============================] - 0s 3ms/step - loss: 7.1562 - mae: 7.1587 - accuracy: 0.0000e+00\n",
      "Epoch 49/100\n",
      "1/1 [==============================] - 0s 3ms/step - loss: 7.1484 - mae: 7.1484 - accuracy: 0.0000e+00\n",
      "Epoch 50/100\n",
      "1/1 [==============================] - 0s 4ms/step - loss: 7.1445 - mae: 7.1445 - accuracy: 0.0000e+00\n",
      "Epoch 51/100\n",
      "1/1 [==============================] - 0s 4ms/step - loss: 7.1367 - mae: 7.1368 - accuracy: 0.0000e+00\n",
      "Epoch 52/100\n",
      "1/1 [==============================] - 0s 3ms/step - loss: 7.1328 - mae: 7.1304 - accuracy: 0.0000e+00\n",
      "Epoch 53/100\n",
      "1/1 [==============================] - 0s 4ms/step - loss: 7.1211 - mae: 7.1233 - accuracy: 0.0000e+00\n",
      "Epoch 54/100\n",
      "1/1 [==============================] - 0s 4ms/step - loss: 7.1172 - mae: 7.1171 - accuracy: 0.0000e+00\n",
      "Epoch 55/100\n",
      "1/1 [==============================] - 0s 4ms/step - loss: 7.1094 - mae: 7.1091 - accuracy: 0.0000e+00\n",
      "Epoch 56/100\n",
      "1/1 [==============================] - 0s 4ms/step - loss: 7.1055 - mae: 7.1036 - accuracy: 0.0000e+00\n",
      "Epoch 57/100\n",
      "1/1 [==============================] - 0s 4ms/step - loss: 7.0938 - mae: 7.0951 - accuracy: 0.0000e+00\n",
      "Epoch 58/100\n",
      "1/1 [==============================] - 0s 4ms/step - loss: 7.0898 - mae: 7.0906 - accuracy: 0.0000e+00\n",
      "Epoch 59/100\n",
      "1/1 [==============================] - 0s 4ms/step - loss: 7.0820 - mae: 7.0825 - accuracy: 0.0000e+00\n",
      "Epoch 60/100\n",
      "1/1 [==============================] - 0s 4ms/step - loss: 7.0820 - mae: 7.0784 - accuracy: 0.0000e+00\n",
      "Epoch 61/100\n",
      "1/1 [==============================] - 0s 4ms/step - loss: 7.0742 - mae: 7.0728 - accuracy: 0.0000e+00\n",
      "Epoch 62/100\n",
      "1/1 [==============================] - 0s 6ms/step - loss: 7.0625 - mae: 7.0665 - accuracy: 0.0000e+00\n",
      "Epoch 63/100\n",
      "1/1 [==============================] - 0s 4ms/step - loss: 7.0547 - mae: 7.0564 - accuracy: 0.0000e+00\n",
      "Epoch 64/100\n",
      "1/1 [==============================] - 0s 5ms/step - loss: 7.0508 - mae: 7.0513 - accuracy: 0.0000e+00\n",
      "Epoch 65/100\n",
      "1/1 [==============================] - 0s 4ms/step - loss: 7.0469 - mae: 7.0450 - accuracy: 0.0000e+00\n",
      "Epoch 66/100\n",
      "1/1 [==============================] - 0s 4ms/step - loss: 7.0391 - mae: 7.0382 - accuracy: 0.0000e+00\n",
      "Epoch 67/100\n",
      "1/1 [==============================] - 0s 4ms/step - loss: 7.0312 - mae: 7.0305 - accuracy: 0.0000e+00\n",
      "Epoch 68/100\n",
      "1/1 [==============================] - 0s 4ms/step - loss: 7.0273 - mae: 7.0238 - accuracy: 0.0000e+00\n",
      "Epoch 69/100\n",
      "1/1 [==============================] - 0s 4ms/step - loss: 7.0195 - mae: 7.0199 - accuracy: 0.0000e+00\n",
      "Epoch 70/100\n",
      "1/1 [==============================] - 0s 4ms/step - loss: 7.0156 - mae: 7.0137 - accuracy: 0.0000e+00\n",
      "Epoch 71/100\n",
      "1/1 [==============================] - 0s 4ms/step - loss: 7.0078 - mae: 7.0068 - accuracy: 0.0000e+00\n",
      "Epoch 72/100\n",
      "1/1 [==============================] - 0s 4ms/step - loss: 7.0000 - mae: 7.0029 - accuracy: 0.0000e+00\n",
      "Epoch 73/100\n",
      "1/1 [==============================] - 0s 4ms/step - loss: 6.9961 - mae: 6.9966 - accuracy: 0.0000e+00\n",
      "Epoch 74/100\n",
      "1/1 [==============================] - 0s 4ms/step - loss: 6.9922 - mae: 6.9902 - accuracy: 0.0000e+00\n",
      "Epoch 75/100\n",
      "1/1 [==============================] - 0s 4ms/step - loss: 6.9844 - mae: 6.9844 - accuracy: 0.0000e+00\n",
      "Epoch 76/100\n",
      "1/1 [==============================] - 0s 4ms/step - loss: 6.9766 - mae: 6.9756 - accuracy: 0.0000e+00\n",
      "Epoch 77/100\n",
      "1/1 [==============================] - 0s 5ms/step - loss: 6.9688 - mae: 6.9678 - accuracy: 0.0000e+00\n",
      "Epoch 78/100\n",
      "1/1 [==============================] - 0s 4ms/step - loss: 6.9609 - mae: 6.9619 - accuracy: 0.0000e+00\n",
      "Epoch 79/100\n",
      "1/1 [==============================] - 0s 5ms/step - loss: 6.9570 - mae: 6.9546 - accuracy: 0.0000e+00\n",
      "Epoch 80/100\n",
      "1/1 [==============================] - 0s 5ms/step - loss: 6.9492 - mae: 6.9486 - accuracy: 0.0000e+00\n",
      "Epoch 81/100\n",
      "1/1 [==============================] - 0s 5ms/step - loss: 6.9414 - mae: 6.9407 - accuracy: 0.0000e+00\n",
      "Epoch 82/100\n",
      "1/1 [==============================] - 0s 4ms/step - loss: 6.9375 - mae: 6.9368 - accuracy: 0.0000e+00\n",
      "Epoch 83/100\n",
      "1/1 [==============================] - 0s 5ms/step - loss: 6.9297 - mae: 6.9309 - accuracy: 0.0000e+00\n",
      "Epoch 84/100\n",
      "1/1 [==============================] - 0s 5ms/step - loss: 6.9258 - mae: 6.9244 - accuracy: 0.0000e+00\n",
      "Epoch 85/100\n",
      "1/1 [==============================] - 0s 5ms/step - loss: 6.9141 - mae: 6.9177 - accuracy: 0.0000e+00\n",
      "Epoch 86/100\n",
      "1/1 [==============================] - 0s 5ms/step - loss: 6.9102 - mae: 6.9116 - accuracy: 0.0000e+00\n",
      "Epoch 87/100\n",
      "1/1 [==============================] - 0s 4ms/step - loss: 6.9062 - mae: 6.9048 - accuracy: 0.0000e+00\n",
      "Epoch 88/100\n",
      "1/1 [==============================] - 0s 5ms/step - loss: 6.8984 - mae: 6.8969 - accuracy: 0.0000e+00\n",
      "Epoch 89/100\n",
      "1/1 [==============================] - 0s 5ms/step - loss: 6.8906 - mae: 6.8909 - accuracy: 0.0000e+00\n",
      "Epoch 90/100\n",
      "1/1 [==============================] - 0s 4ms/step - loss: 6.8828 - mae: 6.8840 - accuracy: 0.0000e+00\n",
      "Epoch 91/100\n",
      "1/1 [==============================] - 0s 5ms/step - loss: 6.8750 - mae: 6.8796 - accuracy: 0.0000e+00\n",
      "Epoch 92/100\n",
      "1/1 [==============================] - 0s 5ms/step - loss: 6.8750 - mae: 6.8737 - accuracy: 0.0000e+00\n",
      "Epoch 93/100\n",
      "1/1 [==============================] - 0s 6ms/step - loss: 6.8672 - mae: 6.8672 - accuracy: 0.0000e+00\n",
      "Epoch 94/100\n",
      "1/1 [==============================] - 0s 5ms/step - loss: 6.8594 - mae: 6.8607 - accuracy: 0.0000e+00\n",
      "Epoch 95/100\n",
      "1/1 [==============================] - 0s 5ms/step - loss: 6.8555 - mae: 6.8548 - accuracy: 0.0000e+00\n",
      "Epoch 96/100\n",
      "1/1 [==============================] - 0s 4ms/step - loss: 6.8516 - mae: 6.8488 - accuracy: 0.0000e+00\n",
      "Epoch 97/100\n",
      "1/1 [==============================] - 0s 4ms/step - loss: 6.8398 - mae: 6.8394 - accuracy: 0.0000e+00\n",
      "Epoch 98/100\n",
      "1/1 [==============================] - 0s 5ms/step - loss: 6.8320 - mae: 6.8334 - accuracy: 0.0000e+00\n",
      "Epoch 99/100\n",
      "1/1 [==============================] - 0s 5ms/step - loss: 6.8281 - mae: 6.8275 - accuracy: 0.0000e+00\n",
      "Epoch 100/100\n",
      "1/1 [==============================] - 0s 4ms/step - loss: 6.8203 - mae: 6.8210 - accuracy: 0.0000e+00\n"
     ]
    },
    {
     "data": {
      "text/plain": [
       "<keras.src.callbacks.History at 0x7f4308145040>"
      ]
     },
     "execution_count": 11,
     "metadata": {},
     "output_type": "execute_result"
    }
   ],
   "source": [
    "# teaking the model to improve\n",
    "# 1. Create a model\n",
    "model=tf.keras.Sequential([\n",
    "    tf.keras.layers.Dense(1)\n",
    "])\n",
    "# 2. Compile the model\n",
    "model.compile(loss=tf.keras.losses.mae,\n",
    "              optimizer=tf.keras.optimizers.Adam(0.01),\n",
    "              metrics=['mae',\"accuracy\"]\n",
    "              )\n",
    "# 3. Fit the model\n",
    "model.fit(tf.expand_dims(X,axis=-1),y,epochs=100)"
   ]
  },
  {
   "cell_type": "code",
   "execution_count": 12,
   "metadata": {
    "colab": {
     "base_uri": "https://localhost:8080/"
    },
    "executionInfo": {
     "elapsed": 21,
     "status": "ok",
     "timestamp": 1673953573448,
     "user": {
      "displayName": "Ujjwal Mk",
      "userId": "12008983132848472926"
     },
     "user_tz": -330
    },
    "id": "TOCMXY_5FiRm",
    "outputId": "c79b1479-cbca-4158-9726-38d86606b7f0"
   },
   "outputs": [
    {
     "name": "stdout",
     "output_type": "stream",
     "text": [
      "1/1 [==============================] - 0s 42ms/step\n"
     ]
    },
    {
     "data": {
      "text/plain": [
       "array([[31.34]], dtype=float16)"
      ]
     },
     "execution_count": 12,
     "metadata": {},
     "output_type": "execute_result"
    }
   ],
   "source": [
    "model.predict([17.0])"
   ]
  },
  {
   "cell_type": "code",
   "execution_count": 13,
   "metadata": {
    "colab": {
     "base_uri": "https://localhost:8080/"
    },
    "executionInfo": {
     "elapsed": 1849,
     "status": "ok",
     "timestamp": 1673953575287,
     "user": {
      "displayName": "Ujjwal Mk",
      "userId": "12008983132848472926"
     },
     "user_tz": -330
    },
    "id": "S7VLAWYpFq2g",
    "outputId": "f4a7e65f-2b48-48fe-9397-c0ceacdd95a5"
   },
   "outputs": [
    {
     "name": "stdout",
     "output_type": "stream",
     "text": [
      "Epoch 1/150\n",
      "1/1 [==============================] - 1s 760ms/step - loss: 14.5234 - mae: 14.5254\n",
      "Epoch 2/150\n",
      "1/1 [==============================] - 0s 5ms/step - loss: 13.8906 - mae: 13.8981\n",
      "Epoch 3/150\n",
      "1/1 [==============================] - 0s 4ms/step - loss: 13.2812 - mae: 13.2748\n",
      "Epoch 4/150\n",
      "1/1 [==============================] - 0s 5ms/step - loss: 12.6562 - mae: 12.6526\n",
      "Epoch 5/150\n",
      "1/1 [==============================] - 0s 5ms/step - loss: 12.0312 - mae: 12.0333\n",
      "Epoch 6/150\n",
      "1/1 [==============================] - 0s 5ms/step - loss: 11.4062 - mae: 11.4093\n",
      "Epoch 7/150\n",
      "1/1 [==============================] - 0s 5ms/step - loss: 10.7812 - mae: 10.7824\n",
      "Epoch 8/150\n",
      "1/1 [==============================] - 0s 5ms/step - loss: 10.1406 - mae: 10.1469\n",
      "Epoch 9/150\n",
      "1/1 [==============================] - 0s 5ms/step - loss: 9.5000 - mae: 9.4994\n",
      "Epoch 10/150\n",
      "1/1 [==============================] - 0s 5ms/step - loss: 8.8359 - mae: 8.8365\n",
      "Epoch 11/150\n",
      "1/1 [==============================] - 0s 5ms/step - loss: 8.1562 - mae: 8.1572\n",
      "Epoch 12/150\n",
      "1/1 [==============================] - 0s 8ms/step - loss: 7.4531 - mae: 7.4562\n",
      "Epoch 13/150\n",
      "1/1 [==============================] - 0s 5ms/step - loss: 6.7344 - mae: 6.7341\n",
      "Epoch 14/150\n",
      "1/1 [==============================] - 0s 4ms/step - loss: 6.5117 - mae: 6.5155\n",
      "Epoch 15/150\n",
      "1/1 [==============================] - 0s 4ms/step - loss: 6.8594 - mae: 6.8614\n",
      "Epoch 16/150\n",
      "1/1 [==============================] - 0s 3ms/step - loss: 7.1641 - mae: 7.1633\n",
      "Epoch 17/150\n",
      "1/1 [==============================] - 0s 4ms/step - loss: 7.1641 - mae: 7.1633\n",
      "Epoch 18/150\n",
      "1/1 [==============================] - 0s 4ms/step - loss: 7.4492 - mae: 7.4470\n",
      "Epoch 19/150\n",
      "1/1 [==============================] - 0s 4ms/step - loss: 7.5195 - mae: 7.5227\n",
      "Epoch 20/150\n",
      "1/1 [==============================] - 0s 5ms/step - loss: 7.4180 - mae: 7.4197\n",
      "Epoch 21/150\n",
      "1/1 [==============================] - 0s 4ms/step - loss: 7.1914 - mae: 7.1926\n",
      "Epoch 22/150\n",
      "1/1 [==============================] - 0s 5ms/step - loss: 6.8555 - mae: 6.8567\n",
      "Epoch 23/150\n",
      "1/1 [==============================] - 0s 4ms/step - loss: 6.5703 - mae: 6.5683\n",
      "Epoch 24/150\n",
      "1/1 [==============================] - 0s 4ms/step - loss: 6.3008 - mae: 6.3006\n",
      "Epoch 25/150\n",
      "1/1 [==============================] - 0s 4ms/step - loss: 6.0273 - mae: 6.0284\n",
      "Epoch 26/150\n",
      "1/1 [==============================] - 0s 4ms/step - loss: 5.8906 - mae: 5.8891\n",
      "Epoch 27/150\n",
      "1/1 [==============================] - 0s 4ms/step - loss: 5.8516 - mae: 5.8499\n",
      "Epoch 28/150\n",
      "1/1 [==============================] - 0s 3ms/step - loss: 5.9531 - mae: 5.9543\n",
      "Epoch 29/150\n",
      "1/1 [==============================] - 0s 4ms/step - loss: 6.0391 - mae: 6.0355\n",
      "Epoch 30/150\n",
      "1/1 [==============================] - 0s 4ms/step - loss: 6.0195 - mae: 6.0208\n",
      "Epoch 31/150\n",
      "1/1 [==============================] - 0s 4ms/step - loss: 5.9219 - mae: 5.9229\n",
      "Epoch 32/150\n",
      "1/1 [==============================] - 0s 4ms/step - loss: 5.7461 - mae: 5.7468\n",
      "Epoch 33/150\n",
      "1/1 [==============================] - 0s 4ms/step - loss: 5.5000 - mae: 5.4983\n",
      "Epoch 34/150\n",
      "1/1 [==============================] - 0s 4ms/step - loss: 5.3047 - mae: 5.3020\n",
      "Epoch 35/150\n",
      "1/1 [==============================] - 0s 3ms/step - loss: 5.1875 - mae: 5.1862\n",
      "Epoch 36/150\n",
      "1/1 [==============================] - 0s 4ms/step - loss: 5.0938 - mae: 5.0957\n",
      "Epoch 37/150\n",
      "1/1 [==============================] - 0s 4ms/step - loss: 5.0938 - mae: 5.0913\n",
      "Epoch 38/150\n",
      "1/1 [==============================] - 0s 3ms/step - loss: 5.0547 - mae: 5.0543\n",
      "Epoch 39/150\n",
      "1/1 [==============================] - 0s 4ms/step - loss: 4.9766 - mae: 4.9758\n",
      "Epoch 40/150\n",
      "1/1 [==============================] - 0s 4ms/step - loss: 4.8672 - mae: 4.8696\n",
      "Epoch 41/150\n",
      "1/1 [==============================] - 0s 4ms/step - loss: 4.7305 - mae: 4.7297\n",
      "Epoch 42/150\n",
      "1/1 [==============================] - 0s 4ms/step - loss: 4.5664 - mae: 4.5654\n",
      "Epoch 43/150\n",
      "1/1 [==============================] - 0s 4ms/step - loss: 4.3828 - mae: 4.3801\n",
      "Epoch 44/150\n",
      "1/1 [==============================] - 0s 4ms/step - loss: 4.2812 - mae: 4.2826\n",
      "Epoch 45/150\n",
      "1/1 [==============================] - 0s 3ms/step - loss: 4.1797 - mae: 4.1785\n",
      "Epoch 46/150\n",
      "1/1 [==============================] - 0s 4ms/step - loss: 4.0664 - mae: 4.0662\n",
      "Epoch 47/150\n",
      "1/1 [==============================] - 0s 4ms/step - loss: 3.9434 - mae: 3.9437\n",
      "Epoch 48/150\n",
      "1/1 [==============================] - 0s 3ms/step - loss: 3.8164 - mae: 3.8148\n",
      "Epoch 49/150\n",
      "1/1 [==============================] - 0s 5ms/step - loss: 3.6992 - mae: 3.7010\n",
      "Epoch 50/150\n",
      "1/1 [==============================] - 0s 4ms/step - loss: 3.5195 - mae: 3.5193\n",
      "Epoch 51/150\n",
      "1/1 [==============================] - 0s 4ms/step - loss: 3.3516 - mae: 3.3531\n",
      "Epoch 52/150\n",
      "1/1 [==============================] - 0s 4ms/step - loss: 3.1758 - mae: 3.1769\n",
      "Epoch 53/150\n",
      "1/1 [==============================] - 0s 4ms/step - loss: 3.0000 - mae: 3.0003\n",
      "Epoch 54/150\n",
      "1/1 [==============================] - 0s 4ms/step - loss: 2.8516 - mae: 2.8507\n",
      "Epoch 55/150\n",
      "1/1 [==============================] - 0s 4ms/step - loss: 2.6484 - mae: 2.6475\n",
      "Epoch 56/150\n",
      "1/1 [==============================] - 0s 4ms/step - loss: 2.4609 - mae: 2.4602\n",
      "Epoch 57/150\n",
      "1/1 [==============================] - 0s 4ms/step - loss: 2.2734 - mae: 2.2738\n",
      "Epoch 58/150\n",
      "1/1 [==============================] - 0s 3ms/step - loss: 2.0781 - mae: 2.0773\n",
      "Epoch 59/150\n",
      "1/1 [==============================] - 0s 4ms/step - loss: 1.8467 - mae: 1.8467\n",
      "Epoch 60/150\n",
      "1/1 [==============================] - 0s 3ms/step - loss: 1.6104 - mae: 1.6100\n",
      "Epoch 61/150\n",
      "1/1 [==============================] - 0s 3ms/step - loss: 1.4199 - mae: 1.4197\n",
      "Epoch 62/150\n",
      "1/1 [==============================] - 0s 3ms/step - loss: 1.1807 - mae: 1.1804\n",
      "Epoch 63/150\n",
      "1/1 [==============================] - 0s 4ms/step - loss: 0.8779 - mae: 0.8779\n",
      "Epoch 64/150\n",
      "1/1 [==============================] - 0s 4ms/step - loss: 0.6919 - mae: 0.6919\n",
      "Epoch 65/150\n",
      "1/1 [==============================] - 0s 4ms/step - loss: 0.4314 - mae: 0.4314\n",
      "Epoch 66/150\n",
      "1/1 [==============================] - 0s 3ms/step - loss: 0.1040 - mae: 0.1040\n",
      "Epoch 67/150\n",
      "1/1 [==============================] - 0s 4ms/step - loss: 0.2524 - mae: 0.2524\n",
      "Epoch 68/150\n",
      "1/1 [==============================] - 0s 3ms/step - loss: 0.4600 - mae: 0.4600\n",
      "Epoch 69/150\n",
      "1/1 [==============================] - 0s 4ms/step - loss: 0.6201 - mae: 0.6201\n",
      "Epoch 70/150\n",
      "1/1 [==============================] - 0s 4ms/step - loss: 0.7314 - mae: 0.7314\n",
      "Epoch 71/150\n",
      "1/1 [==============================] - 0s 3ms/step - loss: 0.7920 - mae: 0.7920\n",
      "Epoch 72/150\n",
      "1/1 [==============================] - 0s 3ms/step - loss: 0.8335 - mae: 0.8335\n",
      "Epoch 73/150\n",
      "1/1 [==============================] - 0s 3ms/step - loss: 0.7686 - mae: 0.7686\n",
      "Epoch 74/150\n",
      "1/1 [==============================] - 0s 4ms/step - loss: 0.7197 - mae: 0.7197\n",
      "Epoch 75/150\n",
      "1/1 [==============================] - 0s 4ms/step - loss: 0.6040 - mae: 0.6040\n",
      "Epoch 76/150\n",
      "1/1 [==============================] - 0s 3ms/step - loss: 0.5020 - mae: 0.5017\n",
      "Epoch 77/150\n",
      "1/1 [==============================] - 0s 3ms/step - loss: 0.3657 - mae: 0.3657\n",
      "Epoch 78/150\n",
      "1/1 [==============================] - 0s 3ms/step - loss: 0.2070 - mae: 0.2070\n",
      "Epoch 79/150\n",
      "1/1 [==============================] - 0s 3ms/step - loss: 0.1924 - mae: 0.1924\n",
      "Epoch 80/150\n",
      "1/1 [==============================] - 0s 3ms/step - loss: 0.1626 - mae: 0.1626\n",
      "Epoch 81/150\n",
      "1/1 [==============================] - 0s 3ms/step - loss: 0.3994 - mae: 0.3994\n",
      "Epoch 82/150\n",
      "1/1 [==============================] - 0s 3ms/step - loss: 0.5098 - mae: 0.5098\n",
      "Epoch 83/150\n",
      "1/1 [==============================] - 0s 3ms/step - loss: 0.4424 - mae: 0.4424\n",
      "Epoch 84/150\n",
      "1/1 [==============================] - 0s 3ms/step - loss: 0.3196 - mae: 0.3196\n",
      "Epoch 85/150\n",
      "1/1 [==============================] - 0s 4ms/step - loss: 0.3743 - mae: 0.3743\n",
      "Epoch 86/150\n",
      "1/1 [==============================] - 0s 4ms/step - loss: 0.2156 - mae: 0.2156\n",
      "Epoch 87/150\n",
      "1/1 [==============================] - 0s 3ms/step - loss: 0.2744 - mae: 0.2744\n",
      "Epoch 88/150\n",
      "1/1 [==============================] - 0s 4ms/step - loss: 0.3232 - mae: 0.3232\n",
      "Epoch 89/150\n",
      "1/1 [==============================] - 0s 3ms/step - loss: 0.1230 - mae: 0.1230\n",
      "Epoch 90/150\n",
      "1/1 [==============================] - 0s 3ms/step - loss: 0.4243 - mae: 0.4243\n",
      "Epoch 91/150\n",
      "1/1 [==============================] - 0s 3ms/step - loss: 0.5986 - mae: 0.5989\n",
      "Epoch 92/150\n",
      "1/1 [==============================] - 0s 3ms/step - loss: 0.4966 - mae: 0.4966\n",
      "Epoch 93/150\n",
      "1/1 [==============================] - 0s 3ms/step - loss: 0.2510 - mae: 0.2510\n",
      "Epoch 94/150\n",
      "1/1 [==============================] - 0s 3ms/step - loss: 0.5029 - mae: 0.5029\n",
      "Epoch 95/150\n",
      "1/1 [==============================] - 0s 4ms/step - loss: 0.6763 - mae: 0.6760\n",
      "Epoch 96/150\n",
      "1/1 [==============================] - 0s 3ms/step - loss: 0.5444 - mae: 0.5444\n",
      "Epoch 97/150\n",
      "1/1 [==============================] - 0s 3ms/step - loss: 0.1453 - mae: 0.1453\n",
      "Epoch 98/150\n",
      "1/1 [==============================] - 0s 3ms/step - loss: 0.4775 - mae: 0.4775\n",
      "Epoch 99/150\n",
      "1/1 [==============================] - 0s 3ms/step - loss: 0.7520 - mae: 0.7520\n",
      "Epoch 100/150\n",
      "1/1 [==============================] - 0s 4ms/step - loss: 0.7329 - mae: 0.7329\n",
      "Epoch 101/150\n",
      "1/1 [==============================] - 0s 3ms/step - loss: 0.4556 - mae: 0.4556\n",
      "Epoch 102/150\n",
      "1/1 [==============================] - 0s 3ms/step - loss: 0.2124 - mae: 0.2124\n",
      "Epoch 103/150\n",
      "1/1 [==============================] - 0s 3ms/step - loss: 0.3989 - mae: 0.3989\n",
      "Epoch 104/150\n",
      "1/1 [==============================] - 0s 3ms/step - loss: 0.4216 - mae: 0.4216\n",
      "Epoch 105/150\n",
      "1/1 [==============================] - 0s 3ms/step - loss: 0.2129 - mae: 0.2129\n",
      "Epoch 106/150\n",
      "1/1 [==============================] - 0s 3ms/step - loss: 0.2100 - mae: 0.2100\n",
      "Epoch 107/150\n",
      "1/1 [==============================] - 0s 4ms/step - loss: 0.3303 - mae: 0.3303\n",
      "Epoch 108/150\n",
      "1/1 [==============================] - 0s 4ms/step - loss: 0.2007 - mae: 0.2007\n",
      "Epoch 109/150\n",
      "1/1 [==============================] - 0s 3ms/step - loss: 0.1790 - mae: 0.1790\n",
      "Epoch 110/150\n",
      "1/1 [==============================] - 0s 4ms/step - loss: 0.2612 - mae: 0.2612\n",
      "Epoch 111/150\n",
      "1/1 [==============================] - 0s 3ms/step - loss: 0.1113 - mae: 0.1113\n",
      "Epoch 112/150\n",
      "1/1 [==============================] - 0s 3ms/step - loss: 0.2742 - mae: 0.2742\n",
      "Epoch 113/150\n",
      "1/1 [==============================] - 0s 3ms/step - loss: 0.3521 - mae: 0.3521\n",
      "Epoch 114/150\n",
      "1/1 [==============================] - 0s 3ms/step - loss: 0.1912 - mae: 0.1912\n",
      "Epoch 115/150\n",
      "1/1 [==============================] - 0s 4ms/step - loss: 0.1841 - mae: 0.1841\n",
      "Epoch 116/150\n",
      "1/1 [==============================] - 0s 3ms/step - loss: 0.2949 - mae: 0.2949\n",
      "Epoch 117/150\n",
      "1/1 [==============================] - 0s 3ms/step - loss: 0.1719 - mae: 0.1719\n",
      "Epoch 118/150\n",
      "1/1 [==============================] - 0s 4ms/step - loss: 0.1562 - mae: 0.1562\n",
      "Epoch 119/150\n",
      "1/1 [==============================] - 0s 3ms/step - loss: 0.2095 - mae: 0.2095\n",
      "Epoch 120/150\n",
      "1/1 [==============================] - 0s 3ms/step - loss: 0.0366 - mae: 0.0366\n",
      "Epoch 121/150\n",
      "1/1 [==============================] - 0s 3ms/step - loss: 0.3372 - mae: 0.3372\n",
      "Epoch 122/150\n",
      "1/1 [==============================] - 0s 3ms/step - loss: 0.4526 - mae: 0.4526\n",
      "Epoch 123/150\n",
      "1/1 [==============================] - 0s 3ms/step - loss: 0.3425 - mae: 0.3425\n",
      "Epoch 124/150\n",
      "1/1 [==============================] - 0s 3ms/step - loss: 0.0344 - mae: 0.0344\n",
      "Epoch 125/150\n",
      "1/1 [==============================] - 0s 3ms/step - loss: 0.3699 - mae: 0.3699\n",
      "Epoch 126/150\n",
      "1/1 [==============================] - 0s 3ms/step - loss: 0.5088 - mae: 0.5088\n",
      "Epoch 127/150\n",
      "1/1 [==============================] - 0s 3ms/step - loss: 0.4194 - mae: 0.4194\n",
      "Epoch 128/150\n",
      "1/1 [==============================] - 0s 3ms/step - loss: 0.1313 - mae: 0.1313\n",
      "Epoch 129/150\n",
      "1/1 [==============================] - 0s 3ms/step - loss: 0.3301 - mae: 0.3301\n",
      "Epoch 130/150\n",
      "1/1 [==============================] - 0s 3ms/step - loss: 0.5171 - mae: 0.5171\n",
      "Epoch 131/150\n",
      "1/1 [==============================] - 0s 4ms/step - loss: 0.4873 - mae: 0.4873\n",
      "Epoch 132/150\n",
      "1/1 [==============================] - 0s 3ms/step - loss: 0.2537 - mae: 0.2537\n",
      "Epoch 133/150\n",
      "1/1 [==============================] - 0s 3ms/step - loss: 0.1567 - mae: 0.1567\n",
      "Epoch 134/150\n",
      "1/1 [==============================] - 0s 3ms/step - loss: 0.3208 - mae: 0.3208\n",
      "Epoch 135/150\n",
      "1/1 [==============================] - 0s 4ms/step - loss: 0.2661 - mae: 0.2661\n",
      "Epoch 136/150\n",
      "1/1 [==============================] - 0s 3ms/step - loss: 0.0137 - mae: 0.0137\n",
      "Epoch 137/150\n",
      "1/1 [==============================] - 0s 3ms/step - loss: 0.3752 - mae: 0.3752\n",
      "Epoch 138/150\n",
      "1/1 [==============================] - 0s 3ms/step - loss: 0.5195 - mae: 0.5195\n",
      "Epoch 139/150\n",
      "1/1 [==============================] - 0s 3ms/step - loss: 0.4521 - mae: 0.4521\n",
      "Epoch 140/150\n",
      "1/1 [==============================] - 0s 3ms/step - loss: 0.2148 - mae: 0.2148\n",
      "Epoch 141/150\n",
      "1/1 [==============================] - 0s 3ms/step - loss: 0.2310 - mae: 0.2310\n",
      "Epoch 142/150\n",
      "1/1 [==============================] - 0s 3ms/step - loss: 0.3926 - mae: 0.3926\n",
      "Epoch 143/150\n",
      "1/1 [==============================] - 0s 3ms/step - loss: 0.3452 - mae: 0.3452\n",
      "Epoch 144/150\n",
      "1/1 [==============================] - 0s 3ms/step - loss: 0.1045 - mae: 0.1045\n",
      "Epoch 145/150\n",
      "1/1 [==============================] - 0s 3ms/step - loss: 0.3027 - mae: 0.3027\n",
      "Epoch 146/150\n",
      "1/1 [==============================] - 0s 3ms/step - loss: 0.4761 - mae: 0.4761\n",
      "Epoch 147/150\n",
      "1/1 [==============================] - 0s 3ms/step - loss: 0.4451 - mae: 0.4451\n",
      "Epoch 148/150\n",
      "1/1 [==============================] - 0s 3ms/step - loss: 0.2234 - mae: 0.2234\n",
      "Epoch 149/150\n",
      "1/1 [==============================] - 0s 4ms/step - loss: 0.1836 - mae: 0.1836\n",
      "Epoch 150/150\n",
      "1/1 [==============================] - 0s 3ms/step - loss: 0.3389 - mae: 0.3389\n"
     ]
    },
    {
     "data": {
      "text/plain": [
       "<keras.src.callbacks.History at 0x7f42bb9be5e0>"
      ]
     },
     "execution_count": 13,
     "metadata": {},
     "output_type": "execute_result"
    }
   ],
   "source": [
    "# adding hidden layers this time\n",
    "model=tf.keras.Sequential([\n",
    "    tf.keras.layers.Dense(50,activation=None),\n",
    "    tf.keras.layers.Dense(1)\n",
    "])\n",
    "model.compile(loss=tf.keras.losses.mae,\n",
    "              optimizer=tf.keras.optimizers.Adam(0.01),\n",
    "              metrics=['mae']\n",
    "              )\n",
    "model.fit(tf.expand_dims(X,axis=-1),y,epochs=150)"
   ]
  },
  {
   "cell_type": "code",
   "execution_count": 14,
   "metadata": {
    "colab": {
     "base_uri": "https://localhost:8080/"
    },
    "executionInfo": {
     "elapsed": 803,
     "status": "ok",
     "timestamp": 1673953576087,
     "user": {
      "displayName": "Ujjwal Mk",
      "userId": "12008983132848472926"
     },
     "user_tz": -330
    },
    "id": "LExVC9A0GUBX",
    "outputId": "7856b712-084b-478a-afda-6be737e732c1"
   },
   "outputs": [
    {
     "name": "stdout",
     "output_type": "stream",
     "text": [
      "1/1 [==============================] - 0s 41ms/step\n"
     ]
    },
    {
     "data": {
      "text/plain": [
       "array([[27.77]], dtype=float16)"
      ]
     },
     "execution_count": 14,
     "metadata": {},
     "output_type": "execute_result"
    }
   ],
   "source": [
    "model.predict([17.0])"
   ]
  },
  {
   "cell_type": "code",
   "execution_count": 15,
   "metadata": {
    "colab": {
     "base_uri": "https://localhost:8080/"
    },
    "executionInfo": {
     "elapsed": 45,
     "status": "ok",
     "timestamp": 1673953576088,
     "user": {
      "displayName": "Ujjwal Mk",
      "userId": "12008983132848472926"
     },
     "user_tz": -330
    },
    "id": "N6tsX56TGc9n",
    "outputId": "fb68b29b-7b02-4c2f-dda6-26f81d9a5067"
   },
   "outputs": [
    {
     "data": {
      "text/plain": [
       "<tf.Tensor: shape=(50,), dtype=int32, numpy=\n",
       "array([-100,  -96,  -92,  -88,  -84,  -80,  -76,  -72,  -68,  -64,  -60,\n",
       "        -56,  -52,  -48,  -44,  -40,  -36,  -32,  -28,  -24,  -20,  -16,\n",
       "        -12,   -8,   -4,    0,    4,    8,   12,   16,   20,   24,   28,\n",
       "         32,   36,   40,   44,   48,   52,   56,   60,   64,   68,   72,\n",
       "         76,   80,   84,   88,   92,   96], dtype=int32)>"
      ]
     },
     "execution_count": 15,
     "metadata": {},
     "output_type": "execute_result"
    }
   ],
   "source": [
    "# make a bigger dataset\n",
    "X = tf.range(-100,100,4)\n",
    "X"
   ]
  },
  {
   "cell_type": "code",
   "execution_count": 16,
   "metadata": {
    "colab": {
     "base_uri": "https://localhost:8080/"
    },
    "executionInfo": {
     "elapsed": 37,
     "status": "ok",
     "timestamp": 1673953576088,
     "user": {
      "displayName": "Ujjwal Mk",
      "userId": "12008983132848472926"
     },
     "user_tz": -330
    },
    "id": "P0T--U7GLHQB",
    "outputId": "62d84e49-6050-424a-e545-542e35c392a7"
   },
   "outputs": [
    {
     "data": {
      "text/plain": [
       "<tf.Tensor: shape=(50,), dtype=int32, numpy=\n",
       "array([-90, -86, -82, -78, -74, -70, -66, -62, -58, -54, -50, -46, -42,\n",
       "       -38, -34, -30, -26, -22, -18, -14, -10,  -6,  -2,   2,   6,  10,\n",
       "        14,  18,  22,  26,  30,  34,  38,  42,  46,  50,  54,  58,  62,\n",
       "        66,  70,  74,  78,  82,  86,  90,  94,  98, 102, 106], dtype=int32)>"
      ]
     },
     "execution_count": 16,
     "metadata": {},
     "output_type": "execute_result"
    }
   ],
   "source": [
    "# Make labels for the data set\n",
    "y=X+10\n",
    "y"
   ]
  },
  {
   "cell_type": "code",
   "execution_count": 17,
   "metadata": {
    "colab": {
     "base_uri": "https://localhost:8080/",
     "height": 299
    },
    "executionInfo": {
     "elapsed": 31,
     "status": "ok",
     "timestamp": 1673953576088,
     "user": {
      "displayName": "Ujjwal Mk",
      "userId": "12008983132848472926"
     },
     "user_tz": -330
    },
    "id": "KR1x463PLPQi",
    "outputId": "68daa8ad-87c1-4900-fa33-30c5fceda2ff"
   },
   "outputs": [
    {
     "data": {
      "text/plain": [
       "([<matplotlib.lines.Line2D at 0x7f42bb9b44c0>],\n",
       " <matplotlib.collections.PathCollection at 0x7f42a3f59e50>)"
      ]
     },
     "execution_count": 17,
     "metadata": {},
     "output_type": "execute_result"
    },
    {
     "data": {
      "image/png": "[encoded data removed]",
      "text/plain": [
       "<Figure size 640x480 with 1 Axes>"
      ]
     },
     "metadata": {},
     "output_type": "display_data"
    }
   ],
   "source": [
    "# Visualize the data\n",
    "import matplotlib.pyplot as plt\n",
    "plt.plot(X,y),plt.scatter(X,y)"
   ]
  },
  {
   "cell_type": "markdown",
   "metadata": {
    "id": "o1yh-KY6Lk1g"
   },
   "source": [
    "### The 2-3 sets..."
   ]
  },
  {
   "cell_type": "code",
   "execution_count": 18,
   "metadata": {
    "colab": {
     "base_uri": "https://localhost:8080/"
    },
    "executionInfo": {
     "elapsed": 24,
     "status": "ok",
     "timestamp": 1673953576088,
     "user": {
      "displayName": "Ujjwal Mk",
      "userId": "12008983132848472926"
     },
     "user_tz": -330
    },
    "id": "41_yZM5ZLYbX",
    "outputId": "35966d84-c6d0-4755-eb27-1d5effd74fd2"
   },
   "outputs": [
    {
     "data": {
      "text/plain": [
       "50"
      ]
     },
     "execution_count": 18,
     "metadata": {},
     "output_type": "execute_result"
    }
   ],
   "source": [
    "# Check the length of the sample we have\n",
    "len(X)"
   ]
  },
  {
   "cell_type": "code",
   "execution_count": 19,
   "metadata": {
    "colab": {
     "base_uri": "https://localhost:8080/"
    },
    "executionInfo": {
     "elapsed": 19,
     "status": "ok",
     "timestamp": 1673953576088,
     "user": {
      "displayName": "Ujjwal Mk",
      "userId": "12008983132848472926"
     },
     "user_tz": -330
    },
    "id": "DnhcibLVMpT-",
    "outputId": "9722a93e-dcb4-47d9-aec1-4f77b747ae4a"
   },
   "outputs": [
    {
     "data": {
      "text/plain": [
       "(<tf.Tensor: shape=(40,), dtype=int32, numpy=\n",
       " array([-100,  -96,  -92,  -88,  -84,  -80,  -76,  -72,  -68,  -64,  -60,\n",
       "         -56,  -52,  -48,  -44,  -40,  -36,  -32,  -28,  -24,  -20,  -16,\n",
       "         -12,   -8,   -4,    0,    4,    8,   12,   16,   20,   24,   28,\n",
       "          32,   36,   40,   44,   48,   52,   56], dtype=int32)>,\n",
       " <tf.Tensor: shape=(10,), dtype=int32, numpy=array([60, 64, 68, 72, 76, 80, 84, 88, 92, 96], dtype=int32)>,\n",
       " <tf.Tensor: shape=(40,), dtype=int32, numpy=\n",
       " array([-90, -86, -82, -78, -74, -70, -66, -62, -58, -54, -50, -46, -42,\n",
       "        -38, -34, -30, -26, -22, -18, -14, -10,  -6,  -2,   2,   6,  10,\n",
       "         14,  18,  22,  26,  30,  34,  38,  42,  46,  50,  54,  58,  62,\n",
       "         66], dtype=int32)>,\n",
       " <tf.Tensor: shape=(10,), dtype=int32, numpy=array([ 70,  74,  78,  82,  86,  90,  94,  98, 102, 106], dtype=int32)>)"
      ]
     },
     "execution_count": 19,
     "metadata": {},
     "output_type": "execute_result"
    }
   ],
   "source": [
    "# Split the data into train-test set\n",
    "X_train = X[:40]\n",
    "y_train=y[:40]\n",
    "X_test = X[40:]\n",
    "y_test = y[40:]\n",
    "X_train,X_test,y_train,y_test"
   ]
  },
  {
   "cell_type": "code",
   "execution_count": 20,
   "metadata": {
    "colab": {
     "base_uri": "https://localhost:8080/",
     "height": 445
    },
    "executionInfo": {
     "elapsed": 15,
     "status": "ok",
     "timestamp": 1673953576089,
     "user": {
      "displayName": "Ujjwal Mk",
      "userId": "12008983132848472926"
     },
     "user_tz": -330
    },
    "id": "Y_DEDN82NDJ-",
    "outputId": "1690d816-e0ae-44da-a0b9-e4cb020b9e2d"
   },
   "outputs": [
    {
     "data": {
      "text/plain": [
       "<matplotlib.legend.Legend at 0x7f4291bd7e20>"
      ]
     },
     "execution_count": 20,
     "metadata": {},
     "output_type": "execute_result"
    },
    {
     "data": {
      "image/png": "[encoded data removed]",
      "text/plain": [
       "<Figure size 1000x700 with 1 Axes>"
      ]
     },
     "metadata": {},
     "output_type": "display_data"
    }
   ],
   "source": [
    "plt.figure(figsize=(10,7))\n",
    "\n",
    "plt.scatter(X_train,y_train,c='b',label='training data')\n",
    "\n",
    "plt.scatter(X_test,y_test,c='g',label=\"testing data\")\n",
    "\n",
    "plt.legend()"
   ]
  },
  {
   "cell_type": "code",
   "execution_count": 21,
   "metadata": {
    "colab": {
     "base_uri": "https://localhost:8080/"
    },
    "executionInfo": {
     "elapsed": 2801,
     "status": "ok",
     "timestamp": 1673953578881,
     "user": {
      "displayName": "Ujjwal Mk",
      "userId": "12008983132848472926"
     },
     "user_tz": -330
    },
    "id": "wBGkmmlfQDxj",
    "outputId": "51d1030c-7fca-4623-d6e9-ed19e7d2dbac"
   },
   "outputs": [
    {
     "name": "stdout",
     "output_type": "stream",
     "text": [
      "Epoch 1/150\n",
      "2/2 [==============================] - 1s 4ms/step - loss: 43.0187 - mae: 43.0050\n",
      "Epoch 2/150\n",
      "2/2 [==============================] - 1s 4ms/step - loss: 40.0719 - mae: 40.0550\n",
      "Epoch 3/150\n",
      "2/2 [==============================] - 0s 4ms/step - loss: 28.2594 - mae: 28.2574\n",
      "Epoch 4/150\n",
      "2/2 [==============================] - 0s 3ms/step - loss: 14.5953 - mae: 14.5884\n",
      "Epoch 5/150\n",
      "2/2 [==============================] - 0s 4ms/step - loss: 11.9969 - mae: 11.9923\n",
      "Epoch 6/150\n",
      "2/2 [==============================] - 0s 4ms/step - loss: 9.0375 - mae: 9.0342\n",
      "Epoch 7/150\n",
      "2/2 [==============================] - 0s 4ms/step - loss: 5.4352 - mae: 5.4336\n",
      "Epoch 8/150\n",
      "2/2 [==============================] - 0s 3ms/step - loss: 6.8000 - mae: 6.7977\n",
      "Epoch 9/150\n",
      "2/2 [==============================] - 0s 4ms/step - loss: 5.1281 - mae: 5.1278\n",
      "Epoch 10/150\n",
      "2/2 [==============================] - 0s 4ms/step - loss: 6.0719 - mae: 6.0744\n",
      "Epoch 11/150\n",
      "2/2 [==============================] - 0s 4ms/step - loss: 7.7781 - mae: 7.7792\n",
      "Epoch 12/150\n",
      "2/2 [==============================] - 0s 4ms/step - loss: 5.2945 - mae: 5.2951\n",
      "Epoch 13/150\n",
      "2/2 [==============================] - 0s 4ms/step - loss: 6.8828 - mae: 6.8846\n",
      "Epoch 14/150\n",
      "2/2 [==============================] - 0s 4ms/step - loss: 6.2797 - mae: 6.2790\n",
      "Epoch 15/150\n",
      "2/2 [==============================] - 0s 4ms/step - loss: 9.2281 - mae: 9.2303\n",
      "Epoch 16/150\n",
      "2/2 [==============================] - 0s 4ms/step - loss: 5.6508 - mae: 5.6534\n",
      "Epoch 17/150\n",
      "2/2 [==============================] - 0s 4ms/step - loss: 5.7555 - mae: 5.7555\n",
      "Epoch 18/150\n",
      "2/2 [==============================] - 0s 4ms/step - loss: 4.2391 - mae: 4.2385\n",
      "Epoch 19/150\n",
      "2/2 [==============================] - 0s 4ms/step - loss: 6.8148 - mae: 6.8163\n",
      "Epoch 20/150\n",
      "2/2 [==============================] - 0s 4ms/step - loss: 4.4262 - mae: 4.4261\n",
      "Epoch 21/150\n",
      "2/2 [==============================] - 0s 4ms/step - loss: 4.8070 - mae: 4.8067\n",
      "Epoch 22/150\n",
      "2/2 [==============================] - 0s 4ms/step - loss: 4.2078 - mae: 4.2088\n",
      "Epoch 23/150\n",
      "2/2 [==============================] - 0s 4ms/step - loss: 5.4133 - mae: 5.4146\n",
      "Epoch 24/150\n",
      "2/2 [==============================] - 0s 4ms/step - loss: 3.2766 - mae: 3.2765\n",
      "Epoch 25/150\n",
      "2/2 [==============================] - 0s 4ms/step - loss: 3.5480 - mae: 3.5483\n",
      "Epoch 26/150\n",
      "2/2 [==============================] - 0s 4ms/step - loss: 2.8672 - mae: 2.8668\n",
      "Epoch 27/150\n",
      "2/2 [==============================] - 0s 4ms/step - loss: 2.6793 - mae: 2.6787\n",
      "Epoch 28/150\n",
      "2/2 [==============================] - 0s 4ms/step - loss: 2.8523 - mae: 2.8527\n",
      "Epoch 29/150\n",
      "2/2 [==============================] - 0s 4ms/step - loss: 2.8445 - mae: 2.8451\n",
      "Epoch 30/150\n",
      "2/2 [==============================] - 0s 4ms/step - loss: 3.6508 - mae: 3.6502\n",
      "Epoch 31/150\n",
      "2/2 [==============================] - 0s 4ms/step - loss: 3.6414 - mae: 3.6418\n",
      "Epoch 32/150\n",
      "2/2 [==============================] - 0s 5ms/step - loss: 3.9930 - mae: 3.9941\n",
      "Epoch 33/150\n",
      "2/2 [==============================] - 0s 4ms/step - loss: 4.4453 - mae: 4.4451\n",
      "Epoch 34/150\n",
      "2/2 [==============================] - 0s 4ms/step - loss: 3.0770 - mae: 3.0766\n",
      "Epoch 35/150\n",
      "2/2 [==============================] - 0s 4ms/step - loss: 3.0613 - mae: 3.0619\n",
      "Epoch 36/150\n",
      "2/2 [==============================] - 0s 4ms/step - loss: 2.9756 - mae: 2.9743\n",
      "Epoch 37/150\n",
      "2/2 [==============================] - 0s 4ms/step - loss: 2.5498 - mae: 2.5495\n",
      "Epoch 38/150\n",
      "2/2 [==============================] - 0s 5ms/step - loss: 3.9125 - mae: 3.9128\n",
      "Epoch 39/150\n",
      "2/2 [==============================] - 0s 4ms/step - loss: 3.2625 - mae: 3.2622\n",
      "Epoch 40/150\n",
      "2/2 [==============================] - 0s 4ms/step - loss: 3.0836 - mae: 3.0830\n",
      "Epoch 41/150\n",
      "2/2 [==============================] - 0s 4ms/step - loss: 2.1021 - mae: 2.1028\n",
      "Epoch 42/150\n",
      "2/2 [==============================] - 0s 4ms/step - loss: 2.7609 - mae: 2.7625\n",
      "Epoch 43/150\n",
      "2/2 [==============================] - 0s 3ms/step - loss: 2.8727 - mae: 2.8724\n",
      "Epoch 44/150\n",
      "2/2 [==============================] - 0s 4ms/step - loss: 2.6107 - mae: 2.6113\n",
      "Epoch 45/150\n",
      "2/2 [==============================] - 0s 4ms/step - loss: 3.8344 - mae: 3.8331\n",
      "Epoch 46/150\n",
      "2/2 [==============================] - 0s 4ms/step - loss: 2.6285 - mae: 2.6290\n",
      "Epoch 47/150\n",
      "2/2 [==============================] - 0s 4ms/step - loss: 5.6469 - mae: 5.6479\n",
      "Epoch 48/150\n",
      "2/2 [==============================] - 0s 4ms/step - loss: 3.4371 - mae: 3.4385\n",
      "Epoch 49/150\n",
      "2/2 [==============================] - 0s 4ms/step - loss: 4.5324 - mae: 4.5298\n",
      "Epoch 50/150\n",
      "2/2 [==============================] - 0s 4ms/step - loss: 2.0840 - mae: 2.0849\n",
      "Epoch 51/150\n",
      "2/2 [==============================] - 0s 4ms/step - loss: 5.1750 - mae: 5.1750\n",
      "Epoch 52/150\n",
      "2/2 [==============================] - 0s 4ms/step - loss: 4.7836 - mae: 4.7836\n",
      "Epoch 53/150\n",
      "2/2 [==============================] - 0s 4ms/step - loss: 4.4750 - mae: 4.4727\n",
      "Epoch 54/150\n",
      "2/2 [==============================] - 0s 4ms/step - loss: 3.2219 - mae: 3.2205\n",
      "Epoch 55/150\n",
      "2/2 [==============================] - 0s 4ms/step - loss: 1.8293 - mae: 1.8285\n",
      "Epoch 56/150\n",
      "2/2 [==============================] - 0s 4ms/step - loss: 2.7348 - mae: 2.7358\n",
      "Epoch 57/150\n",
      "2/2 [==============================] - 0s 4ms/step - loss: 2.4891 - mae: 2.4881\n",
      "Epoch 58/150\n",
      "2/2 [==============================] - 0s 4ms/step - loss: 2.5244 - mae: 2.5239\n",
      "Epoch 59/150\n",
      "2/2 [==============================] - 0s 4ms/step - loss: 1.8963 - mae: 1.8960\n",
      "Epoch 60/150\n",
      "2/2 [==============================] - 0s 4ms/step - loss: 2.2422 - mae: 2.2425\n",
      "Epoch 61/150\n",
      "2/2 [==============================] - 0s 4ms/step - loss: 3.3492 - mae: 3.3494\n",
      "Epoch 62/150\n",
      "2/2 [==============================] - 0s 4ms/step - loss: 1.1211 - mae: 1.1207\n",
      "Epoch 63/150\n",
      "2/2 [==============================] - 0s 4ms/step - loss: 3.3791 - mae: 3.3799\n",
      "Epoch 64/150\n",
      "2/2 [==============================] - 0s 4ms/step - loss: 2.3543 - mae: 2.3542\n",
      "Epoch 65/150\n",
      "2/2 [==============================] - 0s 5ms/step - loss: 0.5105 - mae: 0.5104\n",
      "Epoch 66/150\n",
      "2/2 [==============================] - 0s 4ms/step - loss: 2.6562 - mae: 2.6564\n",
      "Epoch 67/150\n",
      "2/2 [==============================] - 0s 4ms/step - loss: 0.8891 - mae: 0.8895\n",
      "Epoch 68/150\n",
      "2/2 [==============================] - 0s 4ms/step - loss: 1.6871 - mae: 1.6872\n",
      "Epoch 69/150\n",
      "2/2 [==============================] - 0s 4ms/step - loss: 2.1898 - mae: 2.1902\n",
      "Epoch 70/150\n",
      "2/2 [==============================] - 0s 4ms/step - loss: 1.8639 - mae: 1.8629\n",
      "Epoch 71/150\n",
      "2/2 [==============================] - 0s 4ms/step - loss: 1.7383 - mae: 1.7386\n",
      "Epoch 72/150\n",
      "2/2 [==============================] - 0s 4ms/step - loss: 1.8469 - mae: 1.8466\n",
      "Epoch 73/150\n",
      "2/2 [==============================] - 0s 4ms/step - loss: 1.7680 - mae: 1.7678\n",
      "Epoch 74/150\n",
      "2/2 [==============================] - 0s 4ms/step - loss: 2.5086 - mae: 2.5094\n",
      "Epoch 75/150\n",
      "2/2 [==============================] - 0s 4ms/step - loss: 2.7781 - mae: 2.7779\n",
      "Epoch 76/150\n",
      "2/2 [==============================] - 0s 4ms/step - loss: 1.6252 - mae: 1.6255\n",
      "Epoch 77/150\n",
      "2/2 [==============================] - 0s 4ms/step - loss: 1.4002 - mae: 1.4007\n",
      "Epoch 78/150\n",
      "2/2 [==============================] - 0s 4ms/step - loss: 1.0039 - mae: 1.0038\n",
      "Epoch 79/150\n",
      "2/2 [==============================] - 0s 4ms/step - loss: 1.1277 - mae: 1.1276\n",
      "Epoch 80/150\n",
      "2/2 [==============================] - 0s 4ms/step - loss: 3.3203 - mae: 3.3213\n",
      "Epoch 81/150\n",
      "2/2 [==============================] - 0s 4ms/step - loss: 2.1168 - mae: 2.1170\n",
      "Epoch 82/150\n",
      "2/2 [==============================] - 0s 4ms/step - loss: 5.2586 - mae: 5.2586\n",
      "Epoch 83/150\n",
      "2/2 [==============================] - 0s 4ms/step - loss: 4.3145 - mae: 4.3121\n",
      "Epoch 84/150\n",
      "2/2 [==============================] - 0s 4ms/step - loss: 2.6688 - mae: 2.6678\n",
      "Epoch 85/150\n",
      "2/2 [==============================] - 0s 4ms/step - loss: 1.4131 - mae: 1.4125\n",
      "Epoch 86/150\n",
      "2/2 [==============================] - 0s 4ms/step - loss: 1.8443 - mae: 1.8443\n",
      "Epoch 87/150\n",
      "2/2 [==============================] - 0s 4ms/step - loss: 1.1986 - mae: 1.1984\n",
      "Epoch 88/150\n",
      "2/2 [==============================] - 0s 4ms/step - loss: 2.0412 - mae: 2.0414\n",
      "Epoch 89/150\n",
      "2/2 [==============================] - 0s 4ms/step - loss: 2.1746 - mae: 2.1747\n",
      "Epoch 90/150\n",
      "2/2 [==============================] - 0s 4ms/step - loss: 1.7215 - mae: 1.7213\n",
      "Epoch 91/150\n",
      "2/2 [==============================] - 0s 4ms/step - loss: 0.8062 - mae: 0.8063\n",
      "Epoch 92/150\n",
      "2/2 [==============================] - 0s 4ms/step - loss: 1.2812 - mae: 1.2818\n",
      "Epoch 93/150\n",
      "2/2 [==============================] - 0s 4ms/step - loss: 0.7929 - mae: 0.7931\n",
      "Epoch 94/150\n",
      "2/2 [==============================] - 0s 4ms/step - loss: 1.6125 - mae: 1.6123\n",
      "Epoch 95/150\n",
      "2/2 [==============================] - 0s 4ms/step - loss: 0.6117 - mae: 0.6116\n",
      "Epoch 96/150\n",
      "2/2 [==============================] - 0s 4ms/step - loss: 1.0344 - mae: 1.0348\n",
      "Epoch 97/150\n",
      "2/2 [==============================] - 0s 4ms/step - loss: 1.5707 - mae: 1.5712\n",
      "Epoch 98/150\n",
      "2/2 [==============================] - 0s 4ms/step - loss: 2.1234 - mae: 2.1240\n",
      "Epoch 99/150\n",
      "2/2 [==============================] - 0s 4ms/step - loss: 1.3434 - mae: 1.3430\n",
      "Epoch 100/150\n",
      "2/2 [==============================] - 0s 4ms/step - loss: 2.3828 - mae: 2.3823\n",
      "Epoch 101/150\n",
      "2/2 [==============================] - 0s 4ms/step - loss: 1.6814 - mae: 1.6813\n",
      "Epoch 102/150\n",
      "2/2 [==============================] - 0s 4ms/step - loss: 2.1898 - mae: 2.1896\n",
      "Epoch 103/150\n",
      "2/2 [==============================] - 0s 3ms/step - loss: 3.9703 - mae: 3.9693\n",
      "Epoch 104/150\n",
      "2/2 [==============================] - 0s 4ms/step - loss: 4.5008 - mae: 4.5018\n",
      "Epoch 105/150\n",
      "2/2 [==============================] - 0s 4ms/step - loss: 4.1078 - mae: 4.1068\n",
      "Epoch 106/150\n",
      "2/2 [==============================] - 0s 4ms/step - loss: 2.8344 - mae: 2.8338\n",
      "Epoch 107/150\n",
      "2/2 [==============================] - 0s 4ms/step - loss: 1.5645 - mae: 1.5648\n",
      "Epoch 108/150\n",
      "2/2 [==============================] - 0s 4ms/step - loss: 3.8766 - mae: 3.8753\n",
      "Epoch 109/150\n",
      "2/2 [==============================] - 0s 4ms/step - loss: 2.1562 - mae: 2.1572\n",
      "Epoch 110/150\n",
      "2/2 [==============================] - 0s 4ms/step - loss: 2.4652 - mae: 2.4666\n",
      "Epoch 111/150\n",
      "2/2 [==============================] - 0s 4ms/step - loss: 3.1172 - mae: 3.1181\n",
      "Epoch 112/150\n",
      "2/2 [==============================] - 0s 4ms/step - loss: 2.1719 - mae: 2.1716\n",
      "Epoch 113/150\n",
      "2/2 [==============================] - 0s 4ms/step - loss: 5.0008 - mae: 5.0030\n",
      "Epoch 114/150\n",
      "2/2 [==============================] - 0s 4ms/step - loss: 4.9141 - mae: 4.9121\n",
      "Epoch 115/150\n",
      "2/2 [==============================] - 0s 4ms/step - loss: 4.2047 - mae: 4.2053\n",
      "Epoch 116/150\n",
      "2/2 [==============================] - 0s 4ms/step - loss: 1.9324 - mae: 1.9317\n",
      "Epoch 117/150\n",
      "2/2 [==============================] - 0s 3ms/step - loss: 1.9537 - mae: 1.9546\n",
      "Epoch 118/150\n",
      "2/2 [==============================] - 0s 4ms/step - loss: 2.2047 - mae: 2.2047\n",
      "Epoch 119/150\n",
      "2/2 [==============================] - 0s 3ms/step - loss: 2.0164 - mae: 2.0166\n",
      "Epoch 120/150\n",
      "2/2 [==============================] - 0s 4ms/step - loss: 1.1439 - mae: 1.1439\n",
      "Epoch 121/150\n",
      "2/2 [==============================] - 0s 4ms/step - loss: 1.7777 - mae: 1.7778\n",
      "Epoch 122/150\n",
      "2/2 [==============================] - 0s 3ms/step - loss: 1.6199 - mae: 1.6199\n",
      "Epoch 123/150\n",
      "2/2 [==============================] - 0s 4ms/step - loss: 1.3287 - mae: 1.3287\n",
      "Epoch 124/150\n",
      "2/2 [==============================] - 0s 4ms/step - loss: 1.0664 - mae: 1.0664\n",
      "Epoch 125/150\n",
      "2/2 [==============================] - 0s 4ms/step - loss: 0.8793 - mae: 0.8795\n",
      "Epoch 126/150\n",
      "2/2 [==============================] - 0s 3ms/step - loss: 1.6219 - mae: 1.6220\n",
      "Epoch 127/150\n",
      "2/2 [==============================] - 0s 4ms/step - loss: 2.2291 - mae: 2.2286\n",
      "Epoch 128/150\n",
      "2/2 [==============================] - 0s 4ms/step - loss: 2.1242 - mae: 2.1245\n",
      "Epoch 129/150\n",
      "2/2 [==============================] - 0s 3ms/step - loss: 1.1762 - mae: 1.1764\n",
      "Epoch 130/150\n",
      "2/2 [==============================] - 0s 4ms/step - loss: 3.6750 - mae: 3.6757\n",
      "Epoch 131/150\n",
      "2/2 [==============================] - 0s 4ms/step - loss: 2.9906 - mae: 2.9896\n",
      "Epoch 132/150\n",
      "2/2 [==============================] - 0s 3ms/step - loss: 1.5820 - mae: 1.5813\n",
      "Epoch 133/150\n",
      "2/2 [==============================] - 0s 3ms/step - loss: 1.3266 - mae: 1.3271\n",
      "Epoch 134/150\n",
      "2/2 [==============================] - 0s 4ms/step - loss: 3.2781 - mae: 3.2780\n",
      "Epoch 135/150\n",
      "2/2 [==============================] - 0s 4ms/step - loss: 2.0816 - mae: 2.0826\n",
      "Epoch 136/150\n",
      "2/2 [==============================] - 0s 4ms/step - loss: 2.8633 - mae: 2.8632\n",
      "Epoch 137/150\n",
      "2/2 [==============================] - 0s 3ms/step - loss: 3.8922 - mae: 3.8920\n",
      "Epoch 138/150\n",
      "2/2 [==============================] - 0s 4ms/step - loss: 2.3625 - mae: 2.3617\n",
      "Epoch 139/150\n",
      "2/2 [==============================] - 0s 4ms/step - loss: 3.9297 - mae: 3.9296\n",
      "Epoch 140/150\n",
      "2/2 [==============================] - 0s 4ms/step - loss: 2.8504 - mae: 2.8502\n",
      "Epoch 141/150\n",
      "2/2 [==============================] - 0s 4ms/step - loss: 2.4164 - mae: 2.4163\n",
      "Epoch 142/150\n",
      "2/2 [==============================] - 0s 4ms/step - loss: 4.5016 - mae: 4.5024\n",
      "Epoch 143/150\n",
      "2/2 [==============================] - 0s 4ms/step - loss: 5.7086 - mae: 5.7072\n",
      "Epoch 144/150\n",
      "2/2 [==============================] - 0s 4ms/step - loss: 3.5723 - mae: 3.5719\n",
      "Epoch 145/150\n",
      "2/2 [==============================] - 0s 4ms/step - loss: 2.8293 - mae: 2.8292\n",
      "Epoch 146/150\n",
      "2/2 [==============================] - 0s 3ms/step - loss: 5.8695 - mae: 5.8685\n",
      "Epoch 147/150\n",
      "2/2 [==============================] - 0s 4ms/step - loss: 4.7811 - mae: 4.7793\n",
      "Epoch 148/150\n",
      "2/2 [==============================] - 0s 4ms/step - loss: 3.6156 - mae: 3.6146\n",
      "Epoch 149/150\n",
      "2/2 [==============================] - 0s 4ms/step - loss: 1.1313 - mae: 1.1312\n",
      "Epoch 150/150\n",
      "2/2 [==============================] - 0s 4ms/step - loss: 5.0895 - mae: 5.0900\n"
     ]
    },
    {
     "data": {
      "text/plain": [
       "<keras.src.callbacks.History at 0x7f4291b645e0>"
      ]
     },
     "execution_count": 21,
     "metadata": {},
     "output_type": "execute_result"
    }
   ],
   "source": [
    "# building a neural network\n",
    "model = tf.keras.Sequential([\n",
    "    tf.keras.layers.Dense(100,activation='relu'),\n",
    "    tf.keras.layers.Dense(100,activation='relu'),\n",
    "    tf.keras.layers.Dense(100,activation='relu'),\n",
    "    tf.keras.layers.Dense(1)\n",
    "])\n",
    "model.compile(loss=tf.keras.losses.mae,\n",
    "              optimizer=tf.keras.optimizers.Adam(0.01),\n",
    "              metrics=['mae']\n",
    "              )\n",
    "model.fit(tf.expand_dims(X_train,axis=-1),y_train,epochs=150)"
   ]
  },
  {
   "cell_type": "code",
   "execution_count": 22,
   "metadata": {
    "colab": {
     "base_uri": "https://localhost:8080/"
    },
    "executionInfo": {
     "elapsed": 15,
     "status": "ok",
     "timestamp": 1673953578881,
     "user": {
      "displayName": "Ujjwal Mk",
      "userId": "12008983132848472926"
     },
     "user_tz": -330
    },
    "id": "k9DGGr0wZA9f",
    "outputId": "44342dfc-09db-4843-d95c-46e8878d32d8"
   },
   "outputs": [
    {
     "name": "stdout",
     "output_type": "stream",
     "text": [
      "Model: \"sequential_4\"\n",
      "_________________________________________________________________\n",
      " Layer (type)                Output Shape              Param #   \n",
      "=================================================================\n",
      " dense_5 (Dense)             (None, 100)               200       \n",
      "                                                                 \n",
      " dense_6 (Dense)             (None, 100)               10100     \n",
      "                                                                 \n",
      " dense_7 (Dense)             (None, 100)               10100     \n",
      "                                                                 \n",
      " dense_8 (Dense)             (None, 1)                 101       \n",
      "                                                                 \n",
      "=================================================================\n",
      "Total params: 20501 (80.08 KB)\n",
      "Trainable params: 20501 (80.08 KB)\n",
      "Non-trainable params: 0 (0.00 Byte)\n",
      "_________________________________________________________________\n"
     ]
    }
   ],
   "source": [
    "model.summary()"
   ]
  },
  {
   "attachments": {},
   "cell_type": "markdown",
   "metadata": {},
   "source": [
    "##### model(x) gives a tensor object but model.predict(x) only gives numpy array"
   ]
  },
  {
   "cell_type": "code",
   "execution_count": 23,
   "metadata": {
    "colab": {
     "base_uri": "https://localhost:8080/"
    },
    "executionInfo": {
     "elapsed": 870,
     "status": "ok",
     "timestamp": 1673953579749,
     "user": {
      "displayName": "Ujjwal Mk",
      "userId": "12008983132848472926"
     },
     "user_tz": -330
    },
    "id": "x54wOJzCY0XL",
    "outputId": "82301079-bbc8-414e-ae3a-58f60aaf96c0"
   },
   "outputs": [
    {
     "name": "stdout",
     "output_type": "stream",
     "text": [
      "1/1 [==============================] - 0s 42ms/step\n"
     ]
    },
    {
     "data": {
      "text/plain": [
       "<tf.Tensor: shape=(10, 1), dtype=float16, numpy=\n",
       "array([[ 84.1 ],\n",
       "       [ 89.  ],\n",
       "       [ 93.9 ],\n",
       "       [ 98.75],\n",
       "       [103.6 ],\n",
       "       [108.5 ],\n",
       "       [113.4 ],\n",
       "       [118.25],\n",
       "       [123.1 ],\n",
       "       [128.1 ]], dtype=float16)>"
      ]
     },
     "execution_count": 23,
     "metadata": {},
     "output_type": "execute_result"
    }
   ],
   "source": [
    "a = model.predict(X_test)\n",
    "b = model(X_test)\n",
    "b"
   ]
  },
  {
   "cell_type": "code",
   "execution_count": 24,
   "metadata": {
    "colab": {
     "base_uri": "https://localhost:8080/"
    },
    "executionInfo": {
     "elapsed": 23,
     "status": "ok",
     "timestamp": 1673953579749,
     "user": {
      "displayName": "Ujjwal Mk",
      "userId": "12008983132848472926"
     },
     "user_tz": -330
    },
    "id": "sRt8JvrTYjBD",
    "outputId": "35ed1ca4-2c07-4962-9bc6-f9abc865e1cd"
   },
   "outputs": [
    {
     "name": "stdout",
     "output_type": "stream",
     "text": [
      "1/1 [==============================] - 0s 95ms/step - loss: 51.8438 - mae: 51.8625\n"
     ]
    },
    {
     "data": {
      "text/plain": [
       "[51.84375, 51.86249923706055]"
      ]
     },
     "execution_count": 24,
     "metadata": {},
     "output_type": "execute_result"
    }
   ],
   "source": [
    "model.evaluate(model(X_test),y_test)"
   ]
  },
  {
   "cell_type": "code",
   "execution_count": 25,
   "metadata": {
    "executionInfo": {
     "elapsed": 12,
     "status": "ok",
     "timestamp": 1673953579749,
     "user": {
      "displayName": "Ujjwal Mk",
      "userId": "12008983132848472926"
     },
     "user_tz": -330
    },
    "id": "1UfqmFJvYxm7"
   },
   "outputs": [],
   "source": [
    "# Creating model that builds automatically\n",
    "tf.random.set_seed(42)\n",
    "\n",
    "model = tf.keras.Sequential([\n",
    "    tf.keras.layers.Dense(10,input_shape=[1],name='input_layer'),\n",
    "    tf.keras.layers.Dense(1,name='output_layer')\n",
    "],name='model_1')\n",
    "model.compile(loss=tf.keras.losses.mae,\n",
    "              optimizer=tf.keras.optimizers.SGD(),\n",
    "              metrics=['mae']\n",
    "              )"
   ]
  },
  {
   "cell_type": "code",
   "execution_count": 26,
   "metadata": {
    "colab": {
     "base_uri": "https://localhost:8080/"
    },
    "executionInfo": {
     "elapsed": 11,
     "status": "ok",
     "timestamp": 1673953579749,
     "user": {
      "displayName": "Ujjwal Mk",
      "userId": "12008983132848472926"
     },
     "user_tz": -330
    },
    "id": "6vOcpI5sZ8eQ",
    "outputId": "a491ba44-ddbc-4a0f-b38a-691ef0749106"
   },
   "outputs": [
    {
     "name": "stdout",
     "output_type": "stream",
     "text": [
      "Model: \"model_1\"\n",
      "_________________________________________________________________\n",
      " Layer (type)                Output Shape              Param #   \n",
      "=================================================================\n",
      " input_layer (Dense)         (None, 10)                20        \n",
      "                                                                 \n",
      " output_layer (Dense)        (None, 1)                 11        \n",
      "                                                                 \n",
      "=================================================================\n",
      "Total params: 31 (124.00 Byte)\n",
      "Trainable params: 31 (124.00 Byte)\n",
      "Non-trainable params: 0 (0.00 Byte)\n",
      "_________________________________________________________________\n"
     ]
    }
   ],
   "source": [
    "model.summary()"
   ]
  },
  {
   "cell_type": "markdown",
   "metadata": {
    "id": "cwEqPk-caO8N"
   },
   "source": [
    "* Total params - total number of parameters in the model\n",
    "* Trainable parameters - these are parameters(patterns) that the model can update\n",
    "* Non-trainable paramas - these are not updated during training, happens when you bring already learnt from other models"
   ]
  },
  {
   "cell_type": "code",
   "execution_count": 27,
   "metadata": {
    "colab": {
     "base_uri": "https://localhost:8080/"
    },
    "executionInfo": {
     "elapsed": 753,
     "status": "ok",
     "timestamp": 1673953580499,
     "user": {
      "displayName": "Ujjwal Mk",
      "userId": "12008983132848472926"
     },
     "user_tz": -330
    },
    "id": "6lRQaeGdZ-Fw",
    "outputId": "fc98b590-039c-4da1-ab05-f6b3a1db0bfd"
   },
   "outputs": [
    {
     "data": {
      "text/plain": [
       "<keras.src.callbacks.History at 0x7f4280398880>"
      ]
     },
     "execution_count": 27,
     "metadata": {},
     "output_type": "execute_result"
    }
   ],
   "source": [
    "# Fit the model\n",
    "model.fit(tf.expand_dims(X_train,axis=-1),y_train,epochs=100,verbose=0)"
   ]
  },
  {
   "cell_type": "code",
   "execution_count": 28,
   "metadata": {
    "colab": {
     "base_uri": "https://localhost:8080/"
    },
    "executionInfo": {
     "elapsed": 14,
     "status": "ok",
     "timestamp": 1673953580499,
     "user": {
      "displayName": "Ujjwal Mk",
      "userId": "12008983132848472926"
     },
     "user_tz": -330
    },
    "id": "EiGUZOzmdDYF",
    "outputId": "bd28ae73-7159-4452-cb2d-46f06d9fbc76"
   },
   "outputs": [
    {
     "name": "stdout",
     "output_type": "stream",
     "text": [
      "WARNING:tensorflow:5 out of the last 5 calls to <function Model.make_predict_function.<locals>.predict_function at 0x7f428024de50> triggered tf.function retracing. Tracing is expensive and the excessive number of tracings could be due to (1) creating @tf.function repeatedly in a loop, (2) passing tensors with different shapes, (3) passing Python objects instead of tensors. For (1), please define your @tf.function outside of the loop. For (2), @tf.function has reduce_retracing=True option that can avoid unnecessary retracing. For (3), please refer to https://www.tensorflow.org/guide/function#controlling_retracing and https://www.tensorflow.org/api_docs/python/tf/function for  more details.\n",
      "1/1 [==============================] - 0s 30ms/step\n"
     ]
    },
    {
     "data": {
      "text/plain": [
       "array([[ 78.25],\n",
       "       [ 83.4 ],\n",
       "       [ 88.44],\n",
       "       [ 93.56],\n",
       "       [ 98.7 ],\n",
       "       [103.75],\n",
       "       [108.8 ],\n",
       "       [113.94],\n",
       "       [119.06],\n",
       "       [124.2 ]], dtype=float16)"
      ]
     },
     "execution_count": 28,
     "metadata": {},
     "output_type": "execute_result"
    }
   ],
   "source": [
    "model.predict(X_test)"
   ]
  },
  {
   "cell_type": "code",
   "execution_count": 29,
   "metadata": {
    "colab": {
     "base_uri": "https://localhost:8080/",
     "height": 312
    },
    "executionInfo": {
     "elapsed": 623,
     "status": "ok",
     "timestamp": 1673953581118,
     "user": {
      "displayName": "Ujjwal Mk",
      "userId": "12008983132848472926"
     },
     "user_tz": -330
    },
    "id": "OxW7CP9Jd3q2",
    "outputId": "24af8089-04da-431b-dfdc-1518e52befa0"
   },
   "outputs": [
    {
     "name": "stdout",
     "output_type": "stream",
     "text": [
      "You must install pydot (`pip install pydot`) and install graphviz (see instructions at https://graphviz.gitlab.io/download/) for plot_model to work.\n"
     ]
    }
   ],
   "source": [
    "tf.keras.utils.plot_model(model,show_shapes=True)"
   ]
  },
  {
   "cell_type": "markdown",
   "metadata": {
    "id": "kIfb2Uj2lKjA"
   },
   "source": [
    "### Visualizing model predictions\n",
    "\n",
    "To visualize prediction, a good idea is to plot them against ground truth labels"
   ]
  },
  {
   "cell_type": "code",
   "execution_count": 30,
   "metadata": {
    "colab": {
     "base_uri": "https://localhost:8080/"
    },
    "executionInfo": {
     "elapsed": 24,
     "status": "ok",
     "timestamp": 1673953581118,
     "user": {
      "displayName": "Ujjwal Mk",
      "userId": "12008983132848472926"
     },
     "user_tz": -330
    },
    "id": "vzFPInrwoYXv",
    "outputId": "30d0ead1-d62f-4db1-988e-bf16143b5831"
   },
   "outputs": [
    {
     "name": "stdout",
     "output_type": "stream",
     "text": [
      "1/1 [==============================] - 0s 12ms/step\n"
     ]
    },
    {
     "data": {
      "text/plain": [
       "(array([[ 78.25],\n",
       "        [ 83.4 ],\n",
       "        [ 88.44],\n",
       "        [ 93.56],\n",
       "        [ 98.7 ],\n",
       "        [103.75],\n",
       "        [108.8 ],\n",
       "        [113.94],\n",
       "        [119.06],\n",
       "        [124.2 ]], dtype=float16),\n",
       " <tf.Tensor: shape=(10,), dtype=int32, numpy=array([ 70,  74,  78,  82,  86,  90,  94,  98, 102, 106], dtype=int32)>)"
      ]
     },
     "execution_count": 30,
     "metadata": {},
     "output_type": "execute_result"
    }
   ],
   "source": [
    "y_pred=model.predict(X_test)\n",
    "y_pred,y_test"
   ]
  },
  {
   "cell_type": "code",
   "execution_count": 31,
   "metadata": {
    "colab": {
     "base_uri": "https://localhost:8080/",
     "height": 299
    },
    "executionInfo": {
     "elapsed": 13,
     "status": "ok",
     "timestamp": 1673953581118,
     "user": {
      "displayName": "Ujjwal Mk",
      "userId": "12008983132848472926"
     },
     "user_tz": -330
    },
    "id": "A9bLqDcheGM8",
    "outputId": "3c939182-fe07-451c-e4cd-ee0ac7ee7fbe"
   },
   "outputs": [
    {
     "name": "stdout",
     "output_type": "stream",
     "text": [
      "1/1 [==============================] - 0s 11ms/step\n"
     ]
    },
    {
     "data": {
      "text/plain": [
       "[<matplotlib.lines.Line2D at 0x7f428009b3d0>]"
      ]
     },
     "execution_count": 31,
     "metadata": {},
     "output_type": "execute_result"
    },
    {
     "data": {
      "image/png": "[encoded data removed]",
      "text/plain": [
       "<Figure size 640x480 with 1 Axes>"
      ]
     },
     "metadata": {},
     "output_type": "display_data"
    }
   ],
   "source": [
    "plt.plot(model.predict(X_test),y_test)"
   ]
  },
  {
   "cell_type": "code",
   "execution_count": 32,
   "metadata": {
    "executionInfo": {
     "elapsed": 6,
     "status": "ok",
     "timestamp": 1673953581119,
     "user": {
      "displayName": "Ujjwal Mk",
      "userId": "12008983132848472926"
     },
     "user_tz": -330
    },
    "id": "oPNaAvuVlc2T"
   },
   "outputs": [],
   "source": [
    "# Creating a plotting function:\n",
    "def plot_prediction(train_data=X_train,train_label=y_train,test_data=X_test,test_label=y_test,predictions=y_pred):\n",
    "  plt.figure(figsize=(10,7))\n",
    "  #Plot training data in blue\n",
    "  plt.scatter(train_data,train_label,c='b',label='training_data')\n",
    "  #Plot testing data in green\n",
    "  plt.scatter(test_data,test_label,c='g',label=\"testing_data\")\n",
    "  #Plot predictions\n",
    "  plt.scatter(test_data,predictions,c='r',label=\"predictions\")\n",
    "  #legends\n",
    "  plt.legend()"
   ]
  },
  {
   "cell_type": "code",
   "execution_count": 33,
   "metadata": {
    "colab": {
     "base_uri": "https://localhost:8080/",
     "height": 428
    },
    "executionInfo": {
     "elapsed": 486,
     "status": "ok",
     "timestamp": 1673953581600,
     "user": {
      "displayName": "Ujjwal Mk",
      "userId": "12008983132848472926"
     },
     "user_tz": -330
    },
    "id": "BLsEZQutoKSI",
    "outputId": "836d384f-5b0c-4716-8fc1-7fc8743e262d"
   },
   "outputs": [
    {
     "data": {
      "image/png": "[encoded data removed]",
      "text/plain": [
       "<Figure size 1000x700 with 1 Axes>"
      ]
     },
     "metadata": {},
     "output_type": "display_data"
    }
   ],
   "source": [
    "plot_prediction(X_train,y_train,X_test,y_test,y_pred)"
   ]
  },
  {
   "cell_type": "markdown",
   "metadata": {
    "id": "ZadFWc_Ko2Cd"
   },
   "source": [
    "### Evaluating models prediction with regression evaluation matrix\n",
    "\n",
    "Two types:\n",
    "1. MAE\n",
    "2. MSE"
   ]
  },
  {
   "cell_type": "code",
   "execution_count": 34,
   "metadata": {
    "colab": {
     "base_uri": "https://localhost:8080/"
    },
    "executionInfo": {
     "elapsed": 26,
     "status": "ok",
     "timestamp": 1673953581601,
     "user": {
      "displayName": "Ujjwal Mk",
      "userId": "12008983132848472926"
     },
     "user_tz": -330
    },
    "id": "ibgrqsgtoNsJ",
    "outputId": "dc2223a5-b4de-4487-9233-4901327e4d66"
   },
   "outputs": [
    {
     "name": "stdout",
     "output_type": "stream",
     "text": [
      "1/1 [==============================] - 0s 62ms/step - loss: 13.2031 - mae: 13.2063\n"
     ]
    },
    {
     "data": {
      "text/plain": [
       "[13.203125, 13.206250190734863]"
      ]
     },
     "execution_count": 34,
     "metadata": {},
     "output_type": "execute_result"
    }
   ],
   "source": [
    "# Evaluate the model on the test set\n",
    "model.evaluate(X_test,y_test)"
   ]
  },
  {
   "cell_type": "code",
   "execution_count": 35,
   "metadata": {
    "colab": {
     "base_uri": "https://localhost:8080/"
    },
    "executionInfo": {
     "elapsed": 19,
     "status": "ok",
     "timestamp": 1673953581601,
     "user": {
      "displayName": "Ujjwal Mk",
      "userId": "12008983132848472926"
     },
     "user_tz": -330
    },
    "id": "E1s59RRptWlT",
    "outputId": "c57883b9-4b95-4e27-b725-28d2445ad369"
   },
   "outputs": [
    {
     "data": {
      "text/plain": [
       "(array([[ 78.25],\n",
       "        [ 83.4 ],\n",
       "        [ 88.44],\n",
       "        [ 93.56],\n",
       "        [ 98.7 ],\n",
       "        [103.75],\n",
       "        [108.8 ],\n",
       "        [113.94],\n",
       "        [119.06],\n",
       "        [124.2 ]], dtype=float16),\n",
       " <tf.Tensor: shape=(10,), dtype=int32, numpy=array([ 70,  74,  78,  82,  86,  90,  94,  98, 102, 106], dtype=int32)>)"
      ]
     },
     "execution_count": 35,
     "metadata": {},
     "output_type": "execute_result"
    }
   ],
   "source": [
    "y_pred,y_test"
   ]
  },
  {
   "cell_type": "code",
   "execution_count": 36,
   "metadata": {
    "colab": {
     "base_uri": "https://localhost:8080/"
    },
    "executionInfo": {
     "elapsed": 14,
     "status": "ok",
     "timestamp": 1673953581601,
     "user": {
      "displayName": "Ujjwal Mk",
      "userId": "12008983132848472926"
     },
     "user_tz": -330
    },
    "id": "Cjcb1EAVtlBC",
    "outputId": "60d0c7b7-4f6b-4d63-ac97-28f30067e19b"
   },
   "outputs": [
    {
     "data": {
      "text/plain": [
       "(<tf.Tensor: shape=(), dtype=float16, numpy=13.2>,\n",
       " <tf.Tensor: shape=(), dtype=float16, numpy=13.2>)"
      ]
     },
     "execution_count": 36,
     "metadata": {},
     "output_type": "execute_result"
    }
   ],
   "source": [
    "# Calculate MAE\n",
    "y_pred=tf.squeeze(tf.constant(y_pred))\n",
    "tf.metrics.mean_absolute_error(y_test,y_pred), tf.keras.losses.mae(y_test,y_pred)"
   ]
  },
  {
   "cell_type": "code",
   "execution_count": 37,
   "metadata": {
    "colab": {
     "base_uri": "https://localhost:8080/"
    },
    "executionInfo": {
     "elapsed": 8,
     "status": "ok",
     "timestamp": 1673953581601,
     "user": {
      "displayName": "Ujjwal Mk",
      "userId": "12008983132848472926"
     },
     "user_tz": -330
    },
    "id": "92TfP5obt7h0",
    "outputId": "35c845da-d3be-4c36-8fbd-3e1fcb91efe7"
   },
   "outputs": [
    {
     "data": {
      "text/plain": [
       "(<tf.Tensor: shape=(), dtype=float16, numpy=184.4>,\n",
       " <tf.Tensor: shape=(), dtype=float16, numpy=184.4>)"
      ]
     },
     "execution_count": 37,
     "metadata": {},
     "output_type": "execute_result"
    }
   ],
   "source": [
    "# Calculate MSE\n",
    "tf.metrics.mean_squared_error(y_test,y_pred), tf.keras.losses.mse(y_test,y_pred)"
   ]
  },
  {
   "cell_type": "code",
   "execution_count": 38,
   "metadata": {},
   "outputs": [
    {
     "data": {
      "text/plain": [
       "(<tf.Tensor: shape=(10,), dtype=int32, numpy=array([ 70,  74,  78,  82,  86,  90,  94,  98, 102, 106], dtype=int32)>,\n",
       " <tf.Tensor: shape=(40,), dtype=int32, numpy=\n",
       " array([-90, -86, -82, -78, -74, -70, -66, -62, -58, -54, -50, -46, -42,\n",
       "        -38, -34, -30, -26, -22, -18, -14, -10,  -6,  -2,   2,   6,  10,\n",
       "         14,  18,  22,  26,  30,  34,  38,  42,  46,  50,  54,  58,  62,\n",
       "         66], dtype=int32)>)"
      ]
     },
     "execution_count": 38,
     "metadata": {},
     "output_type": "execute_result"
    }
   ],
   "source": [
    "y_test,y_train"
   ]
  },
  {
   "cell_type": "code",
   "execution_count": 39,
   "metadata": {
    "colab": {
     "base_uri": "https://localhost:8080/",
     "height": 358
    },
    "executionInfo": {
     "elapsed": 532,
     "status": "error",
     "timestamp": 1673953582129,
     "user": {
      "displayName": "Ujjwal Mk",
      "userId": "12008983132848472926"
     },
     "user_tz": -330
    },
    "id": "O2snIm5vwTiI",
    "outputId": "becfc696-e68b-4baa-ed47-4515e5cd557f"
   },
   "outputs": [
    {
     "data": {
      "text/plain": [
       "<tf.Tensor: shape=(), dtype=float32, numpy=12.70625>"
      ]
     },
     "execution_count": 39,
     "metadata": {},
     "output_type": "execute_result"
    }
   ],
   "source": [
    "# Calculate Huber\n",
    "h= tf.losses.Huber()\n",
    "h(y_test,y_pred)"
   ]
  },
  {
   "cell_type": "code",
   "execution_count": 40,
   "metadata": {
    "executionInfo": {
     "elapsed": 2,
     "status": "ok",
     "timestamp": 1673953589830,
     "user": {
      "displayName": "Ujjwal Mk",
      "userId": "12008983132848472926"
     },
     "user_tz": -330
    },
    "id": "MRpEB2Puwu1B"
   },
   "outputs": [],
   "source": [
    "# make functions to reuse mae and mse\n",
    "def mae_mse(y_test,y_pred):\n",
    "  return tf.keras.losses.mae(y_test,y_pred).numpy(),tf.keras.losses.mse(y_test,y_pred).numpy()"
   ]
  },
  {
   "cell_type": "code",
   "execution_count": 41,
   "metadata": {
    "colab": {
     "base_uri": "https://localhost:8080/"
    },
    "executionInfo": {
     "elapsed": 1,
     "status": "ok",
     "timestamp": 1673953590521,
     "user": {
      "displayName": "Ujjwal Mk",
      "userId": "12008983132848472926"
     },
     "user_tz": -330
    },
    "id": "AVDaMrxtyO9F",
    "outputId": "2f2c11ef-a296-4eaa-fe63-fc4f58ccd7ea"
   },
   "outputs": [
    {
     "data": {
      "text/plain": [
       "(13.2, 184.4)"
      ]
     },
     "execution_count": 41,
     "metadata": {},
     "output_type": "execute_result"
    }
   ],
   "source": [
    "mae_mse(y_test,y_pred)"
   ]
  },
  {
   "cell_type": "code",
   "execution_count": 42,
   "metadata": {
    "colab": {
     "base_uri": "https://localhost:8080/"
    },
    "executionInfo": {
     "elapsed": 3,
     "status": "ok",
     "timestamp": 1673953591258,
     "user": {
      "displayName": "Ujjwal Mk",
      "userId": "12008983132848472926"
     },
     "user_tz": -330
    },
    "id": "em5q8M1l9ADU",
    "outputId": "a42262ae-4f49-4d52-d13c-14f79eec6bfa"
   },
   "outputs": [
    {
     "data": {
      "text/plain": [
       "(<tf.Tensor: shape=(125, 125), dtype=int32, numpy=\n",
       " array([[    1,     2,     3, ...,   123,   124,   125],\n",
       "        [  126,   127,   128, ...,   248,   249,   250],\n",
       "        [  251,   252,   253, ...,   373,   374,   375],\n",
       "        ...,\n",
       "        [15251, 15252, 15253, ..., 15373, 15374, 15375],\n",
       "        [15376, 15377, 15378, ..., 15498, 15499, 15500],\n",
       "        [15501, 15502, 15503, ..., 15623, 15624, 15625]], dtype=int32)>,\n",
       " <tf.Tensor: shape=(125, 125), dtype=int32, numpy=\n",
       " array([[    1,     2,     3, ...,   123,   124,   125],\n",
       "        [  126,   127,   128, ...,   248,   249,   250],\n",
       "        [  251,   252,   253, ...,   373,   374,   375],\n",
       "        ...,\n",
       "        [15251, 15252, 15253, ..., 15373, 15374, 15375],\n",
       "        [15376, 15377, 15378, ..., 15498, 15499, 15500],\n",
       "        [15501, 15502, 15503, ..., 15623, 15624, 15625]], dtype=int32)>)"
      ]
     },
     "execution_count": 42,
     "metadata": {},
     "output_type": "execute_result"
    }
   ],
   "source": [
    "X=tf.reshape(tf.range(1,15626),shape=(125,125))\n",
    "y=tf.reshape(tf.range(1,15626),shape=(125,125))\n",
    "X,y"
   ]
  },
  {
   "cell_type": "code",
   "execution_count": 43,
   "metadata": {
    "executionInfo": {
     "elapsed": 2,
     "status": "ok",
     "timestamp": 1673953591258,
     "user": {
      "displayName": "Ujjwal Mk",
      "userId": "12008983132848472926"
     },
     "user_tz": -330
    },
    "id": "1DAoJiY_9UzZ"
   },
   "outputs": [],
   "source": [
    "X_train=X[:100]\n",
    "y_train=y[:100]\n",
    "X_test=X[100:]\n",
    "y_test=y[100:]"
   ]
  },
  {
   "cell_type": "code",
   "execution_count": 44,
   "metadata": {
    "colab": {
     "base_uri": "https://localhost:8080/"
    },
    "executionInfo": {
     "elapsed": 3630,
     "status": "ok",
     "timestamp": 1673953594887,
     "user": {
      "displayName": "Ujjwal Mk",
      "userId": "12008983132848472926"
     },
     "user_tz": -330
    },
    "id": "KZOEL7ueyVHP",
    "outputId": "3e854405-e8ef-4cc5-967a-cdd13b8c6409"
   },
   "outputs": [
    {
     "data": {
      "text/plain": [
       "<keras.src.callbacks.History at 0x7f42701ae820>"
      ]
     },
     "execution_count": 44,
     "metadata": {},
     "output_type": "execute_result"
    }
   ],
   "source": [
    "# Build a model\n",
    "model=tf.keras.Sequential([\n",
    "    tf.keras.layers.Dense(100,activation='relu'),\n",
    "    tf.keras.layers.Dense(1,name=\"output_layer\")\n",
    "],name='model_2')\n",
    "model.compile(loss=tf.keras.losses.mae,\n",
    "              optimizer=tf.keras.optimizers.Adam(0.01),\n",
    "              metrics=[\"mae\"]\n",
    "              )\n",
    "model.fit(tf.expand_dims(X_train,axis=-1),y_train,epochs=100,verbose=0)"
   ]
  },
  {
   "cell_type": "code",
   "execution_count": 45,
   "metadata": {
    "colab": {
     "base_uri": "https://localhost:8080/"
    },
    "executionInfo": {
     "elapsed": 15,
     "status": "ok",
     "timestamp": 1673953594888,
     "user": {
      "displayName": "Ujjwal Mk",
      "userId": "12008983132848472926"
     },
     "user_tz": -330
    },
    "id": "qIaKwYQG9suF",
    "outputId": "efffee4e-100a-402b-a94a-c5b54fffc1c4"
   },
   "outputs": [
    {
     "name": "stdout",
     "output_type": "stream",
     "text": [
      "WARNING:tensorflow:6 out of the last 8 calls to <function Model.make_predict_function.<locals>.predict_function at 0x7f4280075790> triggered tf.function retracing. Tracing is expensive and the excessive number of tracings could be due to (1) creating @tf.function repeatedly in a loop, (2) passing tensors with different shapes, (3) passing Python objects instead of tensors. For (1), please define your @tf.function outside of the loop. For (2), @tf.function has reduce_retracing=True option that can avoid unnecessary retracing. For (3), please refer to https://www.tensorflow.org/guide/function#controlling_retracing and https://www.tensorflow.org/api_docs/python/tf/function for  more details.\n",
      "1/1 [==============================] - 0s 54ms/step\n"
     ]
    }
   ],
   "source": [
    "y_pred=model.predict(X_test)"
   ]
  },
  {
   "cell_type": "code",
   "execution_count": 46,
   "metadata": {
    "colab": {
     "base_uri": "https://localhost:8080/"
    },
    "executionInfo": {
     "elapsed": 9,
     "status": "ok",
     "timestamp": 1673953594888,
     "user": {
      "displayName": "Ujjwal Mk",
      "userId": "12008983132848472926"
     },
     "user_tz": -330
    },
    "id": "Jm-2HPbe_sqH",
    "outputId": "5ec7275b-e3bf-49f1-bafe-ab50de410b3e"
   },
   "outputs": [
    {
     "data": {
      "text/plain": [
       "(TensorShape([25, 125]), TensorShape([25, 125]))"
      ]
     },
     "execution_count": 46,
     "metadata": {},
     "output_type": "execute_result"
    }
   ],
   "source": [
    "tf.squeeze(y_pred).shape,y_test.shape"
   ]
  },
  {
   "cell_type": "code",
   "execution_count": 47,
   "metadata": {
    "colab": {
     "base_uri": "https://localhost:8080/",
     "height": 428
    },
    "executionInfo": {
     "elapsed": 1016,
     "status": "ok",
     "timestamp": 1673953595901,
     "user": {
      "displayName": "Ujjwal Mk",
      "userId": "12008983132848472926"
     },
     "user_tz": -330
    },
    "id": "poTHu216B9o2",
    "outputId": "24112483-449d-4af4-fb95-ebfb4b1a66b5"
   },
   "outputs": [
    {
     "data": {
      "image/png": "[encoded data removed]",
      "text/plain": [
       "<Figure size 1000x700 with 1 Axes>"
      ]
     },
     "metadata": {},
     "output_type": "display_data"
    }
   ],
   "source": [
    "plot_prediction(X_train,y_train,X_test,y_test,y_pred)"
   ]
  },
  {
   "cell_type": "code",
   "execution_count": 48,
   "metadata": {
    "colab": {
     "base_uri": "https://localhost:8080/"
    },
    "executionInfo": {
     "elapsed": 40,
     "status": "ok",
     "timestamp": 1673953595902,
     "user": {
      "displayName": "Ujjwal Mk",
      "userId": "12008983132848472926"
     },
     "user_tz": -330
    },
    "id": "GDXZG22VEbSb",
    "outputId": "bf6b22c1-3ea6-4480-bac9-38d86d89774a"
   },
   "outputs": [
    {
     "data": {
      "text/plain": [
       "(TensorShape([25, 125]), TensorShape([25, 125]))"
      ]
     },
     "execution_count": 48,
     "metadata": {},
     "output_type": "execute_result"
    }
   ],
   "source": [
    "(y_test).shape,tf.squeeze(y_pred).shape"
   ]
  },
  {
   "cell_type": "code",
   "execution_count": 49,
   "metadata": {
    "colab": {
     "base_uri": "https://localhost:8080/"
    },
    "executionInfo": {
     "elapsed": 34,
     "status": "ok",
     "timestamp": 1673953595902,
     "user": {
      "displayName": "Ujjwal Mk",
      "userId": "12008983132848472926"
     },
     "user_tz": -330
    },
    "id": "aYBMQkROEib3",
    "outputId": "794c2203-4605-43db-8fb2-da49b9fbc359"
   },
   "outputs": [
    {
     "data": {
      "text/plain": [
       "<tf.Tensor: shape=(25, 125), dtype=float16, numpy=\n",
       "array([[12648., 12648., 12648., ..., 12768., 12768., 12768.],\n",
       "       [12768., 12768., 12768., ..., 12896., 12896., 12896.],\n",
       "       [12896., 12896., 12896., ..., 13024., 13024., 13024.],\n",
       "       ...,\n",
       "       [15424., 15424., 15432., ..., 15552., 15552., 15552.],\n",
       "       [15552., 15552., 15552., ..., 15672., 15672., 15680.],\n",
       "       [15680., 15680., 15680., ..., 15808., 15808., 15808.]],\n",
       "      dtype=float16)>"
      ]
     },
     "execution_count": 49,
     "metadata": {},
     "output_type": "execute_result"
    }
   ],
   "source": [
    "y_pred=tf.squeeze(y_pred)\n",
    "y_pred"
   ]
  },
  {
   "cell_type": "code",
   "execution_count": 50,
   "metadata": {
    "colab": {
     "base_uri": "https://localhost:8080/"
    },
    "executionInfo": {
     "elapsed": 28,
     "status": "ok",
     "timestamp": 1673953595902,
     "user": {
      "displayName": "Ujjwal Mk",
      "userId": "12008983132848472926"
     },
     "user_tz": -330
    },
    "id": "1aCWlMRfErJJ",
    "outputId": "06c2a3b9-144d-4e20-c3c8-fbc38f4b1671"
   },
   "outputs": [
    {
     "data": {
      "text/plain": [
       "<tf.Tensor: shape=(25, 125), dtype=int32, numpy=\n",
       "array([[12501, 12502, 12503, ..., 12623, 12624, 12625],\n",
       "       [12626, 12627, 12628, ..., 12748, 12749, 12750],\n",
       "       [12751, 12752, 12753, ..., 12873, 12874, 12875],\n",
       "       ...,\n",
       "       [15251, 15252, 15253, ..., 15373, 15374, 15375],\n",
       "       [15376, 15377, 15378, ..., 15498, 15499, 15500],\n",
       "       [15501, 15502, 15503, ..., 15623, 15624, 15625]], dtype=int32)>"
      ]
     },
     "execution_count": 50,
     "metadata": {},
     "output_type": "execute_result"
    }
   ],
   "source": [
    "y_test"
   ]
  },
  {
   "cell_type": "code",
   "execution_count": 51,
   "metadata": {
    "colab": {
     "base_uri": "https://localhost:8080/"
    },
    "executionInfo": {
     "elapsed": 23,
     "status": "ok",
     "timestamp": 1673953595902,
     "user": {
      "displayName": "Ujjwal Mk",
      "userId": "12008983132848472926"
     },
     "user_tz": -330
    },
    "id": "X17rW3KqFCrZ",
    "outputId": "44ca3dbe-2f31-4c8f-e13a-1c3e789771ad"
   },
   "outputs": [
    {
     "data": {
      "text/plain": [
       "(<tf.Tensor: shape=(3125,), dtype=float16, numpy=array([12648., 12648., 12648., ..., 15808., 15808., 15808.], dtype=float16)>,\n",
       " <tf.Tensor: shape=(3125,), dtype=int32, numpy=array([12501, 12502, 12503, ..., 15623, 15624, 15625], dtype=int32)>)"
      ]
     },
     "execution_count": 51,
     "metadata": {},
     "output_type": "execute_result"
    }
   ],
   "source": [
    "y_pred=tf.reshape(y_pred,shape=(3125,))\n",
    "y_test=tf.reshape(y_test,shape=(3125,))\n",
    "y_pred,y_test"
   ]
  },
  {
   "cell_type": "code",
   "execution_count": 52,
   "metadata": {
    "colab": {
     "base_uri": "https://localhost:8080/"
    },
    "executionInfo": {
     "elapsed": 17,
     "status": "ok",
     "timestamp": 1673953595902,
     "user": {
      "displayName": "Ujjwal Mk",
      "userId": "12008983132848472926"
     },
     "user_tz": -330
    },
    "id": "4S60fBmr9xq8",
    "outputId": "3f1cbf51-34c2-4290-9afa-d27db5acf096"
   },
   "outputs": [
    {
     "data": {
      "text/plain": [
       "<tf.Tensor: shape=(), dtype=float16, numpy=162.1>"
      ]
     },
     "execution_count": 52,
     "metadata": {},
     "output_type": "execute_result"
    }
   ],
   "source": [
    "tf.keras.losses.mae(y_test,y_pred)"
   ]
  },
  {
   "cell_type": "code",
   "execution_count": 53,
   "metadata": {
    "colab": {
     "base_uri": "https://localhost:8080/"
    },
    "executionInfo": {
     "elapsed": 12,
     "status": "ok",
     "timestamp": 1673953595902,
     "user": {
      "displayName": "Ujjwal Mk",
      "userId": "12008983132848472926"
     },
     "user_tz": -330
    },
    "id": "k8IV168tWUU4",
    "outputId": "6d372e5b-8589-4f27-e844-d1ef4d59ba50"
   },
   "outputs": [
    {
     "name": "stdout",
     "output_type": "stream",
     "text": [
      "Model: \"model_2\"\n",
      "_________________________________________________________________\n",
      " Layer (type)                Output Shape              Param #   \n",
      "=================================================================\n",
      " dense_9 (Dense)             (None, 125, 100)          200       \n",
      "                                                                 \n",
      " output_layer (Dense)        (None, 125, 1)            101       \n",
      "                                                                 \n",
      "=================================================================\n",
      "Total params: 301 (1.18 KB)\n",
      "Trainable params: 301 (1.18 KB)\n",
      "Non-trainable params: 0 (0.00 Byte)\n",
      "_________________________________________________________________\n"
     ]
    }
   ],
   "source": [
    "model.summary()"
   ]
  },
  {
   "cell_type": "markdown",
   "metadata": {
    "id": "YAkRRkkGLr-j"
   },
   "source": [
    "### Saving the models\n",
    "\n",
    "Saving our models allows us to use them outside of google colab"
   ]
  },
  {
   "cell_type": "code",
   "execution_count": 54,
   "metadata": {
    "executionInfo": {
     "elapsed": 733,
     "status": "ok",
     "timestamp": 1673953596629,
     "user": {
      "displayName": "Ujjwal Mk",
      "userId": "12008983132848472926"
     },
     "user_tz": -330
    },
    "id": "1nEeAepSLtlV"
   },
   "outputs": [
    {
     "name": "stdout",
     "output_type": "stream",
     "text": [
      "INFO:tensorflow:Unsupported signature for serialization: ((TensorSpec(shape=(None, 100), dtype=tf.float32, name='gradient'), <tensorflow.python.framework.func_graph.UnknownArgument object at 0x7f427016ad00>, 139923592316208), {}).\n"
     ]
    },
    {
     "name": "stderr",
     "output_type": "stream",
     "text": [
      "INFO:tensorflow:Unsupported signature for serialization: ((TensorSpec(shape=(None, 100), dtype=tf.float32, name='gradient'), <tensorflow.python.framework.func_graph.UnknownArgument object at 0x7f427016ad00>, 139923592316208), {}).\n"
     ]
    },
    {
     "name": "stdout",
     "output_type": "stream",
     "text": [
      "INFO:tensorflow:Unsupported signature for serialization: ((TensorSpec(shape=(100,), dtype=tf.float32, name='gradient'), <tensorflow.python.framework.func_graph.UnknownArgument object at 0x7f4280042e80>, 139923592316688), {}).\n"
     ]
    },
    {
     "name": "stderr",
     "output_type": "stream",
     "text": [
      "INFO:tensorflow:Unsupported signature for serialization: ((TensorSpec(shape=(100,), dtype=tf.float32, name='gradient'), <tensorflow.python.framework.func_graph.UnknownArgument object at 0x7f4280042e80>, 139923592316688), {}).\n"
     ]
    },
    {
     "name": "stdout",
     "output_type": "stream",
     "text": [
      "INFO:tensorflow:Unsupported signature for serialization: ((TensorSpec(shape=(None, 1), dtype=tf.float32, name='gradient'), <tensorflow.python.framework.func_graph.UnknownArgument object at 0x7f42700f9eb0>, 139923592513616), {}).\n"
     ]
    },
    {
     "name": "stderr",
     "output_type": "stream",
     "text": [
      "INFO:tensorflow:Unsupported signature for serialization: ((TensorSpec(shape=(None, 1), dtype=tf.float32, name='gradient'), <tensorflow.python.framework.func_graph.UnknownArgument object at 0x7f42700f9eb0>, 139923592513616), {}).\n"
     ]
    },
    {
     "name": "stdout",
     "output_type": "stream",
     "text": [
      "INFO:tensorflow:Unsupported signature for serialization: ((TensorSpec(shape=(1,), dtype=tf.float32, name='gradient'), <tensorflow.python.framework.func_graph.UnknownArgument object at 0x7f427010df40>, 139923592514016), {}).\n"
     ]
    },
    {
     "name": "stderr",
     "output_type": "stream",
     "text": [
      "INFO:tensorflow:Unsupported signature for serialization: ((TensorSpec(shape=(1,), dtype=tf.float32, name='gradient'), <tensorflow.python.framework.func_graph.UnknownArgument object at 0x7f427010df40>, 139923592514016), {}).\n"
     ]
    },
    {
     "name": "stdout",
     "output_type": "stream",
     "text": [
      "INFO:tensorflow:Unsupported signature for serialization: ((TensorSpec(shape=(None, 100), dtype=tf.float32, name='gradient'), <tensorflow.python.framework.func_graph.UnknownArgument object at 0x7f4270047220>, 139923592316208), {}).\n"
     ]
    },
    {
     "name": "stderr",
     "output_type": "stream",
     "text": [
      "INFO:tensorflow:Unsupported signature for serialization: ((TensorSpec(shape=(None, 100), dtype=tf.float32, name='gradient'), <tensorflow.python.framework.func_graph.UnknownArgument object at 0x7f4270047220>, 139923592316208), {}).\n"
     ]
    },
    {
     "name": "stdout",
     "output_type": "stream",
     "text": [
      "INFO:tensorflow:Unsupported signature for serialization: ((TensorSpec(shape=(100,), dtype=tf.float32, name='gradient'), <tensorflow.python.framework.func_graph.UnknownArgument object at 0x7f427005a370>, 139923592316688), {}).\n"
     ]
    },
    {
     "name": "stderr",
     "output_type": "stream",
     "text": [
      "INFO:tensorflow:Unsupported signature for serialization: ((TensorSpec(shape=(100,), dtype=tf.float32, name='gradient'), <tensorflow.python.framework.func_graph.UnknownArgument object at 0x7f427005a370>, 139923592316688), {}).\n"
     ]
    },
    {
     "name": "stdout",
     "output_type": "stream",
     "text": [
      "INFO:tensorflow:Unsupported signature for serialization: ((TensorSpec(shape=(None, 1), dtype=tf.float32, name='gradient'), <tensorflow.python.framework.func_graph.UnknownArgument object at 0x7f42687bf340>, 139923592513616), {}).\n"
     ]
    },
    {
     "name": "stderr",
     "output_type": "stream",
     "text": [
      "INFO:tensorflow:Unsupported signature for serialization: ((TensorSpec(shape=(None, 1), dtype=tf.float32, name='gradient'), <tensorflow.python.framework.func_graph.UnknownArgument object at 0x7f42687bf340>, 139923592513616), {}).\n"
     ]
    },
    {
     "name": "stdout",
     "output_type": "stream",
     "text": [
      "INFO:tensorflow:Unsupported signature for serialization: ((TensorSpec(shape=(1,), dtype=tf.float32, name='gradient'), <tensorflow.python.framework.func_graph.UnknownArgument object at 0x7f42687d3340>, 139923592514016), {}).\n"
     ]
    },
    {
     "name": "stderr",
     "output_type": "stream",
     "text": [
      "INFO:tensorflow:Unsupported signature for serialization: ((TensorSpec(shape=(1,), dtype=tf.float32, name='gradient'), <tensorflow.python.framework.func_graph.UnknownArgument object at 0x7f42687d3340>, 139923592514016), {}).\n"
     ]
    },
    {
     "name": "stdout",
     "output_type": "stream",
     "text": [
      "INFO:tensorflow:Unsupported signature for serialization: ((TensorSpec(shape=(None, 100), dtype=tf.float32, name='gradient'), <tensorflow.python.framework.func_graph.UnknownArgument object at 0x7f427016ad00>, 139923592316208), {}).\n"
     ]
    },
    {
     "name": "stderr",
     "output_type": "stream",
     "text": [
      "INFO:tensorflow:Unsupported signature for serialization: ((TensorSpec(shape=(None, 100), dtype=tf.float32, name='gradient'), <tensorflow.python.framework.func_graph.UnknownArgument object at 0x7f427016ad00>, 139923592316208), {}).\n"
     ]
    },
    {
     "name": "stdout",
     "output_type": "stream",
     "text": [
      "INFO:tensorflow:Unsupported signature for serialization: ((TensorSpec(shape=(100,), dtype=tf.float32, name='gradient'), <tensorflow.python.framework.func_graph.UnknownArgument object at 0x7f4280042e80>, 139923592316688), {}).\n"
     ]
    },
    {
     "name": "stderr",
     "output_type": "stream",
     "text": [
      "INFO:tensorflow:Unsupported signature for serialization: ((TensorSpec(shape=(100,), dtype=tf.float32, name='gradient'), <tensorflow.python.framework.func_graph.UnknownArgument object at 0x7f4280042e80>, 139923592316688), {}).\n"
     ]
    },
    {
     "name": "stdout",
     "output_type": "stream",
     "text": [
      "INFO:tensorflow:Unsupported signature for serialization: ((TensorSpec(shape=(None, 1), dtype=tf.float32, name='gradient'), <tensorflow.python.framework.func_graph.UnknownArgument object at 0x7f42700f9eb0>, 139923592513616), {}).\n"
     ]
    },
    {
     "name": "stderr",
     "output_type": "stream",
     "text": [
      "INFO:tensorflow:Unsupported signature for serialization: ((TensorSpec(shape=(None, 1), dtype=tf.float32, name='gradient'), <tensorflow.python.framework.func_graph.UnknownArgument object at 0x7f42700f9eb0>, 139923592513616), {}).\n"
     ]
    },
    {
     "name": "stdout",
     "output_type": "stream",
     "text": [
      "INFO:tensorflow:Unsupported signature for serialization: ((TensorSpec(shape=(1,), dtype=tf.float32, name='gradient'), <tensorflow.python.framework.func_graph.UnknownArgument object at 0x7f427010df40>, 139923592514016), {}).\n"
     ]
    },
    {
     "name": "stderr",
     "output_type": "stream",
     "text": [
      "INFO:tensorflow:Unsupported signature for serialization: ((TensorSpec(shape=(1,), dtype=tf.float32, name='gradient'), <tensorflow.python.framework.func_graph.UnknownArgument object at 0x7f427010df40>, 139923592514016), {}).\n"
     ]
    },
    {
     "name": "stdout",
     "output_type": "stream",
     "text": [
      "INFO:tensorflow:Unsupported signature for serialization: ((TensorSpec(shape=(None, 100), dtype=tf.float32, name='gradient'), <tensorflow.python.framework.func_graph.UnknownArgument object at 0x7f4270047220>, 139923592316208), {}).\n"
     ]
    },
    {
     "name": "stderr",
     "output_type": "stream",
     "text": [
      "INFO:tensorflow:Unsupported signature for serialization: ((TensorSpec(shape=(None, 100), dtype=tf.float32, name='gradient'), <tensorflow.python.framework.func_graph.UnknownArgument object at 0x7f4270047220>, 139923592316208), {}).\n"
     ]
    },
    {
     "name": "stdout",
     "output_type": "stream",
     "text": [
      "INFO:tensorflow:Unsupported signature for serialization: ((TensorSpec(shape=(100,), dtype=tf.float32, name='gradient'), <tensorflow.python.framework.func_graph.UnknownArgument object at 0x7f427005a370>, 139923592316688), {}).\n"
     ]
    },
    {
     "name": "stderr",
     "output_type": "stream",
     "text": [
      "INFO:tensorflow:Unsupported signature for serialization: ((TensorSpec(shape=(100,), dtype=tf.float32, name='gradient'), <tensorflow.python.framework.func_graph.UnknownArgument object at 0x7f427005a370>, 139923592316688), {}).\n"
     ]
    },
    {
     "name": "stdout",
     "output_type": "stream",
     "text": [
      "INFO:tensorflow:Unsupported signature for serialization: ((TensorSpec(shape=(None, 1), dtype=tf.float32, name='gradient'), <tensorflow.python.framework.func_graph.UnknownArgument object at 0x7f42687bf340>, 139923592513616), {}).\n"
     ]
    },
    {
     "name": "stderr",
     "output_type": "stream",
     "text": [
      "INFO:tensorflow:Unsupported signature for serialization: ((TensorSpec(shape=(None, 1), dtype=tf.float32, name='gradient'), <tensorflow.python.framework.func_graph.UnknownArgument object at 0x7f42687bf340>, 139923592513616), {}).\n"
     ]
    },
    {
     "name": "stdout",
     "output_type": "stream",
     "text": [
      "INFO:tensorflow:Unsupported signature for serialization: ((TensorSpec(shape=(1,), dtype=tf.float32, name='gradient'), <tensorflow.python.framework.func_graph.UnknownArgument object at 0x7f42687d3340>, 139923592514016), {}).\n"
     ]
    },
    {
     "name": "stderr",
     "output_type": "stream",
     "text": [
      "INFO:tensorflow:Unsupported signature for serialization: ((TensorSpec(shape=(1,), dtype=tf.float32, name='gradient'), <tensorflow.python.framework.func_graph.UnknownArgument object at 0x7f42687d3340>, 139923592514016), {}).\n"
     ]
    },
    {
     "name": "stdout",
     "output_type": "stream",
     "text": [
      "INFO:tensorflow:Assets written to: best_model_savedModel_format/assets\n"
     ]
    },
    {
     "name": "stderr",
     "output_type": "stream",
     "text": [
      "INFO:tensorflow:Assets written to: best_model_savedModel_format/assets\n"
     ]
    }
   ],
   "source": [
    "# save model by .save\n",
    "model.save(\"best_model_savedModel_format\")"
   ]
  },
  {
   "cell_type": "code",
   "execution_count": 55,
   "metadata": {
    "executionInfo": {
     "elapsed": 19,
     "status": "ok",
     "timestamp": 1673953596630,
     "user": {
      "displayName": "Ujjwal Mk",
      "userId": "12008983132848472926"
     },
     "user_tz": -330
    },
    "id": "IDUXlDRNUXsR"
   },
   "outputs": [
    {
     "name": "stderr",
     "output_type": "stream",
     "text": [
      "/home/ujjwal/miniconda3/envs/tf2.13/lib/python3.9/site-packages/keras/src/engine/training.py:3000: UserWarning: You are saving your model as an HDF5 file via `model.save()`. This file format is considered legacy. We recommend using instead the native Keras format, e.g. `model.save('my_model.keras')`.\n",
      "  saving_api.save_model(\n"
     ]
    }
   ],
   "source": [
    "# save model using HDF5 format\n",
    "model.save(\"best_model_HDF5_Foramt.h5\")"
   ]
  },
  {
   "cell_type": "markdown",
   "metadata": {
    "id": "Ao5qMA6AsjKS"
   },
   "source": [
    "### Larger Example"
   ]
  },
  {
   "cell_type": "code",
   "execution_count": 56,
   "metadata": {
    "executionInfo": {
     "elapsed": 13,
     "status": "ok",
     "timestamp": 1673953597161,
     "user": {
      "displayName": "Ujjwal Mk",
      "userId": "12008983132848472926"
     },
     "user_tz": -330
    },
    "id": "vOPEVbCesqYr"
   },
   "outputs": [],
   "source": [
    "import pandas as pd\n",
    "import matplotlib.pyplot as plt"
   ]
  },
  {
   "cell_type": "code",
   "execution_count": 57,
   "metadata": {
    "colab": {
     "base_uri": "https://localhost:8080/",
     "height": 419
    },
    "executionInfo": {
     "elapsed": 12,
     "status": "ok",
     "timestamp": 1673953597161,
     "user": {
      "displayName": "Ujjwal Mk",
      "userId": "12008983132848472926"
     },
     "user_tz": -330
    },
    "id": "J2QD6qFIt50x",
    "outputId": "8a6700c1-0f1c-4746-f7c3-3465e33b3d00"
   },
   "outputs": [
    {
     "data": {
      "text/html": [
       "<div>\n",
       "<style scoped>\n",
       "    .dataframe tbody tr th:only-of-type {\n",
       "        vertical-align: middle;\n",
       "    }\n",
       "\n",
       "    .dataframe tbody tr th {\n",
       "        vertical-align: top;\n",
       "    }\n",
       "\n",
       "    .dataframe thead th {\n",
       "        text-align: right;\n",
       "    }\n",
       "</style>\n",
       "<table border=\"1\" class=\"dataframe\">\n",
       "  <thead>\n",
       "    <tr style=\"text-align: right;\">\n",
       "      <th></th>\n",
       "      <th>age</th>\n",
       "      <th>sex</th>\n",
       "      <th>bmi</th>\n",
       "      <th>children</th>\n",
       "      <th>smoker</th>\n",
       "      <th>region</th>\n",
       "      <th>charges</th>\n",
       "    </tr>\n",
       "  </thead>\n",
       "  <tbody>\n",
       "    <tr>\n",
       "      <th>0</th>\n",
       "      <td>19</td>\n",
       "      <td>female</td>\n",
       "      <td>27.900</td>\n",
       "      <td>0</td>\n",
       "      <td>yes</td>\n",
       "      <td>southwest</td>\n",
       "      <td>16884.92400</td>\n",
       "    </tr>\n",
       "    <tr>\n",
       "      <th>1</th>\n",
       "      <td>18</td>\n",
       "      <td>male</td>\n",
       "      <td>33.770</td>\n",
       "      <td>1</td>\n",
       "      <td>no</td>\n",
       "      <td>southeast</td>\n",
       "      <td>1725.55230</td>\n",
       "    </tr>\n",
       "    <tr>\n",
       "      <th>2</th>\n",
       "      <td>28</td>\n",
       "      <td>male</td>\n",
       "      <td>33.000</td>\n",
       "      <td>3</td>\n",
       "      <td>no</td>\n",
       "      <td>southeast</td>\n",
       "      <td>4449.46200</td>\n",
       "    </tr>\n",
       "    <tr>\n",
       "      <th>3</th>\n",
       "      <td>33</td>\n",
       "      <td>male</td>\n",
       "      <td>22.705</td>\n",
       "      <td>0</td>\n",
       "      <td>no</td>\n",
       "      <td>northwest</td>\n",
       "      <td>21984.47061</td>\n",
       "    </tr>\n",
       "    <tr>\n",
       "      <th>4</th>\n",
       "      <td>32</td>\n",
       "      <td>male</td>\n",
       "      <td>28.880</td>\n",
       "      <td>0</td>\n",
       "      <td>no</td>\n",
       "      <td>northwest</td>\n",
       "      <td>3866.85520</td>\n",
       "    </tr>\n",
       "    <tr>\n",
       "      <th>...</th>\n",
       "      <td>...</td>\n",
       "      <td>...</td>\n",
       "      <td>...</td>\n",
       "      <td>...</td>\n",
       "      <td>...</td>\n",
       "      <td>...</td>\n",
       "      <td>...</td>\n",
       "    </tr>\n",
       "    <tr>\n",
       "      <th>1333</th>\n",
       "      <td>50</td>\n",
       "      <td>male</td>\n",
       "      <td>30.970</td>\n",
       "      <td>3</td>\n",
       "      <td>no</td>\n",
       "      <td>northwest</td>\n",
       "      <td>10600.54830</td>\n",
       "    </tr>\n",
       "    <tr>\n",
       "      <th>1334</th>\n",
       "      <td>18</td>\n",
       "      <td>female</td>\n",
       "      <td>31.920</td>\n",
       "      <td>0</td>\n",
       "      <td>no</td>\n",
       "      <td>northeast</td>\n",
       "      <td>2205.98080</td>\n",
       "    </tr>\n",
       "    <tr>\n",
       "      <th>1335</th>\n",
       "      <td>18</td>\n",
       "      <td>female</td>\n",
       "      <td>36.850</td>\n",
       "      <td>0</td>\n",
       "      <td>no</td>\n",
       "      <td>southeast</td>\n",
       "      <td>1629.83350</td>\n",
       "    </tr>\n",
       "    <tr>\n",
       "      <th>1336</th>\n",
       "      <td>21</td>\n",
       "      <td>female</td>\n",
       "      <td>25.800</td>\n",
       "      <td>0</td>\n",
       "      <td>no</td>\n",
       "      <td>southwest</td>\n",
       "      <td>2007.94500</td>\n",
       "    </tr>\n",
       "    <tr>\n",
       "      <th>1337</th>\n",
       "      <td>61</td>\n",
       "      <td>female</td>\n",
       "      <td>29.070</td>\n",
       "      <td>0</td>\n",
       "      <td>yes</td>\n",
       "      <td>northwest</td>\n",
       "      <td>29141.36030</td>\n",
       "    </tr>\n",
       "  </tbody>\n",
       "</table>\n",
       "<p>1338 rows × 7 columns</p>\n",
       "</div>"
      ],
      "text/plain": [
       "      age     sex     bmi  children smoker     region      charges\n",
       "0      19  female  27.900         0    yes  southwest  16884.92400\n",
       "1      18    male  33.770         1     no  southeast   1725.55230\n",
       "2      28    male  33.000         3     no  southeast   4449.46200\n",
       "3      33    male  22.705         0     no  northwest  21984.47061\n",
       "4      32    male  28.880         0     no  northwest   3866.85520\n",
       "...   ...     ...     ...       ...    ...        ...          ...\n",
       "1333   50    male  30.970         3     no  northwest  10600.54830\n",
       "1334   18  female  31.920         0     no  northeast   2205.98080\n",
       "1335   18  female  36.850         0     no  southeast   1629.83350\n",
       "1336   21  female  25.800         0     no  southwest   2007.94500\n",
       "1337   61  female  29.070         0    yes  northwest  29141.36030\n",
       "\n",
       "[1338 rows x 7 columns]"
      ]
     },
     "execution_count": 57,
     "metadata": {},
     "output_type": "execute_result"
    }
   ],
   "source": [
    "df=pd.read_csv(\"https://raw.githubusercontent.com/stedy/Machine-Learning-with-R-datasets/master/insurance.csv\")\n",
    "df"
   ]
  },
  {
   "cell_type": "code",
   "execution_count": 58,
   "metadata": {
    "colab": {
     "base_uri": "https://localhost:8080/",
     "height": 483
    },
    "executionInfo": {
     "elapsed": 13,
     "status": "ok",
     "timestamp": 1673953597162,
     "user": {
      "displayName": "Ujjwal Mk",
      "userId": "12008983132848472926"
     },
     "user_tz": -330
    },
    "id": "c9X9qXn37NwX",
    "outputId": "13915ced-2fa1-4829-fca0-53b8d41ae4aa"
   },
   "outputs": [
    {
     "data": {
      "text/html": [
       "<div>\n",
       "<style scoped>\n",
       "    .dataframe tbody tr th:only-of-type {\n",
       "        vertical-align: middle;\n",
       "    }\n",
       "\n",
       "    .dataframe tbody tr th {\n",
       "        vertical-align: top;\n",
       "    }\n",
       "\n",
       "    .dataframe thead th {\n",
       "        text-align: right;\n",
       "    }\n",
       "</style>\n",
       "<table border=\"1\" class=\"dataframe\">\n",
       "  <thead>\n",
       "    <tr style=\"text-align: right;\">\n",
       "      <th></th>\n",
       "      <th>age</th>\n",
       "      <th>bmi</th>\n",
       "      <th>children</th>\n",
       "      <th>charges</th>\n",
       "      <th>sex_female</th>\n",
       "      <th>sex_male</th>\n",
       "      <th>smoker_no</th>\n",
       "      <th>smoker_yes</th>\n",
       "      <th>region_northeast</th>\n",
       "      <th>region_northwest</th>\n",
       "      <th>region_southeast</th>\n",
       "      <th>region_southwest</th>\n",
       "    </tr>\n",
       "  </thead>\n",
       "  <tbody>\n",
       "    <tr>\n",
       "      <th>0</th>\n",
       "      <td>19</td>\n",
       "      <td>27.900</td>\n",
       "      <td>0</td>\n",
       "      <td>16884.92400</td>\n",
       "      <td>True</td>\n",
       "      <td>False</td>\n",
       "      <td>False</td>\n",
       "      <td>True</td>\n",
       "      <td>False</td>\n",
       "      <td>False</td>\n",
       "      <td>False</td>\n",
       "      <td>True</td>\n",
       "    </tr>\n",
       "    <tr>\n",
       "      <th>1</th>\n",
       "      <td>18</td>\n",
       "      <td>33.770</td>\n",
       "      <td>1</td>\n",
       "      <td>1725.55230</td>\n",
       "      <td>False</td>\n",
       "      <td>True</td>\n",
       "      <td>True</td>\n",
       "      <td>False</td>\n",
       "      <td>False</td>\n",
       "      <td>False</td>\n",
       "      <td>True</td>\n",
       "      <td>False</td>\n",
       "    </tr>\n",
       "    <tr>\n",
       "      <th>2</th>\n",
       "      <td>28</td>\n",
       "      <td>33.000</td>\n",
       "      <td>3</td>\n",
       "      <td>4449.46200</td>\n",
       "      <td>False</td>\n",
       "      <td>True</td>\n",
       "      <td>True</td>\n",
       "      <td>False</td>\n",
       "      <td>False</td>\n",
       "      <td>False</td>\n",
       "      <td>True</td>\n",
       "      <td>False</td>\n",
       "    </tr>\n",
       "    <tr>\n",
       "      <th>3</th>\n",
       "      <td>33</td>\n",
       "      <td>22.705</td>\n",
       "      <td>0</td>\n",
       "      <td>21984.47061</td>\n",
       "      <td>False</td>\n",
       "      <td>True</td>\n",
       "      <td>True</td>\n",
       "      <td>False</td>\n",
       "      <td>False</td>\n",
       "      <td>True</td>\n",
       "      <td>False</td>\n",
       "      <td>False</td>\n",
       "    </tr>\n",
       "    <tr>\n",
       "      <th>4</th>\n",
       "      <td>32</td>\n",
       "      <td>28.880</td>\n",
       "      <td>0</td>\n",
       "      <td>3866.85520</td>\n",
       "      <td>False</td>\n",
       "      <td>True</td>\n",
       "      <td>True</td>\n",
       "      <td>False</td>\n",
       "      <td>False</td>\n",
       "      <td>True</td>\n",
       "      <td>False</td>\n",
       "      <td>False</td>\n",
       "    </tr>\n",
       "    <tr>\n",
       "      <th>...</th>\n",
       "      <td>...</td>\n",
       "      <td>...</td>\n",
       "      <td>...</td>\n",
       "      <td>...</td>\n",
       "      <td>...</td>\n",
       "      <td>...</td>\n",
       "      <td>...</td>\n",
       "      <td>...</td>\n",
       "      <td>...</td>\n",
       "      <td>...</td>\n",
       "      <td>...</td>\n",
       "      <td>...</td>\n",
       "    </tr>\n",
       "    <tr>\n",
       "      <th>1333</th>\n",
       "      <td>50</td>\n",
       "      <td>30.970</td>\n",
       "      <td>3</td>\n",
       "      <td>10600.54830</td>\n",
       "      <td>False</td>\n",
       "      <td>True</td>\n",
       "      <td>True</td>\n",
       "      <td>False</td>\n",
       "      <td>False</td>\n",
       "      <td>True</td>\n",
       "      <td>False</td>\n",
       "      <td>False</td>\n",
       "    </tr>\n",
       "    <tr>\n",
       "      <th>1334</th>\n",
       "      <td>18</td>\n",
       "      <td>31.920</td>\n",
       "      <td>0</td>\n",
       "      <td>2205.98080</td>\n",
       "      <td>True</td>\n",
       "      <td>False</td>\n",
       "      <td>True</td>\n",
       "      <td>False</td>\n",
       "      <td>True</td>\n",
       "      <td>False</td>\n",
       "      <td>False</td>\n",
       "      <td>False</td>\n",
       "    </tr>\n",
       "    <tr>\n",
       "      <th>1335</th>\n",
       "      <td>18</td>\n",
       "      <td>36.850</td>\n",
       "      <td>0</td>\n",
       "      <td>1629.83350</td>\n",
       "      <td>True</td>\n",
       "      <td>False</td>\n",
       "      <td>True</td>\n",
       "      <td>False</td>\n",
       "      <td>False</td>\n",
       "      <td>False</td>\n",
       "      <td>True</td>\n",
       "      <td>False</td>\n",
       "    </tr>\n",
       "    <tr>\n",
       "      <th>1336</th>\n",
       "      <td>21</td>\n",
       "      <td>25.800</td>\n",
       "      <td>0</td>\n",
       "      <td>2007.94500</td>\n",
       "      <td>True</td>\n",
       "      <td>False</td>\n",
       "      <td>True</td>\n",
       "      <td>False</td>\n",
       "      <td>False</td>\n",
       "      <td>False</td>\n",
       "      <td>False</td>\n",
       "      <td>True</td>\n",
       "    </tr>\n",
       "    <tr>\n",
       "      <th>1337</th>\n",
       "      <td>61</td>\n",
       "      <td>29.070</td>\n",
       "      <td>0</td>\n",
       "      <td>29141.36030</td>\n",
       "      <td>True</td>\n",
       "      <td>False</td>\n",
       "      <td>False</td>\n",
       "      <td>True</td>\n",
       "      <td>False</td>\n",
       "      <td>True</td>\n",
       "      <td>False</td>\n",
       "      <td>False</td>\n",
       "    </tr>\n",
       "  </tbody>\n",
       "</table>\n",
       "<p>1338 rows × 12 columns</p>\n",
       "</div>"
      ],
      "text/plain": [
       "      age     bmi  children      charges  sex_female  sex_male  smoker_no  \\\n",
       "0      19  27.900         0  16884.92400        True     False      False   \n",
       "1      18  33.770         1   1725.55230       False      True       True   \n",
       "2      28  33.000         3   4449.46200       False      True       True   \n",
       "3      33  22.705         0  21984.47061       False      True       True   \n",
       "4      32  28.880         0   3866.85520       False      True       True   \n",
       "...   ...     ...       ...          ...         ...       ...        ...   \n",
       "1333   50  30.970         3  10600.54830       False      True       True   \n",
       "1334   18  31.920         0   2205.98080        True     False       True   \n",
       "1335   18  36.850         0   1629.83350        True     False       True   \n",
       "1336   21  25.800         0   2007.94500        True     False       True   \n",
       "1337   61  29.070         0  29141.36030        True     False      False   \n",
       "\n",
       "      smoker_yes  region_northeast  region_northwest  region_southeast  \\\n",
       "0           True             False             False             False   \n",
       "1          False             False             False              True   \n",
       "2          False             False             False              True   \n",
       "3          False             False              True             False   \n",
       "4          False             False              True             False   \n",
       "...          ...               ...               ...               ...   \n",
       "1333       False             False              True             False   \n",
       "1334       False              True             False             False   \n",
       "1335       False             False             False              True   \n",
       "1336       False             False             False             False   \n",
       "1337        True             False              True             False   \n",
       "\n",
       "      region_southwest  \n",
       "0                 True  \n",
       "1                False  \n",
       "2                False  \n",
       "3                False  \n",
       "4                False  \n",
       "...                ...  \n",
       "1333             False  \n",
       "1334             False  \n",
       "1335             False  \n",
       "1336              True  \n",
       "1337             False  \n",
       "\n",
       "[1338 rows x 12 columns]"
      ]
     },
     "execution_count": 58,
     "metadata": {},
     "output_type": "execute_result"
    }
   ],
   "source": [
    "df_one_hot = pd.get_dummies(df)\n",
    "df_one_hot"
   ]
  },
  {
   "cell_type": "code",
   "execution_count": 59,
   "metadata": {
    "colab": {
     "base_uri": "https://localhost:8080/"
    },
    "executionInfo": {
     "elapsed": 12,
     "status": "ok",
     "timestamp": 1673953597162,
     "user": {
      "displayName": "Ujjwal Mk",
      "userId": "12008983132848472926"
     },
     "user_tz": -330
    },
    "id": "qNVB5ioA2iJe",
    "outputId": "42168c0a-9869-4e6c-ff7a-091a6c3d685f"
   },
   "outputs": [
    {
     "data": {
      "text/plain": [
       "(      age     bmi  children  sex_female  sex_male  smoker_no  smoker_yes  \\\n",
       " 0      19  27.900         0        True     False      False        True   \n",
       " 1      18  33.770         1       False      True       True       False   \n",
       " 2      28  33.000         3       False      True       True       False   \n",
       " 3      33  22.705         0       False      True       True       False   \n",
       " 4      32  28.880         0       False      True       True       False   \n",
       " ...   ...     ...       ...         ...       ...        ...         ...   \n",
       " 1333   50  30.970         3       False      True       True       False   \n",
       " 1334   18  31.920         0        True     False       True       False   \n",
       " 1335   18  36.850         0        True     False       True       False   \n",
       " 1336   21  25.800         0        True     False       True       False   \n",
       " 1337   61  29.070         0        True     False      False        True   \n",
       " \n",
       "       region_northeast  region_northwest  region_southeast  region_southwest  \n",
       " 0                False             False             False              True  \n",
       " 1                False             False              True             False  \n",
       " 2                False             False              True             False  \n",
       " 3                False              True             False             False  \n",
       " 4                False              True             False             False  \n",
       " ...                ...               ...               ...               ...  \n",
       " 1333             False              True             False             False  \n",
       " 1334              True             False             False             False  \n",
       " 1335             False             False              True             False  \n",
       " 1336             False             False             False              True  \n",
       " 1337             False              True             False             False  \n",
       " \n",
       " [1338 rows x 11 columns],\n",
       " 0       16884.92400\n",
       " 1        1725.55230\n",
       " 2        4449.46200\n",
       " 3       21984.47061\n",
       " 4        3866.85520\n",
       "            ...     \n",
       " 1333    10600.54830\n",
       " 1334     2205.98080\n",
       " 1335     1629.83350\n",
       " 1336     2007.94500\n",
       " 1337    29141.36030\n",
       " Name: charges, Length: 1338, dtype: float64)"
      ]
     },
     "execution_count": 59,
     "metadata": {},
     "output_type": "execute_result"
    }
   ],
   "source": [
    "X = df_one_hot.drop(\"charges\",axis=1)\n",
    "y = df_one_hot[\"charges\"]\n",
    "X,y"
   ]
  },
  {
   "cell_type": "code",
   "execution_count": 60,
   "metadata": {
    "colab": {
     "base_uri": "https://localhost:8080/"
    },
    "executionInfo": {
     "elapsed": 795,
     "status": "ok",
     "timestamp": 1673953597952,
     "user": {
      "displayName": "Ujjwal Mk",
      "userId": "12008983132848472926"
     },
     "user_tz": -330
    },
    "id": "C-Fbok0L7oZw",
    "outputId": "18ff38a3-df43-4fd8-972c-096a57d04972"
   },
   "outputs": [
    {
     "data": {
      "text/plain": [
       "(1338, 1070, 268)"
      ]
     },
     "execution_count": 60,
     "metadata": {},
     "output_type": "execute_result"
    }
   ],
   "source": [
    "# Split the data\n",
    "from sklearn.model_selection import train_test_split\n",
    "X_train,X_test,y_train,y_test=train_test_split(X,y,test_size=0.2,random_state=42)\n",
    "len(X),len(X_train),len(X_test)"
   ]
  },
  {
   "cell_type": "code",
   "execution_count": 61,
   "metadata": {},
   "outputs": [],
   "source": [
    "X_train = tf.constant(X_train, dtype=tf.float32)\n",
    "X_test = tf.constant(X_test, dtype=tf.float32)"
   ]
  },
  {
   "cell_type": "code",
   "execution_count": 62,
   "metadata": {
    "colab": {
     "base_uri": "https://localhost:8080/"
    },
    "executionInfo": {
     "elapsed": 9251,
     "status": "ok",
     "timestamp": 1673953607196,
     "user": {
      "displayName": "Ujjwal Mk",
      "userId": "12008983132848472926"
     },
     "user_tz": -330
    },
    "id": "RtTFgiqx9jFs",
    "outputId": "e800f3b9-08d0-4671-a8a7-d895715f39d2"
   },
   "outputs": [
    {
     "name": "stdout",
     "output_type": "stream",
     "text": [
      "Epoch 1/100\n",
      "34/34 [==============================] - 1s 4ms/step - loss: inf - mae: 13336.5703\n",
      "Epoch 2/100\n",
      "34/34 [==============================] - 0s 1ms/step - loss: inf - mae: 13263.4131\n",
      "Epoch 3/100\n",
      "34/34 [==============================] - 0s 1ms/step - loss: inf - mae: 13118.3408\n",
      "Epoch 4/100\n",
      "34/34 [==============================] - 0s 1ms/step - loss: inf - mae: 12864.6855\n",
      "Epoch 5/100\n",
      "34/34 [==============================] - 0s 1ms/step - loss: inf - mae: 12438.8389\n",
      "Epoch 6/100\n",
      "34/34 [==============================] - 0s 1ms/step - loss: inf - mae: 11836.0225\n",
      "Epoch 7/100\n",
      "34/34 [==============================] - 0s 1ms/step - loss: inf - mae: 11120.2217\n",
      "Epoch 8/100\n",
      "34/34 [==============================] - 0s 1ms/step - loss: inf - mae: 10329.8262\n",
      "Epoch 9/100\n",
      "34/34 [==============================] - 0s 1ms/step - loss: inf - mae: 9566.3164\n",
      "Epoch 10/100\n",
      "34/34 [==============================] - 0s 1ms/step - loss: inf - mae: 8860.8125\n",
      "Epoch 11/100\n",
      "34/34 [==============================] - 0s 1ms/step - loss: inf - mae: 8288.3672\n",
      "Epoch 12/100\n",
      "34/34 [==============================] - 0s 1ms/step - loss: inf - mae: 7873.4834\n",
      "Epoch 13/100\n",
      "34/34 [==============================] - 0s 1ms/step - loss: inf - mae: 7631.4961\n",
      "Epoch 14/100\n",
      "34/34 [==============================] - 0s 1ms/step - loss: inf - mae: 7519.8213\n",
      "Epoch 15/100\n",
      "34/34 [==============================] - 0s 1ms/step - loss: inf - mae: 7470.3652\n",
      "Epoch 16/100\n",
      "34/34 [==============================] - 0s 1ms/step - loss: inf - mae: 7442.7617\n",
      "Epoch 17/100\n",
      "34/34 [==============================] - 0s 1ms/step - loss: inf - mae: 7427.8794\n",
      "Epoch 18/100\n",
      "34/34 [==============================] - 0s 1ms/step - loss: inf - mae: 7415.6777\n",
      "Epoch 19/100\n",
      "34/34 [==============================] - 0s 1ms/step - loss: inf - mae: 7403.5806\n",
      "Epoch 20/100\n",
      "34/34 [==============================] - 0s 1ms/step - loss: inf - mae: 7391.8271\n",
      "Epoch 21/100\n",
      "34/34 [==============================] - 0s 1ms/step - loss: inf - mae: 7381.4907\n",
      "Epoch 22/100\n",
      "34/34 [==============================] - 0s 1ms/step - loss: inf - mae: 7368.1226\n",
      "Epoch 23/100\n",
      "34/34 [==============================] - 0s 1ms/step - loss: inf - mae: 7356.5112\n",
      "Epoch 24/100\n",
      "34/34 [==============================] - 0s 1ms/step - loss: inf - mae: 7344.1411\n",
      "Epoch 25/100\n",
      "34/34 [==============================] - 0s 1ms/step - loss: inf - mae: 7336.2793\n",
      "Epoch 26/100\n",
      "34/34 [==============================] - 0s 1ms/step - loss: inf - mae: 7319.2251\n",
      "Epoch 27/100\n",
      "34/34 [==============================] - 0s 1ms/step - loss: inf - mae: 7306.8291\n",
      "Epoch 28/100\n",
      "34/34 [==============================] - 0s 1ms/step - loss: inf - mae: 7293.5093\n",
      "Epoch 29/100\n",
      "34/34 [==============================] - 0s 1ms/step - loss: inf - mae: 7281.3486\n",
      "Epoch 30/100\n",
      "34/34 [==============================] - 0s 1ms/step - loss: inf - mae: 7267.6812\n",
      "Epoch 31/100\n",
      "34/34 [==============================] - 0s 1ms/step - loss: inf - mae: 7255.4868\n",
      "Epoch 32/100\n",
      "34/34 [==============================] - 0s 1ms/step - loss: inf - mae: 7243.7002\n",
      "Epoch 33/100\n",
      "34/34 [==============================] - 0s 1ms/step - loss: inf - mae: 7229.4834\n",
      "Epoch 34/100\n",
      "34/34 [==============================] - 0s 1ms/step - loss: inf - mae: 7214.7017\n",
      "Epoch 35/100\n",
      "34/34 [==============================] - 0s 1ms/step - loss: inf - mae: 7202.2119\n",
      "Epoch 36/100\n",
      "34/34 [==============================] - 0s 1ms/step - loss: inf - mae: 7188.3281\n",
      "Epoch 37/100\n",
      "34/34 [==============================] - 0s 1ms/step - loss: inf - mae: 7173.2271\n",
      "Epoch 38/100\n",
      "34/34 [==============================] - 0s 1ms/step - loss: inf - mae: 7159.8457\n",
      "Epoch 39/100\n",
      "34/34 [==============================] - 0s 1ms/step - loss: inf - mae: 7143.9824\n",
      "Epoch 40/100\n",
      "34/34 [==============================] - 0s 1ms/step - loss: inf - mae: 7129.5430\n",
      "Epoch 41/100\n",
      "34/34 [==============================] - 0s 1ms/step - loss: inf - mae: 7114.3335\n",
      "Epoch 42/100\n",
      "34/34 [==============================] - 0s 1ms/step - loss: inf - mae: 7100.7559\n",
      "Epoch 43/100\n",
      "34/34 [==============================] - 0s 1ms/step - loss: inf - mae: 7082.5054\n",
      "Epoch 44/100\n",
      "34/34 [==============================] - 0s 1ms/step - loss: inf - mae: 7066.5430\n",
      "Epoch 45/100\n",
      "34/34 [==============================] - 0s 1ms/step - loss: inf - mae: 7051.1094\n",
      "Epoch 46/100\n",
      "34/34 [==============================] - 0s 1ms/step - loss: inf - mae: 7035.7300\n",
      "Epoch 47/100\n",
      "34/34 [==============================] - 0s 1ms/step - loss: inf - mae: 7021.0063\n",
      "Epoch 48/100\n",
      "34/34 [==============================] - 0s 1ms/step - loss: inf - mae: 7001.2251\n",
      "Epoch 49/100\n",
      "34/34 [==============================] - 0s 1ms/step - loss: inf - mae: 6986.7280\n",
      "Epoch 50/100\n",
      "34/34 [==============================] - 0s 1ms/step - loss: inf - mae: 6968.0815\n",
      "Epoch 51/100\n",
      "34/34 [==============================] - 0s 1ms/step - loss: inf - mae: 6952.9429\n",
      "Epoch 52/100\n",
      "34/34 [==============================] - 0s 1ms/step - loss: inf - mae: 6933.8999\n",
      "Epoch 53/100\n",
      "34/34 [==============================] - 0s 1ms/step - loss: inf - mae: 6916.0049\n",
      "Epoch 54/100\n",
      "34/34 [==============================] - 0s 1ms/step - loss: inf - mae: 6897.5635\n",
      "Epoch 55/100\n",
      "34/34 [==============================] - 0s 1ms/step - loss: inf - mae: 6879.5151\n",
      "Epoch 56/100\n",
      "34/34 [==============================] - 0s 1ms/step - loss: inf - mae: 6861.3730\n",
      "Epoch 57/100\n",
      "34/34 [==============================] - 0s 1ms/step - loss: inf - mae: 6843.8159\n",
      "Epoch 58/100\n",
      "34/34 [==============================] - 0s 1ms/step - loss: inf - mae: 6825.2329\n",
      "Epoch 59/100\n",
      "34/34 [==============================] - 0s 1ms/step - loss: inf - mae: 6808.8887\n",
      "Epoch 60/100\n",
      "34/34 [==============================] - 0s 1ms/step - loss: inf - mae: 6789.1113\n",
      "Epoch 61/100\n",
      "34/34 [==============================] - 0s 1ms/step - loss: inf - mae: 6769.5000\n",
      "Epoch 62/100\n",
      "34/34 [==============================] - 0s 1ms/step - loss: inf - mae: 6749.9653\n",
      "Epoch 63/100\n",
      "34/34 [==============================] - 0s 1ms/step - loss: inf - mae: 6730.7017\n",
      "Epoch 64/100\n",
      "34/34 [==============================] - 0s 1ms/step - loss: inf - mae: 6711.1021\n",
      "Epoch 65/100\n",
      "34/34 [==============================] - 0s 1ms/step - loss: inf - mae: 6692.9092\n",
      "Epoch 66/100\n",
      "34/34 [==============================] - 0s 1ms/step - loss: inf - mae: 6671.9038\n",
      "Epoch 67/100\n",
      "34/34 [==============================] - 0s 1ms/step - loss: inf - mae: 6654.6982\n",
      "Epoch 68/100\n",
      "34/34 [==============================] - 0s 1ms/step - loss: inf - mae: 6635.2344\n",
      "Epoch 69/100\n",
      "34/34 [==============================] - 0s 1ms/step - loss: inf - mae: 6615.9180\n",
      "Epoch 70/100\n",
      "34/34 [==============================] - 0s 1ms/step - loss: inf - mae: 6597.9194\n",
      "Epoch 71/100\n",
      "34/34 [==============================] - 0s 1ms/step - loss: inf - mae: 6580.2861\n",
      "Epoch 72/100\n",
      "34/34 [==============================] - 0s 1ms/step - loss: inf - mae: 6564.3525\n",
      "Epoch 73/100\n",
      "34/34 [==============================] - 0s 1ms/step - loss: inf - mae: 6546.2773\n",
      "Epoch 74/100\n",
      "34/34 [==============================] - 0s 1ms/step - loss: inf - mae: 6530.8945\n",
      "Epoch 75/100\n",
      "34/34 [==============================] - 0s 1ms/step - loss: inf - mae: 6517.3633\n",
      "Epoch 76/100\n",
      "34/34 [==============================] - 0s 1ms/step - loss: inf - mae: 6505.5127\n",
      "Epoch 77/100\n",
      "34/34 [==============================] - 0s 1ms/step - loss: inf - mae: 6492.6685\n",
      "Epoch 78/100\n",
      "34/34 [==============================] - 0s 1ms/step - loss: inf - mae: 6481.9038\n",
      "Epoch 79/100\n",
      "34/34 [==============================] - 0s 1ms/step - loss: inf - mae: 6471.2988\n",
      "Epoch 80/100\n",
      "34/34 [==============================] - 0s 1ms/step - loss: inf - mae: 6461.6631\n",
      "Epoch 81/100\n",
      "34/34 [==============================] - 0s 1ms/step - loss: inf - mae: 6452.9175\n",
      "Epoch 82/100\n",
      "34/34 [==============================] - 0s 1ms/step - loss: inf - mae: 6447.0913\n",
      "Epoch 83/100\n",
      "34/34 [==============================] - 0s 1ms/step - loss: inf - mae: 6438.9092\n",
      "Epoch 84/100\n",
      "34/34 [==============================] - 0s 1ms/step - loss: inf - mae: 6428.2588\n",
      "Epoch 85/100\n",
      "34/34 [==============================] - 0s 1ms/step - loss: inf - mae: 6421.3823\n",
      "Epoch 86/100\n",
      "34/34 [==============================] - 0s 1ms/step - loss: inf - mae: 6412.8213\n",
      "Epoch 87/100\n",
      "34/34 [==============================] - 0s 1ms/step - loss: inf - mae: 6406.1890\n",
      "Epoch 88/100\n",
      "34/34 [==============================] - 0s 1ms/step - loss: inf - mae: 6399.3853\n",
      "Epoch 89/100\n",
      "34/34 [==============================] - 0s 1ms/step - loss: inf - mae: 6392.1270\n",
      "Epoch 90/100\n",
      "34/34 [==============================] - 0s 1ms/step - loss: inf - mae: 6384.3818\n",
      "Epoch 91/100\n",
      "34/34 [==============================] - 0s 1ms/step - loss: inf - mae: 6377.1143\n",
      "Epoch 92/100\n",
      "34/34 [==============================] - 0s 1ms/step - loss: inf - mae: 6372.4614\n",
      "Epoch 93/100\n",
      "34/34 [==============================] - 0s 1ms/step - loss: inf - mae: 6367.1050\n",
      "Epoch 94/100\n",
      "34/34 [==============================] - 0s 1ms/step - loss: inf - mae: 6356.9243\n",
      "Epoch 95/100\n",
      "34/34 [==============================] - 0s 1ms/step - loss: inf - mae: 6350.0381\n",
      "Epoch 96/100\n",
      "34/34 [==============================] - 0s 1ms/step - loss: inf - mae: 6342.5176\n",
      "Epoch 97/100\n",
      "34/34 [==============================] - 0s 1ms/step - loss: inf - mae: 6336.8784\n",
      "Epoch 98/100\n",
      "34/34 [==============================] - 0s 1ms/step - loss: inf - mae: 6328.0259\n",
      "Epoch 99/100\n",
      "34/34 [==============================] - 0s 1ms/step - loss: inf - mae: 6321.7236\n",
      "Epoch 100/100\n",
      "34/34 [==============================] - 0s 1ms/step - loss: inf - mae: 6313.7529\n"
     ]
    },
    {
     "data": {
      "text/plain": [
       "<keras.src.callbacks.History at 0x7f42684dd520>"
      ]
     },
     "execution_count": 62,
     "metadata": {},
     "output_type": "execute_result"
    }
   ],
   "source": [
    "# Cuild a neural network\n",
    "tf.random.set_seed(42)\n",
    "\n",
    "df_model=tf.keras.Sequential([\n",
    "    tf.keras.layers.Dense(10,activation='relu'),\n",
    "    tf.keras.layers.Dense(1)\n",
    "])\n",
    "df_model.compile(loss=tf.keras.losses.mae,optimizer=tf.keras.optimizers.Adam(0.01),metrics=['mae'])\n",
    "df_model.fit(tf.constant(X_train, dtype=tf.float32),y_train,epochs=100)"
   ]
  },
  {
   "cell_type": "code",
   "execution_count": 63,
   "metadata": {
    "colab": {
     "base_uri": "https://localhost:8080/"
    },
    "executionInfo": {
     "elapsed": 10,
     "status": "ok",
     "timestamp": 1673953607197,
     "user": {
      "displayName": "Ujjwal Mk",
      "userId": "12008983132848472926"
     },
     "user_tz": -330
    },
    "id": "TRuFYdSH37KN",
    "outputId": "8a9fc811-adcb-4d5e-e3a5-266953f6bae8"
   },
   "outputs": [
    {
     "name": "stdout",
     "output_type": "stream",
     "text": [
      "9/9 [==============================] - 0s 763us/step\n",
      "9/9 [==============================] - 0s 1ms/step - loss: inf - mae: 6163.1362\n"
     ]
    },
    {
     "data": {
      "text/plain": [
       "[inf, 6163.13623046875]"
      ]
     },
     "execution_count": 63,
     "metadata": {},
     "output_type": "execute_result"
    }
   ],
   "source": [
    "# Check the results with y_test\n",
    "y_pred=df_model.predict(X_test)\n",
    "df_model.evaluate(X_test,y_test)"
   ]
  },
  {
   "cell_type": "code",
   "execution_count": 64,
   "metadata": {
    "colab": {
     "base_uri": "https://localhost:8080/"
    },
    "executionInfo": {
     "elapsed": 6158,
     "status": "ok",
     "timestamp": 1673953613352,
     "user": {
      "displayName": "Ujjwal Mk",
      "userId": "12008983132848472926"
     },
     "user_tz": -330
    },
    "id": "7Zgnq14k4fC_",
    "outputId": "6bd0ff0f-f822-4060-e86a-d25963428560"
   },
   "outputs": [
    {
     "name": "stdout",
     "output_type": "stream",
     "text": [
      "Epoch 1/170\n",
      "9/9 [==============================] - 1s 64ms/step - loss: inf - mae: 12693.1719\n",
      "Epoch 2/170\n",
      "9/9 [==============================] - 0s 2ms/step - loss: inf - mae: 8290.0518\n",
      "Epoch 3/170\n",
      "9/9 [==============================] - 0s 2ms/step - loss: inf - mae: 6897.1455\n",
      "Epoch 4/170\n",
      "9/9 [==============================] - 0s 2ms/step - loss: inf - mae: 6758.6978\n",
      "Epoch 5/170\n",
      "9/9 [==============================] - 0s 2ms/step - loss: inf - mae: 6978.9868\n",
      "Epoch 6/170\n",
      "9/9 [==============================] - 0s 2ms/step - loss: inf - mae: 7365.6006\n",
      "Epoch 7/170\n",
      "9/9 [==============================] - 0s 2ms/step - loss: inf - mae: 6113.0708\n",
      "Epoch 8/170\n",
      "9/9 [==============================] - 0s 2ms/step - loss: inf - mae: 5115.7539\n",
      "Epoch 9/170\n",
      "9/9 [==============================] - 0s 2ms/step - loss: inf - mae: 4237.2500\n",
      "Epoch 10/170\n",
      "9/9 [==============================] - 0s 2ms/step - loss: inf - mae: 4481.2129\n",
      "Epoch 11/170\n",
      "9/9 [==============================] - 0s 2ms/step - loss: inf - mae: 4181.9663\n",
      "Epoch 12/170\n",
      "9/9 [==============================] - 0s 2ms/step - loss: inf - mae: 4436.9458\n",
      "Epoch 13/170\n",
      "9/9 [==============================] - 0s 2ms/step - loss: inf - mae: 4442.3042\n",
      "Epoch 14/170\n",
      "9/9 [==============================] - 0s 2ms/step - loss: inf - mae: 3133.7910\n",
      "Epoch 15/170\n",
      "9/9 [==============================] - 0s 2ms/step - loss: inf - mae: 3598.1194\n",
      "Epoch 16/170\n",
      "9/9 [==============================] - 0s 2ms/step - loss: inf - mae: 3745.4272\n",
      "Epoch 17/170\n",
      "9/9 [==============================] - 0s 2ms/step - loss: inf - mae: 3897.3191\n",
      "Epoch 18/170\n",
      "9/9 [==============================] - 0s 2ms/step - loss: inf - mae: 3705.0002\n",
      "Epoch 19/170\n",
      "9/9 [==============================] - 0s 2ms/step - loss: inf - mae: 3563.1899\n",
      "Epoch 20/170\n",
      "9/9 [==============================] - 0s 2ms/step - loss: inf - mae: 3402.2490\n",
      "Epoch 21/170\n",
      "9/9 [==============================] - 0s 2ms/step - loss: inf - mae: 4396.8330\n",
      "Epoch 22/170\n",
      "9/9 [==============================] - 0s 2ms/step - loss: inf - mae: 3756.1521\n",
      "Epoch 23/170\n",
      "9/9 [==============================] - 0s 2ms/step - loss: inf - mae: 3120.1548\n",
      "Epoch 24/170\n",
      "9/9 [==============================] - 0s 2ms/step - loss: inf - mae: 3622.1306\n",
      "Epoch 25/170\n",
      "9/9 [==============================] - 0s 2ms/step - loss: inf - mae: 3596.8582\n",
      "Epoch 26/170\n",
      "9/9 [==============================] - 0s 2ms/step - loss: inf - mae: 2849.9590\n",
      "Epoch 27/170\n",
      "9/9 [==============================] - 0s 2ms/step - loss: inf - mae: 2886.5784\n",
      "Epoch 28/170\n",
      "9/9 [==============================] - 0s 2ms/step - loss: inf - mae: 3457.3843\n",
      "Epoch 29/170\n",
      "9/9 [==============================] - 0s 2ms/step - loss: inf - mae: 2950.7239\n",
      "Epoch 30/170\n",
      "9/9 [==============================] - 0s 2ms/step - loss: inf - mae: 2942.5542\n",
      "Epoch 31/170\n",
      "9/9 [==============================] - 0s 2ms/step - loss: inf - mae: 3332.5466\n",
      "Epoch 32/170\n",
      "9/9 [==============================] - 0s 2ms/step - loss: inf - mae: 2917.0486\n",
      "Epoch 33/170\n",
      "9/9 [==============================] - 0s 2ms/step - loss: inf - mae: 3146.5149\n",
      "Epoch 34/170\n",
      "9/9 [==============================] - 0s 2ms/step - loss: inf - mae: 3399.1101\n",
      "Epoch 35/170\n",
      "9/9 [==============================] - 0s 2ms/step - loss: inf - mae: 3418.4124\n",
      "Epoch 36/170\n",
      "9/9 [==============================] - 0s 2ms/step - loss: inf - mae: 2913.5447\n",
      "Epoch 37/170\n",
      "9/9 [==============================] - 0s 2ms/step - loss: inf - mae: 3373.6829\n",
      "Epoch 38/170\n",
      "9/9 [==============================] - 0s 2ms/step - loss: inf - mae: 3095.4888\n",
      "Epoch 39/170\n",
      "9/9 [==============================] - 0s 2ms/step - loss: inf - mae: 2516.4534\n",
      "Epoch 40/170\n",
      "9/9 [==============================] - 0s 2ms/step - loss: inf - mae: 2818.7163  \n",
      "Epoch 41/170\n",
      "9/9 [==============================] - 0s 2ms/step - loss: inf - mae: 3409.8730\n",
      "Epoch 42/170\n",
      "9/9 [==============================] - 0s 2ms/step - loss: inf - mae: 3440.2314\n",
      "Epoch 43/170\n",
      "9/9 [==============================] - 0s 2ms/step - loss: inf - mae: 2835.3079\n",
      "Epoch 44/170\n",
      "9/9 [==============================] - 0s 2ms/step - loss: inf - mae: 2780.3003\n",
      "Epoch 45/170\n",
      "9/9 [==============================] - 0s 2ms/step - loss: inf - mae: 2860.3657  \n",
      "Epoch 46/170\n",
      "9/9 [==============================] - 0s 2ms/step - loss: inf - mae: 2704.5205  \n",
      "Epoch 47/170\n",
      "9/9 [==============================] - 0s 2ms/step - loss: inf - mae: 2997.5542\n",
      "Epoch 48/170\n",
      "9/9 [==============================] - 0s 2ms/step - loss: inf - mae: 2858.2163  \n",
      "Epoch 49/170\n",
      "9/9 [==============================] - 0s 2ms/step - loss: inf - mae: 2756.8730\n",
      "Epoch 50/170\n",
      "9/9 [==============================] - 0s 2ms/step - loss: inf - mae: 2626.0149  \n",
      "Epoch 51/170\n",
      "9/9 [==============================] - 0s 2ms/step - loss: inf - mae: 3010.5635\n",
      "Epoch 52/170\n",
      "9/9 [==============================] - 0s 2ms/step - loss: inf - mae: 3028.9814\n",
      "Epoch 53/170\n",
      "9/9 [==============================] - 0s 2ms/step - loss: inf - mae: 2376.3843\n",
      "Epoch 54/170\n",
      "9/9 [==============================] - 0s 2ms/step - loss: inf - mae: 2532.0149\n",
      "Epoch 55/170\n",
      "9/9 [==============================] - 0s 2ms/step - loss: inf - mae: 3353.8098\n",
      "Epoch 56/170\n",
      "9/9 [==============================] - 0s 2ms/step - loss: inf - mae: 2528.7275\n",
      "Epoch 57/170\n",
      "9/9 [==============================] - 0s 2ms/step - loss: inf - mae: 2562.1492\n",
      "Epoch 58/170\n",
      "9/9 [==============================] - 0s 2ms/step - loss: inf - mae: 2429.9031\n",
      "Epoch 59/170\n",
      "9/9 [==============================] - 0s 2ms/step - loss: inf - mae: 2892.0186\n",
      "Epoch 60/170\n",
      "9/9 [==============================] - 0s 2ms/step - loss: inf - mae: 2934.5149\n",
      "Epoch 61/170\n",
      "9/9 [==============================] - 0s 2ms/step - loss: inf - mae: 2473.9309\n",
      "Epoch 62/170\n",
      "9/9 [==============================] - 0s 2ms/step - loss: inf - mae: 2361.8806\n",
      "Epoch 63/170\n",
      "9/9 [==============================] - 0s 2ms/step - loss: inf - mae: 2691.6157\n",
      "Epoch 64/170\n",
      "9/9 [==============================] - 0s 2ms/step - loss: inf - mae: 2703.0337\n",
      "Epoch 65/170\n",
      "9/9 [==============================] - 0s 2ms/step - loss: inf - mae: 2805.2275\n",
      "Epoch 66/170\n",
      "9/9 [==============================] - 0s 2ms/step - loss: inf - mae: 2765.9478\n",
      "Epoch 67/170\n",
      "9/9 [==============================] - 0s 2ms/step - loss: inf - mae: 2591.3247\n",
      "Epoch 68/170\n",
      "9/9 [==============================] - 0s 2ms/step - loss: inf - mae: 2799.0559\n",
      "Epoch 69/170\n",
      "9/9 [==============================] - 0s 2ms/step - loss: inf - mae: 3562.6567\n",
      "Epoch 70/170\n",
      "9/9 [==============================] - 0s 2ms/step - loss: inf - mae: 3290.1025\n",
      "Epoch 71/170\n",
      "9/9 [==============================] - 0s 2ms/step - loss: inf - mae: 3217.9253  \n",
      "Epoch 72/170\n",
      "9/9 [==============================] - 0s 2ms/step - loss: inf - mae: 3865.6230\n",
      "Epoch 73/170\n",
      "9/9 [==============================] - 0s 2ms/step - loss: inf - mae: 3277.6772\n",
      "Epoch 74/170\n",
      "9/9 [==============================] - 0s 2ms/step - loss: inf - mae: 2526.9067  \n",
      "Epoch 75/170\n",
      "9/9 [==============================] - 0s 2ms/step - loss: inf - mae: 2865.7258\n",
      "Epoch 76/170\n",
      "9/9 [==============================] - 0s 2ms/step - loss: inf - mae: 2311.0645\n",
      "Epoch 77/170\n",
      "9/9 [==============================] - 0s 2ms/step - loss: inf - mae: 2285.4626\n",
      "Epoch 78/170\n",
      "9/9 [==============================] - 0s 2ms/step - loss: inf - mae: 2264.1270\n",
      "Epoch 79/170\n",
      "9/9 [==============================] - 0s 2ms/step - loss: inf - mae: 2865.1418\n",
      "Epoch 80/170\n",
      "9/9 [==============================] - 0s 2ms/step - loss: inf - mae: 2190.3059\n",
      "Epoch 81/170\n",
      "9/9 [==============================] - 0s 2ms/step - loss: inf - mae: 2246.7947  \n",
      "Epoch 82/170\n",
      "9/9 [==============================] - 0s 2ms/step - loss: inf - mae: 2168.9888\n",
      "Epoch 83/170\n",
      "9/9 [==============================] - 0s 2ms/step - loss: inf - mae: 2648.2556\n",
      "Epoch 84/170\n",
      "9/9 [==============================] - 0s 2ms/step - loss: inf - mae: 2586.4309\n",
      "Epoch 85/170\n",
      "9/9 [==============================] - 0s 2ms/step - loss: inf - mae: 3006.9402\n",
      "Epoch 86/170\n",
      "9/9 [==============================] - 0s 2ms/step - loss: inf - mae: 2472.7612\n",
      "Epoch 87/170\n",
      "9/9 [==============================] - 0s 2ms/step - loss: inf - mae: 2549.2053  \n",
      "Epoch 88/170\n",
      "9/9 [==============================] - 0s 2ms/step - loss: inf - mae: 2180.2854\n",
      "Epoch 89/170\n",
      "9/9 [==============================] - 0s 2ms/step - loss: inf - mae: 2287.3564\n",
      "Epoch 90/170\n",
      "9/9 [==============================] - 0s 2ms/step - loss: inf - mae: 2461.8208\n",
      "Epoch 91/170\n",
      "9/9 [==============================] - 0s 2ms/step - loss: inf - mae: 2710.5000\n",
      "Epoch 92/170\n",
      "9/9 [==============================] - 0s 2ms/step - loss: inf - mae: 2548.3208\n",
      "Epoch 93/170\n",
      "9/9 [==============================] - 0s 2ms/step - loss: inf - mae: 2782.6865\n",
      "Epoch 94/170\n",
      "9/9 [==============================] - 0s 2ms/step - loss: inf - mae: 2683.1157\n",
      "Epoch 95/170\n",
      "9/9 [==============================] - 0s 2ms/step - loss: inf - mae: 2476.2556\n",
      "Epoch 96/170\n",
      "9/9 [==============================] - 0s 2ms/step - loss: inf - mae: 2280.0969  \n",
      "Epoch 97/170\n",
      "9/9 [==============================] - 0s 2ms/step - loss: inf - mae: 3057.0037\n",
      "Epoch 98/170\n",
      "9/9 [==============================] - 0s 2ms/step - loss: inf - mae: 2453.5859\n",
      "Epoch 99/170\n",
      "9/9 [==============================] - 0s 2ms/step - loss: inf - mae: 2430.8730  \n",
      "Epoch 100/170\n",
      "9/9 [==============================] - 0s 2ms/step - loss: inf - mae: inf\n",
      "Epoch 101/170\n",
      "9/9 [==============================] - 0s 2ms/step - loss: inf - mae: 2642.8208\n",
      "Epoch 102/170\n",
      "9/9 [==============================] - 0s 2ms/step - loss: inf - mae: inf  \n",
      "Epoch 103/170\n",
      "9/9 [==============================] - 0s 2ms/step - loss: inf - mae: 2566.2537\n",
      "Epoch 104/170\n",
      "9/9 [==============================] - 0s 2ms/step - loss: inf - mae: 2146.0149\n",
      "Epoch 105/170\n",
      "9/9 [==============================] - 0s 2ms/step - loss: inf - mae: 2212.5112\n",
      "Epoch 106/170\n",
      "9/9 [==============================] - 0s 2ms/step - loss: inf - mae: 2238.1270\n",
      "Epoch 107/170\n",
      "9/9 [==============================] - 0s 2ms/step - loss: inf - mae: 2290.7612\n",
      "Epoch 108/170\n",
      "9/9 [==============================] - 0s 2ms/step - loss: inf - mae: 2283.2837\n",
      "Epoch 109/170\n",
      "9/9 [==============================] - 0s 2ms/step - loss: inf - mae: 2118.7239\n",
      "Epoch 110/170\n",
      "9/9 [==============================] - 0s 2ms/step - loss: inf - mae: 2282.1902\n",
      "Epoch 111/170\n",
      "9/9 [==============================] - 0s 2ms/step - loss: inf - mae: 2308.6921  \n",
      "Epoch 112/170\n",
      "9/9 [==============================] - 0s 2ms/step - loss: inf - mae: 2441.7686\n",
      "Epoch 113/170\n",
      "9/9 [==============================] - 0s 2ms/step - loss: inf - mae: 2196.7407  \n",
      "Epoch 114/170\n",
      "9/9 [==============================] - 0s 2ms/step - loss: inf - mae: 2382.3918\n",
      "Epoch 115/170\n",
      "9/9 [==============================] - 0s 2ms/step - loss: inf - mae: 2286.5969\n",
      "Epoch 116/170\n",
      "9/9 [==============================] - 0s 2ms/step - loss: inf - mae: 2248.2126  \n",
      "Epoch 117/170\n",
      "9/9 [==============================] - 0s 2ms/step - loss: inf - mae: 1995.9664\n",
      "Epoch 118/170\n",
      "9/9 [==============================] - 0s 2ms/step - loss: inf - mae: 2232.3359\n",
      "Epoch 119/170\n",
      "9/9 [==============================] - 0s 2ms/step - loss: inf - mae: 2173.7947\n",
      "Epoch 120/170\n",
      "9/9 [==============================] - 0s 2ms/step - loss: inf - mae: inf  \n",
      "Epoch 121/170\n",
      "9/9 [==============================] - 0s 2ms/step - loss: inf - mae: 2164.7910  \n",
      "Epoch 122/170\n",
      "9/9 [==============================] - 0s 2ms/step - loss: inf - mae: inf  \n",
      "Epoch 123/170\n",
      "9/9 [==============================] - 0s 2ms/step - loss: inf - mae: 1908.2239\n",
      "Epoch 124/170\n",
      "9/9 [==============================] - 0s 2ms/step - loss: inf - mae: 1894.8302  \n",
      "Epoch 125/170\n",
      "9/9 [==============================] - 0s 2ms/step - loss: inf - mae: 2020.7874\n",
      "Epoch 126/170\n",
      "9/9 [==============================] - 0s 2ms/step - loss: inf - mae: 1998.6473  \n",
      "Epoch 127/170\n",
      "9/9 [==============================] - 0s 2ms/step - loss: inf - mae: 2030.1194  \n",
      "Epoch 128/170\n",
      "9/9 [==============================] - 0s 2ms/step - loss: inf - mae: 1779.2985\n",
      "Epoch 129/170\n",
      "9/9 [==============================] - 0s 2ms/step - loss: inf - mae: 1878.2108\n",
      "Epoch 130/170\n",
      "9/9 [==============================] - 0s 2ms/step - loss: inf - mae: 1909.8806  \n",
      "Epoch 131/170\n",
      "9/9 [==============================] - 0s 2ms/step - loss: inf - mae: 2305.4963  \n",
      "Epoch 132/170\n",
      "9/9 [==============================] - 0s 2ms/step - loss: inf - mae: 2857.7239\n",
      "Epoch 133/170\n",
      "9/9 [==============================] - 0s 2ms/step - loss: inf - mae: 2445.5337\n",
      "Epoch 134/170\n",
      "9/9 [==============================] - 0s 2ms/step - loss: inf - mae: 2519.1848  \n",
      "Epoch 135/170\n",
      "9/9 [==============================] - 0s 2ms/step - loss: inf - mae: inf\n",
      "Epoch 136/170\n",
      "9/9 [==============================] - 0s 2ms/step - loss: inf - mae: 1935.8209  \n",
      "Epoch 137/170\n",
      "9/9 [==============================] - 0s 2ms/step - loss: inf - mae: 2246.2183  \n",
      "Epoch 138/170\n",
      "9/9 [==============================] - 0s 2ms/step - loss: inf - mae: inf        \n",
      "Epoch 139/170\n",
      "9/9 [==============================] - 0s 2ms/step - loss: inf - mae: 2447.8564\n",
      "Epoch 140/170\n",
      "9/9 [==============================] - 0s 2ms/step - loss: inf - mae: 2027.6455\n",
      "Epoch 141/170\n",
      "9/9 [==============================] - 0s 2ms/step - loss: inf - mae: inf  \n",
      "Epoch 142/170\n",
      "9/9 [==============================] - 0s 2ms/step - loss: inf - mae: 2045.4701  \n",
      "Epoch 143/170\n",
      "9/9 [==============================] - 0s 2ms/step - loss: inf - mae: inf        \n",
      "Epoch 144/170\n",
      "9/9 [==============================] - 0s 2ms/step - loss: inf - mae: 2213.9067  \n",
      "Epoch 145/170\n",
      "9/9 [==============================] - 0s 2ms/step - loss: inf - mae: 1781.3340\n",
      "Epoch 146/170\n",
      "9/9 [==============================] - 0s 2ms/step - loss: inf - mae: inf        \n",
      "Epoch 147/170\n",
      "9/9 [==============================] - 0s 2ms/step - loss: inf - mae: 2064.7109\n",
      "Epoch 148/170\n",
      "9/9 [==============================] - 0s 2ms/step - loss: inf - mae: 2056.0000\n",
      "Epoch 149/170\n",
      "9/9 [==============================] - 0s 2ms/step - loss: inf - mae: 2293.8284  \n",
      "Epoch 150/170\n",
      "9/9 [==============================] - 0s 2ms/step - loss: inf - mae: 2548.0635  \n",
      "Epoch 151/170\n",
      "9/9 [==============================] - 0s 2ms/step - loss: inf - mae: inf        \n",
      "Epoch 152/170\n",
      "9/9 [==============================] - 0s 2ms/step - loss: inf - mae: 2035.3060  \n",
      "Epoch 153/170\n",
      "9/9 [==============================] - 0s 2ms/step - loss: inf - mae: 2133.2910\n",
      "Epoch 154/170\n",
      "9/9 [==============================] - 0s 2ms/step - loss: inf - mae: 1879.9570\n",
      "Epoch 155/170\n",
      "9/9 [==============================] - 0s 2ms/step - loss: inf - mae: 2160.6865\n",
      "Epoch 156/170\n",
      "9/9 [==============================] - 0s 2ms/step - loss: inf - mae: 2289.2109  \n",
      "Epoch 157/170\n",
      "9/9 [==============================] - 0s 2ms/step - loss: inf - mae: inf\n",
      "Epoch 158/170\n",
      "9/9 [==============================] - 0s 2ms/step - loss: inf - mae: 2014.1437\n",
      "Epoch 159/170\n",
      "9/9 [==============================] - 0s 2ms/step - loss: inf - mae: 1832.9832\n",
      "Epoch 160/170\n",
      "9/9 [==============================] - 0s 2ms/step - loss: inf - mae: 1985.9552\n",
      "Epoch 161/170\n",
      "9/9 [==============================] - 0s 2ms/step - loss: inf - mae: 1816.7313\n",
      "Epoch 162/170\n",
      "9/9 [==============================] - 0s 2ms/step - loss: inf - mae: 1852.0951  \n",
      "Epoch 163/170\n",
      "9/9 [==============================] - 0s 2ms/step - loss: inf - mae: 2014.7948  \n",
      "Epoch 164/170\n",
      "9/9 [==============================] - 0s 2ms/step - loss: inf - mae: 1936.6698  \n",
      "Epoch 165/170\n",
      "9/9 [==============================] - 0s 2ms/step - loss: inf - mae: 1865.5131  \n",
      "Epoch 166/170\n",
      "9/9 [==============================] - 0s 2ms/step - loss: inf - mae: 1944.2892\n",
      "Epoch 167/170\n",
      "9/9 [==============================] - 0s 2ms/step - loss: inf - mae: inf  \n",
      "Epoch 168/170\n",
      "9/9 [==============================] - 0s 2ms/step - loss: inf - mae: 1890.5597\n",
      "Epoch 169/170\n",
      "9/9 [==============================] - 0s 2ms/step - loss: inf - mae: inf        \n",
      "Epoch 170/170\n",
      "9/9 [==============================] - 0s 2ms/step - loss: inf - mae: inf      \n"
     ]
    },
    {
     "data": {
      "text/plain": [
       "<keras.src.callbacks.History at 0x7f4268375c40>"
      ]
     },
     "execution_count": 64,
     "metadata": {},
     "output_type": "execute_result"
    }
   ],
   "source": [
    "# Improving the model:\n",
    "df_model_2 = tf.keras.Sequential([\n",
    "    tf.keras.layers.Dense(150,activation='relu'),\n",
    "    tf.keras.layers.Dense(100,activation='relu'),\n",
    "    tf.keras.layers.Dense(160,activation='relu'),\n",
    "    tf.keras.layers.Dense(1)\n",
    "])\n",
    "df_model_2.compile(\n",
    "    loss=tf.keras.losses.mae,\n",
    "    optimizer=tf.keras.optimizers.Adam(0.1),\n",
    "    metrics=['mae']\n",
    ")\n",
    "df_model_2.fit(X_test,y_test,epochs=170)"
   ]
  },
  {
   "cell_type": "code",
   "execution_count": 65,
   "metadata": {
    "colab": {
     "base_uri": "https://localhost:8080/"
    },
    "executionInfo": {
     "elapsed": 10,
     "status": "ok",
     "timestamp": 1673953613352,
     "user": {
      "displayName": "Ujjwal Mk",
      "userId": "12008983132848472926"
     },
     "user_tz": -330
    },
    "id": "ETTjOBJu50t8",
    "outputId": "e4990906-5ef3-45db-d815-0c933acb7f05"
   },
   "outputs": [
    {
     "name": "stdout",
     "output_type": "stream",
     "text": [
      "9/9 [==============================] - 0s 1ms/step - loss: inf - mae: 2320.0261  \n"
     ]
    },
    {
     "data": {
      "text/plain": [
       "[inf, 2320.026123046875]"
      ]
     },
     "execution_count": 65,
     "metadata": {},
     "output_type": "execute_result"
    }
   ],
   "source": [
    "df_model_2.evaluate(X_test,y_test)"
   ]
  },
  {
   "cell_type": "code",
   "execution_count": 66,
   "metadata": {
    "colab": {
     "base_uri": "https://localhost:8080/"
    },
    "executionInfo": {
     "elapsed": 13409,
     "status": "ok",
     "timestamp": 1673953626759,
     "user": {
      "displayName": "Ujjwal Mk",
      "userId": "12008983132848472926"
     },
     "user_tz": -330
    },
    "id": "VXI2exzy6IDB",
    "outputId": "803ffc9c-8c38-4ae8-ce70-0585f30e2c73"
   },
   "outputs": [
    {
     "name": "stdout",
     "output_type": "stream",
     "text": [
      "Epoch 1/150\n",
      "34/34 [==============================] - 1s 19ms/step - loss: inf - mae: 10222.5107\n",
      "Epoch 2/150\n",
      "34/34 [==============================] - 0s 2ms/step - loss: inf - mae: 7155.5635\n",
      "Epoch 3/150\n",
      "34/34 [==============================] - 0s 2ms/step - loss: inf - mae: 5013.2222\n",
      "Epoch 4/150\n",
      "34/34 [==============================] - 0s 2ms/step - loss: inf - mae: 6339.1831\n",
      "Epoch 5/150\n",
      "34/34 [==============================] - 0s 2ms/step - loss: inf - mae: 4153.9512\n",
      "Epoch 6/150\n",
      "34/34 [==============================] - 0s 2ms/step - loss: inf - mae: 4654.5195\n",
      "Epoch 7/150\n",
      "34/34 [==============================] - 0s 2ms/step - loss: inf - mae: 3451.7239\n",
      "Epoch 8/150\n",
      "34/34 [==============================] - 0s 2ms/step - loss: inf - mae: 3343.9412\n",
      "Epoch 9/150\n",
      "34/34 [==============================] - 0s 2ms/step - loss: inf - mae: 3143.6995\n",
      "Epoch 10/150\n",
      "34/34 [==============================] - 0s 2ms/step - loss: inf - mae: 3309.5906 \n",
      "Epoch 11/150\n",
      "34/34 [==============================] - 0s 2ms/step - loss: inf - mae: 3343.9749\n",
      "Epoch 12/150\n",
      "34/34 [==============================] - 0s 2ms/step - loss: inf - mae: 3393.9233\n",
      "Epoch 13/150\n",
      "34/34 [==============================] - 0s 2ms/step - loss: inf - mae: 3535.1279\n",
      "Epoch 14/150\n",
      "34/34 [==============================] - 0s 2ms/step - loss: inf - mae: 2960.4958\n",
      "Epoch 15/150\n",
      "34/34 [==============================] - 0s 2ms/step - loss: inf - mae: 3022.0195\n",
      "Epoch 16/150\n",
      "34/34 [==============================] - 0s 2ms/step - loss: inf - mae: 2866.3298\n",
      "Epoch 17/150\n",
      "34/34 [==============================] - 0s 2ms/step - loss: inf - mae: 2819.2776\n",
      "Epoch 18/150\n",
      "34/34 [==============================] - 0s 2ms/step - loss: inf - mae: 2979.6870\n",
      "Epoch 19/150\n",
      "34/34 [==============================] - 0s 2ms/step - loss: inf - mae: 3086.0393\n",
      "Epoch 20/150\n",
      "34/34 [==============================] - 0s 2ms/step - loss: inf - mae: 3186.2842\n",
      "Epoch 21/150\n",
      "34/34 [==============================] - 0s 2ms/step - loss: inf - mae: 3230.8916\n",
      "Epoch 22/150\n",
      "34/34 [==============================] - 0s 2ms/step - loss: inf - mae: 3937.9150\n",
      "Epoch 23/150\n",
      "34/34 [==============================] - 0s 2ms/step - loss: inf - mae: 3504.0410\n",
      "Epoch 24/150\n",
      "34/34 [==============================] - 0s 2ms/step - loss: inf - mae: 2539.2520 \n",
      "Epoch 25/150\n",
      "34/34 [==============================] - 0s 2ms/step - loss: inf - mae: 2725.9688\n",
      "Epoch 26/150\n",
      "34/34 [==============================] - 0s 2ms/step - loss: inf - mae: 2926.4592\n",
      "Epoch 27/150\n",
      "34/34 [==============================] - 0s 2ms/step - loss: inf - mae: 2653.1550\n",
      "Epoch 28/150\n",
      "34/34 [==============================] - 0s 2ms/step - loss: inf - mae: 2666.6257\n",
      "Epoch 29/150\n",
      "34/34 [==============================] - 0s 2ms/step - loss: inf - mae: 3171.8967\n",
      "Epoch 30/150\n",
      "34/34 [==============================] - 0s 2ms/step - loss: inf - mae: 2779.6990\n",
      "Epoch 31/150\n",
      "34/34 [==============================] - 0s 2ms/step - loss: inf - mae: 2659.6331\n",
      "Epoch 32/150\n",
      "34/34 [==============================] - 0s 2ms/step - loss: inf - mae: 2640.0088\n",
      "Epoch 33/150\n",
      "34/34 [==============================] - 0s 2ms/step - loss: inf - mae: 2991.4719\n",
      "Epoch 34/150\n",
      "34/34 [==============================] - 0s 2ms/step - loss: inf - mae: 2391.8457\n",
      "Epoch 35/150\n",
      "34/34 [==============================] - 0s 2ms/step - loss: inf - mae: 2445.9377\n",
      "Epoch 36/150\n",
      "34/34 [==============================] - 0s 2ms/step - loss: inf - mae: 2493.8154\n",
      "Epoch 37/150\n",
      "34/34 [==============================] - 0s 2ms/step - loss: inf - mae: 3013.8621\n",
      "Epoch 38/150\n",
      "34/34 [==============================] - 0s 2ms/step - loss: inf - mae: 2484.6135\n",
      "Epoch 39/150\n",
      "34/34 [==============================] - 0s 2ms/step - loss: inf - mae: 2564.7444\n",
      "Epoch 40/150\n",
      "34/34 [==============================] - 0s 2ms/step - loss: inf - mae: 2466.1697\n",
      "Epoch 41/150\n",
      "34/34 [==============================] - 0s 2ms/step - loss: inf - mae: 2567.0945\n",
      "Epoch 42/150\n",
      "34/34 [==============================] - 0s 2ms/step - loss: inf - mae: 2476.6763\n",
      "Epoch 43/150\n",
      "34/34 [==============================] - 0s 2ms/step - loss: inf - mae: 2768.0842 \n",
      "Epoch 44/150\n",
      "34/34 [==============================] - 0s 2ms/step - loss: inf - mae: 2473.4360\n",
      "Epoch 45/150\n",
      "34/34 [==============================] - 0s 2ms/step - loss: inf - mae: 2315.6870\n",
      "Epoch 46/150\n",
      "34/34 [==============================] - 0s 2ms/step - loss: inf - mae: 2660.4214\n",
      "Epoch 47/150\n",
      "34/34 [==============================] - 0s 2ms/step - loss: inf - mae: 2538.9089\n",
      "Epoch 48/150\n",
      "34/34 [==============================] - 0s 2ms/step - loss: inf - mae: 2288.8276 \n",
      "Epoch 49/150\n",
      "34/34 [==============================] - 0s 2ms/step - loss: inf - mae: 2246.4790\n",
      "Epoch 50/150\n",
      "34/34 [==============================] - 0s 2ms/step - loss: inf - mae: 2667.9504\n",
      "Epoch 51/150\n",
      "34/34 [==============================] - 0s 2ms/step - loss: inf - mae: 2646.2935\n",
      "Epoch 52/150\n",
      "34/34 [==============================] - 0s 2ms/step - loss: inf - mae: 2458.7102 \n",
      "Epoch 53/150\n",
      "34/34 [==============================] - 0s 2ms/step - loss: inf - mae: 2304.2822\n",
      "Epoch 54/150\n",
      "34/34 [==============================] - 0s 2ms/step - loss: inf - mae: 2512.8242\n",
      "Epoch 55/150\n",
      "34/34 [==============================] - 0s 2ms/step - loss: inf - mae: 2481.8210 \n",
      "Epoch 56/150\n",
      "34/34 [==============================] - 0s 2ms/step - loss: inf - mae: 2911.6257\n",
      "Epoch 57/150\n",
      "34/34 [==============================] - 0s 2ms/step - loss: inf - mae: 2539.7188\n",
      "Epoch 58/150\n",
      "34/34 [==============================] - 0s 2ms/step - loss: inf - mae: 2630.3074\n",
      "Epoch 59/150\n",
      "34/34 [==============================] - 0s 2ms/step - loss: inf - mae: 2610.2341 \n",
      "Epoch 60/150\n",
      "34/34 [==============================] - 0s 2ms/step - loss: inf - mae: 2448.8225\n",
      "Epoch 61/150\n",
      "34/34 [==============================] - 0s 2ms/step - loss: inf - mae: 2597.0952\n",
      "Epoch 62/150\n",
      "34/34 [==============================] - 0s 2ms/step - loss: inf - mae: 2257.7673\n",
      "Epoch 63/150\n",
      "34/34 [==============================] - 0s 2ms/step - loss: inf - mae: inf \n",
      "Epoch 64/150\n",
      "34/34 [==============================] - 0s 2ms/step - loss: inf - mae: 2345.8159 \n",
      "Epoch 65/150\n",
      "34/34 [==============================] - 0s 2ms/step - loss: inf - mae: 2491.2000\n",
      "Epoch 66/150\n",
      "34/34 [==============================] - 0s 2ms/step - loss: inf - mae: 2497.9207 \n",
      "Epoch 67/150\n",
      "34/34 [==============================] - 0s 2ms/step - loss: inf - mae: 2257.0823\n",
      "Epoch 68/150\n",
      "34/34 [==============================] - 0s 2ms/step - loss: inf - mae: 2272.9561 \n",
      "Epoch 69/150\n",
      "34/34 [==============================] - 0s 2ms/step - loss: inf - mae: 2219.5776\n",
      "Epoch 70/150\n",
      "34/34 [==============================] - 0s 2ms/step - loss: inf - mae: 2408.8640 \n",
      "Epoch 71/150\n",
      "34/34 [==============================] - 0s 2ms/step - loss: inf - mae: 2521.6411\n",
      "Epoch 72/150\n",
      "34/34 [==============================] - 0s 2ms/step - loss: inf - mae: 2413.5654 \n",
      "Epoch 73/150\n",
      "34/34 [==============================] - 0s 2ms/step - loss: inf - mae: 2498.0103\n",
      "Epoch 74/150\n",
      "34/34 [==============================] - 0s 2ms/step - loss: inf - mae: 2281.8225 \n",
      "Epoch 75/150\n",
      "34/34 [==============================] - 0s 2ms/step - loss: inf - mae: 2425.2131\n",
      "Epoch 76/150\n",
      "34/34 [==============================] - 0s 2ms/step - loss: inf - mae: 2477.7852 \n",
      "Epoch 77/150\n",
      "34/34 [==============================] - 0s 2ms/step - loss: inf - mae: inf \n",
      "Epoch 78/150\n",
      "34/34 [==============================] - 0s 2ms/step - loss: inf - mae: inf \n",
      "Epoch 79/150\n",
      "34/34 [==============================] - 0s 2ms/step - loss: inf - mae: 2517.4692\n",
      "Epoch 80/150\n",
      "34/34 [==============================] - 0s 2ms/step - loss: inf - mae: 2421.4214 \n",
      "Epoch 81/150\n",
      "34/34 [==============================] - 0s 2ms/step - loss: inf - mae: 2351.7383\n",
      "Epoch 82/150\n",
      "34/34 [==============================] - 0s 2ms/step - loss: inf - mae: 2397.1375\n",
      "Epoch 83/150\n",
      "34/34 [==============================] - 0s 2ms/step - loss: inf - mae: 2444.9868\n",
      "Epoch 84/150\n",
      "34/34 [==============================] - 0s 2ms/step - loss: inf - mae: 2299.0010 \n",
      "Epoch 85/150\n",
      "34/34 [==============================] - 0s 2ms/step - loss: inf - mae: inf       \n",
      "Epoch 86/150\n",
      "34/34 [==============================] - 0s 2ms/step - loss: inf - mae: 2384.1057\n",
      "Epoch 87/150\n",
      "34/34 [==============================] - 0s 2ms/step - loss: inf - mae: 2900.7786 \n",
      "Epoch 88/150\n",
      "34/34 [==============================] - 0s 2ms/step - loss: inf - mae: 2325.2852 \n",
      "Epoch 89/150\n",
      "34/34 [==============================] - 0s 2ms/step - loss: inf - mae: inf     \n",
      "Epoch 90/150\n",
      "34/34 [==============================] - 0s 2ms/step - loss: inf - mae: 2338.3560\n",
      "Epoch 91/150\n",
      "34/34 [==============================] - 0s 2ms/step - loss: inf - mae: 2271.0515 \n",
      "Epoch 92/150\n",
      "34/34 [==============================] - 0s 2ms/step - loss: inf - mae: 2453.7300\n",
      "Epoch 93/150\n",
      "34/34 [==============================] - 0s 2ms/step - loss: inf - mae: 2452.3850\n",
      "Epoch 94/150\n",
      "34/34 [==============================] - 0s 2ms/step - loss: inf - mae: 2522.5889\n",
      "Epoch 95/150\n",
      "34/34 [==============================] - 0s 2ms/step - loss: inf - mae: 2322.4158 \n",
      "Epoch 96/150\n",
      "34/34 [==============================] - 0s 2ms/step - loss: inf - mae: 2167.7878\n",
      "Epoch 97/150\n",
      "34/34 [==============================] - 0s 2ms/step - loss: inf - mae: 2493.7163\n",
      "Epoch 98/150\n",
      "34/34 [==============================] - 0s 2ms/step - loss: inf - mae: 2392.9167 \n",
      "Epoch 99/150\n",
      "34/34 [==============================] - 0s 2ms/step - loss: inf - mae: 2279.4597 \n",
      "Epoch 100/150\n",
      "34/34 [==============================] - 0s 2ms/step - loss: inf - mae: 2360.3721 \n",
      "Epoch 101/150\n",
      "34/34 [==============================] - 0s 2ms/step - loss: inf - mae: 2257.4570 \n",
      "Epoch 102/150\n",
      "34/34 [==============================] - 0s 2ms/step - loss: inf - mae: 2340.0588\n",
      "Epoch 103/150\n",
      "34/34 [==============================] - 0s 2ms/step - loss: inf - mae: 2296.5347 \n",
      "Epoch 104/150\n",
      "34/34 [==============================] - 0s 2ms/step - loss: inf - mae: 2468.2852\n",
      "Epoch 105/150\n",
      "34/34 [==============================] - 0s 2ms/step - loss: inf - mae: 2378.9570 \n",
      "Epoch 106/150\n",
      "34/34 [==============================] - 0s 2ms/step - loss: inf - mae: 2336.6223\n",
      "Epoch 107/150\n",
      "34/34 [==============================] - 0s 2ms/step - loss: inf - mae: 2385.2898\n",
      "Epoch 108/150\n",
      "34/34 [==============================] - 0s 2ms/step - loss: inf - mae: 2595.5654 \n",
      "Epoch 109/150\n",
      "34/34 [==============================] - 0s 2ms/step - loss: inf - mae: inf \n",
      "Epoch 110/150\n",
      "34/34 [==============================] - 0s 2ms/step - loss: inf - mae: 2309.6655\n",
      "Epoch 111/150\n",
      "34/34 [==============================] - 0s 2ms/step - loss: inf - mae: 2263.0037\n",
      "Epoch 112/150\n",
      "34/34 [==============================] - 0s 2ms/step - loss: inf - mae: 2494.6084\n",
      "Epoch 113/150\n",
      "34/34 [==============================] - 0s 2ms/step - loss: inf - mae: 2235.1223 \n",
      "Epoch 114/150\n",
      "34/34 [==============================] - 0s 2ms/step - loss: inf - mae: 2177.6448 \n",
      "Epoch 115/150\n",
      "34/34 [==============================] - 0s 2ms/step - loss: inf - mae: inf \n",
      "Epoch 116/150\n",
      "34/34 [==============================] - 0s 2ms/step - loss: inf - mae: 2358.4851\n",
      "Epoch 117/150\n",
      "34/34 [==============================] - 0s 2ms/step - loss: inf - mae: 2345.4299 \n",
      "Epoch 118/150\n",
      "34/34 [==============================] - 0s 2ms/step - loss: inf - mae: 2219.1702 \n",
      "Epoch 119/150\n",
      "34/34 [==============================] - 0s 2ms/step - loss: inf - mae: 2525.7163\n",
      "Epoch 120/150\n",
      "34/34 [==============================] - 0s 2ms/step - loss: inf - mae: 2567.0505\n",
      "Epoch 121/150\n",
      "34/34 [==============================] - 0s 2ms/step - loss: inf - mae: 2241.7690\n",
      "Epoch 122/150\n",
      "34/34 [==============================] - 0s 2ms/step - loss: inf - mae: 2256.2546\n",
      "Epoch 123/150\n",
      "34/34 [==============================] - 0s 2ms/step - loss: inf - mae: 2392.5618\n",
      "Epoch 124/150\n",
      "34/34 [==============================] - 0s 2ms/step - loss: inf - mae: 2278.7878 \n",
      "Epoch 125/150\n",
      "34/34 [==============================] - 0s 2ms/step - loss: inf - mae: 2518.0681\n",
      "Epoch 126/150\n",
      "34/34 [==============================] - 0s 2ms/step - loss: inf - mae: 2420.9075\n",
      "Epoch 127/150\n",
      "34/34 [==============================] - 0s 2ms/step - loss: inf - mae: inf  \n",
      "Epoch 128/150\n",
      "34/34 [==============================] - 0s 2ms/step - loss: inf - mae: 2433.3589\n",
      "Epoch 129/150\n",
      "34/34 [==============================] - 0s 2ms/step - loss: inf - mae: 2296.6140\n",
      "Epoch 130/150\n",
      "34/34 [==============================] - 0s 2ms/step - loss: inf - mae: 2283.7373 \n",
      "Epoch 131/150\n",
      "34/34 [==============================] - 0s 2ms/step - loss: inf - mae: 2211.3328\n",
      "Epoch 132/150\n",
      "34/34 [==============================] - 0s 2ms/step - loss: inf - mae: 2304.4448\n",
      "Epoch 133/150\n",
      "34/34 [==============================] - 0s 2ms/step - loss: inf - mae: 2484.1008\n",
      "Epoch 134/150\n",
      "34/34 [==============================] - 0s 2ms/step - loss: inf - mae: 2397.4673 \n",
      "Epoch 135/150\n",
      "34/34 [==============================] - 0s 2ms/step - loss: inf - mae: 2212.4729 \n",
      "Epoch 136/150\n",
      "34/34 [==============================] - 0s 2ms/step - loss: inf - mae: inf       \n",
      "Epoch 137/150\n",
      "34/34 [==============================] - 0s 2ms/step - loss: inf - mae: 2317.2852 \n",
      "Epoch 138/150\n",
      "34/34 [==============================] - 0s 2ms/step - loss: inf - mae: 2273.3804\n",
      "Epoch 139/150\n",
      "34/34 [==============================] - 0s 2ms/step - loss: inf - mae: 2130.1934 \n",
      "Epoch 140/150\n",
      "34/34 [==============================] - 0s 2ms/step - loss: inf - mae: 2227.0598 \n",
      "Epoch 141/150\n",
      "34/34 [==============================] - 0s 2ms/step - loss: inf - mae: 2100.0598\n",
      "Epoch 142/150\n",
      "34/34 [==============================] - 0s 2ms/step - loss: inf - mae: 2385.8728\n",
      "Epoch 143/150\n",
      "34/34 [==============================] - 0s 2ms/step - loss: inf - mae: 2198.6443 \n",
      "Epoch 144/150\n",
      "34/34 [==============================] - 0s 2ms/step - loss: inf - mae: 2392.2771 \n",
      "Epoch 145/150\n",
      "34/34 [==============================] - 0s 2ms/step - loss: inf - mae: 2181.7852\n",
      "Epoch 146/150\n",
      "34/34 [==============================] - 0s 2ms/step - loss: inf - mae: 2208.4084\n",
      "Epoch 147/150\n",
      "34/34 [==============================] - 0s 2ms/step - loss: inf - mae: 2281.3018\n",
      "Epoch 148/150\n",
      "34/34 [==============================] - 0s 2ms/step - loss: inf - mae: 2601.0833\n",
      "Epoch 149/150\n",
      "34/34 [==============================] - 0s 2ms/step - loss: inf - mae: 2310.3220\n",
      "Epoch 150/150\n",
      "34/34 [==============================] - 0s 2ms/step - loss: inf - mae: 2308.8083 \n"
     ]
    }
   ],
   "source": [
    "tf.random.set_seed(42)\n",
    "df_model_3 = tf.keras.Sequential([\n",
    "    tf.keras.layers.Dense(100,activation='relu'),\n",
    "    tf.keras.layers.Dense(10,activation='relu'),\n",
    "    tf.keras.layers.Dense(100,activation='relu'),\n",
    "    tf.keras.layers.Dense(100,activation='relu'),\n",
    "    tf.keras.layers.Dense(1),\n",
    "])\n",
    "df_model_3.compile(\n",
    "    loss=tf.keras.losses.mae,\n",
    "    optimizer=tf.keras.optimizers.Adam(0.1),\n",
    "    metrics=[\"mae\"]\n",
    ")\n",
    "history = df_model_3.fit(X_train,y_train,epochs=150)"
   ]
  },
  {
   "cell_type": "code",
   "execution_count": 67,
   "metadata": {
    "colab": {
     "base_uri": "https://localhost:8080/"
    },
    "executionInfo": {
     "elapsed": 13,
     "status": "ok",
     "timestamp": 1673953627187,
     "user": {
      "displayName": "Ujjwal Mk",
      "userId": "12008983132848472926"
     },
     "user_tz": -330
    },
    "id": "9zjuB43z8ZUe",
    "outputId": "03ddd881-0212-4a8f-86b8-6bca43083eca"
   },
   "outputs": [
    {
     "name": "stdout",
     "output_type": "stream",
     "text": [
      "9/9 [==============================] - 0s 1ms/step - loss: inf - mae: 2427.9441\n"
     ]
    },
    {
     "data": {
      "text/plain": [
       "[inf, 2427.944091796875]"
      ]
     },
     "execution_count": 67,
     "metadata": {},
     "output_type": "execute_result"
    }
   ],
   "source": [
    "df_model_3.evaluate(X_test,y_test)"
   ]
  },
  {
   "cell_type": "code",
   "execution_count": 68,
   "metadata": {
    "colab": {
     "base_uri": "https://localhost:8080/",
     "height": 297
    },
    "executionInfo": {
     "elapsed": 590,
     "status": "ok",
     "timestamp": 1673953627766,
     "user": {
      "displayName": "Ujjwal Mk",
      "userId": "12008983132848472926"
     },
     "user_tz": -330
    },
    "id": "sajTgJB98k54",
    "outputId": "239ab560-b10d-44d9-adc6-5ca9a0cbc8ca"
   },
   "outputs": [
    {
     "data": {
      "text/plain": [
       "Text(0.5, 0, 'epochs')"
      ]
     },
     "execution_count": 68,
     "metadata": {},
     "output_type": "execute_result"
    },
    {
     "data": {
      "image/png": "[encoded data removed]",
      "text/plain": [
       "<Figure size 640x480 with 1 Axes>"
      ]
     },
     "metadata": {},
     "output_type": "display_data"
    }
   ],
   "source": [
    "# Plot history (also known as a loss curve or training curve)\n",
    "pd.DataFrame(history.history).plot()\n",
    "plt.ylabel(\"loss\")\n",
    "plt.xlabel(\"epochs\")"
   ]
  },
  {
   "cell_type": "markdown",
   "metadata": {
    "id": "ns7iOsbtLd7o"
   },
   "source": [
    "## Preprocessing data (normalizarion and standardization)"
   ]
  },
  {
   "cell_type": "code",
   "execution_count": 69,
   "metadata": {
    "colab": {
     "base_uri": "https://localhost:8080/",
     "height": 483
    },
    "executionInfo": {
     "elapsed": 40,
     "status": "ok",
     "timestamp": 1673953627766,
     "user": {
      "displayName": "Ujjwal Mk",
      "userId": "12008983132848472926"
     },
     "user_tz": -330
    },
    "id": "vd17uMbLNepc",
    "outputId": "ffebcf56-3220-460d-acea-67c5e9106caa"
   },
   "outputs": [
    {
     "data": {
      "text/html": [
       "<div>\n",
       "<style scoped>\n",
       "    .dataframe tbody tr th:only-of-type {\n",
       "        vertical-align: middle;\n",
       "    }\n",
       "\n",
       "    .dataframe tbody tr th {\n",
       "        vertical-align: top;\n",
       "    }\n",
       "\n",
       "    .dataframe thead th {\n",
       "        text-align: right;\n",
       "    }\n",
       "</style>\n",
       "<table border=\"1\" class=\"dataframe\">\n",
       "  <thead>\n",
       "    <tr style=\"text-align: right;\">\n",
       "      <th></th>\n",
       "      <th>age</th>\n",
       "      <th>bmi</th>\n",
       "      <th>children</th>\n",
       "      <th>sex_female</th>\n",
       "      <th>sex_male</th>\n",
       "      <th>smoker_no</th>\n",
       "      <th>smoker_yes</th>\n",
       "      <th>region_northeast</th>\n",
       "      <th>region_northwest</th>\n",
       "      <th>region_southeast</th>\n",
       "      <th>region_southwest</th>\n",
       "    </tr>\n",
       "  </thead>\n",
       "  <tbody>\n",
       "    <tr>\n",
       "      <th>0</th>\n",
       "      <td>19</td>\n",
       "      <td>27.900</td>\n",
       "      <td>0</td>\n",
       "      <td>True</td>\n",
       "      <td>False</td>\n",
       "      <td>False</td>\n",
       "      <td>True</td>\n",
       "      <td>False</td>\n",
       "      <td>False</td>\n",
       "      <td>False</td>\n",
       "      <td>True</td>\n",
       "    </tr>\n",
       "    <tr>\n",
       "      <th>1</th>\n",
       "      <td>18</td>\n",
       "      <td>33.770</td>\n",
       "      <td>1</td>\n",
       "      <td>False</td>\n",
       "      <td>True</td>\n",
       "      <td>True</td>\n",
       "      <td>False</td>\n",
       "      <td>False</td>\n",
       "      <td>False</td>\n",
       "      <td>True</td>\n",
       "      <td>False</td>\n",
       "    </tr>\n",
       "    <tr>\n",
       "      <th>2</th>\n",
       "      <td>28</td>\n",
       "      <td>33.000</td>\n",
       "      <td>3</td>\n",
       "      <td>False</td>\n",
       "      <td>True</td>\n",
       "      <td>True</td>\n",
       "      <td>False</td>\n",
       "      <td>False</td>\n",
       "      <td>False</td>\n",
       "      <td>True</td>\n",
       "      <td>False</td>\n",
       "    </tr>\n",
       "    <tr>\n",
       "      <th>3</th>\n",
       "      <td>33</td>\n",
       "      <td>22.705</td>\n",
       "      <td>0</td>\n",
       "      <td>False</td>\n",
       "      <td>True</td>\n",
       "      <td>True</td>\n",
       "      <td>False</td>\n",
       "      <td>False</td>\n",
       "      <td>True</td>\n",
       "      <td>False</td>\n",
       "      <td>False</td>\n",
       "    </tr>\n",
       "    <tr>\n",
       "      <th>4</th>\n",
       "      <td>32</td>\n",
       "      <td>28.880</td>\n",
       "      <td>0</td>\n",
       "      <td>False</td>\n",
       "      <td>True</td>\n",
       "      <td>True</td>\n",
       "      <td>False</td>\n",
       "      <td>False</td>\n",
       "      <td>True</td>\n",
       "      <td>False</td>\n",
       "      <td>False</td>\n",
       "    </tr>\n",
       "    <tr>\n",
       "      <th>...</th>\n",
       "      <td>...</td>\n",
       "      <td>...</td>\n",
       "      <td>...</td>\n",
       "      <td>...</td>\n",
       "      <td>...</td>\n",
       "      <td>...</td>\n",
       "      <td>...</td>\n",
       "      <td>...</td>\n",
       "      <td>...</td>\n",
       "      <td>...</td>\n",
       "      <td>...</td>\n",
       "    </tr>\n",
       "    <tr>\n",
       "      <th>1333</th>\n",
       "      <td>50</td>\n",
       "      <td>30.970</td>\n",
       "      <td>3</td>\n",
       "      <td>False</td>\n",
       "      <td>True</td>\n",
       "      <td>True</td>\n",
       "      <td>False</td>\n",
       "      <td>False</td>\n",
       "      <td>True</td>\n",
       "      <td>False</td>\n",
       "      <td>False</td>\n",
       "    </tr>\n",
       "    <tr>\n",
       "      <th>1334</th>\n",
       "      <td>18</td>\n",
       "      <td>31.920</td>\n",
       "      <td>0</td>\n",
       "      <td>True</td>\n",
       "      <td>False</td>\n",
       "      <td>True</td>\n",
       "      <td>False</td>\n",
       "      <td>True</td>\n",
       "      <td>False</td>\n",
       "      <td>False</td>\n",
       "      <td>False</td>\n",
       "    </tr>\n",
       "    <tr>\n",
       "      <th>1335</th>\n",
       "      <td>18</td>\n",
       "      <td>36.850</td>\n",
       "      <td>0</td>\n",
       "      <td>True</td>\n",
       "      <td>False</td>\n",
       "      <td>True</td>\n",
       "      <td>False</td>\n",
       "      <td>False</td>\n",
       "      <td>False</td>\n",
       "      <td>True</td>\n",
       "      <td>False</td>\n",
       "    </tr>\n",
       "    <tr>\n",
       "      <th>1336</th>\n",
       "      <td>21</td>\n",
       "      <td>25.800</td>\n",
       "      <td>0</td>\n",
       "      <td>True</td>\n",
       "      <td>False</td>\n",
       "      <td>True</td>\n",
       "      <td>False</td>\n",
       "      <td>False</td>\n",
       "      <td>False</td>\n",
       "      <td>False</td>\n",
       "      <td>True</td>\n",
       "    </tr>\n",
       "    <tr>\n",
       "      <th>1337</th>\n",
       "      <td>61</td>\n",
       "      <td>29.070</td>\n",
       "      <td>0</td>\n",
       "      <td>True</td>\n",
       "      <td>False</td>\n",
       "      <td>False</td>\n",
       "      <td>True</td>\n",
       "      <td>False</td>\n",
       "      <td>True</td>\n",
       "      <td>False</td>\n",
       "      <td>False</td>\n",
       "    </tr>\n",
       "  </tbody>\n",
       "</table>\n",
       "<p>1338 rows × 11 columns</p>\n",
       "</div>"
      ],
      "text/plain": [
       "      age     bmi  children  sex_female  sex_male  smoker_no  smoker_yes  \\\n",
       "0      19  27.900         0        True     False      False        True   \n",
       "1      18  33.770         1       False      True       True       False   \n",
       "2      28  33.000         3       False      True       True       False   \n",
       "3      33  22.705         0       False      True       True       False   \n",
       "4      32  28.880         0       False      True       True       False   \n",
       "...   ...     ...       ...         ...       ...        ...         ...   \n",
       "1333   50  30.970         3       False      True       True       False   \n",
       "1334   18  31.920         0        True     False       True       False   \n",
       "1335   18  36.850         0        True     False       True       False   \n",
       "1336   21  25.800         0        True     False       True       False   \n",
       "1337   61  29.070         0        True     False      False        True   \n",
       "\n",
       "      region_northeast  region_northwest  region_southeast  region_southwest  \n",
       "0                False             False             False              True  \n",
       "1                False             False              True             False  \n",
       "2                False             False              True             False  \n",
       "3                False              True             False             False  \n",
       "4                False              True             False             False  \n",
       "...                ...               ...               ...               ...  \n",
       "1333             False              True             False             False  \n",
       "1334              True             False             False             False  \n",
       "1335             False             False              True             False  \n",
       "1336             False             False             False              True  \n",
       "1337             False              True             False             False  \n",
       "\n",
       "[1338 rows x 11 columns]"
      ]
     },
     "execution_count": 69,
     "metadata": {},
     "output_type": "execute_result"
    }
   ],
   "source": [
    "X"
   ]
  },
  {
   "cell_type": "code",
   "execution_count": 70,
   "metadata": {
    "colab": {
     "base_uri": "https://localhost:8080/",
     "height": 419
    },
    "executionInfo": {
     "elapsed": 39,
     "status": "ok",
     "timestamp": 1673953627767,
     "user": {
      "displayName": "Ujjwal Mk",
      "userId": "12008983132848472926"
     },
     "user_tz": -330
    },
    "id": "cLzFyXnY0D2i",
    "outputId": "322f2d8b-ced4-4bff-8e24-9284cbb0bfa2"
   },
   "outputs": [
    {
     "data": {
      "text/html": [
       "<div>\n",
       "<style scoped>\n",
       "    .dataframe tbody tr th:only-of-type {\n",
       "        vertical-align: middle;\n",
       "    }\n",
       "\n",
       "    .dataframe tbody tr th {\n",
       "        vertical-align: top;\n",
       "    }\n",
       "\n",
       "    .dataframe thead th {\n",
       "        text-align: right;\n",
       "    }\n",
       "</style>\n",
       "<table border=\"1\" class=\"dataframe\">\n",
       "  <thead>\n",
       "    <tr style=\"text-align: right;\">\n",
       "      <th></th>\n",
       "      <th>age</th>\n",
       "      <th>sex</th>\n",
       "      <th>bmi</th>\n",
       "      <th>children</th>\n",
       "      <th>smoker</th>\n",
       "      <th>region</th>\n",
       "      <th>charges</th>\n",
       "    </tr>\n",
       "  </thead>\n",
       "  <tbody>\n",
       "    <tr>\n",
       "      <th>0</th>\n",
       "      <td>19</td>\n",
       "      <td>female</td>\n",
       "      <td>27.900</td>\n",
       "      <td>0</td>\n",
       "      <td>yes</td>\n",
       "      <td>southwest</td>\n",
       "      <td>16884.92400</td>\n",
       "    </tr>\n",
       "    <tr>\n",
       "      <th>1</th>\n",
       "      <td>18</td>\n",
       "      <td>male</td>\n",
       "      <td>33.770</td>\n",
       "      <td>1</td>\n",
       "      <td>no</td>\n",
       "      <td>southeast</td>\n",
       "      <td>1725.55230</td>\n",
       "    </tr>\n",
       "    <tr>\n",
       "      <th>2</th>\n",
       "      <td>28</td>\n",
       "      <td>male</td>\n",
       "      <td>33.000</td>\n",
       "      <td>3</td>\n",
       "      <td>no</td>\n",
       "      <td>southeast</td>\n",
       "      <td>4449.46200</td>\n",
       "    </tr>\n",
       "    <tr>\n",
       "      <th>3</th>\n",
       "      <td>33</td>\n",
       "      <td>male</td>\n",
       "      <td>22.705</td>\n",
       "      <td>0</td>\n",
       "      <td>no</td>\n",
       "      <td>northwest</td>\n",
       "      <td>21984.47061</td>\n",
       "    </tr>\n",
       "    <tr>\n",
       "      <th>4</th>\n",
       "      <td>32</td>\n",
       "      <td>male</td>\n",
       "      <td>28.880</td>\n",
       "      <td>0</td>\n",
       "      <td>no</td>\n",
       "      <td>northwest</td>\n",
       "      <td>3866.85520</td>\n",
       "    </tr>\n",
       "    <tr>\n",
       "      <th>...</th>\n",
       "      <td>...</td>\n",
       "      <td>...</td>\n",
       "      <td>...</td>\n",
       "      <td>...</td>\n",
       "      <td>...</td>\n",
       "      <td>...</td>\n",
       "      <td>...</td>\n",
       "    </tr>\n",
       "    <tr>\n",
       "      <th>1333</th>\n",
       "      <td>50</td>\n",
       "      <td>male</td>\n",
       "      <td>30.970</td>\n",
       "      <td>3</td>\n",
       "      <td>no</td>\n",
       "      <td>northwest</td>\n",
       "      <td>10600.54830</td>\n",
       "    </tr>\n",
       "    <tr>\n",
       "      <th>1334</th>\n",
       "      <td>18</td>\n",
       "      <td>female</td>\n",
       "      <td>31.920</td>\n",
       "      <td>0</td>\n",
       "      <td>no</td>\n",
       "      <td>northeast</td>\n",
       "      <td>2205.98080</td>\n",
       "    </tr>\n",
       "    <tr>\n",
       "      <th>1335</th>\n",
       "      <td>18</td>\n",
       "      <td>female</td>\n",
       "      <td>36.850</td>\n",
       "      <td>0</td>\n",
       "      <td>no</td>\n",
       "      <td>southeast</td>\n",
       "      <td>1629.83350</td>\n",
       "    </tr>\n",
       "    <tr>\n",
       "      <th>1336</th>\n",
       "      <td>21</td>\n",
       "      <td>female</td>\n",
       "      <td>25.800</td>\n",
       "      <td>0</td>\n",
       "      <td>no</td>\n",
       "      <td>southwest</td>\n",
       "      <td>2007.94500</td>\n",
       "    </tr>\n",
       "    <tr>\n",
       "      <th>1337</th>\n",
       "      <td>61</td>\n",
       "      <td>female</td>\n",
       "      <td>29.070</td>\n",
       "      <td>0</td>\n",
       "      <td>yes</td>\n",
       "      <td>northwest</td>\n",
       "      <td>29141.36030</td>\n",
       "    </tr>\n",
       "  </tbody>\n",
       "</table>\n",
       "<p>1338 rows × 7 columns</p>\n",
       "</div>"
      ],
      "text/plain": [
       "      age     sex     bmi  children smoker     region      charges\n",
       "0      19  female  27.900         0    yes  southwest  16884.92400\n",
       "1      18    male  33.770         1     no  southeast   1725.55230\n",
       "2      28    male  33.000         3     no  southeast   4449.46200\n",
       "3      33    male  22.705         0     no  northwest  21984.47061\n",
       "4      32    male  28.880         0     no  northwest   3866.85520\n",
       "...   ...     ...     ...       ...    ...        ...          ...\n",
       "1333   50    male  30.970         3     no  northwest  10600.54830\n",
       "1334   18  female  31.920         0     no  northeast   2205.98080\n",
       "1335   18  female  36.850         0     no  southeast   1629.83350\n",
       "1336   21  female  25.800         0     no  southwest   2007.94500\n",
       "1337   61  female  29.070         0    yes  northwest  29141.36030\n",
       "\n",
       "[1338 rows x 7 columns]"
      ]
     },
     "execution_count": 70,
     "metadata": {},
     "output_type": "execute_result"
    }
   ],
   "source": [
    "import pandas as pd\n",
    "import matplotlib.pyplot as plt\n",
    "import tensorflow as tf\n",
    "\n",
    "df = pd.read_csv(\"https://raw.githubusercontent.com/stedy/Machine-Learning-with-R-datasets/master/insurance.csv\")\n",
    "df"
   ]
  },
  {
   "cell_type": "code",
   "execution_count": 71,
   "metadata": {
    "executionInfo": {
     "elapsed": 38,
     "status": "ok",
     "timestamp": 1673953627767,
     "user": {
      "displayName": "Ujjwal Mk",
      "userId": "12008983132848472926"
     },
     "user_tz": -330
    },
    "id": "AcNh9lpv0Tu2"
   },
   "outputs": [],
   "source": [
    "from sklearn.compose import make_column_transformer\n",
    "from sklearn.preprocessing import MinMaxScaler, OneHotEncoder\n",
    "from sklearn.model_selection import train_test_split\n",
    "\n",
    "# Create a column transformer\n",
    "ct = make_column_transformer(\n",
    "    (MinMaxScaler(),[\"age\",\"bmi\",\"children\"]),\n",
    "    (OneHotEncoder(handle_unknown='ignore'),[\"sex\",\"smoker\",\"region\"])\n",
    ")\n",
    "\n",
    "# Create X and y values\n",
    "X = df.drop(\"charges\",axis=1)\n",
    "y=df[\"charges\"]\n",
    "\n",
    "# Build train,test dataset\n",
    "X_train,X_test,y_train,y_test = train_test_split(X,y,test_size=0.2,random_state=42)\n",
    "\n",
    "# Fit the column transformer to the training data\n",
    "ct.fit(X_train)\n",
    "\n",
    "#Transform training and test data with normalization (MinMaxScaler) and OneHotEncoder\n",
    "X_train_normal = ct.transform(X_train)\n",
    "X_test_normal = ct.transform(X_test)"
   ]
  },
  {
   "cell_type": "code",
   "execution_count": 72,
   "metadata": {
    "colab": {
     "base_uri": "https://localhost:8080/"
    },
    "executionInfo": {
     "elapsed": 37,
     "status": "ok",
     "timestamp": 1673953627767,
     "user": {
      "displayName": "Ujjwal Mk",
      "userId": "12008983132848472926"
     },
     "user_tz": -330
    },
    "id": "C5RxIhON3A7N",
    "outputId": "9eb3ac73-a67f-46d8-dde1-fd82ec20eea9"
   },
   "outputs": [
    {
     "data": {
      "text/plain": [
       "age                19\n",
       "sex            female\n",
       "bmi              27.9\n",
       "children            0\n",
       "smoker            yes\n",
       "region      southwest\n",
       "Name: 0, dtype: object"
      ]
     },
     "execution_count": 72,
     "metadata": {},
     "output_type": "execute_result"
    }
   ],
   "source": [
    "# What does our data look like now\n",
    "X_train.loc[0]"
   ]
  },
  {
   "cell_type": "code",
   "execution_count": 73,
   "metadata": {
    "colab": {
     "base_uri": "https://localhost:8080/"
    },
    "executionInfo": {
     "elapsed": 27,
     "status": "ok",
     "timestamp": 1673953627767,
     "user": {
      "displayName": "Ujjwal Mk",
      "userId": "12008983132848472926"
     },
     "user_tz": -330
    },
    "id": "B7zm00X-5h0a",
    "outputId": "b1499514-157f-425e-8cde-4a731b6a2eda"
   },
   "outputs": [
    {
     "data": {
      "text/plain": [
       "array([[0.60869565, 0.10734463, 0.4       , ..., 1.        , 0.        ,\n",
       "        0.        ],\n",
       "       [0.63043478, 0.22491256, 0.        , ..., 0.        , 0.        ,\n",
       "        0.        ],\n",
       "       [0.73913043, 0.23944041, 0.        , ..., 0.        , 1.        ,\n",
       "        0.        ],\n",
       "       ...,\n",
       "       [0.86956522, 0.24791499, 0.        , ..., 0.        , 0.        ,\n",
       "        0.        ],\n",
       "       [0.41304348, 0.85122411, 0.4       , ..., 0.        , 0.        ,\n",
       "        1.        ],\n",
       "       [0.80434783, 0.37503363, 0.        , ..., 0.        , 0.        ,\n",
       "        1.        ]])"
      ]
     },
     "execution_count": 73,
     "metadata": {},
     "output_type": "execute_result"
    }
   ],
   "source": [
    "X_train_normal"
   ]
  },
  {
   "cell_type": "code",
   "execution_count": 74,
   "metadata": {
    "colab": {
     "base_uri": "https://localhost:8080/"
    },
    "executionInfo": {
     "elapsed": 19,
     "status": "ok",
     "timestamp": 1673953627767,
     "user": {
      "displayName": "Ujjwal Mk",
      "userId": "12008983132848472926"
     },
     "user_tz": -330
    },
    "id": "hK54lmze5nQT",
    "outputId": "b64768c0-2ddf-4e29-d49d-acdde07f8553"
   },
   "outputs": [
    {
     "data": {
      "text/plain": [
       "((1070, 6), (1070, 11))"
      ]
     },
     "execution_count": 74,
     "metadata": {},
     "output_type": "execute_result"
    }
   ],
   "source": [
    "X_train.shape,X_train_normal.shape"
   ]
  },
  {
   "cell_type": "code",
   "execution_count": 75,
   "metadata": {
    "colab": {
     "base_uri": "https://localhost:8080/"
    },
    "executionInfo": {
     "elapsed": 20920,
     "status": "ok",
     "timestamp": 1673953648676,
     "user": {
      "displayName": "Ujjwal Mk",
      "userId": "12008983132848472926"
     },
     "user_tz": -330
    },
    "id": "e0YyJybg54N8",
    "outputId": "429bbbcf-d794-4e69-9d0b-f300fac1833a"
   },
   "outputs": [
    {
     "name": "stdout",
     "output_type": "stream",
     "text": [
      "Epoch 1/150\n",
      "34/34 [==============================] - 1s 2ms/step - loss: inf - mae: 13148.9492\n",
      "Epoch 2/150\n",
      "34/34 [==============================] - 0s 2ms/step - loss: inf - mae: 9654.6895\n",
      "Epoch 3/150\n",
      "34/34 [==============================] - 0s 2ms/step - loss: inf - mae: 7680.1860\n",
      "Epoch 4/150\n",
      "34/34 [==============================] - 0s 2ms/step - loss: inf - mae: 6744.1450\n",
      "Epoch 5/150\n",
      "34/34 [==============================] - 0s 1ms/step - loss: inf - mae: 5326.0288\n",
      "Epoch 6/150\n",
      "34/34 [==============================] - 0s 1ms/step - loss: inf - mae: 3993.4270\n",
      "Epoch 7/150\n",
      "34/34 [==============================] - 0s 1ms/step - loss: inf - mae: 3601.4617\n",
      "Epoch 8/150\n",
      "34/34 [==============================] - 0s 1ms/step - loss: inf - mae: 3478.9570\n",
      "Epoch 9/150\n",
      "34/34 [==============================] - 0s 2ms/step - loss: inf - mae: 3354.4089\n",
      "Epoch 10/150\n",
      "34/34 [==============================] - 0s 2ms/step - loss: inf - mae: 3312.3896 \n",
      "Epoch 11/150\n",
      "34/34 [==============================] - 0s 2ms/step - loss: inf - mae: 3249.0571\n",
      "Epoch 12/150\n",
      "34/34 [==============================] - 0s 2ms/step - loss: inf - mae: 3225.3298\n",
      "Epoch 13/150\n",
      "34/34 [==============================] - 0s 2ms/step - loss: inf - mae: 3225.9084\n",
      "Epoch 14/150\n",
      "34/34 [==============================] - 0s 2ms/step - loss: inf - mae: 3221.9917\n",
      "Epoch 15/150\n",
      "34/34 [==============================] - 0s 2ms/step - loss: inf - mae: 3215.2627\n",
      "Epoch 16/150\n",
      "34/34 [==============================] - 0s 1ms/step - loss: inf - mae: 3204.3721\n",
      "Epoch 17/150\n",
      "34/34 [==============================] - 0s 1ms/step - loss: inf - mae: 3221.3589\n",
      "Epoch 18/150\n",
      "34/34 [==============================] - 0s 1ms/step - loss: inf - mae: 3209.6877\n",
      "Epoch 19/150\n",
      "34/34 [==============================] - 0s 2ms/step - loss: inf - mae: 3199.0674\n",
      "Epoch 20/150\n",
      "34/34 [==============================] - 0s 2ms/step - loss: inf - mae: 3189.4646\n",
      "Epoch 21/150\n",
      "34/34 [==============================] - 0s 2ms/step - loss: inf - mae: 3187.2505\n",
      "Epoch 22/150\n",
      "34/34 [==============================] - 0s 2ms/step - loss: inf - mae: 3183.6550\n",
      "Epoch 23/150\n",
      "34/34 [==============================] - 0s 2ms/step - loss: inf - mae: 3183.0906  \n",
      "Epoch 24/150\n",
      "34/34 [==============================] - 0s 2ms/step - loss: inf - mae: 3160.8701 \n",
      "Epoch 25/150\n",
      "34/34 [==============================] - 0s 2ms/step - loss: inf - mae: 3165.6262\n",
      "Epoch 26/150\n",
      "34/34 [==============================] - 0s 2ms/step - loss: inf - mae: 3146.6113\n",
      "Epoch 27/150\n",
      "34/34 [==============================] - 0s 2ms/step - loss: inf - mae: 3145.0046\n",
      "Epoch 28/150\n",
      "34/34 [==============================] - 0s 1ms/step - loss: inf - mae: 3121.0916\n",
      "Epoch 29/150\n",
      "34/34 [==============================] - 0s 2ms/step - loss: inf - mae: 3111.4868  \n",
      "Epoch 30/150\n",
      "34/34 [==============================] - 0s 2ms/step - loss: inf - mae: 3080.5168\n",
      "Epoch 31/150\n",
      "34/34 [==============================] - 0s 2ms/step - loss: inf - mae: 3071.6775\n",
      "Epoch 32/150\n",
      "34/34 [==============================] - 0s 2ms/step - loss: inf - mae: 3040.9812\n",
      "Epoch 33/150\n",
      "34/34 [==============================] - 0s 2ms/step - loss: inf - mae: 3028.1626\n",
      "Epoch 34/150\n",
      "34/34 [==============================] - 0s 2ms/step - loss: inf - mae: 3017.7581\n",
      "Epoch 35/150\n",
      "34/34 [==============================] - 0s 2ms/step - loss: inf - mae: 2984.3477\n",
      "Epoch 36/150\n",
      "34/34 [==============================] - 0s 2ms/step - loss: inf - mae: 2957.7588\n",
      "Epoch 37/150\n",
      "34/34 [==============================] - 0s 2ms/step - loss: inf - mae: 2934.0364\n",
      "Epoch 38/150\n",
      "34/34 [==============================] - 0s 2ms/step - loss: inf - mae: 2908.3027\n",
      "Epoch 39/150\n",
      "34/34 [==============================] - 0s 2ms/step - loss: inf - mae: 2881.0618\n",
      "Epoch 40/150\n",
      "34/34 [==============================] - 0s 2ms/step - loss: inf - mae: 2870.5430\n",
      "Epoch 41/150\n",
      "34/34 [==============================] - 0s 2ms/step - loss: inf - mae: 2829.7075 \n",
      "Epoch 42/150\n",
      "34/34 [==============================] - 0s 2ms/step - loss: inf - mae: 2824.9944\n",
      "Epoch 43/150\n",
      "34/34 [==============================] - 0s 2ms/step - loss: inf - mae: 2786.4131\n",
      "Epoch 44/150\n",
      "34/34 [==============================] - 0s 2ms/step - loss: inf - mae: 2737.8777\n",
      "Epoch 45/150\n",
      "34/34 [==============================] - 0s 2ms/step - loss: inf - mae: 2701.1431\n",
      "Epoch 46/150\n",
      "34/34 [==============================] - 0s 2ms/step - loss: inf - mae: 2677.5906 \n",
      "Epoch 47/150\n",
      "34/34 [==============================] - 0s 2ms/step - loss: inf - mae: 2647.7915\n",
      "Epoch 48/150\n",
      "34/34 [==============================] - 0s 2ms/step - loss: inf - mae: 2623.1646\n",
      "Epoch 49/150\n",
      "34/34 [==============================] - 0s 2ms/step - loss: inf - mae: 2590.3748\n",
      "Epoch 50/150\n",
      "34/34 [==============================] - 0s 2ms/step - loss: inf - mae: 2538.5159 \n",
      "Epoch 51/150\n",
      "34/34 [==============================] - 0s 2ms/step - loss: inf - mae: 2496.9150\n",
      "Epoch 52/150\n",
      "34/34 [==============================] - 0s 2ms/step - loss: inf - mae: 2451.5083 \n",
      "Epoch 53/150\n",
      "34/34 [==============================] - 0s 2ms/step - loss: inf - mae: 2418.0383\n",
      "Epoch 54/150\n",
      "34/34 [==============================] - 0s 2ms/step - loss: inf - mae: 2415.0654 \n",
      "Epoch 55/150\n",
      "34/34 [==============================] - 0s 2ms/step - loss: inf - mae: 2416.2485 \n",
      "Epoch 56/150\n",
      "34/34 [==============================] - 0s 2ms/step - loss: inf - mae: 2369.8149 \n",
      "Epoch 57/150\n",
      "34/34 [==============================] - 0s 2ms/step - loss: inf - mae: 2321.4954\n",
      "Epoch 58/150\n",
      "34/34 [==============================] - 0s 2ms/step - loss: inf - mae: 2309.0298\n",
      "Epoch 59/150\n",
      "34/34 [==============================] - 0s 2ms/step - loss: inf - mae: 2284.8103  \n",
      "Epoch 60/150\n",
      "34/34 [==============================] - 0s 2ms/step - loss: inf - mae: 2264.6233\n",
      "Epoch 61/150\n",
      "34/34 [==============================] - 0s 2ms/step - loss: inf - mae: 2241.4111\n",
      "Epoch 62/150\n",
      "34/34 [==============================] - 0s 2ms/step - loss: inf - mae: 2220.9299\n",
      "Epoch 63/150\n",
      "34/34 [==============================] - 0s 2ms/step - loss: inf - mae: 2203.0271\n",
      "Epoch 64/150\n",
      "34/34 [==============================] - 0s 2ms/step - loss: inf - mae: 2190.0000\n",
      "Epoch 65/150\n",
      "34/34 [==============================] - 0s 1ms/step - loss: inf - mae: 2160.6953  \n",
      "Epoch 66/150\n",
      "34/34 [==============================] - 0s 2ms/step - loss: inf - mae: 2146.4075  \n",
      "Epoch 67/150\n",
      "34/34 [==============================] - 0s 2ms/step - loss: inf - mae: 2142.6748 \n",
      "Epoch 68/150\n",
      "34/34 [==============================] - 0s 2ms/step - loss: inf - mae: 2136.1953 \n",
      "Epoch 69/150\n",
      "34/34 [==============================] - 0s 2ms/step - loss: inf - mae: 2105.4653\n",
      "Epoch 70/150\n",
      "34/34 [==============================] - 0s 2ms/step - loss: inf - mae: 2092.3972 \n",
      "Epoch 71/150\n",
      "34/34 [==============================] - 0s 2ms/step - loss: inf - mae: 2070.1448\n",
      "Epoch 72/150\n",
      "34/34 [==============================] - 0s 1ms/step - loss: inf - mae: 2077.4233\n",
      "Epoch 73/150\n",
      "34/34 [==============================] - 0s 1ms/step - loss: inf - mae: 2100.5056\n",
      "Epoch 74/150\n",
      "34/34 [==============================] - 0s 1ms/step - loss: inf - mae: 2055.1113  \n",
      "Epoch 75/150\n",
      "34/34 [==============================] - 0s 2ms/step - loss: inf - mae: 2039.4233\n",
      "Epoch 76/150\n",
      "34/34 [==============================] - 0s 2ms/step - loss: inf - mae: 2039.1215  \n",
      "Epoch 77/150\n",
      "34/34 [==============================] - 0s 1ms/step - loss: inf - mae: 2031.6028  \n",
      "Epoch 78/150\n",
      "34/34 [==============================] - 0s 1ms/step - loss: inf - mae: 2044.7897\n",
      "Epoch 79/150\n",
      "34/34 [==============================] - 0s 2ms/step - loss: inf - mae: 2028.2963 \n",
      "Epoch 80/150\n",
      "34/34 [==============================] - 0s 2ms/step - loss: inf - mae: 2025.4412  \n",
      "Epoch 81/150\n",
      "34/34 [==============================] - 0s 2ms/step - loss: inf - mae: 2048.9187 \n",
      "Epoch 82/150\n",
      "34/34 [==============================] - 0s 2ms/step - loss: inf - mae: 2021.5149\n",
      "Epoch 83/150\n",
      "34/34 [==============================] - 0s 2ms/step - loss: inf - mae: 2007.8822\n",
      "Epoch 84/150\n",
      "34/34 [==============================] - 0s 2ms/step - loss: inf - mae: 2015.5103 \n",
      "Epoch 85/150\n",
      "34/34 [==============================] - 0s 2ms/step - loss: inf - mae: 2013.3057\n",
      "Epoch 86/150\n",
      "34/34 [==============================] - 0s 2ms/step - loss: inf - mae: 2007.9364\n",
      "Epoch 87/150\n",
      "34/34 [==============================] - 0s 1ms/step - loss: inf - mae: 2012.0261  \n",
      "Epoch 88/150\n",
      "34/34 [==============================] - 0s 1ms/step - loss: inf - mae: 1993.9392  \n",
      "Epoch 89/150\n",
      "34/34 [==============================] - 0s 1ms/step - loss: inf - mae: 2002.7168\n",
      "Epoch 90/150\n",
      "34/34 [==============================] - 0s 1ms/step - loss: inf - mae: 2024.4065  \n",
      "Epoch 91/150\n",
      "34/34 [==============================] - 0s 2ms/step - loss: inf - mae: 2010.6337  \n",
      "Epoch 92/150\n",
      "34/34 [==============================] - 0s 1ms/step - loss: inf - mae: 2018.7906\n",
      "Epoch 93/150\n",
      "34/34 [==============================] - 0s 1ms/step - loss: inf - mae: 2036.3430\n",
      "Epoch 94/150\n",
      "34/34 [==============================] - 0s 1ms/step - loss: inf - mae: 2018.6832  \n",
      "Epoch 95/150\n",
      "34/34 [==============================] - 0s 1ms/step - loss: inf - mae: 1987.6766  \n",
      "Epoch 96/150\n",
      "34/34 [==============================] - 0s 1ms/step - loss: inf - mae: 2024.7421\n",
      "Epoch 97/150\n",
      "34/34 [==============================] - 0s 1ms/step - loss: inf - mae: 2039.1710  \n",
      "Epoch 98/150\n",
      "34/34 [==============================] - 0s 2ms/step - loss: inf - mae: 2031.6907\n",
      "Epoch 99/150\n",
      "34/34 [==============================] - 0s 1ms/step - loss: inf - mae: 2008.4888  \n",
      "Epoch 100/150\n",
      "34/34 [==============================] - 0s 1ms/step - loss: inf - mae: 1998.7271  \n",
      "Epoch 101/150\n",
      "34/34 [==============================] - 0s 1ms/step - loss: inf - mae: 2032.5094  \n",
      "Epoch 102/150\n",
      "34/34 [==============================] - 0s 1ms/step - loss: inf - mae: 1991.0309\n",
      "Epoch 103/150\n",
      "34/34 [==============================] - 0s 1ms/step - loss: inf - mae: 2001.0411  \n",
      "Epoch 104/150\n",
      "34/34 [==============================] - 0s 2ms/step - loss: inf - mae: 1992.9934  \n",
      "Epoch 105/150\n",
      "34/34 [==============================] - 0s 2ms/step - loss: inf - mae: 2020.8439  \n",
      "Epoch 106/150\n",
      "34/34 [==============================] - 0s 1ms/step - loss: inf - mae: 1997.5532\n",
      "Epoch 107/150\n",
      "34/34 [==============================] - 0s 1ms/step - loss: inf - mae: 1989.5673\n",
      "Epoch 108/150\n",
      "34/34 [==============================] - 0s 2ms/step - loss: inf - mae: 2008.9823 \n",
      "Epoch 109/150\n",
      "34/34 [==============================] - 0s 2ms/step - loss: inf - mae: 1986.0131\n",
      "Epoch 110/150\n",
      "34/34 [==============================] - 0s 2ms/step - loss: inf - mae: 1996.4327\n",
      "Epoch 111/150\n",
      "34/34 [==============================] - 0s 2ms/step - loss: inf - mae: 1986.4570\n",
      "Epoch 112/150\n",
      "34/34 [==============================] - 0s 2ms/step - loss: inf - mae: 2011.0580 \n",
      "Epoch 113/150\n",
      "34/34 [==============================] - 0s 2ms/step - loss: inf - mae: 1983.4458 \n",
      "Epoch 114/150\n",
      "34/34 [==============================] - 0s 2ms/step - loss: inf - mae: 2019.8719  \n",
      "Epoch 115/150\n",
      "34/34 [==============================] - 0s 2ms/step - loss: inf - mae: 2032.6140\n",
      "Epoch 116/150\n",
      "34/34 [==============================] - 0s 2ms/step - loss: inf - mae: 2005.6495\n",
      "Epoch 117/150\n",
      "34/34 [==============================] - 0s 2ms/step - loss: inf - mae: 2006.9683  \n",
      "Epoch 118/150\n",
      "34/34 [==============================] - 0s 2ms/step - loss: inf - mae: 1979.5177 \n",
      "Epoch 119/150\n",
      "34/34 [==============================] - 0s 2ms/step - loss: inf - mae: 1993.8972\n",
      "Epoch 120/150\n",
      "34/34 [==============================] - 0s 2ms/step - loss: inf - mae: 2025.3187\n",
      "Epoch 121/150\n",
      "34/34 [==============================] - 0s 2ms/step - loss: inf - mae: 1998.5103\n",
      "Epoch 122/150\n",
      "34/34 [==============================] - 0s 2ms/step - loss: inf - mae: 1985.3729\n",
      "Epoch 123/150\n",
      "34/34 [==============================] - 0s 2ms/step - loss: inf - mae: 1982.6486\n",
      "Epoch 124/150\n",
      "34/34 [==============================] - 0s 2ms/step - loss: inf - mae: 1987.3262  \n",
      "Epoch 125/150\n",
      "34/34 [==============================] - 0s 2ms/step - loss: inf - mae: 1978.5112  \n",
      "Epoch 126/150\n",
      "34/34 [==============================] - 0s 1ms/step - loss: inf - mae: 1990.1028\n",
      "Epoch 127/150\n",
      "34/34 [==============================] - 0s 1ms/step - loss: inf - mae: 2019.8533\n",
      "Epoch 128/150\n",
      "34/34 [==============================] - 0s 1ms/step - loss: inf - mae: 1980.9739\n",
      "Epoch 129/150\n",
      "34/34 [==============================] - 0s 1ms/step - loss: inf - mae: 2004.6935\n",
      "Epoch 130/150\n",
      "34/34 [==============================] - 0s 1ms/step - loss: inf - mae: 1987.3477  \n",
      "Epoch 131/150\n",
      "34/34 [==============================] - 0s 2ms/step - loss: inf - mae: 1978.0916\n",
      "Epoch 132/150\n",
      "34/34 [==============================] - 0s 2ms/step - loss: inf - mae: 1977.3346\n",
      "Epoch 133/150\n",
      "34/34 [==============================] - 0s 1ms/step - loss: inf - mae: 1981.8448  \n",
      "Epoch 134/150\n",
      "34/34 [==============================] - 0s 1ms/step - loss: inf - mae: 2002.7458  \n",
      "Epoch 135/150\n",
      "34/34 [==============================] - 0s 1ms/step - loss: inf - mae: 1987.3047  \n",
      "Epoch 136/150\n",
      "34/34 [==============================] - 0s 2ms/step - loss: inf - mae: 1967.7729  \n",
      "Epoch 137/150\n",
      "34/34 [==============================] - 0s 1ms/step - loss: inf - mae: 1985.6897\n",
      "Epoch 138/150\n",
      "34/34 [==============================] - 0s 2ms/step - loss: inf - mae: 1976.9346\n",
      "Epoch 139/150\n",
      "34/34 [==============================] - 0s 2ms/step - loss: inf - mae: 1983.5187  \n",
      "Epoch 140/150\n",
      "34/34 [==============================] - 0s 1ms/step - loss: inf - mae: 1980.9037\n",
      "Epoch 141/150\n",
      "34/34 [==============================] - 0s 1ms/step - loss: inf - mae: 1997.8785\n",
      "Epoch 142/150\n",
      "34/34 [==============================] - 0s 2ms/step - loss: inf - mae: 1991.9916\n",
      "Epoch 143/150\n",
      "34/34 [==============================] - 0s 2ms/step - loss: inf - mae: 1986.8364  \n",
      "Epoch 144/150\n",
      "34/34 [==============================] - 0s 2ms/step - loss: inf - mae: 1987.0074 \n",
      "Epoch 145/150\n",
      "34/34 [==============================] - 0s 2ms/step - loss: inf - mae: 1990.1682\n",
      "Epoch 146/150\n",
      "34/34 [==============================] - 0s 2ms/step - loss: inf - mae: 1986.3047\n",
      "Epoch 147/150\n",
      "34/34 [==============================] - 0s 2ms/step - loss: inf - mae: 1996.2365\n",
      "Epoch 148/150\n",
      "34/34 [==============================] - 0s 2ms/step - loss: inf - mae: 1976.5981\n",
      "Epoch 149/150\n",
      "34/34 [==============================] - 0s 2ms/step - loss: inf - mae: 1971.7533\n",
      "Epoch 150/150\n",
      "34/34 [==============================] - 0s 2ms/step - loss: inf - mae: 1981.3878 \n"
     ]
    },
    {
     "data": {
      "text/plain": [
       "<keras.src.callbacks.History at 0x7f4210303940>"
      ]
     },
     "execution_count": 75,
     "metadata": {},
     "output_type": "execute_result"
    }
   ],
   "source": [
    "# Build a neural network model\n",
    "tf.random.set_seed(42)\n",
    "df_model = tf.keras.Sequential([\n",
    "    tf.keras.layers.Dense(100,activation='relu'),\n",
    "    tf.keras.layers.Dense(100,activation='relu'),\n",
    "    tf.keras.layers.Dense(1)\n",
    "])\n",
    "df_model.compile(loss=tf.keras.losses.mae,\n",
    "                 optimizer=tf.keras.optimizers.Adam(0.01),\n",
    "                 metrics=['mae']\n",
    "                 )\n",
    "df_model.fit(X_train_normal,y_train,epochs=150)"
   ]
  },
  {
   "cell_type": "code",
   "execution_count": 76,
   "metadata": {
    "colab": {
     "base_uri": "https://localhost:8080/"
    },
    "executionInfo": {
     "elapsed": 19,
     "status": "ok",
     "timestamp": 1673953648677,
     "user": {
      "displayName": "Ujjwal Mk",
      "userId": "12008983132848472926"
     },
     "user_tz": -330
    },
    "id": "KPUS0s--7G3L",
    "outputId": "56023478-4c57-47c5-9a7a-9a85039384ed"
   },
   "outputs": [
    {
     "name": "stdout",
     "output_type": "stream",
     "text": [
      "9/9 [==============================] - 0s 1ms/step - loss: inf - mae: 1753.1680  \n"
     ]
    },
    {
     "data": {
      "text/plain": [
       "[inf, 1753.16796875]"
      ]
     },
     "execution_count": 76,
     "metadata": {},
     "output_type": "execute_result"
    }
   ],
   "source": [
    "df_model.evaluate(X_test_normal,y_test)"
   ]
  },
  {
   "attachments": {},
   "cell_type": "markdown",
   "metadata": {
    "id": "7O6laVEJcdTx"
   },
   "source": [
    "# EXERCISES"
   ]
  },
  {
   "cell_type": "code",
   "execution_count": 77,
   "metadata": {
    "executionInfo": {
     "elapsed": 14,
     "status": "ok",
     "timestamp": 1673953648677,
     "user": {
      "displayName": "Ujjwal Mk",
      "userId": "12008983132848472926"
     },
     "user_tz": -330
    },
    "id": "2omHaLtHeJXq"
   },
   "outputs": [],
   "source": [
    "from sklearn.model_selection import train_test_split\n",
    "import numpy as np"
   ]
  },
  {
   "cell_type": "code",
   "execution_count": 78,
   "metadata": {
    "colab": {
     "base_uri": "https://localhost:8080/"
    },
    "executionInfo": {
     "elapsed": 1875,
     "status": "ok",
     "timestamp": 1673953650539,
     "user": {
      "displayName": "Ujjwal Mk",
      "userId": "12008983132848472926"
     },
     "user_tz": -330
    },
    "id": "R0YnN_5u7Q1U",
    "outputId": "ab123734-a9f5-48f5-f519-d888371a229d"
   },
   "outputs": [
    {
     "name": "stdout",
     "output_type": "stream",
     "text": [
      "Epoch 1/100\n",
      "1/1 [==============================] - 1s 645ms/step - loss: 249.7500 - mae: 249.6554\n",
      "Epoch 2/100\n",
      "1/1 [==============================] - 0s 5ms/step - loss: 249.1250 - mae: 249.1836\n",
      "Epoch 3/100\n",
      "1/1 [==============================] - 0s 4ms/step - loss: 248.7500 - mae: 248.7106\n",
      "Epoch 4/100\n",
      "1/1 [==============================] - 0s 4ms/step - loss: 248.2500 - mae: 248.2355\n",
      "Epoch 5/100\n",
      "1/1 [==============================] - 0s 5ms/step - loss: 247.7500 - mae: 247.7561\n",
      "Epoch 6/100\n",
      "1/1 [==============================] - 0s 4ms/step - loss: 247.2500 - mae: 247.2677\n",
      "Epoch 7/100\n",
      "1/1 [==============================] - 0s 4ms/step - loss: 246.7500 - mae: 246.7686\n",
      "Epoch 8/100\n",
      "1/1 [==============================] - 0s 4ms/step - loss: 246.2500 - mae: 246.2502\n",
      "Epoch 9/100\n",
      "1/1 [==============================] - 0s 4ms/step - loss: 245.7500 - mae: 245.7119\n",
      "Epoch 10/100\n",
      "1/1 [==============================] - 0s 4ms/step - loss: 245.1250 - mae: 245.1455\n",
      "Epoch 11/100\n",
      "1/1 [==============================] - 0s 4ms/step - loss: 244.5000 - mae: 244.5544\n",
      "Epoch 12/100\n",
      "1/1 [==============================] - 0s 4ms/step - loss: 243.8750 - mae: 243.9331\n",
      "Epoch 13/100\n",
      "1/1 [==============================] - 0s 4ms/step - loss: 243.2500 - mae: 243.2764\n",
      "Epoch 14/100\n",
      "1/1 [==============================] - 0s 4ms/step - loss: 242.5000 - mae: 242.5815\n",
      "Epoch 15/100\n",
      "1/1 [==============================] - 0s 4ms/step - loss: 241.8750 - mae: 241.8506\n",
      "Epoch 16/100\n",
      "1/1 [==============================] - 0s 3ms/step - loss: 241.0000 - mae: 241.0801\n",
      "Epoch 17/100\n",
      "1/1 [==============================] - 0s 4ms/step - loss: 240.2500 - mae: 240.2646\n",
      "Epoch 18/100\n",
      "1/1 [==============================] - 0s 4ms/step - loss: 239.2500 - mae: 239.3984\n",
      "Epoch 19/100\n",
      "1/1 [==============================] - 0s 4ms/step - loss: 238.6250 - mae: 238.4922\n",
      "Epoch 20/100\n",
      "1/1 [==============================] - 0s 4ms/step - loss: 237.5000 - mae: 237.5371\n",
      "Epoch 21/100\n",
      "1/1 [==============================] - 0s 4ms/step - loss: 236.5000 - mae: 236.5322\n",
      "Epoch 22/100\n",
      "1/1 [==============================] - 0s 4ms/step - loss: 235.5000 - mae: 235.4756\n",
      "Epoch 23/100\n",
      "1/1 [==============================] - 0s 3ms/step - loss: 234.3750 - mae: 234.3662\n",
      "Epoch 24/100\n",
      "1/1 [==============================] - 0s 4ms/step - loss: 233.2500 - mae: 233.1973\n",
      "Epoch 25/100\n",
      "1/1 [==============================] - 0s 4ms/step - loss: 232.0000 - mae: 231.9795\n",
      "Epoch 26/100\n",
      "1/1 [==============================] - 0s 4ms/step - loss: 230.7500 - mae: 230.6982\n",
      "Epoch 27/100\n",
      "1/1 [==============================] - 0s 4ms/step - loss: 229.3750 - mae: 229.3574\n",
      "Epoch 28/100\n",
      "1/1 [==============================] - 0s 3ms/step - loss: 228.0000 - mae: 227.9668\n",
      "Epoch 29/100\n",
      "1/1 [==============================] - 0s 4ms/step - loss: 226.5000 - mae: 226.5000\n",
      "Epoch 30/100\n",
      "1/1 [==============================] - 0s 3ms/step - loss: 225.0000 - mae: 224.9785\n",
      "Epoch 31/100\n",
      "1/1 [==============================] - 0s 4ms/step - loss: 223.5000 - mae: 223.3945\n",
      "Epoch 32/100\n",
      "1/1 [==============================] - 0s 3ms/step - loss: 221.7500 - mae: 221.7441\n",
      "Epoch 33/100\n",
      "1/1 [==============================] - 0s 3ms/step - loss: 220.0000 - mae: 220.0391\n",
      "Epoch 34/100\n",
      "1/1 [==============================] - 0s 3ms/step - loss: 220.0000 - mae: 220.0391\n",
      "Epoch 35/100\n",
      "1/1 [==============================] - 0s 4ms/step - loss: 218.2500 - mae: 218.2168\n",
      "Epoch 36/100\n",
      "1/1 [==============================] - 0s 4ms/step - loss: 216.3750 - mae: 216.3418\n",
      "Epoch 37/100\n",
      "1/1 [==============================] - 0s 3ms/step - loss: 214.3750 - mae: 214.4102\n",
      "Epoch 38/100\n",
      "1/1 [==============================] - 0s 3ms/step - loss: 212.5000 - mae: 212.3730\n",
      "Epoch 39/100\n",
      "1/1 [==============================] - 0s 4ms/step - loss: 210.2500 - mae: 210.2812\n",
      "Epoch 40/100\n",
      "1/1 [==============================] - 0s 4ms/step - loss: 208.0000 - mae: 208.1172\n",
      "Epoch 41/100\n",
      "1/1 [==============================] - 0s 3ms/step - loss: 205.8750 - mae: 205.8672\n",
      "Epoch 42/100\n",
      "1/1 [==============================] - 0s 4ms/step - loss: 203.5000 - mae: 203.5586\n",
      "Epoch 43/100\n",
      "1/1 [==============================] - 0s 3ms/step - loss: 201.2500 - mae: 201.1562\n",
      "Epoch 44/100\n",
      "1/1 [==============================] - 0s 3ms/step - loss: 198.7500 - mae: 198.6719\n",
      "Epoch 45/100\n",
      "1/1 [==============================] - 0s 4ms/step - loss: 196.2500 - mae: 196.1133\n",
      "Epoch 46/100\n",
      "1/1 [==============================] - 0s 3ms/step - loss: 193.5000 - mae: 193.5391\n",
      "Epoch 47/100\n",
      "1/1 [==============================] - 0s 4ms/step - loss: 193.2500 - mae: 193.2305\n",
      "Epoch 48/100\n",
      "1/1 [==============================] - 0s 3ms/step - loss: 192.8750 - mae: 192.8711\n",
      "Epoch 49/100\n",
      "1/1 [==============================] - 0s 3ms/step - loss: 192.5000 - mae: 192.4531\n",
      "Epoch 50/100\n",
      "1/1 [==============================] - 0s 4ms/step - loss: 192.1250 - mae: 192.0469\n",
      "Epoch 51/100\n",
      "1/1 [==============================] - 0s 4ms/step - loss: 191.5000 - mae: 191.5938\n",
      "Epoch 52/100\n",
      "1/1 [==============================] - 0s 4ms/step - loss: 191.1250 - mae: 191.0938\n",
      "Epoch 53/100\n",
      "1/1 [==============================] - 0s 4ms/step - loss: 190.5000 - mae: 190.5820\n",
      "Epoch 54/100\n",
      "1/1 [==============================] - 0s 3ms/step - loss: 190.1250 - mae: 190.0469\n",
      "Epoch 55/100\n",
      "1/1 [==============================] - 0s 3ms/step - loss: 189.5000 - mae: 189.4727\n",
      "Epoch 56/100\n",
      "1/1 [==============================] - 0s 4ms/step - loss: 189.0000 - mae: 188.8711\n",
      "Epoch 57/100\n",
      "1/1 [==============================] - 0s 4ms/step - loss: 188.2500 - mae: 188.2188\n",
      "Epoch 58/100\n",
      "1/1 [==============================] - 0s 4ms/step - loss: 187.5000 - mae: 187.5703\n",
      "Epoch 59/100\n",
      "1/1 [==============================] - 0s 4ms/step - loss: 186.8750 - mae: 186.9297\n",
      "Epoch 60/100\n",
      "1/1 [==============================] - 0s 4ms/step - loss: 186.2500 - mae: 186.2266\n",
      "Epoch 61/100\n",
      "1/1 [==============================] - 0s 4ms/step - loss: 185.5000 - mae: 185.5078\n",
      "Epoch 62/100\n",
      "1/1 [==============================] - 0s 4ms/step - loss: 184.7500 - mae: 184.7969\n",
      "Epoch 63/100\n",
      "1/1 [==============================] - 0s 4ms/step - loss: 184.0000 - mae: 184.0156\n",
      "Epoch 64/100\n",
      "1/1 [==============================] - 0s 4ms/step - loss: 183.2500 - mae: 183.2344\n",
      "Epoch 65/100\n",
      "1/1 [==============================] - 0s 4ms/step - loss: 182.5000 - mae: 182.4297\n",
      "Epoch 66/100\n",
      "1/1 [==============================] - 0s 4ms/step - loss: 181.6250 - mae: 181.6016\n",
      "Epoch 67/100\n",
      "1/1 [==============================] - 0s 3ms/step - loss: 180.7500 - mae: 180.6953\n",
      "Epoch 68/100\n",
      "1/1 [==============================] - 0s 3ms/step - loss: 179.8750 - mae: 179.8516\n",
      "Epoch 69/100\n",
      "1/1 [==============================] - 0s 3ms/step - loss: 178.8750 - mae: 178.9453\n",
      "Epoch 70/100\n",
      "1/1 [==============================] - 0s 4ms/step - loss: 178.0000 - mae: 178.0547\n",
      "Epoch 71/100\n",
      "1/1 [==============================] - 0s 4ms/step - loss: 177.0000 - mae: 177.1016\n",
      "Epoch 72/100\n",
      "1/1 [==============================] - 0s 4ms/step - loss: 176.2500 - mae: 176.1719\n",
      "Epoch 73/100\n",
      "1/1 [==============================] - 0s 4ms/step - loss: 175.2500 - mae: 175.1953\n",
      "Epoch 74/100\n",
      "1/1 [==============================] - 0s 4ms/step - loss: 174.2500 - mae: 174.1953\n",
      "Epoch 75/100\n",
      "1/1 [==============================] - 0s 4ms/step - loss: 173.2500 - mae: 173.1953\n",
      "Epoch 76/100\n",
      "1/1 [==============================] - 0s 4ms/step - loss: 172.1250 - mae: 172.1562\n",
      "Epoch 77/100\n",
      "1/1 [==============================] - 0s 3ms/step - loss: 171.0000 - mae: 171.0625\n",
      "Epoch 78/100\n",
      "1/1 [==============================] - 0s 3ms/step - loss: 170.0000 - mae: 170.0547\n",
      "Epoch 79/100\n",
      "1/1 [==============================] - 0s 3ms/step - loss: 168.8750 - mae: 168.9375\n",
      "Epoch 80/100\n",
      "1/1 [==============================] - 0s 3ms/step - loss: 167.7500 - mae: 167.8438\n",
      "Epoch 81/100\n",
      "1/1 [==============================] - 0s 3ms/step - loss: 166.7500 - mae: 166.7578\n",
      "Epoch 82/100\n",
      "1/1 [==============================] - 0s 4ms/step - loss: 165.6250 - mae: 165.6016\n",
      "Epoch 83/100\n",
      "1/1 [==============================] - 0s 4ms/step - loss: 164.5000 - mae: 164.4219\n",
      "Epoch 84/100\n",
      "1/1 [==============================] - 0s 3ms/step - loss: 163.2500 - mae: 163.2500\n",
      "Epoch 85/100\n",
      "1/1 [==============================] - 0s 3ms/step - loss: 162.0000 - mae: 162.0547\n",
      "Epoch 86/100\n",
      "1/1 [==============================] - 0s 3ms/step - loss: 160.8750 - mae: 160.8438\n",
      "Epoch 87/100\n",
      "1/1 [==============================] - 0s 4ms/step - loss: 159.6250 - mae: 159.6172\n",
      "Epoch 88/100\n",
      "1/1 [==============================] - 0s 4ms/step - loss: 158.2500 - mae: 158.3594\n",
      "Epoch 89/100\n",
      "1/1 [==============================] - 0s 4ms/step - loss: 157.1250 - mae: 157.0938\n",
      "Epoch 90/100\n",
      "1/1 [==============================] - 0s 4ms/step - loss: 155.8750 - mae: 155.8203\n",
      "Epoch 91/100\n",
      "1/1 [==============================] - 0s 4ms/step - loss: 154.5000 - mae: 154.5156\n",
      "Epoch 92/100\n",
      "1/1 [==============================] - 0s 4ms/step - loss: 153.1250 - mae: 153.1797\n",
      "Epoch 93/100\n",
      "1/1 [==============================] - 0s 3ms/step - loss: 151.8750 - mae: 151.8594\n",
      "Epoch 94/100\n",
      "1/1 [==============================] - 0s 4ms/step - loss: 150.5000 - mae: 150.4922\n",
      "Epoch 95/100\n",
      "1/1 [==============================] - 0s 4ms/step - loss: 149.1250 - mae: 149.0938\n",
      "Epoch 96/100\n",
      "1/1 [==============================] - 0s 4ms/step - loss: 147.7500 - mae: 147.7109\n",
      "Epoch 97/100\n",
      "1/1 [==============================] - 0s 3ms/step - loss: 146.2500 - mae: 146.2969\n",
      "Epoch 98/100\n",
      "1/1 [==============================] - 0s 3ms/step - loss: 144.8750 - mae: 144.8359\n",
      "Epoch 99/100\n",
      "1/1 [==============================] - 0s 4ms/step - loss: 143.3750 - mae: 143.3438\n",
      "Epoch 100/100\n",
      "1/1 [==============================] - 0s 4ms/step - loss: 141.8750 - mae: 141.8672\n"
     ]
    }
   ],
   "source": [
    "# 1. Create your own regression dataset and build fot a model to it\n",
    "X = tf.constant(np.array([-7,-4,-1,2,5,8]),dtype=tf.int32)\n",
    "y = tf.constant(np.array([100,200,300,400,500,600]),dtype=tf.int32)\n",
    "\n",
    "X_train = X[:4]\n",
    "X_test = X[4:]\n",
    "y_train = y[:4]\n",
    "y_test = y[4:]\n",
    "\n",
    "#X_train, X_test, y_train, y_test = train_test_split(X,y,test_size=.2,random_state=42)\n",
    "\n",
    "tf.random.set_seed(42)\n",
    "model_1 = tf.keras.Sequential([\n",
    "    tf.keras.layers.Dense(100,activation='relu'),\n",
    "    tf.keras.layers.Dense(1)\n",
    "])\n",
    "model_1.compile(loss=tf.keras.losses.mae,\n",
    "                optimizer=tf.keras.optimizers.Adam(0.01),\n",
    "                metrics=['mae']\n",
    "                )\n",
    "\n",
    "history=model_1.fit(tf.expand_dims(X_train,axis=-1),y_train,epochs=100)"
   ]
  },
  {
   "cell_type": "code",
   "execution_count": 79,
   "metadata": {
    "colab": {
     "base_uri": "https://localhost:8080/"
    },
    "executionInfo": {
     "elapsed": 22,
     "status": "ok",
     "timestamp": 1673953650539,
     "user": {
      "displayName": "Ujjwal Mk",
      "userId": "12008983132848472926"
     },
     "user_tz": -330
    },
    "id": "b0g45sHSdJF0",
    "outputId": "7553bf2e-082e-4e5b-d0ee-393aeeeabb16"
   },
   "outputs": [
    {
     "name": "stdout",
     "output_type": "stream",
     "text": [
      "1/1 [==============================] - 0s 33ms/step\n"
     ]
    },
    {
     "data": {
      "text/plain": [
       "(array([[486.2],\n",
       "        [733. ]], dtype=float16),\n",
       " <tf.Tensor: shape=(2,), dtype=int32, numpy=array([500, 600], dtype=int32)>)"
      ]
     },
     "execution_count": 79,
     "metadata": {},
     "output_type": "execute_result"
    }
   ],
   "source": [
    "y_pred = model_1.predict(X_test)\n",
    "y_pred,y_test"
   ]
  },
  {
   "cell_type": "code",
   "execution_count": 80,
   "metadata": {
    "colab": {
     "base_uri": "https://localhost:8080/"
    },
    "executionInfo": {
     "elapsed": 1905,
     "status": "ok",
     "timestamp": 1673953652433,
     "user": {
      "displayName": "Ujjwal Mk",
      "userId": "12008983132848472926"
     },
     "user_tz": -330
    },
    "id": "6xZEQbzZjBLX",
    "outputId": "9558d5f8-9e05-4f13-9f0e-b75d89c05d6e"
   },
   "outputs": [
    {
     "name": "stdout",
     "output_type": "stream",
     "text": [
      "Epoch 1/100\n",
      "1/1 [==============================] - 1s 1s/step - loss: 450.0000 - mae: 449.8577\n",
      "Epoch 2/100\n",
      "1/1 [==============================] - 0s 5ms/step - loss: 447.5000 - mae: 447.3879\n",
      "Epoch 3/100\n",
      "1/1 [==============================] - 0s 5ms/step - loss: 444.0000 - mae: 444.1958\n",
      "Epoch 4/100\n",
      "1/1 [==============================] - 0s 5ms/step - loss: 439.5000 - mae: 439.4976\n",
      "Epoch 5/100\n",
      "1/1 [==============================] - 0s 5ms/step - loss: 439.5000 - mae: 439.4976\n",
      "Epoch 6/100\n",
      "1/1 [==============================] - 0s 4ms/step - loss: 433.0000 - mae: 432.8882\n",
      "Epoch 7/100\n",
      "1/1 [==============================] - 0s 4ms/step - loss: 433.0000 - mae: 432.8882\n",
      "Epoch 8/100\n",
      "1/1 [==============================] - 0s 5ms/step - loss: 423.5000 - mae: 423.5635\n",
      "Epoch 9/100\n",
      "1/1 [==============================] - 0s 4ms/step - loss: 410.2500 - mae: 410.3438\n",
      "Epoch 10/100\n",
      "1/1 [==============================] - 0s 4ms/step - loss: 410.2500 - mae: 410.3438\n",
      "Epoch 11/100\n",
      "1/1 [==============================] - 0s 5ms/step - loss: 392.2500 - mae: 392.2578\n",
      "Epoch 12/100\n",
      "1/1 [==============================] - 0s 4ms/step - loss: 367.7500 - mae: 367.8711\n",
      "Epoch 13/100\n",
      "1/1 [==============================] - 0s 4ms/step - loss: 335.7500 - mae: 335.7422\n",
      "Epoch 14/100\n",
      "1/1 [==============================] - 0s 5ms/step - loss: 335.5000 - mae: 335.7422\n",
      "Epoch 15/100\n",
      "1/1 [==============================] - 0s 4ms/step - loss: 294.0000 - mae: 293.7812\n",
      "Epoch 16/100\n",
      "1/1 [==============================] - 0s 4ms/step - loss: 239.5000 - mae: 239.6484\n",
      "Epoch 17/100\n",
      "1/1 [==============================] - 0s 5ms/step - loss: 170.8750 - mae: 170.8672\n",
      "Epoch 18/100\n",
      "1/1 [==============================] - 0s 4ms/step - loss: 170.8750 - mae: 170.8672\n",
      "Epoch 19/100\n",
      "1/1 [==============================] - 0s 4ms/step - loss: 139.0000 - mae: 138.9531\n",
      "Epoch 20/100\n",
      "1/1 [==============================] - 0s 5ms/step - loss: 174.7500 - mae: 174.8281\n",
      "Epoch 21/100\n",
      "1/1 [==============================] - 0s 5ms/step - loss: 204.6250 - mae: 204.6094\n",
      "Epoch 22/100\n",
      "1/1 [==============================] - 0s 4ms/step - loss: 210.0000 - mae: 209.8750\n",
      "Epoch 23/100\n",
      "1/1 [==============================] - 0s 5ms/step - loss: 195.5000 - mae: 195.5312\n",
      "Epoch 24/100\n",
      "1/1 [==============================] - 0s 4ms/step - loss: 167.7500 - mae: 167.8438\n",
      "Epoch 25/100\n",
      "1/1 [==============================] - 0s 4ms/step - loss: 131.7500 - mae: 131.7500\n",
      "Epoch 26/100\n",
      "1/1 [==============================] - 0s 5ms/step - loss: 97.1250 - mae: 97.1250\n",
      "Epoch 27/100\n",
      "1/1 [==============================] - 0s 4ms/step - loss: 89.8750 - mae: 89.8750\n",
      "Epoch 28/100\n",
      "1/1 [==============================] - 0s 4ms/step - loss: 84.8125 - mae: 84.8125\n",
      "Epoch 29/100\n",
      "1/1 [==============================] - 0s 5ms/step - loss: 96.1875 - mae: 96.1562\n",
      "Epoch 30/100\n",
      "1/1 [==============================] - 0s 4ms/step - loss: 98.7500 - mae: 98.7500\n",
      "Epoch 31/100\n",
      "1/1 [==============================] - 0s 4ms/step - loss: 94.4375 - mae: 94.4375\n",
      "Epoch 32/100\n",
      "1/1 [==============================] - 0s 5ms/step - loss: 96.6875 - mae: 96.6875\n",
      "Epoch 33/100\n",
      "1/1 [==============================] - 0s 4ms/step - loss: 96.2500 - mae: 96.2188\n",
      "Epoch 34/100\n",
      "1/1 [==============================] - 0s 4ms/step - loss: 93.6875 - mae: 93.7188\n",
      "Epoch 35/100\n",
      "1/1 [==============================] - 0s 4ms/step - loss: 89.3125 - mae: 89.3438\n",
      "Epoch 36/100\n",
      "1/1 [==============================] - 0s 4ms/step - loss: 83.8750 - mae: 83.8750\n",
      "Epoch 37/100\n",
      "1/1 [==============================] - 0s 4ms/step - loss: 77.4375 - mae: 77.4375\n",
      "Epoch 38/100\n",
      "1/1 [==============================] - 0s 5ms/step - loss: 72.8125 - mae: 72.8125\n",
      "Epoch 39/100\n",
      "1/1 [==============================] - 0s 4ms/step - loss: 75.9375 - mae: 75.9375\n",
      "Epoch 40/100\n",
      "1/1 [==============================] - 0s 5ms/step - loss: 77.0000 - mae: 77.0000\n",
      "Epoch 41/100\n",
      "1/1 [==============================] - 0s 4ms/step - loss: 76.3750 - mae: 76.3750\n",
      "Epoch 42/100\n",
      "1/1 [==============================] - 0s 4ms/step - loss: 74.2500 - mae: 74.2500\n",
      "Epoch 43/100\n",
      "1/1 [==============================] - 0s 4ms/step - loss: 75.3750 - mae: 75.3750\n",
      "Epoch 44/100\n",
      "1/1 [==============================] - 0s 4ms/step - loss: 67.9375 - mae: 67.9375\n",
      "Epoch 45/100\n",
      "1/1 [==============================] - 0s 4ms/step - loss: 65.7500 - mae: 65.7500\n",
      "Epoch 46/100\n",
      "1/1 [==============================] - 0s 4ms/step - loss: 65.7500 - mae: 65.7500\n",
      "Epoch 47/100\n",
      "1/1 [==============================] - 0s 5ms/step - loss: 64.5000 - mae: 64.4688\n",
      "Epoch 48/100\n",
      "1/1 [==============================] - 0s 4ms/step - loss: 64.7500 - mae: 64.7812\n",
      "Epoch 49/100\n",
      "1/1 [==============================] - 0s 4ms/step - loss: 62.6250 - mae: 62.6250\n",
      "Epoch 50/100\n",
      "1/1 [==============================] - 0s 5ms/step - loss: 61.8750 - mae: 61.8750\n",
      "Epoch 51/100\n",
      "1/1 [==============================] - 0s 4ms/step - loss: 60.5312 - mae: 60.5312\n",
      "Epoch 52/100\n",
      "1/1 [==============================] - 0s 4ms/step - loss: 59.5938 - mae: 59.5938\n",
      "Epoch 53/100\n",
      "1/1 [==============================] - 0s 4ms/step - loss: 58.5312 - mae: 58.5312\n",
      "Epoch 54/100\n",
      "1/1 [==============================] - 0s 4ms/step - loss: 58.2500 - mae: 58.2500\n",
      "Epoch 55/100\n",
      "1/1 [==============================] - 0s 4ms/step - loss: 57.0625 - mae: 57.0625\n",
      "Epoch 56/100\n",
      "1/1 [==============================] - 0s 5ms/step - loss: 56.1250 - mae: 56.1250\n",
      "Epoch 57/100\n",
      "1/1 [==============================] - 0s 4ms/step - loss: 54.5000 - mae: 54.5000\n",
      "Epoch 58/100\n",
      "1/1 [==============================] - 0s 4ms/step - loss: 53.8750 - mae: 53.8750\n",
      "Epoch 59/100\n",
      "1/1 [==============================] - 0s 5ms/step - loss: 52.3750 - mae: 52.3750\n",
      "Epoch 60/100\n",
      "1/1 [==============================] - 0s 4ms/step - loss: 52.6250 - mae: 52.6250\n",
      "Epoch 61/100\n",
      "1/1 [==============================] - 0s 4ms/step - loss: 51.0625 - mae: 51.0625\n",
      "Epoch 62/100\n",
      "1/1 [==============================] - 0s 4ms/step - loss: 49.3125 - mae: 49.3125\n",
      "Epoch 63/100\n",
      "1/1 [==============================] - 0s 4ms/step - loss: 48.5000 - mae: 48.5000\n",
      "Epoch 64/100\n",
      "1/1 [==============================] - 0s 4ms/step - loss: 46.9375 - mae: 46.9375\n",
      "Epoch 65/100\n",
      "1/1 [==============================] - 0s 5ms/step - loss: 46.6875 - mae: 46.6875\n",
      "Epoch 66/100\n",
      "1/1 [==============================] - 0s 5ms/step - loss: 45.8750 - mae: 45.8750\n",
      "Epoch 67/100\n",
      "1/1 [==============================] - 0s 4ms/step - loss: 44.3125 - mae: 44.3125\n",
      "Epoch 68/100\n",
      "1/1 [==============================] - 0s 4ms/step - loss: 42.6250 - mae: 42.6250\n",
      "Epoch 69/100\n",
      "1/1 [==============================] - 0s 4ms/step - loss: 42.2500 - mae: 42.2500\n",
      "Epoch 70/100\n",
      "1/1 [==============================] - 0s 4ms/step - loss: 40.9375 - mae: 40.9375\n",
      "Epoch 71/100\n",
      "1/1 [==============================] - 0s 4ms/step - loss: 39.0000 - mae: 39.0000\n",
      "Epoch 72/100\n",
      "1/1 [==============================] - 0s 4ms/step - loss: 38.5625 - mae: 38.5625\n",
      "Epoch 73/100\n",
      "1/1 [==============================] - 0s 4ms/step - loss: 36.9375 - mae: 36.9375\n",
      "Epoch 74/100\n",
      "1/1 [==============================] - 0s 4ms/step - loss: 35.0000 - mae: 35.0000\n",
      "Epoch 75/100\n",
      "1/1 [==============================] - 0s 4ms/step - loss: 34.0625 - mae: 34.0625\n",
      "Epoch 76/100\n",
      "1/1 [==============================] - 0s 4ms/step - loss: 32.4375 - mae: 32.4375\n",
      "Epoch 77/100\n",
      "1/1 [==============================] - 0s 4ms/step - loss: 30.3750 - mae: 30.3750\n",
      "Epoch 78/100\n",
      "1/1 [==============================] - 0s 5ms/step - loss: 28.6250 - mae: 28.6250\n",
      "Epoch 79/100\n",
      "1/1 [==============================] - 0s 4ms/step - loss: 26.6250 - mae: 26.6250\n",
      "Epoch 80/100\n",
      "1/1 [==============================] - 0s 4ms/step - loss: 25.6875 - mae: 25.6875\n",
      "Epoch 81/100\n",
      "1/1 [==============================] - 0s 4ms/step - loss: 26.4375 - mae: 26.4375\n",
      "Epoch 82/100\n",
      "1/1 [==============================] - 0s 4ms/step - loss: 25.8750 - mae: 25.8750\n",
      "Epoch 83/100\n",
      "1/1 [==============================] - 0s 4ms/step - loss: 22.6250 - mae: 22.6250\n",
      "Epoch 84/100\n",
      "1/1 [==============================] - 0s 4ms/step - loss: 21.0000 - mae: 21.0000\n",
      "Epoch 85/100\n",
      "1/1 [==============================] - 0s 4ms/step - loss: 20.5000 - mae: 20.5000\n",
      "Epoch 86/100\n",
      "1/1 [==============================] - 0s 4ms/step - loss: 19.7500 - mae: 19.7500\n",
      "Epoch 87/100\n",
      "1/1 [==============================] - 0s 4ms/step - loss: 18.5625 - mae: 18.5625\n",
      "Epoch 88/100\n",
      "1/1 [==============================] - 0s 4ms/step - loss: 17.1875 - mae: 17.1875\n",
      "Epoch 89/100\n",
      "1/1 [==============================] - 0s 4ms/step - loss: 16.1250 - mae: 16.1250\n",
      "Epoch 90/100\n",
      "1/1 [==============================] - 0s 4ms/step - loss: 23.7500 - mae: 23.7500\n",
      "Epoch 91/100\n",
      "1/1 [==============================] - 0s 5ms/step - loss: 19.2500 - mae: 19.2500\n",
      "Epoch 92/100\n",
      "1/1 [==============================] - 0s 4ms/step - loss: 13.0625 - mae: 13.0625\n",
      "Epoch 93/100\n",
      "1/1 [==============================] - 0s 4ms/step - loss: 8.5000 - mae: 8.5000\n",
      "Epoch 94/100\n",
      "1/1 [==============================] - 0s 4ms/step - loss: 19.5625 - mae: 19.5625\n",
      "Epoch 95/100\n",
      "1/1 [==============================] - 0s 4ms/step - loss: 12.7500 - mae: 12.7500\n",
      "Epoch 96/100\n",
      "1/1 [==============================] - 0s 4ms/step - loss: 11.5625 - mae: 11.5625\n",
      "Epoch 97/100\n",
      "1/1 [==============================] - 0s 4ms/step - loss: 20.6875 - mae: 20.6875\n",
      "Epoch 98/100\n",
      "1/1 [==============================] - 0s 4ms/step - loss: 8.7500 - mae: 8.7500\n",
      "Epoch 99/100\n",
      "1/1 [==============================] - 0s 4ms/step - loss: 8.5000 - mae: 8.5000\n",
      "Epoch 100/100\n",
      "1/1 [==============================] - 0s 4ms/step - loss: 8.6875 - mae: 8.6875\n"
     ]
    }
   ],
   "source": [
    "# 2. Try building a neural network with 4 Dense layers and fitting it to your own regression dataset,how does it perform\n",
    "X_train, X_test, y_train, y_test = train_test_split(X.numpy(),y.numpy(),test_size=.2,random_state=42)\n",
    "tf.random.set_seed(42)\n",
    "model_1_new = tf.keras.Sequential([\n",
    "    tf.keras.layers.Dense(100,activation='relu'),\n",
    "    tf.keras.layers.Dense(100,activation='relu'),\n",
    "    tf.keras.layers.Dense(100,activation='relu'),\n",
    "    tf.keras.layers.Dense(1)\n",
    "])\n",
    "model_1_new.compile(loss=tf.keras.losses.mae,\n",
    "                optimizer=tf.keras.optimizers.Adam(0.01),\n",
    "                metrics=['mae']\n",
    "                )\n",
    "\n",
    "history1=model_1_new.fit(tf.expand_dims(X_train,axis=-1),y_train,epochs=100)"
   ]
  },
  {
   "cell_type": "code",
   "execution_count": 81,
   "metadata": {
    "colab": {
     "base_uri": "https://localhost:8080/"
    },
    "executionInfo": {
     "elapsed": 16,
     "status": "ok",
     "timestamp": 1673953652434,
     "user": {
      "displayName": "Ujjwal Mk",
      "userId": "12008983132848472926"
     },
     "user_tz": -330
    },
    "id": "VselEW-LjznQ",
    "outputId": "cd55a76d-9d7c-4ca7-9958-0e7c0c15820d"
   },
   "outputs": [
    {
     "name": "stdout",
     "output_type": "stream",
     "text": [
      "1/1 [==============================] - 0s 43ms/step\n"
     ]
    },
    {
     "data": {
      "text/plain": [
       "(array([[487.5],\n",
       "        [348.5]], dtype=float16),\n",
       " array([100, 200], dtype=int32))"
      ]
     },
     "execution_count": 81,
     "metadata": {},
     "output_type": "execute_result"
    }
   ],
   "source": [
    "y_pred = model_1_new.predict(X_test)\n",
    "y_pred,y_test"
   ]
  },
  {
   "cell_type": "code",
   "execution_count": 82,
   "metadata": {
    "colab": {
     "base_uri": "https://localhost:8080/",
     "height": 547
    },
    "executionInfo": {
     "elapsed": 754,
     "status": "ok",
     "timestamp": 1673953653179,
     "user": {
      "displayName": "Ujjwal Mk",
      "userId": "12008983132848472926"
     },
     "user_tz": -330
    },
    "id": "O8jIlfUskPTs",
    "outputId": "f9995804-059d-4c13-d23d-b876b591e510"
   },
   "outputs": [
    {
     "data": {
      "text/plain": [
       "(<Axes: >, <Axes: >)"
      ]
     },
     "execution_count": 82,
     "metadata": {},
     "output_type": "execute_result"
    },
    {
     "data": {
      "image/png": "[encoded data removed]",
      "text/plain": [
       "<Figure size 640x480 with 1 Axes>"
      ]
     },
     "metadata": {},
     "output_type": "display_data"
    },
    {
     "data": {
      "image/png": "[encoded data removed]",
      "text/plain": [
       "<Figure size 640x480 with 1 Axes>"
      ]
     },
     "metadata": {},
     "output_type": "display_data"
    }
   ],
   "source": [
    "pd.DataFrame(history.history).plot(),pd.DataFrame(history1.history).plot() "
   ]
  },
  {
   "cell_type": "code",
   "execution_count": 83,
   "metadata": {
    "colab": {
     "base_uri": "https://localhost:8080/"
    },
    "executionInfo": {
     "elapsed": 36,
     "status": "ok",
     "timestamp": 1673953653180,
     "user": {
      "displayName": "Ujjwal Mk",
      "userId": "12008983132848472926"
     },
     "user_tz": -330
    },
    "id": "6OAf_tpHkYen",
    "outputId": "4506a989-964b-4606-9869-25dd0243e322"
   },
   "outputs": [
    {
     "name": "stdout",
     "output_type": "stream",
     "text": [
      "Model: \"sequential_8\"\n",
      "_________________________________________________________________\n",
      " Layer (type)                Output Shape              Param #   \n",
      "=================================================================\n",
      " dense_21 (Dense)            (None, 100)               1200      \n",
      "                                                                 \n",
      " dense_22 (Dense)            (None, 100)               10100     \n",
      "                                                                 \n",
      " dense_23 (Dense)            (None, 1)                 101       \n",
      "                                                                 \n",
      "=================================================================\n",
      "Total params: 11401 (44.54 KB)\n",
      "Trainable params: 11401 (44.54 KB)\n",
      "Non-trainable params: 0 (0.00 Byte)\n",
      "_________________________________________________________________\n"
     ]
    }
   ],
   "source": [
    "# 3. Try and improve insurance dataset\n",
    "df_model.summary()"
   ]
  },
  {
   "cell_type": "code",
   "execution_count": 84,
   "metadata": {
    "colab": {
     "base_uri": "https://localhost:8080/"
    },
    "executionInfo": {
     "elapsed": 33,
     "status": "ok",
     "timestamp": 1673953653180,
     "user": {
      "displayName": "Ujjwal Mk",
      "userId": "12008983132848472926"
     },
     "user_tz": -330
    },
    "id": "JwcBFYVfk13v",
    "outputId": "e8b8d806-2ee9-44ae-d7cb-7b8c49e32721"
   },
   "outputs": [
    {
     "name": "stderr",
     "output_type": "stream",
     "text": [
      "/home/ujjwal/miniconda3/envs/tf2.13/lib/python3.9/site-packages/sklearn/utils/deprecation.py:87: FutureWarning: Function load_boston is deprecated; `load_boston` is deprecated in 1.0 and will be removed in 1.2.\n",
      "\n",
      "    The Boston housing prices dataset has an ethical problem. You can refer to\n",
      "    the documentation of this function for further details.\n",
      "\n",
      "    The scikit-learn maintainers therefore strongly discourage the use of this\n",
      "    dataset unless the purpose of the code is to study and educate about\n",
      "    ethical issues in data science and machine learning.\n",
      "\n",
      "    In this special case, you can fetch the dataset from the original\n",
      "    source::\n",
      "\n",
      "        import pandas as pd\n",
      "        import numpy as np\n",
      "\n",
      "        data_url = \"http://lib.stat.cmu.edu/datasets/boston\"\n",
      "        raw_df = pd.read_csv(data_url, sep=\"\\s+\", skiprows=22, header=None)\n",
      "        data = np.hstack([raw_df.values[::2, :], raw_df.values[1::2, :2]])\n",
      "        target = raw_df.values[1::2, 2]\n",
      "\n",
      "    Alternative datasets include the California housing dataset (i.e.\n",
      "    :func:`~sklearn.datasets.fetch_california_housing`) and the Ames housing\n",
      "    dataset. You can load the datasets as follows::\n",
      "\n",
      "        from sklearn.datasets import fetch_california_housing\n",
      "        housing = fetch_california_housing()\n",
      "\n",
      "    for the California housing dataset and::\n",
      "\n",
      "        from sklearn.datasets import fetch_openml\n",
      "        housing = fetch_openml(name=\"house_prices\", as_frame=True)\n",
      "\n",
      "    for the Ames housing dataset.\n",
      "  warnings.warn(msg, category=FutureWarning)\n"
     ]
    }
   ],
   "source": [
    "# 4. Import the Boston pricing dataset from Tensorflow tf.keras.datasets and model it\n",
    "from sklearn.datasets import load_boston\n",
    "load = load_boston()\n",
    "df = pd.DataFrame(load.data,columns=load.feature_names)"
   ]
  },
  {
   "cell_type": "code",
   "execution_count": 85,
   "metadata": {
    "colab": {
     "base_uri": "https://localhost:8080/",
     "height": 483
    },
    "executionInfo": {
     "elapsed": 22,
     "status": "ok",
     "timestamp": 1673953653180,
     "user": {
      "displayName": "Ujjwal Mk",
      "userId": "12008983132848472926"
     },
     "user_tz": -330
    },
    "id": "ym7hgBpuo6l6",
    "outputId": "27330af5-60a6-4482-eebf-86a507a5f031"
   },
   "outputs": [
    {
     "data": {
      "text/html": [
       "<div>\n",
       "<style scoped>\n",
       "    .dataframe tbody tr th:only-of-type {\n",
       "        vertical-align: middle;\n",
       "    }\n",
       "\n",
       "    .dataframe tbody tr th {\n",
       "        vertical-align: top;\n",
       "    }\n",
       "\n",
       "    .dataframe thead th {\n",
       "        text-align: right;\n",
       "    }\n",
       "</style>\n",
       "<table border=\"1\" class=\"dataframe\">\n",
       "  <thead>\n",
       "    <tr style=\"text-align: right;\">\n",
       "      <th></th>\n",
       "      <th>CRIM</th>\n",
       "      <th>ZN</th>\n",
       "      <th>INDUS</th>\n",
       "      <th>CHAS</th>\n",
       "      <th>NOX</th>\n",
       "      <th>RM</th>\n",
       "      <th>AGE</th>\n",
       "      <th>DIS</th>\n",
       "      <th>RAD</th>\n",
       "      <th>TAX</th>\n",
       "      <th>PTRATIO</th>\n",
       "      <th>B</th>\n",
       "      <th>LSTAT</th>\n",
       "    </tr>\n",
       "  </thead>\n",
       "  <tbody>\n",
       "    <tr>\n",
       "      <th>0</th>\n",
       "      <td>0.00632</td>\n",
       "      <td>18.0</td>\n",
       "      <td>2.31</td>\n",
       "      <td>0.0</td>\n",
       "      <td>0.538</td>\n",
       "      <td>6.575</td>\n",
       "      <td>65.2</td>\n",
       "      <td>4.0900</td>\n",
       "      <td>1.0</td>\n",
       "      <td>296.0</td>\n",
       "      <td>15.3</td>\n",
       "      <td>396.90</td>\n",
       "      <td>4.98</td>\n",
       "    </tr>\n",
       "    <tr>\n",
       "      <th>1</th>\n",
       "      <td>0.02731</td>\n",
       "      <td>0.0</td>\n",
       "      <td>7.07</td>\n",
       "      <td>0.0</td>\n",
       "      <td>0.469</td>\n",
       "      <td>6.421</td>\n",
       "      <td>78.9</td>\n",
       "      <td>4.9671</td>\n",
       "      <td>2.0</td>\n",
       "      <td>242.0</td>\n",
       "      <td>17.8</td>\n",
       "      <td>396.90</td>\n",
       "      <td>9.14</td>\n",
       "    </tr>\n",
       "    <tr>\n",
       "      <th>2</th>\n",
       "      <td>0.02729</td>\n",
       "      <td>0.0</td>\n",
       "      <td>7.07</td>\n",
       "      <td>0.0</td>\n",
       "      <td>0.469</td>\n",
       "      <td>7.185</td>\n",
       "      <td>61.1</td>\n",
       "      <td>4.9671</td>\n",
       "      <td>2.0</td>\n",
       "      <td>242.0</td>\n",
       "      <td>17.8</td>\n",
       "      <td>392.83</td>\n",
       "      <td>4.03</td>\n",
       "    </tr>\n",
       "    <tr>\n",
       "      <th>3</th>\n",
       "      <td>0.03237</td>\n",
       "      <td>0.0</td>\n",
       "      <td>2.18</td>\n",
       "      <td>0.0</td>\n",
       "      <td>0.458</td>\n",
       "      <td>6.998</td>\n",
       "      <td>45.8</td>\n",
       "      <td>6.0622</td>\n",
       "      <td>3.0</td>\n",
       "      <td>222.0</td>\n",
       "      <td>18.7</td>\n",
       "      <td>394.63</td>\n",
       "      <td>2.94</td>\n",
       "    </tr>\n",
       "    <tr>\n",
       "      <th>4</th>\n",
       "      <td>0.06905</td>\n",
       "      <td>0.0</td>\n",
       "      <td>2.18</td>\n",
       "      <td>0.0</td>\n",
       "      <td>0.458</td>\n",
       "      <td>7.147</td>\n",
       "      <td>54.2</td>\n",
       "      <td>6.0622</td>\n",
       "      <td>3.0</td>\n",
       "      <td>222.0</td>\n",
       "      <td>18.7</td>\n",
       "      <td>396.90</td>\n",
       "      <td>5.33</td>\n",
       "    </tr>\n",
       "    <tr>\n",
       "      <th>...</th>\n",
       "      <td>...</td>\n",
       "      <td>...</td>\n",
       "      <td>...</td>\n",
       "      <td>...</td>\n",
       "      <td>...</td>\n",
       "      <td>...</td>\n",
       "      <td>...</td>\n",
       "      <td>...</td>\n",
       "      <td>...</td>\n",
       "      <td>...</td>\n",
       "      <td>...</td>\n",
       "      <td>...</td>\n",
       "      <td>...</td>\n",
       "    </tr>\n",
       "    <tr>\n",
       "      <th>501</th>\n",
       "      <td>0.06263</td>\n",
       "      <td>0.0</td>\n",
       "      <td>11.93</td>\n",
       "      <td>0.0</td>\n",
       "      <td>0.573</td>\n",
       "      <td>6.593</td>\n",
       "      <td>69.1</td>\n",
       "      <td>2.4786</td>\n",
       "      <td>1.0</td>\n",
       "      <td>273.0</td>\n",
       "      <td>21.0</td>\n",
       "      <td>391.99</td>\n",
       "      <td>9.67</td>\n",
       "    </tr>\n",
       "    <tr>\n",
       "      <th>502</th>\n",
       "      <td>0.04527</td>\n",
       "      <td>0.0</td>\n",
       "      <td>11.93</td>\n",
       "      <td>0.0</td>\n",
       "      <td>0.573</td>\n",
       "      <td>6.120</td>\n",
       "      <td>76.7</td>\n",
       "      <td>2.2875</td>\n",
       "      <td>1.0</td>\n",
       "      <td>273.0</td>\n",
       "      <td>21.0</td>\n",
       "      <td>396.90</td>\n",
       "      <td>9.08</td>\n",
       "    </tr>\n",
       "    <tr>\n",
       "      <th>503</th>\n",
       "      <td>0.06076</td>\n",
       "      <td>0.0</td>\n",
       "      <td>11.93</td>\n",
       "      <td>0.0</td>\n",
       "      <td>0.573</td>\n",
       "      <td>6.976</td>\n",
       "      <td>91.0</td>\n",
       "      <td>2.1675</td>\n",
       "      <td>1.0</td>\n",
       "      <td>273.0</td>\n",
       "      <td>21.0</td>\n",
       "      <td>396.90</td>\n",
       "      <td>5.64</td>\n",
       "    </tr>\n",
       "    <tr>\n",
       "      <th>504</th>\n",
       "      <td>0.10959</td>\n",
       "      <td>0.0</td>\n",
       "      <td>11.93</td>\n",
       "      <td>0.0</td>\n",
       "      <td>0.573</td>\n",
       "      <td>6.794</td>\n",
       "      <td>89.3</td>\n",
       "      <td>2.3889</td>\n",
       "      <td>1.0</td>\n",
       "      <td>273.0</td>\n",
       "      <td>21.0</td>\n",
       "      <td>393.45</td>\n",
       "      <td>6.48</td>\n",
       "    </tr>\n",
       "    <tr>\n",
       "      <th>505</th>\n",
       "      <td>0.04741</td>\n",
       "      <td>0.0</td>\n",
       "      <td>11.93</td>\n",
       "      <td>0.0</td>\n",
       "      <td>0.573</td>\n",
       "      <td>6.030</td>\n",
       "      <td>80.8</td>\n",
       "      <td>2.5050</td>\n",
       "      <td>1.0</td>\n",
       "      <td>273.0</td>\n",
       "      <td>21.0</td>\n",
       "      <td>396.90</td>\n",
       "      <td>7.88</td>\n",
       "    </tr>\n",
       "  </tbody>\n",
       "</table>\n",
       "<p>506 rows × 13 columns</p>\n",
       "</div>"
      ],
      "text/plain": [
       "        CRIM    ZN  INDUS  CHAS    NOX     RM   AGE     DIS  RAD    TAX  \\\n",
       "0    0.00632  18.0   2.31   0.0  0.538  6.575  65.2  4.0900  1.0  296.0   \n",
       "1    0.02731   0.0   7.07   0.0  0.469  6.421  78.9  4.9671  2.0  242.0   \n",
       "2    0.02729   0.0   7.07   0.0  0.469  7.185  61.1  4.9671  2.0  242.0   \n",
       "3    0.03237   0.0   2.18   0.0  0.458  6.998  45.8  6.0622  3.0  222.0   \n",
       "4    0.06905   0.0   2.18   0.0  0.458  7.147  54.2  6.0622  3.0  222.0   \n",
       "..       ...   ...    ...   ...    ...    ...   ...     ...  ...    ...   \n",
       "501  0.06263   0.0  11.93   0.0  0.573  6.593  69.1  2.4786  1.0  273.0   \n",
       "502  0.04527   0.0  11.93   0.0  0.573  6.120  76.7  2.2875  1.0  273.0   \n",
       "503  0.06076   0.0  11.93   0.0  0.573  6.976  91.0  2.1675  1.0  273.0   \n",
       "504  0.10959   0.0  11.93   0.0  0.573  6.794  89.3  2.3889  1.0  273.0   \n",
       "505  0.04741   0.0  11.93   0.0  0.573  6.030  80.8  2.5050  1.0  273.0   \n",
       "\n",
       "     PTRATIO       B  LSTAT  \n",
       "0       15.3  396.90   4.98  \n",
       "1       17.8  396.90   9.14  \n",
       "2       17.8  392.83   4.03  \n",
       "3       18.7  394.63   2.94  \n",
       "4       18.7  396.90   5.33  \n",
       "..       ...     ...    ...  \n",
       "501     21.0  391.99   9.67  \n",
       "502     21.0  396.90   9.08  \n",
       "503     21.0  396.90   5.64  \n",
       "504     21.0  393.45   6.48  \n",
       "505     21.0  396.90   7.88  \n",
       "\n",
       "[506 rows x 13 columns]"
      ]
     },
     "execution_count": 85,
     "metadata": {},
     "output_type": "execute_result"
    }
   ],
   "source": [
    "df"
   ]
  },
  {
   "cell_type": "code",
   "execution_count": 86,
   "metadata": {
    "colab": {
     "base_uri": "https://localhost:8080/"
    },
    "executionInfo": {
     "elapsed": 21,
     "status": "ok",
     "timestamp": 1673953653180,
     "user": {
      "displayName": "Ujjwal Mk",
      "userId": "12008983132848472926"
     },
     "user_tz": -330
    },
    "id": "BrAtDf7-m-Nv",
    "outputId": "26bf42de-6f08-4248-c049-56bbc1fb5199"
   },
   "outputs": [
    {
     "data": {
      "text/plain": [
       "(        CRIM    ZN  INDUS  CHAS    NOX     RM   AGE     DIS  RAD    TAX  \\\n",
       " 0    0.00632  18.0   2.31   0.0  0.538  6.575  65.2  4.0900  1.0  296.0   \n",
       " 1    0.02731   0.0   7.07   0.0  0.469  6.421  78.9  4.9671  2.0  242.0   \n",
       " 2    0.02729   0.0   7.07   0.0  0.469  7.185  61.1  4.9671  2.0  242.0   \n",
       " 3    0.03237   0.0   2.18   0.0  0.458  6.998  45.8  6.0622  3.0  222.0   \n",
       " 4    0.06905   0.0   2.18   0.0  0.458  7.147  54.2  6.0622  3.0  222.0   \n",
       " ..       ...   ...    ...   ...    ...    ...   ...     ...  ...    ...   \n",
       " 501  0.06263   0.0  11.93   0.0  0.573  6.593  69.1  2.4786  1.0  273.0   \n",
       " 502  0.04527   0.0  11.93   0.0  0.573  6.120  76.7  2.2875  1.0  273.0   \n",
       " 503  0.06076   0.0  11.93   0.0  0.573  6.976  91.0  2.1675  1.0  273.0   \n",
       " 504  0.10959   0.0  11.93   0.0  0.573  6.794  89.3  2.3889  1.0  273.0   \n",
       " 505  0.04741   0.0  11.93   0.0  0.573  6.030  80.8  2.5050  1.0  273.0   \n",
       " \n",
       "      PTRATIO       B  LSTAT  \n",
       " 0       15.3  396.90   4.98  \n",
       " 1       17.8  396.90   9.14  \n",
       " 2       17.8  392.83   4.03  \n",
       " 3       18.7  394.63   2.94  \n",
       " 4       18.7  396.90   5.33  \n",
       " ..       ...     ...    ...  \n",
       " 501     21.0  391.99   9.67  \n",
       " 502     21.0  396.90   9.08  \n",
       " 503     21.0  396.90   5.64  \n",
       " 504     21.0  393.45   6.48  \n",
       " 505     21.0  396.90   7.88  \n",
       " \n",
       " [506 rows x 13 columns],\n",
       "              CRIM          ZN       INDUS        CHAS         NOX          RM  \\\n",
       " count  506.000000  506.000000  506.000000  506.000000  506.000000  506.000000   \n",
       " mean     3.613524   11.363636   11.136779    0.069170    0.554695    6.284634   \n",
       " std      8.601545   23.322453    6.860353    0.253994    0.115878    0.702617   \n",
       " min      0.006320    0.000000    0.460000    0.000000    0.385000    3.561000   \n",
       " 25%      0.082045    0.000000    5.190000    0.000000    0.449000    5.885500   \n",
       " 50%      0.256510    0.000000    9.690000    0.000000    0.538000    6.208500   \n",
       " 75%      3.677083   12.500000   18.100000    0.000000    0.624000    6.623500   \n",
       " max     88.976200  100.000000   27.740000    1.000000    0.871000    8.780000   \n",
       " \n",
       "               AGE         DIS         RAD         TAX     PTRATIO           B  \\\n",
       " count  506.000000  506.000000  506.000000  506.000000  506.000000  506.000000   \n",
       " mean    68.574901    3.795043    9.549407  408.237154   18.455534  356.674032   \n",
       " std     28.148861    2.105710    8.707259  168.537116    2.164946   91.294864   \n",
       " min      2.900000    1.129600    1.000000  187.000000   12.600000    0.320000   \n",
       " 25%     45.025000    2.100175    4.000000  279.000000   17.400000  375.377500   \n",
       " 50%     77.500000    3.207450    5.000000  330.000000   19.050000  391.440000   \n",
       " 75%     94.075000    5.188425   24.000000  666.000000   20.200000  396.225000   \n",
       " max    100.000000   12.126500   24.000000  711.000000   22.000000  396.900000   \n",
       " \n",
       "             LSTAT  \n",
       " count  506.000000  \n",
       " mean    12.653063  \n",
       " std      7.141062  \n",
       " min      1.730000  \n",
       " 25%      6.950000  \n",
       " 50%     11.360000  \n",
       " 75%     16.955000  \n",
       " max     37.970000  )"
      ]
     },
     "execution_count": 86,
     "metadata": {},
     "output_type": "execute_result"
    }
   ],
   "source": [
    "df,df.describe()"
   ]
  },
  {
   "cell_type": "code",
   "execution_count": 87,
   "metadata": {
    "colab": {
     "base_uri": "https://localhost:8080/"
    },
    "executionInfo": {
     "elapsed": 11,
     "status": "ok",
     "timestamp": 1673953653180,
     "user": {
      "displayName": "Ujjwal Mk",
      "userId": "12008983132848472926"
     },
     "user_tz": -330
    },
    "id": "Q-glt9uVpeUp",
    "outputId": "b1a27b5a-a511-4311-9cf6-f94d827890d9"
   },
   "outputs": [
    {
     "data": {
      "text/plain": [
       "(        CRIM    ZN  INDUS  CHAS    NOX     RM   AGE     DIS  RAD  PTRATIO  \\\n",
       " 0    0.00632  18.0   2.31   0.0  0.538  6.575  65.2  4.0900  1.0     15.3   \n",
       " 1    0.02731   0.0   7.07   0.0  0.469  6.421  78.9  4.9671  2.0     17.8   \n",
       " 2    0.02729   0.0   7.07   0.0  0.469  7.185  61.1  4.9671  2.0     17.8   \n",
       " 3    0.03237   0.0   2.18   0.0  0.458  6.998  45.8  6.0622  3.0     18.7   \n",
       " 4    0.06905   0.0   2.18   0.0  0.458  7.147  54.2  6.0622  3.0     18.7   \n",
       " ..       ...   ...    ...   ...    ...    ...   ...     ...  ...      ...   \n",
       " 501  0.06263   0.0  11.93   0.0  0.573  6.593  69.1  2.4786  1.0     21.0   \n",
       " 502  0.04527   0.0  11.93   0.0  0.573  6.120  76.7  2.2875  1.0     21.0   \n",
       " 503  0.06076   0.0  11.93   0.0  0.573  6.976  91.0  2.1675  1.0     21.0   \n",
       " 504  0.10959   0.0  11.93   0.0  0.573  6.794  89.3  2.3889  1.0     21.0   \n",
       " 505  0.04741   0.0  11.93   0.0  0.573  6.030  80.8  2.5050  1.0     21.0   \n",
       " \n",
       "           B  LSTAT  \n",
       " 0    396.90   4.98  \n",
       " 1    396.90   9.14  \n",
       " 2    392.83   4.03  \n",
       " 3    394.63   2.94  \n",
       " 4    396.90   5.33  \n",
       " ..      ...    ...  \n",
       " 501  391.99   9.67  \n",
       " 502  396.90   9.08  \n",
       " 503  396.90   5.64  \n",
       " 504  393.45   6.48  \n",
       " 505  396.90   7.88  \n",
       " \n",
       " [506 rows x 12 columns],\n",
       " 0      296.0\n",
       " 1      242.0\n",
       " 2      242.0\n",
       " 3      222.0\n",
       " 4      222.0\n",
       "        ...  \n",
       " 501    273.0\n",
       " 502    273.0\n",
       " 503    273.0\n",
       " 504    273.0\n",
       " 505    273.0\n",
       " Name: TAX, Length: 506, dtype: float64)"
      ]
     },
     "execution_count": 87,
     "metadata": {},
     "output_type": "execute_result"
    }
   ],
   "source": [
    "X = df.drop(\"TAX\",axis=1)\n",
    "y = df[\"TAX\"]\n",
    "X,y"
   ]
  },
  {
   "cell_type": "code",
   "execution_count": 88,
   "metadata": {
    "colab": {
     "base_uri": "https://localhost:8080/",
     "height": 265
    },
    "executionInfo": {
     "elapsed": 746,
     "status": "ok",
     "timestamp": 1673953653922,
     "user": {
      "displayName": "Ujjwal Mk",
      "userId": "12008983132848472926"
     },
     "user_tz": -330
    },
    "id": "ae8pbNxDpkio",
    "outputId": "b1ba2b20-bf1e-4394-aa82-e9fc8636c932"
   },
   "outputs": [
    {
     "data": {
      "image/png": "[encoded data removed]",
      "text/plain": [
       "<Figure size 640x480 with 1 Axes>"
      ]
     },
     "metadata": {},
     "output_type": "display_data"
    }
   ],
   "source": [
    "for i in X:\n",
    "  plt.scatter(df[i],y)"
   ]
  },
  {
   "cell_type": "code",
   "execution_count": 89,
   "metadata": {
    "colab": {
     "base_uri": "https://localhost:8080/"
    },
    "executionInfo": {
     "elapsed": 21,
     "status": "ok",
     "timestamp": 1673953653923,
     "user": {
      "displayName": "Ujjwal Mk",
      "userId": "12008983132848472926"
     },
     "user_tz": -330
    },
    "id": "bqYNnV5fp6iy",
    "outputId": "29a6177e-78e8-48d5-9edf-e3b3e8386ec3"
   },
   "outputs": [
    {
     "data": {
      "text/plain": [
       "(         CRIM    ZN  INDUS  CHAS     NOX     RM   AGE     DIS   RAD  PTRATIO  \\\n",
       " 477  15.02340   0.0  18.10   0.0  0.6140  5.304  97.3  2.1007  24.0     20.2   \n",
       " 15    0.62739   0.0   8.14   0.0  0.5380  5.834  56.5  4.4986   4.0     21.0   \n",
       " 332   0.03466  35.0   6.06   0.0  0.4379  6.031  23.3  6.6407   1.0     16.9   \n",
       " 423   7.05042   0.0  18.10   0.0  0.6140  6.103  85.1  2.0218  24.0     20.2   \n",
       " 19    0.72580   0.0   8.14   0.0  0.5380  5.727  69.5  3.7965   4.0     21.0   \n",
       " ..        ...   ...    ...   ...     ...    ...   ...     ...   ...      ...   \n",
       " 106   0.17120   0.0   8.56   0.0  0.5200  5.836  91.9  2.2110   5.0     20.9   \n",
       " 270   0.29916  20.0   6.96   0.0  0.4640  5.856  42.1  4.4290   3.0     18.6   \n",
       " 348   0.01501  80.0   2.01   0.0  0.4350  6.635  29.7  8.3440   4.0     17.0   \n",
       " 435  11.16040   0.0  18.10   0.0  0.7400  6.629  94.6  2.1247  24.0     20.2   \n",
       " 102   0.22876   0.0   8.56   0.0  0.5200  6.405  85.4  2.7147   5.0     20.9   \n",
       " \n",
       "           B  LSTAT  \n",
       " 477  349.48  24.91  \n",
       " 15   395.62   8.47  \n",
       " 332  362.25   7.83  \n",
       " 423    2.52  23.29  \n",
       " 19   390.95  11.28  \n",
       " ..      ...    ...  \n",
       " 106  395.67  18.66  \n",
       " 270  388.65  13.00  \n",
       " 348  390.94   5.99  \n",
       " 435  109.85  23.27  \n",
       " 102   70.80  10.63  \n",
       " \n",
       " [404 rows x 12 columns],\n",
       " 477    666.0\n",
       " 15     307.0\n",
       " 332    304.0\n",
       " 423    666.0\n",
       " 19     307.0\n",
       "        ...  \n",
       " 106    384.0\n",
       " 270    223.0\n",
       " 348    280.0\n",
       " 435    666.0\n",
       " 102    384.0\n",
       " Name: TAX, Length: 404, dtype: float64)"
      ]
     },
     "execution_count": 89,
     "metadata": {},
     "output_type": "execute_result"
    }
   ],
   "source": [
    "X_train,X_test,y_train,y_test = train_test_split(X,y,test_size=0.2,random_state=42)\n",
    "X_train,y_train"
   ]
  },
  {
   "cell_type": "code",
   "execution_count": 90,
   "metadata": {
    "colab": {
     "base_uri": "https://localhost:8080/",
     "height": 483
    },
    "executionInfo": {
     "elapsed": 13,
     "status": "ok",
     "timestamp": 1673953653923,
     "user": {
      "displayName": "Ujjwal Mk",
      "userId": "12008983132848472926"
     },
     "user_tz": -330
    },
    "id": "00zDTvDItm-W",
    "outputId": "b331402c-cee1-470d-de67-4d8c10a2dc86"
   },
   "outputs": [
    {
     "data": {
      "text/html": [
       "<div>\n",
       "<style scoped>\n",
       "    .dataframe tbody tr th:only-of-type {\n",
       "        vertical-align: middle;\n",
       "    }\n",
       "\n",
       "    .dataframe tbody tr th {\n",
       "        vertical-align: top;\n",
       "    }\n",
       "\n",
       "    .dataframe thead th {\n",
       "        text-align: right;\n",
       "    }\n",
       "</style>\n",
       "<table border=\"1\" class=\"dataframe\">\n",
       "  <thead>\n",
       "    <tr style=\"text-align: right;\">\n",
       "      <th></th>\n",
       "      <th>CRIM</th>\n",
       "      <th>ZN</th>\n",
       "      <th>INDUS</th>\n",
       "      <th>CHAS</th>\n",
       "      <th>NOX</th>\n",
       "      <th>RM</th>\n",
       "      <th>AGE</th>\n",
       "      <th>DIS</th>\n",
       "      <th>RAD</th>\n",
       "      <th>PTRATIO</th>\n",
       "      <th>B</th>\n",
       "      <th>LSTAT</th>\n",
       "    </tr>\n",
       "  </thead>\n",
       "  <tbody>\n",
       "    <tr>\n",
       "      <th>0</th>\n",
       "      <td>0.00632</td>\n",
       "      <td>18.0</td>\n",
       "      <td>2.31</td>\n",
       "      <td>0.0</td>\n",
       "      <td>0.538</td>\n",
       "      <td>6.575</td>\n",
       "      <td>65.2</td>\n",
       "      <td>4.0900</td>\n",
       "      <td>1.0</td>\n",
       "      <td>15.3</td>\n",
       "      <td>396.90</td>\n",
       "      <td>4.98</td>\n",
       "    </tr>\n",
       "    <tr>\n",
       "      <th>1</th>\n",
       "      <td>0.02731</td>\n",
       "      <td>0.0</td>\n",
       "      <td>7.07</td>\n",
       "      <td>0.0</td>\n",
       "      <td>0.469</td>\n",
       "      <td>6.421</td>\n",
       "      <td>78.9</td>\n",
       "      <td>4.9671</td>\n",
       "      <td>2.0</td>\n",
       "      <td>17.8</td>\n",
       "      <td>396.90</td>\n",
       "      <td>9.14</td>\n",
       "    </tr>\n",
       "    <tr>\n",
       "      <th>2</th>\n",
       "      <td>0.02729</td>\n",
       "      <td>0.0</td>\n",
       "      <td>7.07</td>\n",
       "      <td>0.0</td>\n",
       "      <td>0.469</td>\n",
       "      <td>7.185</td>\n",
       "      <td>61.1</td>\n",
       "      <td>4.9671</td>\n",
       "      <td>2.0</td>\n",
       "      <td>17.8</td>\n",
       "      <td>392.83</td>\n",
       "      <td>4.03</td>\n",
       "    </tr>\n",
       "    <tr>\n",
       "      <th>3</th>\n",
       "      <td>0.03237</td>\n",
       "      <td>0.0</td>\n",
       "      <td>2.18</td>\n",
       "      <td>0.0</td>\n",
       "      <td>0.458</td>\n",
       "      <td>6.998</td>\n",
       "      <td>45.8</td>\n",
       "      <td>6.0622</td>\n",
       "      <td>3.0</td>\n",
       "      <td>18.7</td>\n",
       "      <td>394.63</td>\n",
       "      <td>2.94</td>\n",
       "    </tr>\n",
       "    <tr>\n",
       "      <th>4</th>\n",
       "      <td>0.06905</td>\n",
       "      <td>0.0</td>\n",
       "      <td>2.18</td>\n",
       "      <td>0.0</td>\n",
       "      <td>0.458</td>\n",
       "      <td>7.147</td>\n",
       "      <td>54.2</td>\n",
       "      <td>6.0622</td>\n",
       "      <td>3.0</td>\n",
       "      <td>18.7</td>\n",
       "      <td>396.90</td>\n",
       "      <td>5.33</td>\n",
       "    </tr>\n",
       "    <tr>\n",
       "      <th>...</th>\n",
       "      <td>...</td>\n",
       "      <td>...</td>\n",
       "      <td>...</td>\n",
       "      <td>...</td>\n",
       "      <td>...</td>\n",
       "      <td>...</td>\n",
       "      <td>...</td>\n",
       "      <td>...</td>\n",
       "      <td>...</td>\n",
       "      <td>...</td>\n",
       "      <td>...</td>\n",
       "      <td>...</td>\n",
       "    </tr>\n",
       "    <tr>\n",
       "      <th>501</th>\n",
       "      <td>0.06263</td>\n",
       "      <td>0.0</td>\n",
       "      <td>11.93</td>\n",
       "      <td>0.0</td>\n",
       "      <td>0.573</td>\n",
       "      <td>6.593</td>\n",
       "      <td>69.1</td>\n",
       "      <td>2.4786</td>\n",
       "      <td>1.0</td>\n",
       "      <td>21.0</td>\n",
       "      <td>391.99</td>\n",
       "      <td>9.67</td>\n",
       "    </tr>\n",
       "    <tr>\n",
       "      <th>502</th>\n",
       "      <td>0.04527</td>\n",
       "      <td>0.0</td>\n",
       "      <td>11.93</td>\n",
       "      <td>0.0</td>\n",
       "      <td>0.573</td>\n",
       "      <td>6.120</td>\n",
       "      <td>76.7</td>\n",
       "      <td>2.2875</td>\n",
       "      <td>1.0</td>\n",
       "      <td>21.0</td>\n",
       "      <td>396.90</td>\n",
       "      <td>9.08</td>\n",
       "    </tr>\n",
       "    <tr>\n",
       "      <th>503</th>\n",
       "      <td>0.06076</td>\n",
       "      <td>0.0</td>\n",
       "      <td>11.93</td>\n",
       "      <td>0.0</td>\n",
       "      <td>0.573</td>\n",
       "      <td>6.976</td>\n",
       "      <td>91.0</td>\n",
       "      <td>2.1675</td>\n",
       "      <td>1.0</td>\n",
       "      <td>21.0</td>\n",
       "      <td>396.90</td>\n",
       "      <td>5.64</td>\n",
       "    </tr>\n",
       "    <tr>\n",
       "      <th>504</th>\n",
       "      <td>0.10959</td>\n",
       "      <td>0.0</td>\n",
       "      <td>11.93</td>\n",
       "      <td>0.0</td>\n",
       "      <td>0.573</td>\n",
       "      <td>6.794</td>\n",
       "      <td>89.3</td>\n",
       "      <td>2.3889</td>\n",
       "      <td>1.0</td>\n",
       "      <td>21.0</td>\n",
       "      <td>393.45</td>\n",
       "      <td>6.48</td>\n",
       "    </tr>\n",
       "    <tr>\n",
       "      <th>505</th>\n",
       "      <td>0.04741</td>\n",
       "      <td>0.0</td>\n",
       "      <td>11.93</td>\n",
       "      <td>0.0</td>\n",
       "      <td>0.573</td>\n",
       "      <td>6.030</td>\n",
       "      <td>80.8</td>\n",
       "      <td>2.5050</td>\n",
       "      <td>1.0</td>\n",
       "      <td>21.0</td>\n",
       "      <td>396.90</td>\n",
       "      <td>7.88</td>\n",
       "    </tr>\n",
       "  </tbody>\n",
       "</table>\n",
       "<p>506 rows × 12 columns</p>\n",
       "</div>"
      ],
      "text/plain": [
       "        CRIM    ZN  INDUS  CHAS    NOX     RM   AGE     DIS  RAD  PTRATIO  \\\n",
       "0    0.00632  18.0   2.31   0.0  0.538  6.575  65.2  4.0900  1.0     15.3   \n",
       "1    0.02731   0.0   7.07   0.0  0.469  6.421  78.9  4.9671  2.0     17.8   \n",
       "2    0.02729   0.0   7.07   0.0  0.469  7.185  61.1  4.9671  2.0     17.8   \n",
       "3    0.03237   0.0   2.18   0.0  0.458  6.998  45.8  6.0622  3.0     18.7   \n",
       "4    0.06905   0.0   2.18   0.0  0.458  7.147  54.2  6.0622  3.0     18.7   \n",
       "..       ...   ...    ...   ...    ...    ...   ...     ...  ...      ...   \n",
       "501  0.06263   0.0  11.93   0.0  0.573  6.593  69.1  2.4786  1.0     21.0   \n",
       "502  0.04527   0.0  11.93   0.0  0.573  6.120  76.7  2.2875  1.0     21.0   \n",
       "503  0.06076   0.0  11.93   0.0  0.573  6.976  91.0  2.1675  1.0     21.0   \n",
       "504  0.10959   0.0  11.93   0.0  0.573  6.794  89.3  2.3889  1.0     21.0   \n",
       "505  0.04741   0.0  11.93   0.0  0.573  6.030  80.8  2.5050  1.0     21.0   \n",
       "\n",
       "          B  LSTAT  \n",
       "0    396.90   4.98  \n",
       "1    396.90   9.14  \n",
       "2    392.83   4.03  \n",
       "3    394.63   2.94  \n",
       "4    396.90   5.33  \n",
       "..      ...    ...  \n",
       "501  391.99   9.67  \n",
       "502  396.90   9.08  \n",
       "503  396.90   5.64  \n",
       "504  393.45   6.48  \n",
       "505  396.90   7.88  \n",
       "\n",
       "[506 rows x 12 columns]"
      ]
     },
     "execution_count": 90,
     "metadata": {},
     "output_type": "execute_result"
    }
   ],
   "source": [
    "X"
   ]
  },
  {
   "cell_type": "code",
   "execution_count": 91,
   "metadata": {
    "executionInfo": {
     "elapsed": 13,
     "status": "ok",
     "timestamp": 1673953653923,
     "user": {
      "displayName": "Ujjwal Mk",
      "userId": "12008983132848472926"
     },
     "user_tz": -330
    },
    "id": "DgC8tSLwtLXK"
   },
   "outputs": [],
   "source": [
    "from sklearn.preprocessing import MinMaxScaler\n",
    "from sklearn.compose import make_column_transformer\n",
    "\n",
    "ct = make_column_transformer(\n",
    "    (MinMaxScaler(),X.columns)\n",
    ")\n",
    "\n",
    "ct.fit(X_train)\n",
    "\n",
    "X_train = ct.transform(X_train)\n",
    "X_test = ct.transform(X_test)"
   ]
  },
  {
   "cell_type": "code",
   "execution_count": 92,
   "metadata": {
    "colab": {
     "base_uri": "https://localhost:8080/"
    },
    "executionInfo": {
     "elapsed": 6266,
     "status": "ok",
     "timestamp": 1673953660177,
     "user": {
      "displayName": "Ujjwal Mk",
      "userId": "12008983132848472926"
     },
     "user_tz": -330
    },
    "id": "wJxCr2rlqPF0",
    "outputId": "e06bb1d6-e058-4b23-deef-98b246a51780"
   },
   "outputs": [
    {
     "name": "stdout",
     "output_type": "stream",
     "text": [
      "Epoch 1/100\n",
      "13/13 [==============================] - 1s 2ms/step - loss: 394.8342 - mae: 394.8281\n",
      "Epoch 2/100\n",
      "13/13 [==============================] - 0s 2ms/step - loss: 268.6213 - mae: 268.6310\n",
      "Epoch 3/100\n",
      "13/13 [==============================] - 0s 2ms/step - loss: 168.6658 - mae: 168.6795\n",
      "Epoch 4/100\n",
      "13/13 [==============================] - 0s 2ms/step - loss: 148.1077 - mae: 148.0920\n",
      "Epoch 5/100\n",
      "13/13 [==============================] - 0s 2ms/step - loss: 133.7760 - mae: 133.7886\n",
      "Epoch 6/100\n",
      "13/13 [==============================] - 0s 2ms/step - loss: 133.2865 - mae: 133.3106\n",
      "Epoch 7/100\n",
      "13/13 [==============================] - 0s 2ms/step - loss: 130.2191 - mae: 130.1979\n",
      "Epoch 8/100\n",
      "13/13 [==============================] - 0s 2ms/step - loss: 129.4010 - mae: 129.3951\n",
      "Epoch 9/100\n",
      "13/13 [==============================] - 0s 2ms/step - loss: 131.3973 - mae: 131.3955\n",
      "Epoch 10/100\n",
      "13/13 [==============================] - 0s 2ms/step - loss: 131.5291 - mae: 131.5156\n",
      "Epoch 11/100\n",
      "13/13 [==============================] - 0s 2ms/step - loss: 130.2079 - mae: 130.2096\n",
      "Epoch 12/100\n",
      "13/13 [==============================] - 0s 2ms/step - loss: 130.5223 - mae: 130.5165\n",
      "Epoch 13/100\n",
      "13/13 [==============================] - 0s 2ms/step - loss: 130.3719 - mae: 130.3790\n",
      "Epoch 14/100\n",
      "13/13 [==============================] - 0s 2ms/step - loss: 130.3948 - mae: 130.4017\n",
      "Epoch 15/100\n",
      "13/13 [==============================] - 0s 2ms/step - loss: 130.0829 - mae: 130.0602\n",
      "Epoch 16/100\n",
      "13/13 [==============================] - 0s 2ms/step - loss: 131.9579 - mae: 131.9619\n",
      "Epoch 17/100\n",
      "13/13 [==============================] - 0s 2ms/step - loss: 130.3366 - mae: 130.3273\n",
      "Epoch 18/100\n",
      "13/13 [==============================] - 0s 2ms/step - loss: 129.8144 - mae: 129.8086\n",
      "Epoch 19/100\n",
      "13/13 [==============================] - 0s 2ms/step - loss: 129.9059 - mae: 129.8855\n",
      "Epoch 20/100\n",
      "13/13 [==============================] - 0s 2ms/step - loss: 130.9115 - mae: 130.9294\n",
      "Epoch 21/100\n",
      "13/13 [==============================] - 0s 2ms/step - loss: 131.2413 - mae: 131.2322\n",
      "Epoch 22/100\n",
      "13/13 [==============================] - 0s 2ms/step - loss: 131.6906 - mae: 131.6935\n",
      "Epoch 23/100\n",
      "13/13 [==============================] - 0s 2ms/step - loss: 130.2735 - mae: 130.2565\n",
      "Epoch 24/100\n",
      "13/13 [==============================] - 0s 2ms/step - loss: 129.6497 - mae: 129.6481\n",
      "Epoch 25/100\n",
      "13/13 [==============================] - 0s 2ms/step - loss: 130.1603 - mae: 130.1635\n",
      "Epoch 26/100\n",
      "13/13 [==============================] - 0s 2ms/step - loss: 130.2717 - mae: 130.2782\n",
      "Epoch 27/100\n",
      "13/13 [==============================] - 0s 2ms/step - loss: 129.6559 - mae: 129.6502\n",
      "Epoch 28/100\n",
      "13/13 [==============================] - 0s 2ms/step - loss: 131.8292 - mae: 131.8214\n",
      "Epoch 29/100\n",
      "13/13 [==============================] - 0s 2ms/step - loss: 130.2420 - mae: 130.2266\n",
      "Epoch 30/100\n",
      "13/13 [==============================] - 0s 2ms/step - loss: 129.9604 - mae: 129.9818\n",
      "Epoch 31/100\n",
      "13/13 [==============================] - 0s 2ms/step - loss: 130.2500 - mae: 130.2345\n",
      "Epoch 32/100\n",
      "13/13 [==============================] - 0s 2ms/step - loss: 130.3577 - mae: 130.3344\n",
      "Epoch 33/100\n",
      "13/13 [==============================] - 0s 2ms/step - loss: 130.0897 - mae: 130.0981\n",
      "Epoch 34/100\n",
      "13/13 [==============================] - 0s 2ms/step - loss: 129.8441 - mae: 129.8533\n",
      "Epoch 35/100\n",
      "13/13 [==============================] - 0s 2ms/step - loss: 132.6634 - mae: 132.6553\n",
      "Epoch 36/100\n",
      "13/13 [==============================] - 0s 2ms/step - loss: 129.4505 - mae: 129.4539\n",
      "Epoch 37/100\n",
      "13/13 [==============================] - 0s 2ms/step - loss: 130.9629 - mae: 130.9562\n",
      "Epoch 38/100\n",
      "13/13 [==============================] - 0s 2ms/step - loss: 135.3082 - mae: 135.3045\n",
      "Epoch 39/100\n",
      "13/13 [==============================] - 0s 2ms/step - loss: 130.6139 - mae: 130.6338\n",
      "Epoch 40/100\n",
      "13/13 [==============================] - 0s 2ms/step - loss: 131.3168 - mae: 131.3007\n",
      "Epoch 41/100\n",
      "13/13 [==============================] - 0s 2ms/step - loss: 133.1095 - mae: 133.1376\n",
      "Epoch 42/100\n",
      "13/13 [==============================] - 0s 2ms/step - loss: 134.6460 - mae: 134.6428\n",
      "Epoch 43/100\n",
      "13/13 [==============================] - 0s 2ms/step - loss: 132.6856 - mae: 132.7118\n",
      "Epoch 44/100\n",
      "13/13 [==============================] - 0s 2ms/step - loss: 130.9047 - mae: 130.9245\n",
      "Epoch 45/100\n",
      "13/13 [==============================] - 0s 2ms/step - loss: 129.9517 - mae: 129.9404\n",
      "Epoch 46/100\n",
      "13/13 [==============================] - 0s 2ms/step - loss: 130.3057 - mae: 130.2893\n",
      "Epoch 47/100\n",
      "13/13 [==============================] - 0s 2ms/step - loss: 131.3069 - mae: 131.2964\n",
      "Epoch 48/100\n",
      "13/13 [==============================] - 0s 2ms/step - loss: 129.6906 - mae: 129.6926\n",
      "Epoch 49/100\n",
      "13/13 [==============================] - 0s 2ms/step - loss: 129.6757 - mae: 129.6559\n",
      "Epoch 50/100\n",
      "13/13 [==============================] - 0s 2ms/step - loss: 130.8775 - mae: 130.8691\n",
      "Epoch 51/100\n",
      "13/13 [==============================] - 0s 2ms/step - loss: 131.1510 - mae: 131.1766\n",
      "Epoch 52/100\n",
      "13/13 [==============================] - 0s 2ms/step - loss: 132.3589 - mae: 132.3463\n",
      "Epoch 53/100\n",
      "13/13 [==============================] - 0s 2ms/step - loss: 129.7679 - mae: 129.7651\n",
      "Epoch 54/100\n",
      "13/13 [==============================] - 0s 2ms/step - loss: 129.8837 - mae: 129.9009\n",
      "Epoch 55/100\n",
      "13/13 [==============================] - 0s 2ms/step - loss: 131.3106 - mae: 131.2930\n",
      "Epoch 56/100\n",
      "13/13 [==============================] - 0s 2ms/step - loss: 129.3639 - mae: 129.3775\n",
      "Epoch 57/100\n",
      "13/13 [==============================] - 0s 2ms/step - loss: 136.1473 - mae: 136.1440\n",
      "Epoch 58/100\n",
      "13/13 [==============================] - 0s 2ms/step - loss: 132.1231 - mae: 132.1339\n",
      "Epoch 59/100\n",
      "13/13 [==============================] - 0s 2ms/step - loss: 129.5619 - mae: 129.5583\n",
      "Epoch 60/100\n",
      "13/13 [==============================] - 0s 2ms/step - loss: 132.1201 - mae: 132.1075\n",
      "Epoch 61/100\n",
      "13/13 [==============================] - 0s 2ms/step - loss: 129.9957 - mae: 129.9858\n",
      "Epoch 62/100\n",
      "13/13 [==============================] - 0s 2ms/step - loss: 131.1955 - mae: 131.2105\n",
      "Epoch 63/100\n",
      "13/13 [==============================] - 0s 2ms/step - loss: 131.4282 - mae: 131.4348\n",
      "Epoch 64/100\n",
      "13/13 [==============================] - 0s 2ms/step - loss: 131.7079 - mae: 131.7023\n",
      "Epoch 65/100\n",
      "13/13 [==============================] - 0s 2ms/step - loss: 130.6386 - mae: 130.6339\n",
      "Epoch 66/100\n",
      "13/13 [==============================] - 0s 2ms/step - loss: 131.6349 - mae: 131.6169\n",
      "Epoch 67/100\n",
      "13/13 [==============================] - 0s 2ms/step - loss: 130.1745 - mae: 130.1731\n",
      "Epoch 68/100\n",
      "13/13 [==============================] - 0s 2ms/step - loss: 129.7599 - mae: 129.7544\n",
      "Epoch 69/100\n",
      "13/13 [==============================] - 0s 2ms/step - loss: 131.9047 - mae: 131.9297\n",
      "Epoch 70/100\n",
      "13/13 [==============================] - 0s 2ms/step - loss: 129.4610 - mae: 129.4582\n",
      "Epoch 71/100\n",
      "13/13 [==============================] - 0s 2ms/step - loss: 130.6275 - mae: 130.6224\n",
      "Epoch 72/100\n",
      "13/13 [==============================] - 0s 2ms/step - loss: 130.1312 - mae: 130.1431\n",
      "Epoch 73/100\n",
      "13/13 [==============================] - 0s 2ms/step - loss: 131.1782 - mae: 131.1768\n",
      "Epoch 74/100\n",
      "13/13 [==============================] - 0s 2ms/step - loss: 133.6510 - mae: 133.6286\n",
      "Epoch 75/100\n",
      "13/13 [==============================] - 0s 2ms/step - loss: 130.1324 - mae: 130.1315\n",
      "Epoch 76/100\n",
      "13/13 [==============================] - 0s 2ms/step - loss: 131.2166 - mae: 131.2098\n",
      "Epoch 77/100\n",
      "13/13 [==============================] - 0s 2ms/step - loss: 131.5990 - mae: 131.5711\n",
      "Epoch 78/100\n",
      "13/13 [==============================] - 0s 2ms/step - loss: 129.4592 - mae: 129.4264\n",
      "Epoch 79/100\n",
      "13/13 [==============================] - 0s 2ms/step - loss: 130.2005 - mae: 130.2084\n",
      "Epoch 80/100\n",
      "13/13 [==============================] - 0s 2ms/step - loss: 130.9431 - mae: 130.9365\n",
      "Epoch 81/100\n",
      "13/13 [==============================] - 0s 2ms/step - loss: 129.4567 - mae: 129.4321\n",
      "Epoch 82/100\n",
      "13/13 [==============================] - 0s 2ms/step - loss: 129.8428 - mae: 129.8520\n",
      "Epoch 83/100\n",
      "13/13 [==============================] - 0s 2ms/step - loss: 131.3428 - mae: 131.3202\n",
      "Epoch 84/100\n",
      "13/13 [==============================] - 0s 2ms/step - loss: 130.7908 - mae: 130.7903\n",
      "Epoch 85/100\n",
      "13/13 [==============================] - 0s 2ms/step - loss: 130.3465 - mae: 130.3767\n",
      "Epoch 86/100\n",
      "13/13 [==============================] - 0s 2ms/step - loss: 129.7215 - mae: 129.7224\n",
      "Epoch 87/100\n",
      "13/13 [==============================] - 0s 2ms/step - loss: 130.8193 - mae: 130.8305\n",
      "Epoch 88/100\n",
      "13/13 [==============================] - 0s 2ms/step - loss: 130.6770 - mae: 130.6746\n",
      "Epoch 89/100\n",
      "13/13 [==============================] - 0s 2ms/step - loss: 130.1943 - mae: 130.1956\n",
      "Epoch 90/100\n",
      "13/13 [==============================] - 0s 2ms/step - loss: 130.7927 - mae: 130.7831\n",
      "Epoch 91/100\n",
      "13/13 [==============================] - 0s 2ms/step - loss: 133.7859 - mae: 133.7832\n",
      "Epoch 92/100\n",
      "13/13 [==============================] - 0s 2ms/step - loss: 131.2549 - mae: 131.2386\n",
      "Epoch 93/100\n",
      "13/13 [==============================] - 0s 2ms/step - loss: 129.9697 - mae: 129.9458\n",
      "Epoch 94/100\n",
      "13/13 [==============================] - 0s 2ms/step - loss: 129.3985 - mae: 129.4180\n",
      "Epoch 95/100\n",
      "13/13 [==============================] - 0s 2ms/step - loss: 129.0978 - mae: 129.1023\n",
      "Epoch 96/100\n",
      "13/13 [==============================] - 0s 2ms/step - loss: 129.6250 - mae: 129.6065\n",
      "Epoch 97/100\n",
      "13/13 [==============================] - 0s 2ms/step - loss: 133.8967 - mae: 133.9141\n",
      "Epoch 98/100\n",
      "13/13 [==============================] - 0s 2ms/step - loss: 132.2525 - mae: 132.2732\n",
      "Epoch 99/100\n",
      "13/13 [==============================] - 0s 2ms/step - loss: 129.8106 - mae: 129.8004\n",
      "Epoch 100/100\n",
      "13/13 [==============================] - 0s 2ms/step - loss: 131.2488 - mae: 131.2446\n"
     ]
    }
   ],
   "source": [
    "model_boston = tf.keras.Sequential([\n",
    "    tf.keras.layers.Dense(100,activation='relu'),\n",
    "    tf.keras.layers.Dense(100,activation='relu'),\n",
    "    tf.keras.layers.Dense(100,activation='relu'),\n",
    "    tf.keras.layers.Dense(1)\n",
    "])\n",
    "model_boston.compile(loss=tf.keras.losses.mae,\n",
    "                     optimizer=tf.keras.optimizers.Adam(0.01),\n",
    "                     metrics=['mae']\n",
    "                     )\n",
    "history_boston = model_boston.fit(tf.expand_dims(X_train,axis=-1),y_train,epochs=100)"
   ]
  },
  {
   "cell_type": "code",
   "execution_count": 93,
   "metadata": {
    "colab": {
     "base_uri": "https://localhost:8080/"
    },
    "executionInfo": {
     "elapsed": 16,
     "status": "ok",
     "timestamp": 1673953660177,
     "user": {
      "displayName": "Ujjwal Mk",
      "userId": "12008983132848472926"
     },
     "user_tz": -330
    },
    "id": "jTkCo0Xrq2Lp",
    "outputId": "e2d0b7b8-d680-4227-8e75-7df4b303ffc8"
   },
   "outputs": [
    {
     "name": "stdout",
     "output_type": "stream",
     "text": [
      "4/4 [==============================] - 0s 2ms/step - loss: 147.8603 - mae: 147.8370\n"
     ]
    },
    {
     "data": {
      "text/plain": [
       "[147.86029052734375, 147.83700561523438]"
      ]
     },
     "execution_count": 93,
     "metadata": {},
     "output_type": "execute_result"
    }
   ],
   "source": [
    "model_boston.evaluate(X_test,y_test)"
   ]
  },
  {
   "cell_type": "code",
   "execution_count": 94,
   "metadata": {
    "colab": {
     "base_uri": "https://localhost:8080/",
     "height": 283
    },
    "executionInfo": {
     "elapsed": 523,
     "status": "ok",
     "timestamp": 1673953660692,
     "user": {
      "displayName": "Ujjwal Mk",
      "userId": "12008983132848472926"
     },
     "user_tz": -330
    },
    "id": "iqC9IcH7rbiI",
    "outputId": "d11e6ed0-8343-46cc-f65e-d28dff8bd29e"
   },
   "outputs": [
    {
     "data": {
      "text/plain": [
       "<Axes: >"
      ]
     },
     "execution_count": 94,
     "metadata": {},
     "output_type": "execute_result"
    },
    {
     "data": {
      "image/png": "[encoded data removed]",
      "text/plain": [
       "<Figure size 640x480 with 1 Axes>"
      ]
     },
     "metadata": {},
     "output_type": "display_data"
    }
   ],
   "source": [
    "pd.DataFrame(history_boston.history).plot()"
   ]
  }
 ],
 "metadata": {
  "accelerator": "GPU",
  "colab": {
   "authorship_tag": "ABX9TyNidLF31PLsUgB8TvFShJow",
   "provenance": []
  },
  "gpuClass": "standard",
  "kernelspec": {
   "display_name": "Python 3 (ipykernel)",
   "language": "python",
   "name": "python3"
  },
  "language_info": {
   "codemirror_mode": {
    "name": "ipython",
    "version": 3
   },
   "file_extension": ".py",
   "mimetype": "text/x-python",
   "name": "python",
   "nbconvert_exporter": "python",
   "pygments_lexer": "ipython3",
   "version": "3.9.2"
  },
  "vscode": {
   "interpreter": {
    "hash": "90776d58026cf23f204e10ffddeb023f215096344894fc4b73554138ee1bdcfb"
   }
  }
 },
 "nbformat": 4,
 "nbformat_minor": 4
}
